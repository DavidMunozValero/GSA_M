{
 "cells": [
  {
   "cell_type": "markdown",
   "source": [],
   "metadata": {
    "collapsed": false
   },
   "id": "37c2ffa3421ec86b"
  },
  {
   "cell_type": "code",
   "outputs": [
    {
     "name": "stdout",
     "output_type": "stream",
     "text": [
      "The autoreload extension is already loaded. To reload it, use:\n",
      "  %reload_ext autoreload\n"
     ]
    }
   ],
   "source": [
    "%load_ext autoreload\n",
    "%autoreload 2"
   ],
   "metadata": {
    "collapsed": false,
    "ExecuteTime": {
     "end_time": "2024-02-13T17:57:11.449739Z",
     "start_time": "2024-02-13T17:57:11.432678Z"
    }
   },
   "id": "af8f319d1e0e6966",
   "execution_count": 10
  },
  {
   "cell_type": "code",
   "outputs": [
    {
     "name": "stdout",
     "output_type": "stream",
     "text": [
      "Collecting ucimlrepo\r\n",
      "  Obtaining dependency information for ucimlrepo from https://files.pythonhosted.org/packages/3e/4a/ecc3456479d687202b34ee42317c3a63e09793c9409a720052d38356431a/ucimlrepo-0.0.3-py3-none-any.whl.metadata\r\n",
      "  Downloading ucimlrepo-0.0.3-py3-none-any.whl.metadata (5.2 kB)\r\n",
      "Downloading ucimlrepo-0.0.3-py3-none-any.whl (7.0 kB)\r\n",
      "Installing collected packages: ucimlrepo\r\n",
      "Successfully installed ucimlrepo-0.0.3\r\n",
      "\r\n",
      "\u001B[1m[\u001B[0m\u001B[34;49mnotice\u001B[0m\u001B[1;39;49m]\u001B[0m\u001B[39;49m A new release of pip is available: \u001B[0m\u001B[31;49m23.2.1\u001B[0m\u001B[39;49m -> \u001B[0m\u001B[32;49m24.0\u001B[0m\r\n",
      "\u001B[1m[\u001B[0m\u001B[34;49mnotice\u001B[0m\u001B[1;39;49m]\u001B[0m\u001B[39;49m To update, run: \u001B[0m\u001B[32;49mpip install --upgrade pip\u001B[0m\r\n"
     ]
    }
   ],
   "source": [
    "!pip install ucimlrepo"
   ],
   "metadata": {
    "collapsed": false,
    "ExecuteTime": {
     "end_time": "2024-02-14T11:49:32.252419Z",
     "start_time": "2024-02-14T11:49:31.068086Z"
    }
   },
   "id": "5ba031dd03d78581",
   "execution_count": 1
  },
  {
   "cell_type": "code",
   "outputs": [
    {
     "name": "stdout",
     "output_type": "stream",
     "text": [
      "{'uci_id': 15, 'name': 'Breast Cancer Wisconsin (Original)', 'repository_url': 'https://archive.ics.uci.edu/dataset/15/breast+cancer+wisconsin+original', 'data_url': 'https://archive.ics.uci.edu/static/public/15/data.csv', 'abstract': 'Original Wisconsin Breast Cancer Database', 'area': 'Health and Medicine', 'tasks': ['Classification'], 'characteristics': ['Multivariate'], 'num_instances': 699, 'num_features': 9, 'feature_types': ['Integer'], 'demographics': [], 'target_col': ['Class'], 'index_col': ['Sample_code_number'], 'has_missing_values': 'yes', 'missing_values_symbol': 'NaN', 'year_of_dataset_creation': 1990, 'last_updated': 'Fri Nov 03 2023', 'dataset_doi': '10.24432/C5HP4Z', 'creators': ['WIlliam Wolberg'], 'intro_paper': None, 'additional_info': {'summary': \"Samples arrive periodically as Dr. Wolberg reports his clinical cases. The database therefore reflects this chronological grouping of the data. This grouping information appears immediately below, having been removed from the data itself:\\r\\n\\r\\nGroup 1: 367 instances (January 1989)\\r\\nGroup 2:  70 instances (October 1989)\\r\\nGroup 3:  31 instances (February 1990)\\r\\nGroup 4:  17 instances (April 1990)\\r\\nGroup 5:  48 instances (August 1990)\\r\\nGroup 6:  49 instances (Updated January 1991)\\r\\nGroup 7:  31 instances (June 1991)\\r\\nGroup 8:  86 instances (November 1991)\\r\\n-----------------------------------------\\r\\nTotal:   699 points (as of the donated datbase on 15 July 1992)\\r\\n\\r\\nNote that the results summarized above in Past Usage refer to a dataset of size 369, while Group 1 has only 367 instances.  This is because it originally contained 369 instances; 2 were removed.  The following statements summarizes changes to the original Group 1's set of data:\\r\\n\\r\\n#####  Group 1 : 367 points: 200B 167M (January 1989)\\r\\n\\r\\n#####  Revised Jan 10, 1991: Replaced zero bare nuclei in 1080185 & 1187805\\r\\n\\r\\n#####  Revised Nov 22,1991: Removed 765878,4,5,9,7,10,10,10,3,8,1 no record\\r\\n#####                  : Removed 484201,2,7,8,8,4,3,10,3,4,1 zero epithelial\\r\\n#####                  : Changed 0 to 1 in field 6 of sample 1219406\\r\\n#####                  : Changed 0 to 1 in field 8 of following sample:\\r\\n#####                  : 1182404,2,3,1,1,1,2,0,1,1,1\", 'purpose': None, 'funded_by': None, 'instances_represent': None, 'recommended_data_splits': None, 'sensitive_data': None, 'preprocessing_description': None, 'variable_info': '1. Sample code number:            id number\\r\\n2. Clump Thickness:               1 - 10\\r\\n3. Uniformity of Cell Size:       1 - 10\\r\\n4. Uniformity of Cell Shape:      1 - 10\\r\\n5. Marginal Adhesion:             1 - 10\\r\\n6. Single Epithelial Cell Size:   1 - 10\\r\\n7. Bare Nuclei:                   1 - 10\\r\\n8. Bland Chromatin:               1 - 10\\r\\n9. Normal Nucleoli:               1 - 10\\r\\n10. Mitoses:                       1 - 10\\r\\n11. Class:                        (2 for benign, 4 for malignant)', 'citation': None}}\n",
      "                           name     role         type demographic  \\\n",
      "0            Sample_code_number       ID  Categorical        None   \n",
      "1               Clump_thickness  Feature      Integer        None   \n",
      "2       Uniformity_of_cell_size  Feature      Integer        None   \n",
      "3      Uniformity_of_cell_shape  Feature      Integer        None   \n",
      "4             Marginal_adhesion  Feature      Integer        None   \n",
      "5   Single_epithelial_cell_size  Feature      Integer        None   \n",
      "6                   Bare_nuclei  Feature      Integer        None   \n",
      "7               Bland_chromatin  Feature      Integer        None   \n",
      "8               Normal_nucleoli  Feature      Integer        None   \n",
      "9                       Mitoses  Feature      Integer        None   \n",
      "10                        Class   Target       Binary        None   \n",
      "\n",
      "                  description units missing_values  \n",
      "0                        None  None             no  \n",
      "1                        None  None             no  \n",
      "2                        None  None             no  \n",
      "3                        None  None             no  \n",
      "4                        None  None             no  \n",
      "5                        None  None             no  \n",
      "6                        None  None            yes  \n",
      "7                        None  None             no  \n",
      "8                        None  None             no  \n",
      "9                        None  None             no  \n",
      "10  2 = benign, 4 = malignant  None             no  \n"
     ]
    },
    {
     "name": "stderr",
     "output_type": "stream",
     "text": [
      "/var/folders/_n/lz98rzln403f9jgxhtvhf_wr0000gn/T/ipykernel_79145/2362441507.py:10: SettingWithCopyWarning: \n",
      "A value is trying to be set on a copy of a slice from a DataFrame\n",
      "\n",
      "See the caveats in the documentation: https://pandas.pydata.org/pandas-docs/stable/user_guide/indexing.html#returning-a-view-versus-a-copy\n",
      "  X.fillna(value=0, inplace=True)\n"
     ]
    }
   ],
   "source": [
    "from ucimlrepo import fetch_ucirepo \n",
    "  \n",
    "# fetch dataset \n",
    "breast_cancer_wisconsin_original = fetch_ucirepo(id=15) \n",
    "  \n",
    "# data (as pandas dataframes) \n",
    "X = breast_cancer_wisconsin_original.data.features \n",
    "y = breast_cancer_wisconsin_original.data.targets \n",
    "\n",
    "X.fillna(value=0, inplace=True)\n",
    "\n",
    "# metadata \n",
    "print(breast_cancer_wisconsin_original.metadata) \n",
    "  \n",
    "# variable information \n",
    "print(breast_cancer_wisconsin_original.variables) "
   ],
   "metadata": {
    "collapsed": false,
    "ExecuteTime": {
     "end_time": "2024-02-14T12:17:28.521484Z",
     "start_time": "2024-02-14T12:17:26.266056Z"
    }
   },
   "id": "f4de9899e9ee39a5",
   "execution_count": 30
  },
  {
   "cell_type": "code",
   "outputs": [
    {
     "name": "stdout",
     "output_type": "stream",
     "text": [
      "<bound method NDFrame.describe of      Clump_thickness  Uniformity_of_cell_size  Uniformity_of_cell_shape  \\\n",
      "0                  5                        1                         1   \n",
      "1                  5                        4                         4   \n",
      "2                  3                        1                         1   \n",
      "3                  6                        8                         8   \n",
      "4                  4                        1                         1   \n",
      "..               ...                      ...                       ...   \n",
      "694                3                        1                         1   \n",
      "695                2                        1                         1   \n",
      "696                5                       10                        10   \n",
      "697                4                        8                         6   \n",
      "698                4                        8                         8   \n",
      "\n",
      "     Marginal_adhesion  Single_epithelial_cell_size  Bare_nuclei  \\\n",
      "0                    1                            2          1.0   \n",
      "1                    5                            7         10.0   \n",
      "2                    1                            2          2.0   \n",
      "3                    1                            3          4.0   \n",
      "4                    3                            2          1.0   \n",
      "..                 ...                          ...          ...   \n",
      "694                  1                            3          2.0   \n",
      "695                  1                            2          1.0   \n",
      "696                  3                            7          3.0   \n",
      "697                  4                            3          4.0   \n",
      "698                  5                            4          5.0   \n",
      "\n",
      "     Bland_chromatin  Normal_nucleoli  Mitoses  \n",
      "0                  3                1        1  \n",
      "1                  3                2        1  \n",
      "2                  3                1        1  \n",
      "3                  3                7        1  \n",
      "4                  3                1        1  \n",
      "..               ...              ...      ...  \n",
      "694                1                1        1  \n",
      "695                1                1        1  \n",
      "696                8               10        2  \n",
      "697               10                6        1  \n",
      "698               10                4        1  \n",
      "\n",
      "[699 rows x 9 columns]>\n",
      "<bound method NDFrame.describe of      Class\n",
      "0        2\n",
      "1        2\n",
      "2        2\n",
      "3        2\n",
      "4        2\n",
      "..     ...\n",
      "694      2\n",
      "695      2\n",
      "696      4\n",
      "697      4\n",
      "698      4\n",
      "\n",
      "[699 rows x 1 columns]>\n"
     ]
    }
   ],
   "source": [
    "print(X.describe)\n",
    "print(y.describe)"
   ],
   "metadata": {
    "collapsed": false,
    "ExecuteTime": {
     "end_time": "2024-02-14T12:17:30.416491Z",
     "start_time": "2024-02-14T12:17:30.412738Z"
    }
   },
   "id": "4bf6097f036ba970",
   "execution_count": 31
  },
  {
   "cell_type": "code",
   "outputs": [],
   "source": [
    "from sklearn.model_selection import train_test_split\n",
    "\n",
    "X_train, X_test, y_train, y_test = train_test_split(X, y, test_size = 0.20, random_state=5)"
   ],
   "metadata": {
    "collapsed": false,
    "ExecuteTime": {
     "end_time": "2024-02-14T12:17:32.504713Z",
     "start_time": "2024-02-14T12:17:32.499754Z"
    }
   },
   "id": "aa7b4dc1d1fe236b",
   "execution_count": 32
  },
  {
   "cell_type": "code",
   "outputs": [],
   "source": [
    "min_train = X_train.min()\n",
    "range_train = (X_train - min_train).max()\n",
    "X_train_scaled = (X_train - min_train)/range_train\n",
    "\n",
    "min_test = X_test.min()\n",
    "range_test = (X_test - min_test).max()\n",
    "X_test_scaled = (X_test - min_test)/range_test"
   ],
   "metadata": {
    "collapsed": false,
    "ExecuteTime": {
     "end_time": "2024-02-14T12:17:34.909354Z",
     "start_time": "2024-02-14T12:17:34.899918Z"
    }
   },
   "id": "ada10d51868be2eb",
   "execution_count": 33
  },
  {
   "cell_type": "code",
   "outputs": [
    {
     "data": {
      "text/plain": "     Clump_thickness  Uniformity_of_cell_size  Uniformity_of_cell_shape  \\\n129         0.000000                 0.000000                  0.000000   \n574         1.000000                 0.888889                  0.666667   \n445         0.111111                 0.000000                  0.000000   \n488         0.222222                 0.555556                  0.333333   \n605         1.000000                 0.444444                  1.000000   \n\n     Marginal_adhesion  Single_epithelial_cell_size  Bare_nuclei  \\\n129           0.000000                     1.000000          0.1   \n574           0.222222                     0.333333          0.2   \n445           0.000000                     0.111111          0.1   \n488           1.000000                     0.222222          0.3   \n605           0.222222                     0.444444          0.8   \n\n     Bland_chromatin  Normal_nucleoli   Mitoses  \n129         0.000000         0.000000  0.000000  \n574         0.666667         0.666667  0.000000  \n445         0.000000         0.000000  0.000000  \n488         0.222222         0.333333  0.000000  \n605         0.666667         0.777778  0.222222  ",
      "text/html": "<div>\n<style scoped>\n    .dataframe tbody tr th:only-of-type {\n        vertical-align: middle;\n    }\n\n    .dataframe tbody tr th {\n        vertical-align: top;\n    }\n\n    .dataframe thead th {\n        text-align: right;\n    }\n</style>\n<table border=\"1\" class=\"dataframe\">\n  <thead>\n    <tr style=\"text-align: right;\">\n      <th></th>\n      <th>Clump_thickness</th>\n      <th>Uniformity_of_cell_size</th>\n      <th>Uniformity_of_cell_shape</th>\n      <th>Marginal_adhesion</th>\n      <th>Single_epithelial_cell_size</th>\n      <th>Bare_nuclei</th>\n      <th>Bland_chromatin</th>\n      <th>Normal_nucleoli</th>\n      <th>Mitoses</th>\n    </tr>\n  </thead>\n  <tbody>\n    <tr>\n      <th>129</th>\n      <td>0.000000</td>\n      <td>0.000000</td>\n      <td>0.000000</td>\n      <td>0.000000</td>\n      <td>1.000000</td>\n      <td>0.1</td>\n      <td>0.000000</td>\n      <td>0.000000</td>\n      <td>0.000000</td>\n    </tr>\n    <tr>\n      <th>574</th>\n      <td>1.000000</td>\n      <td>0.888889</td>\n      <td>0.666667</td>\n      <td>0.222222</td>\n      <td>0.333333</td>\n      <td>0.2</td>\n      <td>0.666667</td>\n      <td>0.666667</td>\n      <td>0.000000</td>\n    </tr>\n    <tr>\n      <th>445</th>\n      <td>0.111111</td>\n      <td>0.000000</td>\n      <td>0.000000</td>\n      <td>0.000000</td>\n      <td>0.111111</td>\n      <td>0.1</td>\n      <td>0.000000</td>\n      <td>0.000000</td>\n      <td>0.000000</td>\n    </tr>\n    <tr>\n      <th>488</th>\n      <td>0.222222</td>\n      <td>0.555556</td>\n      <td>0.333333</td>\n      <td>1.000000</td>\n      <td>0.222222</td>\n      <td>0.3</td>\n      <td>0.222222</td>\n      <td>0.333333</td>\n      <td>0.000000</td>\n    </tr>\n    <tr>\n      <th>605</th>\n      <td>1.000000</td>\n      <td>0.444444</td>\n      <td>1.000000</td>\n      <td>0.222222</td>\n      <td>0.444444</td>\n      <td>0.8</td>\n      <td>0.666667</td>\n      <td>0.777778</td>\n      <td>0.222222</td>\n    </tr>\n  </tbody>\n</table>\n</div>"
     },
     "execution_count": 41,
     "metadata": {},
     "output_type": "execute_result"
    }
   ],
   "source": [
    "X_train_scaled.head()"
   ],
   "metadata": {
    "collapsed": false,
    "ExecuteTime": {
     "end_time": "2024-02-14T13:44:53.780587Z",
     "start_time": "2024-02-14T13:44:53.775281Z"
    }
   },
   "id": "c4fd4c9d4185ec31",
   "execution_count": 41
  },
  {
   "cell_type": "code",
   "outputs": [],
   "source": [
    "import numpy as np\n",
    "\n",
    "from sklearn.svm import SVC\n",
    "from sklearn.metrics import classification_report, confusion_matrix\n",
    "\n",
    "svc_model = SVC()\n",
    "svc_model.fit(X_train_scaled, np.ravel(y_train))\n",
    "y_predict = svc_model.predict(X_test_scaled)\n",
    "cm = confusion_matrix(y_test, y_predict)"
   ],
   "metadata": {
    "collapsed": false,
    "ExecuteTime": {
     "end_time": "2024-02-14T12:18:31.330460Z",
     "start_time": "2024-02-14T12:18:31.319306Z"
    }
   },
   "id": "28e1efe3b9d3e7aa",
   "execution_count": 36
  },
  {
   "cell_type": "code",
   "outputs": [
    {
     "data": {
      "text/plain": "array([[86,  5],\n       [ 2, 47]])"
     },
     "execution_count": 44,
     "metadata": {},
     "output_type": "execute_result"
    }
   ],
   "source": [
    "cm"
   ],
   "metadata": {
    "collapsed": false,
    "ExecuteTime": {
     "end_time": "2024-02-14T13:59:27.352059Z",
     "start_time": "2024-02-14T13:59:27.345583Z"
    }
   },
   "id": "4cc127af2e3bd650",
   "execution_count": 44
  },
  {
   "cell_type": "code",
   "outputs": [
    {
     "name": "stdout",
     "output_type": "stream",
     "text": [
      "Fitting 5 folds for each of 16 candidates, totalling 80 fits\n",
      "[CV 1/5] END ........C=0.1, gamma=1, kernel=rbf;, score=0.964 total time=   0.0s\n",
      "[CV 2/5] END ........C=0.1, gamma=1, kernel=rbf;, score=0.973 total time=   0.0s\n",
      "[CV 3/5] END ........C=0.1, gamma=1, kernel=rbf;, score=0.964 total time=   0.0s\n",
      "[CV 4/5] END ........C=0.1, gamma=1, kernel=rbf;, score=0.973 total time=   0.0s\n",
      "[CV 5/5] END ........C=0.1, gamma=1, kernel=rbf;, score=1.000 total time=   0.0s\n",
      "[CV 1/5] END ......C=0.1, gamma=0.1, kernel=rbf;, score=0.964 total time=   0.0s\n",
      "[CV 2/5] END ......C=0.1, gamma=0.1, kernel=rbf;, score=0.964 total time=   0.0s\n",
      "[CV 3/5] END ......C=0.1, gamma=0.1, kernel=rbf;, score=0.973 total time=   0.0s\n",
      "[CV 4/5] END ......C=0.1, gamma=0.1, kernel=rbf;, score=0.964 total time=   0.0s\n",
      "[CV 5/5] END ......C=0.1, gamma=0.1, kernel=rbf;, score=0.964 total time=   0.0s\n",
      "[CV 1/5] END .....C=0.1, gamma=0.01, kernel=rbf;, score=0.679 total time=   0.0s\n",
      "[CV 2/5] END .....C=0.1, gamma=0.01, kernel=rbf;, score=0.661 total time=   0.0s\n",
      "[CV 3/5] END .....C=0.1, gamma=0.01, kernel=rbf;, score=0.652 total time=   0.0s\n",
      "[CV 4/5] END .....C=0.1, gamma=0.01, kernel=rbf;, score=0.652 total time=   0.0s\n",
      "[CV 5/5] END .....C=0.1, gamma=0.01, kernel=rbf;, score=0.667 total time=   0.0s\n",
      "[CV 1/5] END ....C=0.1, gamma=0.001, kernel=rbf;, score=0.661 total time=   0.0s\n",
      "[CV 2/5] END ....C=0.1, gamma=0.001, kernel=rbf;, score=0.661 total time=   0.0s\n",
      "[CV 3/5] END ....C=0.1, gamma=0.001, kernel=rbf;, score=0.652 total time=   0.0s\n",
      "[CV 4/5] END ....C=0.1, gamma=0.001, kernel=rbf;, score=0.652 total time=   0.0s\n",
      "[CV 5/5] END ....C=0.1, gamma=0.001, kernel=rbf;, score=0.658 total time=   0.0s\n",
      "[CV 1/5] END ..........C=1, gamma=1, kernel=rbf;, score=0.964 total time=   0.0s\n",
      "[CV 2/5] END ..........C=1, gamma=1, kernel=rbf;, score=0.982 total time=   0.0s\n",
      "[CV 3/5] END ..........C=1, gamma=1, kernel=rbf;, score=0.964 total time=   0.0s\n",
      "[CV 4/5] END ..........C=1, gamma=1, kernel=rbf;, score=0.964 total time=   0.0s\n",
      "[CV 5/5] END ..........C=1, gamma=1, kernel=rbf;, score=0.991 total time=   0.0s\n",
      "[CV 1/5] END ........C=1, gamma=0.1, kernel=rbf;, score=0.964 total time=   0.0s\n",
      "[CV 2/5] END ........C=1, gamma=0.1, kernel=rbf;, score=0.982 total time=   0.0s\n",
      "[CV 3/5] END ........C=1, gamma=0.1, kernel=rbf;, score=0.973 total time=   0.0s\n",
      "[CV 4/5] END ........C=1, gamma=0.1, kernel=rbf;, score=0.964 total time=   0.0s\n",
      "[CV 5/5] END ........C=1, gamma=0.1, kernel=rbf;, score=0.991 total time=   0.0s\n",
      "[CV 1/5] END .......C=1, gamma=0.01, kernel=rbf;, score=0.964 total time=   0.0s\n",
      "[CV 2/5] END .......C=1, gamma=0.01, kernel=rbf;, score=0.964 total time=   0.0s\n",
      "[CV 3/5] END .......C=1, gamma=0.01, kernel=rbf;, score=0.973 total time=   0.0s\n",
      "[CV 4/5] END .......C=1, gamma=0.01, kernel=rbf;, score=0.964 total time=   0.0s\n",
      "[CV 5/5] END .......C=1, gamma=0.01, kernel=rbf;, score=0.964 total time=   0.0s\n",
      "[CV 1/5] END ......C=1, gamma=0.001, kernel=rbf;, score=0.679 total time=   0.0s\n",
      "[CV 2/5] END ......C=1, gamma=0.001, kernel=rbf;, score=0.670 total time=   0.0s\n",
      "[CV 3/5] END ......C=1, gamma=0.001, kernel=rbf;, score=0.661 total time=   0.0s\n",
      "[CV 4/5] END ......C=1, gamma=0.001, kernel=rbf;, score=0.670 total time=   0.0s\n",
      "[CV 5/5] END ......C=1, gamma=0.001, kernel=rbf;, score=0.667 total time=   0.0s\n",
      "[CV 1/5] END .........C=10, gamma=1, kernel=rbf;, score=0.946 total time=   0.0s\n",
      "[CV 2/5] END .........C=10, gamma=1, kernel=rbf;, score=0.982 total time=   0.0s\n",
      "[CV 3/5] END .........C=10, gamma=1, kernel=rbf;, score=0.964 total time=   0.0s\n",
      "[CV 4/5] END .........C=10, gamma=1, kernel=rbf;, score=0.964 total time=   0.0s\n",
      "[CV 5/5] END .........C=10, gamma=1, kernel=rbf;, score=0.982 total time=   0.0s\n",
      "[CV 1/5] END .......C=10, gamma=0.1, kernel=rbf;, score=0.955 total time=   0.0s\n",
      "[CV 2/5] END .......C=10, gamma=0.1, kernel=rbf;, score=0.973 total time=   0.0s\n",
      "[CV 3/5] END .......C=10, gamma=0.1, kernel=rbf;, score=0.973 total time=   0.0s\n",
      "[CV 4/5] END .......C=10, gamma=0.1, kernel=rbf;, score=0.964 total time=   0.0s\n",
      "[CV 5/5] END .......C=10, gamma=0.1, kernel=rbf;, score=0.982 total time=   0.0s\n",
      "[CV 1/5] END ......C=10, gamma=0.01, kernel=rbf;, score=0.964 total time=   0.0s\n",
      "[CV 2/5] END ......C=10, gamma=0.01, kernel=rbf;, score=0.982 total time=   0.0s\n",
      "[CV 3/5] END ......C=10, gamma=0.01, kernel=rbf;, score=0.973 total time=   0.0s\n",
      "[CV 4/5] END ......C=10, gamma=0.01, kernel=rbf;, score=0.964 total time=   0.0s\n",
      "[CV 5/5] END ......C=10, gamma=0.01, kernel=rbf;, score=0.991 total time=   0.0s\n",
      "[CV 1/5] END .....C=10, gamma=0.001, kernel=rbf;, score=0.964 total time=   0.0s\n",
      "[CV 2/5] END .....C=10, gamma=0.001, kernel=rbf;, score=0.964 total time=   0.0s\n",
      "[CV 3/5] END .....C=10, gamma=0.001, kernel=rbf;, score=0.973 total time=   0.0s\n",
      "[CV 4/5] END .....C=10, gamma=0.001, kernel=rbf;, score=0.964 total time=   0.0s\n",
      "[CV 5/5] END .....C=10, gamma=0.001, kernel=rbf;, score=0.964 total time=   0.0s\n",
      "[CV 1/5] END ........C=100, gamma=1, kernel=rbf;, score=0.946 total time=   0.0s\n",
      "[CV 2/5] END ........C=100, gamma=1, kernel=rbf;, score=0.938 total time=   0.0s\n",
      "[CV 3/5] END ........C=100, gamma=1, kernel=rbf;, score=0.946 total time=   0.0s\n",
      "[CV 4/5] END ........C=100, gamma=1, kernel=rbf;, score=0.955 total time=   0.0s\n",
      "[CV 5/5] END ........C=100, gamma=1, kernel=rbf;, score=0.973 total time=   0.0s\n",
      "[CV 1/5] END ......C=100, gamma=0.1, kernel=rbf;, score=0.955 total time=   0.0s\n",
      "[CV 2/5] END ......C=100, gamma=0.1, kernel=rbf;, score=0.964 total time=   0.0s\n",
      "[CV 3/5] END ......C=100, gamma=0.1, kernel=rbf;, score=0.964 total time=   0.0s\n",
      "[CV 4/5] END ......C=100, gamma=0.1, kernel=rbf;, score=0.964 total time=   0.0s\n",
      "[CV 5/5] END ......C=100, gamma=0.1, kernel=rbf;, score=0.982 total time=   0.0s\n",
      "[CV 1/5] END .....C=100, gamma=0.01, kernel=rbf;, score=0.955 total time=   0.0s\n",
      "[CV 2/5] END .....C=100, gamma=0.01, kernel=rbf;, score=0.973 total time=   0.0s\n",
      "[CV 3/5] END .....C=100, gamma=0.01, kernel=rbf;, score=0.973 total time=   0.0s\n",
      "[CV 4/5] END .....C=100, gamma=0.01, kernel=rbf;, score=0.964 total time=   0.0s\n",
      "[CV 5/5] END .....C=100, gamma=0.01, kernel=rbf;, score=0.982 total time=   0.0s\n",
      "[CV 1/5] END ....C=100, gamma=0.001, kernel=rbf;, score=0.964 total time=   0.0s\n",
      "[CV 2/5] END ....C=100, gamma=0.001, kernel=rbf;, score=0.982 total time=   0.0s\n",
      "[CV 3/5] END ....C=100, gamma=0.001, kernel=rbf;, score=0.973 total time=   0.0s\n",
      "[CV 4/5] END ....C=100, gamma=0.001, kernel=rbf;, score=0.964 total time=   0.0s\n",
      "[CV 5/5] END ....C=100, gamma=0.001, kernel=rbf;, score=0.991 total time=   0.0s\n"
     ]
    },
    {
     "data": {
      "text/plain": "GridSearchCV(estimator=SVC(),\n             param_grid={'C': [0.1, 1, 10, 100], 'gamma': [1, 0.1, 0.01, 0.001],\n                         'kernel': ['rbf']},\n             verbose=4)",
      "text/html": "<style>#sk-container-id-2 {\n  /* Definition of color scheme common for light and dark mode */\n  --sklearn-color-text: black;\n  --sklearn-color-line: gray;\n  /* Definition of color scheme for unfitted estimators */\n  --sklearn-color-unfitted-level-0: #fff5e6;\n  --sklearn-color-unfitted-level-1: #f6e4d2;\n  --sklearn-color-unfitted-level-2: #ffe0b3;\n  --sklearn-color-unfitted-level-3: chocolate;\n  /* Definition of color scheme for fitted estimators */\n  --sklearn-color-fitted-level-0: #f0f8ff;\n  --sklearn-color-fitted-level-1: #d4ebff;\n  --sklearn-color-fitted-level-2: #b3dbfd;\n  --sklearn-color-fitted-level-3: cornflowerblue;\n\n  /* Specific color for light theme */\n  --sklearn-color-text-on-default-background: var(--sg-text-color, var(--theme-code-foreground, var(--jp-content-font-color1, black)));\n  --sklearn-color-background: var(--sg-background-color, var(--theme-background, var(--jp-layout-color0, white)));\n  --sklearn-color-border-box: var(--sg-text-color, var(--theme-code-foreground, var(--jp-content-font-color1, black)));\n  --sklearn-color-icon: #696969;\n\n  @media (prefers-color-scheme: dark) {\n    /* Redefinition of color scheme for dark theme */\n    --sklearn-color-text-on-default-background: var(--sg-text-color, var(--theme-code-foreground, var(--jp-content-font-color1, white)));\n    --sklearn-color-background: var(--sg-background-color, var(--theme-background, var(--jp-layout-color0, #111)));\n    --sklearn-color-border-box: var(--sg-text-color, var(--theme-code-foreground, var(--jp-content-font-color1, white)));\n    --sklearn-color-icon: #878787;\n  }\n}\n\n#sk-container-id-2 {\n  color: var(--sklearn-color-text);\n}\n\n#sk-container-id-2 pre {\n  padding: 0;\n}\n\n#sk-container-id-2 input.sk-hidden--visually {\n  border: 0;\n  clip: rect(1px 1px 1px 1px);\n  clip: rect(1px, 1px, 1px, 1px);\n  height: 1px;\n  margin: -1px;\n  overflow: hidden;\n  padding: 0;\n  position: absolute;\n  width: 1px;\n}\n\n#sk-container-id-2 div.sk-dashed-wrapped {\n  border: 1px dashed var(--sklearn-color-line);\n  margin: 0 0.4em 0.5em 0.4em;\n  box-sizing: border-box;\n  padding-bottom: 0.4em;\n  background-color: var(--sklearn-color-background);\n}\n\n#sk-container-id-2 div.sk-container {\n  /* jupyter's `normalize.less` sets `[hidden] { display: none; }`\n     but bootstrap.min.css set `[hidden] { display: none !important; }`\n     so we also need the `!important` here to be able to override the\n     default hidden behavior on the sphinx rendered scikit-learn.org.\n     See: https://github.com/scikit-learn/scikit-learn/issues/21755 */\n  display: inline-block !important;\n  position: relative;\n}\n\n#sk-container-id-2 div.sk-text-repr-fallback {\n  display: none;\n}\n\ndiv.sk-parallel-item,\ndiv.sk-serial,\ndiv.sk-item {\n  /* draw centered vertical line to link estimators */\n  background-image: linear-gradient(var(--sklearn-color-text-on-default-background), var(--sklearn-color-text-on-default-background));\n  background-size: 2px 100%;\n  background-repeat: no-repeat;\n  background-position: center center;\n}\n\n/* Parallel-specific style estimator block */\n\n#sk-container-id-2 div.sk-parallel-item::after {\n  content: \"\";\n  width: 100%;\n  border-bottom: 2px solid var(--sklearn-color-text-on-default-background);\n  flex-grow: 1;\n}\n\n#sk-container-id-2 div.sk-parallel {\n  display: flex;\n  align-items: stretch;\n  justify-content: center;\n  background-color: var(--sklearn-color-background);\n  position: relative;\n}\n\n#sk-container-id-2 div.sk-parallel-item {\n  display: flex;\n  flex-direction: column;\n}\n\n#sk-container-id-2 div.sk-parallel-item:first-child::after {\n  align-self: flex-end;\n  width: 50%;\n}\n\n#sk-container-id-2 div.sk-parallel-item:last-child::after {\n  align-self: flex-start;\n  width: 50%;\n}\n\n#sk-container-id-2 div.sk-parallel-item:only-child::after {\n  width: 0;\n}\n\n/* Serial-specific style estimator block */\n\n#sk-container-id-2 div.sk-serial {\n  display: flex;\n  flex-direction: column;\n  align-items: center;\n  background-color: var(--sklearn-color-background);\n  padding-right: 1em;\n  padding-left: 1em;\n}\n\n\n/* Toggleable style: style used for estimator/Pipeline/ColumnTransformer box that is\nclickable and can be expanded/collapsed.\n- Pipeline and ColumnTransformer use this feature and define the default style\n- Estimators will overwrite some part of the style using the `sk-estimator` class\n*/\n\n/* Pipeline and ColumnTransformer style (default) */\n\n#sk-container-id-2 div.sk-toggleable {\n  /* Default theme specific background. It is overwritten whether we have a\n  specific estimator or a Pipeline/ColumnTransformer */\n  background-color: var(--sklearn-color-background);\n}\n\n/* Toggleable label */\n#sk-container-id-2 label.sk-toggleable__label {\n  cursor: pointer;\n  display: block;\n  width: 100%;\n  margin-bottom: 0;\n  padding: 0.5em;\n  box-sizing: border-box;\n  text-align: center;\n}\n\n#sk-container-id-2 label.sk-toggleable__label-arrow:before {\n  /* Arrow on the left of the label */\n  content: \"▸\";\n  float: left;\n  margin-right: 0.25em;\n  color: var(--sklearn-color-icon);\n}\n\n#sk-container-id-2 label.sk-toggleable__label-arrow:hover:before {\n  color: var(--sklearn-color-text);\n}\n\n/* Toggleable content - dropdown */\n\n#sk-container-id-2 div.sk-toggleable__content {\n  max-height: 0;\n  max-width: 0;\n  overflow: hidden;\n  text-align: left;\n  /* unfitted */\n  background-color: var(--sklearn-color-unfitted-level-0);\n}\n\n#sk-container-id-2 div.sk-toggleable__content.fitted {\n  /* fitted */\n  background-color: var(--sklearn-color-fitted-level-0);\n}\n\n#sk-container-id-2 div.sk-toggleable__content pre {\n  margin: 0.2em;\n  border-radius: 0.25em;\n  color: var(--sklearn-color-text);\n  /* unfitted */\n  background-color: var(--sklearn-color-unfitted-level-0);\n}\n\n#sk-container-id-2 div.sk-toggleable__content.fitted pre {\n  /* unfitted */\n  background-color: var(--sklearn-color-fitted-level-0);\n}\n\n#sk-container-id-2 input.sk-toggleable__control:checked~div.sk-toggleable__content {\n  /* Expand drop-down */\n  max-height: 200px;\n  max-width: 100%;\n  overflow: auto;\n}\n\n#sk-container-id-2 input.sk-toggleable__control:checked~label.sk-toggleable__label-arrow:before {\n  content: \"▾\";\n}\n\n/* Pipeline/ColumnTransformer-specific style */\n\n#sk-container-id-2 div.sk-label input.sk-toggleable__control:checked~label.sk-toggleable__label {\n  color: var(--sklearn-color-text);\n  background-color: var(--sklearn-color-unfitted-level-2);\n}\n\n#sk-container-id-2 div.sk-label.fitted input.sk-toggleable__control:checked~label.sk-toggleable__label {\n  background-color: var(--sklearn-color-fitted-level-2);\n}\n\n/* Estimator-specific style */\n\n/* Colorize estimator box */\n#sk-container-id-2 div.sk-estimator input.sk-toggleable__control:checked~label.sk-toggleable__label {\n  /* unfitted */\n  background-color: var(--sklearn-color-unfitted-level-2);\n}\n\n#sk-container-id-2 div.sk-estimator.fitted input.sk-toggleable__control:checked~label.sk-toggleable__label {\n  /* fitted */\n  background-color: var(--sklearn-color-fitted-level-2);\n}\n\n#sk-container-id-2 div.sk-label label.sk-toggleable__label,\n#sk-container-id-2 div.sk-label label {\n  /* The background is the default theme color */\n  color: var(--sklearn-color-text-on-default-background);\n}\n\n/* On hover, darken the color of the background */\n#sk-container-id-2 div.sk-label:hover label.sk-toggleable__label {\n  color: var(--sklearn-color-text);\n  background-color: var(--sklearn-color-unfitted-level-2);\n}\n\n/* Label box, darken color on hover, fitted */\n#sk-container-id-2 div.sk-label.fitted:hover label.sk-toggleable__label.fitted {\n  color: var(--sklearn-color-text);\n  background-color: var(--sklearn-color-fitted-level-2);\n}\n\n/* Estimator label */\n\n#sk-container-id-2 div.sk-label label {\n  font-family: monospace;\n  font-weight: bold;\n  display: inline-block;\n  line-height: 1.2em;\n}\n\n#sk-container-id-2 div.sk-label-container {\n  text-align: center;\n}\n\n/* Estimator-specific */\n#sk-container-id-2 div.sk-estimator {\n  font-family: monospace;\n  border: 1px dotted var(--sklearn-color-border-box);\n  border-radius: 0.25em;\n  box-sizing: border-box;\n  margin-bottom: 0.5em;\n  /* unfitted */\n  background-color: var(--sklearn-color-unfitted-level-0);\n}\n\n#sk-container-id-2 div.sk-estimator.fitted {\n  /* fitted */\n  background-color: var(--sklearn-color-fitted-level-0);\n}\n\n/* on hover */\n#sk-container-id-2 div.sk-estimator:hover {\n  /* unfitted */\n  background-color: var(--sklearn-color-unfitted-level-2);\n}\n\n#sk-container-id-2 div.sk-estimator.fitted:hover {\n  /* fitted */\n  background-color: var(--sklearn-color-fitted-level-2);\n}\n\n/* Specification for estimator info (e.g. \"i\" and \"?\") */\n\n/* Common style for \"i\" and \"?\" */\n\n.sk-estimator-doc-link,\na:link.sk-estimator-doc-link,\na:visited.sk-estimator-doc-link {\n  float: right;\n  font-size: smaller;\n  line-height: 1em;\n  font-family: monospace;\n  background-color: var(--sklearn-color-background);\n  border-radius: 1em;\n  height: 1em;\n  width: 1em;\n  text-decoration: none !important;\n  margin-left: 1ex;\n  /* unfitted */\n  border: var(--sklearn-color-unfitted-level-1) 1pt solid;\n  color: var(--sklearn-color-unfitted-level-1);\n}\n\n.sk-estimator-doc-link.fitted,\na:link.sk-estimator-doc-link.fitted,\na:visited.sk-estimator-doc-link.fitted {\n  /* fitted */\n  border: var(--sklearn-color-fitted-level-1) 1pt solid;\n  color: var(--sklearn-color-fitted-level-1);\n}\n\n/* On hover */\ndiv.sk-estimator:hover .sk-estimator-doc-link:hover,\n.sk-estimator-doc-link:hover,\ndiv.sk-label-container:hover .sk-estimator-doc-link:hover,\n.sk-estimator-doc-link:hover {\n  /* unfitted */\n  background-color: var(--sklearn-color-unfitted-level-3);\n  color: var(--sklearn-color-background);\n  text-decoration: none;\n}\n\ndiv.sk-estimator.fitted:hover .sk-estimator-doc-link.fitted:hover,\n.sk-estimator-doc-link.fitted:hover,\ndiv.sk-label-container:hover .sk-estimator-doc-link.fitted:hover,\n.sk-estimator-doc-link.fitted:hover {\n  /* fitted */\n  background-color: var(--sklearn-color-fitted-level-3);\n  color: var(--sklearn-color-background);\n  text-decoration: none;\n}\n\n/* Span, style for the box shown on hovering the info icon */\n.sk-estimator-doc-link span {\n  display: none;\n  z-index: 9999;\n  position: relative;\n  font-weight: normal;\n  right: .2ex;\n  padding: .5ex;\n  margin: .5ex;\n  width: min-content;\n  min-width: 20ex;\n  max-width: 50ex;\n  color: var(--sklearn-color-text);\n  box-shadow: 2pt 2pt 4pt #999;\n  /* unfitted */\n  background: var(--sklearn-color-unfitted-level-0);\n  border: .5pt solid var(--sklearn-color-unfitted-level-3);\n}\n\n.sk-estimator-doc-link.fitted span {\n  /* fitted */\n  background: var(--sklearn-color-fitted-level-0);\n  border: var(--sklearn-color-fitted-level-3);\n}\n\n.sk-estimator-doc-link:hover span {\n  display: block;\n}\n\n/* \"?\"-specific style due to the `<a>` HTML tag */\n\n#sk-container-id-2 a.estimator_doc_link {\n  float: right;\n  font-size: 1rem;\n  line-height: 1em;\n  font-family: monospace;\n  background-color: var(--sklearn-color-background);\n  border-radius: 1rem;\n  height: 1rem;\n  width: 1rem;\n  text-decoration: none;\n  /* unfitted */\n  color: var(--sklearn-color-unfitted-level-1);\n  border: var(--sklearn-color-unfitted-level-1) 1pt solid;\n}\n\n#sk-container-id-2 a.estimator_doc_link.fitted {\n  /* fitted */\n  border: var(--sklearn-color-fitted-level-1) 1pt solid;\n  color: var(--sklearn-color-fitted-level-1);\n}\n\n/* On hover */\n#sk-container-id-2 a.estimator_doc_link:hover {\n  /* unfitted */\n  background-color: var(--sklearn-color-unfitted-level-3);\n  color: var(--sklearn-color-background);\n  text-decoration: none;\n}\n\n#sk-container-id-2 a.estimator_doc_link.fitted:hover {\n  /* fitted */\n  background-color: var(--sklearn-color-fitted-level-3);\n}\n</style><div id=\"sk-container-id-2\" class=\"sk-top-container\"><div class=\"sk-text-repr-fallback\"><pre>GridSearchCV(estimator=SVC(),\n             param_grid={&#x27;C&#x27;: [0.1, 1, 10, 100], &#x27;gamma&#x27;: [1, 0.1, 0.01, 0.001],\n                         &#x27;kernel&#x27;: [&#x27;rbf&#x27;]},\n             verbose=4)</pre><b>In a Jupyter environment, please rerun this cell to show the HTML representation or trust the notebook. <br />On GitHub, the HTML representation is unable to render, please try loading this page with nbviewer.org.</b></div><div class=\"sk-container\" hidden><div class=\"sk-item sk-dashed-wrapped\"><div class=\"sk-label-container\"><div class=\"sk-label fitted sk-toggleable\"><input class=\"sk-toggleable__control sk-hidden--visually\" id=\"sk-estimator-id-4\" type=\"checkbox\" ><label for=\"sk-estimator-id-4\" class=\"sk-toggleable__label fitted sk-toggleable__label-arrow fitted\">&nbsp;&nbsp;GridSearchCV<a class=\"sk-estimator-doc-link fitted\" rel=\"noreferrer\" target=\"_blank\" href=\"https://scikit-learn.org/1.4/modules/generated/sklearn.model_selection.GridSearchCV.html\">?<span>Documentation for GridSearchCV</span></a><span class=\"sk-estimator-doc-link fitted\">i<span>Fitted</span></span></label><div class=\"sk-toggleable__content fitted\"><pre>GridSearchCV(estimator=SVC(),\n             param_grid={&#x27;C&#x27;: [0.1, 1, 10, 100], &#x27;gamma&#x27;: [1, 0.1, 0.01, 0.001],\n                         &#x27;kernel&#x27;: [&#x27;rbf&#x27;]},\n             verbose=4)</pre></div> </div></div><div class=\"sk-parallel\"><div class=\"sk-parallel-item\"><div class=\"sk-item\"><div class=\"sk-label-container\"><div class=\"sk-label fitted sk-toggleable\"><input class=\"sk-toggleable__control sk-hidden--visually\" id=\"sk-estimator-id-5\" type=\"checkbox\" ><label for=\"sk-estimator-id-5\" class=\"sk-toggleable__label fitted sk-toggleable__label-arrow fitted\">estimator: SVC</label><div class=\"sk-toggleable__content fitted\"><pre>SVC()</pre></div> </div></div><div class=\"sk-serial\"><div class=\"sk-item\"><div class=\"sk-estimator fitted sk-toggleable\"><input class=\"sk-toggleable__control sk-hidden--visually\" id=\"sk-estimator-id-6\" type=\"checkbox\" ><label for=\"sk-estimator-id-6\" class=\"sk-toggleable__label fitted sk-toggleable__label-arrow fitted\">&nbsp;SVC<a class=\"sk-estimator-doc-link fitted\" rel=\"noreferrer\" target=\"_blank\" href=\"https://scikit-learn.org/1.4/modules/generated/sklearn.svm.SVC.html\">?<span>Documentation for SVC</span></a></label><div class=\"sk-toggleable__content fitted\"><pre>SVC()</pre></div> </div></div></div></div></div></div></div></div></div>"
     },
     "execution_count": 39,
     "metadata": {},
     "output_type": "execute_result"
    }
   ],
   "source": [
    "from sklearn.model_selection import GridSearchCV\n",
    "\n",
    "param_grid = {\"C\": [0.1, 1, 10, 100], \"gamma\": [1, 0.1, 0.01, 0.001], \"kernel\": [\"rbf\"]}\n",
    "grid = GridSearchCV(SVC(), param_grid, refit=True, verbose=4)\n",
    "grid.fit(X_train_scaled, np.ravel(y_train))"
   ],
   "metadata": {
    "collapsed": false,
    "ExecuteTime": {
     "end_time": "2024-02-14T12:20:33.583458Z",
     "start_time": "2024-02-14T12:20:33.397144Z"
    }
   },
   "id": "31f879786cc5d42e",
   "execution_count": 39
  },
  {
   "cell_type": "code",
   "outputs": [
    {
     "data": {
      "text/plain": "{'C': 0.1, 'gamma': 1, 'kernel': 'rbf'}"
     },
     "execution_count": 40,
     "metadata": {},
     "output_type": "execute_result"
    }
   ],
   "source": [
    "grid.best_params_"
   ],
   "metadata": {
    "collapsed": false,
    "ExecuteTime": {
     "end_time": "2024-02-14T12:20:55.152398Z",
     "start_time": "2024-02-14T12:20:55.146520Z"
    }
   },
   "id": "4905b5e037bb816b",
   "execution_count": 40
  },
  {
   "cell_type": "code",
   "outputs": [],
   "source": [],
   "metadata": {
    "collapsed": false
   },
   "id": "d172677aa29c3ed1"
  },
  {
   "cell_type": "code",
   "execution_count": 11,
   "outputs": [
    {
     "name": "stdout",
     "output_type": "stream",
     "text": [
      "GSA is optimizing  \"F1\"\n",
      "['At iteration 1 the best fitness is 8828.851219458797']\n",
      "['At iteration 2 the best fitness is 5347.581633851479']\n",
      "['At iteration 3 the best fitness is 1882.4276629741098']\n",
      "['At iteration 4 the best fitness is 774.1668420656121']\n",
      "['At iteration 5 the best fitness is 473.62971257280014']\n",
      "['At iteration 6 the best fitness is 315.3291651826068']\n",
      "['At iteration 7 the best fitness is 243.04707678436114']\n",
      "['At iteration 8 the best fitness is 239.6275349930173']\n",
      "['At iteration 9 the best fitness is 239.6275349930173']\n",
      "['At iteration 10 the best fitness is 217.17327629610273']\n",
      "['At iteration 11 the best fitness is 217.17327629610273']\n",
      "['At iteration 12 the best fitness is 206.62148308794687']\n",
      "['At iteration 13 the best fitness is 197.8860353059992']\n",
      "['At iteration 14 the best fitness is 152.85288825048485']\n",
      "['At iteration 15 the best fitness is 143.18794767067305']\n",
      "['At iteration 16 the best fitness is 109.6020646845365']\n",
      "['At iteration 17 the best fitness is 93.9789660272045']\n",
      "['At iteration 18 the best fitness is 72.5423270662097']\n",
      "['At iteration 19 the best fitness is 54.137086911772236']\n",
      "['At iteration 20 the best fitness is 36.850772770931655']\n",
      "['At iteration 21 the best fitness is 33.15514531375908']\n",
      "['At iteration 22 the best fitness is 19.601570501336614']\n",
      "['At iteration 23 the best fitness is 11.190719356699674']\n",
      "['At iteration 24 the best fitness is 8.36438197520055']\n",
      "['At iteration 25 the best fitness is 0.9789326794539074']\n",
      "['At iteration 26 the best fitness is 0.9789326794539074']\n",
      "['At iteration 27 the best fitness is 0.9789326794539074']\n",
      "['At iteration 28 the best fitness is 0.8607387021799338']\n",
      "['At iteration 29 the best fitness is 0.8607387021799338']\n",
      "['At iteration 30 the best fitness is 0.5770887912628637']\n",
      "['At iteration 31 the best fitness is 0.5770887912628637']\n",
      "['At iteration 32 the best fitness is 0.5770887912628637']\n",
      "['At iteration 33 the best fitness is 0.5770887912628637']\n",
      "['At iteration 34 the best fitness is 0.5770887912628637']\n",
      "['At iteration 35 the best fitness is 0.14244771240524456']\n",
      "['At iteration 36 the best fitness is 0.14244771240524456']\n",
      "['At iteration 37 the best fitness is 0.14244771240524456']\n",
      "['At iteration 38 the best fitness is 0.14244771240524456']\n",
      "['At iteration 39 the best fitness is 0.14244771240524456']\n",
      "['At iteration 40 the best fitness is 0.14244771240524456']\n",
      "['At iteration 41 the best fitness is 0.14244771240524456']\n",
      "['At iteration 42 the best fitness is 0.14244771240524456']\n",
      "['At iteration 43 the best fitness is 0.14244771240524456']\n",
      "['At iteration 44 the best fitness is 0.14244771240524456']\n",
      "['At iteration 45 the best fitness is 0.14244771240524456']\n",
      "['At iteration 46 the best fitness is 0.14244771240524456']\n",
      "['At iteration 47 the best fitness is 0.14244771240524456']\n",
      "['At iteration 48 the best fitness is 0.14244771240524456']\n",
      "['At iteration 49 the best fitness is 0.14244771240524456']\n",
      "['At iteration 50 the best fitness is 0.14244771240524456']\n",
      "['At iteration 51 the best fitness is 0.14244771240524456']\n",
      "['At iteration 52 the best fitness is 0.14244771240524456']\n",
      "['At iteration 53 the best fitness is 0.14244771240524456']\n",
      "['At iteration 54 the best fitness is 0.14244771240524456']\n",
      "['At iteration 55 the best fitness is 0.14244771240524456']\n",
      "['At iteration 56 the best fitness is 0.14244771240524456']\n",
      "['At iteration 57 the best fitness is 0.08156472307805843']\n",
      "['At iteration 58 the best fitness is 0.08156472307805843']\n",
      "['At iteration 59 the best fitness is 0.08156472307805843']\n",
      "['At iteration 60 the best fitness is 0.08156472307805843']\n",
      "['At iteration 61 the best fitness is 0.08156472307805843']\n",
      "['At iteration 62 the best fitness is 0.08156472307805843']\n",
      "['At iteration 63 the best fitness is 0.08156472307805843']\n",
      "['At iteration 64 the best fitness is 0.08156472307805843']\n",
      "['At iteration 65 the best fitness is 0.08156472307805843']\n",
      "['At iteration 66 the best fitness is 0.06408882149781404']\n",
      "['At iteration 67 the best fitness is 0.06408882149781404']\n",
      "['At iteration 68 the best fitness is 0.03435974279093303']\n",
      "['At iteration 69 the best fitness is 0.03435974279093303']\n",
      "['At iteration 70 the best fitness is 0.03435974279093303']\n",
      "['At iteration 71 the best fitness is 0.01743623087088463']\n",
      "['At iteration 72 the best fitness is 0.01743623087088463']\n",
      "['At iteration 73 the best fitness is 0.01743623087088463']\n",
      "['At iteration 74 the best fitness is 0.01743623087088463']\n",
      "['At iteration 75 the best fitness is 0.016114400310995376']\n",
      "['At iteration 76 the best fitness is 0.016114400310995376']\n",
      "['At iteration 77 the best fitness is 0.011458403703743937']\n",
      "['At iteration 78 the best fitness is 0.011458403703743937']\n",
      "['At iteration 79 the best fitness is 0.011458403703743937']\n",
      "['At iteration 80 the best fitness is 0.011458403703743937']\n",
      "['At iteration 81 the best fitness is 0.011458403703743937']\n",
      "['At iteration 82 the best fitness is 0.011458403703743937']\n",
      "['At iteration 83 the best fitness is 0.011458403703743937']\n",
      "['At iteration 84 the best fitness is 0.011458403703743937']\n",
      "['At iteration 85 the best fitness is 0.006485092782705142']\n",
      "['At iteration 86 the best fitness is 0.006485092782705142']\n",
      "['At iteration 87 the best fitness is 0.00620236446686674']\n",
      "['At iteration 88 the best fitness is 0.005671375263413844']\n",
      "['At iteration 89 the best fitness is 0.003271137785463156']\n",
      "['At iteration 90 the best fitness is 0.0013319297104088235']\n",
      "['At iteration 91 the best fitness is 0.0013319297104088235']\n",
      "['At iteration 92 the best fitness is 0.0013319297104088235']\n",
      "['At iteration 93 the best fitness is 0.0013319297104088235']\n",
      "['At iteration 94 the best fitness is 0.0013319297104088235']\n",
      "['At iteration 95 the best fitness is 0.0012411009480350244']\n",
      "['At iteration 96 the best fitness is 0.0012411009480350244']\n",
      "['At iteration 97 the best fitness is 0.0011785969051968381']\n",
      "['At iteration 98 the best fitness is 0.0010586617159086635']\n",
      "['At iteration 99 the best fitness is 0.0010586617159086635']\n",
      "['At iteration 100 the best fitness is 0.0008352082799498061']\n",
      "['Optimizer' 'objfname' 'startTime' 'EndTime' 'ExecutionTime' 'Iter1'\n",
      " 'Iter2' 'Iter3' 'Iter4' 'Iter5' 'Iter6' 'Iter7' 'Iter8' 'Iter9' 'Iter10'\n",
      " 'Iter11' 'Iter12' 'Iter13' 'Iter14' 'Iter15' 'Iter16' 'Iter17' 'Iter18'\n",
      " 'Iter19' 'Iter20' 'Iter21' 'Iter22' 'Iter23' 'Iter24' 'Iter25' 'Iter26'\n",
      " 'Iter27' 'Iter28' 'Iter29' 'Iter30' 'Iter31' 'Iter32' 'Iter33' 'Iter34'\n",
      " 'Iter35' 'Iter36' 'Iter37' 'Iter38' 'Iter39' 'Iter40' 'Iter41' 'Iter42'\n",
      " 'Iter43' 'Iter44' 'Iter45' 'Iter46' 'Iter47' 'Iter48' 'Iter49' 'Iter50'\n",
      " 'Iter51' 'Iter52' 'Iter53' 'Iter54' 'Iter55' 'Iter56' 'Iter57' 'Iter58'\n",
      " 'Iter59' 'Iter60' 'Iter61' 'Iter62' 'Iter63' 'Iter64' 'Iter65' 'Iter66'\n",
      " 'Iter67' 'Iter68' 'Iter69' 'Iter70' 'Iter71' 'Iter72' 'Iter73' 'Iter74'\n",
      " 'Iter75' 'Iter76' 'Iter77' 'Iter78' 'Iter79' 'Iter80' 'Iter81' 'Iter82'\n",
      " 'Iter83' 'Iter84' 'Iter85' 'Iter86' 'Iter87' 'Iter88' 'Iter89' 'Iter90'\n",
      " 'Iter91' 'Iter92' 'Iter93' 'Iter94' 'Iter95' 'Iter96' 'Iter97' 'Iter98'\n",
      " 'Iter99' 'Iter100']\n",
      "GSA is optimizing  \"F1\"\n",
      "['At iteration 1 the best fitness is 14423.4164663155']\n",
      "['At iteration 2 the best fitness is 9638.547492157662']\n",
      "['At iteration 3 the best fitness is 3872.1983460998536']\n",
      "['At iteration 4 the best fitness is 1111.6699949958036']\n",
      "['At iteration 5 the best fitness is 591.0582493196371']\n",
      "['At iteration 6 the best fitness is 438.44844000299713']\n",
      "['At iteration 7 the best fitness is 375.23028819458295']\n",
      "['At iteration 8 the best fitness is 275.5123440530352']\n",
      "['At iteration 9 the best fitness is 206.8757392743167']\n",
      "['At iteration 10 the best fitness is 206.8757392743167']\n",
      "['At iteration 11 the best fitness is 206.8757392743167']\n",
      "['At iteration 12 the best fitness is 206.8757392743167']\n",
      "['At iteration 13 the best fitness is 206.8757392743167']\n",
      "['At iteration 14 the best fitness is 196.8518607666036']\n",
      "['At iteration 15 the best fitness is 164.41990203761657']\n",
      "['At iteration 16 the best fitness is 152.05898529718624']\n",
      "['At iteration 17 the best fitness is 129.02365247359066']\n",
      "['At iteration 18 the best fitness is 129.02365247359066']\n",
      "['At iteration 19 the best fitness is 98.5262640905768']\n",
      "['At iteration 20 the best fitness is 87.14734117524517']\n",
      "['At iteration 21 the best fitness is 65.34598977068298']\n",
      "['At iteration 22 the best fitness is 44.280441788047014']\n",
      "['At iteration 23 the best fitness is 28.03526533636239']\n",
      "['At iteration 24 the best fitness is 17.9181992294597']\n",
      "['At iteration 25 the best fitness is 11.673769670562981']\n",
      "['At iteration 26 the best fitness is 7.713493101173367']\n",
      "['At iteration 27 the best fitness is 3.610126037950733']\n",
      "['At iteration 28 the best fitness is 1.1226660542682838']\n",
      "['At iteration 29 the best fitness is 1.1226660542682838']\n",
      "['At iteration 30 the best fitness is 1.1226660542682838']\n",
      "['At iteration 31 the best fitness is 1.1226660542682838']\n",
      "['At iteration 32 the best fitness is 0.9163582248926787']\n",
      "['At iteration 33 the best fitness is 0.9163582248926787']\n",
      "['At iteration 34 the best fitness is 0.9163582248926787']\n",
      "['At iteration 35 the best fitness is 0.9163582248926787']\n",
      "['At iteration 36 the best fitness is 0.9163582248926787']\n",
      "['At iteration 37 the best fitness is 0.7355733832496434']\n",
      "['At iteration 38 the best fitness is 0.7355733832496434']\n",
      "['At iteration 39 the best fitness is 0.7092483042166027']\n",
      "['At iteration 40 the best fitness is 0.6601917159057482']\n",
      "['At iteration 41 the best fitness is 0.6601917159057482']\n",
      "['At iteration 42 the best fitness is 0.6601917159057482']\n",
      "['At iteration 43 the best fitness is 0.15307274106358507']\n",
      "['At iteration 44 the best fitness is 0.15307274106358507']\n",
      "['At iteration 45 the best fitness is 0.15307274106358507']\n",
      "['At iteration 46 the best fitness is 0.15307274106358507']\n",
      "['At iteration 47 the best fitness is 0.15307274106358507']\n",
      "['At iteration 48 the best fitness is 0.15307274106358507']\n",
      "['At iteration 49 the best fitness is 0.15307274106358507']\n",
      "['At iteration 50 the best fitness is 0.15307274106358507']\n",
      "['At iteration 51 the best fitness is 0.10706017190427862']\n",
      "['At iteration 52 the best fitness is 0.10706017190427862']\n",
      "['At iteration 53 the best fitness is 0.10706017190427862']\n",
      "['At iteration 54 the best fitness is 0.10706017190427862']\n",
      "['At iteration 55 the best fitness is 0.10706017190427862']\n",
      "['At iteration 56 the best fitness is 0.10706017190427862']\n",
      "['At iteration 57 the best fitness is 0.10706017190427862']\n",
      "['At iteration 58 the best fitness is 0.10706017190427862']\n",
      "['At iteration 59 the best fitness is 0.10706017190427862']\n",
      "['At iteration 60 the best fitness is 0.10706017190427862']\n",
      "['At iteration 61 the best fitness is 0.10706017190427862']\n",
      "['At iteration 62 the best fitness is 0.10706017190427862']\n",
      "['At iteration 63 the best fitness is 0.10706017190427862']\n",
      "['At iteration 64 the best fitness is 0.10706017190427862']\n",
      "['At iteration 65 the best fitness is 0.10706017190427862']\n",
      "['At iteration 66 the best fitness is 0.10706017190427862']\n",
      "['At iteration 67 the best fitness is 0.044626043363439116']\n",
      "['At iteration 68 the best fitness is 0.044626043363439116']\n",
      "['At iteration 69 the best fitness is 0.03628275266517577']\n",
      "['At iteration 70 the best fitness is 0.023848747443641974']\n",
      "['At iteration 71 the best fitness is 0.023848747443641974']\n",
      "['At iteration 72 the best fitness is 0.023848747443641974']\n",
      "['At iteration 73 the best fitness is 0.023848747443641974']\n",
      "['At iteration 74 the best fitness is 0.023848747443641974']\n",
      "['At iteration 75 the best fitness is 0.017193134841521924']\n",
      "['At iteration 76 the best fitness is 0.017193134841521924']\n",
      "['At iteration 77 the best fitness is 0.017193134841521924']\n",
      "['At iteration 78 the best fitness is 0.017193134841521924']\n",
      "['At iteration 79 the best fitness is 0.017193134841521924']\n",
      "['At iteration 80 the best fitness is 0.017193134841521924']\n",
      "['At iteration 81 the best fitness is 0.017193134841521924']\n",
      "['At iteration 82 the best fitness is 0.014277737086160579']\n",
      "['At iteration 83 the best fitness is 0.014277737086160579']\n",
      "['At iteration 84 the best fitness is 0.00749023797832084']\n",
      "['At iteration 85 the best fitness is 0.00749023797832084']\n",
      "['At iteration 86 the best fitness is 0.005215167699539961']\n",
      "['At iteration 87 the best fitness is 0.004889662387562914']\n",
      "['At iteration 88 the best fitness is 0.004889662387562914']\n",
      "['At iteration 89 the best fitness is 0.003956583835464166']\n",
      "['At iteration 90 the best fitness is 0.0021839788516262526']\n",
      "['At iteration 91 the best fitness is 0.0021839788516262526']\n",
      "['At iteration 92 the best fitness is 0.0021839788516262526']\n",
      "['At iteration 93 the best fitness is 0.0021839788516262526']\n",
      "['At iteration 94 the best fitness is 0.0017614569853595021']\n",
      "['At iteration 95 the best fitness is 0.0007459780188835185']\n",
      "['At iteration 96 the best fitness is 0.000719128638927771']\n",
      "['At iteration 97 the best fitness is 0.0006712706574859253']\n",
      "['At iteration 98 the best fitness is 0.000645492885163007']\n",
      "['At iteration 99 the best fitness is 0.000645492885163007']\n",
      "['At iteration 100 the best fitness is 0.0005562081374850186']\n",
      "GSA is optimizing  \"F1\"\n",
      "['At iteration 1 the best fitness is 11593.75409057947']\n",
      "['At iteration 2 the best fitness is 6331.30367426738']\n",
      "['At iteration 3 the best fitness is 2487.2493290323573']\n",
      "['At iteration 4 the best fitness is 1116.0032188287041']\n",
      "['At iteration 5 the best fitness is 726.9422337550817']\n",
      "['At iteration 6 the best fitness is 502.58967176100674']\n",
      "['At iteration 7 the best fitness is 388.96660504191243']\n",
      "['At iteration 8 the best fitness is 388.96660504191243']\n",
      "['At iteration 9 the best fitness is 388.96660504191243']\n",
      "['At iteration 10 the best fitness is 388.96660504191243']\n",
      "['At iteration 11 the best fitness is 273.47867915916794']\n",
      "['At iteration 12 the best fitness is 273.47867915916794']\n",
      "['At iteration 13 the best fitness is 232.3558221954068']\n",
      "['At iteration 14 the best fitness is 232.3558221954068']\n",
      "['At iteration 15 the best fitness is 200.77716195234558']\n",
      "['At iteration 16 the best fitness is 163.39331676892675']\n",
      "['At iteration 17 the best fitness is 128.87260027436776']\n",
      "['At iteration 18 the best fitness is 104.23714253657323']\n",
      "['At iteration 19 the best fitness is 88.59928299615329']\n",
      "['At iteration 20 the best fitness is 68.07398778721706']\n",
      "['At iteration 21 the best fitness is 44.470263375645374']\n",
      "['At iteration 22 the best fitness is 33.18146308526459']\n",
      "['At iteration 23 the best fitness is 15.179987248303657']\n",
      "['At iteration 24 the best fitness is 9.6108201934261']\n",
      "['At iteration 25 the best fitness is 4.049793293227224']\n",
      "['At iteration 26 the best fitness is 2.1334435650646535']\n",
      "['At iteration 27 the best fitness is 1.7634948575713532']\n",
      "['At iteration 28 the best fitness is 1.493164747805288']\n",
      "['At iteration 29 the best fitness is 1.493164747805288']\n",
      "['At iteration 30 the best fitness is 0.48564850082544125']\n",
      "['At iteration 31 the best fitness is 0.48564850082544125']\n",
      "['At iteration 32 the best fitness is 0.48564850082544125']\n",
      "['At iteration 33 the best fitness is 0.46804601845923804']\n",
      "['At iteration 34 the best fitness is 0.46804601845923804']\n",
      "['At iteration 35 the best fitness is 0.46804601845923804']\n",
      "['At iteration 36 the best fitness is 0.46804601845923804']\n",
      "['At iteration 37 the best fitness is 0.2928233791858769']\n",
      "['At iteration 38 the best fitness is 0.2928233791858769']\n",
      "['At iteration 39 the best fitness is 0.28001204942880675']\n",
      "['At iteration 40 the best fitness is 0.28001204942880675']\n",
      "['At iteration 41 the best fitness is 0.28001204942880675']\n",
      "['At iteration 42 the best fitness is 0.28001204942880675']\n",
      "['At iteration 43 the best fitness is 0.28001204942880675']\n",
      "['At iteration 44 the best fitness is 0.28001204942880675']\n",
      "['At iteration 45 the best fitness is 0.28001204942880675']\n",
      "['At iteration 46 the best fitness is 0.28001204942880675']\n",
      "['At iteration 47 the best fitness is 0.28001204942880675']\n",
      "['At iteration 48 the best fitness is 0.05298826622805704']\n",
      "['At iteration 49 the best fitness is 0.05298826622805704']\n",
      "['At iteration 50 the best fitness is 0.05298826622805704']\n",
      "['At iteration 51 the best fitness is 0.05298826622805704']\n",
      "['At iteration 52 the best fitness is 0.05298826622805704']\n",
      "['At iteration 53 the best fitness is 0.05298826622805704']\n",
      "['At iteration 54 the best fitness is 0.05298826622805704']\n",
      "['At iteration 55 the best fitness is 0.05298826622805704']\n",
      "['At iteration 56 the best fitness is 0.05298826622805704']\n",
      "['At iteration 57 the best fitness is 0.05298826622805704']\n",
      "['At iteration 58 the best fitness is 0.05298826622805704']\n",
      "['At iteration 59 the best fitness is 0.05298826622805704']\n",
      "['At iteration 60 the best fitness is 0.05298826622805704']\n",
      "['At iteration 61 the best fitness is 0.05298826622805704']\n",
      "['At iteration 62 the best fitness is 0.05298826622805704']\n",
      "['At iteration 63 the best fitness is 0.03918079145647308']\n",
      "['At iteration 64 the best fitness is 0.03918079145647308']\n",
      "['At iteration 65 the best fitness is 0.03918079145647308']\n",
      "['At iteration 66 the best fitness is 0.03918079145647308']\n",
      "['At iteration 67 the best fitness is 0.039066278752312604']\n",
      "['At iteration 68 the best fitness is 0.039066278752312604']\n",
      "['At iteration 69 the best fitness is 0.039066278752312604']\n",
      "['At iteration 70 the best fitness is 0.039066278752312604']\n",
      "['At iteration 71 the best fitness is 0.039066278752312604']\n",
      "['At iteration 72 the best fitness is 0.039066278752312604']\n",
      "['At iteration 73 the best fitness is 0.039066278752312604']\n",
      "['At iteration 74 the best fitness is 0.039066278752312604']\n",
      "['At iteration 75 the best fitness is 0.039066278752312604']\n",
      "['At iteration 76 the best fitness is 0.039066278752312604']\n",
      "['At iteration 77 the best fitness is 0.02631737640601085']\n",
      "['At iteration 78 the best fitness is 0.021433073563601596']\n",
      "['At iteration 79 the best fitness is 0.017031151162160724']\n",
      "['At iteration 80 the best fitness is 0.017031151162160724']\n",
      "['At iteration 81 the best fitness is 0.017031151162160724']\n",
      "['At iteration 82 the best fitness is 0.010795735927082717']\n",
      "['At iteration 83 the best fitness is 0.010795735927082717']\n",
      "['At iteration 84 the best fitness is 0.010795735927082717']\n",
      "['At iteration 85 the best fitness is 0.008921238052415584']\n",
      "['At iteration 86 the best fitness is 0.006838160582860877']\n",
      "['At iteration 87 the best fitness is 0.006838160582860877']\n",
      "['At iteration 88 the best fitness is 0.005767602379225634']\n",
      "['At iteration 89 the best fitness is 0.004289241732166731']\n",
      "['At iteration 90 the best fitness is 0.0017073445144569369']\n",
      "['At iteration 91 the best fitness is 0.0017073445144569369']\n",
      "['At iteration 92 the best fitness is 0.0017073445144569369']\n",
      "['At iteration 93 the best fitness is 0.0017073445144569369']\n",
      "['At iteration 94 the best fitness is 0.0013084300966113903']\n",
      "['At iteration 95 the best fitness is 0.0010881659621584268']\n",
      "['At iteration 96 the best fitness is 0.0007256936473076038']\n",
      "['At iteration 97 the best fitness is 0.00036114565449576097']\n",
      "['At iteration 98 the best fitness is 0.00036114565449576097']\n",
      "['At iteration 99 the best fitness is 0.00036114565449576097']\n",
      "['At iteration 100 the best fitness is 0.00036114565449576097']\n"
     ]
    }
   ],
   "source": [
    "import csv\n",
    "import numpy as np\n",
    "import os\n",
    "import time\n",
    "\n",
    "from benchmarks import get_function_details\n",
    "from src.entities import GSA\n",
    "\n",
    "\n",
    "# Select optimizers\n",
    "gsa = True  # Code by Himanshu Mittal\n",
    "\n",
    "# Select benchmark function\n",
    "F1 = True\n",
    "\n",
    "algorithm = [gsa]\n",
    "objective_function = [F1]\n",
    "\n",
    "# Select number of repetitions for each experiment. \n",
    "# To obtain meaningful statistical results, usually 30 independent runs \n",
    "# are executed for each algorithm.\n",
    "runs = 3\n",
    "\n",
    "# Select chaotic constant\n",
    "chaotic_constant = True\n",
    "\n",
    "# Select general parameters for all optimizers (population size, number of iterations)\n",
    "population_size = 30\n",
    "iterations = 100\n",
    "\n",
    "# Export results ?\n",
    "export = True\n",
    "\n",
    "# ExportToFile=\"YourResultsAreHere.csv\"\n",
    "# Automaticly generated name by date and time\n",
    "\n",
    "save_path = \"data/output/\"\n",
    "if not os.path.exists(save_path):\n",
    "    os.makedirs(save_path)\n",
    "\n",
    "ExportToFile = save_path + \"experiment\" + time.strftime(\"%Y-%m-%d-%H-%M-%S_\") + str(chaotic_constant) + \".csv\"\n",
    "\n",
    "# Check if it works at least once\n",
    "atLeastOneIteration = False\n",
    "\n",
    "# CSV Header for the convergence\n",
    "CnvgHeader = []\n",
    "# SolHeader=[]\n",
    "\n",
    "for l in range(iterations):\n",
    "    CnvgHeader.append(\"Iter\" + str(l + 1))\n",
    "    # SolHeader.append(\"Sol_Iter\"+str(l+1))\n",
    "\n",
    "for j in range(len(objective_function)):\n",
    "    if objective_function[j]:  # start experiment if an Algorithm and an objective function is selected\n",
    "        for k in range(0, runs):\n",
    "            \n",
    "            real_boundaries = [(function_details['lower_bound'], function_details['upper_bound']) for _ in range(function_details['dim'])]\n",
    "            function_details = get_function_details(j)\n",
    "            gsa_algo = GSA(objective_function = \"\"\"function_details['function']\"\"\",\n",
    "                           r_dim=function_details['dim'],\n",
    "                           d_dim=,  # \n",
    "                           boundaries={'real': real_boundaries, 'discrete': []})\n",
    "            \n",
    "            gsa_algo.optimize(population_size=population_size,\n",
    "                              iters=iterations,\n",
    "                              chaotic_constant=True)\n",
    "\n",
    "            if export:\n",
    "                with open(ExportToFile, 'a') as out:\n",
    "                    writer = csv.writer(out, delimiter=',')\n",
    "                    if not atLeastOneIteration:  # just one time to write the header of the CSV file\n",
    "                        header = np.concatenate(\n",
    "                            [[\"Optimizer\", \"objfname\", \"startTime\", \"EndTime\", \"ExecutionTime\"], CnvgHeader])\n",
    "                        print(header)\n",
    "                        writer.writerow(header)\n",
    "                    a = np.concatenate(\n",
    "                        [[gsa_algo.objective_function_name,\n",
    "                          gsa_algo.start_time,\n",
    "                          gsa_algo.end_time,\n",
    "                          gsa_algo.execution_time],\n",
    "                          gsa_algo.convergence])\n",
    "                    writer.writerow(a)\n",
    "                out.close()\n",
    "            atLeastOneIteration = True  # at least one experiment\n",
    "\n",
    "if not atLeastOneIteration:  # Faild to run at least one experiment\n",
    "    print(\"No Optimizer or Cost function is selected. Check lists of available optimizers and cost functions\")"
   ],
   "metadata": {
    "collapsed": false,
    "ExecuteTime": {
     "end_time": "2024-02-13T17:57:13.994943Z",
     "start_time": "2024-02-13T17:57:12.679126Z"
    }
   },
   "id": "9ab768c390336d7e"
  },
  {
   "cell_type": "code",
   "outputs": [],
   "source": [
    "import pandas as pd"
   ],
   "metadata": {
    "collapsed": true
   },
   "id": "initial_id",
   "execution_count": null
  },
  {
   "cell_type": "code",
   "outputs": [],
   "source": [
    "output_file = \"../data/output/experiment2024-02-06-11-24-28.csv\"\n",
    "\n",
    "data = pd.read_csv(output_file)"
   ],
   "metadata": {
    "collapsed": false,
    "ExecuteTime": {
     "end_time": "2024-02-06T10:27:16.557262Z",
     "start_time": "2024-02-06T10:27:16.549735Z"
    }
   },
   "id": "f4d274d3656307ca",
   "execution_count": 3
  },
  {
   "cell_type": "code",
   "outputs": [
    {
     "data": {
      "text/plain": "  Optimizer objfname            startTime              EndTime  ExecutionTime  \\\n0       GSA       F1  2024-02-06-11-24-28  2024-02-06-11-24-29        0.54548   \n\n         Iter1         Iter2        Iter3        Iter4       Iter5  ...  \\\n0  21634.17186  13724.250576  5564.349644  1210.276746  439.623279  ...   \n\n       Iter91      Iter92      Iter93      Iter94      Iter95      Iter96  \\\n0  317.524882  317.524882  317.524882  317.524882  317.524882  317.524882   \n\n       Iter97      Iter98      Iter99     Iter100  \n0  317.524882  317.524882  317.524882  317.524882  \n\n[1 rows x 105 columns]",
      "text/html": "<div>\n<style scoped>\n    .dataframe tbody tr th:only-of-type {\n        vertical-align: middle;\n    }\n\n    .dataframe tbody tr th {\n        vertical-align: top;\n    }\n\n    .dataframe thead th {\n        text-align: right;\n    }\n</style>\n<table border=\"1\" class=\"dataframe\">\n  <thead>\n    <tr style=\"text-align: right;\">\n      <th></th>\n      <th>Optimizer</th>\n      <th>objfname</th>\n      <th>startTime</th>\n      <th>EndTime</th>\n      <th>ExecutionTime</th>\n      <th>Iter1</th>\n      <th>Iter2</th>\n      <th>Iter3</th>\n      <th>Iter4</th>\n      <th>Iter5</th>\n      <th>...</th>\n      <th>Iter91</th>\n      <th>Iter92</th>\n      <th>Iter93</th>\n      <th>Iter94</th>\n      <th>Iter95</th>\n      <th>Iter96</th>\n      <th>Iter97</th>\n      <th>Iter98</th>\n      <th>Iter99</th>\n      <th>Iter100</th>\n    </tr>\n  </thead>\n  <tbody>\n    <tr>\n      <th>0</th>\n      <td>GSA</td>\n      <td>F1</td>\n      <td>2024-02-06-11-24-28</td>\n      <td>2024-02-06-11-24-29</td>\n      <td>0.54548</td>\n      <td>21634.17186</td>\n      <td>13724.250576</td>\n      <td>5564.349644</td>\n      <td>1210.276746</td>\n      <td>439.623279</td>\n      <td>...</td>\n      <td>317.524882</td>\n      <td>317.524882</td>\n      <td>317.524882</td>\n      <td>317.524882</td>\n      <td>317.524882</td>\n      <td>317.524882</td>\n      <td>317.524882</td>\n      <td>317.524882</td>\n      <td>317.524882</td>\n      <td>317.524882</td>\n    </tr>\n  </tbody>\n</table>\n<p>1 rows × 105 columns</p>\n</div>"
     },
     "execution_count": 4,
     "metadata": {},
     "output_type": "execute_result"
    }
   ],
   "source": [
    "data"
   ],
   "metadata": {
    "collapsed": false,
    "ExecuteTime": {
     "end_time": "2024-02-06T10:27:19.018070Z",
     "start_time": "2024-02-06T10:27:18.999552Z"
    }
   },
   "id": "f6805c46eab901c4",
   "execution_count": 4
  },
  {
   "cell_type": "code",
   "outputs": [
    {
     "data": {
      "text/plain": "9"
     },
     "execution_count": 43,
     "metadata": {},
     "output_type": "execute_result"
    }
   ],
   "source": [
    "# Nº de variables discretas:\n",
    "dim_d = len(X.columns)\n",
    "\n",
    "# Nº variables reales (C y Gamma):\n",
    "dim_r = 2"
   ],
   "metadata": {
    "collapsed": false,
    "ExecuteTime": {
     "end_time": "2024-02-14T13:50:24.115537Z",
     "start_time": "2024-02-14T13:50:24.113342Z"
    }
   },
   "id": "464ebab760e7b6ce",
   "execution_count": 43
  },
  {
   "cell_type": "code",
   "outputs": [],
   "source": [
    "population_size = 5 \n",
    "iterations = 20\n",
    "\n",
    "g_zero_real= 100  # OK\n",
    "alpha = 20  # OK\n",
    "g_zero_discrete = 1  # OK\n",
    "\n",
    "fitness_evaluations = 100"
   ],
   "metadata": {
    "collapsed": false
   },
   "id": "3ef7a01d91884915"
  },
  {
   "cell_type": "code",
   "outputs": [
    {
     "name": "stdout",
     "output_type": "stream",
     "text": [
      "Index(['Clump_thickness', 'Uniformity_of_cell_size',\n",
      "       'Uniformity_of_cell_shape', 'Marginal_adhesion',\n",
      "       'Single_epithelial_cell_size', 'Bare_nuclei', 'Bland_chromatin',\n",
      "       'Normal_nucleoli', 'Mitoses'],\n",
      "      dtype='object')\n",
      "Index(['Uniformity_of_cell_size', 'Uniformity_of_cell_shape', 'Bare_nuclei',\n",
      "       'Normal_nucleoli', 'Mitoses'],\n",
      "      dtype='object')\n"
     ]
    }
   ],
   "source": [
    "# Filter features\n",
    "# Set C and Gamma\n",
    "solution = {'real': [0.1, 0.2], 'discrete': np.array([0, 1, 1, 0, 0, 1, 0, 1, 1])}\n",
    "C, gamma = solution['real']\n",
    "\n",
    "X_train_scaled_filtered = X_train_scaled.iloc[:, solution['discrete'] == 1]\n",
    "\n",
    "print(X_train_scaled.columns)\n",
    "print(X_train_scaled_filtered.columns)"
   ],
   "metadata": {
    "collapsed": false,
    "ExecuteTime": {
     "end_time": "2024-02-14T15:02:31.881808Z",
     "start_time": "2024-02-14T15:02:31.873797Z"
    }
   },
   "id": "43ebea8038cda887",
   "execution_count": 47
  },
  {
   "cell_type": "code",
   "outputs": [
    {
     "data": {
      "text/plain": "array([[360,   7],\n       [ 12, 180]])"
     },
     "execution_count": 51,
     "metadata": {},
     "output_type": "execute_result"
    }
   ],
   "source": [
    "svc_model = SVC(C=C, gamma=gamma, kernel=\"rbf\")\n",
    "svc_model.fit(X_train_scaled_filtered, np.ravel(y_train))\n",
    "y_predict = svc_model.predict(X_train_scaled_filtered)\n",
    "cm = confusion_matrix(y_train, y_predict)\n",
    "\n",
    "cm"
   ],
   "metadata": {
    "collapsed": false,
    "ExecuteTime": {
     "end_time": "2024-02-14T15:05:12.137420Z",
     "start_time": "2024-02-14T15:05:12.123171Z"
    }
   },
   "id": "175d783ecae15c26",
   "execution_count": 51
  },
  {
   "cell_type": "code",
   "outputs": [],
   "source": [
    "import numpy as np\n",
    "\n",
    "from sklearn.metrics import classification_report, confusion_matrix\n",
    "from sklearn.model_selection import train_test_split\n",
    "from sklearn.svm import SVC\n",
    "from typing import Mapping\n",
    "from ucimlrepo import fetch_ucirepo\n",
    "\n",
    "from benchmarks import gsa_svm_fitness\n",
    "\n",
    "# fetch dataset \n",
    "breast_cancer_wisconsin_original = fetch_ucirepo(id=15) \n",
    "  \n",
    "# data (as pandas dataframes) \n",
    "X = breast_cancer_wisconsin_original.data.features \n",
    "X = X.fillna(value=0)\n",
    "\n",
    "y = breast_cancer_wisconsin_original.data.targets \n",
    "\n",
    "class UCI:\n",
    "    def __init__(self, X, y):\n",
    "        self.X = X\n",
    "        self.y = y\n",
    "        X_train, X_test, y_train, y_test = train_test_split(X, y, test_size = 0.20, random_state=5)\n",
    "        self.X_train = X_train\n",
    "        self.X_test = X_test\n",
    "        self.y_train = y_train\n",
    "        self.y_test = y_test\n",
    "        \n",
    "        min_train = X_train.min()\n",
    "        range_train = (X_train - min_train).max()\n",
    "        self.X_train_scaled = (X_train - min_train)/range_train\n",
    "        \n",
    "        min_test = X_test.min()\n",
    "        range_test = (X_test - min_test).max()\n",
    "        self.X_test_scaled = (X_test - min_test)/range_test\n",
    "    \n",
    "    def get_fitness(self,\n",
    "                    solution: Mapping[str, np.ndarray]\n",
    "                    ) -> float:\n",
    "        C, gamma = solution['real']\n",
    "        X_train_scaled_filtered = self.X_train_scaled.iloc[:, solution['discrete'] == 1]\n",
    "        svc_model = SVC(C=C, gamma=gamma, kernel=\"rbf\")\n",
    "        svc_model.fit(X_train_scaled_filtered, np.ravel(self.y_train))\n",
    "        y_predict = svc_model.predict(X_train_scaled_filtered)\n",
    "        cm = confusion_matrix(self.y_train, y_predict)\n",
    "        \n",
    "        return gsa_svm_fitness(conf_matrix=cm, solution=solution)\n",
    "\n",
    "uci = UCI(X, y)"
   ],
   "metadata": {
    "collapsed": false,
    "ExecuteTime": {
     "end_time": "2024-02-14T15:39:22.451857Z",
     "start_time": "2024-02-14T15:39:20.603014Z"
    }
   },
   "id": "8408aee361a77110",
   "execution_count": 9
  },
  {
   "cell_type": "code",
   "outputs": [
    {
     "data": {
      "text/plain": "77.51286026634864"
     },
     "execution_count": 14,
     "metadata": {},
     "output_type": "execute_result"
    }
   ],
   "source": [
    "solution = {'real': [0.1, 1], 'discrete': np.array([0, 1, 1, 0, 0, 1, 0, 1, 1])}\n",
    "uci.get_fitness(solution=solution)"
   ],
   "metadata": {
    "collapsed": false,
    "ExecuteTime": {
     "end_time": "2024-02-14T15:45:22.889631Z",
     "start_time": "2024-02-14T15:45:22.876393Z"
    }
   },
   "id": "3f6ea53921d29029",
   "execution_count": 14
  },
  {
   "cell_type": "code",
   "outputs": [
    {
     "name": "stdout",
     "output_type": "stream",
     "text": [
      "GSA is optimizing  \"get_fitness\"\n",
      "['At iteration 1 the best fitness is 78.84531902206322']\n",
      "['At iteration 2 the best fitness is 78.84531902206322']\n",
      "['At iteration 3 the best fitness is 78.84531902206322']\n",
      "['At iteration 4 the best fitness is 78.84531902206322']\n",
      "['At iteration 5 the best fitness is 78.84531902206322']\n",
      "['At iteration 6 the best fitness is 78.84531902206322']\n",
      "['At iteration 7 the best fitness is 78.84531902206322']\n",
      "['At iteration 8 the best fitness is 78.84531902206322']\n",
      "['At iteration 9 the best fitness is 78.84531902206322']\n",
      "['At iteration 10 the best fitness is 78.84531902206322']\n",
      "['At iteration 11 the best fitness is 78.84531902206322']\n",
      "['At iteration 12 the best fitness is 78.84531902206322']\n",
      "['At iteration 13 the best fitness is 78.84531902206322']\n",
      "['At iteration 14 the best fitness is 78.84531902206322']\n",
      "['At iteration 15 the best fitness is 78.84531902206322']\n",
      "['At iteration 16 the best fitness is 78.84531902206322']\n",
      "['At iteration 17 the best fitness is 78.84531902206322']\n",
      "['At iteration 18 the best fitness is 78.84531902206322']\n",
      "['At iteration 19 the best fitness is 78.84531902206322']\n",
      "['At iteration 20 the best fitness is 78.84531902206322']\n",
      "['Optimizer' 'objfname' 'startTime' 'EndTime' 'ExecutionTime' 'Iter1'\n",
      " 'Iter2' 'Iter3' 'Iter4' 'Iter5' 'Iter6' 'Iter7' 'Iter8' 'Iter9' 'Iter10'\n",
      " 'Iter11' 'Iter12' 'Iter13' 'Iter14' 'Iter15' 'Iter16' 'Iter17' 'Iter18'\n",
      " 'Iter19' 'Iter20']\n",
      "GSA is optimizing  \"get_fitness\"\n",
      "['At iteration 1 the best fitness is 79.2524349035977']\n",
      "['At iteration 2 the best fitness is 79.2524349035977']\n",
      "['At iteration 3 the best fitness is 79.2524349035977']\n",
      "['At iteration 4 the best fitness is 79.2524349035977']\n",
      "['At iteration 5 the best fitness is 79.2524349035977']\n",
      "['At iteration 6 the best fitness is 79.2524349035977']\n",
      "['At iteration 7 the best fitness is 79.2524349035977']\n",
      "['At iteration 8 the best fitness is 79.2524349035977']\n",
      "['At iteration 9 the best fitness is 79.2524349035977']\n",
      "['At iteration 10 the best fitness is 79.2524349035977']\n",
      "['At iteration 11 the best fitness is 79.2524349035977']\n",
      "['At iteration 12 the best fitness is 79.2524349035977']\n",
      "['At iteration 13 the best fitness is 79.2524349035977']\n",
      "['At iteration 14 the best fitness is 79.2524349035977']\n",
      "['At iteration 15 the best fitness is 79.2524349035977']\n",
      "['At iteration 16 the best fitness is 79.2524349035977']\n",
      "['At iteration 17 the best fitness is 79.2524349035977']\n",
      "['At iteration 18 the best fitness is 79.2524349035977']\n",
      "['At iteration 19 the best fitness is 79.2524349035977']\n",
      "['At iteration 20 the best fitness is 79.2524349035977']\n",
      "GSA is optimizing  \"get_fitness\"\n",
      "['At iteration 1 the best fitness is 79.13154442456769']\n",
      "['At iteration 2 the best fitness is 79.13154442456769']\n",
      "['At iteration 3 the best fitness is 79.13154442456769']\n",
      "['At iteration 4 the best fitness is 79.13154442456769']\n",
      "['At iteration 5 the best fitness is 79.13154442456769']\n",
      "['At iteration 6 the best fitness is 79.13154442456769']\n",
      "['At iteration 7 the best fitness is 79.13154442456769']\n",
      "['At iteration 8 the best fitness is 79.13154442456769']\n",
      "['At iteration 9 the best fitness is 79.13154442456769']\n",
      "['At iteration 10 the best fitness is 79.13154442456769']\n",
      "['At iteration 11 the best fitness is 79.13154442456769']\n",
      "['At iteration 12 the best fitness is 79.13154442456769']\n",
      "['At iteration 13 the best fitness is 79.13154442456769']\n",
      "['At iteration 14 the best fitness is 79.13154442456769']\n",
      "['At iteration 15 the best fitness is 79.13154442456769']\n",
      "['At iteration 16 the best fitness is 79.13154442456769']\n",
      "['At iteration 17 the best fitness is 79.13154442456769']\n",
      "['At iteration 18 the best fitness is 79.13154442456769']\n",
      "['At iteration 19 the best fitness is 79.13154442456769']\n",
      "['At iteration 20 the best fitness is 79.13154442456769']\n"
     ]
    }
   ],
   "source": [
    "import csv\n",
    "import numpy as np\n",
    "import os\n",
    "import time\n",
    "\n",
    "from benchmarks import get_function_details\n",
    "from src.entities import GSA\n",
    "\n",
    "# Select number of repetitions for each experiment. \n",
    "# To obtain meaningful statistical results, usually 30 independent runs \n",
    "# are executed for each algorithm.\n",
    "runs = 3\n",
    "\n",
    "# Select chaotic constant\n",
    "chaotic_constant = True\n",
    "\n",
    "# Export results ?\n",
    "export = True\n",
    "\n",
    "save_path = \"data/output/\"\n",
    "if not os.path.exists(save_path):\n",
    "    os.makedirs(save_path)\n",
    "\n",
    "ExportToFile = save_path + \"experiment\" + time.strftime(\"%Y-%m-%d-%H-%M-%S_\") + str(chaotic_constant) + \".csv\"\n",
    "\n",
    "# Check if it works at least once\n",
    "atLeastOneIteration = False\n",
    "\n",
    "# CSV Header for the convergence\n",
    "CnvgHeader = []\n",
    "\n",
    "population_size = 5 \n",
    "iterations = 20\n",
    "\n",
    "fitness_evaluations = 100\n",
    "\n",
    "boundaries = {'real': [(0, 200), (0, 200)], 'discrete': [(0, 1) for _ in range(len(X.columns))]}\n",
    "\n",
    "for l in range(iterations):\n",
    "    CnvgHeader.append(\"Iter\" + str(l + 1))\n",
    "    # SolHeader.append(\"Sol_Iter\"+str(l+1))\n",
    "\n",
    "for k in range(runs):\n",
    "    gsa_algo = GSA(objective_function = uci.get_fitness,\n",
    "                   r_dim=2,\n",
    "                   d_dim=len(X.columns),\n",
    "                   boundaries=boundaries)\n",
    "    \n",
    "    gsa_algo.optimize(population_size=population_size,\n",
    "                      iters=iterations,\n",
    "                      chaotic_constant=True)\n",
    "\n",
    "    if export:\n",
    "        with open(ExportToFile, 'a') as out:\n",
    "            writer = csv.writer(out, delimiter=',')\n",
    "            if not atLeastOneIteration:  # just one time to write the header of the CSV file\n",
    "                header = np.concatenate(\n",
    "                    [[\"Optimizer\", \"objfname\", \"startTime\", \"EndTime\", \"ExecutionTime\"], CnvgHeader])\n",
    "                print(header)\n",
    "                writer.writerow(header)\n",
    "            a = np.concatenate(\n",
    "                [[gsa_algo.objective_function_name,\n",
    "                  gsa_algo.start_time,\n",
    "                  gsa_algo.end_time,\n",
    "                  gsa_algo.execution_time],\n",
    "                  gsa_algo.convergence])\n",
    "            writer.writerow(a)\n",
    "        out.close()\n",
    "    atLeastOneIteration = True  # at least one experiment\n",
    "\n",
    "if not atLeastOneIteration:  # Faild to run at least one experiment\n",
    "    print(\"No Optimizer or Cost function is selected. Check lists of available optimizers and cost functions\")"
   ],
   "metadata": {
    "collapsed": false,
    "ExecuteTime": {
     "end_time": "2024-02-14T15:47:49.814213Z",
     "start_time": "2024-02-14T15:47:47.756778Z"
    }
   },
   "id": "4897f401c150dc41",
   "execution_count": 19
  },
  {
   "cell_type": "code",
   "outputs": [],
   "source": [],
   "metadata": {
    "collapsed": false
   },
   "id": "fb08c189a2e3c951"
  }
 ],
 "metadata": {
  "kernelspec": {
   "display_name": "Python 3",
   "language": "python",
   "name": "python3"
  },
  "language_info": {
   "codemirror_mode": {
    "name": "ipython",
    "version": 2
   },
   "file_extension": ".py",
   "mimetype": "text/x-python",
   "name": "python",
   "nbconvert_exporter": "python",
   "pygments_lexer": "ipython2",
   "version": "2.7.6"
  }
 },
 "nbformat": 4,
 "nbformat_minor": 5
}
