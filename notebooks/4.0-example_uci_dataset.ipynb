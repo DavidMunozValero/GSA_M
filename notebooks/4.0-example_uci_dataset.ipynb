{
 "cells": [
  {
   "cell_type": "code",
   "execution_count": 1,
   "id": "af8f319d1e0e6966",
   "metadata": {
    "collapsed": false,
    "ExecuteTime": {
     "end_time": "2024-02-29T10:14:19.494948Z",
     "start_time": "2024-02-29T10:14:19.351844Z"
    }
   },
   "outputs": [],
   "source": [
    "%load_ext autoreload\n",
    "%autoreload 2\n",
    "\n",
    "import ipywidgets as widgets\n",
    "import numpy as np\n",
    "import os\n",
    "import pandas as pd\n",
    "\n",
    "from benchmarks import gsa_svm_fitness\n",
    "from src.entities import GSA\n",
    "\n",
    "from IPython.display import display\n",
    "from sklearn.metrics import accuracy_score, confusion_matrix\n",
    "from sklearn.model_selection import train_test_split\n",
    "from sklearn.preprocessing import LabelEncoder, StandardScaler\n",
    "from sklearn.svm import SVC\n",
    "from typing import Mapping, Tuple, Union\n",
    "from ucimlrepo import fetch_ucirepo"
   ]
  },
  {
   "cell_type": "code",
   "execution_count": 2,
   "id": "736e25e39f9e24c2",
   "metadata": {
    "collapsed": false,
    "ExecuteTime": {
     "end_time": "2024-02-29T10:14:20.132351Z",
     "start_time": "2024-02-29T10:14:20.031010Z"
    }
   },
   "outputs": [
    {
     "data": {
      "text/plain": "Dropdown(description='Dataset: ', options=('Breast Cancer Wisconsin (Diagnostic)', 'Spambase', 'Mushroom'), va…",
      "application/vnd.jupyter.widget-view+json": {
       "version_major": 2,
       "version_minor": 0,
       "model_id": "b31b6a4d0847403e82f815792e172f5f"
      }
     },
     "metadata": {},
     "output_type": "display_data"
    }
   ],
   "source": [
    "uci_datasets = [\"Breast Cancer Wisconsin (Diagnostic)\",\n",
    "                \"Spambase\",\n",
    "                \"Mushroom\"]\n",
    "\n",
    "widget_opt = widgets.Dropdown(\n",
    "    options=uci_datasets,\n",
    "    description='Dataset: '\n",
    ")\n",
    "\n",
    "display(widget_opt)\n",
    "\n"
   ]
  },
  {
   "cell_type": "code",
   "execution_count": 3,
   "id": "6e83527c8212f437",
   "metadata": {
    "collapsed": false,
    "ExecuteTime": {
     "end_time": "2024-02-29T10:14:22.553358Z",
     "start_time": "2024-02-29T10:14:20.617135Z"
    }
   },
   "outputs": [
    {
     "name": "stdout",
     "output_type": "stream",
     "text": [
      "Dataset: Breast Cancer Wisconsin (Diagnostic)\n",
      "Instances: 699 (Train / Test: 80% / 20%)\n",
      "Features: 9\n"
     ]
    }
   ],
   "source": [
    "def fetch_categorical_dataset(_id: int) -> Tuple[pd.DataFrame, pd.Series]:\n",
    "    data = fetch_ucirepo(id=_id)\n",
    "    X = data.data.features\n",
    "    y = data.data.targets\n",
    "    encoder = LabelEncoder()\n",
    "    for col in X.columns:\n",
    "        X.loc[:, col] = encoder.fit_transform(X[col])\n",
    "    return X, y\n",
    "\n",
    "if widget_opt.value == \"Breast Cancer Wisconsin (Diagnostic)\":\n",
    "    data = fetch_ucirepo(id=15)\n",
    "    X = data.data.features\n",
    "    y = data.data.targets\n",
    "    X = X.fillna(value=0)\n",
    "elif widget_opt.value == \"Spambase\":\n",
    "    X, y = fetch_categorical_dataset(_id=94)\n",
    "elif widget_opt.value == \"Mushroom\":\n",
    "    X, y = fetch_categorical_dataset(_id=73)\n",
    "    \n",
    "# Name of selected dataset and summary (number of instances, features, etc.)\n",
    "print(f\"Dataset: {widget_opt.value}\")\n",
    "print(f\"Instances: {X.shape[0]} (Train / Test: 80% / 20%)\")\n",
    "print(f\"Features: {X.shape[1]}\")"
   ]
  },
  {
   "cell_type": "code",
   "execution_count": 4,
   "id": "f09d09eb81e9c069",
   "metadata": {
    "collapsed": false,
    "ExecuteTime": {
     "end_time": "2024-02-29T10:14:23.235018Z",
     "start_time": "2024-02-29T10:14:23.210533Z"
    }
   },
   "outputs": [],
   "source": [
    "# IMPORTANT!! GLOBAL VARIABLES\n",
    "wa = 0.8\n",
    "wf = 0.2\n",
    "\n",
    "# IMPORTANT!! MUTABLE GLOBAL VARIABLE\n",
    "conf_matrix_dict = {\"TP\": 0, \"FP\": 0, \"TN\": 0, \"FN\": 0}\n",
    "\n",
    "class UCI:\n",
    "    \"\"\"\n",
    "    Class to handle UCI datasets\n",
    "    \n",
    "    Args:\n",
    "        X (pd.DataFrame): Features\n",
    "        y (pd.Series): Target\n",
    "    \"\"\"\n",
    "    def __init__(self,\n",
    "                 X: pd.DataFrame,\n",
    "                 y: pd.Series,\n",
    "                 boundaries: Mapping[str, Tuple[Tuple[float, float], ...]],\n",
    "                 seed: int = 5\n",
    "                 ) -> None:\n",
    "        \"\"\"\n",
    "        Constructor\n",
    "        \n",
    "        Args:\n",
    "            X (pd.DataFrame): Features\n",
    "            y (pd.Series): Target\n",
    "            boundaries (Mapping[str, Tuple[Tuple[float, float], ...]): Boundaries for the optimization problem\n",
    "            seed (int, optional): Random seed. Defaults to 5.\n",
    "        \"\"\"\n",
    "        self.X = X\n",
    "        self.y = y\n",
    "        self.boundaries = boundaries\n",
    "\n",
    "        scaler = StandardScaler()\n",
    "        X_scaled = scaler.fit_transform(self.X)\n",
    "        \n",
    "        X_train, X_test, y_train, y_test = train_test_split(X_scaled, y, test_size = 0.20, random_state=seed)\n",
    "        self.X_train = X_train\n",
    "        self.X_test = X_test\n",
    "        self.y_train = y_train\n",
    "        self.y_test = y_test\n",
    "\n",
    "    \n",
    "    def get_fitness(self,\n",
    "                    solution: Mapping[str, np.ndarray],\n",
    "                    data: Union[None, Tuple[np.ndarray, np.ndarray]] = None,\n",
    "                    show_confusion_matrix: bool=False\n",
    "                    ) -> Tuple[float, float]:\n",
    "        \"\"\"\n",
    "        Get fitness of a solution\n",
    "        \n",
    "        Args:\n",
    "            solution (Mapping[str, np.ndarray]): Solution to evaluate\n",
    "            data (Union[None, Tuple[np.ndarray, np.ndarray]], optional): Data to evaluate the solution. Defaults to None.\n",
    "        \n",
    "        Returns:\n",
    "            Tuple[float, float]: Fitness and accuracy of the solution    \n",
    "        \"\"\"\n",
    "        if data is None:\n",
    "            X_scaled = self.X_train\n",
    "            y_data = self.y_train\n",
    "        else:\n",
    "            X_scaled, y_data = data\n",
    "            \n",
    "        gamma, C = solution['real']\n",
    "        gamma /= 1_000\n",
    "        C /= 1_000\n",
    "        X_scaled_filtered = X_scaled[:, solution['discrete'].astype(int) == 1]\n",
    "        svc_model = SVC(gamma=gamma, C=C, kernel=\"rbf\", verbose=False)\n",
    "        svc_model.fit(X_scaled_filtered, np.ravel(y_data))\n",
    "        y_predict = svc_model.predict(X_scaled_filtered)\n",
    "        conf_matrix = confusion_matrix(y_data, y_predict)\n",
    "        if show_confusion_matrix:\n",
    "            # Update global conf_matrix_dict\n",
    "            conf_matrix_dict[\"TP\"] = conf_matrix[0, 0]\n",
    "            conf_matrix_dict[\"FP\"] = conf_matrix[0, 1]\n",
    "            conf_matrix_dict[\"TN\"] = conf_matrix[1, 1]\n",
    "            conf_matrix_dict[\"FN\"] = conf_matrix[1, 0]\n",
    "            print(conf_matrix)\n",
    "        accuracy = accuracy_score(y_data, y_predict) * 100\n",
    "        \n",
    "        return gsa_svm_fitness(accuracy=accuracy, solution=solution, wa=wa, wf=wf)\n",
    "\n",
    "    def is_feasible(self, solution: Mapping[str, np.ndarray]) -> bool:\n",
    "        \"\"\"\n",
    "        Check if a solution is feasable\n",
    "\n",
    "        Args:\n",
    "            solution (Mapping[str, np.ndarray]): Solution to evaluate\n",
    "\n",
    "        Returns:\n",
    "            bool: True if the solution is feasable, False otherwise\n",
    "        \"\"\"\n",
    "        real_values = solution['real']\n",
    "        discrete_values = solution['discrete']\n",
    "\n",
    "        for i, (min_val, max_val) in enumerate(self.boundaries['real']):\n",
    "            if real_values[i] < min_val or real_values[i] > max_val:\n",
    "                return False\n",
    "\n",
    "        for i, (min_val, max_val) in enumerate(self.boundaries['discrete']):\n",
    "            if discrete_values[i] < min_val or discrete_values[i] > max_val:\n",
    "                return False\n",
    "        \n",
    "        if sum(discrete_values) == 0:\n",
    "            return False\n",
    "        \n",
    "        return True\n",
    "\n",
    "boundaries = {'real': [(1, 100_000), (1, 100_000)], 'discrete': [(0, 1) for _ in range(len(X.columns))]}\n",
    "uci = UCI(X, y, boundaries)"
   ]
  },
  {
   "cell_type": "code",
   "execution_count": 21,
   "id": "4897f401c150dc41",
   "metadata": {
    "collapsed": false,
    "ExecuteTime": {
     "end_time": "2024-02-29T10:26:12.704099Z",
     "start_time": "2024-02-29T10:26:05.946261Z"
    }
   },
   "outputs": [
    {
     "name": "stdout",
     "output_type": "stream",
     "text": [
      "GSA is optimizing  \"get_fitness\"\n",
      "['At iteration 1 the best fitness is 88.88888888888889']\n",
      "['At iteration 2 the best fitness is 91.47286821705427']\n",
      "['At iteration 3 the best fitness is 92.47465712581993']\n",
      "['At iteration 4 the best fitness is 92.47465712581993']\n",
      "['At iteration 5 the best fitness is 92.47465712581993']\n",
      "['At iteration 6 the best fitness is 92.47465712581993']\n",
      "['At iteration 7 the best fitness is 92.47465712581993']\n",
      "['At iteration 8 the best fitness is 92.47465712581993']\n",
      "['At iteration 9 the best fitness is 92.47465712581993']\n",
      "['At iteration 10 the best fitness is 92.47465712581993']\n",
      "['At iteration 11 the best fitness is 92.47465712581993']\n",
      "['At iteration 12 the best fitness is 92.47465712581993']\n",
      "['At iteration 13 the best fitness is 92.47465712581993']\n",
      "['At iteration 14 the best fitness is 92.47465712581993']\n",
      "['At iteration 15 the best fitness is 92.47465712581993']\n",
      "['At iteration 16 the best fitness is 92.47465712581993']\n",
      "['At iteration 17 the best fitness is 92.47465712581993']\n",
      "['At iteration 18 the best fitness is 92.47465712581993']\n",
      "['At iteration 19 the best fitness is 92.47465712581993']\n",
      "['At iteration 20 the best fitness is 92.47465712581993']\n",
      "{'real': array([38787.11811551, 39804.49722264]), 'discrete': array([0, 1, 1, 1, 1, 0, 0, 1, 1])}\n",
      "[[90  1]\n",
      " [ 0 49]]\n",
      "Test accuracy:  99.28571428571429  - Fitness:  86.09523809523812\n",
      "GSA is optimizing  \"get_fitness\"\n",
      "['At iteration 1 the best fitness is 90.68177300735441']\n",
      "['At iteration 2 the best fitness is 90.9679984098589']\n",
      "['At iteration 3 the best fitness is 90.9679984098589']\n",
      "['At iteration 4 the best fitness is 90.9679984098589']\n",
      "['At iteration 5 the best fitness is 92.33154442456768']\n",
      "['At iteration 6 the best fitness is 92.33154442456768']\n",
      "['At iteration 7 the best fitness is 92.33154442456768']\n",
      "['At iteration 8 the best fitness is 92.33154442456768']\n",
      "['At iteration 9 the best fitness is 92.33154442456768']\n",
      "['At iteration 10 the best fitness is 92.33154442456768']\n",
      "['At iteration 11 the best fitness is 92.47465712581993']\n",
      "['At iteration 12 the best fitness is 92.47465712581993']\n",
      "['At iteration 13 the best fitness is 92.47465712581993']\n",
      "['At iteration 14 the best fitness is 92.47465712581993']\n",
      "['At iteration 15 the best fitness is 92.47465712581993']\n",
      "['At iteration 16 the best fitness is 92.47465712581993']\n",
      "['At iteration 17 the best fitness is 92.47465712581993']\n",
      "['At iteration 18 the best fitness is 92.47465712581993']\n",
      "['At iteration 19 the best fitness is 92.47465712581993']\n",
      "['At iteration 20 the best fitness is 92.47465712581993']\n",
      "{'real': array([36321.11037291,  9848.58806086]), 'discrete': array([0, 1, 0, 1, 0, 1, 1, 1, 0])}\n",
      "[[91  0]\n",
      " [ 0 49]]\n",
      "Test accuracy:  100.0  - Fitness:  88.88888888888889\n",
      "GSA is optimizing  \"get_fitness\"\n",
      "['At iteration 1 the best fitness is 92.47465712581993']\n",
      "['At iteration 2 the best fitness is 92.5501888292586']\n",
      "['At iteration 3 the best fitness is 92.69330153051084']\n",
      "['At iteration 4 the best fitness is 92.69330153051084']\n",
      "['At iteration 5 the best fitness is 92.69330153051084']\n",
      "['At iteration 6 the best fitness is 92.69330153051084']\n",
      "['At iteration 7 the best fitness is 92.7608825283244']\n",
      "['At iteration 8 the best fitness is 92.7608825283244']\n",
      "['At iteration 9 the best fitness is 92.7608825283244']\n",
      "['At iteration 10 the best fitness is 92.7608825283244']\n",
      "['At iteration 11 the best fitness is 92.7608825283244']\n",
      "['At iteration 12 the best fitness is 92.7608825283244']\n",
      "['At iteration 13 the best fitness is 92.7608825283244']\n",
      "['At iteration 14 the best fitness is 92.7608825283244']\n",
      "['At iteration 15 the best fitness is 92.7608825283244']\n",
      "['At iteration 16 the best fitness is 92.7608825283244']\n",
      "['At iteration 17 the best fitness is 93.55197773802425']\n",
      "['At iteration 18 the best fitness is 93.55197773802425']\n",
      "['At iteration 19 the best fitness is 93.55197773802425']\n",
      "['At iteration 20 the best fitness is 93.55197773802425']\n",
      "{'real': array([ 5226.32530679, 42947.65066834]), 'discrete': array([0, 0, 0, 0, 0, 1, 0, 1, 0])}\n",
      "[[89  2]\n",
      " [ 1 48]]\n",
      "Test accuracy:  97.85714285714285  - Fitness:  93.84126984126983\n",
      "GSA is optimizing  \"get_fitness\"\n",
      "['At iteration 1 the best fitness is 92.69330153051084']\n",
      "['At iteration 2 the best fitness is 92.69330153051084']\n",
      "['At iteration 3 the best fitness is 92.69330153051084']\n",
      "['At iteration 4 the best fitness is 92.69330153051084']\n",
      "['At iteration 5 the best fitness is 92.69330153051084']\n",
      "['At iteration 6 the best fitness is 92.7608825283244']\n",
      "['At iteration 7 the best fitness is 92.7608825283244']\n",
      "['At iteration 8 the best fitness is 92.7608825283244']\n",
      "['At iteration 9 the best fitness is 92.7608825283244']\n",
      "['At iteration 10 the best fitness is 92.7608825283244']\n",
      "['At iteration 11 the best fitness is 92.7608825283244']\n",
      "['At iteration 12 the best fitness is 92.7608825283244']\n",
      "['At iteration 13 the best fitness is 92.7608825283244']\n",
      "['At iteration 14 the best fitness is 93.12263963426756']\n",
      "['At iteration 15 the best fitness is 93.12263963426756']\n",
      "['At iteration 16 the best fitness is 93.55197773802425']\n",
      "['At iteration 17 the best fitness is 93.55197773802425']\n",
      "['At iteration 18 the best fitness is 93.55197773802425']\n",
      "['At iteration 19 the best fitness is 93.55197773802425']\n",
      "['At iteration 20 the best fitness is 93.55197773802425']\n",
      "{'real': array([90206.24206973, 29311.01365285]), 'discrete': array([0, 0, 0, 0, 1, 1, 0, 0, 0])}\n",
      "[[90  1]\n",
      " [ 0 49]]\n",
      "Test accuracy:  99.28571428571429  - Fitness:  94.984126984127\n",
      "GSA is optimizing  \"get_fitness\"\n",
      "['At iteration 1 the best fitness is 90.82488570860664']\n",
      "['At iteration 2 the best fitness is 92.18843172331546']\n",
      "['At iteration 3 the best fitness is 92.18843172331546']\n",
      "['At iteration 4 the best fitness is 92.18843172331546']\n",
      "['At iteration 5 the best fitness is 92.18843172331546']\n",
      "['At iteration 6 the best fitness is 92.18843172331546']\n",
      "['At iteration 7 the best fitness is 92.18843172331546']\n",
      "['At iteration 8 the best fitness is 92.40707612800637']\n",
      "['At iteration 9 the best fitness is 92.40707612800637']\n",
      "['At iteration 10 the best fitness is 92.40707612800637']\n",
      "['At iteration 11 the best fitness is 92.40707612800637']\n",
      "['At iteration 12 the best fitness is 92.40707612800637']\n",
      "['At iteration 13 the best fitness is 92.40707612800637']\n",
      "['At iteration 14 the best fitness is 92.61776982707218']\n",
      "['At iteration 15 the best fitness is 92.61776982707218']\n",
      "['At iteration 16 the best fitness is 92.61776982707218']\n",
      "['At iteration 17 the best fitness is 92.61776982707218']\n",
      "['At iteration 18 the best fitness is 92.61776982707218']\n",
      "['At iteration 19 the best fitness is 92.61776982707218']\n",
      "['At iteration 20 the best fitness is 92.61776982707218']\n",
      "{'real': array([80434.67852231, 73205.08927175]), 'discrete': array([1, 0, 1, 0, 0, 0, 0, 1, 0])}\n",
      "[[91  0]\n",
      " [ 1 48]]\n",
      "Test accuracy:  99.28571428571429  - Fitness:  92.76190476190479\n",
      "GSA is optimizing  \"get_fitness\"\n",
      "['At iteration 1 the best fitness is 92.61776982707218']\n",
      "['At iteration 2 the best fitness is 92.61776982707218']\n",
      "['At iteration 3 the best fitness is 93.04710793082887']\n",
      "['At iteration 4 the best fitness is 93.04710793082887']\n",
      "['At iteration 5 the best fitness is 93.04710793082887']\n",
      "['At iteration 6 the best fitness is 93.04710793082887']\n",
      "['At iteration 7 the best fitness is 93.04710793082887']\n",
      "['At iteration 8 the best fitness is 93.04710793082887']\n",
      "['At iteration 9 the best fitness is 93.04710793082887']\n",
      "['At iteration 10 the best fitness is 93.55197773802425']\n",
      "['At iteration 11 the best fitness is 93.55197773802425']\n",
      "['At iteration 12 the best fitness is 93.55197773802425']\n",
      "['At iteration 13 the best fitness is 93.55197773802425']\n",
      "['At iteration 14 the best fitness is 93.55197773802425']\n",
      "['At iteration 15 the best fitness is 93.55197773802425']\n",
      "['At iteration 16 the best fitness is 93.55197773802425']\n",
      "['At iteration 17 the best fitness is 93.55197773802425']\n",
      "['At iteration 18 the best fitness is 93.55197773802425']\n",
      "['At iteration 19 the best fitness is 93.55197773802425']\n",
      "['At iteration 20 the best fitness is 93.55197773802425']\n",
      "{'real': array([74759.12413532, 90147.49934877]), 'discrete': array([0, 0, 0, 1, 0, 1, 0, 1, 0])}\n",
      "[[91  0]\n",
      " [ 0 49]]\n",
      "Test accuracy:  100.0  - Fitness:  93.33333333333334\n",
      "GSA is optimizing  \"get_fitness\"\n",
      "['At iteration 1 the best fitness is 91.04353011329758']\n",
      "['At iteration 2 the best fitness is 91.04353011329758']\n",
      "['At iteration 3 the best fitness is 91.04353011329758']\n",
      "['At iteration 4 the best fitness is 91.04353011329758']\n",
      "['At iteration 5 the best fitness is 91.04353011329758']\n",
      "['At iteration 6 the best fitness is 91.04353011329758']\n",
      "['At iteration 7 the best fitness is 91.04353011329758']\n",
      "['At iteration 8 the best fitness is 91.04353011329758']\n",
      "['At iteration 9 the best fitness is 91.04353011329758']\n",
      "['At iteration 10 the best fitness is 91.04353011329758']\n",
      "['At iteration 11 the best fitness is 91.04353011329758']\n",
      "['At iteration 12 the best fitness is 91.04353011329758']\n",
      "['At iteration 13 the best fitness is 91.1866428145498']\n",
      "['At iteration 14 the best fitness is 91.1866428145498']\n",
      "['At iteration 15 the best fitness is 91.47286821705427']\n",
      "['At iteration 16 the best fitness is 91.47286821705427']\n",
      "['At iteration 17 the best fitness is 91.47286821705427']\n",
      "['At iteration 18 the best fitness is 91.47286821705427']\n",
      "['At iteration 19 the best fitness is 91.47286821705427']\n",
      "['At iteration 20 the best fitness is 91.47286821705427']\n",
      "{'real': array([79553.93853587, 73508.83458561]), 'discrete': array([0, 0, 1, 0, 1, 0, 0, 0, 1])}\n",
      "[[87  4]\n",
      " [ 1 48]]\n",
      "Test accuracy:  96.42857142857143  - Fitness:  90.47619047619048\n",
      "GSA is optimizing  \"get_fitness\"\n",
      "['At iteration 1 the best fitness is 91.1866428145498']\n",
      "['At iteration 2 the best fitness is 92.61776982707218']\n",
      "['At iteration 3 the best fitness is 92.61776982707218']\n",
      "['At iteration 4 the best fitness is 92.61776982707218']\n",
      "['At iteration 5 the best fitness is 92.61776982707218']\n",
      "['At iteration 6 the best fitness is 93.19022063208112']\n",
      "['At iteration 7 the best fitness is 93.19022063208112']\n",
      "['At iteration 8 the best fitness is 93.19022063208112']\n",
      "['At iteration 9 the best fitness is 93.19022063208112']\n",
      "['At iteration 10 the best fitness is 93.19022063208112']\n",
      "['At iteration 11 the best fitness is 93.19022063208112']\n",
      "['At iteration 12 the best fitness is 93.19022063208112']\n",
      "['At iteration 13 the best fitness is 93.19022063208112']\n",
      "['At iteration 14 the best fitness is 93.19022063208112']\n",
      "['At iteration 15 the best fitness is 93.19022063208112']\n",
      "['At iteration 16 the best fitness is 93.19022063208112']\n",
      "['At iteration 17 the best fitness is 93.19022063208112']\n",
      "['At iteration 18 the best fitness is 93.19022063208112']\n",
      "['At iteration 19 the best fitness is 93.19022063208112']\n",
      "['At iteration 20 the best fitness is 93.19022063208112']\n",
      "{'real': array([43791.42301827, 65238.58254518]), 'discrete': array([0, 1, 0, 1, 1, 0, 0, 0, 0])}\n",
      "[[89  2]\n",
      " [ 0 49]]\n",
      "Test accuracy:  98.57142857142858  - Fitness:  92.1904761904762\n",
      "GSA is optimizing  \"get_fitness\"\n",
      "['At iteration 1 the best fitness is 90.68177300735441']\n",
      "['At iteration 2 the best fitness is 92.33154442456768']\n",
      "['At iteration 3 the best fitness is 92.33154442456768']\n",
      "['At iteration 4 the best fitness is 92.33154442456768']\n",
      "['At iteration 5 the best fitness is 92.33154442456768']\n",
      "['At iteration 6 the best fitness is 92.33154442456768']\n",
      "['At iteration 7 the best fitness is 92.33154442456768']\n",
      "['At iteration 8 the best fitness is 92.33154442456768']\n",
      "['At iteration 9 the best fitness is 92.7608825283244']\n",
      "['At iteration 10 the best fitness is 92.7608825283244']\n",
      "['At iteration 11 the best fitness is 92.7608825283244']\n",
      "['At iteration 12 the best fitness is 92.7608825283244']\n",
      "['At iteration 13 the best fitness is 92.7608825283244']\n",
      "['At iteration 14 the best fitness is 92.7608825283244']\n",
      "['At iteration 15 the best fitness is 92.7608825283244']\n",
      "['At iteration 16 the best fitness is 93.55197773802425']\n",
      "['At iteration 17 the best fitness is 93.55197773802425']\n",
      "['At iteration 18 the best fitness is 93.55197773802425']\n",
      "['At iteration 19 the best fitness is 93.55197773802425']\n",
      "['At iteration 20 the best fitness is 93.55197773802425']\n",
      "{'real': array([93942.96400357, 45241.81546309]), 'discrete': array([1, 1, 0, 0, 1, 0, 0, 0, 0])}\n",
      "[[91  0]\n",
      " [ 0 49]]\n",
      "Test accuracy:  100.0  - Fitness:  93.33333333333334\n",
      "GSA is optimizing  \"get_fitness\"\n",
      "['At iteration 1 the best fitness is 92.33154442456768']\n",
      "['At iteration 2 the best fitness is 92.5501888292586']\n",
      "['At iteration 3 the best fitness is 92.5501888292586']\n",
      "['At iteration 4 the best fitness is 92.5501888292586']\n",
      "['At iteration 5 the best fitness is 92.69330153051084']\n",
      "['At iteration 6 the best fitness is 92.69330153051084']\n",
      "['At iteration 7 the best fitness is 92.69330153051084']\n",
      "['At iteration 8 the best fitness is 92.69330153051084']\n",
      "['At iteration 9 the best fitness is 92.69330153051084']\n",
      "['At iteration 10 the best fitness is 92.69330153051084']\n",
      "['At iteration 11 the best fitness is 92.69330153051084']\n",
      "['At iteration 12 the best fitness is 92.69330153051084']\n",
      "['At iteration 13 the best fitness is 92.69330153051084']\n",
      "['At iteration 14 the best fitness is 92.69330153051084']\n",
      "['At iteration 15 the best fitness is 92.69330153051084']\n",
      "['At iteration 16 the best fitness is 92.69330153051084']\n",
      "['At iteration 17 the best fitness is 92.69330153051084']\n",
      "['At iteration 18 the best fitness is 92.69330153051084']\n",
      "['At iteration 19 the best fitness is 92.69330153051084']\n",
      "['At iteration 20 the best fitness is 92.69330153051084']\n",
      "{'real': array([97383.16771088, 32208.4387941 ]), 'discrete': array([0, 1, 1, 0, 0, 0, 0, 1, 0])}\n",
      "[[88  3]\n",
      " [ 1 48]]\n",
      "Test accuracy:  97.14285714285714  - Fitness:  91.04761904761907\n"
     ]
    }
   ],
   "source": [
    "# Select number of repetitions for each experiment. \n",
    "runs = 10\n",
    "\n",
    "population_size = 5 \n",
    "iterations = 20\n",
    "\n",
    "chaotic_constant=True\n",
    "repair_solution=False\n",
    "\n",
    "gsa_history_dict = {\"best_solution_history\": [],\n",
    "                    \"accuracy_history\": [],\n",
    "                    \"gamma_history\": [],\n",
    "                    \"c_history\": [],\n",
    "                    \"n_features_history\": [],\n",
    "                    \"execution_time_history\": [],\n",
    "                    \"TP_history\": [],\n",
    "                    \"FP_history\": [],\n",
    "                    \"TN_history\": [],\n",
    "                    \"FN_history\": []}\n",
    "\n",
    "uci = UCI(X, y, boundaries)\n",
    "\n",
    "global_train_hist = pd.DataFrame()\n",
    "global_test_hist = pd.DataFrame(columns=[\"run\", \"accuracy\", \"fitness\", \"TP\", \"FP\", \"TN\", \"FN\"])\n",
    "\n",
    "for k in range(runs):\n",
    "    gsa_algo = GSA(objective_function = uci.get_fitness,\n",
    "                   is_feasible=uci.is_feasible,\n",
    "                   r_dim=2,\n",
    "                   d_dim=len(X.columns),\n",
    "                   boundaries=uci.boundaries)\n",
    "    \n",
    "    training_history = gsa_algo.optimize(population_size=population_size,\n",
    "                                iters=iterations,\n",
    "                                chaotic_constant=chaotic_constant,\n",
    "                                repair_solution=repair_solution)\n",
    "    \n",
    "    training_history.insert(0, \"run\", k)\n",
    "    global_train_hist = pd.concat([global_train_hist, training_history], axis=0)\n",
    "    \n",
    "    print(gsa_algo.solution_history[-1])\n",
    "    fitness, accuracy = uci.get_fitness(solution=gsa_algo.solution_history[-1],\n",
    "                                        data=(uci.X_test, uci.y_test),\n",
    "                                        show_confusion_matrix=True)\n",
    "    \n",
    "    global_test_hist.loc[len(global_test_hist)] = [k, accuracy, fitness, conf_matrix_dict[\"TP\"], conf_matrix_dict[\"FP\"], conf_matrix_dict[\"TN\"], conf_matrix_dict[\"FN\"]]\n",
    "    \n",
    "    print(\"Test accuracy: \", accuracy, \" - Fitness: \", fitness)\n",
    "    \n",
    "    gsa_history_dict[\"best_solution_history\"].append(gsa_algo.solution_history[-1])\n",
    "    gsa_history_dict[\"accuracy_history\"].append(accuracy)\n",
    "    gsa_history_dict[\"gamma_history\"].append(gsa_algo.solution_history[-1]['real'][0] / 1_000)\n",
    "    gsa_history_dict[\"c_history\"].append(gsa_algo.solution_history[-1]['real'][1] / 1_000)\n",
    "    gsa_history_dict[\"n_features_history\"].append(np.sum(gsa_algo.solution_history[-1]['discrete']))\n",
    "    gsa_history_dict[\"execution_time_history\"].append(gsa_algo.execution_time)\n",
    "    gsa_history_dict[\"TP_history\"].append(conf_matrix_dict[\"TP\"])\n",
    "    gsa_history_dict[\"FP_history\"].append(conf_matrix_dict[\"FP\"])\n",
    "    gsa_history_dict[\"TN_history\"].append(conf_matrix_dict[\"TN\"])\n",
    "    gsa_history_dict[\"FN_history\"].append(conf_matrix_dict[\"FN\"])"
   ]
  },
  {
   "cell_type": "code",
   "outputs": [
    {
     "data": {
      "text/plain": "    run  Iteration    Fitness    Accuracy  ExecutionTime  \\\n0     0          0  91.111111  100.000000       0.041841   \n1     0          1  92.617770   99.105546       0.078238   \n2     0          2  92.617770   99.105546       0.111841   \n3     0          3  93.047108   99.642218       0.143500   \n4     0          4  93.047108   99.642218       0.183029   \n..  ...        ...        ...         ...            ...   \n15    9         15  93.190221   99.821109       0.441622   \n16    9         16  93.190221   99.821109       0.466281   \n17    9         17  93.190221   99.821109       0.491388   \n18    9         18  93.190221   99.821109       0.515204   \n19    9         19  93.190221   99.821109       0.536239   \n\n                                             Discrete  \\\n0   [[1, 0, 0, 0, 0, 1, 0, 0, 0], [1, 0, 0, 0, 0, ...   \n1   [[1, 0, 0, 0, 0, 1, 0, 0, 0], [1, 0, 0, 0, 0, ...   \n2   [[1, 0, 0, 0, 0, 1, 0, 0, 0], [1, 0, 0, 0, 0, ...   \n3   [[1, 0, 0, 0, 0, 1, 0, 0, 0], [1, 0, 0, 0, 0, ...   \n4   [[1, 0, 0, 0, 0, 1, 0, 0, 0], [1, 0, 0, 0, 0, ...   \n..                                                ...   \n15  [[0, 1, 0, 0, 0, 1, 0, 1, 0], [0, 1, 0, 0, 0, ...   \n16  [[0, 1, 0, 0, 0, 1, 0, 1, 0], [0, 1, 0, 0, 0, ...   \n17  [[0, 1, 0, 0, 0, 1, 0, 1, 0], [0, 1, 0, 0, 0, ...   \n18  [[0, 1, 0, 0, 0, 1, 0, 1, 0], [0, 1, 0, 0, 0, ...   \n19  [[0, 1, 0, 0, 0, 1, 0, 1, 0], [0, 1, 0, 0, 0, ...   \n\n                                                 Real  \n0   [[13881.06865226167, 29800.62360256229], [6372...  \n1   [[13881.06865226167, 29800.62360256229], [6372...  \n2   [[13881.06865226167, 29800.62360256229], [6372...  \n3   [[13881.06865226167, 29800.62360256229], [6372...  \n4   [[13881.06865226167, 29800.62360256229], [6372...  \n..                                                ...  \n15  [[27617.23026381947, 16472.86717390901], [1140...  \n16  [[27617.23026381947, 16472.86717390901], [1140...  \n17  [[27617.23026381947, 16472.86717390901], [1140...  \n18  [[27617.23026381947, 16472.86717390901], [1140...  \n19  [[27617.23026381947, 16472.86717390901], [1140...  \n\n[200 rows x 7 columns]",
      "text/html": "<div>\n<style scoped>\n    .dataframe tbody tr th:only-of-type {\n        vertical-align: middle;\n    }\n\n    .dataframe tbody tr th {\n        vertical-align: top;\n    }\n\n    .dataframe thead th {\n        text-align: right;\n    }\n</style>\n<table border=\"1\" class=\"dataframe\">\n  <thead>\n    <tr style=\"text-align: right;\">\n      <th></th>\n      <th>run</th>\n      <th>Iteration</th>\n      <th>Fitness</th>\n      <th>Accuracy</th>\n      <th>ExecutionTime</th>\n      <th>Discrete</th>\n      <th>Real</th>\n    </tr>\n  </thead>\n  <tbody>\n    <tr>\n      <th>0</th>\n      <td>0</td>\n      <td>0</td>\n      <td>91.111111</td>\n      <td>100.000000</td>\n      <td>0.041841</td>\n      <td>[[1, 0, 0, 0, 0, 1, 0, 0, 0], [1, 0, 0, 0, 0, ...</td>\n      <td>[[13881.06865226167, 29800.62360256229], [6372...</td>\n    </tr>\n    <tr>\n      <th>1</th>\n      <td>0</td>\n      <td>1</td>\n      <td>92.617770</td>\n      <td>99.105546</td>\n      <td>0.078238</td>\n      <td>[[1, 0, 0, 0, 0, 1, 0, 0, 0], [1, 0, 0, 0, 0, ...</td>\n      <td>[[13881.06865226167, 29800.62360256229], [6372...</td>\n    </tr>\n    <tr>\n      <th>2</th>\n      <td>0</td>\n      <td>2</td>\n      <td>92.617770</td>\n      <td>99.105546</td>\n      <td>0.111841</td>\n      <td>[[1, 0, 0, 0, 0, 1, 0, 0, 0], [1, 0, 0, 0, 0, ...</td>\n      <td>[[13881.06865226167, 29800.62360256229], [6372...</td>\n    </tr>\n    <tr>\n      <th>3</th>\n      <td>0</td>\n      <td>3</td>\n      <td>93.047108</td>\n      <td>99.642218</td>\n      <td>0.143500</td>\n      <td>[[1, 0, 0, 0, 0, 1, 0, 0, 0], [1, 0, 0, 0, 0, ...</td>\n      <td>[[13881.06865226167, 29800.62360256229], [6372...</td>\n    </tr>\n    <tr>\n      <th>4</th>\n      <td>0</td>\n      <td>4</td>\n      <td>93.047108</td>\n      <td>99.642218</td>\n      <td>0.183029</td>\n      <td>[[1, 0, 0, 0, 0, 1, 0, 0, 0], [1, 0, 0, 0, 0, ...</td>\n      <td>[[13881.06865226167, 29800.62360256229], [6372...</td>\n    </tr>\n    <tr>\n      <th>...</th>\n      <td>...</td>\n      <td>...</td>\n      <td>...</td>\n      <td>...</td>\n      <td>...</td>\n      <td>...</td>\n      <td>...</td>\n    </tr>\n    <tr>\n      <th>15</th>\n      <td>9</td>\n      <td>15</td>\n      <td>93.190221</td>\n      <td>99.821109</td>\n      <td>0.441622</td>\n      <td>[[0, 1, 0, 0, 0, 1, 0, 1, 0], [0, 1, 0, 0, 0, ...</td>\n      <td>[[27617.23026381947, 16472.86717390901], [1140...</td>\n    </tr>\n    <tr>\n      <th>16</th>\n      <td>9</td>\n      <td>16</td>\n      <td>93.190221</td>\n      <td>99.821109</td>\n      <td>0.466281</td>\n      <td>[[0, 1, 0, 0, 0, 1, 0, 1, 0], [0, 1, 0, 0, 0, ...</td>\n      <td>[[27617.23026381947, 16472.86717390901], [1140...</td>\n    </tr>\n    <tr>\n      <th>17</th>\n      <td>9</td>\n      <td>17</td>\n      <td>93.190221</td>\n      <td>99.821109</td>\n      <td>0.491388</td>\n      <td>[[0, 1, 0, 0, 0, 1, 0, 1, 0], [0, 1, 0, 0, 0, ...</td>\n      <td>[[27617.23026381947, 16472.86717390901], [1140...</td>\n    </tr>\n    <tr>\n      <th>18</th>\n      <td>9</td>\n      <td>18</td>\n      <td>93.190221</td>\n      <td>99.821109</td>\n      <td>0.515204</td>\n      <td>[[0, 1, 0, 0, 0, 1, 0, 1, 0], [0, 1, 0, 0, 0, ...</td>\n      <td>[[27617.23026381947, 16472.86717390901], [1140...</td>\n    </tr>\n    <tr>\n      <th>19</th>\n      <td>9</td>\n      <td>19</td>\n      <td>93.190221</td>\n      <td>99.821109</td>\n      <td>0.536239</td>\n      <td>[[0, 1, 0, 0, 0, 1, 0, 1, 0], [0, 1, 0, 0, 0, ...</td>\n      <td>[[27617.23026381947, 16472.86717390901], [1140...</td>\n    </tr>\n  </tbody>\n</table>\n<p>200 rows × 7 columns</p>\n</div>"
     },
     "execution_count": 6,
     "metadata": {},
     "output_type": "execute_result"
    }
   ],
   "source": [
    "global_train_hist"
   ],
   "metadata": {
    "collapsed": false,
    "ExecuteTime": {
     "end_time": "2024-02-29T10:14:30.568895Z",
     "start_time": "2024-02-29T10:14:30.540470Z"
    }
   },
   "id": "a7f3891cf673436a",
   "execution_count": 6
  },
  {
   "cell_type": "code",
   "outputs": [
    {
     "data": {
      "text/plain": "   run    accuracy    fitness    TP   FP    TN   FN\n0  0.0   97.142857  93.269841  88.0  3.0  48.0  1.0\n1  1.0  100.000000  91.111111  91.0  0.0  49.0  0.0\n2  2.0  100.000000  91.111111  91.0  0.0  49.0  0.0\n3  3.0   97.857143  93.841270  88.0  3.0  49.0  0.0\n4  4.0   99.285714  92.761905  91.0  0.0  48.0  1.0\n5  5.0   99.285714  92.761905  90.0  1.0  49.0  0.0\n6  6.0   99.285714  90.539683  90.0  1.0  49.0  0.0\n7  7.0   99.285714  90.539683  91.0  0.0  48.0  1.0\n8  8.0  100.000000  88.888889  91.0  0.0  49.0  0.0\n9  9.0   98.571429  92.190476  89.0  2.0  49.0  0.0",
      "text/html": "<div>\n<style scoped>\n    .dataframe tbody tr th:only-of-type {\n        vertical-align: middle;\n    }\n\n    .dataframe tbody tr th {\n        vertical-align: top;\n    }\n\n    .dataframe thead th {\n        text-align: right;\n    }\n</style>\n<table border=\"1\" class=\"dataframe\">\n  <thead>\n    <tr style=\"text-align: right;\">\n      <th></th>\n      <th>run</th>\n      <th>accuracy</th>\n      <th>fitness</th>\n      <th>TP</th>\n      <th>FP</th>\n      <th>TN</th>\n      <th>FN</th>\n    </tr>\n  </thead>\n  <tbody>\n    <tr>\n      <th>0</th>\n      <td>0.0</td>\n      <td>97.142857</td>\n      <td>93.269841</td>\n      <td>88.0</td>\n      <td>3.0</td>\n      <td>48.0</td>\n      <td>1.0</td>\n    </tr>\n    <tr>\n      <th>1</th>\n      <td>1.0</td>\n      <td>100.000000</td>\n      <td>91.111111</td>\n      <td>91.0</td>\n      <td>0.0</td>\n      <td>49.0</td>\n      <td>0.0</td>\n    </tr>\n    <tr>\n      <th>2</th>\n      <td>2.0</td>\n      <td>100.000000</td>\n      <td>91.111111</td>\n      <td>91.0</td>\n      <td>0.0</td>\n      <td>49.0</td>\n      <td>0.0</td>\n    </tr>\n    <tr>\n      <th>3</th>\n      <td>3.0</td>\n      <td>97.857143</td>\n      <td>93.841270</td>\n      <td>88.0</td>\n      <td>3.0</td>\n      <td>49.0</td>\n      <td>0.0</td>\n    </tr>\n    <tr>\n      <th>4</th>\n      <td>4.0</td>\n      <td>99.285714</td>\n      <td>92.761905</td>\n      <td>91.0</td>\n      <td>0.0</td>\n      <td>48.0</td>\n      <td>1.0</td>\n    </tr>\n    <tr>\n      <th>5</th>\n      <td>5.0</td>\n      <td>99.285714</td>\n      <td>92.761905</td>\n      <td>90.0</td>\n      <td>1.0</td>\n      <td>49.0</td>\n      <td>0.0</td>\n    </tr>\n    <tr>\n      <th>6</th>\n      <td>6.0</td>\n      <td>99.285714</td>\n      <td>90.539683</td>\n      <td>90.0</td>\n      <td>1.0</td>\n      <td>49.0</td>\n      <td>0.0</td>\n    </tr>\n    <tr>\n      <th>7</th>\n      <td>7.0</td>\n      <td>99.285714</td>\n      <td>90.539683</td>\n      <td>91.0</td>\n      <td>0.0</td>\n      <td>48.0</td>\n      <td>1.0</td>\n    </tr>\n    <tr>\n      <th>8</th>\n      <td>8.0</td>\n      <td>100.000000</td>\n      <td>88.888889</td>\n      <td>91.0</td>\n      <td>0.0</td>\n      <td>49.0</td>\n      <td>0.0</td>\n    </tr>\n    <tr>\n      <th>9</th>\n      <td>9.0</td>\n      <td>98.571429</td>\n      <td>92.190476</td>\n      <td>89.0</td>\n      <td>2.0</td>\n      <td>49.0</td>\n      <td>0.0</td>\n    </tr>\n  </tbody>\n</table>\n</div>"
     },
     "execution_count": 7,
     "metadata": {},
     "output_type": "execute_result"
    }
   ],
   "source": [
    "global_test_hist"
   ],
   "metadata": {
    "collapsed": false,
    "ExecuteTime": {
     "end_time": "2024-02-29T10:14:31.048369Z",
     "start_time": "2024-02-29T10:14:31.034467Z"
    }
   },
   "id": "b6049a36b5a87b58",
   "execution_count": 7
  },
  {
   "cell_type": "code",
   "outputs": [
    {
     "data": {
      "text/plain": "     run  iter   accuracy    fitness\n0    0.0   0.0   4.411189   0.242164\n1    0.0   1.0   9.279370   5.128058\n2    0.0   2.0  14.216532   8.956937\n3    0.0   3.0  18.832334   9.146539\n4    0.0   4.0  23.739020  15.625738\n..   ...   ...        ...        ...\n195  9.0  15.0  79.207582  48.379732\n196  9.0  16.0  84.212889  49.879659\n197  9.0  17.0  87.202828  53.774603\n198  9.0  18.0  94.452421  54.878536\n199  9.0  19.0  98.871239  59.823513\n\n[200 rows x 4 columns]",
      "text/html": "<div>\n<style scoped>\n    .dataframe tbody tr th:only-of-type {\n        vertical-align: middle;\n    }\n\n    .dataframe tbody tr th {\n        vertical-align: top;\n    }\n\n    .dataframe thead th {\n        text-align: right;\n    }\n</style>\n<table border=\"1\" class=\"dataframe\">\n  <thead>\n    <tr style=\"text-align: right;\">\n      <th></th>\n      <th>run</th>\n      <th>iter</th>\n      <th>accuracy</th>\n      <th>fitness</th>\n    </tr>\n  </thead>\n  <tbody>\n    <tr>\n      <th>0</th>\n      <td>0.0</td>\n      <td>0.0</td>\n      <td>4.411189</td>\n      <td>0.242164</td>\n    </tr>\n    <tr>\n      <th>1</th>\n      <td>0.0</td>\n      <td>1.0</td>\n      <td>9.279370</td>\n      <td>5.128058</td>\n    </tr>\n    <tr>\n      <th>2</th>\n      <td>0.0</td>\n      <td>2.0</td>\n      <td>14.216532</td>\n      <td>8.956937</td>\n    </tr>\n    <tr>\n      <th>3</th>\n      <td>0.0</td>\n      <td>3.0</td>\n      <td>18.832334</td>\n      <td>9.146539</td>\n    </tr>\n    <tr>\n      <th>4</th>\n      <td>0.0</td>\n      <td>4.0</td>\n      <td>23.739020</td>\n      <td>15.625738</td>\n    </tr>\n    <tr>\n      <th>...</th>\n      <td>...</td>\n      <td>...</td>\n      <td>...</td>\n      <td>...</td>\n    </tr>\n    <tr>\n      <th>195</th>\n      <td>9.0</td>\n      <td>15.0</td>\n      <td>79.207582</td>\n      <td>48.379732</td>\n    </tr>\n    <tr>\n      <th>196</th>\n      <td>9.0</td>\n      <td>16.0</td>\n      <td>84.212889</td>\n      <td>49.879659</td>\n    </tr>\n    <tr>\n      <th>197</th>\n      <td>9.0</td>\n      <td>17.0</td>\n      <td>87.202828</td>\n      <td>53.774603</td>\n    </tr>\n    <tr>\n      <th>198</th>\n      <td>9.0</td>\n      <td>18.0</td>\n      <td>94.452421</td>\n      <td>54.878536</td>\n    </tr>\n    <tr>\n      <th>199</th>\n      <td>9.0</td>\n      <td>19.0</td>\n      <td>98.871239</td>\n      <td>59.823513</td>\n    </tr>\n  </tbody>\n</table>\n<p>200 rows × 4 columns</p>\n</div>"
     },
     "execution_count": 12,
     "metadata": {},
     "output_type": "execute_result"
    }
   ],
   "source": [
    "sns_test_df = pd.DataFrame(columns=[\"run\", \"iter\", \"accuracy\", \"fitness\"])\n",
    "\n",
    "for r in range(runs):\n",
    "    acc = 5\n",
    "    fit = 4\n",
    "    for i in range(20):\n",
    "        sns_test_df.loc[len(sns_test_df)] = [r, i, acc - 4 * np.random.rand(), fit - 4 * np.random.rand()]\n",
    "        acc += 5\n",
    "        fit += 3\n",
    "\n",
    "sns_test_df"
   ],
   "metadata": {
    "collapsed": false,
    "ExecuteTime": {
     "end_time": "2024-02-29T10:20:28.854953Z",
     "start_time": "2024-02-29T10:20:28.789597Z"
    }
   },
   "id": "1d4f79314bae733b",
   "execution_count": 12
  },
  {
   "cell_type": "code",
   "outputs": [
    {
     "data": {
      "text/plain": "<Figure size 1000x600 with 1 Axes>",
      "image/png": "[encoded data removed]"
     },
     "metadata": {},
     "output_type": "display_data"
    }
   ],
   "source": [
    "from matplotlib import pyplot as plt\n",
    "import seaborn as sns\n",
    "\n",
    "fig, ax = plt.subplots(figsize=(10, 6))\n",
    "\n",
    "ax.set_title(\"Accuracy\", fontweight='bold')\n",
    "\n",
    "ax.set_ylim(min(sns_test_df[\"accuracy\"]), max(sns_test_df[\"accuracy\"]))\n",
    "    \n",
    "sns.lineplot(ax=ax,\n",
    "             data=sns_test_df,\n",
    "             x=\"iter\",\n",
    "             y=\"accuracy\")\n",
    "\n",
    "ax.grid(axis='y', color='#A9A9A9', alpha=0.3, zorder=1)\n",
    "\n",
    "ax.set_xlabel(\"Iter.\")\n",
    "ax.set_ylabel(\"Accuracy\")\n",
    "\n",
    "plt.show()"
   ],
   "metadata": {
    "collapsed": false,
    "ExecuteTime": {
     "end_time": "2024-02-29T10:22:00.158363Z",
     "start_time": "2024-02-29T10:21:59.945061Z"
    }
   },
   "id": "5e336a40204b029f",
   "execution_count": 15
  },
  {
   "cell_type": "code",
   "outputs": [
    {
     "data": {
      "text/plain": "<Figure size 1000x600 with 1 Axes>",
      "image/png": "[encoded data removed]"
     },
     "metadata": {},
     "output_type": "display_data"
    }
   ],
   "source": [
    "from matplotlib import pyplot as plt\n",
    "import seaborn as sns\n",
    "\n",
    "fig, ax = plt.subplots(figsize=(10, 6))\n",
    "\n",
    "ax.set_title(\"Fitness\", fontweight='bold')\n",
    "\n",
    "\n",
    "#ax.set_ylim(min(global_train_hist[\"Fitness\"]), max(global_train_hist[\"Fitness\"]))\n",
    "    \n",
    "sns.lineplot(ax=ax,\n",
    "             data=global_train_hist,\n",
    "             x=\"Iteration\",\n",
    "             y=\"Fitness\")\n",
    "\n",
    "sns.lineplot(ax=ax,\n",
    "             data=global_train_hist,\n",
    "             x=\"Iteration\",\n",
    "             y=\"Accuracy\", color=\"red\")\n",
    "\n",
    "ax.grid(axis='y', color='#A9A9A9', alpha=0.3, zorder=1)\n",
    "\n",
    "ax.set_xlabel(\"Iter.\")\n",
    "ax.set_ylabel(\"Fitness\")\n",
    "\n",
    "plt.show()\n",
    "# fig.savefig(save_path, format='svg', dpi=300, bbox_inches='tight', transparent=True)"
   ],
   "metadata": {
    "collapsed": false,
    "ExecuteTime": {
     "end_time": "2024-02-29T10:26:26.848019Z",
     "start_time": "2024-02-29T10:26:26.519779Z"
    }
   },
   "id": "ce31cb3bb656588",
   "execution_count": 22
  },
  {
   "cell_type": "code",
   "outputs": [
    {
     "data": {
      "text/plain": "<Figure size 1000x600 with 1 Axes>",
      "image/png": "[encoded data removed]"
     },
     "metadata": {},
     "output_type": "display_data"
    }
   ],
   "source": [
    "from matplotlib import pyplot as plt\n",
    "import seaborn as sns\n",
    "\n",
    "fig, ax = plt.subplots(figsize=(10, 6))\n",
    "\n",
    "ax.set_title(\"Fitness\", fontweight='bold')\n",
    "\n",
    "\n",
    "#ax.set_ylim(min(global_train_hist[\"Fitness\"]), max(global_train_hist[\"Fitness\"]))\n",
    "    \n",
    "sns.lineplot(ax=ax,\n",
    "             data=global_train_hist,\n",
    "             x=\"Iteration\",\n",
    "             y=\"Fitness\")\n",
    "\n",
    "sns.lineplot(ax=ax,\n",
    "             data=global_train_hist,\n",
    "             x=\"Iteration\",\n",
    "             y=\"Accuracy\", color=\"red\")\n",
    "\n",
    "ax.grid(axis='y', color='#A9A9A9', alpha=0.3, zorder=1)\n",
    "\n",
    "ax.set_xlabel(\"Iter.\")\n",
    "ax.set_ylabel(\"Fitness\")\n",
    "\n",
    "plt.show()\n",
    "# fig.savefig(save_path, format='svg', dpi=300, bbox_inches='tight', transparent=True)"
   ],
   "metadata": {
    "collapsed": false
   },
   "id": "7b1305e65bf69a29",
   "execution_count": 20
  },
  {
   "cell_type": "code",
   "outputs": [
    {
     "data": {
      "text/plain": "<pandas.core.groupby.generic.DataFrameGroupBy object at 0x29967d130>"
     },
     "execution_count": 22,
     "metadata": {},
     "output_type": "execute_result"
    }
   ],
   "source": [
    "global_train_hist.groupby(\"run\")"
   ],
   "metadata": {
    "collapsed": false,
    "ExecuteTime": {
     "end_time": "2024-02-29T10:05:04.176658Z",
     "start_time": "2024-02-29T10:05:04.164683Z"
    }
   },
   "id": "e69ea2d9f3d42f67",
   "execution_count": 22
  },
  {
   "cell_type": "code",
   "outputs": [],
   "source": [
    "previous_history = gsa_history_dict[\"accuracy_history\"]"
   ],
   "metadata": {
    "collapsed": false,
    "ExecuteTime": {
     "end_time": "2024-02-27T16:13:49.722047Z",
     "start_time": "2024-02-27T16:13:49.699348Z"
    }
   },
   "id": "9b6eb13ccb8aa08c",
   "execution_count": 89
  },
  {
   "cell_type": "code",
   "outputs": [
    {
     "data": {
      "text/plain": "TtestResult(statistic=-1.228456351135857, pvalue=0.2350961953092592, df=18.0)"
     },
     "execution_count": 91,
     "metadata": {},
     "output_type": "execute_result"
    }
   ],
   "source": [
    "# SB T-test results (with and without Chaotic constant)\n",
    "from scipy import stats as st\n",
    "\n",
    "st.ttest_ind(previous_history, gsa_history_dict[\"accuracy_history\"])"
   ],
   "metadata": {
    "collapsed": false,
    "ExecuteTime": {
     "end_time": "2024-02-27T16:18:39.428454Z",
     "start_time": "2024-02-27T16:18:39.412246Z"
    }
   },
   "id": "17b9d268b3a45f0d",
   "execution_count": 91
  },
  {
   "cell_type": "code",
   "outputs": [],
   "source": [
    "previous_history = gsa_history_dict[\"accuracy_history\"]"
   ],
   "metadata": {
    "collapsed": false
   },
   "id": "20985d186ad3efce",
   "execution_count": 89
  },
  {
   "cell_type": "code",
   "outputs": [
    {
     "data": {
      "text/plain": "TtestResult(statistic=-1.228456351135857, pvalue=0.2350961953092592, df=18.0)"
     },
     "execution_count": 91,
     "metadata": {},
     "output_type": "execute_result"
    }
   ],
   "source": [
    "# MR T-test results (with and without Chaotic constant)\n",
    "from scipy import stats as st\n",
    "\n",
    "st.ttest_ind(previous_history, gsa_history_dict[\"accuracy_history\"])"
   ],
   "metadata": {
    "collapsed": false
   },
   "id": "91d0fa18c3bba915",
   "execution_count": 91
  },
  {
   "cell_type": "code",
   "outputs": [],
   "source": [
    "previous_history = gsa_history_dict[\"accuracy_history\"]"
   ],
   "metadata": {
    "collapsed": false
   },
   "id": "4905cd246d60355d",
   "execution_count": 82
  },
  {
   "cell_type": "code",
   "outputs": [
    {
     "data": {
      "text/plain": "TtestResult(statistic=0.30738931174714285, pvalue=0.7620751630156236, df=18.0)"
     },
     "execution_count": 85,
     "metadata": {},
     "output_type": "execute_result"
    }
   ],
   "source": [
    "# BC T-test results (with and without Chaotic constant)\n",
    "from scipy import stats as st\n",
    "\n",
    "st.ttest_ind(previous_history, gsa_history_dict[\"accuracy_history\"])"
   ],
   "metadata": {
    "collapsed": false
   },
   "id": "3dc6c74f4e098813",
   "execution_count": 85
  },
  {
   "cell_type": "code",
   "execution_count": 77,
   "id": "d8cd988d571be123",
   "metadata": {
    "collapsed": false,
    "ExecuteTime": {
     "end_time": "2024-02-27T15:47:30.874761Z",
     "start_time": "2024-02-27T15:47:30.854589Z"
    }
   },
   "outputs": [
    {
     "name": "stdout",
     "output_type": "stream",
     "text": [
      "Mean accuracy: 94.0717 +/- 0.8943\n",
      "Mean gamma: 0.0074 +/- 0.0022\n",
      "Mean C: 70.132 +/- 23.8854\n",
      "Mean n_features: 29 +/- 3\n",
      "Mean execution time: 19.4743 +/- 0.7857\n"
     ]
    }
   ],
   "source": [
    "mean_accuracy = np.round(np.mean(gsa_history_dict[\"accuracy_history\"]), 4)\n",
    "std_accuracy = np.round(np.std(gsa_history_dict[\"accuracy_history\"]), 4)\n",
    "\n",
    "print(f\"Mean accuracy: {mean_accuracy} +/- {std_accuracy}\")\n",
    "\n",
    "mean_gamma = np.round(np.mean(gsa_history_dict[\"gamma_history\"]), 4)\n",
    "std_gamma = np.round(np.std(gsa_history_dict[\"gamma_history\"]), 4)\n",
    "\n",
    "print(f\"Mean gamma: {mean_gamma} +/- {std_gamma}\")\n",
    "\n",
    "mean_c = np.round(np.mean(gsa_history_dict[\"c_history\"]), 4)\n",
    "std_c = np.round(np.std(gsa_history_dict[\"c_history\"]), 4)\n",
    "\n",
    "print(f\"Mean C: {mean_c} +/- {std_c}\")\n",
    "\n",
    "mean_n_features = np.rint(np.mean(gsa_history_dict[\"n_features_history\"])).astype(int)\n",
    "std_n_features = np.rint(np.std(gsa_history_dict[\"n_features_history\"])).astype(int)\n",
    "\n",
    "print(f\"Mean n_features: {mean_n_features} +/- {std_n_features}\")\n",
    "\n",
    "mean_execution_time = np.round(np.mean(gsa_history_dict[\"execution_time_history\"]), 4)\n",
    "std_execution_time = np.round(np.std(gsa_history_dict[\"execution_time_history\"]), 4)\n",
    "\n",
    "print(f\"Mean execution time: {mean_execution_time} +/- {std_execution_time}\")\n",
    "\n",
    "mean_TP = np.rint(np.mean(gsa_history_dict[\"TP_history\"])).astype(int)\n",
    "std_TP = np.rint(np.std(gsa_history_dict[\"TP_history\"])).astype(int)\n",
    "mean_FP = np.rint(np.mean(gsa_history_dict[\"FP_history\"])).astype(int)\n",
    "std_FP = np.rint(np.std(gsa_history_dict[\"FP_history\"])).astype(int)\n",
    "mean_TN = np.rint(np.mean(gsa_history_dict[\"TN_history\"])).astype(int)\n",
    "std_TN = np.rint(np.std(gsa_history_dict[\"TN_history\"])).astype(int)\n",
    "mean_FN = np.rint(np.mean(gsa_history_dict[\"FN_history\"])).astype(int)\n",
    "std_FN = np.rint(np.std(gsa_history_dict[\"FN_history\"])).astype(int)"
   ]
  },
  {
   "cell_type": "code",
   "outputs": [],
   "source": [
    "import datetime\n",
    "\n",
    "save_path = \"../data/output\"\n",
    "if not os.path.exists(save_path):\n",
    "    os.makedirs(save_path)\n",
    "    \n",
    "date = datetime.datetime.now().strftime(\"%Y-%m-%d %H:%M:%S\")\n",
    "\n",
    "results = pd.DataFrame({\"date\": [date],\n",
    "                        \"dataset_name\": [widget_opt.value],\n",
    "                        \"r_runs\": [runs],\n",
    "                        \"n_pop\": [population_size],\n",
    "                        \"n_iters\": [iterations],\n",
    "                        \"chaotic_constant\": [chaotic_constant],\n",
    "                        \"repair_solution\": [repair_solution],\n",
    "                        \"execution_time\": [mean_execution_time],\n",
    "                        \"execution_time_std\": [std_execution_time],\n",
    "                        \"wa\": [wa],\n",
    "                        \"wf\": [wf],\n",
    "                        \"mean_accuracy\": [mean_accuracy],\n",
    "                        \"std_accuracy\": [std_accuracy],\n",
    "                        \"mean_gamma\": [mean_gamma],\n",
    "                        \"std_gamma\": [std_gamma],\n",
    "                        \"mean_c\": [mean_c],\n",
    "                        \"std_c\": [std_c],\n",
    "                        \"mean_n_features\": [mean_n_features],\n",
    "                        \"std_n_features\": [std_n_features],\n",
    "                        \"TP\": [mean_TP],\n",
    "                        \"TP_std\": [std_TP],\n",
    "                        \"FP\": [mean_FP],\n",
    "                        \"FP_std\": [std_FP],\n",
    "                        \"TN\": [mean_TN],\n",
    "                        \"TN_std\": [std_TN],\n",
    "                        \"FN\": [mean_FN],\n",
    "                        \"FN_std\": [std_FN]})\n",
    "\n",
    "file = f\"{save_path}/gsa_records.csv\"\n",
    "if os.path.exists(file):\n",
    "    # Load dataframe and append new row\n",
    "    df = pd.read_csv(file)\n",
    "    df = pd.concat([df, results], axis=0, ignore_index=True)\n",
    "    df.to_csv(file, index=False)\n",
    "else: # Append row to existing file\n",
    "    results.to_csv(file, index=False)"
   ],
   "metadata": {
    "collapsed": false,
    "ExecuteTime": {
     "end_time": "2024-02-27T15:52:43.570913Z",
     "start_time": "2024-02-27T15:52:43.545043Z"
    }
   },
   "id": "6054846b99f73145",
   "execution_count": 78
  },
  {
   "cell_type": "markdown",
   "source": [
    "                /\\ \n",
    "               /  \\\n",
    "                || \n",
    "                \n",
    "        Nuestros resultados\n",
    "        \n",
    "Dataset: Mushroom\n",
    "Instances: 8124 (Train / Test: 80% / 20%)\n",
    "Features: 22\n",
    "\n",
    "Resultados autores:\n",
    "\n",
    "| Metric | Value             |\n",
    "| --- |-------------------|\n",
    "| Accuracy | 98.06 +/- 0.78    |\n",
    "| Gamma | 0.0067 +/- 0.0144 |\n",
    "| C | 47.35 +/- 27.57   |\n",
    "| n_features | 3 +/- 2.16        |"
   ],
   "metadata": {
    "collapsed": false
   },
   "id": "f28fe49236098ff7"
  },
  {
   "cell_type": "markdown",
   "id": "cba37a23b02daa50",
   "metadata": {
    "collapsed": false
   },
   "source": [
    "                /\\ \n",
    "               /  \\\n",
    "                || \n",
    "                \n",
    "        Nuestros resultados\n",
    "        \n",
    "Dataset: Breast Cancer Wisconsin (Diagnostic) Data Set\n",
    "\n",
    "Resultados autores:\n",
    "\n",
    "| Metric | Value             |\n",
    "| --- |-------------------|\n",
    "| Accuracy | 99.54 +/- 0.25    |\n",
    "| Gamma | 0.0685 +/- 0.1293 |\n",
    "| C | 40.30 +/- 22.37   |\n",
    "| n_features | 2 +/- 1           |"
   ]
  },
  {
   "cell_type": "code",
   "execution_count": null,
   "id": "bdf875026d9d4f13",
   "metadata": {
    "collapsed": false
   },
   "outputs": [],
   "source": []
  }
 ],
 "metadata": {
  "kernelspec": {
   "display_name": "Python 3 (ipykernel)",
   "language": "python",
   "name": "python3"
  },
  "language_info": {
   "codemirror_mode": {
    "name": "ipython",
    "version": 3
   },
   "file_extension": ".py",
   "mimetype": "text/x-python",
   "name": "python",
   "nbconvert_exporter": "python",
   "pygments_lexer": "ipython3",
   "version": "3.9.6"
  }
 },
 "nbformat": 4,
 "nbformat_minor": 5
}
