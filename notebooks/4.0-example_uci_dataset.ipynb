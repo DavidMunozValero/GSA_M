{
 "cells": [
  {
   "cell_type": "code",
   "outputs": [],
   "source": [
    "%load_ext autoreload\n",
    "%autoreload 2\n",
    "\n",
    "import ipywidgets as widgets\n",
    "import numpy as np\n",
    "import os\n",
    "import pandas as pd\n",
    "import seaborn as sns\n",
    "\n",
    "from benchmarks import gsa_svm_fitness\n",
    "from src.entities import GSA\n",
    "\n",
    "from IPython.display import display\n",
    "from matplotlib import pyplot as plt\n",
    "from scipy import stats as st\n",
    "from sklearn.metrics import accuracy_score, confusion_matrix\n",
    "from sklearn.model_selection import train_test_split\n",
    "from sklearn.preprocessing import LabelEncoder, StandardScaler\n",
    "from sklearn.svm import SVC\n",
    "from typing import Mapping, Tuple, Union\n",
    "from ucimlrepo import fetch_ucirepo"
   ],
   "metadata": {
    "collapsed": false,
    "ExecuteTime": {
     "end_time": "2024-03-05T08:14:27.894212Z",
     "start_time": "2024-03-05T08:14:27.556554Z"
    }
   },
   "id": "c3cc59d5610d418",
   "execution_count": 1
  },
  {
   "cell_type": "code",
   "outputs": [
    {
     "data": {
      "text/plain": "Dropdown(description='Dataset: ', options=('Breast Cancer Wisconsin (Diagnostic)', 'Spambase', 'Mushroom'), va…",
      "application/vnd.jupyter.widget-view+json": {
       "version_major": 2,
       "version_minor": 0,
       "model_id": "1c3e227326214f669f29540993dfc806"
      }
     },
     "metadata": {},
     "output_type": "display_data"
    }
   ],
   "source": [
    "uci_datasets = [\"Breast Cancer Wisconsin (Diagnostic)\",\n",
    "                \"Spambase\",\n",
    "                \"Mushroom\"]\n",
    "\n",
    "widget_opt = widgets.Dropdown(options=uci_datasets,\n",
    "                              description='Dataset: ')\n",
    "\n",
    "display(widget_opt)"
   ],
   "metadata": {
    "collapsed": false,
    "ExecuteTime": {
     "end_time": "2024-03-05T08:14:42.379014Z",
     "start_time": "2024-03-05T08:14:42.264406Z"
    }
   },
   "id": "e8e7510efbb71f63",
   "execution_count": 2
  },
  {
   "cell_type": "code",
   "outputs": [
    {
     "name": "stdout",
     "output_type": "stream",
     "text": [
      "Dataset: Mushroom\n",
      "Instances: 8124\n",
      "Features: 22\n"
     ]
    }
   ],
   "source": [
    "def fetch_uci_dataset(dataset_name: str) -> Tuple[pd.DataFrame, pd.Series]:\n",
    "    \"\"\"\n",
    "    Fetch UCI dataset\n",
    "    \"\"\"\n",
    "    def fetch_categorical_dataset(_id: int) -> Tuple[pd.DataFrame, pd.Series]:\n",
    "        data = fetch_ucirepo(id=_id)\n",
    "        X = data.data.features\n",
    "        y = data.data.targets\n",
    "        encoder = LabelEncoder()\n",
    "        for col in X.columns:\n",
    "            X.loc[:, col] = encoder.fit_transform(X[col])\n",
    "        return X, y\n",
    "\n",
    "    if dataset_name == \"Breast Cancer Wisconsin (Diagnostic)\":\n",
    "        data = fetch_ucirepo(id=15)\n",
    "        X = data.data.features\n",
    "        y = data.data.targets\n",
    "        X = X.fillna(value=0)\n",
    "    elif dataset_name == \"Spambase\":\n",
    "        X, y = fetch_categorical_dataset(_id=94)\n",
    "    elif dataset_name == \"Mushroom\":\n",
    "        X, y = fetch_categorical_dataset(_id=73)\n",
    "    \n",
    "    return X, y\n",
    "\n",
    "X, y = fetch_uci_dataset(widget_opt.value)\n",
    "\n",
    "# Name of selected dataset and summary (number of instances, features, etc.)\n",
    "print(f\"Dataset: {widget_opt.value}\")\n",
    "print(f\"Instances: {X.shape[0]}\")\n",
    "print(f\"Features: {X.shape[1]}\")"
   ],
   "metadata": {
    "collapsed": false,
    "ExecuteTime": {
     "end_time": "2024-03-05T08:25:48.845942Z",
     "start_time": "2024-03-05T08:25:46.302761Z"
    }
   },
   "id": "437c2c37bb7e8030",
   "execution_count": 14
  },
  {
   "cell_type": "code",
   "outputs": [],
   "source": [
    "# WARNING!! GLOBAL VARIABLES\n",
    "wa = 0.0\n",
    "wf = 0.0\n",
    "\n",
    "# IMPORTANT!! MUTABLE GLOBAL VARIABLE\n",
    "conf_matrix_dict = {\"TP\": 0, \"FP\": 0, \"TN\": 0, \"FN\": 0}\n",
    "\n",
    "class UCI:\n",
    "    \"\"\"\n",
    "    Class to handle UCI datasets\n",
    "    \n",
    "    Args:\n",
    "        X (pd.DataFrame): Features\n",
    "        y (pd.Series): Target\n",
    "    \"\"\"\n",
    "    def __init__(self,\n",
    "                 X: pd.DataFrame,\n",
    "                 y: pd.Series,\n",
    "                 boundaries: Mapping[str, Tuple[Tuple[float, float], ...]],\n",
    "                 seed: int=5\n",
    "                 ) -> None:\n",
    "        \"\"\"\n",
    "        Constructor\n",
    "        \n",
    "        Args:\n",
    "            X (pd.DataFrame): Features\n",
    "            y (pd.Series): Target\n",
    "            boundaries (Mapping[str, Tuple[Tuple[float, float], ...]): Boundaries for the optimization problem\n",
    "            seed (int, optional): Random seed. Defaults to 5.\n",
    "        \"\"\"\n",
    "        self.X = X\n",
    "        self.y = y\n",
    "        self.boundaries = boundaries\n",
    "\n",
    "        scaler = StandardScaler()\n",
    "        X_scaled = scaler.fit_transform(self.X)\n",
    "        \n",
    "        X_train, X_test, y_train, y_test = train_test_split(X_scaled, y, test_size = 0.2)\n",
    "        self.X_train = X_train\n",
    "        self.X_test = X_test\n",
    "        self.y_train = y_train\n",
    "        self.y_test = y_test\n",
    "\n",
    "    \n",
    "    def get_fitness(self,\n",
    "                    solution: Mapping[str, np.ndarray],\n",
    "                    data: Union[None, Tuple[np.ndarray, np.ndarray]] = None,\n",
    "                    show_confusion_matrix: bool=False\n",
    "                    ) -> Tuple[float, float]:\n",
    "        \"\"\"\n",
    "        Get fitness of a solution\n",
    "        \n",
    "        Args:\n",
    "            solution (Mapping[str, np.ndarray]): Solution to evaluate\n",
    "            data (Union[None, Tuple[np.ndarray, np.ndarray]], optional): Data to evaluate the solution. Defaults to None.\n",
    "        \n",
    "        Returns:\n",
    "            Tuple[float, float]: Fitness and accuracy of the solution    \n",
    "        \"\"\"\n",
    "        if data is None:\n",
    "            X_scaled = self.X_train\n",
    "            y_data = self.y_train\n",
    "        else:\n",
    "            X_scaled, y_data = data\n",
    "            \n",
    "        gamma, C = solution['real']\n",
    "        gamma /= 1_000\n",
    "        C /= 1_000\n",
    "        X_scaled_filtered = X_scaled[:, solution['discrete'].astype(int) == 1]\n",
    "        svc_model = SVC(gamma=gamma, C=C, kernel=\"rbf\", verbose=False)\n",
    "        svc_model.fit(X_scaled_filtered, np.ravel(y_data))\n",
    "        y_predict = svc_model.predict(X_scaled_filtered)\n",
    "        conf_matrix = confusion_matrix(y_data, y_predict)\n",
    "        if show_confusion_matrix:\n",
    "            # Update global conf_matrix_dict\n",
    "            conf_matrix_dict[\"TP\"] = conf_matrix[0, 0]\n",
    "            conf_matrix_dict[\"FP\"] = conf_matrix[0, 1]\n",
    "            conf_matrix_dict[\"TN\"] = conf_matrix[1, 1]\n",
    "            conf_matrix_dict[\"FN\"] = conf_matrix[1, 0]\n",
    "            print(conf_matrix)\n",
    "        accuracy = accuracy_score(y_data, y_predict) * 100\n",
    "        \n",
    "        return gsa_svm_fitness(accuracy=accuracy, solution=solution, wa=wa, wf=wf)\n",
    "\n",
    "    def is_feasible(self, solution: Mapping[str, np.ndarray]) -> bool:\n",
    "        \"\"\"\n",
    "        Check if a solution is feasible\n",
    "\n",
    "        Args:\n",
    "            solution (Mapping[str, np.ndarray]): Solution to evaluate\n",
    "\n",
    "        Returns:\n",
    "            bool: True if the solution is feasible, False otherwise\n",
    "        \"\"\"\n",
    "        real_values = solution['real']\n",
    "        discrete_values = solution['discrete']\n",
    "\n",
    "        for i, (min_val, max_val) in enumerate(self.boundaries['real']):\n",
    "            if real_values[i] < min_val or real_values[i] > max_val:\n",
    "                return False\n",
    "\n",
    "        for i, (min_val, max_val) in enumerate(self.boundaries['discrete']):\n",
    "            if discrete_values[i] < min_val or discrete_values[i] > max_val:\n",
    "                return False\n",
    "        \n",
    "        if sum(discrete_values) == 0:\n",
    "            return False\n",
    "        \n",
    "        return True\n",
    "\n",
    "boundaries = {'real': [(1, 100_000), (1, 100_000)], 'discrete': [(0, 1) for _ in range(len(X.columns))]}\n",
    "uci_data = UCI(X, y, boundaries)"
   ],
   "metadata": {
    "collapsed": false,
    "ExecuteTime": {
     "end_time": "2024-03-05T08:25:51.205053Z",
     "start_time": "2024-03-05T08:25:51.177716Z"
    }
   },
   "id": "451c125b08f5a3f8",
   "execution_count": 15
  },
  {
   "cell_type": "code",
   "outputs": [],
   "source": [
    "def run_gsa(chaotic_constant: bool=False,\n",
    "            repair_solution: bool=False,\n",
    "            runs: int=10,\n",
    "            population_size: int=5,\n",
    "            iterations: int=20\n",
    "            ) -> Tuple[pd.DataFrame, pd.DataFrame]:\n",
    "    \n",
    "    global_train_hist = pd.DataFrame()\n",
    "    global_test_hist = pd.DataFrame(columns=[\"run\", \"accuracy\", \"fitness\", \"TP\", \"FP\", \"TN\", \"FN\"])\n",
    "    \n",
    "    for k in range(runs):\n",
    "        uci_data = UCI(X, y, boundaries)\n",
    "        \n",
    "        gsa_algo = GSA(objective_function = uci_data.get_fitness,\n",
    "                       is_feasible=uci_data.is_feasible,\n",
    "                       r_dim=2,\n",
    "                       d_dim=len(X.columns),\n",
    "                       boundaries=uci_data.boundaries)\n",
    "        \n",
    "        train_X_data = np.array_split(uci_data.X_train, population_size, axis=0)\n",
    "        train_y_data = np.array_split(uci_data.y_train, population_size, axis=0)\n",
    "        training_history = gsa_algo.optimize(train_data=(train_X_data, train_y_data),\n",
    "                                             population_size=population_size,\n",
    "                                             iters=iterations,\n",
    "                                             chaotic_constant=chaotic_constant,\n",
    "                                             repair_solution=repair_solution)\n",
    "        \n",
    "        training_history.insert(0, \"run\", k)\n",
    "        global_train_hist = pd.concat([global_train_hist, training_history], axis=0)\n",
    "        \n",
    "        print(gsa_algo.solution_history[-1])\n",
    "        fitness, accuracy = uci_data.get_fitness(solution=gsa_algo.solution_history[-1],\n",
    "                                            data=(uci_data.X_test, uci_data.y_test),\n",
    "                                            show_confusion_matrix=True)\n",
    "        \n",
    "        global_test_hist.loc[len(global_test_hist)] = [k, accuracy, fitness, conf_matrix_dict[\"TP\"], conf_matrix_dict[\"FP\"], conf_matrix_dict[\"TN\"], conf_matrix_dict[\"FN\"]]\n",
    "        \n",
    "        print(\"Test accuracy: \", accuracy, \" - Fitness: \", fitness)\n",
    "    \n",
    "    return global_train_hist, global_test_hist"
   ],
   "metadata": {
    "collapsed": false,
    "ExecuteTime": {
     "end_time": "2024-03-05T08:25:52.824703Z",
     "start_time": "2024-03-05T08:25:52.811004Z"
    }
   },
   "id": "f054a60e488b2e4",
   "execution_count": 16
  },
  {
   "cell_type": "code",
   "outputs": [
    {
     "name": "stdout",
     "output_type": "stream",
     "text": [
      "Running GSA with chaotic constant:  True\n",
      "GSA is optimizing  \"get_fitness\"\n",
      "['At iteration 1 the best fitness is 90.9090909090909']\n"
     ]
    },
    {
     "name": "stderr",
     "output_type": "stream",
     "text": [
      "/Users/uclm/PycharmProjects/GSA_M/venv/lib/python3.9/site-packages/numpy/core/fromnumeric.py:59: FutureWarning: 'DataFrame.swapaxes' is deprecated and will be removed in a future version. Please use 'DataFrame.transpose' instead.\n",
      "  return bound(*args, **kwds)\n"
     ]
    },
    {
     "name": "stdout",
     "output_type": "stream",
     "text": [
      "['At iteration 2 the best fitness is 90.9090909090909']\n",
      "['At iteration 3 the best fitness is 90.9090909090909']\n",
      "['At iteration 4 the best fitness is 90.9090909090909']\n",
      "['At iteration 5 the best fitness is 90.9090909090909']\n",
      "['At iteration 6 the best fitness is 90.9090909090909']\n",
      "['At iteration 7 the best fitness is 90.9090909090909']\n",
      "['At iteration 8 the best fitness is 91.81818181818181']\n",
      "['At iteration 9 the best fitness is 91.81818181818181']\n",
      "['At iteration 10 the best fitness is 91.81818181818181']\n",
      "['At iteration 11 the best fitness is 91.81818181818181']\n",
      "['At iteration 12 the best fitness is 92.2965034965035']\n",
      "['At iteration 13 the best fitness is 93.80699300699301']\n",
      "['At iteration 14 the best fitness is 93.80699300699301']\n",
      "['At iteration 15 the best fitness is 93.80699300699301']\n",
      "['At iteration 16 the best fitness is 93.80699300699301']\n",
      "['At iteration 17 the best fitness is 93.80699300699301']\n",
      "['At iteration 18 the best fitness is 93.80699300699301']\n",
      "['At iteration 19 the best fitness is 93.80699300699301']\n",
      "['At iteration 20 the best fitness is 93.80699300699301']\n",
      "{'real': array([50710.63789877, 78913.30137519]), 'discrete': array([1, 0, 0, 0, 1, 1, 1, 0, 0, 0, 1, 0, 1, 1, 0, 0, 1, 1, 0, 1, 0, 0])}\n",
      "[[831   0]\n",
      " [  0 794]]\n",
      "Test accuracy:  100.0  - Fitness:  90.9090909090909\n",
      "GSA is optimizing  \"get_fitness\"\n"
     ]
    },
    {
     "name": "stderr",
     "output_type": "stream",
     "text": [
      "/Users/uclm/PycharmProjects/GSA_M/venv/lib/python3.9/site-packages/numpy/core/fromnumeric.py:59: FutureWarning: 'DataFrame.swapaxes' is deprecated and will be removed in a future version. Please use 'DataFrame.transpose' instead.\n",
      "  return bound(*args, **kwds)\n"
     ]
    },
    {
     "name": "stdout",
     "output_type": "stream",
     "text": [
      "['At iteration 1 the best fitness is 90.0']\n",
      "['At iteration 2 the best fitness is 91.75664335664335']\n",
      "['At iteration 3 the best fitness is 91.75664335664335']\n",
      "['At iteration 4 the best fitness is 91.75664335664335']\n",
      "['At iteration 5 the best fitness is 91.75664335664335']\n",
      "['At iteration 6 the best fitness is 91.75664335664335']\n",
      "['At iteration 7 the best fitness is 91.75664335664335']\n",
      "['At iteration 8 the best fitness is 91.75664335664335']\n",
      "['At iteration 9 the best fitness is 91.75664335664335']\n",
      "['At iteration 10 the best fitness is 91.75664335664335']\n",
      "['At iteration 11 the best fitness is 91.75664335664335']\n",
      "['At iteration 12 the best fitness is 91.75664335664335']\n",
      "['At iteration 13 the best fitness is 92.72727272727272']\n",
      "['At iteration 14 the best fitness is 94.48391608391609']\n",
      "['At iteration 15 the best fitness is 94.48391608391609']\n",
      "['At iteration 16 the best fitness is 94.48391608391609']\n",
      "['At iteration 17 the best fitness is 94.48391608391609']\n",
      "['At iteration 18 the best fitness is 94.48391608391609']\n",
      "['At iteration 19 the best fitness is 94.48391608391609']\n",
      "['At iteration 20 the best fitness is 94.48391608391609']\n",
      "{'real': array([67363.27579737,  3161.98725662]), 'discrete': array([0, 0, 0, 0, 1, 0, 0, 1, 0, 0, 1, 0, 1, 1, 0, 1, 0, 1, 1, 1, 1, 1])}\n",
      "[[863   0]\n",
      " [  0 762]]\n",
      "Test accuracy:  100.0  - Fitness:  90.0\n",
      "GSA is optimizing  \"get_fitness\"\n"
     ]
    },
    {
     "name": "stderr",
     "output_type": "stream",
     "text": [
      "/Users/uclm/PycharmProjects/GSA_M/venv/lib/python3.9/site-packages/numpy/core/fromnumeric.py:59: FutureWarning: 'DataFrame.swapaxes' is deprecated and will be removed in a future version. Please use 'DataFrame.transpose' instead.\n",
      "  return bound(*args, **kwds)\n"
     ]
    },
    {
     "name": "stdout",
     "output_type": "stream",
     "text": [
      "['At iteration 1 the best fitness is 91.81818181818181']\n",
      "['At iteration 2 the best fitness is 92.72727272727272']\n",
      "['At iteration 3 the best fitness is 92.72727272727272']\n",
      "['At iteration 4 the best fitness is 92.72727272727272']\n",
      "['At iteration 5 the best fitness is 92.72727272727272']\n",
      "['At iteration 6 the best fitness is 93.2668486248163']\n",
      "['At iteration 7 the best fitness is 93.2668486248163']\n",
      "['At iteration 8 the best fitness is 93.2668486248163']\n",
      "['At iteration 9 the best fitness is 93.2668486248163']\n",
      "['At iteration 10 the best fitness is 93.86801035761776']\n",
      "['At iteration 11 the best fitness is 93.86801035761776']\n",
      "['At iteration 12 the best fitness is 94.88557631744699']\n",
      "['At iteration 13 the best fitness is 95.14685314685315']\n",
      "['At iteration 14 the best fitness is 95.14685314685315']\n",
      "['At iteration 15 the best fitness is 95.14685314685315']\n",
      "['At iteration 16 the best fitness is 95.14685314685315']\n",
      "['At iteration 17 the best fitness is 95.14685314685315']\n",
      "['At iteration 18 the best fitness is 96.36363636363636']\n",
      "['At iteration 19 the best fitness is 96.36363636363636']\n",
      "['At iteration 20 the best fitness is 96.36363636363636']\n",
      "{'real': array([80491.03390584, 24649.16743594]), 'discrete': array([0, 0, 1, 0, 1, 1, 0, 0, 0, 0, 1, 1, 0, 0, 0, 1, 0, 0, 0, 1, 0, 0])}\n",
      "[[861   0]\n",
      " [  0 764]]\n",
      "Test accuracy:  100.0  - Fitness:  93.63636363636364\n",
      "GSA is optimizing  \"get_fitness\"\n"
     ]
    },
    {
     "name": "stderr",
     "output_type": "stream",
     "text": [
      "/Users/uclm/PycharmProjects/GSA_M/venv/lib/python3.9/site-packages/numpy/core/fromnumeric.py:59: FutureWarning: 'DataFrame.swapaxes' is deprecated and will be removed in a future version. Please use 'DataFrame.transpose' instead.\n",
      "  return bound(*args, **kwds)\n"
     ]
    },
    {
     "name": "stdout",
     "output_type": "stream",
     "text": [
      "['At iteration 1 the best fitness is 90.0']\n",
      "['At iteration 2 the best fitness is 92.60419580419583']\n",
      "['At iteration 3 the best fitness is 92.60419580419583']\n",
      "['At iteration 4 the best fitness is 92.8979020979021']\n",
      "['At iteration 5 the best fitness is 92.8979020979021']\n",
      "['At iteration 6 the best fitness is 92.8979020979021']\n",
      "['At iteration 7 the best fitness is 92.8979020979021']\n",
      "['At iteration 8 the best fitness is 92.8979020979021']\n",
      "['At iteration 9 the best fitness is 94.42237762237764']\n",
      "['At iteration 10 the best fitness is 94.42237762237764']\n",
      "['At iteration 11 the best fitness is 94.42237762237764']\n",
      "['At iteration 12 the best fitness is 94.42237762237764']\n",
      "['At iteration 13 the best fitness is 94.42237762237764']\n",
      "['At iteration 14 the best fitness is 94.42237762237764']\n",
      "['At iteration 15 the best fitness is 94.42237762237764']\n",
      "['At iteration 16 the best fitness is 94.42237762237764']\n",
      "['At iteration 17 the best fitness is 94.42237762237764']\n",
      "['At iteration 18 the best fitness is 94.42237762237764']\n",
      "['At iteration 19 the best fitness is 94.42237762237764']\n",
      "['At iteration 20 the best fitness is 94.42237762237764']\n",
      "{'real': array([54485.59992216, 83410.05453352]), 'discrete': array([0, 1, 1, 0, 0, 1, 0, 1, 0, 0, 0, 0, 0, 1, 1, 0, 0, 1, 0, 1, 1, 0])}\n",
      "[[804   2]\n",
      " [  8 811]]\n",
      "Test accuracy:  99.38461538461539  - Fitness:  91.32587412587412\n",
      "GSA is optimizing  \"get_fitness\"\n"
     ]
    },
    {
     "name": "stderr",
     "output_type": "stream",
     "text": [
      "/Users/uclm/PycharmProjects/GSA_M/venv/lib/python3.9/site-packages/numpy/core/fromnumeric.py:59: FutureWarning: 'DataFrame.swapaxes' is deprecated and will be removed in a future version. Please use 'DataFrame.transpose' instead.\n",
      "  return bound(*args, **kwds)\n"
     ]
    },
    {
     "name": "stdout",
     "output_type": "stream",
     "text": [
      "['At iteration 1 the best fitness is 90.35524475524475']\n",
      "['At iteration 2 the best fitness is 91.96083916083917']\n",
      "['At iteration 3 the best fitness is 91.96083916083917']\n",
      "['At iteration 4 the best fitness is 92.54265734265735']\n",
      "['At iteration 5 the best fitness is 92.54265734265735']\n",
      "['At iteration 6 the best fitness is 92.54265734265735']\n",
      "['At iteration 7 the best fitness is 92.54265734265735']\n",
      "['At iteration 8 the best fitness is 92.66573426573427']\n",
      "['At iteration 9 the best fitness is 92.66573426573427']\n",
      "['At iteration 10 the best fitness is 92.66573426573427']\n",
      "['At iteration 11 the best fitness is 92.72727272727272']\n",
      "['At iteration 12 the best fitness is 92.72727272727272']\n",
      "['At iteration 13 the best fitness is 92.72727272727272']\n",
      "['At iteration 14 the best fitness is 92.72727272727272']\n",
      "['At iteration 15 the best fitness is 93.63636363636364']\n",
      "['At iteration 16 the best fitness is 93.63636363636364']\n",
      "['At iteration 17 the best fitness is 93.63636363636364']\n",
      "['At iteration 18 the best fitness is 93.63636363636364']\n",
      "['At iteration 19 the best fitness is 93.63636363636364']\n",
      "['At iteration 20 the best fitness is 93.63636363636364']\n",
      "{'real': array([66542.60243545, 54133.06062883]), 'discrete': array([0, 0, 0, 1, 1, 0, 0, 1, 0, 0, 1, 0, 1, 0, 1, 0, 0, 0, 1, 1, 0, 1])}\n",
      "[[849   0]\n",
      " [  0 776]]\n",
      "Test accuracy:  100.0  - Fitness:  91.81818181818181\n",
      "GSA is optimizing  \"get_fitness\"\n",
      "['At iteration 1 the best fitness is 91.75664335664335']\n"
     ]
    },
    {
     "name": "stderr",
     "output_type": "stream",
     "text": [
      "/Users/uclm/PycharmProjects/GSA_M/venv/lib/python3.9/site-packages/numpy/core/fromnumeric.py:59: FutureWarning: 'DataFrame.swapaxes' is deprecated and will be removed in a future version. Please use 'DataFrame.transpose' instead.\n",
      "  return bound(*args, **kwds)\n"
     ]
    },
    {
     "name": "stdout",
     "output_type": "stream",
     "text": [
      "['At iteration 2 the best fitness is 91.75664335664335']\n",
      "['At iteration 3 the best fitness is 91.75664335664335']\n",
      "['At iteration 4 the best fitness is 91.75664335664335']\n",
      "['At iteration 5 the best fitness is 93.26713286713289']\n",
      "['At iteration 6 the best fitness is 93.26713286713289']\n",
      "['At iteration 7 the best fitness is 93.26713286713289']\n",
      "['At iteration 8 the best fitness is 93.26713286713289']\n",
      "['At iteration 9 the best fitness is 93.26713286713289']\n",
      "['At iteration 10 the best fitness is 93.26713286713289']\n",
      "['At iteration 11 the best fitness is 93.26713286713289']\n",
      "['At iteration 12 the best fitness is 93.26713286713289']\n",
      "['At iteration 13 the best fitness is 93.26713286713289']\n",
      "['At iteration 14 the best fitness is 93.26713286713289']\n",
      "['At iteration 15 the best fitness is 93.26713286713289']\n",
      "['At iteration 16 the best fitness is 93.26713286713289']\n",
      "['At iteration 17 the best fitness is 93.26713286713289']\n",
      "['At iteration 18 the best fitness is 93.32843446007419']\n",
      "['At iteration 19 the best fitness is 93.32843446007419']\n",
      "['At iteration 20 the best fitness is 93.32843446007419']\n",
      "{'real': array([22182.81887041, 86266.6060197 ]), 'discrete': array([1, 0, 0, 0, 1, 0, 0, 0, 1, 1, 0, 0, 0, 0, 0, 0, 0, 1, 1, 0, 1, 0])}\n",
      "[[880   1]\n",
      " [  4 740]]\n",
      "Test accuracy:  99.6923076923077  - Fitness:  93.3902097902098\n",
      "GSA is optimizing  \"get_fitness\"\n"
     ]
    },
    {
     "name": "stderr",
     "output_type": "stream",
     "text": [
      "/Users/uclm/PycharmProjects/GSA_M/venv/lib/python3.9/site-packages/numpy/core/fromnumeric.py:59: FutureWarning: 'DataFrame.swapaxes' is deprecated and will be removed in a future version. Please use 'DataFrame.transpose' instead.\n",
      "  return bound(*args, **kwds)\n"
     ]
    },
    {
     "name": "stdout",
     "output_type": "stream",
     "text": [
      "['At iteration 1 the best fitness is 90.9090909090909']\n",
      "['At iteration 2 the best fitness is 91.81818181818181']\n",
      "['At iteration 3 the best fitness is 92.72727272727272']\n",
      "['At iteration 4 the best fitness is 92.72727272727272']\n",
      "['At iteration 5 the best fitness is 92.72727272727272']\n",
      "['At iteration 6 the best fitness is 92.72727272727272']\n",
      "['At iteration 7 the best fitness is 92.72727272727272']\n",
      "['At iteration 8 the best fitness is 92.72727272727272']\n",
      "['At iteration 9 the best fitness is 92.72727272727272']\n",
      "['At iteration 10 the best fitness is 93.80642452235986']\n",
      "['At iteration 11 the best fitness is 93.80642452235986']\n",
      "['At iteration 12 the best fitness is 93.80642452235986']\n",
      "['At iteration 13 the best fitness is 93.80642452235986']\n",
      "['At iteration 14 the best fitness is 93.80642452235986']\n",
      "['At iteration 15 the best fitness is 93.80642452235986']\n",
      "['At iteration 16 the best fitness is 93.80642452235986']\n",
      "['At iteration 17 the best fitness is 93.80642452235986']\n",
      "['At iteration 18 the best fitness is 93.80642452235986']\n",
      "['At iteration 19 the best fitness is 93.80642452235986']\n",
      "['At iteration 20 the best fitness is 93.80642452235986']\n",
      "{'real': array([59225.67969112, 89808.01032952]), 'discrete': array([1, 0, 0, 0, 0, 0, 1, 1, 1, 1, 1, 0, 0, 0, 0, 0, 1, 0, 1, 0, 1, 0])}\n",
      "[[864   3]\n",
      " [ 25 733]]\n",
      "Test accuracy:  98.27692307692307  - Fitness:  90.43972027972028\n",
      "GSA is optimizing  \"get_fitness\"\n"
     ]
    },
    {
     "name": "stderr",
     "output_type": "stream",
     "text": [
      "/Users/uclm/PycharmProjects/GSA_M/venv/lib/python3.9/site-packages/numpy/core/fromnumeric.py:59: FutureWarning: 'DataFrame.swapaxes' is deprecated and will be removed in a future version. Please use 'DataFrame.transpose' instead.\n",
      "  return bound(*args, **kwds)\n"
     ]
    },
    {
     "name": "stdout",
     "output_type": "stream",
     "text": [
      "['At iteration 1 the best fitness is 90.84755244755245']\n",
      "['At iteration 2 the best fitness is 90.84755244755245']\n",
      "['At iteration 3 the best fitness is 90.84755244755245']\n",
      "['At iteration 4 the best fitness is 91.57202797202797']\n",
      "['At iteration 5 the best fitness is 91.57202797202797']\n",
      "['At iteration 6 the best fitness is 91.57202797202797']\n",
      "['At iteration 7 the best fitness is 91.57202797202797']\n",
      "['At iteration 8 the best fitness is 91.75664335664335']\n",
      "['At iteration 9 the best fitness is 91.75664335664335']\n",
      "['At iteration 10 the best fitness is 92.66573426573427']\n",
      "['At iteration 11 the best fitness is 92.66573426573427']\n",
      "['At iteration 12 the best fitness is 92.66573426573427']\n",
      "['At iteration 13 the best fitness is 92.66573426573427']\n",
      "['At iteration 14 the best fitness is 92.66573426573427']\n",
      "['At iteration 15 the best fitness is 93.39002029533208']\n",
      "['At iteration 16 the best fitness is 94.36083916083916']\n",
      "['At iteration 17 the best fitness is 94.36083916083916']\n",
      "['At iteration 18 the best fitness is 94.36083916083916']\n",
      "['At iteration 19 the best fitness is 94.36083916083916']\n",
      "['At iteration 20 the best fitness is 94.36083916083916']\n",
      "{'real': array([45285.86728003, 65898.76684607]), 'discrete': array([0, 1, 0, 1, 0, 0, 1, 1, 0, 1, 0, 1, 0, 0, 0, 1, 1, 1, 0, 0, 0, 0])}\n",
      "[[812   2]\n",
      " [ 21 790]]\n",
      "Test accuracy:  98.58461538461538  - Fitness:  90.68587412587412\n",
      "GSA is optimizing  \"get_fitness\"\n",
      "['At iteration 1 the best fitness is 91.44866680663448']\n"
     ]
    },
    {
     "name": "stderr",
     "output_type": "stream",
     "text": [
      "/Users/uclm/PycharmProjects/GSA_M/venv/lib/python3.9/site-packages/numpy/core/fromnumeric.py:59: FutureWarning: 'DataFrame.swapaxes' is deprecated and will be removed in a future version. Please use 'DataFrame.transpose' instead.\n",
      "  return bound(*args, **kwds)\n"
     ]
    },
    {
     "name": "stdout",
     "output_type": "stream",
     "text": [
      "['At iteration 2 the best fitness is 91.44866680663448']\n",
      "['At iteration 3 the best fitness is 91.74265734265734']\n",
      "['At iteration 4 the best fitness is 91.74265734265734']\n",
      "['At iteration 5 the best fitness is 91.74265734265734']\n",
      "['At iteration 6 the best fitness is 91.74265734265734']\n",
      "['At iteration 7 the best fitness is 91.81818181818181']\n",
      "['At iteration 8 the best fitness is 92.72727272727272']\n",
      "['At iteration 9 the best fitness is 92.72727272727272']\n",
      "['At iteration 10 the best fitness is 92.72727272727272']\n",
      "['At iteration 11 the best fitness is 92.72727272727272']\n",
      "['At iteration 12 the best fitness is 93.31468531468532']\n",
      "['At iteration 13 the best fitness is 93.31468531468532']\n",
      "['At iteration 14 the best fitness is 93.31468531468532']\n",
      "['At iteration 15 the best fitness is 93.31468531468532']\n",
      "['At iteration 16 the best fitness is 93.31468531468532']\n",
      "['At iteration 17 the best fitness is 93.31468531468532']\n",
      "['At iteration 18 the best fitness is 93.31468531468532']\n",
      "['At iteration 19 the best fitness is 93.31468531468532']\n",
      "['At iteration 20 the best fitness is 93.31468531468532']\n",
      "{'real': array([91910.12060187, 66641.05212721]), 'discrete': array([1, 1, 0, 0, 0, 0, 1, 1, 1, 1, 1, 0, 1, 1, 1, 1, 0, 1, 0, 0, 0, 0])}\n",
      "[[822   1]\n",
      " [  1 801]]\n",
      "Test accuracy:  99.87692307692308  - Fitness:  88.99244755244756\n",
      "GSA is optimizing  \"get_fitness\"\n",
      "['At iteration 1 the best fitness is 93.14405594405595']\n"
     ]
    },
    {
     "name": "stderr",
     "output_type": "stream",
     "text": [
      "/Users/uclm/PycharmProjects/GSA_M/venv/lib/python3.9/site-packages/numpy/core/fromnumeric.py:59: FutureWarning: 'DataFrame.swapaxes' is deprecated and will be removed in a future version. Please use 'DataFrame.transpose' instead.\n",
      "  return bound(*args, **kwds)\n"
     ]
    },
    {
     "name": "stdout",
     "output_type": "stream",
     "text": [
      "['At iteration 2 the best fitness is 93.14405594405595']\n",
      "['At iteration 3 the best fitness is 94.05314685314686']\n",
      "['At iteration 4 the best fitness is 94.05314685314686']\n",
      "['At iteration 5 the best fitness is 94.05314685314686']\n",
      "['At iteration 6 the best fitness is 94.05314685314686']\n",
      "['At iteration 7 the best fitness is 94.83916083916084']\n",
      "['At iteration 8 the best fitness is 94.83916083916084']\n",
      "['At iteration 9 the best fitness is 94.83916083916084']\n",
      "['At iteration 10 the best fitness is 94.83916083916084']\n",
      "['At iteration 11 the best fitness is 94.83916083916084']\n",
      "['At iteration 12 the best fitness is 94.83916083916084']\n",
      "['At iteration 13 the best fitness is 94.83916083916084']\n",
      "['At iteration 14 the best fitness is 94.83916083916084']\n",
      "['At iteration 15 the best fitness is 94.83916083916084']\n",
      "['At iteration 16 the best fitness is 94.83916083916084']\n",
      "['At iteration 17 the best fitness is 94.83916083916084']\n",
      "['At iteration 18 the best fitness is 94.83916083916084']\n",
      "['At iteration 19 the best fitness is 94.83916083916084']\n",
      "['At iteration 20 the best fitness is 94.83916083916084']\n",
      "{'real': array([ 3477.32893283, 91571.78776585]), 'discrete': array([1, 1, 1, 1, 1, 0, 1, 1, 0, 1, 1, 0, 1, 0, 1, 0, 0, 1, 0, 0, 0, 0])}\n",
      "[[805   0]\n",
      " [  0 820]]\n",
      "Test accuracy:  100.0  - Fitness:  89.0909090909091\n",
      "Running GSA with chaotic constant:  False\n",
      "GSA is optimizing  \"get_fitness\"\n"
     ]
    },
    {
     "name": "stderr",
     "output_type": "stream",
     "text": [
      "/Users/uclm/PycharmProjects/GSA_M/venv/lib/python3.9/site-packages/numpy/core/fromnumeric.py:59: FutureWarning: 'DataFrame.swapaxes' is deprecated and will be removed in a future version. Please use 'DataFrame.transpose' instead.\n",
      "  return bound(*args, **kwds)\n"
     ]
    },
    {
     "name": "stdout",
     "output_type": "stream",
     "text": [
      "['At iteration 1 the best fitness is 93.02050528378474']\n",
      "['At iteration 2 the best fitness is 93.37532367555463']\n",
      "['At iteration 3 the best fitness is 93.37532367555463']\n",
      "['At iteration 4 the best fitness is 93.37532367555463']\n",
      "['At iteration 5 the best fitness is 93.37532367555463']\n",
      "['At iteration 6 the best fitness is 93.37532367555463']\n",
      "['At iteration 7 the best fitness is 93.37532367555463']\n",
      "['At iteration 8 the best fitness is 93.37532367555463']\n",
      "['At iteration 9 the best fitness is 93.37532367555463']\n",
      "['At iteration 10 the best fitness is 93.3902097902098']\n",
      "['At iteration 11 the best fitness is 95.93253551683112']\n",
      "['At iteration 12 the best fitness is 95.93253551683112']\n",
      "['At iteration 13 the best fitness is 95.93253551683112']\n",
      "['At iteration 14 the best fitness is 95.93253551683112']\n",
      "['At iteration 15 the best fitness is 95.93253551683112']\n",
      "['At iteration 16 the best fitness is 95.93253551683112']\n",
      "['At iteration 17 the best fitness is 95.93253551683112']\n",
      "['At iteration 18 the best fitness is 95.93253551683112']\n",
      "['At iteration 19 the best fitness is 95.93253551683112']\n",
      "['At iteration 20 the best fitness is 95.93253551683112']\n",
      "{'real': array([46004.08710697,  3746.11580366]), 'discrete': array([0, 1, 0, 0, 1, 0, 0, 1, 0, 0, 0, 0, 1, 1, 1, 1, 0, 0, 0, 1, 0, 1])}\n",
      "[[874   0]\n",
      " [  0 751]]\n",
      "Test accuracy:  100.0  - Fitness:  91.81818181818181\n"
     ]
    },
    {
     "name": "stderr",
     "output_type": "stream",
     "text": [
      "/Users/uclm/PycharmProjects/GSA_M/venv/lib/python3.9/site-packages/numpy/core/fromnumeric.py:59: FutureWarning: 'DataFrame.swapaxes' is deprecated and will be removed in a future version. Please use 'DataFrame.transpose' instead.\n",
      "  return bound(*args, **kwds)\n"
     ]
    },
    {
     "name": "stdout",
     "output_type": "stream",
     "text": [
      "GSA is optimizing  \"get_fitness\"\n",
      "['At iteration 1 the best fitness is 93.63636363636364']\n",
      "['At iteration 2 the best fitness is 93.63636363636364']\n",
      "['At iteration 3 the best fitness is 93.63636363636364']\n",
      "['At iteration 4 the best fitness is 93.63636363636364']\n",
      "['At iteration 5 the best fitness is 93.63636363636364']\n",
      "['At iteration 6 the best fitness is 93.63636363636364']\n",
      "['At iteration 7 the best fitness is 93.63636363636364']\n",
      "['At iteration 8 the best fitness is 93.63636363636364']\n",
      "['At iteration 9 the best fitness is 93.63636363636364']\n",
      "['At iteration 10 the best fitness is 93.63636363636364']\n",
      "['At iteration 11 the best fitness is 93.63636363636364']\n",
      "['At iteration 12 the best fitness is 93.63636363636364']\n",
      "['At iteration 13 the best fitness is 93.63636363636364']\n",
      "['At iteration 14 the best fitness is 93.63636363636364']\n",
      "['At iteration 15 the best fitness is 93.63636363636364']\n",
      "['At iteration 16 the best fitness is 94.48386871019666']\n",
      "['At iteration 17 the best fitness is 94.48386871019666']\n",
      "['At iteration 18 the best fitness is 94.48386871019666']\n",
      "['At iteration 19 the best fitness is 94.48386871019666']\n",
      "['At iteration 20 the best fitness is 94.54545454545455']\n",
      "{'real': array([27474.89239884, 63150.88494727]), 'discrete': array([1, 0, 0, 0, 1, 0, 0, 0, 0, 0, 1, 1, 0, 0, 1, 0, 0, 0, 0, 1, 0, 0])}\n",
      "[[850   0]\n",
      " [  0 775]]\n",
      "Test accuracy:  100.0  - Fitness:  94.54545454545455\n",
      "GSA is optimizing  \"get_fitness\"\n",
      "['At iteration 1 the best fitness is 93.39002029533208']\n"
     ]
    },
    {
     "name": "stderr",
     "output_type": "stream",
     "text": [
      "/Users/uclm/PycharmProjects/GSA_M/venv/lib/python3.9/site-packages/numpy/core/fromnumeric.py:59: FutureWarning: 'DataFrame.swapaxes' is deprecated and will be removed in a future version. Please use 'DataFrame.transpose' instead.\n",
      "  return bound(*args, **kwds)\n"
     ]
    },
    {
     "name": "stdout",
     "output_type": "stream",
     "text": [
      "['At iteration 2 the best fitness is 93.39002029533208']\n",
      "['At iteration 3 the best fitness is 93.39002029533208']\n",
      "['At iteration 4 the best fitness is 93.39002029533208']\n",
      "['At iteration 5 the best fitness is 93.39002029533208']\n",
      "['At iteration 6 the best fitness is 93.39002029533208']\n",
      "['At iteration 7 the best fitness is 93.6216670165862']\n",
      "['At iteration 8 the best fitness is 93.6216670165862']\n",
      "['At iteration 9 the best fitness is 93.6216670165862']\n",
      "['At iteration 10 the best fitness is 94.46993006993007']\n",
      "['At iteration 11 the best fitness is 94.46993006993007']\n",
      "['At iteration 12 the best fitness is 94.46993006993007']\n",
      "['At iteration 13 the best fitness is 94.46993006993007']\n",
      "['At iteration 14 the best fitness is 94.46993006993007']\n",
      "['At iteration 15 the best fitness is 94.46993006993007']\n",
      "['At iteration 16 the best fitness is 94.46993006993007']\n",
      "['At iteration 17 the best fitness is 95.02377622377622']\n",
      "['At iteration 18 the best fitness is 95.02377622377622']\n",
      "['At iteration 19 the best fitness is 95.02377622377622']\n",
      "['At iteration 20 the best fitness is 95.02377622377622']\n",
      "{'real': array([30360.91676829, 52002.84228601]), 'discrete': array([1, 0, 0, 0, 1, 0, 0, 0, 0, 0, 1, 1, 0, 0, 0, 0, 0, 0, 0, 1, 0, 1])}\n",
      "[[877   0]\n",
      " [  0 748]]\n",
      "Test accuracy:  100.0  - Fitness:  94.54545454545455\n",
      "GSA is optimizing  \"get_fitness\"\n"
     ]
    },
    {
     "name": "stderr",
     "output_type": "stream",
     "text": [
      "/Users/uclm/PycharmProjects/GSA_M/venv/lib/python3.9/site-packages/numpy/core/fromnumeric.py:59: FutureWarning: 'DataFrame.swapaxes' is deprecated and will be removed in a future version. Please use 'DataFrame.transpose' instead.\n",
      "  return bound(*args, **kwds)\n"
     ]
    },
    {
     "name": "stdout",
     "output_type": "stream",
     "text": [
      "['At iteration 1 the best fitness is 91.17482517482519']\n",
      "['At iteration 2 the best fitness is 91.17482517482519']\n",
      "['At iteration 3 the best fitness is 93.14405594405595']\n",
      "['At iteration 4 the best fitness is 93.14405594405595']\n",
      "['At iteration 5 the best fitness is 93.14405594405595']\n",
      "['At iteration 6 the best fitness is 93.14405594405595']\n",
      "['At iteration 7 the best fitness is 93.14405594405595']\n",
      "['At iteration 8 the best fitness is 93.63636363636364']\n",
      "['At iteration 9 the best fitness is 93.63636363636364']\n",
      "['At iteration 10 the best fitness is 93.63636363636364']\n",
      "['At iteration 11 the best fitness is 93.63636363636364']\n",
      "['At iteration 12 the best fitness is 93.63636363636364']\n",
      "['At iteration 13 the best fitness is 93.63636363636364']\n",
      "['At iteration 14 the best fitness is 93.63636363636364']\n",
      "['At iteration 15 the best fitness is 93.63636363636364']\n",
      "['At iteration 16 the best fitness is 93.63636363636364']\n",
      "['At iteration 17 the best fitness is 93.63636363636364']\n",
      "['At iteration 18 the best fitness is 93.63636363636364']\n",
      "['At iteration 19 the best fitness is 93.63636363636364']\n",
      "['At iteration 20 the best fitness is 93.63636363636364']\n",
      "{'real': array([51308.64221779, 15298.88441862]), 'discrete': array([1, 0, 0, 0, 0, 1, 0, 0, 0, 1, 1, 1, 1, 0, 0, 1, 0, 0, 0, 1, 0, 1])}\n",
      "[[819   9]\n",
      " [  0 797]]\n",
      "Test accuracy:  99.44615384615385  - Fitness:  91.3751048951049\n",
      "GSA is optimizing  \"get_fitness\"\n",
      "['At iteration 1 the best fitness is 90.9090909090909']\n"
     ]
    },
    {
     "name": "stderr",
     "output_type": "stream",
     "text": [
      "/Users/uclm/PycharmProjects/GSA_M/venv/lib/python3.9/site-packages/numpy/core/fromnumeric.py:59: FutureWarning: 'DataFrame.swapaxes' is deprecated and will be removed in a future version. Please use 'DataFrame.transpose' instead.\n",
      "  return bound(*args, **kwds)\n"
     ]
    },
    {
     "name": "stdout",
     "output_type": "stream",
     "text": [
      "['At iteration 2 the best fitness is 90.9090909090909']\n",
      "['At iteration 3 the best fitness is 92.83636363636364']\n",
      "['At iteration 4 the best fitness is 92.83636363636364']\n",
      "['At iteration 5 the best fitness is 92.83636363636364']\n",
      "['At iteration 6 the best fitness is 93.99118202813354']\n",
      "['At iteration 7 the best fitness is 93.99118202813354']\n",
      "['At iteration 8 the best fitness is 93.99118202813354']\n",
      "['At iteration 9 the best fitness is 93.99118202813354']\n",
      "['At iteration 10 the best fitness is 93.99118202813354']\n",
      "['At iteration 11 the best fitness is 93.99118202813354']\n",
      "['At iteration 12 the best fitness is 93.99118202813354']\n",
      "['At iteration 13 the best fitness is 94.05276786339144']\n",
      "['At iteration 14 the best fitness is 94.05276786339144']\n",
      "['At iteration 15 the best fitness is 94.05276786339144']\n",
      "['At iteration 16 the best fitness is 94.05276786339144']\n",
      "['At iteration 17 the best fitness is 94.05276786339144']\n",
      "['At iteration 18 the best fitness is 94.05276786339144']\n",
      "['At iteration 19 the best fitness is 94.05276786339144']\n",
      "['At iteration 20 the best fitness is 94.05276786339144']\n",
      "{'real': array([35172.2200101 , 40015.74987482]), 'discrete': array([0, 1, 0, 0, 1, 0, 0, 1, 0, 0, 1, 1, 0, 1, 0, 0, 1, 1, 0, 0, 0, 0])}\n",
      "[[863   8]\n",
      " [  1 753]]\n",
      "Test accuracy:  99.44615384615385  - Fitness:  92.2841958041958\n",
      "GSA is optimizing  \"get_fitness\"\n"
     ]
    },
    {
     "name": "stderr",
     "output_type": "stream",
     "text": [
      "/Users/uclm/PycharmProjects/GSA_M/venv/lib/python3.9/site-packages/numpy/core/fromnumeric.py:59: FutureWarning: 'DataFrame.swapaxes' is deprecated and will be removed in a future version. Please use 'DataFrame.transpose' instead.\n",
      "  return bound(*args, **kwds)\n"
     ]
    },
    {
     "name": "stdout",
     "output_type": "stream",
     "text": [
      "['At iteration 1 the best fitness is 90.37482517482518']\n",
      "['At iteration 2 the best fitness is 93.08209111904263']\n",
      "['At iteration 3 the best fitness is 93.08209111904263']\n",
      "['At iteration 4 the best fitness is 93.57482517482518']\n",
      "['At iteration 5 the best fitness is 93.57482517482518']\n",
      "['At iteration 6 the best fitness is 93.57482517482518']\n",
      "['At iteration 7 the best fitness is 93.57482517482518']\n",
      "['At iteration 8 the best fitness is 93.57482517482518']\n",
      "['At iteration 9 the best fitness is 93.57482517482518']\n",
      "['At iteration 10 the best fitness is 93.63636363636364']\n",
      "['At iteration 11 the best fitness is 93.63636363636364']\n",
      "['At iteration 12 the best fitness is 93.63636363636364']\n",
      "['At iteration 13 the best fitness is 93.63636363636364']\n",
      "['At iteration 14 the best fitness is 93.63636363636364']\n",
      "['At iteration 15 the best fitness is 94.54545454545455']\n",
      "['At iteration 16 the best fitness is 94.54545454545455']\n",
      "['At iteration 17 the best fitness is 94.54545454545455']\n",
      "['At iteration 18 the best fitness is 94.54545454545455']\n",
      "['At iteration 19 the best fitness is 94.54545454545455']\n",
      "['At iteration 20 the best fitness is 94.54545454545455']\n",
      "{'real': array([38348.90618271, 25999.78642576]), 'discrete': array([0, 0, 0, 1, 0, 0, 0, 1, 1, 1, 0, 0, 0, 0, 0, 0, 0, 1, 1, 1, 1, 1])}\n",
      "[[814   0]\n",
      " [  0 811]]\n",
      "Test accuracy:  100.0  - Fitness:  91.81818181818181\n",
      "GSA is optimizing  \"get_fitness\"\n",
      "['At iteration 1 the best fitness is 92.72727272727272']\n"
     ]
    },
    {
     "name": "stderr",
     "output_type": "stream",
     "text": [
      "/Users/uclm/PycharmProjects/GSA_M/venv/lib/python3.9/site-packages/numpy/core/fromnumeric.py:59: FutureWarning: 'DataFrame.swapaxes' is deprecated and will be removed in a future version. Please use 'DataFrame.transpose' instead.\n",
      "  return bound(*args, **kwds)\n"
     ]
    },
    {
     "name": "stdout",
     "output_type": "stream",
     "text": [
      "['At iteration 2 the best fitness is 93.3902097902098']\n",
      "['At iteration 3 the best fitness is 93.63636363636364']\n",
      "['At iteration 4 the best fitness is 93.63636363636364']\n",
      "['At iteration 5 the best fitness is 94.2853146853147']\n",
      "['At iteration 6 the best fitness is 94.2853146853147']\n",
      "['At iteration 7 the best fitness is 95.33137378402968']\n",
      "['At iteration 8 the best fitness is 95.33137378402968']\n",
      "['At iteration 9 the best fitness is 95.33137378402968']\n",
      "['At iteration 10 the best fitness is 95.33137378402968']\n",
      "['At iteration 11 the best fitness is 95.33137378402968']\n",
      "['At iteration 12 the best fitness is 95.33137378402968']\n",
      "['At iteration 13 the best fitness is 95.33137378402968']\n",
      "['At iteration 14 the best fitness is 95.33137378402968']\n",
      "['At iteration 15 the best fitness is 95.33137378402968']\n",
      "['At iteration 16 the best fitness is 96.36363636363636']\n",
      "['At iteration 17 the best fitness is 96.36363636363636']\n",
      "['At iteration 18 the best fitness is 96.36363636363636']\n",
      "['At iteration 19 the best fitness is 96.36363636363636']\n",
      "['At iteration 20 the best fitness is 96.36363636363636']\n",
      "{'real': array([ 6883.79426584, 58506.39587249]), 'discrete': array([0, 0, 0, 1, 0, 1, 0, 0, 1, 0, 1, 0, 0, 0, 0, 0, 0, 0, 1, 0, 0, 1])}\n",
      "[[852   0]\n",
      " [  0 773]]\n",
      "Test accuracy:  100.0  - Fitness:  94.54545454545455\n",
      "GSA is optimizing  \"get_fitness\"\n"
     ]
    },
    {
     "name": "stderr",
     "output_type": "stream",
     "text": [
      "/Users/uclm/PycharmProjects/GSA_M/venv/lib/python3.9/site-packages/numpy/core/fromnumeric.py:59: FutureWarning: 'DataFrame.swapaxes' is deprecated and will be removed in a future version. Please use 'DataFrame.transpose' instead.\n",
      "  return bound(*args, **kwds)\n"
     ]
    },
    {
     "name": "stdout",
     "output_type": "stream",
     "text": [
      "['At iteration 1 the best fitness is 90.77202797202797']\n",
      "['At iteration 2 the best fitness is 90.77202797202797']\n",
      "['At iteration 3 the best fitness is 92.72727272727272']\n",
      "['At iteration 4 the best fitness is 92.72727272727272']\n",
      "['At iteration 5 the best fitness is 92.72727272727272']\n",
      "['At iteration 6 the best fitness is 92.72727272727272']\n",
      "['At iteration 7 the best fitness is 92.72727272727272']\n",
      "['At iteration 8 the best fitness is 92.72727272727272']\n",
      "['At iteration 9 the best fitness is 92.72727272727272']\n",
      "['At iteration 10 the best fitness is 92.72727272727272']\n",
      "['At iteration 11 the best fitness is 92.72727272727272']\n",
      "['At iteration 12 the best fitness is 93.45174825174826']\n",
      "['At iteration 13 the best fitness is 93.45174825174826']\n",
      "['At iteration 14 the best fitness is 94.9006993006993']\n",
      "['At iteration 15 the best fitness is 94.9006993006993']\n",
      "['At iteration 16 the best fitness is 94.9006993006993']\n",
      "['At iteration 17 the best fitness is 94.9006993006993']\n",
      "['At iteration 18 the best fitness is 94.9006993006993']\n",
      "['At iteration 19 the best fitness is 94.9006993006993']\n",
      "['At iteration 20 the best fitness is 94.9006993006993']\n",
      "{'real': array([25513.6853805 , 92711.01189679]), 'discrete': array([1, 1, 0, 0, 1, 0, 0, 0, 0, 1, 0, 0, 1, 0, 1, 1, 0, 0, 0, 0, 0, 0])}\n",
      "[[852  12]\n",
      " [  4 757]]\n",
      "Test accuracy:  99.01538461538462  - Fitness:  92.84867132867134\n",
      "GSA is optimizing  \"get_fitness\"\n",
      "['At iteration 1 the best fitness is 91.81818181818181']\n"
     ]
    },
    {
     "name": "stderr",
     "output_type": "stream",
     "text": [
      "/Users/uclm/PycharmProjects/GSA_M/venv/lib/python3.9/site-packages/numpy/core/fromnumeric.py:59: FutureWarning: 'DataFrame.swapaxes' is deprecated and will be removed in a future version. Please use 'DataFrame.transpose' instead.\n",
      "  return bound(*args, **kwds)\n"
     ]
    },
    {
     "name": "stdout",
     "output_type": "stream",
     "text": [
      "['At iteration 2 the best fitness is 91.81818181818181']\n",
      "['At iteration 3 the best fitness is 91.81818181818181']\n",
      "['At iteration 4 the best fitness is 91.81818181818181']\n",
      "['At iteration 5 the best fitness is 91.81818181818181']\n",
      "['At iteration 6 the best fitness is 91.81818181818181']\n",
      "['At iteration 7 the best fitness is 91.81818181818181']\n",
      "['At iteration 8 the best fitness is 93.63636363636364']\n",
      "['At iteration 9 the best fitness is 93.63636363636364']\n",
      "['At iteration 10 the best fitness is 93.63636363636364']\n",
      "['At iteration 11 the best fitness is 93.63636363636364']\n",
      "['At iteration 12 the best fitness is 93.63636363636364']\n",
      "['At iteration 13 the best fitness is 93.63636363636364']\n",
      "['At iteration 14 the best fitness is 94.71608391608392']\n",
      "['At iteration 15 the best fitness is 94.71608391608392']\n",
      "['At iteration 16 the best fitness is 94.7776223776224']\n",
      "['At iteration 17 the best fitness is 94.7776223776224']\n",
      "['At iteration 18 the best fitness is 94.7776223776224']\n",
      "['At iteration 19 the best fitness is 94.7776223776224']\n",
      "['At iteration 20 the best fitness is 94.7776223776224']\n",
      "{'real': array([19691.94859504, 32029.15849199]), 'discrete': array([0, 0, 0, 1, 0, 0, 0, 1, 1, 0, 0, 0, 0, 0, 0, 0, 0, 0, 0, 1, 1, 0])}\n",
      "[[822  13]\n",
      " [  4 786]]\n",
      "Test accuracy:  98.95384615384616  - Fitness:  94.61762237762238\n",
      "GSA is optimizing  \"get_fitness\"\n"
     ]
    },
    {
     "name": "stderr",
     "output_type": "stream",
     "text": [
      "/Users/uclm/PycharmProjects/GSA_M/venv/lib/python3.9/site-packages/numpy/core/fromnumeric.py:59: FutureWarning: 'DataFrame.swapaxes' is deprecated and will be removed in a future version. Please use 'DataFrame.transpose' instead.\n",
      "  return bound(*args, **kwds)\n"
     ]
    },
    {
     "name": "stdout",
     "output_type": "stream",
     "text": [
      "['At iteration 1 the best fitness is 91.81818181818181']\n",
      "['At iteration 2 the best fitness is 91.81818181818181']\n",
      "['At iteration 3 the best fitness is 91.81818181818181']\n",
      "['At iteration 4 the best fitness is 92.66573426573427']\n",
      "['At iteration 5 the best fitness is 92.66573426573427']\n",
      "['At iteration 6 the best fitness is 92.66573426573427']\n",
      "['At iteration 7 the best fitness is 92.66573426573427']\n",
      "['At iteration 8 the best fitness is 92.66573426573427']\n",
      "['At iteration 9 the best fitness is 94.48386871019666']\n",
      "['At iteration 10 the best fitness is 94.48386871019666']\n",
      "['At iteration 11 the best fitness is 94.48386871019666']\n",
      "['At iteration 12 the best fitness is 94.48386871019666']\n",
      "['At iteration 13 the best fitness is 94.48386871019666']\n",
      "['At iteration 14 the best fitness is 94.48386871019666']\n",
      "['At iteration 15 the best fitness is 94.48386871019666']\n",
      "['At iteration 16 the best fitness is 94.54545454545455']\n",
      "['At iteration 17 the best fitness is 94.54545454545455']\n",
      "['At iteration 18 the best fitness is 95.61118881118881']\n",
      "['At iteration 19 the best fitness is 95.61118881118881']\n",
      "['At iteration 20 the best fitness is 95.61118881118881']\n",
      "{'real': array([ 9577.18099137, 89947.19409309]), 'discrete': array([0, 0, 0, 0, 0, 0, 0, 1, 1, 0, 0, 0, 0, 0, 0, 0, 0, 0, 0, 1, 0, 0])}\n",
      "[[829  22]\n",
      " [  7 767]]\n",
      "Test accuracy:  98.21538461538462  - Fitness:  95.84503496503498\n"
     ]
    }
   ],
   "source": [
    "wa = 0.8\n",
    "wf = 0.2\n",
    "train_df = pd.DataFrame()\n",
    "test_df = pd.DataFrame()\n",
    "for chaotic_constant in [True, False]:\n",
    "    print(f\"Running GSA with chaotic constant: \", chaotic_constant)\n",
    "    tr_df, tt_df = run_gsa(chaotic_constant=chaotic_constant,\n",
    "                           runs=10,\n",
    "                           population_size=5,\n",
    "                           iterations=20)\n",
    "    \n",
    "    tr_df[\"chaotic_constant\"] = chaotic_constant\n",
    "    tt_df[\"chaotic_constant\"] = chaotic_constant\n",
    "    train_df = pd.concat([train_df, tr_df], axis=0)\n",
    "    test_df = pd.concat([test_df, tt_df], axis=0)"
   ],
   "metadata": {
    "collapsed": false,
    "ExecuteTime": {
     "end_time": "2024-03-05T08:26:39.320709Z",
     "start_time": "2024-03-05T08:25:54.233377Z"
    }
   },
   "id": "6ce233fb1a6dd1f9",
   "execution_count": 17
  },
  {
   "cell_type": "code",
   "outputs": [
    {
     "data": {
      "text/plain": "<Figure size 1000x600 with 1 Axes>",
      "image/png": "[encoded data removed]"
     },
     "metadata": {},
     "output_type": "display_data"
    }
   ],
   "source": [
    "fig, ax = plt.subplots(figsize=(10, 6))\n",
    "\n",
    "ax.set_title(\"Fitness\", fontweight='bold')\n",
    "\n",
    "# ax.set_ylim(min(global_train_hist[\"Fitness\"]), max(global_train_hist[\"Fitness\"]))\n",
    "    \n",
    "sns.lineplot(ax=ax,\n",
    "             data=train_df,\n",
    "             x=\"Iteration\",\n",
    "             y=\"Fitness\",\n",
    "             hue=\"chaotic_constant\",\n",
    "             legend=True)\n",
    "\n",
    "ax.grid(axis='y', color='#A9A9A9', alpha=0.3, zorder=1)\n",
    "\n",
    "ax.set_xlabel(\"Iter.\")\n",
    "ax.set_ylabel(\"Fitness\")\n",
    "\n",
    "plt.show()\n",
    "# fig.savefig(save_path, format='svg', dpi=300, bbox_inches='tight', transparent=True)"
   ],
   "metadata": {
    "collapsed": false,
    "ExecuteTime": {
     "end_time": "2024-03-05T08:26:43.791446Z",
     "start_time": "2024-03-05T08:26:43.441282Z"
    }
   },
   "id": "e7db492409bad26f",
   "execution_count": 18
  },
  {
   "cell_type": "code",
   "outputs": [
    {
     "data": {
      "text/plain": "<Figure size 1000x600 with 1 Axes>",
      "image/png": "[encoded data removed]"
     },
     "metadata": {},
     "output_type": "display_data"
    }
   ],
   "source": [
    "from matplotlib import pyplot as plt\n",
    "import seaborn as sns\n",
    "\n",
    "fig, ax = plt.subplots(figsize=(10, 6))\n",
    "\n",
    "ax.set_title(\"Accuracy\", fontweight='bold')\n",
    "\n",
    "# ax.set_ylim(min(global_train_hist[\"Fitness\"]), max(global_train_hist[\"Fitness\"]))\n",
    "    \n",
    "sns.lineplot(ax=ax,\n",
    "             data=train_df,\n",
    "             x=\"Iteration\",\n",
    "             y=\"Accuracy\",\n",
    "             hue=\"chaotic_constant\",\n",
    "             legend=True)\n",
    "\n",
    "ax.grid(axis='y', color='#A9A9A9', alpha=0.3, zorder=1)\n",
    "\n",
    "ax.set_xlabel(\"Iter.\")\n",
    "ax.set_ylabel(\"Accuracy\")\n",
    "\n",
    "plt.show()\n",
    "# fig.savefig(save_path, format='svg', dpi=300, bbox_inches='tight', transparent=True)"
   ],
   "metadata": {
    "collapsed": false,
    "ExecuteTime": {
     "end_time": "2024-03-05T08:26:45.932351Z",
     "start_time": "2024-03-05T08:26:45.562150Z"
    }
   },
   "id": "b2eaf37348c524d8",
   "execution_count": 19
  },
  {
   "cell_type": "code",
   "outputs": [
    {
     "data": {
      "text/plain": "TtestResult(statistic=0.11587281338755652, pvalue=0.9078117832441424, df=398.0)"
     },
     "execution_count": 20,
     "metadata": {},
     "output_type": "execute_result"
    }
   ],
   "source": [
    "# T-test results (with and without Chaotic constant)\n",
    "\n",
    "# accuracy history in train_df between chaotic_constant=True and chaotic_constant=False\n",
    "chaotic_constant_true = train_df[train_df[\"chaotic_constant\"] == True][\"Accuracy\"]\n",
    "chaotic_constant_false = train_df[train_df[\"chaotic_constant\"] == False][\"Accuracy\"]\n",
    "\n",
    "st.ttest_ind(chaotic_constant_true, chaotic_constant_false)"
   ],
   "metadata": {
    "collapsed": false,
    "ExecuteTime": {
     "end_time": "2024-03-05T08:26:49.232960Z",
     "start_time": "2024-03-05T08:26:49.217823Z"
    }
   },
   "id": "67378f6d183d3d1c",
   "execution_count": 20
  },
  {
   "cell_type": "markdown",
   "source": [
    "# Compare accuracy weight (wa) and fitness weight (wf) effect on the number of features and convergence of accuracy and fitness"
   ],
   "metadata": {
    "collapsed": false
   },
   "id": "fdf60da64aedd735"
  },
  {
   "cell_type": "code",
   "outputs": [
    {
     "name": "stdout",
     "output_type": "stream",
     "text": [
      "Running GSA with wa = 0.1, wf = 0.9\n",
      "GSA is optimizing  \"get_fitness\"\n",
      "['At iteration 1 the best fitness is 63.18181818181817']\n"
     ]
    },
    {
     "name": "stderr",
     "output_type": "stream",
     "text": [
      "/Users/uclm/PycharmProjects/GSA_M/venv/lib/python3.9/site-packages/numpy/core/fromnumeric.py:59: FutureWarning: 'DataFrame.swapaxes' is deprecated and will be removed in a future version. Please use 'DataFrame.transpose' instead.\n",
      "  return bound(*args, **kwds)\n"
     ]
    },
    {
     "name": "stdout",
     "output_type": "stream",
     "text": [
      "['At iteration 2 the best fitness is 66.91118881118881']\n",
      "['At iteration 3 the best fitness is 66.91118881118881']\n",
      "['At iteration 4 the best fitness is 66.91118881118881']\n",
      "['At iteration 5 the best fitness is 66.91118881118881']\n",
      "['At iteration 6 the best fitness is 66.91118881118881']\n",
      "['At iteration 7 the best fitness is 66.91118881118881']\n",
      "['At iteration 8 the best fitness is 66.91118881118881']\n",
      "['At iteration 9 the best fitness is 67.03408216110294']\n",
      "['At iteration 10 the best fitness is 67.03408216110294']\n",
      "['At iteration 11 the best fitness is 67.03408216110294']\n",
      "['At iteration 12 the best fitness is 71.36363636363637']\n",
      "['At iteration 13 the best fitness is 71.36363636363637']\n",
      "['At iteration 14 the best fitness is 71.36363636363637']\n",
      "['At iteration 15 the best fitness is 71.36363636363637']\n",
      "['At iteration 16 the best fitness is 75.03916083916086']\n",
      "['At iteration 17 the best fitness is 75.03916083916086']\n",
      "['At iteration 18 the best fitness is 75.03916083916086']\n",
      "['At iteration 19 the best fitness is 75.03916083916086']\n",
      "['At iteration 20 the best fitness is 79.13776223776225']\n",
      "{'real': array([57028.20488252,  8525.74152343]), 'discrete': array([1, 0, 1, 1, 0, 0, 0, 0, 1, 0, 0, 0, 0, 1, 0, 0, 0, 0, 0, 1, 0, 0])}\n",
      "[[838   5]\n",
      " [ 29 753]]\n",
      "Test accuracy:  97.9076923076923  - Fitness:  75.2453146853147\n"
     ]
    },
    {
     "name": "stderr",
     "output_type": "stream",
     "text": [
      "/Users/uclm/PycharmProjects/GSA_M/venv/lib/python3.9/site-packages/numpy/core/fromnumeric.py:59: FutureWarning: 'DataFrame.swapaxes' is deprecated and will be removed in a future version. Please use 'DataFrame.transpose' instead.\n",
      "  return bound(*args, **kwds)\n"
     ]
    },
    {
     "name": "stdout",
     "output_type": "stream",
     "text": [
      "GSA is optimizing  \"get_fitness\"\n",
      "['At iteration 1 the best fitness is 67.27272727272728']\n",
      "['At iteration 2 the best fitness is 71.36363636363637']\n",
      "['At iteration 3 the best fitness is 71.36363636363637']\n",
      "['At iteration 4 the best fitness is 71.36363636363637']\n",
      "['At iteration 5 the best fitness is 71.36363636363637']\n",
      "['At iteration 6 the best fitness is 71.36363636363637']\n",
      "['At iteration 7 the best fitness is 71.36363636363637']\n",
      "['At iteration 8 the best fitness is 71.36363636363637']\n",
      "['At iteration 9 the best fitness is 71.36363636363637']\n",
      "['At iteration 10 the best fitness is 71.36363636363637']\n",
      "['At iteration 11 the best fitness is 71.36363636363637']\n",
      "['At iteration 12 the best fitness is 71.36363636363637']\n",
      "['At iteration 13 the best fitness is 71.36363636363637']\n",
      "['At iteration 14 the best fitness is 71.36363636363637']\n",
      "['At iteration 15 the best fitness is 71.36363636363637']\n",
      "['At iteration 16 the best fitness is 71.36363636363637']\n",
      "['At iteration 17 the best fitness is 71.36363636363637']\n",
      "['At iteration 18 the best fitness is 71.36363636363637']\n",
      "['At iteration 19 the best fitness is 71.36363636363637']\n",
      "['At iteration 20 the best fitness is 71.36363636363637']\n",
      "{'real': array([26209.99440031, 76199.64700201]), 'discrete': array([1, 0, 1, 0, 1, 0, 1, 0, 1, 0, 0, 1, 1, 0, 0, 0, 0, 0, 1, 1, 0, 1])}\n",
      "[[866   0]\n",
      " [  0 759]]\n",
      "Test accuracy:  100.0  - Fitness:  59.090909090909086\n",
      "GSA is optimizing  \"get_fitness\"\n",
      "['At iteration 1 the best fitness is 67.27272727272728']\n"
     ]
    },
    {
     "name": "stderr",
     "output_type": "stream",
     "text": [
      "/Users/uclm/PycharmProjects/GSA_M/venv/lib/python3.9/site-packages/numpy/core/fromnumeric.py:59: FutureWarning: 'DataFrame.swapaxes' is deprecated and will be removed in a future version. Please use 'DataFrame.transpose' instead.\n",
      "  return bound(*args, **kwds)\n"
     ]
    },
    {
     "name": "stdout",
     "output_type": "stream",
     "text": [
      "['At iteration 2 the best fitness is 67.27272727272728']\n",
      "['At iteration 3 the best fitness is 71.36363636363637']\n",
      "['At iteration 4 the best fitness is 71.36363636363637']\n",
      "['At iteration 5 the best fitness is 71.36363636363637']\n",
      "['At iteration 6 the best fitness is 71.36363636363637']\n",
      "['At iteration 7 the best fitness is 71.36363636363637']\n",
      "['At iteration 8 the best fitness is 75.40069930069932']\n",
      "['At iteration 9 the best fitness is 75.40069930069932']\n",
      "['At iteration 10 the best fitness is 75.40069930069932']\n",
      "['At iteration 11 the best fitness is 75.40069930069932']\n",
      "['At iteration 12 the best fitness is 75.40069930069932']\n",
      "['At iteration 13 the best fitness is 75.40069930069932']\n",
      "['At iteration 14 the best fitness is 75.40069930069932']\n",
      "['At iteration 15 the best fitness is 75.40069930069932']\n",
      "['At iteration 16 the best fitness is 75.40069930069932']\n",
      "['At iteration 17 the best fitness is 75.40069930069932']\n",
      "['At iteration 18 the best fitness is 75.40069930069932']\n",
      "['At iteration 19 the best fitness is 75.40069930069932']\n",
      "['At iteration 20 the best fitness is 75.41608391608393']\n",
      "{'real': array([63349.91161892, 61674.65760297]), 'discrete': array([0, 0, 0, 1, 1, 0, 1, 0, 1, 1, 1, 1, 0, 1, 0, 0, 0, 1, 0, 1, 0, 0])}\n",
      "[[808   0]\n",
      " [  0 817]]\n",
      "Test accuracy:  100.0  - Fitness:  59.090909090909086\n",
      "GSA is optimizing  \"get_fitness\"\n"
     ]
    },
    {
     "name": "stderr",
     "output_type": "stream",
     "text": [
      "/Users/uclm/PycharmProjects/GSA_M/venv/lib/python3.9/site-packages/numpy/core/fromnumeric.py:59: FutureWarning: 'DataFrame.swapaxes' is deprecated and will be removed in a future version. Please use 'DataFrame.transpose' instead.\n",
      "  return bound(*args, **kwds)\n"
     ]
    },
    {
     "name": "stdout",
     "output_type": "stream",
     "text": [
      "['At iteration 1 the best fitness is 63.1664217230037']\n",
      "['At iteration 2 the best fitness is 66.76503496503497']\n",
      "['At iteration 3 the best fitness is 66.76503496503497']\n",
      "['At iteration 4 the best fitness is 67.25734265734266']\n",
      "['At iteration 5 the best fitness is 67.25734265734266']\n",
      "['At iteration 6 the best fitness is 67.25734265734266']\n",
      "['At iteration 7 the best fitness is 67.25734265734266']\n",
      "['At iteration 8 the best fitness is 67.25734265734266']\n",
      "['At iteration 9 the best fitness is 67.25734265734266']\n",
      "['At iteration 10 the best fitness is 67.25734265734266']\n",
      "['At iteration 11 the best fitness is 67.25734265734266']\n",
      "['At iteration 12 the best fitness is 67.25734265734266']\n",
      "['At iteration 13 the best fitness is 67.27272727272728']\n",
      "['At iteration 14 the best fitness is 67.27272727272728']\n",
      "['At iteration 15 the best fitness is 67.27272727272728']\n",
      "['At iteration 16 the best fitness is 67.27272727272728']\n",
      "['At iteration 17 the best fitness is 67.27272727272728']\n",
      "['At iteration 18 the best fitness is 67.27272727272728']\n",
      "['At iteration 19 the best fitness is 67.27272727272728']\n",
      "['At iteration 20 the best fitness is 74.64685314685316']\n",
      "{'real': array([67773.03720362, 89279.98191337]), 'discrete': array([1, 0, 0, 0, 0, 0, 0, 1, 0, 1, 0, 1, 0, 0, 0, 0, 1, 1, 1, 0, 1, 0])}\n",
      "[[855   5]\n",
      " [ 14 751]]\n",
      "Test accuracy:  98.83076923076923  - Fitness:  67.1558041958042\n",
      "GSA is optimizing  \"get_fitness\"\n"
     ]
    },
    {
     "name": "stderr",
     "output_type": "stream",
     "text": [
      "/Users/uclm/PycharmProjects/GSA_M/venv/lib/python3.9/site-packages/numpy/core/fromnumeric.py:59: FutureWarning: 'DataFrame.swapaxes' is deprecated and will be removed in a future version. Please use 'DataFrame.transpose' instead.\n",
      "  return bound(*args, **kwds)\n"
     ]
    },
    {
     "name": "stdout",
     "output_type": "stream",
     "text": [
      "['At iteration 1 the best fitness is 59.090909090909086']\n",
      "['At iteration 2 the best fitness is 63.18181818181817']\n",
      "['At iteration 3 the best fitness is 63.18181818181817']\n",
      "['At iteration 4 the best fitness is 67.24965034965035']\n",
      "['At iteration 5 the best fitness is 67.24965034965035']\n",
      "['At iteration 6 the best fitness is 67.24965034965035']\n",
      "['At iteration 7 the best fitness is 71.22506823430612']\n",
      "['At iteration 8 the best fitness is 71.22506823430612']\n",
      "['At iteration 9 the best fitness is 75.16971096647772']\n",
      "['At iteration 10 the best fitness is 75.16971096647772']\n",
      "['At iteration 11 the best fitness is 75.16971096647772']\n",
      "['At iteration 12 the best fitness is 75.16971096647772']\n",
      "['At iteration 13 the best fitness is 75.16971096647772']\n",
      "['At iteration 14 the best fitness is 81.64405594405595']\n",
      "['At iteration 15 the best fitness is 81.64405594405595']\n",
      "['At iteration 16 the best fitness is 83.05944055944056']\n",
      "['At iteration 17 the best fitness is 83.05944055944056']\n",
      "['At iteration 18 the best fitness is 83.05944055944056']\n",
      "['At iteration 19 the best fitness is 83.05944055944056']\n",
      "['At iteration 20 the best fitness is 83.05944055944056']\n",
      "{'real': array([18700.54917481,  5015.2958895 ]), 'discrete': array([1, 0, 0, 0, 1, 0, 1, 1, 0, 0, 1, 1, 0, 0, 0, 0, 0, 0, 0, 0, 0, 0])}\n",
      "[[836   0]\n",
      " [  8 781]]\n",
      "Test accuracy:  99.50769230769231  - Fitness:  75.40531468531469\n",
      "GSA is optimizing  \"get_fitness\"\n",
      "['At iteration 1 the best fitness is 67.24193435509832']\n"
     ]
    },
    {
     "name": "stderr",
     "output_type": "stream",
     "text": [
      "/Users/uclm/PycharmProjects/GSA_M/venv/lib/python3.9/site-packages/numpy/core/fromnumeric.py:59: FutureWarning: 'DataFrame.swapaxes' is deprecated and will be removed in a future version. Please use 'DataFrame.transpose' instead.\n",
      "  return bound(*args, **kwds)\n"
     ]
    },
    {
     "name": "stdout",
     "output_type": "stream",
     "text": [
      "['At iteration 2 the best fitness is 67.24965034965035']\n",
      "['At iteration 3 the best fitness is 67.24965034965035']\n",
      "['At iteration 4 the best fitness is 67.24965034965035']\n",
      "['At iteration 5 the best fitness is 67.24965034965035']\n",
      "['At iteration 6 the best fitness is 67.27272727272728']\n",
      "['At iteration 7 the best fitness is 67.27272727272728']\n",
      "['At iteration 8 the best fitness is 67.27272727272728']\n",
      "['At iteration 9 the best fitness is 67.27272727272728']\n",
      "['At iteration 10 the best fitness is 67.27272727272728']\n",
      "['At iteration 11 the best fitness is 67.27272727272728']\n",
      "['At iteration 12 the best fitness is 67.27272727272728']\n",
      "['At iteration 13 the best fitness is 67.27272727272728']\n",
      "['At iteration 14 the best fitness is 67.27272727272728']\n",
      "['At iteration 15 the best fitness is 67.27272727272728']\n",
      "['At iteration 16 the best fitness is 67.27272727272728']\n",
      "['At iteration 17 the best fitness is 67.27272727272728']\n",
      "['At iteration 18 the best fitness is 67.27272727272728']\n",
      "['At iteration 19 the best fitness is 67.27272727272728']\n",
      "['At iteration 20 the best fitness is 70.98642312268179']\n",
      "{'real': array([58172.27733699,  9000.82110761]), 'discrete': array([0, 0, 0, 1, 0, 1, 0, 1, 0, 1, 0, 1, 0, 0, 0, 1, 1, 0, 0, 0, 0, 0])}\n",
      "[[810  37]\n",
      " [ 69 709]]\n",
      "Test accuracy:  93.47692307692309  - Fitness:  70.71132867132867\n",
      "GSA is optimizing  \"get_fitness\"\n"
     ]
    },
    {
     "name": "stderr",
     "output_type": "stream",
     "text": [
      "/Users/uclm/PycharmProjects/GSA_M/venv/lib/python3.9/site-packages/numpy/core/fromnumeric.py:59: FutureWarning: 'DataFrame.swapaxes' is deprecated and will be removed in a future version. Please use 'DataFrame.transpose' instead.\n",
      "  return bound(*args, **kwds)\n"
     ]
    },
    {
     "name": "stdout",
     "output_type": "stream",
     "text": [
      "['At iteration 1 the best fitness is 55.0']\n",
      "['At iteration 2 the best fitness is 67.22657342657342']\n",
      "['At iteration 3 the best fitness is 67.22657342657342']\n",
      "['At iteration 4 the best fitness is 67.22657342657342']\n",
      "['At iteration 5 the best fitness is 67.22657342657342']\n",
      "['At iteration 6 the best fitness is 67.22657342657342']\n",
      "['At iteration 7 the best fitness is 67.22657342657342']\n",
      "['At iteration 8 the best fitness is 67.22657342657342']\n",
      "['At iteration 9 the best fitness is 67.22657342657342']\n",
      "['At iteration 10 the best fitness is 67.24965034965035']\n",
      "['At iteration 11 the best fitness is 67.24965034965035']\n",
      "['At iteration 12 the best fitness is 67.24965034965035']\n",
      "['At iteration 13 the best fitness is 67.24965034965035']\n",
      "['At iteration 14 the best fitness is 67.24965034965035']\n",
      "['At iteration 15 the best fitness is 67.24965034965035']\n",
      "['At iteration 16 the best fitness is 67.25734265734266']\n",
      "['At iteration 17 the best fitness is 67.25734265734266']\n",
      "['At iteration 18 the best fitness is 67.25734265734266']\n",
      "['At iteration 19 the best fitness is 67.26503496503497']\n",
      "['At iteration 20 the best fitness is 85.08111888111887']\n",
      "{'real': array([21743.68125938, 45631.94974007]), 'discrete': array([0, 1, 0, 1, 0, 0, 0, 0, 0, 1, 1, 0, 0, 1, 0, 1, 0, 0, 0, 0, 0, 1])}\n",
      "[[865   1]\n",
      " [  6 753]]\n",
      "Test accuracy:  99.56923076923077  - Fitness:  71.32055944055945\n",
      "GSA is optimizing  \"get_fitness\"\n"
     ]
    },
    {
     "name": "stderr",
     "output_type": "stream",
     "text": [
      "/Users/uclm/PycharmProjects/GSA_M/venv/lib/python3.9/site-packages/numpy/core/fromnumeric.py:59: FutureWarning: 'DataFrame.swapaxes' is deprecated and will be removed in a future version. Please use 'DataFrame.transpose' instead.\n",
      "  return bound(*args, **kwds)\n"
     ]
    },
    {
     "name": "stdout",
     "output_type": "stream",
     "text": [
      "['At iteration 1 the best fitness is 63.0048951048951']\n",
      "['At iteration 2 the best fitness is 63.0048951048951']\n",
      "['At iteration 3 the best fitness is 63.0048951048951']\n",
      "['At iteration 4 the best fitness is 77.95314685314685']\n",
      "['At iteration 5 the best fitness is 77.95314685314685']\n",
      "['At iteration 6 the best fitness is 78.63776223776225']\n",
      "['At iteration 7 the best fitness is 78.63776223776225']\n",
      "['At iteration 8 the best fitness is 78.63776223776225']\n",
      "['At iteration 9 the best fitness is 78.63776223776225']\n",
      "['At iteration 10 the best fitness is 78.63776223776225']\n",
      "['At iteration 11 the best fitness is 78.63776223776225']\n",
      "['At iteration 12 the best fitness is 78.63776223776225']\n",
      "['At iteration 13 the best fitness is 78.63776223776225']\n",
      "['At iteration 14 the best fitness is 78.63776223776225']\n",
      "['At iteration 15 the best fitness is 78.63776223776225']\n",
      "['At iteration 16 the best fitness is 78.63776223776225']\n",
      "['At iteration 17 the best fitness is 78.63776223776225']\n",
      "['At iteration 18 the best fitness is 78.63776223776225']\n",
      "['At iteration 19 the best fitness is 78.63776223776225']\n",
      "['At iteration 20 the best fitness is 79.10699300699301']\n",
      "{'real': array([82144.16809779, 80887.14724654]), 'discrete': array([0, 0, 1, 1, 0, 1, 1, 1, 1, 0, 0, 0, 0, 0, 1, 1, 1, 0, 0, 1, 0, 0])}\n",
      "[[841   0]\n",
      " [  5 779]]\n",
      "Test accuracy:  99.6923076923077  - Fitness:  59.060139860139856\n",
      "GSA is optimizing  \"get_fitness\"\n"
     ]
    },
    {
     "name": "stderr",
     "output_type": "stream",
     "text": [
      "/Users/uclm/PycharmProjects/GSA_M/venv/lib/python3.9/site-packages/numpy/core/fromnumeric.py:59: FutureWarning: 'DataFrame.swapaxes' is deprecated and will be removed in a future version. Please use 'DataFrame.transpose' instead.\n",
      "  return bound(*args, **kwds)\n"
     ]
    },
    {
     "name": "stdout",
     "output_type": "stream",
     "text": [
      "['At iteration 1 the best fitness is 63.18181818181817']\n",
      "['At iteration 2 the best fitness is 71.36363636363637']\n",
      "['At iteration 3 the best fitness is 71.36363636363637']\n",
      "['At iteration 4 the best fitness is 71.36363636363637']\n",
      "['At iteration 5 the best fitness is 83.4825174825175']\n",
      "['At iteration 6 the best fitness is 83.4825174825175']\n",
      "['At iteration 7 the best fitness is 83.4825174825175']\n",
      "['At iteration 8 the best fitness is 83.4825174825175']\n",
      "['At iteration 9 the best fitness is 83.4825174825175']\n",
      "['At iteration 10 the best fitness is 83.4825174825175']\n",
      "['At iteration 11 the best fitness is 83.4825174825175']\n",
      "['At iteration 12 the best fitness is 83.4825174825175']\n",
      "['At iteration 13 the best fitness is 83.4825174825175']\n",
      "['At iteration 14 the best fitness is 83.4825174825175']\n",
      "['At iteration 15 the best fitness is 83.4825174825175']\n",
      "['At iteration 16 the best fitness is 83.4825174825175']\n",
      "['At iteration 17 the best fitness is 83.4825174825175']\n",
      "['At iteration 18 the best fitness is 83.4825174825175']\n",
      "['At iteration 19 the best fitness is 83.4825174825175']\n",
      "['At iteration 20 the best fitness is 83.4825174825175']\n",
      "{'real': array([99246.9006757 , 57902.44903914]), 'discrete': array([1, 1, 0, 1, 0, 0, 0, 0, 1, 0, 0, 1, 0, 0, 0, 1, 0, 1, 0, 0, 1, 1])}\n",
      "[[840   0]\n",
      " [  9 776]]\n",
      "Test accuracy:  99.44615384615385  - Fitness:  63.12643356643356\n",
      "GSA is optimizing  \"get_fitness\"\n",
      "['At iteration 1 the best fitness is 67.24965034965035']\n"
     ]
    },
    {
     "name": "stderr",
     "output_type": "stream",
     "text": [
      "/Users/uclm/PycharmProjects/GSA_M/venv/lib/python3.9/site-packages/numpy/core/fromnumeric.py:59: FutureWarning: 'DataFrame.swapaxes' is deprecated and will be removed in a future version. Please use 'DataFrame.transpose' instead.\n",
      "  return bound(*args, **kwds)\n"
     ]
    },
    {
     "name": "stdout",
     "output_type": "stream",
     "text": [
      "['At iteration 2 the best fitness is 75.41608391608393']\n",
      "['At iteration 3 the best fitness is 75.41608391608393']\n",
      "['At iteration 4 the best fitness is 79.48391608391609']\n",
      "['At iteration 5 the best fitness is 79.48391608391609']\n",
      "['At iteration 6 the best fitness is 79.48391608391609']\n",
      "['At iteration 7 the best fitness is 79.48391608391609']\n",
      "['At iteration 8 the best fitness is 79.48391608391609']\n",
      "['At iteration 9 the best fitness is 79.48391608391609']\n",
      "['At iteration 10 the best fitness is 79.48391608391609']\n",
      "['At iteration 11 the best fitness is 79.48391608391609']\n",
      "['At iteration 12 the best fitness is 79.48391608391609']\n",
      "['At iteration 13 the best fitness is 79.48391608391609']\n",
      "['At iteration 14 the best fitness is 79.48391608391609']\n",
      "['At iteration 15 the best fitness is 79.54545454545455']\n",
      "['At iteration 16 the best fitness is 79.54545454545455']\n",
      "['At iteration 17 the best fitness is 79.54545454545455']\n",
      "['At iteration 18 the best fitness is 83.60559440559442']\n",
      "['At iteration 19 the best fitness is 83.60559440559442']\n",
      "['At iteration 20 the best fitness is 83.60559440559442']\n",
      "{'real': array([14877.19461099,  5343.80976355]), 'discrete': array([1, 0, 1, 1, 1, 1, 0, 0, 0, 0, 1, 1, 1, 0, 0, 0, 0, 1, 0, 0, 0, 0])}\n",
      "[[859   1]\n",
      " [  0 765]]\n",
      "Test accuracy:  99.93846153846154  - Fitness:  63.17566433566433\n",
      "Running GSA with wa = 0.2, wf = 0.8\n",
      "GSA is optimizing  \"get_fitness\"\n"
     ]
    },
    {
     "name": "stderr",
     "output_type": "stream",
     "text": [
      "/Users/uclm/PycharmProjects/GSA_M/venv/lib/python3.9/site-packages/numpy/core/fromnumeric.py:59: FutureWarning: 'DataFrame.swapaxes' is deprecated and will be removed in a future version. Please use 'DataFrame.transpose' instead.\n",
      "  return bound(*args, **kwds)\n"
     ]
    },
    {
     "name": "stdout",
     "output_type": "stream",
     "text": [
      "['At iteration 1 the best fitness is 63.63636363636363']\n",
      "['At iteration 2 the best fitness is 74.54545454545456']\n",
      "['At iteration 3 the best fitness is 74.54545454545456']\n",
      "['At iteration 4 the best fitness is 74.54545454545456']\n",
      "['At iteration 5 the best fitness is 74.54545454545456']\n",
      "['At iteration 6 the best fitness is 74.54545454545456']\n",
      "['At iteration 7 the best fitness is 74.54545454545456']\n",
      "['At iteration 8 the best fitness is 74.54545454545456']\n",
      "['At iteration 9 the best fitness is 74.54545454545456']\n",
      "['At iteration 10 the best fitness is 81.72860242144307']\n",
      "['At iteration 11 the best fitness is 81.72860242144307']\n",
      "['At iteration 12 the best fitness is 81.72860242144307']\n",
      "['At iteration 13 the best fitness is 84.3006993006993']\n",
      "['At iteration 14 the best fitness is 84.3006993006993']\n",
      "['At iteration 15 the best fitness is 84.3006993006993']\n",
      "['At iteration 16 the best fitness is 84.3006993006993']\n",
      "['At iteration 17 the best fitness is 84.3006993006993']\n",
      "['At iteration 18 the best fitness is 84.3006993006993']\n",
      "['At iteration 19 the best fitness is 84.3006993006993']\n",
      "['At iteration 20 the best fitness is 84.3006993006993']\n",
      "{'real': array([70056.69151729, 89669.1079563 ]), 'discrete': array([0, 0, 0, 1, 0, 0, 0, 1, 1, 1, 1, 1, 1, 1, 0, 1, 0, 0, 1, 1, 0, 0])}\n",
      "[[829   0]\n",
      " [  0 796]]\n",
      "Test accuracy:  100.0  - Fitness:  60.0\n"
     ]
    },
    {
     "name": "stderr",
     "output_type": "stream",
     "text": [
      "/Users/uclm/PycharmProjects/GSA_M/venv/lib/python3.9/site-packages/numpy/core/fromnumeric.py:59: FutureWarning: 'DataFrame.swapaxes' is deprecated and will be removed in a future version. Please use 'DataFrame.transpose' instead.\n",
      "  return bound(*args, **kwds)\n"
     ]
    },
    {
     "name": "stdout",
     "output_type": "stream",
     "text": [
      "GSA is optimizing  \"get_fitness\"\n",
      "['At iteration 1 the best fitness is 72.36083916083916']\n",
      "['At iteration 2 the best fitness is 72.36083916083916']\n",
      "['At iteration 3 the best fitness is 75.12027972027973']\n",
      "['At iteration 4 the best fitness is 75.12027972027973']\n",
      "['At iteration 5 the best fitness is 81.61818181818181']\n",
      "['At iteration 6 the best fitness is 81.61818181818181']\n",
      "['At iteration 7 the best fitness is 81.61818181818181']\n",
      "['At iteration 8 the best fitness is 81.61818181818181']\n",
      "['At iteration 9 the best fitness is 81.61818181818181']\n",
      "['At iteration 10 the best fitness is 81.61818181818181']\n",
      "['At iteration 11 the best fitness is 81.82377622377622']\n",
      "['At iteration 12 the best fitness is 81.82377622377622']\n",
      "['At iteration 13 the best fitness is 81.82377622377622']\n",
      "['At iteration 14 the best fitness is 81.82377622377622']\n",
      "['At iteration 15 the best fitness is 81.82377622377622']\n",
      "['At iteration 16 the best fitness is 81.82377622377622']\n",
      "['At iteration 17 the best fitness is 81.82377622377622']\n",
      "['At iteration 18 the best fitness is 81.82377622377622']\n",
      "['At iteration 19 the best fitness is 81.82377622377622']\n",
      "['At iteration 20 the best fitness is 81.82377622377622']\n",
      "{'real': array([  507.33561943, 63074.44932796]), 'discrete': array([1, 1, 1, 1, 1, 0, 1, 0, 0, 0, 0, 1, 0, 0, 1, 0, 0, 1, 0, 1, 1, 0])}\n",
      "[[844   0]\n",
      " [  0 781]]\n",
      "Test accuracy:  100.0  - Fitness:  60.0\n",
      "GSA is optimizing  \"get_fitness\"\n",
      "['At iteration 1 the best fitness is 67.27272727272727']\n"
     ]
    },
    {
     "name": "stderr",
     "output_type": "stream",
     "text": [
      "/Users/uclm/PycharmProjects/GSA_M/venv/lib/python3.9/site-packages/numpy/core/fromnumeric.py:59: FutureWarning: 'DataFrame.swapaxes' is deprecated and will be removed in a future version. Please use 'DataFrame.transpose' instead.\n",
      "  return bound(*args, **kwds)\n"
     ]
    },
    {
     "name": "stdout",
     "output_type": "stream",
     "text": [
      "['At iteration 2 the best fitness is 74.3916083916084']\n",
      "['At iteration 3 the best fitness is 74.3916083916084']\n",
      "['At iteration 4 the best fitness is 74.3916083916084']\n",
      "['At iteration 5 the best fitness is 74.3916083916084']\n",
      "['At iteration 6 the best fitness is 74.3916083916084']\n",
      "['At iteration 7 the best fitness is 78.1048951048951']\n",
      "['At iteration 8 the best fitness is 78.1048951048951']\n",
      "['At iteration 9 the best fitness is 78.1048951048951']\n",
      "['At iteration 10 the best fitness is 78.1048951048951']\n",
      "['At iteration 11 the best fitness is 78.1048951048951']\n",
      "['At iteration 12 the best fitness is 78.1048951048951']\n",
      "['At iteration 13 the best fitness is 78.1048951048951']\n",
      "['At iteration 14 the best fitness is 78.1048951048951']\n",
      "['At iteration 15 the best fitness is 78.1048951048951']\n",
      "['At iteration 16 the best fitness is 78.1048951048951']\n",
      "['At iteration 17 the best fitness is 78.1048951048951']\n",
      "['At iteration 18 the best fitness is 78.1048951048951']\n",
      "['At iteration 19 the best fitness is 78.1048951048951']\n",
      "['At iteration 20 the best fitness is 78.1048951048951']\n",
      "{'real': array([99718.30540638, 68484.98418405]), 'discrete': array([1, 1, 0, 1, 0, 0, 0, 1, 1, 1, 1, 1, 0, 0, 1, 0, 1, 1, 0, 1, 0, 1])}\n",
      "[[796   0]\n",
      " [  0 829]]\n",
      "Test accuracy:  100.0  - Fitness:  52.72727272727273\n",
      "GSA is optimizing  \"get_fitness\"\n"
     ]
    },
    {
     "name": "stderr",
     "output_type": "stream",
     "text": [
      "/Users/uclm/PycharmProjects/GSA_M/venv/lib/python3.9/site-packages/numpy/core/fromnumeric.py:59: FutureWarning: 'DataFrame.swapaxes' is deprecated and will be removed in a future version. Please use 'DataFrame.transpose' instead.\n",
      "  return bound(*args, **kwds)\n"
     ]
    },
    {
     "name": "stdout",
     "output_type": "stream",
     "text": [
      "['At iteration 1 the best fitness is 63.54405594405594']\n",
      "['At iteration 2 the best fitness is 74.13006993006994']\n",
      "['At iteration 3 the best fitness is 74.13006993006994']\n",
      "['At iteration 4 the best fitness is 76.61258741258742']\n",
      "['At iteration 5 the best fitness is 76.61258741258742']\n",
      "['At iteration 6 the best fitness is 76.61258741258742']\n",
      "['At iteration 7 the best fitness is 76.61258741258742']\n",
      "['At iteration 8 the best fitness is 76.61258741258742']\n",
      "['At iteration 9 the best fitness is 76.61258741258742']\n",
      "['At iteration 10 the best fitness is 76.61258741258742']\n",
      "['At iteration 11 the best fitness is 76.61258741258742']\n",
      "['At iteration 12 the best fitness is 76.61258741258742']\n",
      "['At iteration 13 the best fitness is 76.61258741258742']\n",
      "['At iteration 14 the best fitness is 77.85874125874126']\n",
      "['At iteration 15 the best fitness is 77.85874125874126']\n",
      "['At iteration 16 the best fitness is 77.85874125874126']\n",
      "['At iteration 17 the best fitness is 77.85874125874126']\n",
      "['At iteration 18 the best fitness is 77.85874125874126']\n",
      "['At iteration 19 the best fitness is 77.85874125874126']\n",
      "['At iteration 20 the best fitness is 77.85874125874126']\n",
      "{'real': array([83999.45835053, 50522.66277472]), 'discrete': array([1, 0, 1, 0, 0, 0, 0, 1, 0, 0, 0, 1, 1, 0, 1, 0, 0, 0, 0, 1, 1, 1])}\n",
      "[[849   1]\n",
      " [  2 773]]\n",
      "Test accuracy:  99.81538461538462  - Fitness:  67.23580419580419\n",
      "GSA is optimizing  \"get_fitness\"\n"
     ]
    },
    {
     "name": "stderr",
     "output_type": "stream",
     "text": [
      "/Users/uclm/PycharmProjects/GSA_M/venv/lib/python3.9/site-packages/numpy/core/fromnumeric.py:59: FutureWarning: 'DataFrame.swapaxes' is deprecated and will be removed in a future version. Please use 'DataFrame.transpose' instead.\n",
      "  return bound(*args, **kwds)\n"
     ]
    },
    {
     "name": "stdout",
     "output_type": "stream",
     "text": [
      "['At iteration 1 the best fitness is 60.0']\n",
      "['At iteration 2 the best fitness is 63.63636363636363']\n",
      "['At iteration 3 the best fitness is 63.63636363636363']\n",
      "['At iteration 4 the best fitness is 63.63636363636363']\n",
      "['At iteration 5 the best fitness is 63.63636363636363']\n",
      "['At iteration 6 the best fitness is 67.22653789628384']\n",
      "['At iteration 7 the best fitness is 67.22653789628384']\n",
      "['At iteration 8 the best fitness is 67.22653789628384']\n",
      "['At iteration 9 the best fitness is 67.27272727272727']\n",
      "['At iteration 10 the best fitness is 67.27272727272727']\n",
      "['At iteration 11 the best fitness is 67.27272727272727']\n",
      "['At iteration 12 the best fitness is 70.9090909090909']\n",
      "['At iteration 13 the best fitness is 77.55104895104895']\n",
      "['At iteration 14 the best fitness is 77.55104895104895']\n",
      "['At iteration 15 the best fitness is 77.55104895104895']\n",
      "['At iteration 16 the best fitness is 77.55104895104895']\n",
      "['At iteration 17 the best fitness is 77.55104895104895']\n",
      "['At iteration 18 the best fitness is 77.55104895104895']\n",
      "['At iteration 19 the best fitness is 77.55104895104895']\n",
      "['At iteration 20 the best fitness is 77.55104895104895']\n",
      "{'real': array([18690.92476114, 78781.40069928]), 'discrete': array([0, 0, 1, 1, 0, 0, 0, 1, 1, 0, 0, 0, 1, 0, 1, 0, 1, 0, 1, 0, 1, 1])}\n",
      "[[828   0]\n",
      " [  0 797]]\n",
      "Test accuracy:  100.0  - Fitness:  63.63636363636363\n"
     ]
    },
    {
     "name": "stderr",
     "output_type": "stream",
     "text": [
      "/Users/uclm/PycharmProjects/GSA_M/venv/lib/python3.9/site-packages/numpy/core/fromnumeric.py:59: FutureWarning: 'DataFrame.swapaxes' is deprecated and will be removed in a future version. Please use 'DataFrame.transpose' instead.\n",
      "  return bound(*args, **kwds)\n"
     ]
    },
    {
     "name": "stdout",
     "output_type": "stream",
     "text": [
      "GSA is optimizing  \"get_fitness\"\n",
      "['At iteration 1 the best fitness is 70.9090909090909']\n",
      "['At iteration 2 the best fitness is 70.9090909090909']\n",
      "['At iteration 3 the best fitness is 70.9090909090909']\n",
      "['At iteration 4 the best fitness is 70.9090909090909']\n",
      "['At iteration 5 the best fitness is 70.9090909090909']\n",
      "['At iteration 6 the best fitness is 74.20699300699302']\n",
      "['At iteration 7 the best fitness is 80.97202797202797']\n",
      "['At iteration 8 the best fitness is 80.97202797202797']\n",
      "['At iteration 9 the best fitness is 80.97202797202797']\n",
      "['At iteration 10 the best fitness is 80.97202797202797']\n",
      "['At iteration 11 the best fitness is 87.44475524475524']\n",
      "['At iteration 12 the best fitness is 87.44475524475524']\n",
      "['At iteration 13 the best fitness is 87.44475524475524']\n",
      "['At iteration 14 the best fitness is 87.44475524475524']\n",
      "['At iteration 15 the best fitness is 87.44475524475524']\n",
      "['At iteration 16 the best fitness is 87.44475524475524']\n",
      "['At iteration 17 the best fitness is 87.44475524475524']\n",
      "['At iteration 18 the best fitness is 87.44475524475524']\n",
      "['At iteration 19 the best fitness is 87.44475524475524']\n",
      "['At iteration 20 the best fitness is 87.44475524475524']\n",
      "{'real': array([40029.47433169, 58282.54251767]), 'discrete': array([0, 0, 0, 0, 0, 0, 1, 0, 0, 0, 0, 0, 1, 1, 0, 0, 1, 0, 1, 1, 0, 0])}\n",
      "[[835  20]\n",
      " [ 78 692]]\n",
      "Test accuracy:  93.96923076923078  - Fitness:  76.97566433566435\n",
      "GSA is optimizing  \"get_fitness\"\n"
     ]
    },
    {
     "name": "stderr",
     "output_type": "stream",
     "text": [
      "/Users/uclm/PycharmProjects/GSA_M/venv/lib/python3.9/site-packages/numpy/core/fromnumeric.py:59: FutureWarning: 'DataFrame.swapaxes' is deprecated and will be removed in a future version. Please use 'DataFrame.transpose' instead.\n",
      "  return bound(*args, **kwds)\n"
     ]
    },
    {
     "name": "stdout",
     "output_type": "stream",
     "text": [
      "['At iteration 1 the best fitness is 70.87829799146196']\n",
      "['At iteration 2 the best fitness is 74.51468531468532']\n",
      "['At iteration 3 the best fitness is 74.51468531468532']\n",
      "['At iteration 4 the best fitness is 74.51468531468532']\n",
      "['At iteration 5 the best fitness is 74.51468531468532']\n",
      "['At iteration 6 the best fitness is 74.51468531468532']\n",
      "['At iteration 7 the best fitness is 74.51468531468532']\n",
      "['At iteration 8 the best fitness is 77.42797202797203']\n",
      "['At iteration 9 the best fitness is 77.42797202797203']\n",
      "['At iteration 10 the best fitness is 77.42797202797203']\n",
      "['At iteration 11 the best fitness is 77.42797202797203']\n",
      "['At iteration 12 the best fitness is 77.42797202797203']\n",
      "['At iteration 13 the best fitness is 77.42797202797203']\n",
      "['At iteration 14 the best fitness is 77.42797202797203']\n",
      "['At iteration 15 the best fitness is 77.70489510489512']\n",
      "['At iteration 16 the best fitness is 77.70489510489512']\n",
      "['At iteration 17 the best fitness is 77.70489510489512']\n",
      "['At iteration 18 the best fitness is 77.70489510489512']\n",
      "['At iteration 19 the best fitness is 78.95444047868989']\n",
      "['At iteration 20 the best fitness is 78.95444047868989']\n",
      "{'real': array([39180.2759099 , 76734.40769061]), 'discrete': array([0, 0, 1, 0, 0, 0, 0, 1, 0, 0, 1, 0, 1, 1, 0, 0, 1, 1, 0, 1, 1, 0])}\n",
      "[[846   2]\n",
      " [  6 771]]\n",
      "Test accuracy:  99.50769230769231  - Fitness:  67.17426573426573\n",
      "GSA is optimizing  \"get_fitness\"\n"
     ]
    },
    {
     "name": "stderr",
     "output_type": "stream",
     "text": [
      "/Users/uclm/PycharmProjects/GSA_M/venv/lib/python3.9/site-packages/numpy/core/fromnumeric.py:59: FutureWarning: 'DataFrame.swapaxes' is deprecated and will be removed in a future version. Please use 'DataFrame.transpose' instead.\n",
      "  return bound(*args, **kwds)\n"
     ]
    },
    {
     "name": "stdout",
     "output_type": "stream",
     "text": [
      "['At iteration 1 the best fitness is 74.20673245153615']\n",
      "['At iteration 2 the best fitness is 74.20673245153615']\n",
      "['At iteration 3 the best fitness is 77.67373504094058']\n",
      "['At iteration 4 the best fitness is 77.67373504094058']\n",
      "['At iteration 5 the best fitness is 77.67373504094058']\n",
      "['At iteration 6 the best fitness is 77.67373504094058']\n",
      "['At iteration 7 the best fitness is 77.67373504094058']\n",
      "['At iteration 8 the best fitness is 77.8895104895105']\n",
      "['At iteration 9 the best fitness is 77.8895104895105']\n",
      "['At iteration 10 the best fitness is 77.8895104895105']\n",
      "['At iteration 11 the best fitness is 77.8895104895105']\n",
      "['At iteration 12 the best fitness is 77.8895104895105']\n",
      "['At iteration 13 the best fitness is 77.8895104895105']\n",
      "['At iteration 14 the best fitness is 77.8895104895105']\n",
      "['At iteration 15 the best fitness is 77.8895104895105']\n",
      "['At iteration 16 the best fitness is 77.8895104895105']\n",
      "['At iteration 17 the best fitness is 77.8895104895105']\n",
      "['At iteration 18 the best fitness is 78.15104895104896']\n",
      "['At iteration 19 the best fitness is 78.15104895104896']\n",
      "['At iteration 20 the best fitness is 78.15104895104896']\n",
      "{'real': array([22952.25849165, 90852.24090797]), 'discrete': array([1, 1, 0, 0, 1, 0, 1, 1, 1, 0, 0, 0, 1, 0, 0, 0, 1, 1, 0, 0, 1, 1])}\n",
      "[[843   0]\n",
      " [  0 782]]\n",
      "Test accuracy:  100.0  - Fitness:  60.0\n",
      "GSA is optimizing  \"get_fitness\"\n"
     ]
    },
    {
     "name": "stderr",
     "output_type": "stream",
     "text": [
      "/Users/uclm/PycharmProjects/GSA_M/venv/lib/python3.9/site-packages/numpy/core/fromnumeric.py:59: FutureWarning: 'DataFrame.swapaxes' is deprecated and will be removed in a future version. Please use 'DataFrame.transpose' instead.\n",
      "  return bound(*args, **kwds)\n"
     ]
    },
    {
     "name": "stdout",
     "output_type": "stream",
     "text": [
      "['At iteration 1 the best fitness is 67.27272727272727']\n",
      "['At iteration 2 the best fitness is 67.27272727272727']\n",
      "['At iteration 3 the best fitness is 67.27272727272727']\n",
      "['At iteration 4 the best fitness is 67.27272727272727']\n",
      "['At iteration 5 the best fitness is 67.27272727272727']\n",
      "['At iteration 6 the best fitness is 67.27272727272727']\n",
      "['At iteration 7 the best fitness is 67.27272727272727']\n",
      "['At iteration 8 the best fitness is 67.27272727272727']\n",
      "['At iteration 9 the best fitness is 67.27272727272727']\n",
      "['At iteration 10 the best fitness is 67.27272727272727']\n",
      "['At iteration 11 the best fitness is 67.27272727272727']\n",
      "['At iteration 12 the best fitness is 67.27272727272727']\n",
      "['At iteration 13 the best fitness is 67.27272727272727']\n",
      "['At iteration 14 the best fitness is 70.9090909090909']\n",
      "['At iteration 15 the best fitness is 70.9090909090909']\n",
      "['At iteration 16 the best fitness is 70.9090909090909']\n",
      "['At iteration 17 the best fitness is 70.9090909090909']\n",
      "['At iteration 18 the best fitness is 70.9090909090909']\n",
      "['At iteration 19 the best fitness is 70.9090909090909']\n",
      "['At iteration 20 the best fitness is 70.9090909090909']\n",
      "{'real': array([ 6707.44618588, 30905.82734788]), 'discrete': array([0, 1, 1, 0, 1, 1, 0, 1, 1, 0, 0, 0, 0, 1, 1, 0, 1, 1, 1, 1, 1, 1])}\n",
      "[[828   0]\n",
      " [  0 797]]\n",
      "Test accuracy:  100.0  - Fitness:  49.09090909090909\n",
      "GSA is optimizing  \"get_fitness\"\n",
      "['At iteration 1 the best fitness is 66.62657342657343']\n"
     ]
    },
    {
     "name": "stderr",
     "output_type": "stream",
     "text": [
      "/Users/uclm/PycharmProjects/GSA_M/venv/lib/python3.9/site-packages/numpy/core/fromnumeric.py:59: FutureWarning: 'DataFrame.swapaxes' is deprecated and will be removed in a future version. Please use 'DataFrame.transpose' instead.\n",
      "  return bound(*args, **kwds)\n"
     ]
    },
    {
     "name": "stdout",
     "output_type": "stream",
     "text": [
      "['At iteration 2 the best fitness is 74.22212891035062']\n",
      "['At iteration 3 the best fitness is 74.22212891035062']\n",
      "['At iteration 4 the best fitness is 74.22212891035062']\n",
      "['At iteration 5 the best fitness is 81.67972027972027']\n",
      "['At iteration 6 the best fitness is 81.67972027972027']\n",
      "['At iteration 7 the best fitness is 84.1006993006993']\n",
      "['At iteration 8 the best fitness is 84.1006993006993']\n",
      "['At iteration 9 the best fitness is 84.1006993006993']\n",
      "['At iteration 10 the best fitness is 84.1006993006993']\n",
      "['At iteration 11 the best fitness is 84.1006993006993']\n",
      "['At iteration 12 the best fitness is 84.1006993006993']\n",
      "['At iteration 13 the best fitness is 84.1006993006993']\n",
      "['At iteration 14 the best fitness is 84.1006993006993']\n",
      "['At iteration 15 the best fitness is 84.1006993006993']\n",
      "['At iteration 16 the best fitness is 84.1006993006993']\n",
      "['At iteration 17 the best fitness is 84.1006993006993']\n",
      "['At iteration 18 the best fitness is 84.1006993006993']\n",
      "['At iteration 19 the best fitness is 84.1006993006993']\n",
      "['At iteration 20 the best fitness is 84.1006993006993']\n",
      "{'real': array([87916.86754779, 45236.6176601 ]), 'discrete': array([0, 1, 0, 1, 1, 0, 0, 0, 0, 1, 0, 0, 0, 0, 1, 1, 0, 1, 1, 1, 1, 0])}\n",
      "[[858   0]\n",
      " [  2 765]]\n",
      "Test accuracy:  99.87692307692308  - Fitness:  63.61174825174825\n",
      "Running GSA with wa = 0.30000000000000004, wf = 0.7\n",
      "GSA is optimizing  \"get_fitness\"\n",
      "['At iteration 1 the best fitness is 74.45314685314685']\n"
     ]
    },
    {
     "name": "stderr",
     "output_type": "stream",
     "text": [
      "/Users/uclm/PycharmProjects/GSA_M/venv/lib/python3.9/site-packages/numpy/core/fromnumeric.py:59: FutureWarning: 'DataFrame.swapaxes' is deprecated and will be removed in a future version. Please use 'DataFrame.transpose' instead.\n",
      "  return bound(*args, **kwds)\n"
     ]
    },
    {
     "name": "stdout",
     "output_type": "stream",
     "text": [
      "['At iteration 2 the best fitness is 74.54545454545455']\n",
      "['At iteration 3 the best fitness is 74.54545454545455']\n",
      "['At iteration 4 the best fitness is 74.54545454545455']\n",
      "['At iteration 5 the best fitness is 83.9986013986014']\n",
      "['At iteration 6 the best fitness is 83.9986013986014']\n",
      "['At iteration 7 the best fitness is 86.32657342657342']\n",
      "['At iteration 8 the best fitness is 86.32657342657342']\n",
      "['At iteration 9 the best fitness is 90.33916083916083']\n",
      "['At iteration 10 the best fitness is 90.33916083916083']\n",
      "['At iteration 11 the best fitness is 90.33916083916083']\n",
      "['At iteration 12 the best fitness is 90.33916083916083']\n",
      "['At iteration 13 the best fitness is 90.33916083916083']\n",
      "['At iteration 14 the best fitness is 90.33916083916083']\n",
      "['At iteration 15 the best fitness is 90.33916083916083']\n",
      "['At iteration 16 the best fitness is 90.33916083916083']\n",
      "['At iteration 17 the best fitness is 90.33916083916083']\n",
      "['At iteration 18 the best fitness is 90.33916083916083']\n",
      "['At iteration 19 the best fitness is 90.33916083916083']\n",
      "['At iteration 20 the best fitness is 90.33916083916083']\n",
      "{'real': array([10781.03874884, 92780.9199832 ]), 'discrete': array([1, 1, 1, 0, 1, 0, 1, 1, 0, 0, 0, 1, 0, 1, 0, 0, 0, 0, 1, 0, 0, 0])}\n",
      "[[856   0]\n",
      " [  0 769]]\n",
      "Test accuracy:  100.0  - Fitness:  71.36363636363636\n",
      "GSA is optimizing  \"get_fitness\"\n"
     ]
    },
    {
     "name": "stderr",
     "output_type": "stream",
     "text": [
      "/Users/uclm/PycharmProjects/GSA_M/venv/lib/python3.9/site-packages/numpy/core/fromnumeric.py:59: FutureWarning: 'DataFrame.swapaxes' is deprecated and will be removed in a future version. Please use 'DataFrame.transpose' instead.\n",
      "  return bound(*args, **kwds)\n"
     ]
    },
    {
     "name": "stdout",
     "output_type": "stream",
     "text": [
      "['At iteration 1 the best fitness is 68.13566433566433']\n",
      "['At iteration 2 the best fitness is 78.99223178668908']\n",
      "['At iteration 3 the best fitness is 78.99223178668908']\n",
      "['At iteration 4 the best fitness is 78.99223178668908']\n",
      "['At iteration 5 the best fitness is 78.99223178668908']\n",
      "['At iteration 6 the best fitness is 78.99223178668908']\n",
      "['At iteration 7 the best fitness is 80.53986013986014']\n",
      "['At iteration 8 the best fitness is 80.53986013986014']\n",
      "['At iteration 9 the best fitness is 83.56013986013986']\n",
      "['At iteration 10 the best fitness is 83.56013986013986']\n",
      "['At iteration 11 the best fitness is 83.56013986013986']\n",
      "['At iteration 12 the best fitness is 83.56013986013986']\n",
      "['At iteration 13 the best fitness is 83.56013986013986']\n",
      "['At iteration 14 the best fitness is 83.56013986013986']\n",
      "['At iteration 15 the best fitness is 83.56013986013986']\n",
      "['At iteration 16 the best fitness is 83.56013986013986']\n",
      "['At iteration 17 the best fitness is 83.56013986013986']\n",
      "['At iteration 18 the best fitness is 83.56013986013986']\n",
      "['At iteration 19 the best fitness is 83.56013986013986']\n",
      "['At iteration 20 the best fitness is 83.56013986013986']\n",
      "{'real': array([44374.27578047, 85280.64481771]), 'discrete': array([1, 1, 1, 1, 1, 0, 0, 0, 0, 0, 1, 1, 0, 0, 0, 0, 0, 1, 0, 1, 1, 0])}\n",
      "[[867   0]\n",
      " [  0 758]]\n",
      "Test accuracy:  100.0  - Fitness:  68.18181818181817\n",
      "GSA is optimizing  \"get_fitness\"\n"
     ]
    },
    {
     "name": "stderr",
     "output_type": "stream",
     "text": [
      "/Users/uclm/PycharmProjects/GSA_M/venv/lib/python3.9/site-packages/numpy/core/fromnumeric.py:59: FutureWarning: 'DataFrame.swapaxes' is deprecated and will be removed in a future version. Please use 'DataFrame.transpose' instead.\n",
      "  return bound(*args, **kwds)\n"
     ]
    },
    {
     "name": "stdout",
     "output_type": "stream",
     "text": [
      "['At iteration 1 the best fitness is 71.36363636363636']\n",
      "['At iteration 2 the best fitness is 74.54545454545455']\n",
      "['At iteration 3 the best fitness is 74.54545454545455']\n",
      "['At iteration 4 the best fitness is 74.54545454545455']\n",
      "['At iteration 5 the best fitness is 77.68111888111889']\n",
      "['At iteration 6 the best fitness is 77.68111888111889']\n",
      "['At iteration 7 the best fitness is 77.68111888111889']\n",
      "['At iteration 8 the best fitness is 77.68111888111889']\n",
      "['At iteration 9 the best fitness is 77.68111888111889']\n",
      "['At iteration 10 the best fitness is 77.68111888111889']\n",
      "['At iteration 11 the best fitness is 77.68111888111889']\n",
      "['At iteration 12 the best fitness is 77.68111888111889']\n",
      "['At iteration 13 the best fitness is 77.68111888111889']\n",
      "['At iteration 14 the best fitness is 77.68111888111889']\n",
      "['At iteration 15 the best fitness is 77.68111888111889']\n",
      "['At iteration 16 the best fitness is 77.68111888111889']\n",
      "['At iteration 17 the best fitness is 77.68111888111889']\n",
      "['At iteration 18 the best fitness is 77.68111888111889']\n",
      "['At iteration 19 the best fitness is 77.68111888111889']\n",
      "['At iteration 20 the best fitness is 77.68111888111889']\n",
      "{'real': array([59437.94165574,  3903.86553034]), 'discrete': array([1, 0, 0, 1, 0, 0, 0, 0, 1, 1, 0, 0, 1, 1, 0, 1, 0, 1, 0, 1, 0, 0])}\n",
      "[[834   9]\n",
      " [ 16 766]]\n",
      "Test accuracy:  98.46153846153847  - Fitness:  70.90209790209789\n",
      "GSA is optimizing  \"get_fitness\"\n",
      "['At iteration 1 the best fitness is 71.36363636363636']\n"
     ]
    },
    {
     "name": "stderr",
     "output_type": "stream",
     "text": [
      "/Users/uclm/PycharmProjects/GSA_M/venv/lib/python3.9/site-packages/numpy/core/fromnumeric.py:59: FutureWarning: 'DataFrame.swapaxes' is deprecated and will be removed in a future version. Please use 'DataFrame.transpose' instead.\n",
      "  return bound(*args, **kwds)\n"
     ]
    },
    {
     "name": "stdout",
     "output_type": "stream",
     "text": [
      "['At iteration 2 the best fitness is 76.01958041958042']\n",
      "['At iteration 3 the best fitness is 78.71678321678323']\n",
      "['At iteration 4 the best fitness is 78.71678321678323']\n",
      "['At iteration 5 the best fitness is 82.63706293706294']\n",
      "['At iteration 6 the best fitness is 82.63706293706294']\n",
      "['At iteration 7 the best fitness is 82.63706293706294']\n",
      "['At iteration 8 the best fitness is 82.63706293706294']\n",
      "['At iteration 9 the best fitness is 82.63706293706294']\n",
      "['At iteration 10 the best fitness is 82.63706293706294']\n",
      "['At iteration 11 the best fitness is 82.63706293706294']\n",
      "['At iteration 12 the best fitness is 82.63706293706294']\n",
      "['At iteration 13 the best fitness is 82.63706293706294']\n",
      "['At iteration 14 the best fitness is 82.63706293706294']\n",
      "['At iteration 15 the best fitness is 82.63706293706294']\n",
      "['At iteration 16 the best fitness is 83.76783216783217']\n",
      "['At iteration 17 the best fitness is 83.76783216783217']\n",
      "['At iteration 18 the best fitness is 83.76783216783217']\n",
      "['At iteration 19 the best fitness is 83.76783216783217']\n",
      "['At iteration 20 the best fitness is 83.76783216783217']\n",
      "{'real': array([67784.19572734, 44852.58954135]), 'discrete': array([0, 0, 1, 0, 0, 1, 1, 0, 0, 1, 1, 1, 1, 0, 0, 0, 1, 1, 1, 0, 0, 0])}\n",
      "[[810  10]\n",
      " [  8 797]]\n",
      "Test accuracy:  98.8923076923077  - Fitness:  67.8495104895105\n",
      "GSA is optimizing  \"get_fitness\"\n"
     ]
    },
    {
     "name": "stderr",
     "output_type": "stream",
     "text": [
      "/Users/uclm/PycharmProjects/GSA_M/venv/lib/python3.9/site-packages/numpy/core/fromnumeric.py:59: FutureWarning: 'DataFrame.swapaxes' is deprecated and will be removed in a future version. Please use 'DataFrame.transpose' instead.\n",
      "  return bound(*args, **kwds)\n"
     ]
    },
    {
     "name": "stdout",
     "output_type": "stream",
     "text": [
      "['At iteration 1 the best fitness is 67.67373504094058']\n",
      "['At iteration 2 the best fitness is 74.54545454545455']\n",
      "['At iteration 3 the best fitness is 74.54545454545455']\n",
      "['At iteration 4 the best fitness is 74.54545454545455']\n",
      "['At iteration 5 the best fitness is 77.4965034965035']\n",
      "['At iteration 6 the best fitness is 77.4965034965035']\n",
      "['At iteration 7 the best fitness is 77.4965034965035']\n",
      "['At iteration 8 the best fitness is 77.4965034965035']\n",
      "['At iteration 9 the best fitness is 77.4965034965035']\n",
      "['At iteration 10 the best fitness is 77.4965034965035']\n",
      "['At iteration 11 the best fitness is 77.4965034965035']\n",
      "['At iteration 12 the best fitness is 77.4965034965035']\n",
      "['At iteration 13 the best fitness is 77.72727272727273']\n",
      "['At iteration 14 the best fitness is 77.72727272727273']\n",
      "['At iteration 15 the best fitness is 80.0986013986014']\n",
      "['At iteration 16 the best fitness is 80.0986013986014']\n",
      "['At iteration 17 the best fitness is 82.75244755244755']\n",
      "['At iteration 18 the best fitness is 82.75244755244755']\n",
      "['At iteration 19 the best fitness is 82.75244755244755']\n",
      "['At iteration 20 the best fitness is 86.39580419580419']\n",
      "{'real': array([61198.55031079, 74819.41822611]), 'discrete': array([1, 1, 1, 1, 0, 0, 0, 1, 0, 0, 1, 0, 1, 0, 1, 0, 0, 0, 0, 1, 0, 0])}\n",
      "[[850   0]\n",
      " [  0 775]]\n",
      "Test accuracy:  100.0  - Fitness:  71.36363636363636\n",
      "GSA is optimizing  \"get_fitness\"\n"
     ]
    },
    {
     "name": "stderr",
     "output_type": "stream",
     "text": [
      "/Users/uclm/PycharmProjects/GSA_M/venv/lib/python3.9/site-packages/numpy/core/fromnumeric.py:59: FutureWarning: 'DataFrame.swapaxes' is deprecated and will be removed in a future version. Please use 'DataFrame.transpose' instead.\n",
      "  return bound(*args, **kwds)\n"
     ]
    },
    {
     "name": "stdout",
     "output_type": "stream",
     "text": [
      "['At iteration 1 the best fitness is 71.36363636363636']\n",
      "['At iteration 2 the best fitness is 77.4039470921688']\n",
      "['At iteration 3 the best fitness is 77.4039470921688']\n",
      "['At iteration 4 the best fitness is 77.4039470921688']\n",
      "['At iteration 5 the best fitness is 77.4039470921688']\n",
      "['At iteration 6 the best fitness is 77.42727272727274']\n",
      "['At iteration 7 the best fitness is 77.42727272727274']\n",
      "['At iteration 8 the best fitness is 77.42727272727274']\n",
      "['At iteration 9 the best fitness is 77.42727272727274']\n",
      "['At iteration 10 the best fitness is 77.42727272727274']\n",
      "['At iteration 11 the best fitness is 77.42727272727274']\n",
      "['At iteration 12 the best fitness is 77.42727272727274']\n",
      "['At iteration 13 the best fitness is 77.42727272727274']\n",
      "['At iteration 14 the best fitness is 77.42727272727274']\n",
      "['At iteration 15 the best fitness is 77.42727272727274']\n",
      "['At iteration 16 the best fitness is 77.42727272727274']\n",
      "['At iteration 17 the best fitness is 80.37791307999161']\n",
      "['At iteration 18 the best fitness is 80.37791307999161']\n",
      "['At iteration 19 the best fitness is 80.37791307999161']\n",
      "['At iteration 20 the best fitness is 83.26013986013986']\n",
      "{'real': array([69952.35630814, 65556.01586046]), 'discrete': array([0, 0, 0, 1, 0, 1, 0, 0, 1, 0, 1, 0, 0, 0, 1, 0, 1, 0, 1, 0, 0, 1])}\n",
      "[[847   0]\n",
      " [  0 778]]\n",
      "Test accuracy:  100.0  - Fitness:  74.54545454545455\n",
      "GSA is optimizing  \"get_fitness\"\n",
      "['At iteration 1 the best fitness is 76.22727272727273']\n"
     ]
    },
    {
     "name": "stderr",
     "output_type": "stream",
     "text": [
      "/Users/uclm/PycharmProjects/GSA_M/venv/lib/python3.9/site-packages/numpy/core/fromnumeric.py:59: FutureWarning: 'DataFrame.swapaxes' is deprecated and will be removed in a future version. Please use 'DataFrame.transpose' instead.\n",
      "  return bound(*args, **kwds)\n"
     ]
    },
    {
     "name": "stdout",
     "output_type": "stream",
     "text": [
      "['At iteration 2 the best fitness is 76.22727272727273']\n",
      "['At iteration 3 the best fitness is 77.54265734265735']\n",
      "['At iteration 4 the best fitness is 77.54265734265735']\n",
      "['At iteration 5 the best fitness is 77.54265734265735']\n",
      "['At iteration 6 the best fitness is 77.54265734265735']\n",
      "['At iteration 7 the best fitness is 77.54265734265735']\n",
      "['At iteration 8 the best fitness is 79.73216783216785']\n",
      "['At iteration 9 the best fitness is 79.73216783216785']\n",
      "['At iteration 10 the best fitness is 79.73216783216785']\n",
      "['At iteration 11 the best fitness is 79.73216783216785']\n",
      "['At iteration 12 the best fitness is 79.73216783216785']\n",
      "['At iteration 13 the best fitness is 79.73216783216785']\n",
      "['At iteration 14 the best fitness is 79.73216783216785']\n",
      "['At iteration 15 the best fitness is 79.73216783216785']\n",
      "['At iteration 16 the best fitness is 79.73216783216785']\n",
      "['At iteration 17 the best fitness is 81.57358807474282']\n",
      "['At iteration 18 the best fitness is 83.3986013986014']\n",
      "['At iteration 19 the best fitness is 83.3986013986014']\n",
      "['At iteration 20 the best fitness is 83.3986013986014']\n",
      "{'real': array([  875.19913707, 47564.15059058]), 'discrete': array([1, 1, 0, 1, 0, 0, 1, 0, 0, 1, 0, 0, 0, 1, 1, 0, 1, 0, 0, 0, 0, 1])}\n",
      "[[829   2]\n",
      " [ 25 769]]\n",
      "Test accuracy:  98.33846153846154  - Fitness:  70.86517482517482\n",
      "GSA is optimizing  \"get_fitness\"\n"
     ]
    },
    {
     "name": "stderr",
     "output_type": "stream",
     "text": [
      "/Users/uclm/PycharmProjects/GSA_M/venv/lib/python3.9/site-packages/numpy/core/fromnumeric.py:59: FutureWarning: 'DataFrame.swapaxes' is deprecated and will be removed in a future version. Please use 'DataFrame.transpose' instead.\n",
      "  return bound(*args, **kwds)\n"
     ]
    },
    {
     "name": "stdout",
     "output_type": "stream",
     "text": [
      "['At iteration 1 the best fitness is 74.52237762237762']\n",
      "['At iteration 2 the best fitness is 77.51958041958042']\n",
      "['At iteration 3 the best fitness is 77.51958041958042']\n",
      "['At iteration 4 the best fitness is 77.51958041958042']\n",
      "['At iteration 5 the best fitness is 77.51958041958042']\n",
      "['At iteration 6 the best fitness is 77.58881118881119']\n",
      "['At iteration 7 the best fitness is 77.58881118881119']\n",
      "['At iteration 8 the best fitness is 77.58881118881119']\n",
      "['At iteration 9 the best fitness is 77.58881118881119']\n",
      "['At iteration 10 the best fitness is 77.68111888111889']\n",
      "['At iteration 11 the best fitness is 80.03216783216783']\n",
      "['At iteration 12 the best fitness is 80.03216783216783']\n",
      "['At iteration 13 the best fitness is 80.03216783216783']\n",
      "['At iteration 14 the best fitness is 80.03216783216783']\n",
      "['At iteration 15 the best fitness is 80.03216783216783']\n",
      "['At iteration 16 the best fitness is 80.03216783216783']\n",
      "['At iteration 17 the best fitness is 80.03216783216783']\n",
      "['At iteration 18 the best fitness is 80.03216783216783']\n",
      "['At iteration 19 the best fitness is 80.03216783216783']\n",
      "['At iteration 20 the best fitness is 80.63216783216784']\n",
      "{'real': array([76898.4788555, 24013.5042925]), 'discrete': array([0, 1, 1, 1, 1, 0, 1, 0, 1, 1, 1, 0, 0, 1, 0, 1, 0, 0, 0, 0, 0, 0])}\n",
      "[[870   0]\n",
      " [  0 755]]\n",
      "Test accuracy:  100.0  - Fitness:  68.18181818181817\n",
      "GSA is optimizing  \"get_fitness\"\n"
     ]
    },
    {
     "name": "stderr",
     "output_type": "stream",
     "text": [
      "/Users/uclm/PycharmProjects/GSA_M/venv/lib/python3.9/site-packages/numpy/core/fromnumeric.py:59: FutureWarning: 'DataFrame.swapaxes' is deprecated and will be removed in a future version. Please use 'DataFrame.transpose' instead.\n",
      "  return bound(*args, **kwds)\n"
     ]
    },
    {
     "name": "stdout",
     "output_type": "stream",
     "text": [
      "['At iteration 1 the best fitness is 76.61958041958042']\n",
      "['At iteration 2 the best fitness is 77.63496503496503']\n",
      "['At iteration 3 the best fitness is 83.90629370629371']\n",
      "['At iteration 4 the best fitness is 83.90629370629371']\n",
      "['At iteration 5 the best fitness is 83.90629370629371']\n",
      "['At iteration 6 the best fitness is 83.90629370629371']\n",
      "['At iteration 7 the best fitness is 83.90629370629371']\n",
      "['At iteration 8 the best fitness is 83.90629370629371']\n",
      "['At iteration 9 the best fitness is 83.90629370629371']\n",
      "['At iteration 10 the best fitness is 83.90629370629371']\n",
      "['At iteration 11 the best fitness is 83.90629370629371']\n",
      "['At iteration 12 the best fitness is 83.90629370629371']\n",
      "['At iteration 13 the best fitness is 83.90629370629371']\n",
      "['At iteration 14 the best fitness is 83.90629370629371']\n",
      "['At iteration 15 the best fitness is 83.90629370629371']\n",
      "['At iteration 16 the best fitness is 83.90629370629371']\n",
      "['At iteration 17 the best fitness is 83.90629370629371']\n",
      "['At iteration 18 the best fitness is 83.90629370629371']\n",
      "['At iteration 19 the best fitness is 83.90629370629371']\n",
      "['At iteration 20 the best fitness is 83.90629370629371']\n",
      "{'real': array([99652.89255352, 21743.81142866]), 'discrete': array([0, 0, 0, 0, 0, 1, 0, 1, 1, 0, 0, 1, 1, 1, 0, 0, 0, 0, 0, 0, 0, 1])}\n",
      "[[828  16]\n",
      " [ 36 745]]\n",
      "Test accuracy:  96.8  - Fitness:  76.76727272727273\n",
      "GSA is optimizing  \"get_fitness\"\n"
     ]
    },
    {
     "name": "stderr",
     "output_type": "stream",
     "text": [
      "/Users/uclm/PycharmProjects/GSA_M/venv/lib/python3.9/site-packages/numpy/core/fromnumeric.py:59: FutureWarning: 'DataFrame.swapaxes' is deprecated and will be removed in a future version. Please use 'DataFrame.transpose' instead.\n",
      "  return bound(*args, **kwds)\n"
     ]
    },
    {
     "name": "stdout",
     "output_type": "stream",
     "text": [
      "['At iteration 1 the best fitness is 71.36363636363636']\n",
      "['At iteration 2 the best fitness is 77.47342657342658']\n",
      "['At iteration 3 the best fitness is 77.47342657342658']\n",
      "['At iteration 4 the best fitness is 79.52447552447553']\n",
      "['At iteration 5 the best fitness is 79.52447552447553']\n",
      "['At iteration 6 the best fitness is 79.52447552447553']\n",
      "['At iteration 7 the best fitness is 79.52447552447553']\n",
      "['At iteration 8 the best fitness is 79.52447552447553']\n",
      "['At iteration 9 the best fitness is 79.52447552447553']\n",
      "['At iteration 10 the best fitness is 79.52447552447553']\n",
      "['At iteration 11 the best fitness is 79.52447552447553']\n",
      "['At iteration 12 the best fitness is 79.52447552447553']\n",
      "['At iteration 13 the best fitness is 79.52447552447553']\n",
      "['At iteration 14 the best fitness is 79.52447552447553']\n",
      "['At iteration 15 the best fitness is 79.52447552447553']\n",
      "['At iteration 16 the best fitness is 79.52447552447553']\n",
      "['At iteration 17 the best fitness is 79.52447552447553']\n",
      "['At iteration 18 the best fitness is 79.52447552447553']\n",
      "['At iteration 19 the best fitness is 79.52447552447553']\n",
      "['At iteration 20 the best fitness is 79.52447552447553']\n",
      "{'real': array([35921.15566666, 86756.21208539]), 'discrete': array([1, 1, 0, 0, 0, 0, 1, 1, 1, 1, 0, 1, 0, 1, 0, 1, 1, 0, 0, 0, 1, 0])}\n",
      "[[861   2]\n",
      " [  3 759]]\n",
      "Test accuracy:  99.6923076923077  - Fitness:  64.90769230769232\n",
      "Running GSA with wa = 0.4, wf = 0.6\n",
      "GSA is optimizing  \"get_fitness\"\n"
     ]
    },
    {
     "name": "stderr",
     "output_type": "stream",
     "text": [
      "/Users/uclm/PycharmProjects/GSA_M/venv/lib/python3.9/site-packages/numpy/core/fromnumeric.py:59: FutureWarning: 'DataFrame.swapaxes' is deprecated and will be removed in a future version. Please use 'DataFrame.transpose' instead.\n",
      "  return bound(*args, **kwds)\n"
     ]
    },
    {
     "name": "stdout",
     "output_type": "stream",
     "text": [
      "['At iteration 1 the best fitness is 77.93566433566434']\n",
      "['At iteration 2 the best fitness is 78.08951048951049']\n",
      "['At iteration 3 the best fitness is 78.08951048951049']\n",
      "['At iteration 4 the best fitness is 78.08951048951049']\n",
      "['At iteration 5 the best fitness is 78.18181818181819']\n",
      "['At iteration 6 the best fitness is 78.18181818181819']\n",
      "['At iteration 7 the best fitness is 78.18181818181819']\n",
      "['At iteration 8 the best fitness is 80.4055944055944']\n",
      "['At iteration 9 the best fitness is 80.4055944055944']\n",
      "['At iteration 10 the best fitness is 82.12867132867133']\n",
      "['At iteration 11 the best fitness is 82.12867132867133']\n",
      "['At iteration 12 the best fitness is 82.3104895104895']\n",
      "['At iteration 13 the best fitness is 82.3104895104895']\n",
      "['At iteration 14 the best fitness is 82.3104895104895']\n",
      "['At iteration 15 the best fitness is 82.3104895104895']\n",
      "['At iteration 16 the best fitness is 82.3104895104895']\n",
      "['At iteration 17 the best fitness is 82.3104895104895']\n",
      "['At iteration 18 the best fitness is 82.3104895104895']\n",
      "['At iteration 19 the best fitness is 85.80979020979021']\n",
      "['At iteration 20 the best fitness is 85.80979020979021']\n",
      "{'real': array([33715.41107466, 52899.38803832]), 'discrete': array([0, 1, 1, 0, 0, 0, 1, 1, 1, 0, 1, 1, 1, 0, 0, 1, 0, 1, 1, 0, 0, 0])}\n",
      "[[851   3]\n",
      " [  3 768]]\n",
      "Test accuracy:  99.63076923076923  - Fitness:  69.8523076923077\n",
      "GSA is optimizing  \"get_fitness\"\n"
     ]
    },
    {
     "name": "stderr",
     "output_type": "stream",
     "text": [
      "/Users/uclm/PycharmProjects/GSA_M/venv/lib/python3.9/site-packages/numpy/core/fromnumeric.py:59: FutureWarning: 'DataFrame.swapaxes' is deprecated and will be removed in a future version. Please use 'DataFrame.transpose' instead.\n",
      "  return bound(*args, **kwds)\n"
     ]
    },
    {
     "name": "stdout",
     "output_type": "stream",
     "text": [
      "['At iteration 1 the best fitness is 75.2083916083916']\n",
      "['At iteration 2 the best fitness is 78.08951048951049']\n",
      "['At iteration 3 the best fitness is 78.08951048951049']\n",
      "['At iteration 4 the best fitness is 78.08951048951049']\n",
      "['At iteration 5 the best fitness is 78.08951048951049']\n",
      "['At iteration 6 the best fitness is 78.08951048951049']\n",
      "['At iteration 7 the best fitness is 79.15524475524475']\n",
      "['At iteration 8 the best fitness is 79.15524475524475']\n",
      "['At iteration 9 the best fitness is 79.986013986014']\n",
      "['At iteration 10 the best fitness is 79.986013986014']\n",
      "['At iteration 11 the best fitness is 79.986013986014']\n",
      "['At iteration 12 the best fitness is 79.986013986014']\n",
      "['At iteration 13 the best fitness is 79.986013986014']\n",
      "['At iteration 14 the best fitness is 83.51328671328672']\n",
      "['At iteration 15 the best fitness is 83.51328671328672']\n",
      "['At iteration 16 the best fitness is 83.51328671328672']\n",
      "['At iteration 17 the best fitness is 83.83861711806284']\n",
      "['At iteration 18 the best fitness is 83.83861711806284']\n",
      "['At iteration 19 the best fitness is 83.83861711806284']\n",
      "['At iteration 20 the best fitness is 83.83861711806284']\n",
      "{'real': array([35095.91619496, 49515.0163654 ]), 'discrete': array([1, 1, 1, 1, 1, 1, 1, 1, 1, 1, 0, 1, 0, 1, 0, 0, 0, 0, 0, 0, 0, 1])}\n",
      "[[832   0]\n",
      " [  0 793]]\n",
      "Test accuracy:  100.0  - Fitness:  64.54545454545455\n",
      "GSA is optimizing  \"get_fitness\"\n",
      "['At iteration 1 the best fitness is 77.9972027972028']\n"
     ]
    },
    {
     "name": "stderr",
     "output_type": "stream",
     "text": [
      "/Users/uclm/PycharmProjects/GSA_M/venv/lib/python3.9/site-packages/numpy/core/fromnumeric.py:59: FutureWarning: 'DataFrame.swapaxes' is deprecated and will be removed in a future version. Please use 'DataFrame.transpose' instead.\n",
      "  return bound(*args, **kwds)\n"
     ]
    },
    {
     "name": "stdout",
     "output_type": "stream",
     "text": [
      "['At iteration 2 the best fitness is 77.9972027972028']\n",
      "['At iteration 3 the best fitness is 77.9972027972028']\n",
      "['At iteration 4 the best fitness is 77.9972027972028']\n",
      "['At iteration 5 the best fitness is 77.9972027972028']\n",
      "['At iteration 6 the best fitness is 79.67832167832168']\n",
      "['At iteration 7 the best fitness is 80.84755244755246']\n",
      "['At iteration 8 the best fitness is 80.84755244755246']\n",
      "['At iteration 9 the best fitness is 80.84755244755246']\n",
      "['At iteration 10 the best fitness is 85.59440559440559']\n",
      "['At iteration 11 the best fitness is 85.59440559440559']\n",
      "['At iteration 12 the best fitness is 85.59440559440559']\n",
      "['At iteration 13 the best fitness is 85.59440559440559']\n",
      "['At iteration 14 the best fitness is 85.59440559440559']\n",
      "['At iteration 15 the best fitness is 85.59440559440559']\n",
      "['At iteration 16 the best fitness is 85.59440559440559']\n",
      "['At iteration 17 the best fitness is 85.59440559440559']\n",
      "['At iteration 18 the best fitness is 85.59440559440559']\n",
      "['At iteration 19 the best fitness is 85.59440559440559']\n",
      "['At iteration 20 the best fitness is 85.59440559440559']\n",
      "{'real': array([68520.25134832, 51835.04346857]), 'discrete': array([1, 0, 0, 0, 0, 1, 0, 1, 1, 0, 0, 0, 1, 1, 0, 0, 1, 1, 1, 0, 0, 1])}\n",
      "[[836  13]\n",
      " [  7 769]]\n",
      "Test accuracy:  98.76923076923076  - Fitness:  72.23496503496503\n",
      "GSA is optimizing  \"get_fitness\"\n"
     ]
    },
    {
     "name": "stderr",
     "output_type": "stream",
     "text": [
      "/Users/uclm/PycharmProjects/GSA_M/venv/lib/python3.9/site-packages/numpy/core/fromnumeric.py:59: FutureWarning: 'DataFrame.swapaxes' is deprecated and will be removed in a future version. Please use 'DataFrame.transpose' instead.\n",
      "  return bound(*args, **kwds)\n"
     ]
    },
    {
     "name": "stdout",
     "output_type": "stream",
     "text": [
      "['At iteration 1 the best fitness is 77.99706067604451']\n",
      "['At iteration 2 the best fitness is 77.99706067604451']\n",
      "['At iteration 3 the best fitness is 77.99706067604451']\n",
      "['At iteration 4 the best fitness is 77.99706067604451']\n",
      "['At iteration 5 the best fitness is 77.99706067604451']\n",
      "['At iteration 6 the best fitness is 77.99706067604451']\n",
      "['At iteration 7 the best fitness is 77.99706067604451']\n",
      "['At iteration 8 the best fitness is 78.18181818181819']\n",
      "['At iteration 9 the best fitness is 78.18181818181819']\n",
      "['At iteration 10 the best fitness is 78.18181818181819']\n",
      "['At iteration 11 the best fitness is 78.18181818181819']\n",
      "['At iteration 12 the best fitness is 78.18181818181819']\n",
      "['At iteration 13 the best fitness is 78.18181818181819']\n",
      "['At iteration 14 the best fitness is 78.18181818181819']\n",
      "['At iteration 15 the best fitness is 78.18181818181819']\n",
      "['At iteration 16 the best fitness is 82.40559440559441']\n",
      "['At iteration 17 the best fitness is 82.40559440559441']\n",
      "['At iteration 18 the best fitness is 86.20979020979021']\n",
      "['At iteration 19 the best fitness is 86.20979020979021']\n",
      "['At iteration 20 the best fitness is 86.20979020979021']\n",
      "{'real': array([89945.94573474, 89705.84799364]), 'discrete': array([0, 1, 1, 0, 1, 0, 0, 0, 1, 0, 0, 0, 1, 0, 0, 1, 1, 0, 0, 0, 1, 1])}\n",
      "[[814   0]\n",
      " [  0 811]]\n",
      "Test accuracy:  100.0  - Fitness:  75.45454545454544\n",
      "GSA is optimizing  \"get_fitness\"\n"
     ]
    },
    {
     "name": "stderr",
     "output_type": "stream",
     "text": [
      "/Users/uclm/PycharmProjects/GSA_M/venv/lib/python3.9/site-packages/numpy/core/fromnumeric.py:59: FutureWarning: 'DataFrame.swapaxes' is deprecated and will be removed in a future version. Please use 'DataFrame.transpose' instead.\n",
      "  return bound(*args, **kwds)\n"
     ]
    },
    {
     "name": "stdout",
     "output_type": "stream",
     "text": [
      "['At iteration 1 the best fitness is 78.02797202797203']\n",
      "['At iteration 2 the best fitness is 78.18181818181819']\n",
      "['At iteration 3 the best fitness is 78.18181818181819']\n",
      "['At iteration 4 the best fitness is 78.18181818181819']\n",
      "['At iteration 5 the best fitness is 82.46713286713288']\n",
      "['At iteration 6 the best fitness is 82.46713286713288']\n",
      "['At iteration 7 the best fitness is 82.46713286713288']\n",
      "['At iteration 8 the best fitness is 82.46713286713288']\n",
      "['At iteration 9 the best fitness is 82.46713286713288']\n",
      "['At iteration 10 the best fitness is 82.46713286713288']\n",
      "['At iteration 11 the best fitness is 82.9902097902098']\n",
      "['At iteration 12 the best fitness is 82.9902097902098']\n",
      "['At iteration 13 the best fitness is 82.9902097902098']\n",
      "['At iteration 14 the best fitness is 83.35944055944057']\n",
      "['At iteration 15 the best fitness is 83.35944055944057']\n",
      "['At iteration 16 the best fitness is 83.35944055944057']\n",
      "['At iteration 17 the best fitness is 83.35944055944057']\n",
      "['At iteration 18 the best fitness is 83.35944055944057']\n",
      "['At iteration 19 the best fitness is 83.35944055944057']\n",
      "['At iteration 20 the best fitness is 83.35944055944057']\n",
      "{'real': array([39379.94266499, 97444.39553803]), 'discrete': array([1, 1, 1, 1, 0, 0, 1, 1, 1, 1, 0, 1, 0, 0, 0, 0, 0, 0, 0, 0, 0, 1])}\n",
      "[[851   0]\n",
      " [  0 774]]\n",
      "Test accuracy:  100.0  - Fitness:  72.72727272727272\n",
      "GSA is optimizing  \"get_fitness\"\n",
      "['At iteration 1 the best fitness is 77.9972027972028']\n"
     ]
    },
    {
     "name": "stderr",
     "output_type": "stream",
     "text": [
      "/Users/uclm/PycharmProjects/GSA_M/venv/lib/python3.9/site-packages/numpy/core/fromnumeric.py:59: FutureWarning: 'DataFrame.swapaxes' is deprecated and will be removed in a future version. Please use 'DataFrame.transpose' instead.\n",
      "  return bound(*args, **kwds)\n"
     ]
    },
    {
     "name": "stdout",
     "output_type": "stream",
     "text": [
      "['At iteration 2 the best fitness is 80.13986013986013']\n",
      "['At iteration 3 the best fitness is 80.13986013986013']\n",
      "['At iteration 4 the best fitness is 80.13986013986013']\n",
      "['At iteration 5 the best fitness is 80.13986013986013']\n",
      "['At iteration 6 the best fitness is 80.13986013986013']\n",
      "['At iteration 7 the best fitness is 80.13986013986013']\n",
      "['At iteration 8 the best fitness is 80.13986013986013']\n",
      "['At iteration 9 the best fitness is 80.13986013986013']\n",
      "['At iteration 10 the best fitness is 80.57036881517251']\n",
      "['At iteration 11 the best fitness is 80.57036881517251']\n",
      "['At iteration 12 the best fitness is 80.57036881517251']\n",
      "['At iteration 13 the best fitness is 80.57036881517251']\n",
      "['At iteration 14 the best fitness is 80.57036881517251']\n",
      "['At iteration 15 the best fitness is 80.57036881517251']\n",
      "['At iteration 16 the best fitness is 80.57036881517251']\n",
      "['At iteration 17 the best fitness is 80.57036881517251']\n",
      "['At iteration 18 the best fitness is 80.57036881517251']\n",
      "['At iteration 19 the best fitness is 80.57036881517251']\n",
      "['At iteration 20 the best fitness is 82.71328671328672']\n",
      "{'real': array([63380.92917829, 62841.66977631]), 'discrete': array([0, 1, 1, 1, 0, 0, 1, 1, 1, 0, 0, 0, 0, 0, 0, 1, 1, 0, 0, 0, 1, 0])}\n",
      "[[846   0]\n",
      " [  1 778]]\n",
      "Test accuracy:  99.93846153846154  - Fitness:  75.42993006993007\n",
      "GSA is optimizing  \"get_fitness\"\n",
      "['At iteration 1 the best fitness is 75.45454545454544']\n"
     ]
    },
    {
     "name": "stderr",
     "output_type": "stream",
     "text": [
      "/Users/uclm/PycharmProjects/GSA_M/venv/lib/python3.9/site-packages/numpy/core/fromnumeric.py:59: FutureWarning: 'DataFrame.swapaxes' is deprecated and will be removed in a future version. Please use 'DataFrame.transpose' instead.\n",
      "  return bound(*args, **kwds)\n"
     ]
    },
    {
     "name": "stdout",
     "output_type": "stream",
     "text": [
      "['At iteration 2 the best fitness is 80.84755244755246']\n",
      "['At iteration 3 the best fitness is 80.84755244755246']\n",
      "['At iteration 4 the best fitness is 80.87832167832168']\n",
      "['At iteration 5 the best fitness is 80.9090909090909']\n",
      "['At iteration 6 the best fitness is 83.45174825174826']\n",
      "['At iteration 7 the best fitness is 83.45174825174826']\n",
      "['At iteration 8 the best fitness is 83.63636363636364']\n",
      "['At iteration 9 the best fitness is 83.63636363636364']\n",
      "['At iteration 10 the best fitness is 83.63636363636364']\n",
      "['At iteration 11 the best fitness is 83.63636363636364']\n",
      "['At iteration 12 the best fitness is 83.63636363636364']\n",
      "['At iteration 13 the best fitness is 86.05570718734691']\n",
      "['At iteration 14 the best fitness is 86.05570718734691']\n",
      "['At iteration 15 the best fitness is 88.7521869969907']\n",
      "['At iteration 16 the best fitness is 88.7521869969907']\n",
      "['At iteration 17 the best fitness is 88.7521869969907']\n",
      "['At iteration 18 the best fitness is 88.7521869969907']\n",
      "['At iteration 19 the best fitness is 88.78321678321677']\n",
      "['At iteration 20 the best fitness is 88.78321678321677']\n",
      "{'real': array([44425.94078604, 88838.21038744]), 'discrete': array([0, 0, 0, 0, 1, 0, 0, 0, 0, 1, 0, 0, 1, 1, 0, 0, 0, 1, 1, 0, 0, 0])}\n",
      "[[848   0]\n",
      " [ 18 759]]\n",
      "Test accuracy:  98.8923076923077  - Fitness:  83.19328671328672\n",
      "GSA is optimizing  \"get_fitness\"\n"
     ]
    },
    {
     "name": "stderr",
     "output_type": "stream",
     "text": [
      "/Users/uclm/PycharmProjects/GSA_M/venv/lib/python3.9/site-packages/numpy/core/fromnumeric.py:59: FutureWarning: 'DataFrame.swapaxes' is deprecated and will be removed in a future version. Please use 'DataFrame.transpose' instead.\n",
      "  return bound(*args, **kwds)\n"
     ]
    },
    {
     "name": "stdout",
     "output_type": "stream",
     "text": [
      "['At iteration 1 the best fitness is 80.78601398601398']\n",
      "['At iteration 2 the best fitness is 80.9090909090909']\n",
      "['At iteration 3 the best fitness is 80.9090909090909']\n",
      "['At iteration 4 the best fitness is 80.9090909090909']\n",
      "['At iteration 5 the best fitness is 80.9090909090909']\n",
      "['At iteration 6 the best fitness is 80.9090909090909']\n",
      "['At iteration 7 the best fitness is 80.9090909090909']\n",
      "['At iteration 8 the best fitness is 80.9090909090909']\n",
      "['At iteration 9 the best fitness is 80.9090909090909']\n",
      "['At iteration 10 the best fitness is 80.9090909090909']\n",
      "['At iteration 11 the best fitness is 80.9090909090909']\n",
      "['At iteration 12 the best fitness is 83.23636363636365']\n",
      "['At iteration 13 the best fitness is 83.23636363636365']\n",
      "['At iteration 14 the best fitness is 83.23636363636365']\n",
      "['At iteration 15 the best fitness is 83.23636363636365']\n",
      "['At iteration 16 the best fitness is 83.23636363636365']\n",
      "['At iteration 17 the best fitness is 83.23636363636365']\n",
      "['At iteration 18 the best fitness is 83.23636363636365']\n",
      "['At iteration 19 the best fitness is 83.23636363636365']\n",
      "['At iteration 20 the best fitness is 83.23636363636365']\n",
      "{'real': array([22139.16932282, 17001.37907369]), 'discrete': array([0, 0, 0, 0, 1, 0, 1, 1, 1, 1, 0, 0, 0, 1, 0, 0, 1, 0, 1, 1, 1, 0])}\n",
      "[[834   0]\n",
      " [  0 791]]\n",
      "Test accuracy:  100.0  - Fitness:  72.72727272727272\n",
      "GSA is optimizing  \"get_fitness\"\n"
     ]
    },
    {
     "name": "stderr",
     "output_type": "stream",
     "text": [
      "/Users/uclm/PycharmProjects/GSA_M/venv/lib/python3.9/site-packages/numpy/core/fromnumeric.py:59: FutureWarning: 'DataFrame.swapaxes' is deprecated and will be removed in a future version. Please use 'DataFrame.transpose' instead.\n",
      "  return bound(*args, **kwds)\n"
     ]
    },
    {
     "name": "stdout",
     "output_type": "stream",
     "text": [
      "['At iteration 1 the best fitness is 75.45454545454544']\n",
      "['At iteration 2 the best fitness is 75.45454545454544']\n",
      "['At iteration 3 the best fitness is 75.45454545454544']\n",
      "['At iteration 4 the best fitness is 77.90468192315768']\n",
      "['At iteration 5 the best fitness is 77.90468192315768']\n",
      "['At iteration 6 the best fitness is 77.90468192315768']\n",
      "['At iteration 7 the best fitness is 77.9972027972028']\n",
      "['At iteration 8 the best fitness is 77.9972027972028']\n",
      "['At iteration 9 the best fitness is 78.15104895104895']\n",
      "['At iteration 10 the best fitness is 78.15104895104895']\n",
      "['At iteration 11 the best fitness is 78.15104895104895']\n",
      "['At iteration 12 the best fitness is 78.15104895104895']\n",
      "['At iteration 13 the best fitness is 78.15104895104895']\n",
      "['At iteration 14 the best fitness is 78.15104895104895']\n",
      "['At iteration 15 the best fitness is 78.15104895104895']\n",
      "['At iteration 16 the best fitness is 78.15104895104895']\n",
      "['At iteration 17 the best fitness is 78.15104895104895']\n",
      "['At iteration 18 the best fitness is 78.18181818181819']\n",
      "['At iteration 19 the best fitness is 78.18181818181819']\n",
      "['At iteration 20 the best fitness is 78.18181818181819']\n",
      "{'real': array([56234.91633665, 72115.92327032]), 'discrete': array([0, 0, 1, 0, 0, 1, 0, 1, 0, 1, 0, 1, 0, 0, 0, 0, 1, 1, 0, 1, 0, 0])}\n",
      "[[850  27]\n",
      " [  4 744]]\n",
      "Test accuracy:  98.09230769230768  - Fitness:  77.41874125874125\n",
      "GSA is optimizing  \"get_fitness\"\n"
     ]
    },
    {
     "name": "stderr",
     "output_type": "stream",
     "text": [
      "/Users/uclm/PycharmProjects/GSA_M/venv/lib/python3.9/site-packages/numpy/core/fromnumeric.py:59: FutureWarning: 'DataFrame.swapaxes' is deprecated and will be removed in a future version. Please use 'DataFrame.transpose' instead.\n",
      "  return bound(*args, **kwds)\n"
     ]
    },
    {
     "name": "stdout",
     "output_type": "stream",
     "text": [
      "['At iteration 1 the best fitness is 75.45454545454544']\n",
      "['At iteration 2 the best fitness is 77.65874125874126']\n",
      "['At iteration 3 the best fitness is 77.65874125874126']\n",
      "['At iteration 4 the best fitness is 78.57062937062938']\n",
      "['At iteration 5 the best fitness is 80.50878297991463']\n",
      "['At iteration 6 the best fitness is 80.50878297991463']\n",
      "['At iteration 7 the best fitness is 80.50878297991463']\n",
      "['At iteration 8 the best fitness is 80.50878297991463']\n",
      "['At iteration 9 the best fitness is 80.50878297991463']\n",
      "['At iteration 10 the best fitness is 80.50878297991463']\n",
      "['At iteration 11 the best fitness is 82.43636363636364']\n",
      "['At iteration 12 the best fitness is 82.43636363636364']\n",
      "['At iteration 13 the best fitness is 83.93286713286713']\n",
      "['At iteration 14 the best fitness is 83.93286713286713']\n",
      "['At iteration 15 the best fitness is 83.93286713286713']\n",
      "['At iteration 16 the best fitness is 83.93286713286713']\n",
      "['At iteration 17 the best fitness is 83.93286713286713']\n",
      "['At iteration 18 the best fitness is 83.93286713286713']\n",
      "['At iteration 19 the best fitness is 83.93286713286713']\n",
      "['At iteration 20 the best fitness is 83.93286713286713']\n",
      "{'real': array([30553.88385255,  9660.51262471]), 'discrete': array([1, 0, 1, 0, 0, 0, 0, 0, 1, 1, 1, 0, 1, 0, 1, 0, 0, 1, 0, 1, 1, 1])}\n",
      "[[852   1]\n",
      " [  1 771]]\n",
      "Test accuracy:  99.87692307692308  - Fitness:  69.95076923076923\n",
      "Running GSA with wa = 0.5, wf = 0.5\n",
      "GSA is optimizing  \"get_fitness\"\n",
      "['At iteration 1 the best fitness is 84.90097277626145']\n"
     ]
    },
    {
     "name": "stderr",
     "output_type": "stream",
     "text": [
      "/Users/uclm/PycharmProjects/GSA_M/venv/lib/python3.9/site-packages/numpy/core/fromnumeric.py:59: FutureWarning: 'DataFrame.swapaxes' is deprecated and will be removed in a future version. Please use 'DataFrame.transpose' instead.\n",
      "  return bound(*args, **kwds)\n"
     ]
    },
    {
     "name": "stdout",
     "output_type": "stream",
     "text": [
      "['At iteration 2 the best fitness is 84.90097277626145']\n",
      "['At iteration 3 the best fitness is 84.90097277626145']\n",
      "['At iteration 4 the best fitness is 84.90097277626145']\n",
      "['At iteration 5 the best fitness is 88.52089019525509']\n",
      "['At iteration 6 the best fitness is 88.52089019525509']\n",
      "['At iteration 7 the best fitness is 88.52089019525509']\n",
      "['At iteration 8 the best fitness is 88.52089019525509']\n",
      "['At iteration 9 the best fitness is 88.52089019525509']\n",
      "['At iteration 10 the best fitness is 88.52089019525509']\n",
      "['At iteration 11 the best fitness is 88.52089019525509']\n",
      "['At iteration 12 the best fitness is 88.52089019525509']\n",
      "['At iteration 13 the best fitness is 88.52089019525509']\n",
      "['At iteration 14 the best fitness is 88.52089019525509']\n",
      "['At iteration 15 the best fitness is 88.52089019525509']\n",
      "['At iteration 16 the best fitness is 88.52089019525509']\n",
      "['At iteration 17 the best fitness is 88.52089019525509']\n",
      "['At iteration 18 the best fitness is 88.52089019525509']\n",
      "['At iteration 19 the best fitness is 88.52089019525509']\n",
      "['At iteration 20 the best fitness is 88.52089019525509']\n",
      "{'real': array([55565.75632291, 50222.69247297]), 'discrete': array([1, 0, 0, 1, 0, 1, 0, 1, 0, 1, 0, 0, 1, 0, 0, 1, 0, 0, 0, 1, 0, 1])}\n",
      "[[821   0]\n",
      " [  0 804]]\n",
      "Test accuracy:  100.0  - Fitness:  79.54545454545453\n"
     ]
    },
    {
     "name": "stderr",
     "output_type": "stream",
     "text": [
      "/Users/uclm/PycharmProjects/GSA_M/venv/lib/python3.9/site-packages/numpy/core/fromnumeric.py:59: FutureWarning: 'DataFrame.swapaxes' is deprecated and will be removed in a future version. Please use 'DataFrame.transpose' instead.\n",
      "  return bound(*args, **kwds)\n"
     ]
    },
    {
     "name": "stdout",
     "output_type": "stream",
     "text": [
      "GSA is optimizing  \"get_fitness\"\n",
      "['At iteration 1 the best fitness is 77.27272727272727']\n",
      "['At iteration 2 the best fitness is 81.66433566433567']\n",
      "['At iteration 3 the best fitness is 81.66433566433567']\n",
      "['At iteration 4 the best fitness is 81.66433566433567']\n",
      "['At iteration 5 the best fitness is 81.66433566433567']\n",
      "['At iteration 6 the best fitness is 81.66433566433567']\n",
      "['At iteration 7 the best fitness is 81.66433566433567']\n",
      "['At iteration 8 the best fitness is 81.66433566433567']\n",
      "['At iteration 9 the best fitness is 81.66433566433567']\n",
      "['At iteration 10 the best fitness is 81.66433566433567']\n",
      "['At iteration 11 the best fitness is 81.66433566433567']\n",
      "['At iteration 12 the best fitness is 83.3986013986014']\n",
      "['At iteration 13 the best fitness is 83.47552447552448']\n",
      "['At iteration 14 the best fitness is 83.47552447552448']\n",
      "['At iteration 15 the best fitness is 83.47552447552448']\n",
      "['At iteration 16 the best fitness is 83.47552447552448']\n",
      "['At iteration 17 the best fitness is 83.47552447552448']\n",
      "['At iteration 18 the best fitness is 83.47552447552448']\n",
      "['At iteration 19 the best fitness is 84.8239904821891']\n",
      "['At iteration 20 the best fitness is 84.8239904821891']\n",
      "{'real': array([97961.68765064, 54236.55108923]), 'discrete': array([0, 1, 0, 0, 1, 0, 1, 1, 0, 1, 0, 1, 1, 1, 1, 0, 1, 1, 1, 0, 1, 1])}\n",
      "[[856   0]\n",
      " [  0 769]]\n",
      "Test accuracy:  100.0  - Fitness:  68.18181818181819\n",
      "GSA is optimizing  \"get_fitness\"\n",
      "['At iteration 1 the best fitness is 79.54545454545453']\n"
     ]
    },
    {
     "name": "stderr",
     "output_type": "stream",
     "text": [
      "/Users/uclm/PycharmProjects/GSA_M/venv/lib/python3.9/site-packages/numpy/core/fromnumeric.py:59: FutureWarning: 'DataFrame.swapaxes' is deprecated and will be removed in a future version. Please use 'DataFrame.transpose' instead.\n",
      "  return bound(*args, **kwds)\n"
     ]
    },
    {
     "name": "stdout",
     "output_type": "stream",
     "text": [
      "['At iteration 2 the best fitness is 81.81818181818181']\n",
      "['At iteration 3 the best fitness is 84.0909090909091']\n",
      "['At iteration 4 the best fitness is 84.0909090909091']\n",
      "['At iteration 5 the best fitness is 84.0909090909091']\n",
      "['At iteration 6 the best fitness is 84.0909090909091']\n",
      "['At iteration 7 the best fitness is 84.0909090909091']\n",
      "['At iteration 8 the best fitness is 84.0909090909091']\n",
      "['At iteration 9 the best fitness is 86.6013986013986']\n",
      "['At iteration 10 the best fitness is 86.6013986013986']\n",
      "['At iteration 11 the best fitness is 86.6013986013986']\n",
      "['At iteration 12 the best fitness is 86.6013986013986']\n",
      "['At iteration 13 the best fitness is 86.6013986013986']\n",
      "['At iteration 14 the best fitness is 86.6013986013986']\n",
      "['At iteration 15 the best fitness is 86.6013986013986']\n",
      "['At iteration 16 the best fitness is 86.6013986013986']\n",
      "['At iteration 17 the best fitness is 86.6013986013986']\n",
      "['At iteration 18 the best fitness is 88.32867132867133']\n",
      "['At iteration 19 the best fitness is 88.32867132867133']\n",
      "['At iteration 20 the best fitness is 88.32867132867133']\n",
      "{'real': array([67710.13519965, 64006.36261655]), 'discrete': array([0, 0, 0, 1, 0, 0, 0, 0, 1, 0, 1, 1, 1, 0, 0, 0, 0, 0, 1, 0, 0, 1])}\n",
      "[[833   0]\n",
      " [  0 792]]\n",
      "Test accuracy:  100.0  - Fitness:  84.0909090909091\n",
      "GSA is optimizing  \"get_fitness\"\n",
      "['At iteration 1 the best fitness is 76.27272727272727']\n"
     ]
    },
    {
     "name": "stderr",
     "output_type": "stream",
     "text": [
      "/Users/uclm/PycharmProjects/GSA_M/venv/lib/python3.9/site-packages/numpy/core/fromnumeric.py:59: FutureWarning: 'DataFrame.swapaxes' is deprecated and will be removed in a future version. Please use 'DataFrame.transpose' instead.\n",
      "  return bound(*args, **kwds)\n"
     ]
    },
    {
     "name": "stdout",
     "output_type": "stream",
     "text": [
      "['At iteration 2 the best fitness is 79.27601651620127']\n",
      "['At iteration 3 the best fitness is 79.77972027972028']\n",
      "['At iteration 4 the best fitness is 79.77972027972028']\n",
      "['At iteration 5 the best fitness is 79.77972027972028']\n",
      "['At iteration 6 the best fitness is 79.77972027972028']\n",
      "['At iteration 7 the best fitness is 79.77972027972028']\n",
      "['At iteration 8 the best fitness is 79.77972027972028']\n",
      "['At iteration 9 the best fitness is 81.81818181818181']\n",
      "['At iteration 10 the best fitness is 81.81818181818181']\n",
      "['At iteration 11 the best fitness is 81.81818181818181']\n",
      "['At iteration 12 the best fitness is 81.81818181818181']\n",
      "['At iteration 13 the best fitness is 81.81818181818181']\n",
      "['At iteration 14 the best fitness is 81.81818181818181']\n",
      "['At iteration 15 the best fitness is 81.81818181818181']\n",
      "['At iteration 16 the best fitness is 81.81818181818181']\n",
      "['At iteration 17 the best fitness is 81.81818181818181']\n",
      "['At iteration 18 the best fitness is 81.81818181818181']\n",
      "['At iteration 19 the best fitness is 81.81818181818181']\n",
      "['At iteration 20 the best fitness is 81.81818181818181']\n",
      "{'real': array([35121.70363874, 61036.34254956]), 'discrete': array([1, 1, 1, 1, 0, 1, 0, 1, 0, 1, 0, 1, 1, 1, 0, 1, 1, 0, 0, 1, 1, 0])}\n",
      "[[839   0]\n",
      " [  0 786]]\n",
      "Test accuracy:  100.0  - Fitness:  68.18181818181819\n",
      "GSA is optimizing  \"get_fitness\"\n"
     ]
    },
    {
     "name": "stderr",
     "output_type": "stream",
     "text": [
      "/Users/uclm/PycharmProjects/GSA_M/venv/lib/python3.9/site-packages/numpy/core/fromnumeric.py:59: FutureWarning: 'DataFrame.swapaxes' is deprecated and will be removed in a future version. Please use 'DataFrame.transpose' instead.\n",
      "  return bound(*args, **kwds)\n"
     ]
    },
    {
     "name": "stdout",
     "output_type": "stream",
     "text": [
      "['At iteration 1 the best fitness is 79.54545454545453']\n",
      "['At iteration 2 the best fitness is 81.77969067114563']\n",
      "['At iteration 3 the best fitness is 81.81818181818181']\n",
      "['At iteration 4 the best fitness is 81.81818181818181']\n",
      "['At iteration 5 the best fitness is 86.13286713286715']\n",
      "['At iteration 6 the best fitness is 86.13286713286715']\n",
      "['At iteration 7 the best fitness is 86.13286713286715']\n",
      "['At iteration 8 the best fitness is 86.13286713286715']\n",
      "['At iteration 9 the best fitness is 86.13286713286715']\n",
      "['At iteration 10 the best fitness is 86.24825174825175']\n",
      "['At iteration 11 the best fitness is 86.24825174825175']\n",
      "['At iteration 12 the best fitness is 86.24825174825175']\n",
      "['At iteration 13 the best fitness is 86.24825174825175']\n",
      "['At iteration 14 the best fitness is 86.24825174825175']\n",
      "['At iteration 15 the best fitness is 90.4090909090909']\n",
      "['At iteration 16 the best fitness is 90.52447552447552']\n",
      "['At iteration 17 the best fitness is 90.52447552447552']\n",
      "['At iteration 18 the best fitness is 90.52447552447552']\n",
      "['At iteration 19 the best fitness is 90.52447552447552']\n",
      "['At iteration 20 the best fitness is 92.64335664335664']\n",
      "{'real': array([72927.50085336, 53496.96573462]), 'discrete': array([0, 0, 0, 0, 1, 0, 1, 0, 0, 0, 0, 0, 0, 1, 1, 0, 1, 0, 0, 0, 0, 0])}\n",
      "[[812   0]\n",
      " [ 21 792]]\n",
      "Test accuracy:  98.70769230769231  - Fitness:  87.99020979020979\n",
      "GSA is optimizing  \"get_fitness\"\n"
     ]
    },
    {
     "name": "stderr",
     "output_type": "stream",
     "text": [
      "/Users/uclm/PycharmProjects/GSA_M/venv/lib/python3.9/site-packages/numpy/core/fromnumeric.py:59: FutureWarning: 'DataFrame.swapaxes' is deprecated and will be removed in a future version. Please use 'DataFrame.transpose' instead.\n",
      "  return bound(*args, **kwds)\n"
     ]
    },
    {
     "name": "stdout",
     "output_type": "stream",
     "text": [
      "['At iteration 1 the best fitness is 78.54545454545453']\n",
      "['At iteration 2 the best fitness is 82.16635173910001']\n",
      "['At iteration 3 the best fitness is 82.16635173910001']\n",
      "['At iteration 4 the best fitness is 82.16635173910001']\n",
      "['At iteration 5 the best fitness is 86.0944055944056']\n",
      "['At iteration 6 the best fitness is 86.0944055944056']\n",
      "['At iteration 7 the best fitness is 88.4055944055944']\n",
      "['At iteration 8 the best fitness is 88.4055944055944']\n",
      "['At iteration 9 the best fitness is 88.4055944055944']\n",
      "['At iteration 10 the best fitness is 88.4055944055944']\n",
      "['At iteration 11 the best fitness is 88.4055944055944']\n",
      "['At iteration 12 the best fitness is 88.4055944055944']\n",
      "['At iteration 13 the best fitness is 88.4055944055944']\n",
      "['At iteration 14 the best fitness is 88.4055944055944']\n",
      "['At iteration 15 the best fitness is 88.4055944055944']\n",
      "['At iteration 16 the best fitness is 88.4055944055944']\n",
      "['At iteration 17 the best fitness is 88.4055944055944']\n",
      "['At iteration 18 the best fitness is 88.4055944055944']\n",
      "['At iteration 19 the best fitness is 88.4055944055944']\n",
      "['At iteration 20 the best fitness is 88.4055944055944']\n",
      "{'real': array([72026.27874233, 43234.70111077]), 'discrete': array([1, 0, 0, 1, 0, 0, 1, 0, 0, 0, 1, 1, 1, 1, 0, 0, 0, 0, 1, 0, 0, 1])}\n",
      "[[813   0]\n",
      " [  0 812]]\n",
      "Test accuracy:  100.0  - Fitness:  79.54545454545453\n"
     ]
    },
    {
     "name": "stderr",
     "output_type": "stream",
     "text": [
      "/Users/uclm/PycharmProjects/GSA_M/venv/lib/python3.9/site-packages/numpy/core/fromnumeric.py:59: FutureWarning: 'DataFrame.swapaxes' is deprecated and will be removed in a future version. Please use 'DataFrame.transpose' instead.\n",
      "  return bound(*args, **kwds)\n"
     ]
    },
    {
     "name": "stdout",
     "output_type": "stream",
     "text": [
      "GSA is optimizing  \"get_fitness\"\n",
      "['At iteration 1 the best fitness is 79.54545454545453']\n",
      "['At iteration 2 the best fitness is 81.81818181818181']\n",
      "['At iteration 3 the best fitness is 81.81818181818181']\n",
      "['At iteration 4 the best fitness is 81.81818181818181']\n",
      "['At iteration 5 the best fitness is 81.81818181818181']\n",
      "['At iteration 6 the best fitness is 81.81818181818181']\n",
      "['At iteration 7 the best fitness is 81.81818181818181']\n",
      "['At iteration 8 the best fitness is 81.81818181818181']\n",
      "['At iteration 9 the best fitness is 84.01392679683673']\n",
      "['At iteration 10 the best fitness is 84.01392679683673']\n",
      "['At iteration 11 the best fitness is 84.0909090909091']\n",
      "['At iteration 12 the best fitness is 84.0909090909091']\n",
      "['At iteration 13 the best fitness is 86.36363636363637']\n",
      "['At iteration 14 the best fitness is 86.36363636363637']\n",
      "['At iteration 15 the best fitness is 86.36363636363637']\n",
      "['At iteration 16 the best fitness is 86.36363636363637']\n",
      "['At iteration 17 the best fitness is 86.36363636363637']\n",
      "['At iteration 18 the best fitness is 86.36363636363637']\n",
      "['At iteration 19 the best fitness is 86.36363636363637']\n",
      "['At iteration 20 the best fitness is 86.36363636363637']\n",
      "{'real': array([34675.27946765, 92991.31524848]), 'discrete': array([1, 0, 1, 0, 1, 0, 1, 0, 0, 0, 0, 1, 0, 1, 0, 1, 0, 0, 0, 1, 1, 0])}\n",
      "[[842   0]\n",
      " [  0 783]]\n",
      "Test accuracy:  100.0  - Fitness:  79.54545454545453\n",
      "GSA is optimizing  \"get_fitness\"\n"
     ]
    },
    {
     "name": "stderr",
     "output_type": "stream",
     "text": [
      "/Users/uclm/PycharmProjects/GSA_M/venv/lib/python3.9/site-packages/numpy/core/fromnumeric.py:59: FutureWarning: 'DataFrame.swapaxes' is deprecated and will be removed in a future version. Please use 'DataFrame.transpose' instead.\n",
      "  return bound(*args, **kwds)\n"
     ]
    },
    {
     "name": "stdout",
     "output_type": "stream",
     "text": [
      "['At iteration 1 the best fitness is 75.0']\n",
      "['At iteration 2 the best fitness is 83.94055944055944']\n",
      "['At iteration 3 the best fitness is 83.94055944055944']\n",
      "['At iteration 4 the best fitness is 85.78801875568618']\n",
      "['At iteration 5 the best fitness is 85.78801875568618']\n",
      "['At iteration 6 the best fitness is 85.78801875568618']\n",
      "['At iteration 7 the best fitness is 85.78801875568618']\n",
      "['At iteration 8 the best fitness is 85.78801875568618']\n",
      "['At iteration 9 the best fitness is 85.78801875568618']\n",
      "['At iteration 10 the best fitness is 85.78801875568618']\n",
      "['At iteration 11 the best fitness is 85.78801875568618']\n",
      "['At iteration 12 the best fitness is 85.78801875568618']\n",
      "['At iteration 13 the best fitness is 85.78801875568618']\n",
      "['At iteration 14 the best fitness is 85.78801875568618']\n",
      "['At iteration 15 the best fitness is 86.20979020979021']\n",
      "['At iteration 16 the best fitness is 86.20979020979021']\n",
      "['At iteration 17 the best fitness is 86.36363636363637']\n",
      "['At iteration 18 the best fitness is 87.2506823430611']\n",
      "['At iteration 19 the best fitness is 87.2506823430611']\n",
      "['At iteration 20 the best fitness is 90.25524475524475']\n",
      "{'real': array([58718.44204917, 84554.85958913]), 'discrete': array([1, 0, 0, 1, 1, 0, 0, 0, 0, 0, 0, 1, 0, 0, 1, 0, 1, 1, 1, 0, 0, 0])}\n",
      "[[846   5]\n",
      " [  1 773]]\n",
      "Test accuracy:  99.63076923076923  - Fitness:  81.63356643356643\n",
      "GSA is optimizing  \"get_fitness\"\n",
      "['At iteration 1 the best fitness is 80.35664335664335']\n"
     ]
    },
    {
     "name": "stderr",
     "output_type": "stream",
     "text": [
      "/Users/uclm/PycharmProjects/GSA_M/venv/lib/python3.9/site-packages/numpy/core/fromnumeric.py:59: FutureWarning: 'DataFrame.swapaxes' is deprecated and will be removed in a future version. Please use 'DataFrame.transpose' instead.\n",
      "  return bound(*args, **kwds)\n"
     ]
    },
    {
     "name": "stdout",
     "output_type": "stream",
     "text": [
      "['At iteration 2 the best fitness is 84.0909090909091']\n",
      "['At iteration 3 the best fitness is 84.0909090909091']\n",
      "['At iteration 4 the best fitness is 84.0909090909091']\n",
      "['At iteration 5 the best fitness is 84.0909090909091']\n",
      "['At iteration 6 the best fitness is 86.98124431380782']\n",
      "['At iteration 7 the best fitness is 86.98124431380782']\n",
      "['At iteration 8 the best fitness is 86.98124431380782']\n",
      "['At iteration 9 the best fitness is 86.98124431380782']\n",
      "['At iteration 10 the best fitness is 86.98124431380782']\n",
      "['At iteration 11 the best fitness is 86.98124431380782']\n",
      "['At iteration 12 the best fitness is 86.98124431380782']\n",
      "['At iteration 13 the best fitness is 86.98124431380782']\n",
      "['At iteration 14 the best fitness is 86.98124431380782']\n",
      "['At iteration 15 the best fitness is 86.98124431380782']\n",
      "['At iteration 16 the best fitness is 86.98124431380782']\n",
      "['At iteration 17 the best fitness is 86.98124431380782']\n",
      "['At iteration 18 the best fitness is 86.98124431380782']\n",
      "['At iteration 19 the best fitness is 86.98124431380782']\n",
      "['At iteration 20 the best fitness is 87.44663727342711']\n",
      "{'real': array([98790.30510148, 69515.97031962]), 'discrete': array([0, 0, 0, 1, 0, 0, 1, 0, 0, 0, 0, 1, 0, 0, 1, 0, 0, 0, 0, 0, 0, 0])}\n",
      "[[814  35]\n",
      " [129 647]]\n",
      "Test accuracy:  89.90769230769232  - Fitness:  85.86293706293706\n",
      "GSA is optimizing  \"get_fitness\"\n"
     ]
    },
    {
     "name": "stderr",
     "output_type": "stream",
     "text": [
      "/Users/uclm/PycharmProjects/GSA_M/venv/lib/python3.9/site-packages/numpy/core/fromnumeric.py:59: FutureWarning: 'DataFrame.swapaxes' is deprecated and will be removed in a future version. Please use 'DataFrame.transpose' instead.\n",
      "  return bound(*args, **kwds)\n"
     ]
    },
    {
     "name": "stdout",
     "output_type": "stream",
     "text": [
      "['At iteration 1 the best fitness is 83.7062937062937']\n",
      "['At iteration 2 the best fitness is 83.7062937062937']\n",
      "['At iteration 3 the best fitness is 85.6013986013986']\n",
      "['At iteration 4 the best fitness is 85.6013986013986']\n",
      "['At iteration 5 the best fitness is 85.6013986013986']\n",
      "['At iteration 6 the best fitness is 85.6013986013986']\n",
      "['At iteration 7 the best fitness is 85.6013986013986']\n",
      "['At iteration 8 the best fitness is 85.6013986013986']\n",
      "['At iteration 9 the best fitness is 85.6013986013986']\n",
      "['At iteration 10 the best fitness is 85.6013986013986']\n",
      "['At iteration 11 the best fitness is 85.6013986013986']\n",
      "['At iteration 12 the best fitness is 85.6013986013986']\n",
      "['At iteration 13 the best fitness is 85.6013986013986']\n",
      "['At iteration 14 the best fitness is 85.6013986013986']\n",
      "['At iteration 15 the best fitness is 85.6013986013986']\n",
      "['At iteration 16 the best fitness is 85.6013986013986']\n",
      "['At iteration 17 the best fitness is 85.6013986013986']\n",
      "['At iteration 18 the best fitness is 87.94352298971236']\n",
      "['At iteration 19 the best fitness is 88.13597872489328']\n",
      "['At iteration 20 the best fitness is 89.94856183077891']\n",
      "{'real': array([79440.4580343 , 52978.54936868]), 'discrete': array([0, 0, 0, 0, 0, 1, 0, 0, 0, 1, 1, 0, 0, 0, 0, 0, 0, 0, 0, 0, 0, 0])}\n",
      "[[821  41]\n",
      " [ 54 709]]\n",
      "Test accuracy:  94.15384615384616  - Fitness:  90.25874125874125\n",
      "Running GSA with wa = 0.6, wf = 0.4\n",
      "GSA is optimizing  \"get_fitness\"\n"
     ]
    },
    {
     "name": "stderr",
     "output_type": "stream",
     "text": [
      "/Users/uclm/PycharmProjects/GSA_M/venv/lib/python3.9/site-packages/numpy/core/fromnumeric.py:59: FutureWarning: 'DataFrame.swapaxes' is deprecated and will be removed in a future version. Please use 'DataFrame.transpose' instead.\n",
      "  return bound(*args, **kwds)\n"
     ]
    },
    {
     "name": "stdout",
     "output_type": "stream",
     "text": [
      "['At iteration 1 the best fitness is 84.16223776223777']\n",
      "['At iteration 2 the best fitness is 84.16223776223777']\n",
      "['At iteration 3 the best fitness is 86.44195804195805']\n",
      "['At iteration 4 the best fitness is 86.44195804195805']\n",
      "['At iteration 5 the best fitness is 86.44195804195805']\n",
      "['At iteration 6 the best fitness is 86.44195804195805']\n",
      "['At iteration 7 the best fitness is 86.44195804195805']\n",
      "['At iteration 8 the best fitness is 86.44195804195805']\n",
      "['At iteration 9 the best fitness is 87.33706293706294']\n",
      "['At iteration 10 the best fitness is 87.33706293706294']\n",
      "['At iteration 11 the best fitness is 87.33706293706294']\n",
      "['At iteration 12 the best fitness is 87.33706293706294']\n",
      "['At iteration 13 the best fitness is 87.33706293706294']\n",
      "['At iteration 14 the best fitness is 87.33706293706294']\n",
      "['At iteration 15 the best fitness is 87.33706293706294']\n",
      "['At iteration 16 the best fitness is 87.33706293706294']\n",
      "['At iteration 17 the best fitness is 87.33706293706294']\n",
      "['At iteration 18 the best fitness is 87.33706293706294']\n",
      "['At iteration 19 the best fitness is 87.33706293706294']\n",
      "['At iteration 20 the best fitness is 87.33706293706294']\n",
      "{'real': array([24319.95434407, 41920.35562432]), 'discrete': array([1, 1, 1, 0, 1, 0, 0, 0, 0, 0, 0, 0, 1, 1, 0, 0, 0, 1, 0, 0, 1, 0])}\n",
      "[[883   2]\n",
      " [  0 740]]\n",
      "Test accuracy:  99.87692307692308  - Fitness:  85.38069930069929\n",
      "GSA is optimizing  \"get_fitness\"\n"
     ]
    },
    {
     "name": "stderr",
     "output_type": "stream",
     "text": [
      "/Users/uclm/PycharmProjects/GSA_M/venv/lib/python3.9/site-packages/numpy/core/fromnumeric.py:59: FutureWarning: 'DataFrame.swapaxes' is deprecated and will be removed in a future version. Please use 'DataFrame.transpose' instead.\n",
      "  return bound(*args, **kwds)\n"
     ]
    },
    {
     "name": "stdout",
     "output_type": "stream",
     "text": [
      "['At iteration 1 the best fitness is 86.94965034965034']\n",
      "['At iteration 2 the best fitness is 87.27272727272728']\n",
      "['At iteration 3 the best fitness is 87.27272727272728']\n",
      "['At iteration 4 the best fitness is 87.27272727272728']\n",
      "['At iteration 5 the best fitness is 87.27272727272728']\n",
      "['At iteration 6 the best fitness is 87.27272727272728']\n",
      "['At iteration 7 the best fitness is 87.27272727272728']\n",
      "['At iteration 8 the best fitness is 87.27272727272728']\n",
      "['At iteration 9 the best fitness is 87.27272727272728']\n",
      "['At iteration 10 the best fitness is 87.27272727272728']\n",
      "['At iteration 11 the best fitness is 87.27272727272728']\n",
      "['At iteration 12 the best fitness is 87.27272727272728']\n",
      "['At iteration 13 the best fitness is 87.27272727272728']\n",
      "['At iteration 14 the best fitness is 87.27272727272728']\n",
      "['At iteration 15 the best fitness is 87.27272727272728']\n",
      "['At iteration 16 the best fitness is 87.27272727272728']\n",
      "['At iteration 17 the best fitness is 87.27272727272728']\n",
      "['At iteration 18 the best fitness is 87.27272727272728']\n",
      "['At iteration 19 the best fitness is 87.7986013986014']\n",
      "['At iteration 20 the best fitness is 87.7986013986014']\n",
      "{'real': array([52893.87125482, 17215.58300239]), 'discrete': array([0, 0, 0, 1, 1, 1, 0, 1, 1, 0, 0, 0, 0, 0, 1, 0, 1, 1, 1, 0, 0, 0])}\n",
      "[[846   0]\n",
      " [  2 777]]\n",
      "Test accuracy:  99.87692307692308  - Fitness:  83.56251748251748\n",
      "GSA is optimizing  \"get_fitness\"\n"
     ]
    },
    {
     "name": "stderr",
     "output_type": "stream",
     "text": [
      "/Users/uclm/PycharmProjects/GSA_M/venv/lib/python3.9/site-packages/numpy/core/fromnumeric.py:59: FutureWarning: 'DataFrame.swapaxes' is deprecated and will be removed in a future version. Please use 'DataFrame.transpose' instead.\n",
      "  return bound(*args, **kwds)\n"
     ]
    },
    {
     "name": "stdout",
     "output_type": "stream",
     "text": [
      "['At iteration 1 the best fitness is 81.07972027972026']\n",
      "['At iteration 2 the best fitness is 83.63636363636363']\n",
      "['At iteration 3 the best fitness is 83.63636363636363']\n",
      "['At iteration 4 the best fitness is 83.63636363636363']\n",
      "['At iteration 5 the best fitness is 85.17762237762238']\n",
      "['At iteration 6 the best fitness is 85.17762237762238']\n",
      "['At iteration 7 the best fitness is 85.17762237762238']\n",
      "['At iteration 8 the best fitness is 85.40839160839161']\n",
      "['At iteration 9 the best fitness is 85.40839160839161']\n",
      "['At iteration 10 the best fitness is 85.40839160839161']\n",
      "['At iteration 11 the best fitness is 85.40839160839161']\n",
      "['At iteration 12 the best fitness is 85.40839160839161']\n",
      "['At iteration 13 the best fitness is 85.40839160839161']\n",
      "['At iteration 14 the best fitness is 87.27272727272728']\n",
      "['At iteration 15 the best fitness is 89.0909090909091']\n",
      "['At iteration 16 the best fitness is 89.0909090909091']\n",
      "['At iteration 17 the best fitness is 89.0909090909091']\n",
      "['At iteration 18 the best fitness is 92.08111888111887']\n",
      "['At iteration 19 the best fitness is 92.08111888111887']\n",
      "['At iteration 20 the best fitness is 92.08111888111887']\n",
      "{'real': array([18487.32661864,  7953.3661634 ]), 'discrete': array([0, 0, 1, 0, 1, 1, 1, 1, 0, 0, 0, 1, 0, 0, 1, 0, 0, 1, 0, 0, 0, 1])}\n",
      "[[832   0]\n",
      " [  0 793]]\n",
      "Test accuracy:  100.0  - Fitness:  83.63636363636363\n",
      "GSA is optimizing  \"get_fitness\"\n",
      "['At iteration 1 the best fitness is 80.0']\n"
     ]
    },
    {
     "name": "stderr",
     "output_type": "stream",
     "text": [
      "/Users/uclm/PycharmProjects/GSA_M/venv/lib/python3.9/site-packages/numpy/core/fromnumeric.py:59: FutureWarning: 'DataFrame.swapaxes' is deprecated and will be removed in a future version. Please use 'DataFrame.transpose' instead.\n",
      "  return bound(*args, **kwds)\n"
     ]
    },
    {
     "name": "stdout",
     "output_type": "stream",
     "text": [
      "['At iteration 2 the best fitness is 84.2083916083916']\n",
      "['At iteration 3 the best fitness is 84.2083916083916']\n",
      "['At iteration 4 the best fitness is 85.45454545454545']\n",
      "['At iteration 5 the best fitness is 85.45454545454545']\n",
      "['At iteration 6 the best fitness is 85.45454545454545']\n",
      "['At iteration 7 the best fitness is 85.45454545454545']\n",
      "['At iteration 8 the best fitness is 85.45454545454545']\n",
      "['At iteration 9 the best fitness is 85.45454545454545']\n",
      "['At iteration 10 the best fitness is 85.45454545454545']\n",
      "['At iteration 11 the best fitness is 85.45454545454545']\n",
      "['At iteration 12 the best fitness is 87.27272727272728']\n",
      "['At iteration 13 the best fitness is 87.27272727272728']\n",
      "['At iteration 14 the best fitness is 87.27272727272728']\n",
      "['At iteration 15 the best fitness is 87.27272727272728']\n",
      "['At iteration 16 the best fitness is 88.12167832167833']\n",
      "['At iteration 17 the best fitness is 88.12167832167833']\n",
      "['At iteration 18 the best fitness is 88.12167832167833']\n",
      "['At iteration 19 the best fitness is 88.12167832167833']\n",
      "['At iteration 20 the best fitness is 88.12167832167833']\n",
      "{'real': array([15920.6757207 , 10532.58875763]), 'discrete': array([0, 1, 0, 0, 0, 0, 0, 1, 1, 1, 0, 0, 1, 1, 0, 0, 1, 0, 0, 1, 0, 0])}\n",
      "[[849   3]\n",
      " [  6 767]]\n",
      "Test accuracy:  99.44615384615385  - Fitness:  85.12223776223776\n",
      "GSA is optimizing  \"get_fitness\"\n",
      "['At iteration 1 the best fitness is 81.81818181818181']\n"
     ]
    },
    {
     "name": "stderr",
     "output_type": "stream",
     "text": [
      "/Users/uclm/PycharmProjects/GSA_M/venv/lib/python3.9/site-packages/numpy/core/fromnumeric.py:59: FutureWarning: 'DataFrame.swapaxes' is deprecated and will be removed in a future version. Please use 'DataFrame.transpose' instead.\n",
      "  return bound(*args, **kwds)\n"
     ]
    },
    {
     "name": "stdout",
     "output_type": "stream",
     "text": [
      "['At iteration 2 the best fitness is 84.5034965034965']\n",
      "['At iteration 3 the best fitness is 84.5034965034965']\n",
      "['At iteration 4 the best fitness is 84.5034965034965']\n",
      "['At iteration 5 the best fitness is 84.76223776223776']\n",
      "['At iteration 6 the best fitness is 84.8083916083916']\n",
      "['At iteration 7 the best fitness is 84.8083916083916']\n",
      "['At iteration 8 the best fitness is 85.36223776223775']\n",
      "['At iteration 9 the best fitness is 85.36223776223775']\n",
      "['At iteration 10 the best fitness is 88.67552447552447']\n",
      "['At iteration 11 the best fitness is 88.67552447552447']\n",
      "['At iteration 12 the best fitness is 88.67552447552447']\n",
      "['At iteration 13 the best fitness is 88.67552447552447']\n",
      "['At iteration 14 the best fitness is 88.67552447552447']\n",
      "['At iteration 15 the best fitness is 88.67552447552447']\n",
      "['At iteration 16 the best fitness is 88.67552447552447']\n",
      "['At iteration 17 the best fitness is 88.67552447552447']\n",
      "['At iteration 18 the best fitness is 88.67552447552447']\n",
      "['At iteration 19 the best fitness is 88.67552447552447']\n",
      "['At iteration 20 the best fitness is 89.04475524475524']\n",
      "{'real': array([60646.51919617, 77018.59260423]), 'discrete': array([0, 0, 0, 0, 1, 0, 1, 0, 0, 1, 0, 0, 0, 0, 0, 0, 0, 0, 0, 0, 0, 1])}\n",
      "[[849   0]\n",
      " [ 11 765]]\n",
      "Test accuracy:  99.32307692307693  - Fitness:  92.32111888111888\n",
      "GSA is optimizing  \"get_fitness\"\n",
      "['At iteration 1 the best fitness is 87.0881118881119']\n"
     ]
    },
    {
     "name": "stderr",
     "output_type": "stream",
     "text": [
      "/Users/uclm/PycharmProjects/GSA_M/venv/lib/python3.9/site-packages/numpy/core/fromnumeric.py:59: FutureWarning: 'DataFrame.swapaxes' is deprecated and will be removed in a future version. Please use 'DataFrame.transpose' instead.\n",
      "  return bound(*args, **kwds)\n"
     ]
    },
    {
     "name": "stdout",
     "output_type": "stream",
     "text": [
      "['At iteration 2 the best fitness is 87.0881118881119']\n",
      "['At iteration 3 the best fitness is 87.0881118881119']\n",
      "['At iteration 4 the best fitness is 87.0881118881119']\n",
      "['At iteration 5 the best fitness is 87.0881118881119']\n",
      "['At iteration 6 the best fitness is 87.0881118881119']\n",
      "['At iteration 7 the best fitness is 87.0881118881119']\n",
      "['At iteration 8 the best fitness is 87.22657342657342']\n",
      "['At iteration 9 the best fitness is 87.22657342657342']\n",
      "['At iteration 10 the best fitness is 87.22657342657342']\n",
      "['At iteration 11 the best fitness is 87.22657342657342']\n",
      "['At iteration 12 the best fitness is 87.22657342657342']\n",
      "['At iteration 13 the best fitness is 88.3986013986014']\n",
      "['At iteration 14 the best fitness is 88.3986013986014']\n",
      "['At iteration 15 the best fitness is 89.0909090909091']\n",
      "['At iteration 16 the best fitness is 89.0909090909091']\n",
      "['At iteration 17 the best fitness is 90.86293706293705']\n",
      "['At iteration 18 the best fitness is 92.03496503496504']\n",
      "['At iteration 19 the best fitness is 92.03496503496504']\n",
      "['At iteration 20 the best fitness is 92.03496503496504']\n",
      "{'real': array([97898.08670878, 62512.80226734]), 'discrete': array([0, 0, 0, 0, 1, 0, 0, 0, 1, 1, 1, 1, 0, 0, 0, 0, 0, 1, 0, 0, 0, 0])}\n",
      "[[853   0]\n",
      " [  4 768]]\n",
      "Test accuracy:  99.75384615384615  - Fitness:  88.94321678321678\n",
      "GSA is optimizing  \"get_fitness\"\n"
     ]
    },
    {
     "name": "stderr",
     "output_type": "stream",
     "text": [
      "/Users/uclm/PycharmProjects/GSA_M/venv/lib/python3.9/site-packages/numpy/core/fromnumeric.py:59: FutureWarning: 'DataFrame.swapaxes' is deprecated and will be removed in a future version. Please use 'DataFrame.transpose' instead.\n",
      "  return bound(*args, **kwds)\n"
     ]
    },
    {
     "name": "stdout",
     "output_type": "stream",
     "text": [
      "['At iteration 1 the best fitness is 81.81818181818181']\n",
      "['At iteration 2 the best fitness is 85.45454545454545']\n",
      "['At iteration 3 the best fitness is 86.9958041958042']\n",
      "['At iteration 4 the best fitness is 86.9958041958042']\n",
      "['At iteration 5 the best fitness is 87.44755244755244']\n",
      "['At iteration 6 the best fitness is 87.44755244755244']\n",
      "['At iteration 7 the best fitness is 87.44755244755244']\n",
      "['At iteration 8 the best fitness is 87.44755244755244']\n",
      "['At iteration 9 the best fitness is 87.44755244755244']\n",
      "['At iteration 10 the best fitness is 87.44755244755244']\n",
      "['At iteration 11 the best fitness is 87.44755244755244']\n",
      "['At iteration 12 the best fitness is 87.44755244755244']\n",
      "['At iteration 13 the best fitness is 87.44755244755244']\n",
      "['At iteration 14 the best fitness is 87.44755244755244']\n",
      "['At iteration 15 the best fitness is 87.44755244755244']\n",
      "['At iteration 16 the best fitness is 87.44755244755244']\n",
      "['At iteration 17 the best fitness is 87.44755244755244']\n",
      "['At iteration 18 the best fitness is 87.44755244755244']\n",
      "['At iteration 19 the best fitness is 87.44755244755244']\n",
      "['At iteration 20 the best fitness is 87.44755244755244']\n",
      "{'real': array([45548.41487842, 69354.18705583]), 'discrete': array([1, 1, 0, 0, 1, 1, 0, 0, 1, 0, 0, 1, 0, 0, 1, 1, 1, 0, 1, 0, 0, 0])}\n",
      "[[846   1]\n",
      " [  2 776]]\n",
      "Test accuracy:  99.81538461538462  - Fitness:  81.70741258741258\n",
      "GSA is optimizing  \"get_fitness\"\n",
      "['At iteration 1 the best fitness is 81.81818181818181']\n"
     ]
    },
    {
     "name": "stderr",
     "output_type": "stream",
     "text": [
      "/Users/uclm/PycharmProjects/GSA_M/venv/lib/python3.9/site-packages/numpy/core/fromnumeric.py:59: FutureWarning: 'DataFrame.swapaxes' is deprecated and will be removed in a future version. Please use 'DataFrame.transpose' instead.\n",
      "  return bound(*args, **kwds)\n"
     ]
    },
    {
     "name": "stdout",
     "output_type": "stream",
     "text": [
      "['At iteration 2 the best fitness is 81.81818181818181']\n",
      "['At iteration 3 the best fitness is 81.81818181818181']\n",
      "['At iteration 4 the best fitness is 81.81818181818181']\n",
      "['At iteration 5 the best fitness is 83.63636363636363']\n",
      "['At iteration 6 the best fitness is 83.63636363636363']\n",
      "['At iteration 7 the best fitness is 83.63636363636363']\n",
      "['At iteration 8 the best fitness is 83.63636363636363']\n",
      "['At iteration 9 the best fitness is 87.27272727272728']\n",
      "['At iteration 10 the best fitness is 87.27272727272728']\n",
      "['At iteration 11 the best fitness is 87.27272727272728']\n",
      "['At iteration 12 the best fitness is 87.27272727272728']\n",
      "['At iteration 13 the best fitness is 87.27272727272728']\n",
      "['At iteration 14 the best fitness is 87.27272727272728']\n",
      "['At iteration 15 the best fitness is 87.27272727272728']\n",
      "['At iteration 16 the best fitness is 87.27272727272728']\n",
      "['At iteration 17 the best fitness is 87.27272727272728']\n",
      "['At iteration 18 the best fitness is 87.27272727272728']\n",
      "['At iteration 19 the best fitness is 87.27272727272728']\n",
      "['At iteration 20 the best fitness is 87.27272727272728']\n",
      "{'real': array([ 3880.35684887, 95698.4809293 ]), 'discrete': array([0, 0, 0, 1, 1, 0, 0, 0, 0, 1, 0, 0, 1, 1, 0, 1, 1, 0, 1, 0, 0, 0])}\n",
      "[[819   3]\n",
      " [  0 803]]\n",
      "Test accuracy:  99.81538461538462  - Fitness:  85.34377622377622\n",
      "GSA is optimizing  \"get_fitness\"\n",
      "['At iteration 1 the best fitness is 84.76223776223776']\n"
     ]
    },
    {
     "name": "stderr",
     "output_type": "stream",
     "text": [
      "/Users/uclm/PycharmProjects/GSA_M/venv/lib/python3.9/site-packages/numpy/core/fromnumeric.py:59: FutureWarning: 'DataFrame.swapaxes' is deprecated and will be removed in a future version. Please use 'DataFrame.transpose' instead.\n",
      "  return bound(*args, **kwds)\n"
     ]
    },
    {
     "name": "stdout",
     "output_type": "stream",
     "text": [
      "['At iteration 2 the best fitness is 84.76223776223776']\n",
      "['At iteration 3 the best fitness is 84.76223776223776']\n",
      "['At iteration 4 the best fitness is 84.76223776223776']\n",
      "['At iteration 5 the best fitness is 84.76223776223776']\n",
      "['At iteration 6 the best fitness is 85.36223776223775']\n",
      "['At iteration 7 the best fitness is 85.36223776223775']\n",
      "['At iteration 8 the best fitness is 86.9958041958042']\n",
      "['At iteration 9 the best fitness is 86.9958041958042']\n",
      "['At iteration 10 the best fitness is 86.9958041958042']\n",
      "['At iteration 11 the best fitness is 86.9958041958042']\n",
      "['At iteration 12 the best fitness is 86.9958041958042']\n",
      "['At iteration 13 the best fitness is 86.9958041958042']\n",
      "['At iteration 14 the best fitness is 86.9958041958042']\n",
      "['At iteration 15 the best fitness is 86.9958041958042']\n",
      "['At iteration 16 the best fitness is 86.9958041958042']\n",
      "['At iteration 17 the best fitness is 86.9958041958042']\n",
      "['At iteration 18 the best fitness is 86.9958041958042']\n",
      "['At iteration 19 the best fitness is 86.9958041958042']\n",
      "['At iteration 20 the best fitness is 88.3986013986014']\n",
      "{'real': array([52801.06274848, 71856.96926129]), 'discrete': array([1, 1, 0, 0, 0, 0, 0, 1, 0, 1, 1, 1, 0, 1, 0, 0, 0, 1, 1, 1, 1, 0])}\n",
      "[[838   0]\n",
      " [  0 787]]\n",
      "Test accuracy:  100.0  - Fitness:  80.0\n",
      "GSA is optimizing  \"get_fitness\"\n",
      "['At iteration 1 the best fitness is 85.3159773252152']\n"
     ]
    },
    {
     "name": "stderr",
     "output_type": "stream",
     "text": [
      "/Users/uclm/PycharmProjects/GSA_M/venv/lib/python3.9/site-packages/numpy/core/fromnumeric.py:59: FutureWarning: 'DataFrame.swapaxes' is deprecated and will be removed in a future version. Please use 'DataFrame.transpose' instead.\n",
      "  return bound(*args, **kwds)\n"
     ]
    },
    {
     "name": "stdout",
     "output_type": "stream",
     "text": [
      "['At iteration 2 the best fitness is 85.45454545454545']\n",
      "['At iteration 3 the best fitness is 85.45454545454545']\n",
      "['At iteration 4 the best fitness is 86.9958041958042']\n",
      "['At iteration 5 the best fitness is 86.9958041958042']\n",
      "['At iteration 6 the best fitness is 88.81398601398601']\n",
      "['At iteration 7 the best fitness is 88.81398601398601']\n",
      "['At iteration 8 the best fitness is 88.81398601398601']\n",
      "['At iteration 9 the best fitness is 88.81398601398601']\n",
      "['At iteration 10 the best fitness is 88.81398601398601']\n",
      "['At iteration 11 the best fitness is 88.81398601398601']\n",
      "['At iteration 12 the best fitness is 88.81398601398601']\n",
      "['At iteration 13 the best fitness is 88.81398601398601']\n",
      "['At iteration 14 the best fitness is 88.81398601398601']\n",
      "['At iteration 15 the best fitness is 88.81398601398601']\n",
      "['At iteration 16 the best fitness is 88.81398601398601']\n",
      "['At iteration 17 the best fitness is 88.81398601398601']\n",
      "['At iteration 18 the best fitness is 88.81398601398601']\n",
      "['At iteration 19 the best fitness is 90.35524475524475']\n",
      "['At iteration 20 the best fitness is 90.35524475524475']\n",
      "{'real': array([66108.04162867, 34595.55479775]), 'discrete': array([0, 1, 0, 0, 0, 0, 0, 0, 0, 1, 1, 1, 0, 0, 0, 0, 0, 1, 0, 0, 0, 0])}\n",
      "[[796  19]\n",
      " [  3 807]]\n",
      "Test accuracy:  98.64615384615385  - Fitness:  90.09678321678322\n",
      "Running GSA with wa = 0.7000000000000001, wf = 0.29999999999999993\n",
      "GSA is optimizing  \"get_fitness\"\n",
      "['At iteration 1 the best fitness is 85.0']\n"
     ]
    },
    {
     "name": "stderr",
     "output_type": "stream",
     "text": [
      "/Users/uclm/PycharmProjects/GSA_M/venv/lib/python3.9/site-packages/numpy/core/fromnumeric.py:59: FutureWarning: 'DataFrame.swapaxes' is deprecated and will be removed in a future version. Please use 'DataFrame.transpose' instead.\n",
      "  return bound(*args, **kwds)\n"
     ]
    },
    {
     "name": "stdout",
     "output_type": "stream",
     "text": [
      "['At iteration 2 the best fitness is 86.30979020979021']\n",
      "['At iteration 3 the best fitness is 87.56573426573426']\n",
      "['At iteration 4 the best fitness is 87.56573426573426']\n",
      "['At iteration 5 the best fitness is 87.72727272727272']\n",
      "['At iteration 6 the best fitness is 87.72727272727272']\n",
      "['At iteration 7 the best fitness is 87.72727272727272']\n",
      "['At iteration 8 the best fitness is 88.92937062937062']\n",
      "['At iteration 9 the best fitness is 88.92937062937062']\n",
      "['At iteration 10 the best fitness is 91.44125874125874']\n",
      "['At iteration 11 the best fitness is 91.44125874125874']\n",
      "['At iteration 12 the best fitness is 92.8048951048951']\n",
      "['At iteration 13 the best fitness is 92.8048951048951']\n",
      "['At iteration 14 the best fitness is 92.8048951048951']\n",
      "['At iteration 15 the best fitness is 92.8048951048951']\n",
      "['At iteration 16 the best fitness is 92.8048951048951']\n",
      "['At iteration 17 the best fitness is 92.8048951048951']\n",
      "['At iteration 18 the best fitness is 92.8048951048951']\n",
      "['At iteration 19 the best fitness is 92.8048951048951']\n",
      "['At iteration 20 the best fitness is 92.8048951048951']\n",
      "{'real': array([16581.44974021, 25646.24870785]), 'discrete': array([0, 0, 0, 0, 1, 0, 0, 0, 0, 0, 1, 1, 0, 1, 0, 0, 0, 1, 0, 0, 1, 1])}\n",
      "[[846   0]\n",
      " [  0 779]]\n",
      "Test accuracy:  100.0  - Fitness:  90.45454545454545\n",
      "GSA is optimizing  \"get_fitness\"\n",
      "['At iteration 1 the best fitness is 87.35034965034964']\n"
     ]
    },
    {
     "name": "stderr",
     "output_type": "stream",
     "text": [
      "/Users/uclm/PycharmProjects/GSA_M/venv/lib/python3.9/site-packages/numpy/core/fromnumeric.py:59: FutureWarning: 'DataFrame.swapaxes' is deprecated and will be removed in a future version. Please use 'DataFrame.transpose' instead.\n",
      "  return bound(*args, **kwds)\n"
     ]
    },
    {
     "name": "stdout",
     "output_type": "stream",
     "text": [
      "['At iteration 2 the best fitness is 88.87552447552449']\n",
      "['At iteration 3 the best fitness is 89.0909090909091']\n",
      "['At iteration 4 the best fitness is 89.0909090909091']\n",
      "['At iteration 5 the best fitness is 89.0909090909091']\n",
      "['At iteration 6 the best fitness is 89.0909090909091']\n",
      "['At iteration 7 the best fitness is 89.0909090909091']\n",
      "['At iteration 8 the best fitness is 89.0909090909091']\n",
      "['At iteration 9 the best fitness is 89.0909090909091']\n",
      "['At iteration 10 the best fitness is 89.0909090909091']\n",
      "['At iteration 11 the best fitness is 89.0909090909091']\n",
      "['At iteration 12 the best fitness is 89.0909090909091']\n",
      "['At iteration 13 the best fitness is 89.0909090909091']\n",
      "['At iteration 14 the best fitness is 89.0909090909091']\n",
      "['At iteration 15 the best fitness is 89.0909090909091']\n",
      "['At iteration 16 the best fitness is 89.0909090909091']\n",
      "['At iteration 17 the best fitness is 89.0909090909091']\n",
      "['At iteration 18 the best fitness is 89.0909090909091']\n",
      "['At iteration 19 the best fitness is 91.17202797202798']\n",
      "['At iteration 20 the best fitness is 91.17202797202798']\n",
      "{'real': array([92586.86663681, 49196.15670764]), 'discrete': array([0, 0, 1, 1, 0, 0, 0, 1, 0, 1, 1, 0, 0, 1, 0, 0, 0, 0, 0, 1, 1, 0])}\n",
      "[[848   0]\n",
      " [  0 777]]\n",
      "Test accuracy:  100.0  - Fitness:  89.0909090909091\n",
      "GSA is optimizing  \"get_fitness\"\n"
     ]
    },
    {
     "name": "stderr",
     "output_type": "stream",
     "text": [
      "/Users/uclm/PycharmProjects/GSA_M/venv/lib/python3.9/site-packages/numpy/core/fromnumeric.py:59: FutureWarning: 'DataFrame.swapaxes' is deprecated and will be removed in a future version. Please use 'DataFrame.transpose' instead.\n",
      "  return bound(*args, **kwds)\n"
     ]
    },
    {
     "name": "stdout",
     "output_type": "stream",
     "text": [
      "['At iteration 1 the best fitness is 86.36363636363636']\n",
      "['At iteration 2 the best fitness is 91.54895104895105']\n",
      "['At iteration 3 the best fitness is 91.54895104895105']\n",
      "['At iteration 4 the best fitness is 91.54895104895105']\n",
      "['At iteration 5 the best fitness is 91.54895104895105']\n",
      "['At iteration 6 the best fitness is 91.54895104895105']\n",
      "['At iteration 7 the best fitness is 91.54895104895105']\n",
      "['At iteration 8 the best fitness is 91.54895104895105']\n",
      "['At iteration 9 the best fitness is 91.54895104895105']\n",
      "['At iteration 10 the best fitness is 91.54895104895105']\n",
      "['At iteration 11 the best fitness is 91.54895104895105']\n",
      "['At iteration 12 the best fitness is 91.54895104895105']\n",
      "['At iteration 13 the best fitness is 91.54895104895105']\n",
      "['At iteration 14 the best fitness is 91.54895104895105']\n",
      "['At iteration 15 the best fitness is 91.54895104895105']\n",
      "['At iteration 16 the best fitness is 91.54895104895105']\n",
      "['At iteration 17 the best fitness is 91.54895104895105']\n",
      "['At iteration 18 the best fitness is 91.81818181818181']\n",
      "['At iteration 19 the best fitness is 91.81818181818181']\n",
      "['At iteration 20 the best fitness is 91.81818181818181']\n",
      "{'real': array([26169.80321279, 39585.33075225]), 'discrete': array([0, 1, 0, 1, 0, 0, 0, 1, 1, 1, 1, 0, 0, 0, 1, 1, 1, 0, 0, 1, 0, 1])}\n",
      "[[836   0]\n",
      " [  0 789]]\n",
      "Test accuracy:  100.0  - Fitness:  85.0\n",
      "GSA is optimizing  \"get_fitness\"\n"
     ]
    },
    {
     "name": "stderr",
     "output_type": "stream",
     "text": [
      "/Users/uclm/PycharmProjects/GSA_M/venv/lib/python3.9/site-packages/numpy/core/fromnumeric.py:59: FutureWarning: 'DataFrame.swapaxes' is deprecated and will be removed in a future version. Please use 'DataFrame.transpose' instead.\n",
      "  return bound(*args, **kwds)\n"
     ]
    },
    {
     "name": "stdout",
     "output_type": "stream",
     "text": [
      "['At iteration 1 the best fitness is 87.67338512142207']\n",
      "['At iteration 2 the best fitness is 89.0909090909091']\n",
      "['At iteration 3 the best fitness is 89.0909090909091']\n",
      "['At iteration 4 the best fitness is 90.45454545454545']\n",
      "['At iteration 5 the best fitness is 90.45454545454545']\n",
      "['At iteration 6 the best fitness is 90.45454545454545']\n",
      "['At iteration 7 the best fitness is 90.45454545454545']\n",
      "['At iteration 8 the best fitness is 90.45454545454545']\n",
      "['At iteration 9 the best fitness is 90.45454545454545']\n",
      "['At iteration 10 the best fitness is 90.45454545454545']\n",
      "['At iteration 11 the best fitness is 90.45454545454545']\n",
      "['At iteration 12 the best fitness is 90.45454545454545']\n",
      "['At iteration 13 the best fitness is 90.45454545454545']\n",
      "['At iteration 14 the best fitness is 90.45454545454545']\n",
      "['At iteration 15 the best fitness is 90.45454545454545']\n",
      "['At iteration 16 the best fitness is 90.45454545454545']\n",
      "['At iteration 17 the best fitness is 91.71048951048952']\n",
      "['At iteration 18 the best fitness is 91.71048951048952']\n",
      "['At iteration 19 the best fitness is 91.71048951048952']\n",
      "['At iteration 20 the best fitness is 91.71048951048952']\n",
      "{'real': array([48627.32454558, 30162.47308619]), 'discrete': array([1, 0, 0, 0, 1, 0, 1, 0, 0, 1, 0, 0, 0, 0, 1, 1, 0, 1, 1, 0, 0, 0])}\n",
      "[[812   2]\n",
      " [  0 811]]\n",
      "Test accuracy:  99.87692307692308  - Fitness:  89.00475524475524\n",
      "GSA is optimizing  \"get_fitness\"\n"
     ]
    },
    {
     "name": "stderr",
     "output_type": "stream",
     "text": [
      "/Users/uclm/PycharmProjects/GSA_M/venv/lib/python3.9/site-packages/numpy/core/fromnumeric.py:59: FutureWarning: 'DataFrame.swapaxes' is deprecated and will be removed in a future version. Please use 'DataFrame.transpose' instead.\n",
      "  return bound(*args, **kwds)\n"
     ]
    },
    {
     "name": "stdout",
     "output_type": "stream",
     "text": [
      "['At iteration 1 the best fitness is 90.4006993006993']\n",
      "['At iteration 2 the best fitness is 91.83462803555182']\n",
      "['At iteration 3 the best fitness is 91.83462803555182']\n",
      "['At iteration 4 the best fitness is 91.83462803555182']\n",
      "['At iteration 5 the best fitness is 91.83462803555182']\n",
      "['At iteration 6 the best fitness is 91.83462803555182']\n",
      "['At iteration 7 the best fitness is 91.83462803555182']\n",
      "['At iteration 8 the best fitness is 91.83462803555182']\n",
      "['At iteration 9 the best fitness is 91.83462803555182']\n",
      "['At iteration 10 the best fitness is 91.83462803555182']\n",
      "['At iteration 11 the best fitness is 91.83462803555182']\n",
      "['At iteration 12 the best fitness is 91.83462803555182']\n",
      "['At iteration 13 the best fitness is 91.83462803555182']\n",
      "['At iteration 14 the best fitness is 91.83462803555182']\n",
      "['At iteration 15 the best fitness is 91.83462803555182']\n",
      "['At iteration 16 the best fitness is 91.83462803555182']\n",
      "['At iteration 17 the best fitness is 91.83462803555182']\n",
      "['At iteration 18 the best fitness is 91.83462803555182']\n",
      "['At iteration 19 the best fitness is 91.83462803555182']\n",
      "['At iteration 20 the best fitness is 91.83462803555182']\n",
      "{'real': array([18628.79928014, 15268.26778434]), 'discrete': array([0, 0, 0, 1, 1, 0, 0, 0, 1, 1, 0, 0, 1, 1, 0, 1, 1, 1, 0, 0, 0, 1])}\n",
      "[[847   0]\n",
      " [  0 778]]\n",
      "Test accuracy:  100.0  - Fitness:  86.36363636363636\n",
      "GSA is optimizing  \"get_fitness\"\n",
      "['At iteration 1 the best fitness is 87.40419580419581']\n"
     ]
    },
    {
     "name": "stderr",
     "output_type": "stream",
     "text": [
      "/Users/uclm/PycharmProjects/GSA_M/venv/lib/python3.9/site-packages/numpy/core/fromnumeric.py:59: FutureWarning: 'DataFrame.swapaxes' is deprecated and will be removed in a future version. Please use 'DataFrame.transpose' instead.\n",
      "  return bound(*args, **kwds)\n"
     ]
    },
    {
     "name": "stdout",
     "output_type": "stream",
     "text": [
      "['At iteration 2 the best fitness is 88.94685314685316']\n",
      "['At iteration 3 the best fitness is 88.94685314685316']\n",
      "['At iteration 4 the best fitness is 89.26993006993007']\n",
      "['At iteration 5 the best fitness is 89.26993006993007']\n",
      "['At iteration 6 the best fitness is 89.26993006993007']\n",
      "['At iteration 7 the best fitness is 89.26993006993007']\n",
      "['At iteration 8 the best fitness is 89.26993006993007']\n",
      "['At iteration 9 the best fitness is 89.26993006993007']\n",
      "['At iteration 10 the best fitness is 89.26993006993007']\n",
      "['At iteration 11 the best fitness is 89.26993006993007']\n",
      "['At iteration 12 the best fitness is 89.26993006993007']\n",
      "['At iteration 13 the best fitness is 89.26993006993007']\n",
      "['At iteration 14 the best fitness is 89.26993006993007']\n",
      "['At iteration 15 the best fitness is 89.26993006993007']\n",
      "['At iteration 16 the best fitness is 89.26993006993007']\n",
      "['At iteration 17 the best fitness is 89.26993006993007']\n",
      "['At iteration 18 the best fitness is 89.86223776223777']\n",
      "['At iteration 19 the best fitness is 89.86223776223777']\n",
      "['At iteration 20 the best fitness is 91.81818181818181']\n",
      "{'real': array([20031.51755826, 63448.01093279]), 'discrete': array([0, 1, 0, 0, 0, 0, 0, 1, 0, 0, 0, 1, 1, 0, 0, 0, 0, 0, 1, 1, 0, 1])}\n",
      "[[821   9]\n",
      " [  0 795]]\n",
      "Test accuracy:  99.44615384615385  - Fitness:  90.06685314685315\n",
      "GSA is optimizing  \"get_fitness\"\n",
      "['At iteration 1 the best fitness is 88.76783216783218']\n"
     ]
    },
    {
     "name": "stderr",
     "output_type": "stream",
     "text": [
      "/Users/uclm/PycharmProjects/GSA_M/venv/lib/python3.9/site-packages/numpy/core/fromnumeric.py:59: FutureWarning: 'DataFrame.swapaxes' is deprecated and will be removed in a future version. Please use 'DataFrame.transpose' instead.\n",
      "  return bound(*args, **kwds)\n"
     ]
    },
    {
     "name": "stdout",
     "output_type": "stream",
     "text": [
      "['At iteration 2 the best fitness is 88.98321678321679']\n",
      "['At iteration 3 the best fitness is 88.98321678321679']\n",
      "['At iteration 4 the best fitness is 88.98321678321679']\n",
      "['At iteration 5 the best fitness is 89.0909090909091']\n",
      "['At iteration 6 the best fitness is 89.0909090909091']\n",
      "['At iteration 7 the best fitness is 89.0909090909091']\n",
      "['At iteration 8 the best fitness is 89.0909090909091']\n",
      "['At iteration 9 the best fitness is 89.0909090909091']\n",
      "['At iteration 10 the best fitness is 90.45454545454545']\n",
      "['At iteration 11 the best fitness is 90.45454545454545']\n",
      "['At iteration 12 the best fitness is 90.45454545454545']\n",
      "['At iteration 13 the best fitness is 90.45454545454545']\n",
      "['At iteration 14 the best fitness is 90.45454545454545']\n",
      "['At iteration 15 the best fitness is 90.45454545454545']\n",
      "['At iteration 16 the best fitness is 90.45454545454545']\n",
      "['At iteration 17 the best fitness is 90.45454545454545']\n",
      "['At iteration 18 the best fitness is 90.45454545454545']\n",
      "['At iteration 19 the best fitness is 90.45454545454545']\n",
      "['At iteration 20 the best fitness is 90.45454545454545']\n",
      "{'real': array([84360.73521902, 23995.69543402]), 'discrete': array([0, 1, 1, 0, 0, 0, 1, 1, 1, 0, 0, 0, 1, 1, 1, 0, 0, 1, 0, 1, 0, 1])}\n",
      "[[832   0]\n",
      " [  1 792]]\n",
      "Test accuracy:  99.93846153846154  - Fitness:  84.95692307692309\n",
      "GSA is optimizing  \"get_fitness\"\n",
      "['At iteration 1 the best fitness is 87.72727272727272']\n",
      "['At iteration 2 the best fitness is 88.92937062937062']\n"
     ]
    },
    {
     "name": "stderr",
     "output_type": "stream",
     "text": [
      "/Users/uclm/PycharmProjects/GSA_M/venv/lib/python3.9/site-packages/numpy/core/fromnumeric.py:59: FutureWarning: 'DataFrame.swapaxes' is deprecated and will be removed in a future version. Please use 'DataFrame.transpose' instead.\n",
      "  return bound(*args, **kwds)\n"
     ]
    },
    {
     "name": "stdout",
     "output_type": "stream",
     "text": [
      "['At iteration 3 the best fitness is 88.92937062937062']\n",
      "['At iteration 4 the best fitness is 90.293006993007']\n",
      "['At iteration 5 the best fitness is 90.293006993007']\n",
      "['At iteration 6 the best fitness is 90.293006993007']\n",
      "['At iteration 7 the best fitness is 90.293006993007']\n",
      "['At iteration 8 the best fitness is 90.34677024284414']\n",
      "['At iteration 9 the best fitness is 91.38741258741258']\n",
      "['At iteration 10 the best fitness is 91.38741258741258']\n",
      "['At iteration 11 the best fitness is 91.38741258741258']\n",
      "['At iteration 12 the best fitness is 91.38741258741258']\n",
      "['At iteration 13 the best fitness is 91.38741258741258']\n",
      "['At iteration 14 the best fitness is 91.38741258741258']\n",
      "['At iteration 15 the best fitness is 91.38741258741258']\n",
      "['At iteration 16 the best fitness is 91.38741258741258']\n",
      "['At iteration 17 the best fitness is 91.38741258741258']\n",
      "['At iteration 18 the best fitness is 91.81818181818181']\n",
      "['At iteration 19 the best fitness is 91.81818181818181']\n",
      "['At iteration 20 the best fitness is 91.81818181818181']\n",
      "{'real': array([96885.93218078, 58786.47618966]), 'discrete': array([1, 0, 0, 1, 1, 0, 0, 0, 0, 0, 0, 0, 0, 1, 1, 0, 0, 1, 0, 0, 0, 1])}\n",
      "[[844   0]\n",
      " [  0 781]]\n",
      "Test accuracy:  100.0  - Fitness:  90.45454545454545\n",
      "GSA is optimizing  \"get_fitness\"\n"
     ]
    },
    {
     "name": "stderr",
     "output_type": "stream",
     "text": [
      "/Users/uclm/PycharmProjects/GSA_M/venv/lib/python3.9/site-packages/numpy/core/fromnumeric.py:59: FutureWarning: 'DataFrame.swapaxes' is deprecated and will be removed in a future version. Please use 'DataFrame.transpose' instead.\n",
      "  return bound(*args, **kwds)\n"
     ]
    },
    {
     "name": "stdout",
     "output_type": "stream",
     "text": [
      "['At iteration 1 the best fitness is 87.72727272727272']\n",
      "['At iteration 2 the best fitness is 89.0909090909091']\n",
      "['At iteration 3 the best fitness is 89.0909090909091']\n",
      "['At iteration 4 the best fitness is 89.0909090909091']\n",
      "['At iteration 5 the best fitness is 89.0909090909091']\n",
      "['At iteration 6 the best fitness is 89.0909090909091']\n",
      "['At iteration 7 the best fitness is 89.0909090909091']\n",
      "['At iteration 8 the best fitness is 89.0909090909091']\n",
      "['At iteration 9 the best fitness is 89.0909090909091']\n",
      "['At iteration 10 the best fitness is 89.0909090909091']\n",
      "['At iteration 11 the best fitness is 89.0909090909091']\n",
      "['At iteration 12 the best fitness is 89.0909090909091']\n",
      "['At iteration 13 the best fitness is 89.0909090909091']\n",
      "['At iteration 14 the best fitness is 89.0909090909091']\n",
      "['At iteration 15 the best fitness is 89.0909090909091']\n",
      "['At iteration 16 the best fitness is 91.44125874125874']\n",
      "['At iteration 17 the best fitness is 91.44125874125874']\n",
      "['At iteration 18 the best fitness is 94.11468531468532']\n",
      "['At iteration 19 the best fitness is 94.11468531468532']\n",
      "['At iteration 20 the best fitness is 94.11468531468532']\n",
      "{'real': array([12326.71923315, 39010.17834825]), 'discrete': array([0, 0, 1, 0, 1, 0, 0, 1, 0, 0, 1, 0, 0, 0, 1, 1, 0, 1, 1, 0, 0, 0])}\n",
      "[[856   0]\n",
      " [  0 769]]\n",
      "Test accuracy:  100.0  - Fitness:  89.0909090909091\n",
      "GSA is optimizing  \"get_fitness\"\n"
     ]
    },
    {
     "name": "stderr",
     "output_type": "stream",
     "text": [
      "/Users/uclm/PycharmProjects/GSA_M/venv/lib/python3.9/site-packages/numpy/core/fromnumeric.py:59: FutureWarning: 'DataFrame.swapaxes' is deprecated and will be removed in a future version. Please use 'DataFrame.transpose' instead.\n",
      "  return bound(*args, **kwds)\n"
     ]
    },
    {
     "name": "stdout",
     "output_type": "stream",
     "text": [
      "['At iteration 1 the best fitness is 88.60629370629371']\n",
      "['At iteration 2 the best fitness is 88.60629370629371']\n",
      "['At iteration 3 the best fitness is 88.60629370629371']\n",
      "['At iteration 4 the best fitness is 88.60629370629371']\n",
      "['At iteration 5 the best fitness is 88.60629370629371']\n",
      "['At iteration 6 the best fitness is 88.60629370629371']\n",
      "['At iteration 7 the best fitness is 88.60629370629371']\n",
      "['At iteration 8 the best fitness is 88.60629370629371']\n",
      "['At iteration 9 the best fitness is 88.60629370629371']\n",
      "['At iteration 10 the best fitness is 90.45454545454545']\n",
      "['At iteration 11 the best fitness is 90.45454545454545']\n",
      "['At iteration 12 the best fitness is 90.45454545454545']\n",
      "['At iteration 13 the best fitness is 90.45454545454545']\n",
      "['At iteration 14 the best fitness is 91.81818181818181']\n",
      "['At iteration 15 the best fitness is 91.81818181818181']\n",
      "['At iteration 16 the best fitness is 91.81818181818181']\n",
      "['At iteration 17 the best fitness is 92.1040660648051']\n",
      "['At iteration 18 the best fitness is 92.1040660648051']\n",
      "['At iteration 19 the best fitness is 92.1040660648051']\n",
      "['At iteration 20 the best fitness is 92.1040660648051']\n",
      "{'real': array([61399.80676157, 24824.10196329]), 'discrete': array([0, 0, 0, 0, 1, 0, 0, 1, 0, 0, 0, 1, 1, 0, 1, 0, 1, 0, 0, 1, 1, 0])}\n",
      "[[826   0]\n",
      " [  0 799]]\n",
      "Test accuracy:  100.0  - Fitness:  89.0909090909091\n",
      "Running GSA with wa = 0.8, wf = 0.19999999999999996\n",
      "GSA is optimizing  \"get_fitness\"\n"
     ]
    },
    {
     "name": "stderr",
     "output_type": "stream",
     "text": [
      "/Users/uclm/PycharmProjects/GSA_M/venv/lib/python3.9/site-packages/numpy/core/fromnumeric.py:59: FutureWarning: 'DataFrame.swapaxes' is deprecated and will be removed in a future version. Please use 'DataFrame.transpose' instead.\n",
      "  return bound(*args, **kwds)\n"
     ]
    },
    {
     "name": "stdout",
     "output_type": "stream",
     "text": [
      "['At iteration 1 the best fitness is 90.9090909090909']\n",
      "['At iteration 2 the best fitness is 90.9090909090909']\n",
      "['At iteration 3 the best fitness is 90.9090909090909']\n",
      "['At iteration 4 the best fitness is 91.81818181818181']\n",
      "['At iteration 5 the best fitness is 93.63636363636364']\n",
      "['At iteration 6 the best fitness is 93.63636363636364']\n",
      "['At iteration 7 the best fitness is 93.63636363636364']\n",
      "['At iteration 8 the best fitness is 93.63636363636364']\n",
      "['At iteration 9 the best fitness is 93.63636363636364']\n",
      "['At iteration 10 the best fitness is 93.63636363636364']\n",
      "['At iteration 11 the best fitness is 93.63636363636364']\n",
      "['At iteration 12 the best fitness is 93.63636363636364']\n",
      "['At iteration 13 the best fitness is 93.63636363636364']\n",
      "['At iteration 14 the best fitness is 93.63636363636364']\n",
      "['At iteration 15 the best fitness is 93.63636363636364']\n",
      "['At iteration 16 the best fitness is 93.63636363636364']\n",
      "['At iteration 17 the best fitness is 93.63636363636364']\n",
      "['At iteration 18 the best fitness is 93.63636363636364']\n",
      "['At iteration 19 the best fitness is 93.63636363636364']\n",
      "['At iteration 20 the best fitness is 93.63636363636364']\n",
      "{'real': array([45482.36076824, 10071.73247118]), 'discrete': array([1, 1, 0, 1, 1, 0, 1, 1, 1, 0, 1, 0, 0, 1, 0, 1, 0, 1, 0, 0, 0, 1])}\n",
      "[[867   0]\n",
      " [  1 757]]\n",
      "Test accuracy:  99.93846153846154  - Fitness:  89.04167832167833\n",
      "GSA is optimizing  \"get_fitness\"\n"
     ]
    },
    {
     "name": "stderr",
     "output_type": "stream",
     "text": [
      "/Users/uclm/PycharmProjects/GSA_M/venv/lib/python3.9/site-packages/numpy/core/fromnumeric.py:59: FutureWarning: 'DataFrame.swapaxes' is deprecated and will be removed in a future version. Please use 'DataFrame.transpose' instead.\n",
      "  return bound(*args, **kwds)\n"
     ]
    },
    {
     "name": "stdout",
     "output_type": "stream",
     "text": [
      "['At iteration 1 the best fitness is 90.0']\n",
      "['At iteration 2 the best fitness is 93.51328671328673']\n",
      "['At iteration 3 the best fitness is 93.51328671328673']\n",
      "['At iteration 4 the best fitness is 93.51328671328673']\n",
      "['At iteration 5 the best fitness is 93.51328671328673']\n",
      "['At iteration 6 the best fitness is 93.51328671328673']\n",
      "['At iteration 7 the best fitness is 93.51328671328673']\n",
      "['At iteration 8 the best fitness is 93.51328671328673']\n",
      "['At iteration 9 the best fitness is 93.51328671328673']\n",
      "['At iteration 10 the best fitness is 93.51328671328673']\n",
      "['At iteration 11 the best fitness is 93.51328671328673']\n",
      "['At iteration 12 the best fitness is 93.51328671328673']\n",
      "['At iteration 13 the best fitness is 93.51328671328673']\n",
      "['At iteration 14 the best fitness is 93.51328671328673']\n",
      "['At iteration 15 the best fitness is 93.51328671328673']\n",
      "['At iteration 16 the best fitness is 93.51328671328673']\n",
      "['At iteration 17 the best fitness is 93.51328671328673']\n",
      "['At iteration 18 the best fitness is 93.51328671328673']\n",
      "['At iteration 19 the best fitness is 93.51328671328673']\n",
      "['At iteration 20 the best fitness is 93.51328671328673']\n",
      "{'real': array([65139.06371205, 18393.92463914]), 'discrete': array([1, 0, 0, 1, 1, 0, 1, 0, 1, 0, 0, 1, 1, 1, 1, 0, 1, 1, 1, 0, 0, 0])}\n",
      "[[852   0]\n",
      " [  1 772]]\n",
      "Test accuracy:  99.93846153846154  - Fitness:  89.04167832167833\n",
      "GSA is optimizing  \"get_fitness\"\n"
     ]
    },
    {
     "name": "stderr",
     "output_type": "stream",
     "text": [
      "/Users/uclm/PycharmProjects/GSA_M/venv/lib/python3.9/site-packages/numpy/core/fromnumeric.py:59: FutureWarning: 'DataFrame.swapaxes' is deprecated and will be removed in a future version. Please use 'DataFrame.transpose' instead.\n",
      "  return bound(*args, **kwds)\n"
     ]
    },
    {
     "name": "stdout",
     "output_type": "stream",
     "text": [
      "['At iteration 1 the best fitness is 91.81818181818181']\n",
      "['At iteration 2 the best fitness is 92.66568689201483']\n",
      "['At iteration 3 the best fitness is 92.72727272727272']\n",
      "['At iteration 4 the best fitness is 93.45160613058998']\n",
      "['At iteration 5 the best fitness is 93.45160613058998']\n",
      "['At iteration 6 the best fitness is 94.29911120442299']\n",
      "['At iteration 7 the best fitness is 94.29911120442299']\n",
      "['At iteration 8 the best fitness is 94.29911120442299']\n",
      "['At iteration 9 the best fitness is 94.29911120442299']\n",
      "['At iteration 10 the best fitness is 94.29911120442299']\n",
      "['At iteration 11 the best fitness is 94.29911120442299']\n",
      "['At iteration 12 the best fitness is 94.29911120442299']\n",
      "['At iteration 13 the best fitness is 94.29911120442299']\n",
      "['At iteration 14 the best fitness is 94.29911120442299']\n",
      "['At iteration 15 the best fitness is 94.29911120442299']\n",
      "['At iteration 16 the best fitness is 94.29911120442299']\n",
      "['At iteration 17 the best fitness is 94.29911120442299']\n",
      "['At iteration 18 the best fitness is 94.29911120442299']\n",
      "['At iteration 19 the best fitness is 94.29911120442299']\n",
      "['At iteration 20 the best fitness is 94.29911120442299']\n",
      "{'real': array([65488.6870062 , 60168.38731882]), 'discrete': array([1, 1, 0, 0, 1, 1, 1, 1, 1, 0, 0, 1, 1, 0, 0, 1, 0, 0, 1, 1, 1, 0])}\n",
      "[[860   0]\n",
      " [  0 765]]\n",
      "Test accuracy:  100.0  - Fitness:  88.18181818181819\n",
      "GSA is optimizing  \"get_fitness\"\n"
     ]
    },
    {
     "name": "stderr",
     "output_type": "stream",
     "text": [
      "/Users/uclm/PycharmProjects/GSA_M/venv/lib/python3.9/site-packages/numpy/core/fromnumeric.py:59: FutureWarning: 'DataFrame.swapaxes' is deprecated and will be removed in a future version. Please use 'DataFrame.transpose' instead.\n",
      "  return bound(*args, **kwds)\n"
     ]
    },
    {
     "name": "stdout",
     "output_type": "stream",
     "text": [
      "['At iteration 1 the best fitness is 90.81958041958042']\n",
      "['At iteration 2 the best fitness is 92.48111888111887']\n",
      "['At iteration 3 the best fitness is 92.48111888111887']\n",
      "['At iteration 4 the best fitness is 92.60410105675695']\n",
      "['At iteration 5 the best fitness is 92.60410105675695']\n",
      "['At iteration 6 the best fitness is 92.60410105675695']\n",
      "['At iteration 7 the best fitness is 92.60410105675695']\n",
      "['At iteration 8 the best fitness is 92.60410105675695']\n",
      "['At iteration 9 the best fitness is 92.71328671328673']\n",
      "['At iteration 10 the best fitness is 92.71328671328673']\n",
      "['At iteration 11 the best fitness is 93.56083916083917']\n",
      "['At iteration 12 the best fitness is 93.56083916083917']\n",
      "['At iteration 13 the best fitness is 93.56083916083917']\n",
      "['At iteration 14 the best fitness is 93.63636363636364']\n",
      "['At iteration 15 the best fitness is 93.63636363636364']\n",
      "['At iteration 16 the best fitness is 93.63636363636364']\n",
      "['At iteration 17 the best fitness is 93.63636363636364']\n",
      "['At iteration 18 the best fitness is 93.63636363636364']\n",
      "['At iteration 19 the best fitness is 93.63636363636364']\n",
      "['At iteration 20 the best fitness is 93.63636363636364']\n",
      "{'real': array([42566.50824799, 73719.45753766]), 'discrete': array([0, 0, 0, 1, 0, 0, 0, 0, 1, 0, 1, 0, 0, 0, 1, 0, 0, 0, 0, 0, 0, 0])}\n",
      "[[857   0]\n",
      " [ 49 719]]\n",
      "Test accuracy:  96.98461538461538  - Fitness:  93.95132867132867\n",
      "GSA is optimizing  \"get_fitness\"\n"
     ]
    },
    {
     "name": "stderr",
     "output_type": "stream",
     "text": [
      "/Users/uclm/PycharmProjects/GSA_M/venv/lib/python3.9/site-packages/numpy/core/fromnumeric.py:59: FutureWarning: 'DataFrame.swapaxes' is deprecated and will be removed in a future version. Please use 'DataFrame.transpose' instead.\n",
      "  return bound(*args, **kwds)\n"
     ]
    },
    {
     "name": "stdout",
     "output_type": "stream",
     "text": [
      "['At iteration 1 the best fitness is 93.26713286713289']\n",
      "['At iteration 2 the best fitness is 93.26713286713289']\n",
      "['At iteration 3 the best fitness is 93.26713286713289']\n",
      "['At iteration 4 the best fitness is 93.26713286713289']\n",
      "['At iteration 5 the best fitness is 93.26713286713289']\n",
      "['At iteration 6 the best fitness is 93.26713286713289']\n",
      "['At iteration 7 the best fitness is 93.26713286713289']\n",
      "['At iteration 8 the best fitness is 93.26713286713289']\n",
      "['At iteration 9 the best fitness is 93.26713286713289']\n",
      "['At iteration 10 the best fitness is 93.26713286713289']\n",
      "['At iteration 11 the best fitness is 93.26713286713289']\n",
      "['At iteration 12 the best fitness is 93.26713286713289']\n",
      "['At iteration 13 the best fitness is 93.26713286713289']\n",
      "['At iteration 14 the best fitness is 93.26713286713289']\n",
      "['At iteration 15 the best fitness is 93.51319196584787']\n",
      "['At iteration 16 the best fitness is 93.51319196584787']\n",
      "['At iteration 17 the best fitness is 93.51319196584787']\n",
      "['At iteration 18 the best fitness is 93.51319196584787']\n",
      "['At iteration 19 the best fitness is 93.63636363636364']\n",
      "['At iteration 20 the best fitness is 94.48391608391609']\n",
      "{'real': array([39994.49492235, 73589.72855722]), 'discrete': array([0, 0, 0, 1, 1, 1, 0, 1, 0, 1, 0, 0, 0, 0, 0, 0, 1, 0, 0, 1, 0, 1])}\n",
      "[[816   0]\n",
      " [  0 809]]\n",
      "Test accuracy:  100.0  - Fitness:  92.72727272727272\n",
      "GSA is optimizing  \"get_fitness\"\n",
      "['At iteration 1 the best fitness is 90.0']\n"
     ]
    },
    {
     "name": "stderr",
     "output_type": "stream",
     "text": [
      "/Users/uclm/PycharmProjects/GSA_M/venv/lib/python3.9/site-packages/numpy/core/fromnumeric.py:59: FutureWarning: 'DataFrame.swapaxes' is deprecated and will be removed in a future version. Please use 'DataFrame.transpose' instead.\n",
      "  return bound(*args, **kwds)\n"
     ]
    },
    {
     "name": "stdout",
     "output_type": "stream",
     "text": [
      "['At iteration 2 the best fitness is 90.9090909090909']\n",
      "['At iteration 3 the best fitness is 91.81818181818181']\n",
      "['At iteration 4 the best fitness is 91.81818181818181']\n",
      "['At iteration 5 the best fitness is 91.81818181818181']\n",
      "['At iteration 6 the best fitness is 92.05034965034966']\n",
      "['At iteration 7 the best fitness is 92.05034965034966']\n",
      "['At iteration 8 the best fitness is 92.05034965034966']\n",
      "['At iteration 9 the best fitness is 92.05034965034966']\n",
      "['At iteration 10 the best fitness is 92.05034965034966']\n",
      "['At iteration 11 the best fitness is 92.05034965034966']\n",
      "['At iteration 12 the best fitness is 93.63636363636364']\n",
      "['At iteration 13 the best fitness is 94.53146853146855']\n",
      "['At iteration 14 the best fitness is 94.53146853146855']\n",
      "['At iteration 15 the best fitness is 95.93286713286713']\n",
      "['At iteration 16 the best fitness is 95.93286713286713']\n",
      "['At iteration 17 the best fitness is 95.93286713286713']\n",
      "['At iteration 18 the best fitness is 95.93286713286713']\n",
      "['At iteration 19 the best fitness is 95.93286713286713']\n",
      "['At iteration 20 the best fitness is 95.93286713286713']\n",
      "{'real': array([79603.92611332, 58651.21079266]), 'discrete': array([1, 0, 1, 1, 1, 0, 1, 0, 1, 0, 1, 0, 1, 0, 0, 0, 0, 0, 0, 0, 0, 0])}\n",
      "[[893   0]\n",
      " [  0 732]]\n",
      "Test accuracy:  100.0  - Fitness:  92.72727272727272\n",
      "GSA is optimizing  \"get_fitness\"\n"
     ]
    },
    {
     "name": "stderr",
     "output_type": "stream",
     "text": [
      "/Users/uclm/PycharmProjects/GSA_M/venv/lib/python3.9/site-packages/numpy/core/fromnumeric.py:59: FutureWarning: 'DataFrame.swapaxes' is deprecated and will be removed in a future version. Please use 'DataFrame.transpose' instead.\n",
      "  return bound(*args, **kwds)\n"
     ]
    },
    {
     "name": "stdout",
     "output_type": "stream",
     "text": [
      "['At iteration 1 the best fitness is 90.0']\n",
      "['At iteration 2 the best fitness is 90.9090909090909']\n",
      "['At iteration 3 the best fitness is 90.9090909090909']\n",
      "['At iteration 4 the best fitness is 91.81818181818181']\n",
      "['At iteration 5 the best fitness is 91.81818181818181']\n",
      "['At iteration 6 the best fitness is 92.66573426573426']\n",
      "['At iteration 7 the best fitness is 92.66573426573426']\n",
      "['At iteration 8 the best fitness is 92.66573426573426']\n",
      "['At iteration 9 the best fitness is 92.72727272727272']\n",
      "['At iteration 10 the best fitness is 92.72727272727272']\n",
      "['At iteration 11 the best fitness is 92.72727272727272']\n",
      "['At iteration 12 the best fitness is 93.32867132867133']\n",
      "['At iteration 13 the best fitness is 93.32867132867133']\n",
      "['At iteration 14 the best fitness is 93.57482517482518']\n",
      "['At iteration 15 the best fitness is 93.57482517482518']\n",
      "['At iteration 16 the best fitness is 93.57482517482518']\n",
      "['At iteration 17 the best fitness is 93.57482517482518']\n",
      "['At iteration 18 the best fitness is 93.74545454545455']\n",
      "['At iteration 19 the best fitness is 93.74545454545455']\n",
      "['At iteration 20 the best fitness is 94.54545454545455']\n",
      "{'real': array([28067.62641439, 96918.41609945]), 'discrete': array([0, 0, 1, 1, 0, 0, 0, 0, 0, 1, 1, 1, 0, 0, 1, 1, 0, 1, 0, 1, 0, 1])}\n",
      "[[836   0]\n",
      " [  0 789]]\n",
      "Test accuracy:  100.0  - Fitness:  90.9090909090909\n",
      "GSA is optimizing  \"get_fitness\"\n",
      "['At iteration 1 the best fitness is 92.43916083916083']\n"
     ]
    },
    {
     "name": "stderr",
     "output_type": "stream",
     "text": [
      "/Users/uclm/PycharmProjects/GSA_M/venv/lib/python3.9/site-packages/numpy/core/fromnumeric.py:59: FutureWarning: 'DataFrame.swapaxes' is deprecated and will be removed in a future version. Please use 'DataFrame.transpose' instead.\n",
      "  return bound(*args, **kwds)\n"
     ]
    },
    {
     "name": "stdout",
     "output_type": "stream",
     "text": [
      "['At iteration 2 the best fitness is 92.43916083916083']\n",
      "['At iteration 3 the best fitness is 92.72727272727272']\n",
      "['At iteration 4 the best fitness is 92.72727272727272']\n",
      "['At iteration 5 the best fitness is 92.72727272727272']\n",
      "['At iteration 6 the best fitness is 92.72727272727272']\n",
      "['At iteration 7 the best fitness is 92.72727272727272']\n",
      "['At iteration 8 the best fitness is 92.72727272727272']\n",
      "['At iteration 9 the best fitness is 92.72727272727272']\n",
      "['At iteration 10 the best fitness is 92.72727272727272']\n",
      "['At iteration 11 the best fitness is 92.72727272727272']\n",
      "['At iteration 12 the best fitness is 94.54545454545455']\n",
      "['At iteration 13 the best fitness is 94.54545454545455']\n",
      "['At iteration 14 the best fitness is 94.54545454545455']\n",
      "['At iteration 15 the best fitness is 94.54545454545455']\n",
      "['At iteration 16 the best fitness is 94.54545454545455']\n",
      "['At iteration 17 the best fitness is 94.54545454545455']\n",
      "['At iteration 18 the best fitness is 94.54545454545455']\n",
      "['At iteration 19 the best fitness is 94.54545454545455']\n",
      "['At iteration 20 the best fitness is 94.54545454545455']\n",
      "{'real': array([33245.48514205, 66752.71105532]), 'discrete': array([0, 0, 1, 1, 0, 1, 1, 1, 1, 0, 0, 0, 0, 1, 1, 0, 1, 1, 1, 1, 0, 1])}\n",
      "[[847   0]\n",
      " [  0 778]]\n",
      "Test accuracy:  100.0  - Fitness:  88.18181818181819\n",
      "GSA is optimizing  \"get_fitness\"\n"
     ]
    },
    {
     "name": "stderr",
     "output_type": "stream",
     "text": [
      "/Users/uclm/PycharmProjects/GSA_M/venv/lib/python3.9/site-packages/numpy/core/fromnumeric.py:59: FutureWarning: 'DataFrame.swapaxes' is deprecated and will be removed in a future version. Please use 'DataFrame.transpose' instead.\n",
      "  return bound(*args, **kwds)\n"
     ]
    },
    {
     "name": "stdout",
     "output_type": "stream",
     "text": [
      "['At iteration 1 the best fitness is 91.81818181818181']\n",
      "['At iteration 2 the best fitness is 91.81818181818181']\n",
      "['At iteration 3 the best fitness is 92.72727272727272']\n",
      "['At iteration 4 the best fitness is 92.72727272727272']\n",
      "['At iteration 5 the best fitness is 92.72727272727272']\n",
      "['At iteration 6 the best fitness is 92.72727272727272']\n",
      "['At iteration 7 the best fitness is 92.72727272727272']\n",
      "['At iteration 8 the best fitness is 92.72727272727272']\n",
      "['At iteration 9 the best fitness is 92.72727272727272']\n",
      "['At iteration 10 the best fitness is 92.72727272727272']\n",
      "['At iteration 11 the best fitness is 92.72727272727272']\n",
      "['At iteration 12 the best fitness is 92.72727272727272']\n",
      "['At iteration 13 the best fitness is 92.72727272727272']\n",
      "['At iteration 14 the best fitness is 92.72727272727272']\n",
      "['At iteration 15 the best fitness is 92.72727272727272']\n",
      "['At iteration 16 the best fitness is 92.72727272727272']\n",
      "['At iteration 17 the best fitness is 92.72727272727272']\n",
      "['At iteration 18 the best fitness is 92.72727272727272']\n",
      "['At iteration 19 the best fitness is 92.72727272727272']\n",
      "['At iteration 20 the best fitness is 92.72727272727272']\n",
      "{'real': array([86832.2573761 , 54505.01219672]), 'discrete': array([1, 1, 1, 0, 0, 0, 1, 0, 0, 0, 0, 1, 1, 1, 0, 0, 0, 1, 0, 1, 0, 1])}\n",
      "[[834   2]\n",
      " [  7 782]]\n",
      "Test accuracy:  99.44615384615385  - Fitness:  90.46601398601399\n",
      "GSA is optimizing  \"get_fitness\"\n"
     ]
    },
    {
     "name": "stderr",
     "output_type": "stream",
     "text": [
      "/Users/uclm/PycharmProjects/GSA_M/venv/lib/python3.9/site-packages/numpy/core/fromnumeric.py:59: FutureWarning: 'DataFrame.swapaxes' is deprecated and will be removed in a future version. Please use 'DataFrame.transpose' instead.\n",
      "  return bound(*args, **kwds)\n"
     ]
    },
    {
     "name": "stdout",
     "output_type": "stream",
     "text": [
      "['At iteration 1 the best fitness is 90.35524475524475']\n",
      "['At iteration 2 the best fitness is 91.38741258741258']\n",
      "['At iteration 3 the best fitness is 91.38741258741258']\n",
      "['At iteration 4 the best fitness is 91.38741258741258']\n",
      "['At iteration 5 the best fitness is 91.38741258741258']\n",
      "['At iteration 6 the best fitness is 91.38741258741258']\n",
      "['At iteration 7 the best fitness is 91.38741258741258']\n",
      "['At iteration 8 the best fitness is 91.5104895104895']\n",
      "['At iteration 9 the best fitness is 91.5104895104895']\n",
      "['At iteration 10 the best fitness is 91.5104895104895']\n",
      "['At iteration 11 the best fitness is 91.5104895104895']\n",
      "['At iteration 12 the best fitness is 91.5104895104895']\n",
      "['At iteration 13 the best fitness is 92.72727272727272']\n",
      "['At iteration 14 the best fitness is 92.72727272727272']\n",
      "['At iteration 15 the best fitness is 92.72727272727272']\n",
      "['At iteration 16 the best fitness is 92.72727272727272']\n",
      "['At iteration 17 the best fitness is 93.63636363636364']\n",
      "['At iteration 18 the best fitness is 93.63636363636364']\n",
      "['At iteration 19 the best fitness is 93.63636363636364']\n",
      "['At iteration 20 the best fitness is 93.63636363636364']\n",
      "{'real': array([36615.64824501, 17854.92731509]), 'discrete': array([1, 1, 0, 0, 1, 0, 0, 1, 1, 0, 0, 0, 0, 1, 1, 1, 0, 1, 0, 1, 1, 0])}\n",
      "[[846   0]\n",
      " [  2 777]]\n",
      "Test accuracy:  99.87692307692308  - Fitness:  89.90153846153846\n",
      "Running GSA with wa = 0.9, wf = 0.09999999999999998\n",
      "GSA is optimizing  \"get_fitness\"\n",
      "['At iteration 1 the best fitness is 95.0']\n"
     ]
    },
    {
     "name": "stderr",
     "output_type": "stream",
     "text": [
      "/Users/uclm/PycharmProjects/GSA_M/venv/lib/python3.9/site-packages/numpy/core/fromnumeric.py:59: FutureWarning: 'DataFrame.swapaxes' is deprecated and will be removed in a future version. Please use 'DataFrame.transpose' instead.\n",
      "  return bound(*args, **kwds)\n"
     ]
    },
    {
     "name": "stdout",
     "output_type": "stream",
     "text": [
      "['At iteration 2 the best fitness is 96.4027972027972']\n",
      "['At iteration 3 the best fitness is 96.4027972027972']\n",
      "['At iteration 4 the best fitness is 96.4027972027972']\n",
      "['At iteration 5 the best fitness is 96.4027972027972']\n",
      "['At iteration 6 the best fitness is 96.4027972027972']\n",
      "['At iteration 7 the best fitness is 96.4027972027972']\n",
      "['At iteration 8 the best fitness is 96.4027972027972']\n",
      "['At iteration 9 the best fitness is 96.4027972027972']\n",
      "['At iteration 10 the best fitness is 96.4027972027972']\n",
      "['At iteration 11 the best fitness is 96.4027972027972']\n",
      "['At iteration 12 the best fitness is 96.4027972027972']\n",
      "['At iteration 13 the best fitness is 96.4027972027972']\n",
      "['At iteration 14 the best fitness is 96.4027972027972']\n",
      "['At iteration 15 the best fitness is 96.4027972027972']\n",
      "['At iteration 16 the best fitness is 96.67972027972029']\n",
      "['At iteration 17 the best fitness is 96.67972027972029']\n",
      "['At iteration 18 the best fitness is 96.67972027972029']\n",
      "['At iteration 19 the best fitness is 96.67972027972029']\n",
      "['At iteration 20 the best fitness is 96.67972027972029']\n",
      "{'real': array([25792.54584748, 47514.77343682]), 'discrete': array([0, 1, 0, 0, 0, 1, 0, 1, 1, 1, 1, 0, 1, 1, 0, 0, 0, 0, 1, 0, 0, 1])}\n",
      "[[854   0]\n",
      " [  0 771]]\n",
      "Test accuracy:  100.0  - Fitness:  95.45454545454545\n",
      "GSA is optimizing  \"get_fitness\"\n"
     ]
    },
    {
     "name": "stderr",
     "output_type": "stream",
     "text": [
      "/Users/uclm/PycharmProjects/GSA_M/venv/lib/python3.9/site-packages/numpy/core/fromnumeric.py:59: FutureWarning: 'DataFrame.swapaxes' is deprecated and will be removed in a future version. Please use 'DataFrame.transpose' instead.\n",
      "  return bound(*args, **kwds)\n"
     ]
    },
    {
     "name": "stdout",
     "output_type": "stream",
     "text": [
      "['At iteration 1 the best fitness is 95.38531468531468']\n",
      "['At iteration 2 the best fitness is 95.9090909090909']\n",
      "['At iteration 3 the best fitness is 95.9090909090909']\n",
      "['At iteration 4 the best fitness is 95.9090909090909']\n",
      "['At iteration 5 the best fitness is 95.9090909090909']\n",
      "['At iteration 6 the best fitness is 95.9090909090909']\n",
      "['At iteration 7 the best fitness is 95.9090909090909']\n",
      "['At iteration 8 the best fitness is 95.9090909090909']\n",
      "['At iteration 9 the best fitness is 95.9090909090909']\n",
      "['At iteration 10 the best fitness is 95.9090909090909']\n",
      "['At iteration 11 the best fitness is 95.9090909090909']\n",
      "['At iteration 12 the best fitness is 95.9090909090909']\n",
      "['At iteration 13 the best fitness is 95.9090909090909']\n",
      "['At iteration 14 the best fitness is 96.81818181818181']\n",
      "['At iteration 15 the best fitness is 96.81818181818181']\n",
      "['At iteration 16 the best fitness is 96.81818181818181']\n",
      "['At iteration 17 the best fitness is 96.81818181818181']\n",
      "['At iteration 18 the best fitness is 96.81818181818181']\n",
      "['At iteration 19 the best fitness is 96.81818181818181']\n",
      "['At iteration 20 the best fitness is 96.81818181818181']\n",
      "{'real': array([25916.34044086, 96910.36379461]), 'discrete': array([1, 0, 1, 0, 0, 0, 0, 0, 0, 0, 1, 0, 1, 1, 0, 1, 0, 0, 1, 0, 1, 0])}\n",
      "[[838  18]\n",
      " [  7 762]]\n",
      "Test accuracy:  98.46153846153847  - Fitness:  94.97902097902099\n",
      "GSA is optimizing  \"get_fitness\"\n"
     ]
    },
    {
     "name": "stderr",
     "output_type": "stream",
     "text": [
      "/Users/uclm/PycharmProjects/GSA_M/venv/lib/python3.9/site-packages/numpy/core/fromnumeric.py:59: FutureWarning: 'DataFrame.swapaxes' is deprecated and will be removed in a future version. Please use 'DataFrame.transpose' instead.\n",
      "  return bound(*args, **kwds)\n"
     ]
    },
    {
     "name": "stdout",
     "output_type": "stream",
     "text": [
      "['At iteration 1 the best fitness is 95.60209790209791']\n",
      "['At iteration 2 the best fitness is 95.60209790209791']\n",
      "['At iteration 3 the best fitness is 95.60209790209791']\n",
      "['At iteration 4 the best fitness is 95.60209790209791']\n",
      "['At iteration 5 the best fitness is 95.83986013986014']\n",
      "['At iteration 6 the best fitness is 95.83986013986014']\n",
      "['At iteration 7 the best fitness is 96.29440559440559']\n",
      "['At iteration 8 the best fitness is 96.36363636363636']\n",
      "['At iteration 9 the best fitness is 96.36363636363636']\n",
      "['At iteration 10 the best fitness is 96.36363636363636']\n",
      "['At iteration 11 the best fitness is 96.36363636363636']\n",
      "['At iteration 12 the best fitness is 96.36363636363636']\n",
      "['At iteration 13 the best fitness is 96.36363636363636']\n",
      "['At iteration 14 the best fitness is 96.36363636363636']\n",
      "['At iteration 15 the best fitness is 96.36363636363636']\n",
      "['At iteration 16 the best fitness is 96.36363636363636']\n",
      "['At iteration 17 the best fitness is 96.36363636363636']\n",
      "['At iteration 18 the best fitness is 96.36363636363636']\n",
      "['At iteration 19 the best fitness is 96.36363636363636']\n",
      "['At iteration 20 the best fitness is 96.36363636363636']\n",
      "{'real': array([25495.18721317, 77307.46411194]), 'discrete': array([0, 1, 1, 1, 1, 0, 0, 0, 1, 1, 1, 1, 0, 0, 0, 1, 1, 1, 1, 0, 1, 0])}\n",
      "[[839   0]\n",
      " [  1 785]]\n",
      "Test accuracy:  99.93846153846154  - Fitness:  94.03552447552448\n",
      "GSA is optimizing  \"get_fitness\"\n"
     ]
    },
    {
     "name": "stderr",
     "output_type": "stream",
     "text": [
      "/Users/uclm/PycharmProjects/GSA_M/venv/lib/python3.9/site-packages/numpy/core/fromnumeric.py:59: FutureWarning: 'DataFrame.swapaxes' is deprecated and will be removed in a future version. Please use 'DataFrame.transpose' instead.\n",
      "  return bound(*args, **kwds)\n"
     ]
    },
    {
     "name": "stdout",
     "output_type": "stream",
     "text": [
      "['At iteration 1 the best fitness is 95.9479319756456']\n",
      "['At iteration 2 the best fitness is 95.9479319756456']\n",
      "['At iteration 3 the best fitness is 96.36363636363636']\n",
      "['At iteration 4 the best fitness is 96.36363636363636']\n",
      "['At iteration 5 the best fitness is 96.36363636363636']\n",
      "['At iteration 6 the best fitness is 96.36363636363636']\n",
      "['At iteration 7 the best fitness is 96.36363636363636']\n",
      "['At iteration 8 the best fitness is 96.36363636363636']\n",
      "['At iteration 9 the best fitness is 96.36363636363636']\n",
      "['At iteration 10 the best fitness is 96.54125874125874']\n",
      "['At iteration 11 the best fitness is 96.81818181818181']\n",
      "['At iteration 12 the best fitness is 96.81818181818181']\n",
      "['At iteration 13 the best fitness is 97.4501364686122']\n",
      "['At iteration 14 the best fitness is 97.4501364686122']\n",
      "['At iteration 15 the best fitness is 97.4501364686122']\n",
      "['At iteration 16 the best fitness is 97.4501364686122']\n",
      "['At iteration 17 the best fitness is 97.4501364686122']\n",
      "['At iteration 18 the best fitness is 97.4501364686122']\n",
      "['At iteration 19 the best fitness is 97.4501364686122']\n",
      "['At iteration 20 the best fitness is 97.4501364686122']\n",
      "{'real': array([17651.10013921,  6327.42097099]), 'discrete': array([0, 0, 1, 0, 1, 0, 0, 0, 0, 1, 0, 0, 0, 0, 1, 1, 1, 0, 0, 0, 0, 1])}\n",
      "[[866   1]\n",
      " [  3 755]]\n",
      "Test accuracy:  99.75384615384615  - Fitness:  96.59664335664336\n",
      "GSA is optimizing  \"get_fitness\"\n"
     ]
    },
    {
     "name": "stderr",
     "output_type": "stream",
     "text": [
      "/Users/uclm/PycharmProjects/GSA_M/venv/lib/python3.9/site-packages/numpy/core/fromnumeric.py:59: FutureWarning: 'DataFrame.swapaxes' is deprecated and will be removed in a future version. Please use 'DataFrame.transpose' instead.\n",
      "  return bound(*args, **kwds)\n"
     ]
    },
    {
     "name": "stdout",
     "output_type": "stream",
     "text": [
      "['At iteration 1 the best fitness is 96.23426573426573']\n",
      "['At iteration 2 the best fitness is 96.23426573426573']\n",
      "['At iteration 3 the best fitness is 96.23426573426573']\n",
      "['At iteration 4 the best fitness is 96.23426573426573']\n",
      "['At iteration 5 the best fitness is 96.23426573426573']\n",
      "['At iteration 6 the best fitness is 96.23426573426573']\n",
      "['At iteration 7 the best fitness is 96.23426573426573']\n",
      "['At iteration 8 the best fitness is 96.23426573426573']\n",
      "['At iteration 9 the best fitness is 96.23426573426573']\n",
      "['At iteration 10 the best fitness is 96.23426573426573']\n",
      "['At iteration 11 the best fitness is 96.23426573426573']\n",
      "['At iteration 12 the best fitness is 96.23426573426573']\n",
      "['At iteration 13 the best fitness is 96.23426573426573']\n",
      "['At iteration 14 the best fitness is 96.23426573426573']\n",
      "['At iteration 15 the best fitness is 96.23426573426573']\n",
      "['At iteration 16 the best fitness is 96.6195804195804']\n",
      "['At iteration 17 the best fitness is 96.6195804195804']\n",
      "['At iteration 18 the best fitness is 96.6195804195804']\n",
      "['At iteration 19 the best fitness is 96.6195804195804']\n",
      "['At iteration 20 the best fitness is 96.6195804195804']\n",
      "{'real': array([12033.43314849, 30488.06314255]), 'discrete': array([0, 0, 0, 0, 1, 1, 0, 1, 1, 0, 1, 0, 1, 1, 1, 1, 0, 1, 0, 0, 0, 0])}\n",
      "[[846   0]\n",
      " [  3 776]]\n",
      "Test accuracy:  99.81538461538462  - Fitness:  95.2883916083916\n",
      "GSA is optimizing  \"get_fitness\"\n",
      "['At iteration 1 the best fitness is 94.54545454545455']\n"
     ]
    },
    {
     "name": "stderr",
     "output_type": "stream",
     "text": [
      "/Users/uclm/PycharmProjects/GSA_M/venv/lib/python3.9/site-packages/numpy/core/fromnumeric.py:59: FutureWarning: 'DataFrame.swapaxes' is deprecated and will be removed in a future version. Please use 'DataFrame.transpose' instead.\n",
      "  return bound(*args, **kwds)\n"
     ]
    },
    {
     "name": "stdout",
     "output_type": "stream",
     "text": [
      "['At iteration 2 the best fitness is 95.45454545454545']\n",
      "['At iteration 3 the best fitness is 95.45454545454545']\n",
      "['At iteration 4 the best fitness is 97.69720279720278']\n",
      "['At iteration 5 the best fitness is 97.69720279720278']\n",
      "['At iteration 6 the best fitness is 97.69720279720278']\n",
      "['At iteration 7 the best fitness is 97.69720279720278']\n",
      "['At iteration 8 the best fitness is 97.69720279720278']\n",
      "['At iteration 9 the best fitness is 97.69720279720278']\n",
      "['At iteration 10 the best fitness is 97.69720279720278']\n",
      "['At iteration 11 the best fitness is 97.69720279720278']\n",
      "['At iteration 12 the best fitness is 97.69720279720278']\n",
      "['At iteration 13 the best fitness is 97.69720279720278']\n",
      "['At iteration 14 the best fitness is 97.69720279720278']\n",
      "['At iteration 15 the best fitness is 97.69720279720278']\n",
      "['At iteration 16 the best fitness is 97.69720279720278']\n",
      "['At iteration 17 the best fitness is 97.69720279720278']\n",
      "['At iteration 18 the best fitness is 97.69720279720278']\n",
      "['At iteration 19 the best fitness is 97.69720279720278']\n",
      "['At iteration 20 the best fitness is 97.69720279720278']\n",
      "{'real': array([14542.95962853, 84816.85790983]), 'discrete': array([0, 1, 1, 1, 0, 1, 1, 0, 0, 1, 0, 0, 0, 1, 0, 0, 1, 0, 0, 1, 0, 0])}\n",
      "[[841   0]\n",
      " [ 33 751]]\n",
      "Test accuracy:  97.96923076923076  - Fitness:  94.08139860139859\n",
      "GSA is optimizing  \"get_fitness\"\n"
     ]
    },
    {
     "name": "stderr",
     "output_type": "stream",
     "text": [
      "/Users/uclm/PycharmProjects/GSA_M/venv/lib/python3.9/site-packages/numpy/core/fromnumeric.py:59: FutureWarning: 'DataFrame.swapaxes' is deprecated and will be removed in a future version. Please use 'DataFrame.transpose' instead.\n",
      "  return bound(*args, **kwds)\n"
     ]
    },
    {
     "name": "stdout",
     "output_type": "stream",
     "text": [
      "['At iteration 1 the best fitness is 94.54545454545455']\n",
      "['At iteration 2 the best fitness is 95.45454545454545']\n",
      "['At iteration 3 the best fitness is 95.9090909090909']\n",
      "['At iteration 4 the best fitness is 95.9090909090909']\n",
      "['At iteration 5 the best fitness is 96.36363636363636']\n",
      "['At iteration 6 the best fitness is 96.36363636363636']\n",
      "['At iteration 7 the best fitness is 96.36363636363636']\n",
      "['At iteration 8 the best fitness is 96.36363636363636']\n",
      "['At iteration 9 the best fitness is 96.36363636363636']\n",
      "['At iteration 10 the best fitness is 96.36363636363636']\n",
      "['At iteration 11 the best fitness is 96.36363636363636']\n",
      "['At iteration 12 the best fitness is 96.36363636363636']\n",
      "['At iteration 13 the best fitness is 96.36363636363636']\n",
      "['At iteration 14 the best fitness is 96.36363636363636']\n",
      "['At iteration 15 the best fitness is 96.85734265734266']\n",
      "['At iteration 16 the best fitness is 96.85734265734266']\n",
      "['At iteration 17 the best fitness is 97.2034965034965']\n",
      "['At iteration 18 the best fitness is 97.27272727272727']\n",
      "['At iteration 19 the best fitness is 97.27272727272727']\n",
      "['At iteration 20 the best fitness is 97.27272727272727']\n",
      "{'real': array([23299.39127706, 13962.05740728]), 'discrete': array([0, 0, 0, 0, 1, 0, 0, 0, 0, 0, 0, 0, 1, 0, 1, 0, 0, 1, 0, 0, 1, 0])}\n",
      "[[831   3]\n",
      " [  0 791]]\n",
      "Test accuracy:  99.81538461538462  - Fitness:  97.56111888111887\n",
      "GSA is optimizing  \"get_fitness\"\n",
      "['At iteration 1 the best fitness is 96.12587412587412']\n"
     ]
    },
    {
     "name": "stderr",
     "output_type": "stream",
     "text": [
      "/Users/uclm/PycharmProjects/GSA_M/venv/lib/python3.9/site-packages/numpy/core/fromnumeric.py:59: FutureWarning: 'DataFrame.swapaxes' is deprecated and will be removed in a future version. Please use 'DataFrame.transpose' instead.\n",
      "  return bound(*args, **kwds)\n"
     ]
    },
    {
     "name": "stdout",
     "output_type": "stream",
     "text": [
      "['At iteration 2 the best fitness is 96.12587412587412']\n",
      "['At iteration 3 the best fitness is 96.36363636363636']\n",
      "['At iteration 4 the best fitness is 96.36363636363636']\n",
      "['At iteration 5 the best fitness is 96.36363636363636']\n",
      "['At iteration 6 the best fitness is 96.36363636363636']\n",
      "['At iteration 7 the best fitness is 96.36363636363636']\n",
      "['At iteration 8 the best fitness is 96.36363636363636']\n",
      "['At iteration 9 the best fitness is 96.36363636363636']\n",
      "['At iteration 10 the best fitness is 96.36363636363636']\n",
      "['At iteration 11 the best fitness is 96.36363636363636']\n",
      "['At iteration 12 the best fitness is 96.54125874125874']\n",
      "['At iteration 13 the best fitness is 96.54125874125874']\n",
      "['At iteration 14 the best fitness is 96.54125874125874']\n",
      "['At iteration 15 the best fitness is 96.54125874125874']\n",
      "['At iteration 16 the best fitness is 96.81818181818181']\n",
      "['At iteration 17 the best fitness is 96.81818181818181']\n",
      "['At iteration 18 the best fitness is 97.28112534117153']\n",
      "['At iteration 19 the best fitness is 97.42027972027972']\n",
      "['At iteration 20 the best fitness is 97.42027972027972']\n",
      "{'real': array([21760.05551421, 46133.95348742]), 'discrete': array([1, 1, 0, 0, 0, 0, 0, 0, 0, 0, 1, 0, 0, 0, 0, 0, 0, 0, 0, 0, 0, 0])}\n",
      "[[760  99]\n",
      " [313 453]]\n",
      "Test accuracy:  74.64615384615385  - Fitness:  75.8179020979021\n",
      "GSA is optimizing  \"get_fitness\"\n"
     ]
    },
    {
     "name": "stderr",
     "output_type": "stream",
     "text": [
      "/Users/uclm/PycharmProjects/GSA_M/venv/lib/python3.9/site-packages/numpy/core/fromnumeric.py:59: FutureWarning: 'DataFrame.swapaxes' is deprecated and will be removed in a future version. Please use 'DataFrame.transpose' instead.\n",
      "  return bound(*args, **kwds)\n"
     ]
    },
    {
     "name": "stdout",
     "output_type": "stream",
     "text": [
      "['At iteration 1 the best fitness is 95.38531468531468']\n",
      "['At iteration 2 the best fitness is 95.38531468531468']\n",
      "['At iteration 3 the best fitness is 95.38531468531468']\n",
      "['At iteration 4 the best fitness is 95.70123871509553']\n",
      "['At iteration 5 the best fitness is 95.70123871509553']\n",
      "['At iteration 6 the best fitness is 95.70123871509553']\n",
      "['At iteration 7 the best fitness is 95.83980684442578']\n",
      "['At iteration 8 the best fitness is 95.83980684442578']\n",
      "['At iteration 9 the best fitness is 95.84895104895104']\n",
      "['At iteration 10 the best fitness is 95.84895104895104']\n",
      "['At iteration 11 the best fitness is 95.84895104895104']\n",
      "['At iteration 12 the best fitness is 96.29440559440559']\n",
      "['At iteration 13 the best fitness is 96.29440559440559']\n",
      "['At iteration 14 the best fitness is 96.36363636363636']\n",
      "['At iteration 15 the best fitness is 96.36363636363636']\n",
      "['At iteration 16 the best fitness is 96.36363636363636']\n",
      "['At iteration 17 the best fitness is 96.6104895104895']\n",
      "['At iteration 18 the best fitness is 96.6104895104895']\n",
      "['At iteration 19 the best fitness is 96.6104895104895']\n",
      "['At iteration 20 the best fitness is 96.71845475540626']\n",
      "{'real': array([11398.1836405 , 55760.07691268]), 'discrete': array([1, 0, 0, 1, 1, 1, 1, 0, 0, 1, 1, 0, 1, 0, 0, 1, 1, 0, 1, 0, 1, 1])}\n",
      "[[802   0]\n",
      " [  0 823]]\n",
      "Test accuracy:  100.0  - Fitness:  94.0909090909091\n",
      "GSA is optimizing  \"get_fitness\"\n"
     ]
    },
    {
     "name": "stderr",
     "output_type": "stream",
     "text": [
      "/Users/uclm/PycharmProjects/GSA_M/venv/lib/python3.9/site-packages/numpy/core/fromnumeric.py:59: FutureWarning: 'DataFrame.swapaxes' is deprecated and will be removed in a future version. Please use 'DataFrame.transpose' instead.\n",
      "  return bound(*args, **kwds)\n"
     ]
    },
    {
     "name": "stdout",
     "output_type": "stream",
     "text": [
      "['At iteration 1 the best fitness is 95.77062937062938']\n",
      "['At iteration 2 the best fitness is 95.77062937062938']\n",
      "['At iteration 3 the best fitness is 95.77062937062938']\n",
      "['At iteration 4 the best fitness is 95.9090909090909']\n",
      "['At iteration 5 the best fitness is 95.9090909090909']\n",
      "['At iteration 6 the best fitness is 96.36363636363636']\n",
      "['At iteration 7 the best fitness is 96.36363636363636']\n",
      "['At iteration 8 the best fitness is 96.36363636363636']\n",
      "['At iteration 9 the best fitness is 96.36363636363636']\n",
      "['At iteration 10 the best fitness is 96.36363636363636']\n",
      "['At iteration 11 the best fitness is 96.36363636363636']\n",
      "['At iteration 12 the best fitness is 97.13426573426574']\n",
      "['At iteration 13 the best fitness is 97.13426573426574']\n",
      "['At iteration 14 the best fitness is 97.13426573426574']\n",
      "['At iteration 15 the best fitness is 97.13426573426574']\n",
      "['At iteration 16 the best fitness is 97.13426573426574']\n",
      "['At iteration 17 the best fitness is 97.13426573426574']\n",
      "['At iteration 18 the best fitness is 97.13426573426574']\n",
      "['At iteration 19 the best fitness is 97.13426573426574']\n",
      "['At iteration 20 the best fitness is 97.13426573426574']\n",
      "{'real': array([46090.09855088, 37181.9346293 ]), 'discrete': array([0, 0, 1, 0, 1, 0, 1, 1, 1, 1, 0, 0, 0, 0, 1, 0, 0, 0, 1, 0, 0, 0])}\n",
      "[[825   0]\n",
      " [  0 800]]\n",
      "Test accuracy:  100.0  - Fitness:  96.36363636363636\n"
     ]
    }
   ],
   "source": [
    "train_df = pd.DataFrame()\n",
    "test_df = pd.DataFrame()\n",
    "\n",
    "for wa in np.arange(0.1, 1.0, 0.1):\n",
    "    wf = 1 - wa\n",
    "    print(f\"Running GSA with wa = {wa}, wf = {wf}\")\n",
    "    tr_df, tt_df = run_gsa(uci_data,\n",
    "                               runs=10,\n",
    "                               population_size=5,\n",
    "                               iterations=20)\n",
    "    \n",
    "    tr_df[\"wa\"] = wa\n",
    "    tt_df[\"wa\"] = wf\n",
    "    train_df = pd.concat([train_df, tr_df], axis=0)\n",
    "    test_df = pd.concat([test_df, tt_df], axis=0)"
   ],
   "metadata": {
    "collapsed": false,
    "ExecuteTime": {
     "end_time": "2024-03-05T08:30:43.124272Z",
     "start_time": "2024-03-05T08:26:52.862028Z"
    }
   },
   "id": "d098e93a191968f4",
   "execution_count": 21
  },
  {
   "cell_type": "markdown",
   "source": [
    "## wa-wf effect on the number of features"
   ],
   "metadata": {
    "collapsed": false
   },
   "id": "1952b7fef10d8067"
  },
  {
   "cell_type": "code",
   "outputs": [
    {
     "data": {
      "text/plain": "<Figure size 1000x600 with 1 Axes>",
      "image/png": "[encoded data removed]"
     },
     "metadata": {},
     "output_type": "display_data"
    }
   ],
   "source": [
    "# Get last solution from discrete best solution history\n",
    "train_df['NumFeatures'] = train_df['Discrete'].apply(lambda x: np.sum(x[-1]))\n",
    "\n",
    "# Group by 'wa' and get mean of number of features\n",
    "result_df = train_df.groupby('wa')['NumFeatures'].mean().reset_index()\n",
    "\n",
    "# Sns bar plot\n",
    "fig, ax = plt.subplots(figsize=(10, 6))\n",
    "\n",
    "ax.set_title(\"Number of features vs. accuracy weight\", fontweight='bold')\n",
    "\n",
    "sns.barplot(ax=ax,\n",
    "            data=result_df,\n",
    "            x='wa',\n",
    "            y='NumFeatures')\n",
    "\n",
    "ax.grid(axis='y', color='#A9A9A9', alpha=0.3, zorder=1)\n",
    "\n",
    "ax.set_xticks(range(len(result_df)))\n",
    "ax.set_xticklabels(np.round(result_df[\"wa\"], 1))\n",
    "\n",
    "ax.set_xlabel(\"Accuracy weight\")\n",
    "ax.set_ylabel(\"Number of features\")\n",
    "\n",
    "plt.show()\n",
    "# fig.savefig(save_path, format='svg', dpi=300, bbox_inches='tight', transparent=True)"
   ],
   "metadata": {
    "collapsed": false,
    "ExecuteTime": {
     "end_time": "2024-03-05T08:16:09.843762Z",
     "start_time": "2024-03-05T08:16:09.706157Z"
    }
   },
   "id": "fd58806f12f091d1",
   "execution_count": 11
  },
  {
   "cell_type": "markdown",
   "source": [
    "## Fitness convergence"
   ],
   "metadata": {
    "collapsed": false
   },
   "id": "b24d29e8da3a163d"
  },
  {
   "cell_type": "code",
   "outputs": [
    {
     "data": {
      "text/plain": "<Figure size 1000x600 with 1 Axes>",
      "image/png": "[encoded data removed]"
     },
     "metadata": {},
     "output_type": "display_data"
    }
   ],
   "source": [
    "fig, ax = plt.subplots(figsize=(10, 6))\n",
    "\n",
    "ax.set_title(\"Fitness\", fontweight='bold')\n",
    "\n",
    "# ax.set_ylim(min(global_train_hist[\"Fitness\"]), max(global_train_hist[\"Fitness\"]))\n",
    "    \n",
    "sns.lineplot(ax=ax,\n",
    "             data=train_df,\n",
    "             x=\"Iteration\",\n",
    "             y=\"Fitness\",\n",
    "             hue=\"wa\",\n",
    "             legend=True)\n",
    "\n",
    "ax.grid(axis='y', color='#A9A9A9', alpha=0.3, zorder=1)\n",
    "\n",
    "ax.set_xlabel(\"Iter.\")\n",
    "ax.set_ylabel(\"Fitness\")\n",
    "\n",
    "plt.show()\n",
    "# fig.savefig(save_path, format='svg', dpi=300, bbox_inches='tight', transparent=True)"
   ],
   "metadata": {
    "collapsed": false,
    "ExecuteTime": {
     "end_time": "2024-03-05T08:16:18.799437Z",
     "start_time": "2024-03-05T08:16:17.523144Z"
    }
   },
   "id": "b87aafcfed873336",
   "execution_count": 12
  },
  {
   "cell_type": "markdown",
   "source": [
    "## Accuracy convergence"
   ],
   "metadata": {
    "collapsed": false
   },
   "id": "7290478123f7f594"
  },
  {
   "cell_type": "code",
   "outputs": [
    {
     "data": {
      "text/plain": "<Figure size 1000x600 with 1 Axes>",
      "image/png": "[encoded data removed]"
     },
     "metadata": {},
     "output_type": "display_data"
    }
   ],
   "source": [
    "fig, ax = plt.subplots(figsize=(10, 6))\n",
    "\n",
    "ax.set_title(\"Accuracy\", fontweight='bold')\n",
    "\n",
    "# ax.set_ylim(min(global_train_hist[\"Fitness\"]), max(global_train_hist[\"Fitness\"]))\n",
    "    \n",
    "sns.lineplot(ax=ax,\n",
    "             data=train_df,\n",
    "             x=\"Iteration\",\n",
    "             y=\"Accuracy\",\n",
    "             hue=\"wa\",\n",
    "             legend=True)\n",
    "\n",
    "ax.grid(axis='y', color='#A9A9A9', alpha=0.3, zorder=1)\n",
    "\n",
    "ax.set_xlabel(\"Iter.\")\n",
    "ax.set_ylabel(\"Accuracy\")\n",
    "\n",
    "plt.show()\n",
    "# fig.savefig(save_path, format='svg', dpi=300, bbox_inches='tight', transparent=True)"
   ],
   "metadata": {
    "collapsed": false,
    "ExecuteTime": {
     "end_time": "2024-03-05T08:16:27.354751Z",
     "start_time": "2024-03-05T08:16:26.077290Z"
    }
   },
   "id": "480fbc3583e57857",
   "execution_count": 13
  },
  {
   "cell_type": "code",
   "outputs": [],
   "source": [
    "mean_accuracy = np.round(np.mean(gsa_history_dict[\"accuracy_history\"]), 4)\n",
    "std_accuracy = np.round(np.std(gsa_history_dict[\"accuracy_history\"]), 4)\n",
    "\n",
    "print(f\"Mean accuracy: {mean_accuracy} +/- {std_accuracy}\")\n",
    "\n",
    "mean_gamma = np.round(np.mean(gsa_history_dict[\"gamma_history\"]), 4)\n",
    "std_gamma = np.round(np.std(gsa_history_dict[\"gamma_history\"]), 4)\n",
    "\n",
    "print(f\"Mean gamma: {mean_gamma} +/- {std_gamma}\")\n",
    "\n",
    "mean_c = np.round(np.mean(gsa_history_dict[\"c_history\"]), 4)\n",
    "std_c = np.round(np.std(gsa_history_dict[\"c_history\"]), 4)\n",
    "\n",
    "print(f\"Mean C: {mean_c} +/- {std_c}\")\n",
    "\n",
    "mean_n_features = np.rint(np.mean(gsa_history_dict[\"n_features_history\"])).astype(int)\n",
    "std_n_features = np.rint(np.std(gsa_history_dict[\"n_features_history\"])).astype(int)\n",
    "\n",
    "print(f\"Mean n_features: {mean_n_features} +/- {std_n_features}\")\n",
    "\n",
    "mean_execution_time = np.round(np.mean(gsa_history_dict[\"execution_time_history\"]), 4)\n",
    "std_execution_time = np.round(np.std(gsa_history_dict[\"execution_time_history\"]), 4)\n",
    "\n",
    "print(f\"Mean execution time: {mean_execution_time} +/- {std_execution_time}\")\n",
    "\n",
    "mean_TP = np.rint(np.mean(gsa_history_dict[\"TP_history\"])).astype(int)\n",
    "std_TP = np.rint(np.std(gsa_history_dict[\"TP_history\"])).astype(int)\n",
    "mean_FP = np.rint(np.mean(gsa_history_dict[\"FP_history\"])).astype(int)\n",
    "std_FP = np.rint(np.std(gsa_history_dict[\"FP_history\"])).astype(int)\n",
    "mean_TN = np.rint(np.mean(gsa_history_dict[\"TN_history\"])).astype(int)\n",
    "std_TN = np.rint(np.std(gsa_history_dict[\"TN_history\"])).astype(int)\n",
    "mean_FN = np.rint(np.mean(gsa_history_dict[\"FN_history\"])).astype(int)\n",
    "std_FN = np.rint(np.std(gsa_history_dict[\"FN_history\"])).astype(int)"
   ],
   "metadata": {
    "collapsed": false
   },
   "id": "297831f499cee489"
  },
  {
   "cell_type": "code",
   "outputs": [],
   "source": [
    "import datetime\n",
    "\n",
    "save_path = \"../data/output\"\n",
    "if not os.path.exists(save_path):\n",
    "    os.makedirs(save_path)\n",
    "    \n",
    "date = datetime.datetime.now().strftime(\"%Y-%m-%d %H:%M:%S\")\n",
    "\n",
    "results = pd.DataFrame({\"date\": [date],\n",
    "                        \"dataset_name\": [widget_opt.value],\n",
    "                        \"r_runs\": [runs],\n",
    "                        \"n_pop\": [population_size],\n",
    "                        \"n_iters\": [iterations],\n",
    "                        \"chaotic_constant\": [chaotic_constant],\n",
    "                        \"repair_solution\": [repair_solution],\n",
    "                        \"execution_time\": [mean_execution_time],\n",
    "                        \"execution_time_std\": [std_execution_time],\n",
    "                        \"wa\": [wa],\n",
    "                        \"wf\": [wf],\n",
    "                        \"mean_accuracy\": [mean_accuracy],\n",
    "                        \"std_accuracy\": [std_accuracy],\n",
    "                        \"mean_gamma\": [mean_gamma],\n",
    "                        \"std_gamma\": [std_gamma],\n",
    "                        \"mean_c\": [mean_c],\n",
    "                        \"std_c\": [std_c],\n",
    "                        \"mean_n_features\": [mean_n_features],\n",
    "                        \"std_n_features\": [std_n_features],\n",
    "                        \"TP\": [mean_TP],\n",
    "                        \"TP_std\": [std_TP],\n",
    "                        \"FP\": [mean_FP],\n",
    "                        \"FP_std\": [std_FP],\n",
    "                        \"TN\": [mean_TN],\n",
    "                        \"TN_std\": [std_TN],\n",
    "                        \"FN\": [mean_FN],\n",
    "                        \"FN_std\": [std_FN]})\n",
    "\n",
    "file = f\"{save_path}/gsa_records.csv\"\n",
    "if os.path.exists(file):\n",
    "    # Load dataframe and append new row\n",
    "    df = pd.read_csv(file)\n",
    "    df = pd.concat([df, results], axis=0, ignore_index=True)\n",
    "    df.to_csv(file, index=False)\n",
    "else: # Append row to existing file\n",
    "    results.to_csv(file, index=False)"
   ],
   "metadata": {
    "collapsed": false
   },
   "id": "443409a31cb91202"
  },
  {
   "cell_type": "code",
   "execution_count": null,
   "id": "bdf875026d9d4f13",
   "metadata": {
    "collapsed": false
   },
   "outputs": [],
   "source": []
  }
 ],
 "metadata": {
  "kernelspec": {
   "display_name": "Python 3 (ipykernel)",
   "language": "python",
   "name": "python3"
  },
  "language_info": {
   "codemirror_mode": {
    "name": "ipython",
    "version": 3
   },
   "file_extension": ".py",
   "mimetype": "text/x-python",
   "name": "python",
   "nbconvert_exporter": "python",
   "pygments_lexer": "ipython3",
   "version": "3.9.6"
  }
 },
 "nbformat": 4,
 "nbformat_minor": 5
}
