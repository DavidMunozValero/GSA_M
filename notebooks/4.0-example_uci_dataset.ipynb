{
 "cells": [
  {
   "cell_type": "code",
   "outputs": [
    {
     "name": "stdout",
     "output_type": "stream",
     "text": [
      "The autoreload extension is already loaded. To reload it, use:\n",
      "  %reload_ext autoreload\n"
     ]
    }
   ],
   "source": [
    "%load_ext autoreload\n",
    "%autoreload 2\n",
    "\n",
    "import csv\n",
    "import numpy as np\n",
    "import os\n",
    "import pandas as pd\n",
    "import time\n",
    "\n",
    "from benchmarks import gsa_svm_fitness\n",
    "from src.entities import GSA\n",
    "\n",
    "from sklearn.metrics import accuracy_score, classification_report, confusion_matrix\n",
    "from sklearn.model_selection import train_test_split\n",
    "from sklearn.preprocessing import LabelEncoder, StandardScaler\n",
    "from sklearn.svm import SVC\n",
    "from typing import Mapping, Tuple, Union\n",
    "from ucimlrepo import fetch_ucirepo"
   ],
   "metadata": {
    "collapsed": false,
    "ExecuteTime": {
     "end_time": "2024-02-16T14:20:05.465522Z",
     "start_time": "2024-02-16T14:20:05.440687Z"
    }
   },
   "id": "af8f319d1e0e6966",
   "execution_count": 35
  },
  {
   "cell_type": "code",
   "outputs": [],
   "source": [
    "# Fetch dataset \n",
    "breast_cancer_wisconsin_original = fetch_ucirepo(id=15) \n",
    "  \n",
    "# Data (as pandas dataframes) \n",
    "X = breast_cancer_wisconsin_original.data.features \n",
    "X = X.fillna(value=0)  # Fill missing values with 0\n",
    "\n",
    "y = breast_cancer_wisconsin_original.data.targets "
   ],
   "metadata": {
    "collapsed": false,
    "ExecuteTime": {
     "end_time": "2024-02-16T12:36:07.057505Z",
     "start_time": "2024-02-16T12:36:05.392793Z"
    }
   },
   "id": "ea3b08e5c4d65f73",
   "execution_count": 2
  },
  {
   "cell_type": "code",
   "outputs": [],
   "source": [
    "# Fetch dataset \n",
    "mushroom = fetch_ucirepo(id=73) \n",
    "  \n",
    "# data (as pandas dataframes) \n",
    "X = mushroom.data.features\n",
    "encoder = LabelEncoder()\n",
    "for col in X.columns:\n",
    "    X.loc[:, col] = encoder.fit_transform(X[col])\n",
    "    \n",
    "y = mushroom.data.targets "
   ],
   "metadata": {
    "collapsed": false,
    "ExecuteTime": {
     "end_time": "2024-02-16T14:20:11.562315Z",
     "start_time": "2024-02-16T14:20:08.721734Z"
    }
   },
   "id": "a05c69aea9217d8",
   "execution_count": 36
  },
  {
   "cell_type": "code",
   "outputs": [],
   "source": [
    "X = X.iloc[:,1:23]  \n",
    "y = y.iloc[:, 0]"
   ],
   "metadata": {
    "collapsed": false,
    "ExecuteTime": {
     "end_time": "2024-02-16T14:20:12.406944Z",
     "start_time": "2024-02-16T14:20:12.390899Z"
    }
   },
   "id": "a7baa264ac8b15cf",
   "execution_count": 37
  },
  {
   "cell_type": "code",
   "outputs": [],
   "source": [
    "class UCI:\n",
    "    \"\"\"\n",
    "    Class to handle UCI datasets\n",
    "    \n",
    "    Args:\n",
    "        X (pd.DataFrame): Features\n",
    "        y (pd.Series): Target\n",
    "    \"\"\"\n",
    "    def __init__(self,\n",
    "                 X: pd.DataFrame,\n",
    "                 y: pd.Series\n",
    "                 ) -> None:\n",
    "        \"\"\"\n",
    "        Constructor\n",
    "        \n",
    "        Args:\n",
    "            X (pd.DataFrame): Features\n",
    "            y (pd.Series): Target\n",
    "        \"\"\"\n",
    "        self.X = X\n",
    "        self.y = y\n",
    "        \n",
    "        scaler = StandardScaler()\n",
    "        X_scaled = scaler.fit_transform(self.X)\n",
    "        \n",
    "        X_train, X_test, y_train, y_test = train_test_split(X_scaled, y, test_size = 0.20, random_state=5)\n",
    "        self.X_train = X_train\n",
    "        self.X_test = X_test\n",
    "        self.y_train = y_train\n",
    "        self.y_test = y_test\n",
    "\n",
    "    \n",
    "    def get_fitness(self,\n",
    "                    solution: Mapping[str, np.ndarray],\n",
    "                    data: Union[None, Tuple[np.ndarray, np.ndarray]] = None,\n",
    "                    ) -> Tuple[float, float]:\n",
    "        \"\"\"\n",
    "        Get fitness of a solution\n",
    "        \n",
    "        Args:\n",
    "            solution (Mapping[str, np.ndarray]): Solution to evaluate\n",
    "            data (Union[None, Tuple[np.ndarray, np.ndarray]], optional): Data to evaluate the solution. Defaults to None.\n",
    "        \n",
    "        Returns:\n",
    "            Tuple[float, float]: Fitness and accuracy of the solution    \n",
    "        \"\"\"\n",
    "        if data is None:\n",
    "            X_scaled = self.X_train\n",
    "            y_data = self.y_train\n",
    "        else:\n",
    "            X_scaled, y_data = data\n",
    "            \n",
    "        gamma, C = solution['real']\n",
    "        X_scaled_filtered = X_scaled[:, solution['discrete'].astype(int) == 1]\n",
    "        svc_model = SVC(gamma=gamma, C=C, kernel=\"rbf\", verbose=False)\n",
    "        svc_model.fit(X_scaled_filtered, np.ravel(y_data))\n",
    "        y_predict = svc_model.predict(X_scaled_filtered)\n",
    "        conf_matrix = confusion_matrix(y_data, y_predict)\n",
    "        accuracy = accuracy_score(y_data, y_predict) * 100\n",
    "        \n",
    "        return gsa_svm_fitness(accuracy=accuracy, solution=solution)\n",
    "\n",
    "uci = UCI(X, y)"
   ],
   "metadata": {
    "collapsed": false,
    "ExecuteTime": {
     "end_time": "2024-02-16T14:20:14.586472Z",
     "start_time": "2024-02-16T14:20:14.560561Z"
    }
   },
   "id": "8408aee361a77110",
   "execution_count": 38
  },
  {
   "cell_type": "code",
   "outputs": [
    {
     "data": {
      "text/plain": "(89.96620950109323, 98.56887298747765)"
     },
     "execution_count": 4,
     "metadata": {},
     "output_type": "execute_result"
    }
   ],
   "source": [
    "solution = {'real': [5, 20], 'discrete': np.array([0, 1, 1, 0, 0, 1, 0, 0, 1])}\n",
    "uci.get_fitness(solution=solution)"
   ],
   "metadata": {
    "collapsed": false,
    "ExecuteTime": {
     "end_time": "2024-02-15T19:35:48.300178Z",
     "start_time": "2024-02-15T19:35:48.269557Z"
    }
   },
   "id": "3f6ea53921d29029",
   "execution_count": 4
  },
  {
   "cell_type": "code",
   "outputs": [
    {
     "name": "stdout",
     "output_type": "stream",
     "text": [
      "GSA is optimizing  \"get_fitness\"\n",
      "['At iteration 1 the best fitness is 90.40233295964947']\n",
      "['At iteration 2 the best fitness is 91.53159094073081']\n",
      "['At iteration 3 the best fitness is 93.11176078371031']\n",
      "['At iteration 4 the best fitness is 93.28409498897267']\n",
      "['At iteration 5 the best fitness is 95.72271191904983']\n",
      "['At iteration 6 the best fitness is 95.72271191904983']\n",
      "['At iteration 7 the best fitness is 95.74733109123015']\n",
      "['At iteration 8 the best fitness is 95.74733109123015']\n",
      "['At iteration 9 the best fitness is 95.74733109123015']\n",
      "['At iteration 10 the best fitness is 95.74733109123015']\n",
      "['At iteration 11 the best fitness is 95.74733109123015']\n",
      "['At iteration 12 the best fitness is 95.74733109123015']\n",
      "['At iteration 13 the best fitness is 95.74733109123015']\n",
      "['At iteration 14 the best fitness is 96.03499439474206']\n",
      "['At iteration 15 the best fitness is 96.03499439474206']\n",
      "['At iteration 16 the best fitness is 96.03499439474206']\n",
      "['At iteration 17 the best fitness is 96.03499439474206']\n",
      "['At iteration 18 the best fitness is 96.03499439474206']\n",
      "['At iteration 19 the best fitness is 96.03499439474206']\n",
      "['At iteration 20 the best fitness is 96.03499439474206']\n",
      "{'real': array([35.44904068, 13.50187851]), 'discrete': array([0, 0, 0, 1, 0, 0, 1, 0, 0, 1, 0, 0, 0, 0, 0, 0, 0, 0, 0, 0, 0])}\n",
      "Test accuracy:  98.64615384615385  - Fitness:  96.05978021978024\n",
      "GSA is optimizing  \"get_fitness\"\n",
      "['At iteration 1 the best fitness is 88.57142857142857']\n",
      "['At iteration 2 the best fitness is 89.52380952380952']\n",
      "['At iteration 3 the best fitness is 90.47619047619048']\n",
      "['At iteration 4 the best fitness is 90.47619047619048']\n",
      "['At iteration 5 the best fitness is 93.33333333333334']\n",
      "['At iteration 6 the best fitness is 93.33333333333334']\n",
      "['At iteration 7 the best fitness is 93.33333333333334']\n",
      "['At iteration 8 the best fitness is 93.33333333333334']\n",
      "['At iteration 9 the best fitness is 93.33333333333334']\n",
      "['At iteration 10 the best fitness is 94.28571428571429']\n",
      "['At iteration 11 the best fitness is 94.28571428571429']\n",
      "['At iteration 12 the best fitness is 94.28571428571429']\n",
      "['At iteration 13 the best fitness is 94.28571428571429']\n",
      "['At iteration 14 the best fitness is 95.55037771378747']\n",
      "['At iteration 15 the best fitness is 95.55037771378747']\n",
      "['At iteration 16 the best fitness is 95.55037771378747']\n",
      "['At iteration 17 the best fitness is 95.55037771378747']\n",
      "['At iteration 18 the best fitness is 95.55037771378747']\n",
      "['At iteration 19 the best fitness is 95.55037771378747']\n",
      "['At iteration 20 the best fitness is 95.55037771378747']\n",
      "{'real': array([47.88824947, 18.70186347]), 'discrete': array([0, 0, 1, 0, 0, 0, 1, 0, 0, 1, 0, 0, 0, 0, 0, 0, 0, 0, 0, 0, 1])}\n",
      "Test accuracy:  99.26153846153845  - Fitness:  95.59970695970695\n",
      "GSA is optimizing  \"get_fitness\"\n",
      "['At iteration 1 the best fitness is 89.52380952380952']\n",
      "['At iteration 2 the best fitness is 89.52380952380952']\n",
      "['At iteration 3 the best fitness is 89.52380952380952']\n",
      "['At iteration 4 the best fitness is 90.91611163622242']\n",
      "['At iteration 5 the best fitness is 92.35310926955796']\n",
      "['At iteration 6 the best fitness is 93.33333333333334']\n",
      "['At iteration 7 the best fitness is 96.19047619047619']\n",
      "['At iteration 8 the best fitness is 96.19047619047619']\n",
      "['At iteration 9 the best fitness is 96.19047619047619']\n",
      "['At iteration 10 the best fitness is 96.19047619047619']\n",
      "['At iteration 11 the best fitness is 96.19047619047619']\n",
      "['At iteration 12 the best fitness is 96.19047619047619']\n",
      "['At iteration 13 the best fitness is 96.19047619047619']\n",
      "['At iteration 14 the best fitness is 96.19047619047619']\n",
      "['At iteration 15 the best fitness is 96.19047619047619']\n",
      "['At iteration 16 the best fitness is 96.19047619047619']\n",
      "['At iteration 17 the best fitness is 96.19047619047619']\n",
      "['At iteration 18 the best fitness is 96.19047619047619']\n",
      "['At iteration 19 the best fitness is 96.19047619047619']\n",
      "['At iteration 20 the best fitness is 96.19047619047619']\n",
      "{'real': array([16.2607273 , 10.49648974]), 'discrete': array([0, 0, 0, 1, 0, 0, 0, 0, 0, 1, 0, 0, 0, 0, 0, 0, 0, 1, 0, 0, 1])}\n",
      "Test accuracy:  100.0  - Fitness:  96.19047619047619\n",
      "GSA is optimizing  \"get_fitness\"\n",
      "['At iteration 1 the best fitness is 89.52380952380952']\n",
      "['At iteration 2 the best fitness is 90.84679694311947']\n",
      "['At iteration 3 the best fitness is 90.84679694311947']\n",
      "['At iteration 4 the best fitness is 92.30709486441137']\n",
      "['At iteration 5 the best fitness is 93.29640457506284']\n",
      "['At iteration 6 the best fitness is 93.29640457506284']\n",
      "['At iteration 7 the best fitness is 93.68254456729609']\n",
      "['At iteration 8 the best fitness is 93.68254456729609']\n",
      "['At iteration 9 the best fitness is 93.68254456729609']\n",
      "['At iteration 10 the best fitness is 93.68254456729609']\n",
      "['At iteration 11 the best fitness is 94.47490090050485']\n",
      "['At iteration 12 the best fitness is 94.47490090050485']\n",
      "['At iteration 13 the best fitness is 94.47490090050485']\n",
      "['At iteration 14 the best fitness is 94.47490090050485']\n",
      "['At iteration 15 the best fitness is 94.47490090050485']\n",
      "['At iteration 16 the best fitness is 94.47490090050485']\n",
      "['At iteration 17 the best fitness is 94.47490090050485']\n",
      "['At iteration 18 the best fitness is 94.47490090050485']\n",
      "['At iteration 19 the best fitness is 94.47490090050485']\n",
      "['At iteration 20 the best fitness is 94.47490090050485']\n",
      "{'real': array([19.48285065, 42.42766656]), 'discrete': array([1, 0, 0, 0, 0, 0, 0, 1, 1, 1, 0, 0, 0, 0, 0, 0, 0, 1, 0, 0, 0])}\n",
      "Test accuracy:  99.2  - Fitness:  94.59809523809525\n",
      "GSA is optimizing  \"get_fitness\"\n",
      "['At iteration 1 the best fitness is 92.02397438433752']\n",
      "['At iteration 2 the best fitness is 94.28571428571429']\n",
      "['At iteration 3 the best fitness is 94.28571428571429']\n",
      "['At iteration 4 the best fitness is 94.28571428571429']\n",
      "['At iteration 5 the best fitness is 94.28571428571429']\n",
      "['At iteration 6 the best fitness is 94.28571428571429']\n",
      "['At iteration 7 the best fitness is 94.28571428571429']\n",
      "['At iteration 8 the best fitness is 94.28571428571429']\n",
      "['At iteration 9 the best fitness is 94.28571428571429']\n",
      "['At iteration 10 the best fitness is 94.28571428571429']\n",
      "['At iteration 11 the best fitness is 94.28571428571429']\n",
      "['At iteration 12 the best fitness is 94.28571428571429']\n",
      "['At iteration 13 the best fitness is 94.28571428571429']\n",
      "['At iteration 14 the best fitness is 94.28571428571429']\n",
      "['At iteration 15 the best fitness is 94.28571428571429']\n",
      "['At iteration 16 the best fitness is 94.28571428571429']\n",
      "['At iteration 17 the best fitness is 94.28571428571429']\n",
      "['At iteration 18 the best fitness is 94.28571428571429']\n",
      "['At iteration 19 the best fitness is 94.28571428571429']\n",
      "['At iteration 20 the best fitness is 94.28571428571429']\n",
      "{'real': array([32.02243075, 31.48446958]), 'discrete': array([0, 1, 0, 1, 0, 1, 0, 0, 0, 1, 1, 0, 0, 0, 0, 0, 0, 0, 1, 0, 0])}\n",
      "Test accuracy:  100.0  - Fitness:  94.28571428571429\n",
      "GSA is optimizing  \"get_fitness\"\n",
      "['At iteration 1 the best fitness is 88.36216560789572']\n",
      "['At iteration 2 the best fitness is 92.38095238095238']\n",
      "['At iteration 3 the best fitness is 92.38095238095238']\n",
      "['At iteration 4 the best fitness is 92.38095238095238']\n",
      "['At iteration 5 the best fitness is 93.09945119762014']\n",
      "['At iteration 6 the best fitness is 94.413352970054']\n",
      "['At iteration 7 the best fitness is 94.78264055275905']\n",
      "['At iteration 8 the best fitness is 94.78264055275905']\n",
      "['At iteration 9 the best fitness is 94.78264055275905']\n",
      "['At iteration 10 the best fitness is 94.78264055275905']\n",
      "['At iteration 11 the best fitness is 94.78264055275905']\n",
      "['At iteration 12 the best fitness is 94.78264055275905']\n",
      "['At iteration 13 the best fitness is 94.78264055275905']\n",
      "['At iteration 14 the best fitness is 94.78264055275905']\n",
      "['At iteration 15 the best fitness is 95.1765473076444']\n",
      "['At iteration 16 the best fitness is 95.73502150514']\n",
      "['At iteration 17 the best fitness is 95.73502150514']\n",
      "['At iteration 18 the best fitness is 95.73502150514']\n",
      "['At iteration 19 the best fitness is 95.73502150514']\n",
      "['At iteration 20 the best fitness is 95.73502150514']\n",
      "{'real': array([23.4869007 , 18.21727527]), 'discrete': array([0, 0, 0, 1, 0, 0, 1, 1, 0, 0, 0, 0, 0, 0, 0, 0, 0, 0, 0, 0, 1])}\n",
      "Test accuracy:  99.32307692307693  - Fitness:  95.64893772893774\n",
      "GSA is optimizing  \"get_fitness\"\n",
      "['At iteration 1 the best fitness is 90.47619047619048']\n",
      "['At iteration 2 the best fitness is 91.42857142857143']\n",
      "['At iteration 3 the best fitness is 91.42857142857143']\n",
      "['At iteration 4 the best fitness is 91.42857142857143']\n",
      "['At iteration 5 the best fitness is 92.14707024523919']\n",
      "['At iteration 6 the best fitness is 92.14707024523919']\n",
      "['At iteration 7 the best fitness is 92.73016361491514']\n",
      "['At iteration 8 the best fitness is 93.09945119762014']\n",
      "['At iteration 9 the best fitness is 93.09945119762014']\n",
      "['At iteration 10 the best fitness is 93.09945119762014']\n",
      "['At iteration 11 the best fitness is 93.09945119762014']\n",
      "['At iteration 12 the best fitness is 93.09945119762014']\n",
      "['At iteration 13 the best fitness is 93.7933308421076']\n",
      "['At iteration 14 the best fitness is 93.7933308421076']\n",
      "['At iteration 15 the best fitness is 93.7933308421076']\n",
      "['At iteration 16 the best fitness is 93.7933308421076']\n",
      "['At iteration 17 the best fitness is 93.7933308421076']\n",
      "['At iteration 18 the best fitness is 93.7933308421076']\n",
      "['At iteration 19 the best fitness is 93.7933308421076']\n",
      "['At iteration 20 the best fitness is 93.7933308421076']\n",
      "{'real': array([ 9.01105931, 87.98999939]), 'discrete': array([1, 0, 0, 0, 0, 1, 1, 0, 0, 0, 0, 0, 0, 1, 0, 0, 0, 0, 1, 0, 1])}\n",
      "Test accuracy:  99.63076923076923  - Fitness:  93.99032967032969\n",
      "GSA is optimizing  \"get_fitness\"\n",
      "['At iteration 1 the best fitness is 92.38095238095238']\n",
      "['At iteration 2 the best fitness is 92.38095238095238']\n",
      "['At iteration 3 the best fitness is 92.38095238095238']\n",
      "['At iteration 4 the best fitness is 93.29640457506284']\n",
      "['At iteration 5 the best fitness is 93.29640457506284']\n",
      "['At iteration 6 the best fitness is 94.01490339173061']\n",
      "['At iteration 7 the best fitness is 94.01490339173061']\n",
      "['At iteration 8 the best fitness is 94.01490339173061']\n",
      "['At iteration 9 the best fitness is 94.11338008045195']\n",
      "['At iteration 10 the best fitness is 94.11338008045195']\n",
      "['At iteration 11 the best fitness is 94.11338008045195']\n",
      "['At iteration 12 the best fitness is 94.11338008045195']\n",
      "['At iteration 13 the best fitness is 94.11338008045195']\n",
      "['At iteration 14 the best fitness is 94.11338008045195']\n",
      "['At iteration 15 the best fitness is 94.11338008045195']\n",
      "['At iteration 16 the best fitness is 95.04114186065256']\n",
      "['At iteration 17 the best fitness is 95.90735571040233']\n",
      "['At iteration 18 the best fitness is 95.90735571040233']\n",
      "['At iteration 19 the best fitness is 95.90735571040233']\n",
      "['At iteration 20 the best fitness is 95.90735571040233']\n",
      "{'real': array([ 8.03501906, 80.32579509]), 'discrete': array([1, 0, 0, 1, 0, 0, 0, 0, 0, 0, 1, 0, 0, 0, 0, 0, 0, 0, 1, 0, 0])}\n",
      "Test accuracy:  99.6923076923077  - Fitness:  95.94432234432234\n",
      "GSA is optimizing  \"get_fitness\"\n",
      "['At iteration 1 the best fitness is 93.75640208383709']\n",
      "['At iteration 2 the best fitness is 94.28571428571429']\n",
      "['At iteration 3 the best fitness is 94.28571428571429']\n",
      "['At iteration 4 the best fitness is 94.28571428571429']\n",
      "['At iteration 5 the best fitness is 95.43959143897597']\n",
      "['At iteration 6 the best fitness is 95.43959143897597']\n",
      "['At iteration 7 the best fitness is 95.43959143897597']\n",
      "['At iteration 8 the best fitness is 95.43959143897597']\n",
      "['At iteration 9 the best fitness is 95.43959143897597']\n",
      "['At iteration 10 the best fitness is 95.43959143897597']\n",
      "['At iteration 11 the best fitness is 95.43959143897597']\n",
      "['At iteration 12 the best fitness is 95.43959143897597']\n",
      "['At iteration 13 the best fitness is 95.43959143897597']\n",
      "['At iteration 14 the best fitness is 95.43959143897597']\n",
      "['At iteration 15 the best fitness is 95.43959143897597']\n",
      "['At iteration 16 the best fitness is 95.43959143897597']\n",
      "['At iteration 17 the best fitness is 95.43959143897597']\n",
      "['At iteration 18 the best fitness is 95.43959143897597']\n",
      "['At iteration 19 the best fitness is 95.43959143897597']\n",
      "['At iteration 20 the best fitness is 95.43959143897597']\n",
      "{'real': array([ 3.78209135, 96.85719341]), 'discrete': array([1, 0, 0, 1, 0, 0, 1, 1, 0, 0, 0, 0, 0, 0, 0, 0, 0, 0, 0, 0, 0])}\n",
      "Test accuracy:  99.07692307692308  - Fitness:  95.45201465201465\n",
      "GSA is optimizing  \"get_fitness\"\n",
      "['At iteration 1 the best fitness is 93.33333333333334']\n",
      "['At iteration 2 the best fitness is 93.33333333333334']\n",
      "['At iteration 3 the best fitness is 93.33333333333334']\n",
      "['At iteration 4 the best fitness is 93.33333333333334']\n",
      "['At iteration 5 the best fitness is 93.33333333333334']\n",
      "['At iteration 6 the best fitness is 93.33333333333334']\n",
      "['At iteration 7 the best fitness is 93.33333333333334']\n",
      "['At iteration 8 the best fitness is 93.33333333333334']\n",
      "['At iteration 9 the best fitness is 94.28571428571429']\n",
      "['At iteration 10 the best fitness is 94.28571428571429']\n",
      "['At iteration 11 the best fitness is 94.28571428571429']\n",
      "['At iteration 12 the best fitness is 94.28571428571429']\n",
      "['At iteration 13 the best fitness is 94.28571428571429']\n",
      "['At iteration 14 the best fitness is 94.28571428571429']\n",
      "['At iteration 15 the best fitness is 94.28571428571429']\n",
      "['At iteration 16 the best fitness is 94.28571428571429']\n",
      "['At iteration 17 the best fitness is 94.28571428571429']\n",
      "['At iteration 18 the best fitness is 94.28571428571429']\n",
      "['At iteration 19 the best fitness is 94.28571428571429']\n",
      "['At iteration 20 the best fitness is 94.28571428571429']\n",
      "{'real': array([26.09227194, 18.02013168]), 'discrete': array([0, 0, 0, 1, 0, 0, 0, 0, 0, 1, 0, 1, 0, 0, 0, 0, 1, 0, 0, 1, 1])}\n",
      "Test accuracy:  100.0  - Fitness:  94.28571428571429\n"
     ]
    }
   ],
   "source": [
    "# Select number of repetitions for each experiment. \n",
    "runs = 10\n",
    "\n",
    "# Select chaotic constant\n",
    "chaotic_constant = True\n",
    "\n",
    "# Export results ?\n",
    "export = True\n",
    "\n",
    "save_path = \"data/output/\"\n",
    "if not os.path.exists(save_path):\n",
    "    os.makedirs(save_path)\n",
    "\n",
    "ExportToFile = save_path + \"experiment\" + time.strftime(\"%Y-%m-%d-%H-%M-%S_\") + str(chaotic_constant) + \".csv\"\n",
    "\n",
    "# Check if it works at least once\n",
    "atLeastOneIteration = False\n",
    "\n",
    "population_size = 5 \n",
    "iterations = 20\n",
    "\n",
    "boundaries = {'real': [(0.001, 50), (0.001, 100)], 'discrete': [(0, 1) for _ in range(len(X.columns))]}\n",
    "\n",
    "# CSV Header for the convergence\n",
    "CnvgHeader = [\"Sol_Iter\"+str(l+1) for l in range(iterations)]\n",
    "\n",
    "best_solution_history = []\n",
    "accuracy_history = []\n",
    "gamma_history = []\n",
    "c_history = []\n",
    "n_features_history = []\n",
    "\n",
    "uci = UCI(X, y)\n",
    "\n",
    "for k in range(runs):\n",
    "    gsa_algo = GSA(objective_function = uci.get_fitness,\n",
    "                   r_dim=2,\n",
    "                   d_dim=len(X.columns),\n",
    "                   boundaries=boundaries)\n",
    "    \n",
    "    gsa_algo.optimize(population_size=population_size,\n",
    "                      iters=iterations,\n",
    "                      chaotic_constant=True)\n",
    "    \n",
    "    print(gsa_algo.solution_history[-1])\n",
    "    fitness, accuracy = uci.get_fitness(solution=gsa_algo.solution_history[-1],\n",
    "                                        data=(uci.X_test, uci.y_test))\n",
    "    \n",
    "    print(\"Test accuracy: \", accuracy, \" - Fitness: \", fitness)\n",
    "    \n",
    "    best_solution_history.append(gsa_algo.solution_history[-1])\n",
    "    accuracy_history.append(accuracy)\n",
    "    gamma_history.append(gsa_algo.solution_history[-1]['real'][0])\n",
    "    c_history.append(gsa_algo.solution_history[-1]['real'][1])\n",
    "    n_features_history.append(np.sum(gsa_algo.solution_history[-1]['discrete']))\n",
    "    \n",
    "    if export:\n",
    "        with open(ExportToFile, 'a') as out:\n",
    "            writer = csv.writer(out, delimiter=',')\n",
    "            if not atLeastOneIteration:  # just one time to write the header of the CSV file\n",
    "                header = np.concatenate(\n",
    "                    [[\"Optimizer\", \"objfname\", \"startTime\", \"EndTime\", \"ExecutionTime\"], CnvgHeader])\n",
    "                writer.writerow(header)\n",
    "            a = np.concatenate(\n",
    "                [[gsa_algo.objective_function_name,\n",
    "                  gsa_algo.start_time,\n",
    "                  gsa_algo.end_time,\n",
    "                  gsa_algo.execution_time],\n",
    "                  gsa_algo.convergence])\n",
    "            writer.writerow(a)\n",
    "        out.close()\n",
    "    atLeastOneIteration = True  # at least one experiment\n",
    "\n",
    "if not atLeastOneIteration:  # Failed to run at least one experiment\n",
    "    print(\"No Optimizer or Cost function is selected. Check lists of available optimizers and cost functions\")"
   ],
   "metadata": {
    "collapsed": false,
    "ExecuteTime": {
     "end_time": "2024-02-16T14:22:47.774294Z",
     "start_time": "2024-02-16T14:20:17.779101Z"
    }
   },
   "id": "4897f401c150dc41",
   "execution_count": 39
  },
  {
   "cell_type": "code",
   "outputs": [
    {
     "data": {
      "text/plain": "[{'real': array([35.44904068, 13.50187851]),\n  'discrete': array([0, 0, 0, 1, 0, 0, 1, 0, 0, 1, 0, 0, 0, 0, 0, 0, 0, 0, 0, 0, 0])},\n {'real': array([47.88824947, 18.70186347]),\n  'discrete': array([0, 0, 1, 0, 0, 0, 1, 0, 0, 1, 0, 0, 0, 0, 0, 0, 0, 0, 0, 0, 1])},\n {'real': array([16.2607273 , 10.49648974]),\n  'discrete': array([0, 0, 0, 1, 0, 0, 0, 0, 0, 1, 0, 0, 0, 0, 0, 0, 0, 1, 0, 0, 1])},\n {'real': array([19.48285065, 42.42766656]),\n  'discrete': array([1, 0, 0, 0, 0, 0, 0, 1, 1, 1, 0, 0, 0, 0, 0, 0, 0, 1, 0, 0, 0])},\n {'real': array([32.02243075, 31.48446958]),\n  'discrete': array([0, 1, 0, 1, 0, 1, 0, 0, 0, 1, 1, 0, 0, 0, 0, 0, 0, 0, 1, 0, 0])},\n {'real': array([23.4869007 , 18.21727527]),\n  'discrete': array([0, 0, 0, 1, 0, 0, 1, 1, 0, 0, 0, 0, 0, 0, 0, 0, 0, 0, 0, 0, 1])},\n {'real': array([ 9.01105931, 87.98999939]),\n  'discrete': array([1, 0, 0, 0, 0, 1, 1, 0, 0, 0, 0, 0, 0, 1, 0, 0, 0, 0, 1, 0, 1])},\n {'real': array([ 8.03501906, 80.32579509]),\n  'discrete': array([1, 0, 0, 1, 0, 0, 0, 0, 0, 0, 1, 0, 0, 0, 0, 0, 0, 0, 1, 0, 0])},\n {'real': array([ 3.78209135, 96.85719341]),\n  'discrete': array([1, 0, 0, 1, 0, 0, 1, 1, 0, 0, 0, 0, 0, 0, 0, 0, 0, 0, 0, 0, 0])},\n {'real': array([26.09227194, 18.02013168]),\n  'discrete': array([0, 0, 0, 1, 0, 0, 0, 0, 0, 1, 0, 1, 0, 0, 0, 0, 1, 0, 0, 1, 1])}]"
     },
     "execution_count": 40,
     "metadata": {},
     "output_type": "execute_result"
    }
   ],
   "source": [
    "best_solution_history"
   ],
   "metadata": {
    "collapsed": false,
    "ExecuteTime": {
     "end_time": "2024-02-16T14:23:57.502463Z",
     "start_time": "2024-02-16T14:23:57.488375Z"
    }
   },
   "id": "3613b6d16a4f8afd",
   "execution_count": 40
  },
  {
   "cell_type": "code",
   "outputs": [
    {
     "data": {
      "text/plain": "[98.64615384615385,\n 99.26153846153845,\n 100.0,\n 99.2,\n 100.0,\n 99.32307692307693,\n 99.63076923076923,\n 99.6923076923077,\n 99.07692307692308,\n 100.0]"
     },
     "execution_count": 41,
     "metadata": {},
     "output_type": "execute_result"
    }
   ],
   "source": [
    "accuracy_history"
   ],
   "metadata": {
    "collapsed": false,
    "ExecuteTime": {
     "end_time": "2024-02-16T14:23:58.322383Z",
     "start_time": "2024-02-16T14:23:58.304635Z"
    }
   },
   "id": "78eca84fcbbd77d3",
   "execution_count": 41
  },
  {
   "cell_type": "code",
   "outputs": [
    {
     "name": "stdout",
     "output_type": "stream",
     "text": [
      "Mean accuracy: 99.48307692307692 +/- 0.4344458484854833\n",
      "Mean gamma: 22.151064119933398 +/- 13.058167537094185\n",
      "Mean C: 41.80227626960256 +/- 31.924435698963944\n",
      "Mean n_features: 4.6 +/- 1.019803902718557\n"
     ]
    }
   ],
   "source": [
    "mean_accuracy = np.mean(accuracy_history)\n",
    "std_accuracy = np.std(accuracy_history)\n",
    "\n",
    "print(f\"Mean accuracy: {mean_accuracy} +/- {std_accuracy}\")\n",
    "\n",
    "mean_gamma = np.mean(gamma_history)\n",
    "std_gamma = np.std(gamma_history)\n",
    "\n",
    "print(f\"Mean gamma: {mean_gamma} +/- {std_gamma}\")\n",
    "\n",
    "mean_c = np.mean(c_history)\n",
    "std_c = np.std(c_history)\n",
    "\n",
    "print(f\"Mean C: {mean_c} +/- {std_c}\")\n",
    "\n",
    "mean_n_features = np.mean(n_features_history)\n",
    "std_n_features = np.std(n_features_history)\n",
    "\n",
    "print(f\"Mean n_features: {mean_n_features} +/- {std_n_features}\")"
   ],
   "metadata": {
    "collapsed": false,
    "ExecuteTime": {
     "end_time": "2024-02-16T14:24:00.697725Z",
     "start_time": "2024-02-16T14:24:00.682762Z"
    }
   },
   "id": "d8cd988d571be123",
   "execution_count": 42
  },
  {
   "cell_type": "markdown",
   "source": [
    "                /\\ \n",
    "               /  \\\n",
    "                || \n",
    "                \n",
    "        Nuestros resultados\n",
    "        \n",
    "Dataset: Mushroom\n",
    "Instances: 8124 (Train / Test: 80% / 20%)\n",
    "Features: 22\n",
    "\n",
    "Resultados autores:\n",
    "\n",
    "| Metric | Value             |\n",
    "| --- |-------------------|\n",
    "| Accuracy | 98.06 +/- 0.78    |\n",
    "| Gamma | 0.0067 +/- 0.0144 |\n",
    "| C | 47.35 +/- 27.57   |\n",
    "| n_features | 3 +/- 2.16        |"
   ],
   "metadata": {
    "collapsed": false
   },
   "id": "f28fe49236098ff7"
  },
  {
   "cell_type": "markdown",
   "source": [
    "                /\\ \n",
    "               /  \\\n",
    "                || \n",
    "                \n",
    "        Nuestros resultados\n",
    "        \n",
    "Dataset: Breast Cancer Wisconsin (Diagnostic) Data Set\n",
    "\n",
    "Resultados autores:\n",
    "\n",
    "| Metric | Value             |\n",
    "| --- |-------------------|\n",
    "| Accuracy | 99.54 +/- 0.25    |\n",
    "| Gamma | 0.0685 +/- 0.1293 |\n",
    "| C | 40.30 +/- 22.37   |\n",
    "| n_features | 2 +/- 1           |"
   ],
   "metadata": {
    "collapsed": false
   },
   "id": "cba37a23b02daa50"
  },
  {
   "cell_type": "code",
   "outputs": [
    {
     "name": "stdout",
     "output_type": "stream",
     "text": [
      "Test accuracy:  100.0  - Fitness:  0.2666666666666666\n"
     ]
    }
   ],
   "source": [
    "solution= {'real': np.array([0.91833448, 34.69824839]),\n",
    "           'discrete': np.array([1, 1, 0, 1, 1, 1, 0, 1, 0])}\n",
    "\n",
    "fitness, accuracy = uci.get_fitness(solution=solution,\n",
    "                                    data=(uci.X_test_scaled, uci.y_test))\n",
    "\n",
    "print(\"Test accuracy: \", accuracy, \" - Fitness: \", fitness)"
   ],
   "metadata": {
    "collapsed": false,
    "ExecuteTime": {
     "end_time": "2024-02-15T17:11:39.475237Z",
     "start_time": "2024-02-15T17:11:39.454384Z"
    }
   },
   "id": "79f948a3e10b71ad",
   "execution_count": 8
  },
  {
   "cell_type": "code",
   "outputs": [],
   "source": [],
   "metadata": {
    "collapsed": false
   },
   "id": "bdf875026d9d4f13"
  }
 ],
 "metadata": {
  "kernelspec": {
   "display_name": "Python 3",
   "language": "python",
   "name": "python3"
  },
  "language_info": {
   "codemirror_mode": {
    "name": "ipython",
    "version": 2
   },
   "file_extension": ".py",
   "mimetype": "text/x-python",
   "name": "python",
   "nbconvert_exporter": "python",
   "pygments_lexer": "ipython2",
   "version": "2.7.6"
  }
 },
 "nbformat": 4,
 "nbformat_minor": 5
}
