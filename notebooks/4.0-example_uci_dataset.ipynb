{
 "cells": [
  {
   "cell_type": "code",
   "outputs": [],
   "source": [
    "%load_ext autoreload\n",
    "%autoreload 2\n",
    "\n",
    "import csv\n",
    "import numpy as np\n",
    "import os\n",
    "import pandas as pd\n",
    "import time\n",
    "\n",
    "from benchmarks import gsa_svm_fitness\n",
    "from src.entities import GSA\n",
    "\n",
    "from sklearn.metrics import accuracy_score, classification_report, confusion_matrix\n",
    "from sklearn.model_selection import train_test_split\n",
    "from sklearn.preprocessing import LabelEncoder, StandardScaler\n",
    "from sklearn.svm import SVC\n",
    "from typing import Mapping, Tuple, Union\n",
    "from ucimlrepo import fetch_ucirepo"
   ],
   "metadata": {
    "collapsed": false,
    "ExecuteTime": {
     "end_time": "2024-02-20T13:19:27.251172Z",
     "start_time": "2024-02-20T13:19:22.045210Z"
    }
   },
   "id": "af8f319d1e0e6966",
   "execution_count": 1
  },
  {
   "cell_type": "code",
   "outputs": [],
   "source": [
    "# Fetch dataset \n",
    "breast_cancer_wisconsin_original = fetch_ucirepo(id=15) \n",
    "  \n",
    "# Data (as pandas dataframes) \n",
    "X = breast_cancer_wisconsin_original.data.features \n",
    "X = X.fillna(value=0)  # Fill missing values with 0\n",
    "\n",
    "y = breast_cancer_wisconsin_original.data.targets "
   ],
   "metadata": {
    "collapsed": false,
    "ExecuteTime": {
     "end_time": "2024-02-20T13:19:30.542187Z",
     "start_time": "2024-02-20T13:19:28.770404Z"
    }
   },
   "id": "ea3b08e5c4d65f73",
   "execution_count": 2
  },
  {
   "cell_type": "code",
   "outputs": [],
   "source": [
    "# Fetch dataset \n",
    "mushroom = fetch_ucirepo(id=73) \n",
    "  \n",
    "# data (as pandas dataframes) \n",
    "X = mushroom.data.features\n",
    "encoder = LabelEncoder()\n",
    "for col in X.columns:\n",
    "    X.loc[:, col] = encoder.fit_transform(X[col])\n",
    "    \n",
    "y = mushroom.data.targets "
   ],
   "metadata": {
    "collapsed": false,
    "ExecuteTime": {
     "end_time": "2024-02-19T16:44:29.100983Z",
     "start_time": "2024-02-19T16:44:26.531075Z"
    }
   },
   "id": "a05c69aea9217d8",
   "execution_count": 2
  },
  {
   "cell_type": "code",
   "outputs": [],
   "source": [
    "X = X.iloc[:,1:23]  \n",
    "y = y.iloc[:, 0]"
   ],
   "metadata": {
    "collapsed": false,
    "ExecuteTime": {
     "end_time": "2024-02-19T16:44:29.750544Z",
     "start_time": "2024-02-19T16:44:29.734344Z"
    }
   },
   "id": "a7baa264ac8b15cf",
   "execution_count": 3
  },
  {
   "cell_type": "code",
   "outputs": [],
   "source": [
    "class UCI:\n",
    "    \"\"\"\n",
    "    Class to handle UCI datasets\n",
    "    \n",
    "    Args:\n",
    "        X (pd.DataFrame): Features\n",
    "        y (pd.Series): Target\n",
    "    \"\"\"\n",
    "    def __init__(self,\n",
    "                 X: pd.DataFrame,\n",
    "                 y: pd.Series,\n",
    "                 boundaries: Mapping[str, Tuple[Tuple[float, float], ...]] = None\n",
    "                 ) -> None:\n",
    "        \"\"\"\n",
    "        Constructor\n",
    "        \n",
    "        Args:\n",
    "            X (pd.DataFrame): Features\n",
    "            y (pd.Series): Target\n",
    "        \"\"\"\n",
    "        self.X = X\n",
    "        self.y = y\n",
    "        self.boundaries = boundaries\n",
    "        \n",
    "        scaler = StandardScaler()\n",
    "        X_scaled = scaler.fit_transform(self.X)\n",
    "        \n",
    "        X_train, X_test, y_train, y_test = train_test_split(X_scaled, y, test_size = 0.20, random_state=5)\n",
    "        self.X_train = X_train\n",
    "        self.X_test = X_test\n",
    "        self.y_train = y_train\n",
    "        self.y_test = y_test\n",
    "\n",
    "    \n",
    "    def get_fitness(self,\n",
    "                    solution: Mapping[str, np.ndarray],\n",
    "                    data: Union[None, Tuple[np.ndarray, np.ndarray]] = None,\n",
    "                    ) -> Tuple[float, float]:\n",
    "        \"\"\"\n",
    "        Get fitness of a solution\n",
    "        \n",
    "        Args:\n",
    "            solution (Mapping[str, np.ndarray]): Solution to evaluate\n",
    "            data (Union[None, Tuple[np.ndarray, np.ndarray]], optional): Data to evaluate the solution. Defaults to None.\n",
    "        \n",
    "        Returns:\n",
    "            Tuple[float, float]: Fitness and accuracy of the solution    \n",
    "        \"\"\"\n",
    "        if data is None:\n",
    "            X_scaled = self.X_train\n",
    "            y_data = self.y_train\n",
    "        else:\n",
    "            X_scaled, y_data = data\n",
    "            \n",
    "        gamma, C = solution['real']\n",
    "        gamma /= 1000\n",
    "        C /= 1000\n",
    "        X_scaled_filtered = X_scaled[:, solution['discrete'].astype(int) == 1]\n",
    "        svc_model = SVC(gamma=gamma, C=C, kernel=\"rbf\", verbose=False)\n",
    "        svc_model.fit(X_scaled_filtered, np.ravel(y_data))\n",
    "        y_predict = svc_model.predict(X_scaled_filtered)\n",
    "        conf_matrix = confusion_matrix(y_data, y_predict)\n",
    "        accuracy = accuracy_score(y_data, y_predict) * 100\n",
    "        \n",
    "        return gsa_svm_fitness(accuracy=accuracy, solution=solution)\n",
    "    \n",
    "    def is_feasible(self, solution: Mapping[str, np.ndarray]) -> bool:\n",
    "        \"\"\"\n",
    "        Check if a solution is feasable\n",
    "        \n",
    "        Args:\n",
    "            solution (Mapping[str, np.ndarray]): Solution to evaluate\n",
    "        \n",
    "        Returns:\n",
    "            bool: True if the solution is feasable, False otherwise\n",
    "        \"\"\"\n",
    "        real_values = solution['real']\n",
    "        discrete_values = solution['discrete']\n",
    "        \n",
    "        for i, (min_val, max_val) in enumerate(self.boundaries['real']):\n",
    "            if real_values[i] < min_val or real_values[i] > max_val:\n",
    "                return False\n",
    "            \n",
    "        for i, (min_val, max_val) in enumerate(self.boundaries['discrete']):\n",
    "            if discrete_values[i] < min_val or discrete_values[i] > max_val:\n",
    "                return False\n",
    "        \n",
    "        return True\n",
    "\n",
    "boundaries = {'real': [(1, 100_000), (1, 100_000)], 'discrete': [(0, 1) for _ in range(len(X.columns))]}\n",
    "uci = UCI(X, y, boundaries)"
   ],
   "metadata": {
    "collapsed": false,
    "ExecuteTime": {
     "end_time": "2024-02-20T13:19:32.949717Z",
     "start_time": "2024-02-20T13:19:32.930878Z"
    }
   },
   "id": "8408aee361a77110",
   "execution_count": 3
  },
  {
   "cell_type": "code",
   "outputs": [
    {
     "data": {
      "text/plain": "True"
     },
     "execution_count": 5,
     "metadata": {},
     "output_type": "execute_result"
    }
   ],
   "source": [
    "uci.is_feasible({'real': np.array([1.91833448, 34.69824839]),\n",
    "                 'discrete': np.array([1, 1, 0, 1, 1, 1, 0, 1, 0])})"
   ],
   "metadata": {
    "collapsed": false,
    "ExecuteTime": {
     "end_time": "2024-02-20T13:20:12.014888Z",
     "start_time": "2024-02-20T13:20:12.001584Z"
    }
   },
   "id": "888a3acb1d5beada",
   "execution_count": 5
  },
  {
   "cell_type": "code",
   "outputs": [
    {
     "name": "stdout",
     "output_type": "stream",
     "text": [
      "GSA is optimizing  \"get_fitness\"\n",
      "['At iteration 1 the best fitness is 90.81309212406306']\n",
      "['At iteration 2 the best fitness is 91.08844584148478']\n",
      "['At iteration 3 the best fitness is 92.55782940965278']\n",
      "['At iteration 4 the best fitness is 92.55782940965278']\n",
      "['At iteration 5 the best fitness is 92.55782940965278']\n",
      "['At iteration 6 the best fitness is 92.55782940965278']\n",
      "['At iteration 7 the best fitness is 92.55782940965278']\n",
      "['At iteration 8 the best fitness is 92.55782940965278']\n",
      "['At iteration 9 the best fitness is 92.55782940965278']\n",
      "['At iteration 10 the best fitness is 92.55782940965278']\n",
      "['At iteration 11 the best fitness is 93.05475567669752']\n",
      "['At iteration 12 the best fitness is 93.05475567669752']\n",
      "['At iteration 13 the best fitness is 93.05475567669752']\n",
      "['At iteration 14 the best fitness is 93.05475567669752']\n",
      "['At iteration 15 the best fitness is 93.05475567669752']\n",
      "['At iteration 16 the best fitness is 93.14546560276673']\n",
      "['At iteration 17 the best fitness is 93.14546560276673']\n",
      "['At iteration 18 the best fitness is 93.14546560276673']\n",
      "['At iteration 19 the best fitness is 93.25947581679233']\n",
      "['At iteration 20 the best fitness is 93.7363257350948']\n",
      "{'real': array([43616.09323357, 63817.03205613]), 'discrete': array([1, 0, 0, 0, 0, 0, 1, 1, 1, 0, 0, 0, 0, 0, 0, 0, 0, 1, 0, 0, 0])}\n",
      "Test accuracy:  98.4  - Fitness:  93.95809523809525\n",
      "GSA is optimizing  \"get_fitness\"\n",
      "['At iteration 1 the best fitness is 91.85164017907518']\n",
      "['At iteration 2 the best fitness is 91.85164017907518']\n",
      "['At iteration 3 the best fitness is 92.50859106529211']\n",
      "['At iteration 4 the best fitness is 92.50859106529211']\n",
      "['At iteration 5 the best fitness is 92.50859106529211']\n",
      "['At iteration 6 the best fitness is 92.50859106529211']\n",
      "['At iteration 7 the best fitness is 92.50859106529211']\n",
      "['At iteration 8 the best fitness is 92.50859106529211']\n",
      "['At iteration 9 the best fitness is 92.50859106529211']\n",
      "['At iteration 10 the best fitness is 92.50859106529211']\n",
      "['At iteration 11 the best fitness is 92.50859106529211']\n",
      "['At iteration 12 the best fitness is 92.50859106529211']\n",
      "['At iteration 13 the best fitness is 92.50859106529211']\n",
      "['At iteration 14 the best fitness is 92.50859106529211']\n",
      "['At iteration 15 the best fitness is 92.50859106529211']\n",
      "['At iteration 16 the best fitness is 92.98866492280865']\n",
      "['At iteration 17 the best fitness is 92.98866492280865']\n",
      "['At iteration 18 the best fitness is 92.98866492280865']\n",
      "['At iteration 19 the best fitness is 93.9410458751896']\n",
      "['At iteration 20 the best fitness is 93.9410458751896']\n",
      "{'real': array([ 6381.35140442, 80863.02641048]), 'discrete': array([0, 1, 0, 1, 0, 0, 0, 1, 0, 0, 1, 0, 0, 0, 1, 0, 1, 0, 0, 0, 0])}\n",
      "Test accuracy:  99.63076923076923  - Fitness:  93.99032967032969\n",
      "GSA is optimizing  \"get_fitness\"\n",
      "['At iteration 1 the best fitness is 94.07645132218144']\n",
      "['At iteration 2 the best fitness is 94.07645132218144']\n",
      "['At iteration 3 the best fitness is 94.07645132218144']\n",
      "['At iteration 4 the best fitness is 94.07645132218144']\n",
      "['At iteration 5 the best fitness is 94.07645132218144']\n",
      "['At iteration 6 the best fitness is 94.07645132218144']\n",
      "['At iteration 7 the best fitness is 94.07645132218144']\n",
      "['At iteration 8 the best fitness is 94.28571428571429']\n",
      "['At iteration 9 the best fitness is 94.28571428571429']\n",
      "['At iteration 10 the best fitness is 94.28571428571429']\n",
      "['At iteration 11 the best fitness is 94.28571428571429']\n",
      "['At iteration 12 the best fitness is 94.28571428571429']\n",
      "['At iteration 13 the best fitness is 95.15192813546406']\n",
      "['At iteration 14 the best fitness is 95.15192813546406']\n",
      "['At iteration 15 the best fitness is 95.15192813546406']\n",
      "['At iteration 16 the best fitness is 95.15192813546406']\n",
      "['At iteration 17 the best fitness is 95.15192813546406']\n",
      "['At iteration 18 the best fitness is 95.15192813546406']\n",
      "['At iteration 19 the best fitness is 95.15192813546406']\n",
      "['At iteration 20 the best fitness is 96.67509287143079']\n",
      "{'real': array([62967.11912781, 46645.83110483]), 'discrete': array([0, 0, 1, 1, 0, 0, 0, 0, 0, 0, 0, 0, 0, 0, 0, 0, 0, 0, 1, 0, 0])}\n",
      "Test accuracy:  99.38461538461539  - Fitness:  96.65054945054945\n",
      "GSA is optimizing  \"get_fitness\"\n",
      "['At iteration 1 the best fitness is 91.36702349812059']\n",
      "['At iteration 2 the best fitness is 93.33333333333334']\n",
      "['At iteration 3 the best fitness is 93.33333333333334']\n",
      "['At iteration 4 the best fitness is 93.33333333333334']\n",
      "['At iteration 5 the best fitness is 93.86718835864859']\n",
      "['At iteration 6 the best fitness is 93.86718835864859']\n",
      "['At iteration 7 the best fitness is 93.86718835864859']\n",
      "['At iteration 8 the best fitness is 93.86718835864859']\n",
      "['At iteration 9 the best fitness is 93.86718835864859']\n",
      "['At iteration 10 the best fitness is 94.13799925263228']\n",
      "['At iteration 11 the best fitness is 94.13799925263228']\n",
      "['At iteration 12 the best fitness is 94.13799925263228']\n",
      "['At iteration 13 the best fitness is 94.13799925263228']\n",
      "['At iteration 14 the best fitness is 94.13799925263228']\n",
      "['At iteration 15 the best fitness is 94.13799925263228']\n",
      "['At iteration 16 the best fitness is 94.13799925263228']\n",
      "['At iteration 17 the best fitness is 94.13799925263228']\n",
      "['At iteration 18 the best fitness is 94.13799925263228']\n",
      "['At iteration 19 the best fitness is 94.13799925263228']\n",
      "['At iteration 20 the best fitness is 94.13799925263228']\n",
      "{'real': array([33588.34266432, 66832.28220316]), 'discrete': array([0, 0, 0, 1, 0, 0, 1, 0, 0, 0, 1, 1, 0, 0, 0, 0, 1, 0, 0, 1, 0])}\n",
      "Test accuracy:  99.75384615384615  - Fitness:  94.08879120879122\n",
      "GSA is optimizing  \"get_fitness\"\n",
      "['At iteration 1 the best fitness is 90.70230584925154']\n",
      "['At iteration 2 the best fitness is 92.97635533671848']\n",
      "['At iteration 3 the best fitness is 92.97635533671848']\n",
      "['At iteration 4 the best fitness is 92.97635533671848']\n",
      "['At iteration 5 the best fitness is 92.97635533671848']\n",
      "['At iteration 6 the best fitness is 92.97635533671848']\n",
      "['At iteration 7 the best fitness is 92.97635533671848']\n",
      "['At iteration 8 the best fitness is 92.97635533671848']\n",
      "['At iteration 9 the best fitness is 92.97635533671848']\n",
      "['At iteration 10 the best fitness is 92.97635533671848']\n",
      "['At iteration 11 the best fitness is 93.18561830025132']\n",
      "['At iteration 12 the best fitness is 93.18561830025132']\n",
      "['At iteration 13 the best fitness is 93.18561830025132']\n",
      "['At iteration 14 the best fitness is 93.18561830025132']\n",
      "['At iteration 15 the best fitness is 93.18561830025132']\n",
      "['At iteration 16 the best fitness is 93.18561830025132']\n",
      "['At iteration 17 the best fitness is 93.18561830025132']\n",
      "['At iteration 18 the best fitness is 93.18561830025132']\n",
      "['At iteration 19 the best fitness is 93.18561830025132']\n",
      "['At iteration 20 the best fitness is 93.18561830025132']\n",
      "{'real': array([55292.23317125, 51986.15210918]), 'discrete': array([1, 0, 0, 1, 0, 1, 0, 0, 0, 0, 1, 0, 0, 1, 0, 0, 1, 0, 0, 1, 0])}\n",
      "Test accuracy:  99.75384615384615  - Fitness:  93.13641025641027\n",
      "GSA is optimizing  \"get_fitness\"\n",
      "['At iteration 1 the best fitness is 89.81279171154537']\n",
      "['At iteration 2 the best fitness is 91.17007012067792']\n",
      "['At iteration 3 the best fitness is 91.17007012067792']\n",
      "['At iteration 4 the best fitness is 91.17007012067792']\n",
      "['At iteration 5 the best fitness is 91.17007012067792']\n",
      "['At iteration 6 the best fitness is 91.17007012067792']\n",
      "['At iteration 7 the best fitness is 91.42857142857143']\n",
      "['At iteration 8 the best fitness is 91.88856893734568']\n",
      "['At iteration 9 the best fitness is 93.33333333333334']\n",
      "['At iteration 10 the best fitness is 93.33333333333334']\n",
      "['At iteration 11 the best fitness is 93.33333333333334']\n",
      "['At iteration 12 the best fitness is 93.33333333333334']\n",
      "['At iteration 13 the best fitness is 93.33333333333334']\n",
      "['At iteration 14 the best fitness is 93.33333333333334']\n",
      "['At iteration 15 the best fitness is 93.33333333333334']\n",
      "['At iteration 16 the best fitness is 93.33333333333334']\n",
      "['At iteration 17 the best fitness is 93.33333333333334']\n",
      "['At iteration 18 the best fitness is 93.33333333333334']\n",
      "['At iteration 19 the best fitness is 93.33333333333334']\n",
      "['At iteration 20 the best fitness is 93.33333333333334']\n",
      "{'real': array([59757.16656072, 56852.13310564]), 'discrete': array([1, 0, 0, 0, 0, 0, 0, 0, 1, 1, 0, 0, 0, 0, 0, 0, 1, 1, 1, 0, 1])}\n",
      "Test accuracy:  100.0  - Fitness:  93.33333333333334\n",
      "GSA is optimizing  \"get_fitness\"\n",
      "['At iteration 1 the best fitness is 90.93618798496473']\n",
      "['At iteration 2 the best fitness is 92.54551982356261']\n",
      "['At iteration 3 the best fitness is 92.54551982356261']\n",
      "['At iteration 4 the best fitness is 93.54713912030424']\n",
      "['At iteration 5 the best fitness is 93.89180753082893']\n",
      "['At iteration 6 the best fitness is 93.89180753082893']\n",
      "['At iteration 7 the best fitness is 93.89180753082893']\n",
      "['At iteration 8 the best fitness is 93.89180753082893']\n",
      "['At iteration 9 the best fitness is 93.89180753082893']\n",
      "['At iteration 10 the best fitness is 94.7949501388492']\n",
      "['At iteration 11 the best fitness is 94.7949501388492']\n",
      "['At iteration 12 the best fitness is 94.7949501388492']\n",
      "['At iteration 13 the best fitness is 94.7949501388492']\n",
      "['At iteration 14 the best fitness is 94.7949501388492']\n",
      "['At iteration 15 the best fitness is 94.7949501388492']\n",
      "['At iteration 16 the best fitness is 94.7949501388492']\n",
      "['At iteration 17 the best fitness is 94.7949501388492']\n",
      "['At iteration 18 the best fitness is 94.7949501388492']\n",
      "['At iteration 19 the best fitness is 94.7949501388492']\n",
      "['At iteration 20 the best fitness is 94.7949501388492']\n",
      "{'real': array([84567.72521235, 82262.94628858]), 'discrete': array([0, 0, 0, 1, 0, 0, 0, 0, 0, 0, 0, 0, 0, 1, 1, 1, 0, 0, 0, 0, 1])}\n",
      "Test accuracy:  99.50769230769231  - Fitness:  94.8442490842491\n",
      "GSA is optimizing  \"get_fitness\"\n",
      "['At iteration 1 the best fitness is 90.45157130401014']\n",
      "['At iteration 2 the best fitness is 91.42857142857143']\n",
      "['At iteration 3 the best fitness is 91.42857142857143']\n",
      "['At iteration 4 the best fitness is 91.42857142857143']\n",
      "['At iteration 5 the best fitness is 92.38095238095238']\n",
      "['At iteration 6 the best fitness is 92.38095238095238']\n",
      "['At iteration 7 the best fitness is 92.38095238095238']\n",
      "['At iteration 8 the best fitness is 92.38095238095238']\n",
      "['At iteration 9 the best fitness is 92.38095238095238']\n",
      "['At iteration 10 the best fitness is 92.38095238095238']\n",
      "['At iteration 11 the best fitness is 92.38095238095238']\n",
      "['At iteration 12 the best fitness is 92.38095238095238']\n",
      "['At iteration 13 the best fitness is 93.33333333333334']\n",
      "['At iteration 14 the best fitness is 93.33333333333334']\n",
      "['At iteration 15 the best fitness is 93.33333333333334']\n",
      "['At iteration 16 the best fitness is 93.33333333333334']\n",
      "['At iteration 17 the best fitness is 93.33333333333334']\n",
      "['At iteration 18 the best fitness is 93.33333333333334']\n",
      "['At iteration 19 the best fitness is 93.40396691066026']\n",
      "['At iteration 20 the best fitness is 93.40396691066026']\n",
      "{'real': array([23241.90738793,  3008.82366331]), 'discrete': array([1, 0, 0, 0, 0, 0, 0, 0, 0, 1, 0, 0, 0, 1, 0, 0, 0, 0, 1, 0, 1])}\n",
      "Test accuracy:  97.84615384615385  - Fitness:  93.51501831501832\n",
      "GSA is optimizing  \"get_fitness\"\n",
      "['At iteration 1 the best fitness is 91.42857142857143']\n",
      "['At iteration 2 the best fitness is 91.42857142857143']\n",
      "['At iteration 3 the best fitness is 91.42857142857143']\n",
      "['At iteration 4 the best fitness is 91.42857142857143']\n",
      "['At iteration 5 the best fitness is 91.42857142857143']\n",
      "['At iteration 6 the best fitness is 91.53613376416885']\n",
      "['At iteration 7 the best fitness is 91.53613376416885']\n",
      "['At iteration 8 the best fitness is 91.53613376416885']\n",
      "['At iteration 9 the best fitness is 92.34402362268187']\n",
      "['At iteration 10 the best fitness is 92.38095238095238']\n",
      "['At iteration 11 the best fitness is 93.1778515375992']\n",
      "['At iteration 12 the best fitness is 93.1778515375992']\n",
      "['At iteration 13 the best fitness is 93.33333333333334']\n",
      "['At iteration 14 the best fitness is 93.33333333333334']\n",
      "['At iteration 15 the best fitness is 94.13799925263228']\n",
      "['At iteration 16 the best fitness is 94.13799925263228']\n",
      "['At iteration 17 the best fitness is 94.13799925263228']\n",
      "['At iteration 18 the best fitness is 94.13799925263228']\n",
      "['At iteration 19 the best fitness is 94.13799925263228']\n",
      "['At iteration 20 the best fitness is 94.13799925263228']\n",
      "{'real': array([98310.42768256, 89433.12685802]), 'discrete': array([0, 0, 0, 1, 1, 0, 0, 0, 1, 0, 0, 0, 0, 0, 0, 1, 0, 0, 1, 0, 1])}\n",
      "Test accuracy:  99.75384615384615  - Fitness:  94.08879120879122\n",
      "GSA is optimizing  \"get_fitness\"\n",
      "['At iteration 1 the best fitness is 90.91611163622242']\n",
      "['At iteration 2 the best fitness is 91.42857142857143']\n",
      "['At iteration 3 the best fitness is 91.42857142857143']\n",
      "['At iteration 4 the best fitness is 91.42857142857143']\n",
      "['At iteration 5 the best fitness is 91.42857142857143']\n",
      "['At iteration 6 the best fitness is 92.60706775401346']\n",
      "['At iteration 7 the best fitness is 92.60706775401346']\n",
      "['At iteration 8 the best fitness is 92.60706775401346']\n",
      "['At iteration 9 the best fitness is 92.60706775401346']\n",
      "['At iteration 10 the best fitness is 92.93165981579585']\n",
      "['At iteration 11 the best fitness is 92.93165981579585']\n",
      "['At iteration 12 the best fitness is 92.93165981579585']\n",
      "['At iteration 13 the best fitness is 92.93165981579585']\n",
      "['At iteration 14 the best fitness is 92.93165981579585']\n",
      "['At iteration 15 the best fitness is 94.28571428571429']\n",
      "['At iteration 16 the best fitness is 94.28571428571429']\n",
      "['At iteration 17 the best fitness is 94.28571428571429']\n",
      "['At iteration 18 the best fitness is 95.23809523809524']\n",
      "['At iteration 19 the best fitness is 96.01814198521384']\n",
      "['At iteration 20 the best fitness is 96.01814198521384']\n",
      "{'real': array([13368.03657157, 54554.37871788]), 'discrete': array([0, 0, 1, 1, 0, 0, 0, 0, 0, 0, 0, 0, 0, 0, 0, 0, 0, 0, 1, 0, 1])}\n",
      "Test accuracy:  99.87692307692308  - Fitness:  96.09201465201465\n"
     ]
    }
   ],
   "source": [
    "# Select number of repetitions for each experiment. \n",
    "runs = 10\n",
    "\n",
    "# Select chaotic constant\n",
    "chaotic_constant = True\n",
    "\n",
    "# Export results ?\n",
    "export = True\n",
    "\n",
    "save_path = \"data/output/\"\n",
    "if not os.path.exists(save_path):\n",
    "    os.makedirs(save_path)\n",
    "\n",
    "ExportToFile = save_path + \"experiment\" + time.strftime(\"%Y-%m-%d-%H-%M-%S_\") + str(chaotic_constant) + \".csv\"\n",
    "\n",
    "# Check if it works at least once\n",
    "atLeastOneIteration = False\n",
    "\n",
    "population_size = 5 \n",
    "iterations = 20\n",
    "\n",
    "boundaries = {'real': [(1, 100_000), (1, 100_000)], 'discrete': [(0, 1) for _ in range(len(X.columns))]}\n",
    "\n",
    "# CSV Header for the convergence\n",
    "CnvgHeader = [\"Sol_Iter\"+str(l+1) for l in range(iterations)]\n",
    "\n",
    "best_solution_history = []\n",
    "accuracy_history = []\n",
    "gamma_history = []\n",
    "c_history = []\n",
    "n_features_history = []\n",
    "\n",
    "uci = UCI(X, y)\n",
    "\n",
    "for k in range(runs):\n",
    "    gsa_algo = GSA(objective_function = uci.get_fitness,\n",
    "                   r_dim=2,\n",
    "                   d_dim=len(X.columns),\n",
    "                   boundaries=boundaries)\n",
    "    \n",
    "    gsa_algo.optimize(population_size=population_size,\n",
    "                      iters=iterations,\n",
    "                      chaotic_constant=True)\n",
    "    \n",
    "    print(gsa_algo.solution_history[-1])\n",
    "    fitness, accuracy = uci.get_fitness(solution=gsa_algo.solution_history[-1],\n",
    "                                        data=(uci.X_test, uci.y_test))\n",
    "    \n",
    "    print(\"Test accuracy: \", accuracy, \" - Fitness: \", fitness)\n",
    "    \n",
    "    best_solution_history.append(gsa_algo.solution_history[-1])\n",
    "    accuracy_history.append(accuracy)\n",
    "    gamma_history.append(gsa_algo.solution_history[-1]['real'][0] / 1000)\n",
    "    c_history.append(gsa_algo.solution_history[-1]['real'][1] / 1000)\n",
    "    n_features_history.append(np.sum(gsa_algo.solution_history[-1]['discrete']))\n",
    "    \n",
    "    if export:\n",
    "        with open(ExportToFile, 'a') as out:\n",
    "            writer = csv.writer(out, delimiter=',')\n",
    "            if not atLeastOneIteration:  # just one time to write the header of the CSV file\n",
    "                header = np.concatenate(\n",
    "                    [[\"Optimizer\", \"objfname\", \"startTime\", \"EndTime\", \"ExecutionTime\"], CnvgHeader])\n",
    "                writer.writerow(header)\n",
    "            a = np.concatenate(\n",
    "                [[gsa_algo.objective_function_name,\n",
    "                  gsa_algo.start_time,\n",
    "                  gsa_algo.end_time,\n",
    "                  gsa_algo.execution_time],\n",
    "                  gsa_algo.convergence])\n",
    "            writer.writerow(a)\n",
    "        out.close()\n",
    "    atLeastOneIteration = True  # at least one experiment\n",
    "\n",
    "if not atLeastOneIteration:  # Failed to run at least one experiment\n",
    "    print(\"No Optimizer or Cost function is selected. Check lists of available optimizers and cost functions\")"
   ],
   "metadata": {
    "collapsed": false,
    "ExecuteTime": {
     "end_time": "2024-02-19T16:47:00.199719Z",
     "start_time": "2024-02-19T16:44:36.400414Z"
    }
   },
   "id": "4897f401c150dc41",
   "execution_count": 5
  },
  {
   "cell_type": "code",
   "outputs": [
    {
     "data": {
      "text/plain": "[{'real': array([43616.09323357, 63817.03205613]),\n  'discrete': array([1, 0, 0, 0, 0, 0, 1, 1, 1, 0, 0, 0, 0, 0, 0, 0, 0, 1, 0, 0, 0])},\n {'real': array([ 6381.35140442, 80863.02641048]),\n  'discrete': array([0, 1, 0, 1, 0, 0, 0, 1, 0, 0, 1, 0, 0, 0, 1, 0, 1, 0, 0, 0, 0])},\n {'real': array([62967.11912781, 46645.83110483]),\n  'discrete': array([0, 0, 1, 1, 0, 0, 0, 0, 0, 0, 0, 0, 0, 0, 0, 0, 0, 0, 1, 0, 0])},\n {'real': array([33588.34266432, 66832.28220316]),\n  'discrete': array([0, 0, 0, 1, 0, 0, 1, 0, 0, 0, 1, 1, 0, 0, 0, 0, 1, 0, 0, 1, 0])},\n {'real': array([55292.23317125, 51986.15210918]),\n  'discrete': array([1, 0, 0, 1, 0, 1, 0, 0, 0, 0, 1, 0, 0, 1, 0, 0, 1, 0, 0, 1, 0])},\n {'real': array([59757.16656072, 56852.13310564]),\n  'discrete': array([1, 0, 0, 0, 0, 0, 0, 0, 1, 1, 0, 0, 0, 0, 0, 0, 1, 1, 1, 0, 1])},\n {'real': array([84567.72521235, 82262.94628858]),\n  'discrete': array([0, 0, 0, 1, 0, 0, 0, 0, 0, 0, 0, 0, 0, 1, 1, 1, 0, 0, 0, 0, 1])},\n {'real': array([23241.90738793,  3008.82366331]),\n  'discrete': array([1, 0, 0, 0, 0, 0, 0, 0, 0, 1, 0, 0, 0, 1, 0, 0, 0, 0, 1, 0, 1])},\n {'real': array([98310.42768256, 89433.12685802]),\n  'discrete': array([0, 0, 0, 1, 1, 0, 0, 0, 1, 0, 0, 0, 0, 0, 0, 1, 0, 0, 1, 0, 1])},\n {'real': array([13368.03657157, 54554.37871788]),\n  'discrete': array([0, 0, 1, 1, 0, 0, 0, 0, 0, 0, 0, 0, 0, 0, 0, 0, 0, 0, 1, 0, 1])}]"
     },
     "execution_count": 6,
     "metadata": {},
     "output_type": "execute_result"
    }
   ],
   "source": [
    "best_solution_history"
   ],
   "metadata": {
    "collapsed": false,
    "ExecuteTime": {
     "end_time": "2024-02-19T16:49:32.343573Z",
     "start_time": "2024-02-19T16:49:32.324604Z"
    }
   },
   "id": "3613b6d16a4f8afd",
   "execution_count": 6
  },
  {
   "cell_type": "code",
   "outputs": [
    {
     "data": {
      "text/plain": "[98.4,\n 99.63076923076923,\n 99.38461538461539,\n 99.75384615384615,\n 99.75384615384615,\n 100.0,\n 99.50769230769231,\n 97.84615384615385,\n 99.75384615384615,\n 99.87692307692308]"
     },
     "execution_count": 7,
     "metadata": {},
     "output_type": "execute_result"
    }
   ],
   "source": [
    "accuracy_history"
   ],
   "metadata": {
    "collapsed": false,
    "ExecuteTime": {
     "end_time": "2024-02-19T16:49:33.064271Z",
     "start_time": "2024-02-19T16:49:33.053382Z"
    }
   },
   "id": "78eca84fcbbd77d3",
   "execution_count": 7
  },
  {
   "cell_type": "code",
   "outputs": [
    {
     "data": {
      "text/plain": "[43.61609323357452,\n 6.381351404415115,\n 62.967119127811976,\n 33.588342664318816,\n 55.29223317124827,\n 59.75716656072248,\n 84.5677252123505,\n 23.241907387931622,\n 98.3104276825638,\n 13.368036571574333]"
     },
     "execution_count": 8,
     "metadata": {},
     "output_type": "execute_result"
    }
   ],
   "source": [
    "gamma_history"
   ],
   "metadata": {
    "collapsed": false,
    "ExecuteTime": {
     "end_time": "2024-02-19T16:49:35.285990Z",
     "start_time": "2024-02-19T16:49:35.265493Z"
    }
   },
   "id": "8c77d752f640fc2d",
   "execution_count": 8
  },
  {
   "cell_type": "code",
   "outputs": [
    {
     "data": {
      "text/plain": "[63.81703205612602,\n 80.86302641047628,\n 46.645831104831224,\n 66.83228220315813,\n 51.98615210918452,\n 56.8521331056368,\n 82.26294628857819,\n 3.008823663310346,\n 89.43312685802297,\n 54.554378717879786]"
     },
     "execution_count": 9,
     "metadata": {},
     "output_type": "execute_result"
    }
   ],
   "source": [
    "c_history"
   ],
   "metadata": {
    "collapsed": false,
    "ExecuteTime": {
     "end_time": "2024-02-19T16:49:37.566015Z",
     "start_time": "2024-02-19T16:49:37.549837Z"
    }
   },
   "id": "6a51257a6bed3333",
   "execution_count": 9
  },
  {
   "cell_type": "code",
   "outputs": [
    {
     "name": "stdout",
     "output_type": "stream",
     "text": [
      "Mean accuracy: 99.39076923076922 +/- 0.6664646636761704\n",
      "Mean gamma: 48.10904030165114 +/- 28.38133806816956\n",
      "Mean C: 59.625573251720425 +/- 23.210288854915223\n",
      "Mean n_features: 5.4 +/- 1.2\n"
     ]
    }
   ],
   "source": [
    "mean_accuracy = np.mean(accuracy_history)\n",
    "std_accuracy = np.std(accuracy_history)\n",
    "\n",
    "print(f\"Mean accuracy: {mean_accuracy} +/- {std_accuracy}\")\n",
    "\n",
    "mean_gamma = np.mean(gamma_history)\n",
    "std_gamma = np.std(gamma_history)\n",
    "\n",
    "print(f\"Mean gamma: {mean_gamma} +/- {std_gamma}\")\n",
    "\n",
    "mean_c = np.mean(c_history)\n",
    "std_c = np.std(c_history)\n",
    "\n",
    "print(f\"Mean C: {mean_c} +/- {std_c}\")\n",
    "\n",
    "mean_n_features = np.mean(n_features_history)\n",
    "std_n_features = np.std(n_features_history)\n",
    "\n",
    "print(f\"Mean n_features: {mean_n_features} +/- {std_n_features}\")"
   ],
   "metadata": {
    "collapsed": false,
    "ExecuteTime": {
     "end_time": "2024-02-19T16:49:38.620084Z",
     "start_time": "2024-02-19T16:49:38.602895Z"
    }
   },
   "id": "d8cd988d571be123",
   "execution_count": 10
  },
  {
   "cell_type": "markdown",
   "source": [
    "                /\\ \n",
    "               /  \\\n",
    "                || \n",
    "                \n",
    "        Nuestros resultados\n",
    "        \n",
    "Dataset: Mushroom\n",
    "Instances: 8124 (Train / Test: 80% / 20%)\n",
    "Features: 22\n",
    "\n",
    "Resultados autores:\n",
    "\n",
    "| Metric | Value             |\n",
    "| --- |-------------------|\n",
    "| Accuracy | 98.06 +/- 0.78    |\n",
    "| Gamma | 0.0067 +/- 0.0144 |\n",
    "| C | 47.35 +/- 27.57   |\n",
    "| n_features | 3 +/- 2.16        |"
   ],
   "metadata": {
    "collapsed": false
   },
   "id": "f28fe49236098ff7"
  },
  {
   "cell_type": "markdown",
   "source": [
    "                /\\ \n",
    "               /  \\\n",
    "                || \n",
    "                \n",
    "        Nuestros resultados\n",
    "        \n",
    "Dataset: Breast Cancer Wisconsin (Diagnostic) Data Set\n",
    "\n",
    "Resultados autores:\n",
    "\n",
    "| Metric | Value             |\n",
    "| --- |-------------------|\n",
    "| Accuracy | 99.54 +/- 0.25    |\n",
    "| Gamma | 0.0685 +/- 0.1293 |\n",
    "| C | 40.30 +/- 22.37   |\n",
    "| n_features | 2 +/- 1           |"
   ],
   "metadata": {
    "collapsed": false
   },
   "id": "cba37a23b02daa50"
  },
  {
   "cell_type": "code",
   "outputs": [
    {
     "name": "stdout",
     "output_type": "stream",
     "text": [
      "Test accuracy:  100.0  - Fitness:  0.2666666666666666\n"
     ]
    }
   ],
   "source": [
    "solution= {'real': np.array([0.91833448, 34.69824839]),\n",
    "           'discrete': np.array([1, 1, 0, 1, 1, 1, 0, 1, 0])}\n",
    "\n",
    "fitness, accuracy = uci.get_fitness(solution=solution,\n",
    "                                    data=(uci.X_test_scaled, uci.y_test))\n",
    "\n",
    "print(\"Test accuracy: \", accuracy, \" - Fitness: \", fitness)"
   ],
   "metadata": {
    "collapsed": false,
    "ExecuteTime": {
     "end_time": "2024-02-15T17:11:39.475237Z",
     "start_time": "2024-02-15T17:11:39.454384Z"
    }
   },
   "id": "79f948a3e10b71ad",
   "execution_count": 8
  },
  {
   "cell_type": "code",
   "outputs": [],
   "source": [],
   "metadata": {
    "collapsed": false
   },
   "id": "bdf875026d9d4f13"
  }
 ],
 "metadata": {
  "kernelspec": {
   "display_name": "Python 3",
   "language": "python",
   "name": "python3"
  },
  "language_info": {
   "codemirror_mode": {
    "name": "ipython",
    "version": 2
   },
   "file_extension": ".py",
   "mimetype": "text/x-python",
   "name": "python",
   "nbconvert_exporter": "python",
   "pygments_lexer": "ipython2",
   "version": "2.7.6"
  }
 },
 "nbformat": 4,
 "nbformat_minor": 5
}
