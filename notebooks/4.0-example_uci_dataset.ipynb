{
 "cells": [
  {
   "cell_type": "code",
   "outputs": [],
   "source": [
    "%load_ext autoreload\n",
    "%autoreload 2\n",
    "\n",
    "import csv\n",
    "import numpy as np\n",
    "import os\n",
    "import pandas as pd\n",
    "import time\n",
    "\n",
    "from benchmarks import gsa_svm_fitness\n",
    "from src.entities import GSA\n",
    "\n",
    "from sklearn.metrics import accuracy_score, classification_report, confusion_matrix\n",
    "from sklearn.model_selection import train_test_split\n",
    "from sklearn.preprocessing import LabelEncoder, StandardScaler\n",
    "from sklearn.svm import SVC\n",
    "from typing import Mapping, Tuple, Union\n",
    "from ucimlrepo import fetch_ucirepo"
   ],
   "metadata": {
    "collapsed": false,
    "ExecuteTime": {
     "end_time": "2024-02-16T15:39:11.354260Z",
     "start_time": "2024-02-16T15:39:10.658978Z"
    }
   },
   "id": "af8f319d1e0e6966",
   "execution_count": 1
  },
  {
   "cell_type": "code",
   "outputs": [],
   "source": [
    "# Fetch dataset \n",
    "breast_cancer_wisconsin_original = fetch_ucirepo(id=15) \n",
    "  \n",
    "# Data (as pandas dataframes) \n",
    "X = breast_cancer_wisconsin_original.data.features \n",
    "X = X.fillna(value=0)  # Fill missing values with 0\n",
    "\n",
    "y = breast_cancer_wisconsin_original.data.targets "
   ],
   "metadata": {
    "collapsed": false,
    "ExecuteTime": {
     "end_time": "2024-02-16T12:36:07.057505Z",
     "start_time": "2024-02-16T12:36:05.392793Z"
    }
   },
   "id": "ea3b08e5c4d65f73",
   "execution_count": 2
  },
  {
   "cell_type": "code",
   "outputs": [],
   "source": [
    "# Fetch dataset \n",
    "mushroom = fetch_ucirepo(id=73) \n",
    "  \n",
    "# data (as pandas dataframes) \n",
    "X = mushroom.data.features\n",
    "encoder = LabelEncoder()\n",
    "for col in X.columns:\n",
    "    X.loc[:, col] = encoder.fit_transform(X[col])\n",
    "    \n",
    "y = mushroom.data.targets "
   ],
   "metadata": {
    "collapsed": false,
    "ExecuteTime": {
     "end_time": "2024-02-16T15:39:16.543765Z",
     "start_time": "2024-02-16T15:39:13.880691Z"
    }
   },
   "id": "a05c69aea9217d8",
   "execution_count": 2
  },
  {
   "cell_type": "code",
   "outputs": [],
   "source": [
    "X = X.iloc[:,1:23]  \n",
    "y = y.iloc[:, 0]"
   ],
   "metadata": {
    "collapsed": false,
    "ExecuteTime": {
     "end_time": "2024-02-16T15:39:17.942336Z",
     "start_time": "2024-02-16T15:39:17.927203Z"
    }
   },
   "id": "a7baa264ac8b15cf",
   "execution_count": 3
  },
  {
   "cell_type": "code",
   "outputs": [],
   "source": [
    "class UCI:\n",
    "    \"\"\"\n",
    "    Class to handle UCI datasets\n",
    "    \n",
    "    Args:\n",
    "        X (pd.DataFrame): Features\n",
    "        y (pd.Series): Target\n",
    "    \"\"\"\n",
    "    def __init__(self,\n",
    "                 X: pd.DataFrame,\n",
    "                 y: pd.Series\n",
    "                 ) -> None:\n",
    "        \"\"\"\n",
    "        Constructor\n",
    "        \n",
    "        Args:\n",
    "            X (pd.DataFrame): Features\n",
    "            y (pd.Series): Target\n",
    "        \"\"\"\n",
    "        self.X = X\n",
    "        self.y = y\n",
    "        \n",
    "        scaler = StandardScaler()\n",
    "        X_scaled = scaler.fit_transform(self.X)\n",
    "        \n",
    "        X_train, X_test, y_train, y_test = train_test_split(X_scaled, y, test_size = 0.20, random_state=5)\n",
    "        self.X_train = X_train\n",
    "        self.X_test = X_test\n",
    "        self.y_train = y_train\n",
    "        self.y_test = y_test\n",
    "\n",
    "    \n",
    "    def get_fitness(self,\n",
    "                    solution: Mapping[str, np.ndarray],\n",
    "                    data: Union[None, Tuple[np.ndarray, np.ndarray]] = None,\n",
    "                    ) -> Tuple[float, float]:\n",
    "        \"\"\"\n",
    "        Get fitness of a solution\n",
    "        \n",
    "        Args:\n",
    "            solution (Mapping[str, np.ndarray]): Solution to evaluate\n",
    "            data (Union[None, Tuple[np.ndarray, np.ndarray]], optional): Data to evaluate the solution. Defaults to None.\n",
    "        \n",
    "        Returns:\n",
    "            Tuple[float, float]: Fitness and accuracy of the solution    \n",
    "        \"\"\"\n",
    "        if data is None:\n",
    "            X_scaled = self.X_train\n",
    "            y_data = self.y_train\n",
    "        else:\n",
    "            X_scaled, y_data = data\n",
    "            \n",
    "        gamma, C = solution['real']\n",
    "        gamma /= 1000\n",
    "        C /= 1000\n",
    "        X_scaled_filtered = X_scaled[:, solution['discrete'].astype(int) == 1]\n",
    "        svc_model = SVC(gamma=gamma, C=C, kernel=\"rbf\", verbose=False)\n",
    "        svc_model.fit(X_scaled_filtered, np.ravel(y_data))\n",
    "        y_predict = svc_model.predict(X_scaled_filtered)\n",
    "        conf_matrix = confusion_matrix(y_data, y_predict)\n",
    "        accuracy = accuracy_score(y_data, y_predict) * 100\n",
    "        \n",
    "        return gsa_svm_fitness(accuracy=accuracy, solution=solution)\n",
    "\n",
    "uci = UCI(X, y)"
   ],
   "metadata": {
    "collapsed": false,
    "ExecuteTime": {
     "end_time": "2024-02-16T15:39:19.440389Z",
     "start_time": "2024-02-16T15:39:19.414348Z"
    }
   },
   "id": "8408aee361a77110",
   "execution_count": 4
  },
  {
   "cell_type": "code",
   "outputs": [
    {
     "name": "stdout",
     "output_type": "stream",
     "text": [
      "GSA is optimizing  \"get_fitness\"\n",
      "['At iteration 1 the best fitness is 91.85164017907518']\n",
      "['At iteration 2 the best fitness is 94.6841638640377']\n",
      "['At iteration 3 the best fitness is 94.6841638640377']\n",
      "['At iteration 4 the best fitness is 94.6841638640377']\n",
      "['At iteration 5 the best fitness is 94.6841638640377']\n",
      "['At iteration 6 the best fitness is 94.6841638640377']\n",
      "['At iteration 7 the best fitness is 94.6841638640377']\n",
      "['At iteration 8 the best fitness is 95.31649557807428']\n",
      "['At iteration 9 the best fitness is 95.31649557807428']\n",
      "['At iteration 10 the best fitness is 95.31649557807428']\n",
      "['At iteration 11 the best fitness is 95.31649557807428']\n",
      "['At iteration 12 the best fitness is 95.31649557807428']\n",
      "['At iteration 13 the best fitness is 95.31649557807428']\n",
      "['At iteration 14 the best fitness is 95.31649557807428']\n",
      "['At iteration 15 the best fitness is 95.31649557807428']\n",
      "['At iteration 16 the best fitness is 95.31649557807428']\n",
      "['At iteration 17 the best fitness is 95.31649557807428']\n",
      "['At iteration 18 the best fitness is 95.31649557807428']\n",
      "['At iteration 19 the best fitness is 95.59961605814816']\n",
      "['At iteration 20 the best fitness is 95.59961605814816']\n",
      "{'real': array([ 4461.95537853, 49545.12493188]), 'discrete': array([0, 0, 0, 1, 0, 0, 0, 1, 0, 0, 1, 1, 0, 0, 0, 0, 0, 0, 0, 0, 0])}\n",
      "Test accuracy:  99.26153846153845  - Fitness:  95.59970695970695\n",
      "GSA is optimizing  \"get_fitness\"\n",
      "['At iteration 1 the best fitness is 93.33333333333334']\n",
      "['At iteration 2 the best fitness is 93.33333333333334']\n",
      "['At iteration 3 the best fitness is 93.33333333333334']\n",
      "['At iteration 4 the best fitness is 93.33333333333334']\n",
      "['At iteration 5 the best fitness is 93.33333333333334']\n",
      "['At iteration 6 the best fitness is 93.33787615677139']\n",
      "['At iteration 7 the best fitness is 93.33787615677139']\n",
      "['At iteration 8 the best fitness is 93.33787615677139']\n",
      "['At iteration 9 the best fitness is 93.33787615677139']\n",
      "['At iteration 10 the best fitness is 93.33787615677139']\n",
      "['At iteration 11 the best fitness is 93.33787615677139']\n",
      "['At iteration 12 the best fitness is 94.90573641366072']\n",
      "['At iteration 13 the best fitness is 94.9919035162919']\n",
      "['At iteration 14 the best fitness is 95.07807061892306']\n",
      "['At iteration 15 the best fitness is 95.07807061892306']\n",
      "['At iteration 16 the best fitness is 95.07807061892306']\n",
      "['At iteration 17 the best fitness is 95.16423772155423']\n",
      "['At iteration 18 the best fitness is 95.94428446867285']\n",
      "['At iteration 19 the best fitness is 95.94428446867285']\n",
      "['At iteration 20 the best fitness is 95.94428446867285']\n",
      "{'real': array([46270.40045928, 92799.41205745]), 'discrete': array([0, 1, 1, 1, 0, 0, 0, 0, 0, 0, 0, 0, 0, 0, 0, 0, 0, 1, 0, 0, 0])}\n",
      "Test accuracy:  99.75384615384615  - Fitness:  95.99355311355312\n",
      "GSA is optimizing  \"get_fitness\"\n",
      "['At iteration 1 the best fitness is 91.97927886341489']\n",
      "['At iteration 2 the best fitness is 91.97927886341489']\n",
      "['At iteration 3 the best fitness is 93.47328160376323']\n",
      "['At iteration 4 the best fitness is 93.47328160376323']\n",
      "['At iteration 5 the best fitness is 93.47328160376323']\n",
      "['At iteration 6 the best fitness is 93.47328160376323']\n",
      "['At iteration 7 the best fitness is 93.47328160376323']\n",
      "['At iteration 8 the best fitness is 93.47328160376323']\n",
      "['At iteration 9 the best fitness is 93.47328160376323']\n",
      "['At iteration 10 the best fitness is 93.47328160376323']\n",
      "['At iteration 11 the best fitness is 93.47328160376323']\n",
      "['At iteration 12 the best fitness is 93.47328160376323']\n",
      "['At iteration 13 the best fitness is 94.28571428571429']\n",
      "['At iteration 14 the best fitness is 94.28571428571429']\n",
      "['At iteration 15 the best fitness is 94.28571428571429']\n",
      "['At iteration 16 the best fitness is 94.28571428571429']\n",
      "['At iteration 17 the best fitness is 94.28571428571429']\n",
      "['At iteration 18 the best fitness is 94.28571428571429']\n",
      "['At iteration 19 the best fitness is 94.28571428571429']\n",
      "['At iteration 20 the best fitness is 94.28571428571429']\n",
      "{'real': array([77265.92584282,  6025.01472553]), 'discrete': array([1, 0, 0, 0, 0, 0, 0, 1, 1, 1, 0, 0, 0, 0, 0, 0, 0, 1, 0, 0, 1])}\n",
      "Test accuracy:  100.0  - Fitness:  94.28571428571429\n",
      "GSA is optimizing  \"get_fitness\"\n",
      "['At iteration 1 the best fitness is 90.40233295964947']\n",
      "['At iteration 2 the best fitness is 90.72692502143188']\n",
      "['At iteration 3 the best fitness is 92.38095238095238']\n",
      "['At iteration 4 the best fitness is 92.38095238095238']\n",
      "['At iteration 5 the best fitness is 92.38095238095238']\n",
      "['At iteration 6 the best fitness is 92.38095238095238']\n",
      "['At iteration 7 the best fitness is 94.24878552744379']\n",
      "['At iteration 8 the best fitness is 94.77033096666888']\n",
      "['At iteration 9 the best fitness is 94.77033096666888']\n",
      "['At iteration 10 the best fitness is 94.77033096666888']\n",
      "['At iteration 11 the best fitness is 94.77033096666888']\n",
      "['At iteration 12 the best fitness is 94.77033096666888']\n",
      "['At iteration 13 the best fitness is 94.77033096666888']\n",
      "['At iteration 14 the best fitness is 94.77033096666888']\n",
      "['At iteration 15 the best fitness is 94.77033096666888']\n",
      "['At iteration 16 the best fitness is 94.77033096666888']\n",
      "['At iteration 17 the best fitness is 94.77033096666888']\n",
      "['At iteration 18 the best fitness is 94.77033096666888']\n",
      "['At iteration 19 the best fitness is 94.77033096666888']\n",
      "['At iteration 20 the best fitness is 94.77033096666888']\n",
      "{'real': array([98827.60667107, 42382.09743783]), 'discrete': array([0, 0, 1, 1, 0, 1, 0, 0, 1, 0, 0, 0, 0, 0, 0, 0, 0, 0, 0, 1, 0])}\n",
      "Test accuracy:  99.38461538461539  - Fitness:  94.74578754578755\n",
      "GSA is optimizing  \"get_fitness\"\n",
      "['At iteration 1 the best fitness is 90.43926171791998']\n",
      "['At iteration 2 the best fitness is 90.47619047619048']\n",
      "['At iteration 3 the best fitness is 91.42857142857143']\n",
      "['At iteration 4 the best fitness is 91.42857142857143']\n",
      "['At iteration 5 the best fitness is 91.42857142857143']\n",
      "['At iteration 6 the best fitness is 91.42857142857143']\n",
      "['At iteration 7 the best fitness is 91.82702100689484']\n",
      "['At iteration 8 the best fitness is 93.33333333333334']\n",
      "['At iteration 9 the best fitness is 93.33333333333334']\n",
      "['At iteration 10 the best fitness is 93.33333333333334']\n",
      "['At iteration 11 the best fitness is 93.33333333333334']\n",
      "['At iteration 12 the best fitness is 94.28571428571429']\n",
      "['At iteration 13 the best fitness is 94.28571428571429']\n",
      "['At iteration 14 the best fitness is 94.28571428571429']\n",
      "['At iteration 15 the best fitness is 94.81956931102954']\n",
      "['At iteration 16 the best fitness is 95.77195026341049']\n",
      "['At iteration 17 the best fitness is 95.77195026341049']\n",
      "['At iteration 18 the best fitness is 95.77195026341049']\n",
      "['At iteration 19 the best fitness is 95.77195026341049']\n",
      "['At iteration 20 the best fitness is 95.77195026341049']\n",
      "{'real': array([28965.85743845, 82882.4698923 ]), 'discrete': array([0, 0, 0, 1, 0, 0, 0, 1, 0, 0, 0, 0, 0, 0, 0, 0, 0, 1, 1, 0, 0])}\n",
      "Test accuracy:  99.38461538461539  - Fitness:  95.6981684981685\n",
      "GSA is optimizing  \"get_fitness\"\n",
      "['At iteration 1 the best fitness is 90.47619047619048']\n",
      "['At iteration 2 the best fitness is 91.42857142857143']\n",
      "['At iteration 3 the best fitness is 91.42857142857143']\n",
      "['At iteration 4 the best fitness is 92.38095238095238']\n",
      "['At iteration 5 the best fitness is 93.84256918646825']\n",
      "['At iteration 6 the best fitness is 93.84256918646825']\n",
      "['At iteration 7 the best fitness is 93.84256918646825']\n",
      "['At iteration 8 the best fitness is 93.84256918646825']\n",
      "['At iteration 9 the best fitness is 93.84256918646825']\n",
      "['At iteration 10 the best fitness is 93.84256918646825']\n",
      "['At iteration 11 the best fitness is 93.84256918646825']\n",
      "['At iteration 12 the best fitness is 93.84256918646825']\n",
      "['At iteration 13 the best fitness is 94.81956931102954']\n",
      "['At iteration 14 the best fitness is 94.81956931102954']\n",
      "['At iteration 15 the best fitness is 94.81956931102954']\n",
      "['At iteration 16 the best fitness is 94.81956931102954']\n",
      "['At iteration 17 the best fitness is 94.81956931102954']\n",
      "['At iteration 18 the best fitness is 94.81956931102954']\n",
      "['At iteration 19 the best fitness is 94.81956931102954']\n",
      "['At iteration 20 the best fitness is 94.81956931102954']\n",
      "{'real': array([37017.57928559, 33782.29128859]), 'discrete': array([0, 0, 0, 1, 1, 0, 1, 0, 0, 0, 0, 1, 0, 0, 0, 0, 0, 0, 0, 0, 1])}\n",
      "Test accuracy:  99.38461538461539  - Fitness:  94.74578754578755\n",
      "GSA is optimizing  \"get_fitness\"\n",
      "['At iteration 1 the best fitness is 92.36087603221009']\n",
      "['At iteration 2 the best fitness is 94.13023248998014']\n",
      "['At iteration 3 the best fitness is 94.97959393020173']\n",
      "['At iteration 4 the best fitness is 94.97959393020173']\n",
      "['At iteration 5 the best fitness is 94.97959393020173']\n",
      "['At iteration 6 the best fitness is 94.97959393020173']\n",
      "['At iteration 7 the best fitness is 94.97959393020173']\n",
      "['At iteration 8 the best fitness is 94.97959393020173']\n",
      "['At iteration 9 the best fitness is 94.97959393020173']\n",
      "['At iteration 10 the best fitness is 94.97959393020173']\n",
      "['At iteration 11 the best fitness is 94.97959393020173']\n",
      "['At iteration 12 the best fitness is 94.97959393020173']\n",
      "['At iteration 13 the best fitness is 94.97959393020173']\n",
      "['At iteration 14 the best fitness is 94.97959393020173']\n",
      "['At iteration 15 the best fitness is 94.97959393020173']\n",
      "['At iteration 16 the best fitness is 94.97959393020173']\n",
      "['At iteration 17 the best fitness is 94.97959393020173']\n",
      "['At iteration 18 the best fitness is 94.97959393020173']\n",
      "['At iteration 19 the best fitness is 94.97959393020173']\n",
      "['At iteration 20 the best fitness is 94.97959393020173']\n",
      "{'real': array([24489.58130402,  4558.35071902]), 'discrete': array([0, 1, 0, 1, 1, 0, 0, 0, 0, 0, 0, 0, 0, 0, 0, 0, 1, 0, 0, 0, 1])}\n",
      "Test accuracy:  99.56923076923077  - Fitness:  94.89347985347986\n",
      "GSA is optimizing  \"get_fitness\"\n",
      "['At iteration 1 the best fitness is 91.42857142857143']\n",
      "['At iteration 2 the best fitness is 91.42857142857143']\n",
      "['At iteration 3 the best fitness is 91.42857142857143']\n",
      "['At iteration 4 the best fitness is 91.42857142857143']\n",
      "['At iteration 5 the best fitness is 92.06090314260803']\n",
      "['At iteration 6 the best fitness is 93.29640457506284']\n",
      "['At iteration 7 the best fitness is 93.29640457506284']\n",
      "['At iteration 8 the best fitness is 93.29640457506284']\n",
      "['At iteration 9 the best fitness is 93.29640457506284']\n",
      "['At iteration 10 the best fitness is 93.29640457506284']\n",
      "['At iteration 11 the best fitness is 93.29640457506284']\n",
      "['At iteration 12 the best fitness is 93.29640457506284']\n",
      "['At iteration 13 the best fitness is 93.29640457506284']\n",
      "['At iteration 14 the best fitness is 93.29640457506284']\n",
      "['At iteration 15 the best fitness is 93.29640457506284']\n",
      "['At iteration 16 the best fitness is 93.29640457506284']\n",
      "['At iteration 17 the best fitness is 93.29640457506284']\n",
      "['At iteration 18 the best fitness is 93.29640457506284']\n",
      "['At iteration 19 the best fitness is 93.29640457506284']\n",
      "['At iteration 20 the best fitness is 93.29640457506284']\n",
      "{'real': array([37814.44306947,  3361.93939563]), 'discrete': array([1, 0, 0, 1, 0, 0, 1, 1, 0, 1, 0, 0, 0, 0, 0, 0, 1, 0, 1, 0, 0])}\n",
      "Test accuracy:  99.93846153846154  - Fitness:  93.28410256410257\n",
      "GSA is optimizing  \"get_fitness\"\n",
      "['At iteration 1 the best fitness is 92.38095238095238']\n",
      "['At iteration 2 the best fitness is 93.84256918646825']\n",
      "['At iteration 3 the best fitness is 93.84256918646825']\n",
      "['At iteration 4 the best fitness is 93.84256918646825']\n",
      "['At iteration 5 the best fitness is 93.84256918646825']\n",
      "['At iteration 6 the best fitness is 93.84256918646825']\n",
      "['At iteration 7 the best fitness is 94.28571428571429']\n",
      "['At iteration 8 the best fitness is 94.28571428571429']\n",
      "['At iteration 9 the best fitness is 94.85649806930005']\n",
      "['At iteration 10 the best fitness is 94.85649806930005']\n",
      "['At iteration 11 the best fitness is 94.85649806930005']\n",
      "['At iteration 12 the best fitness is 96.03499439474206']\n",
      "['At iteration 13 the best fitness is 96.03499439474206']\n",
      "['At iteration 14 the best fitness is 96.03499439474206']\n",
      "['At iteration 15 the best fitness is 96.03499439474206']\n",
      "['At iteration 16 the best fitness is 96.03499439474206']\n",
      "['At iteration 17 the best fitness is 96.90120824449184']\n",
      "['At iteration 18 the best fitness is 96.90120824449184']\n",
      "['At iteration 19 the best fitness is 96.90120824449184']\n",
      "['At iteration 20 the best fitness is 96.90120824449184']\n",
      "{'real': array([69243.57136852,  1189.39585665]), 'discrete': array([0, 0, 0, 1, 0, 0, 0, 0, 0, 0, 0, 0, 0, 0, 0, 0, 0, 1, 0, 0, 0])}\n",
      "Test accuracy:  98.58461538461538  - Fitness:  96.96293040293041\n",
      "GSA is optimizing  \"get_fitness\"\n",
      "['At iteration 1 the best fitness is 90.46842371353834']\n",
      "['At iteration 2 the best fitness is 90.47619047619048']\n",
      "['At iteration 3 the best fitness is 92.38095238095238']\n",
      "['At iteration 4 the best fitness is 92.38095238095238']\n",
      "['At iteration 5 the best fitness is 92.38095238095238']\n",
      "['At iteration 6 the best fitness is 92.38095238095238']\n",
      "['At iteration 7 the best fitness is 92.38095238095238']\n",
      "['At iteration 8 the best fitness is 92.38095238095238']\n",
      "['At iteration 9 the best fitness is 93.33333333333334']\n",
      "['At iteration 10 the best fitness is 94.19954718308311']\n",
      "['At iteration 11 the best fitness is 94.19954718308311']\n",
      "['At iteration 12 the best fitness is 94.19954718308311']\n",
      "['At iteration 13 the best fitness is 94.36411462569333']\n",
      "['At iteration 14 the best fitness is 94.36411462569333']\n",
      "['At iteration 15 the best fitness is 95.02883227456239']\n",
      "['At iteration 16 the best fitness is 95.02883227456239']\n",
      "['At iteration 17 the best fitness is 95.02883227456239']\n",
      "['At iteration 18 the best fitness is 95.02883227456239']\n",
      "['At iteration 19 the best fitness is 95.02883227456239']\n",
      "['At iteration 20 the best fitness is 95.02883227456239']\n",
      "{'real': array([32256.4843758 , 65666.92212093]), 'discrete': array([0, 0, 1, 1, 0, 0, 0, 0, 1, 0, 0, 1, 0, 0, 0, 0, 0, 0, 0, 1, 0])}\n",
      "Test accuracy:  99.56923076923077  - Fitness:  94.89347985347986\n"
     ]
    }
   ],
   "source": [
    "# Select number of repetitions for each experiment. \n",
    "runs = 10\n",
    "\n",
    "# Select chaotic constant\n",
    "chaotic_constant = True\n",
    "\n",
    "# Export results ?\n",
    "export = True\n",
    "\n",
    "save_path = \"data/output/\"\n",
    "if not os.path.exists(save_path):\n",
    "    os.makedirs(save_path)\n",
    "\n",
    "ExportToFile = save_path + \"experiment\" + time.strftime(\"%Y-%m-%d-%H-%M-%S_\") + str(chaotic_constant) + \".csv\"\n",
    "\n",
    "# Check if it works at least once\n",
    "atLeastOneIteration = False\n",
    "\n",
    "population_size = 5 \n",
    "iterations = 20\n",
    "\n",
    "boundaries = {'real': [(1, 100_000), (1, 100_000)], 'discrete': [(0, 1) for _ in range(len(X.columns))]}\n",
    "\n",
    "# CSV Header for the convergence\n",
    "CnvgHeader = [\"Sol_Iter\"+str(l+1) for l in range(iterations)]\n",
    "\n",
    "best_solution_history = []\n",
    "accuracy_history = []\n",
    "gamma_history = []\n",
    "c_history = []\n",
    "n_features_history = []\n",
    "\n",
    "uci = UCI(X, y)\n",
    "\n",
    "for k in range(runs):\n",
    "    gsa_algo = GSA(objective_function = uci.get_fitness,\n",
    "                   r_dim=2,\n",
    "                   d_dim=len(X.columns),\n",
    "                   boundaries=boundaries)\n",
    "    \n",
    "    gsa_algo.optimize(population_size=population_size,\n",
    "                      iters=iterations,\n",
    "                      chaotic_constant=True)\n",
    "    \n",
    "    print(gsa_algo.solution_history[-1])\n",
    "    fitness, accuracy = uci.get_fitness(solution=gsa_algo.solution_history[-1],\n",
    "                                        data=(uci.X_test, uci.y_test))\n",
    "    \n",
    "    print(\"Test accuracy: \", accuracy, \" - Fitness: \", fitness)\n",
    "    \n",
    "    best_solution_history.append(gsa_algo.solution_history[-1])\n",
    "    accuracy_history.append(accuracy)\n",
    "    gamma_history.append(gsa_algo.solution_history[-1]['real'][0] / 1000)\n",
    "    c_history.append(gsa_algo.solution_history[-1]['real'][1] / 1000)\n",
    "    n_features_history.append(np.sum(gsa_algo.solution_history[-1]['discrete']))\n",
    "    \n",
    "    if export:\n",
    "        with open(ExportToFile, 'a') as out:\n",
    "            writer = csv.writer(out, delimiter=',')\n",
    "            if not atLeastOneIteration:  # just one time to write the header of the CSV file\n",
    "                header = np.concatenate(\n",
    "                    [[\"Optimizer\", \"objfname\", \"startTime\", \"EndTime\", \"ExecutionTime\"], CnvgHeader])\n",
    "                writer.writerow(header)\n",
    "            a = np.concatenate(\n",
    "                [[gsa_algo.objective_function_name,\n",
    "                  gsa_algo.start_time,\n",
    "                  gsa_algo.end_time,\n",
    "                  gsa_algo.execution_time],\n",
    "                  gsa_algo.convergence])\n",
    "            writer.writerow(a)\n",
    "        out.close()\n",
    "    atLeastOneIteration = True  # at least one experiment\n",
    "\n",
    "if not atLeastOneIteration:  # Failed to run at least one experiment\n",
    "    print(\"No Optimizer or Cost function is selected. Check lists of available optimizers and cost functions\")"
   ],
   "metadata": {
    "collapsed": false,
    "ExecuteTime": {
     "end_time": "2024-02-16T15:41:12.470241Z",
     "start_time": "2024-02-16T15:39:27.744663Z"
    }
   },
   "id": "4897f401c150dc41",
   "execution_count": 5
  },
  {
   "cell_type": "code",
   "outputs": [
    {
     "data": {
      "text/plain": "[{'real': array([ 4461.95537853, 49545.12493188]),\n  'discrete': array([0, 0, 0, 1, 0, 0, 0, 1, 0, 0, 1, 1, 0, 0, 0, 0, 0, 0, 0, 0, 0])},\n {'real': array([46270.40045928, 92799.41205745]),\n  'discrete': array([0, 1, 1, 1, 0, 0, 0, 0, 0, 0, 0, 0, 0, 0, 0, 0, 0, 1, 0, 0, 0])},\n {'real': array([77265.92584282,  6025.01472553]),\n  'discrete': array([1, 0, 0, 0, 0, 0, 0, 1, 1, 1, 0, 0, 0, 0, 0, 0, 0, 1, 0, 0, 1])},\n {'real': array([98827.60667107, 42382.09743783]),\n  'discrete': array([0, 0, 1, 1, 0, 1, 0, 0, 1, 0, 0, 0, 0, 0, 0, 0, 0, 0, 0, 1, 0])},\n {'real': array([28965.85743845, 82882.4698923 ]),\n  'discrete': array([0, 0, 0, 1, 0, 0, 0, 1, 0, 0, 0, 0, 0, 0, 0, 0, 0, 1, 1, 0, 0])},\n {'real': array([37017.57928559, 33782.29128859]),\n  'discrete': array([0, 0, 0, 1, 1, 0, 1, 0, 0, 0, 0, 1, 0, 0, 0, 0, 0, 0, 0, 0, 1])},\n {'real': array([24489.58130402,  4558.35071902]),\n  'discrete': array([0, 1, 0, 1, 1, 0, 0, 0, 0, 0, 0, 0, 0, 0, 0, 0, 1, 0, 0, 0, 1])},\n {'real': array([37814.44306947,  3361.93939563]),\n  'discrete': array([1, 0, 0, 1, 0, 0, 1, 1, 0, 1, 0, 0, 0, 0, 0, 0, 1, 0, 1, 0, 0])},\n {'real': array([69243.57136852,  1189.39585665]),\n  'discrete': array([0, 0, 0, 1, 0, 0, 0, 0, 0, 0, 0, 0, 0, 0, 0, 0, 0, 1, 0, 0, 0])},\n {'real': array([32256.4843758 , 65666.92212093]),\n  'discrete': array([0, 0, 1, 1, 0, 0, 0, 0, 1, 0, 0, 1, 0, 0, 0, 0, 0, 0, 0, 1, 0])}]"
     },
     "execution_count": 6,
     "metadata": {},
     "output_type": "execute_result"
    }
   ],
   "source": [
    "best_solution_history"
   ],
   "metadata": {
    "collapsed": false,
    "ExecuteTime": {
     "end_time": "2024-02-16T15:43:41.934840Z",
     "start_time": "2024-02-16T15:43:41.912181Z"
    }
   },
   "id": "3613b6d16a4f8afd",
   "execution_count": 6
  },
  {
   "cell_type": "code",
   "outputs": [
    {
     "data": {
      "text/plain": "[99.26153846153845,\n 99.75384615384615,\n 100.0,\n 99.38461538461539,\n 99.38461538461539,\n 99.38461538461539,\n 99.56923076923077,\n 99.93846153846154,\n 98.58461538461538,\n 99.56923076923077]"
     },
     "execution_count": 7,
     "metadata": {},
     "output_type": "execute_result"
    }
   ],
   "source": [
    "accuracy_history"
   ],
   "metadata": {
    "collapsed": false,
    "ExecuteTime": {
     "end_time": "2024-02-16T15:43:42.765999Z",
     "start_time": "2024-02-16T15:43:42.750797Z"
    }
   },
   "id": "78eca84fcbbd77d3",
   "execution_count": 7
  },
  {
   "cell_type": "code",
   "outputs": [
    {
     "data": {
      "text/plain": "[4.461955378530146,\n 46.270400459281596,\n 77.26592584282356,\n 98.82760667106923,\n 28.96585743844528,\n 37.017579285588745,\n 24.489581304023716,\n 37.81444306946796,\n 69.24357136851904,\n 32.25648437580463]"
     },
     "execution_count": 9,
     "metadata": {},
     "output_type": "execute_result"
    }
   ],
   "source": [
    "gamma_history"
   ],
   "metadata": {
    "collapsed": false,
    "ExecuteTime": {
     "end_time": "2024-02-16T15:44:47.491935Z",
     "start_time": "2024-02-16T15:44:47.481222Z"
    }
   },
   "id": "8c77d752f640fc2d",
   "execution_count": 9
  },
  {
   "cell_type": "code",
   "outputs": [
    {
     "data": {
      "text/plain": "[49.54512493187559,\n 92.79941205744986,\n 6.02501472552622,\n 42.382097437832805,\n 82.88246989229718,\n 33.78229128858996,\n 4.558350719019506,\n 3.3619393956266945,\n 1.1893958566498717,\n 65.66692212092703]"
     },
     "execution_count": 10,
     "metadata": {},
     "output_type": "execute_result"
    }
   ],
   "source": [
    "c_history"
   ],
   "metadata": {
    "collapsed": false,
    "ExecuteTime": {
     "end_time": "2024-02-16T15:44:50.940969Z",
     "start_time": "2024-02-16T15:44:50.920861Z"
    }
   },
   "id": "6a51257a6bed3333",
   "execution_count": 10
  },
  {
   "cell_type": "code",
   "outputs": [
    {
     "name": "stdout",
     "output_type": "stream",
     "text": [
      "Mean accuracy: 99.48307692307692 +/- 0.3805446112920719\n",
      "Mean gamma: 45.66134051935539 +/- 26.687721317978085\n",
      "Mean C: 38.21930184257947 +/- 32.63162649382675\n",
      "Mean n_features: 4.7 +/- 1.268857754044952\n"
     ]
    }
   ],
   "source": [
    "mean_accuracy = np.mean(accuracy_history)\n",
    "std_accuracy = np.std(accuracy_history)\n",
    "\n",
    "print(f\"Mean accuracy: {mean_accuracy} +/- {std_accuracy}\")\n",
    "\n",
    "mean_gamma = np.mean(gamma_history)\n",
    "std_gamma = np.std(gamma_history)\n",
    "\n",
    "print(f\"Mean gamma: {mean_gamma} +/- {std_gamma}\")\n",
    "\n",
    "mean_c = np.mean(c_history)\n",
    "std_c = np.std(c_history)\n",
    "\n",
    "print(f\"Mean C: {mean_c} +/- {std_c}\")\n",
    "\n",
    "mean_n_features = np.mean(n_features_history)\n",
    "std_n_features = np.std(n_features_history)\n",
    "\n",
    "print(f\"Mean n_features: {mean_n_features} +/- {std_n_features}\")"
   ],
   "metadata": {
    "collapsed": false,
    "ExecuteTime": {
     "end_time": "2024-02-16T15:43:44.383596Z",
     "start_time": "2024-02-16T15:43:44.368583Z"
    }
   },
   "id": "d8cd988d571be123",
   "execution_count": 8
  },
  {
   "cell_type": "markdown",
   "source": [
    "                /\\ \n",
    "               /  \\\n",
    "                || \n",
    "                \n",
    "        Nuestros resultados\n",
    "        \n",
    "Dataset: Mushroom\n",
    "Instances: 8124 (Train / Test: 80% / 20%)\n",
    "Features: 22\n",
    "\n",
    "Resultados autores:\n",
    "\n",
    "| Metric | Value             |\n",
    "| --- |-------------------|\n",
    "| Accuracy | 98.06 +/- 0.78    |\n",
    "| Gamma | 0.0067 +/- 0.0144 |\n",
    "| C | 47.35 +/- 27.57   |\n",
    "| n_features | 3 +/- 2.16        |"
   ],
   "metadata": {
    "collapsed": false
   },
   "id": "f28fe49236098ff7"
  },
  {
   "cell_type": "markdown",
   "source": [
    "                /\\ \n",
    "               /  \\\n",
    "                || \n",
    "                \n",
    "        Nuestros resultados\n",
    "        \n",
    "Dataset: Breast Cancer Wisconsin (Diagnostic) Data Set\n",
    "\n",
    "Resultados autores:\n",
    "\n",
    "| Metric | Value             |\n",
    "| --- |-------------------|\n",
    "| Accuracy | 99.54 +/- 0.25    |\n",
    "| Gamma | 0.0685 +/- 0.1293 |\n",
    "| C | 40.30 +/- 22.37   |\n",
    "| n_features | 2 +/- 1           |"
   ],
   "metadata": {
    "collapsed": false
   },
   "id": "cba37a23b02daa50"
  },
  {
   "cell_type": "code",
   "outputs": [
    {
     "name": "stdout",
     "output_type": "stream",
     "text": [
      "Test accuracy:  100.0  - Fitness:  0.2666666666666666\n"
     ]
    }
   ],
   "source": [
    "solution= {'real': np.array([0.91833448, 34.69824839]),\n",
    "           'discrete': np.array([1, 1, 0, 1, 1, 1, 0, 1, 0])}\n",
    "\n",
    "fitness, accuracy = uci.get_fitness(solution=solution,\n",
    "                                    data=(uci.X_test_scaled, uci.y_test))\n",
    "\n",
    "print(\"Test accuracy: \", accuracy, \" - Fitness: \", fitness)"
   ],
   "metadata": {
    "collapsed": false,
    "ExecuteTime": {
     "end_time": "2024-02-15T17:11:39.475237Z",
     "start_time": "2024-02-15T17:11:39.454384Z"
    }
   },
   "id": "79f948a3e10b71ad",
   "execution_count": 8
  },
  {
   "cell_type": "code",
   "outputs": [],
   "source": [],
   "metadata": {
    "collapsed": false
   },
   "id": "bdf875026d9d4f13"
  }
 ],
 "metadata": {
  "kernelspec": {
   "display_name": "Python 3",
   "language": "python",
   "name": "python3"
  },
  "language_info": {
   "codemirror_mode": {
    "name": "ipython",
    "version": 2
   },
   "file_extension": ".py",
   "mimetype": "text/x-python",
   "name": "python",
   "nbconvert_exporter": "python",
   "pygments_lexer": "ipython2",
   "version": "2.7.6"
  }
 },
 "nbformat": 4,
 "nbformat_minor": 5
}
