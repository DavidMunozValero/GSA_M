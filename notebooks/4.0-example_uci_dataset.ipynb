{
 "cells": [
  {
   "cell_type": "code",
   "outputs": [],
   "source": [
    "%load_ext autoreload\n",
    "%autoreload 2\n",
    "\n",
    "import csv\n",
    "import ipywidgets as widgets\n",
    "import numpy as np\n",
    "import os\n",
    "import pandas as pd\n",
    "import time\n",
    "\n",
    "from benchmarks import gsa_svm_fitness\n",
    "from src.entities import GSA\n",
    "\n",
    "from IPython.display import display\n",
    "from sklearn.metrics import accuracy_score, confusion_matrix\n",
    "from sklearn.model_selection import train_test_split\n",
    "from sklearn.preprocessing import LabelEncoder, StandardScaler\n",
    "from sklearn.svm import SVC\n",
    "from typing import Mapping, Tuple, Union\n",
    "from ucimlrepo import fetch_ucirepo"
   ],
   "metadata": {
    "collapsed": false,
    "ExecuteTime": {
     "end_time": "2024-02-24T14:52:41.098808Z",
     "start_time": "2024-02-24T14:52:40.419279Z"
    }
   },
   "id": "af8f319d1e0e6966",
   "execution_count": 1
  },
  {
   "cell_type": "code",
   "outputs": [
    {
     "data": {
      "text/plain": "Dropdown(description='Dataset: ', options=('(Small) Breast Cancer Wisconsin (Diagnostic)', '(Mid) Spambase', '…",
      "application/vnd.jupyter.widget-view+json": {
       "version_major": 2,
       "version_minor": 0,
       "model_id": "99e745c3c8e84ad29bf10959087ef692"
      }
     },
     "metadata": {},
     "output_type": "display_data"
    }
   ],
   "source": [
    "uci_datasets = [\"(Small) Breast Cancer Wisconsin (Diagnostic)\",\n",
    "                \"(Mid) Spambase\",\n",
    "                \"(Large) Mushroom\"]\n",
    "\n",
    "widget_opt = widgets.Dropdown(\n",
    "    options=uci_datasets,\n",
    "    description='Dataset: '\n",
    ")\n",
    "\n",
    "display(widget_opt)"
   ],
   "metadata": {
    "collapsed": false,
    "ExecuteTime": {
     "end_time": "2024-02-24T14:52:41.725180Z",
     "start_time": "2024-02-24T14:52:41.703522Z"
    }
   },
   "id": "736e25e39f9e24c2",
   "execution_count": 2
  },
  {
   "cell_type": "code",
   "outputs": [],
   "source": [
    "def fetch_categorical_dataset(_id: int) -> Tuple[pd.DataFrame, pd.Series]:\n",
    "    data = fetch_ucirepo(id=_id)\n",
    "    X = data.data.features\n",
    "    y = data.data.targets\n",
    "    encoder = LabelEncoder()\n",
    "    for col in X.columns:\n",
    "        X.loc[:, col] = encoder.fit_transform(X[col])\n",
    "    return X, y\n",
    "\n",
    "if widget_opt.value == \"(Small) Breast Cancer Wisconsin (Diagnostic)\":\n",
    "    data = fetch_ucirepo(id=15)\n",
    "    X = data.data.features\n",
    "    y = data.data.targets\n",
    "    X = X.fillna(value=0)\n",
    "elif widget_opt.value == \"(Mid) Spambase\":\n",
    "    X, y = fetch_categorical_dataset(_id=73)\n",
    "elif widget_opt.value == \"(Large) Mushroom\":\n",
    "    X, y = fetch_categorical_dataset(_id=24)"
   ],
   "metadata": {
    "collapsed": false,
    "ExecuteTime": {
     "end_time": "2024-02-24T14:52:45.201815Z",
     "start_time": "2024-02-24T14:52:42.389821Z"
    }
   },
   "id": "6e83527c8212f437",
   "execution_count": 3
  },
  {
   "cell_type": "code",
   "outputs": [],
   "source": [
    "class UCI:\n",
    "    \"\"\"\n",
    "    Class to handle UCI datasets\n",
    "    \n",
    "    Args:\n",
    "        X (pd.DataFrame): Features\n",
    "        y (pd.Series): Target\n",
    "    \"\"\"\n",
    "    def __init__(self,\n",
    "                 X: pd.DataFrame,\n",
    "                 y: pd.Series,\n",
    "                 boundaries: Mapping[str, Tuple[Tuple[float, float], ...]]\n",
    "                 ) -> None:\n",
    "        \"\"\"\n",
    "        Constructor\n",
    "        \n",
    "        Args:\n",
    "            X (pd.DataFrame): Features\n",
    "            y (pd.Series): Target\n",
    "        \"\"\"\n",
    "        self.X = X\n",
    "        self.y = y\n",
    "        self.boundaries = boundaries\n",
    "\n",
    "        scaler = StandardScaler()\n",
    "        X_scaled = scaler.fit_transform(self.X)\n",
    "        \n",
    "        X_train, X_test, y_train, y_test = train_test_split(X_scaled, y, test_size = 0.20, random_state=5)\n",
    "        self.X_train = X_train\n",
    "        self.X_test = X_test\n",
    "        self.y_train = y_train\n",
    "        self.y_test = y_test\n",
    "\n",
    "    \n",
    "    def get_fitness(self,\n",
    "                    solution: Mapping[str, np.ndarray],\n",
    "                    data: Union[None, Tuple[np.ndarray, np.ndarray]] = None,\n",
    "                    ) -> Tuple[float, float]:\n",
    "        \"\"\"\n",
    "        Get fitness of a solution\n",
    "        \n",
    "        Args:\n",
    "            solution (Mapping[str, np.ndarray]): Solution to evaluate\n",
    "            data (Union[None, Tuple[np.ndarray, np.ndarray]], optional): Data to evaluate the solution. Defaults to None.\n",
    "        \n",
    "        Returns:\n",
    "            Tuple[float, float]: Fitness and accuracy of the solution    \n",
    "        \"\"\"\n",
    "        if data is None:\n",
    "            X_scaled = self.X_train\n",
    "            y_data = self.y_train\n",
    "        else:\n",
    "            X_scaled, y_data = data\n",
    "            \n",
    "        gamma, C = solution['real']\n",
    "        gamma /= 1000\n",
    "        C /= 1000\n",
    "        X_scaled_filtered = X_scaled[:, solution['discrete'].astype(int) == 1]\n",
    "        svc_model = SVC(gamma=gamma, C=C, kernel=\"rbf\", verbose=False)\n",
    "        svc_model.fit(X_scaled_filtered, np.ravel(y_data))\n",
    "        y_predict = svc_model.predict(X_scaled_filtered)\n",
    "        conf_matrix = confusion_matrix(y_data, y_predict)\n",
    "        accuracy = accuracy_score(y_data, y_predict) * 100\n",
    "        \n",
    "        return gsa_svm_fitness(accuracy=accuracy, solution=solution)\n",
    "\n",
    "    def is_feasible(self, solution: Mapping[str, np.ndarray]) -> bool:\n",
    "        \"\"\"\n",
    "        Check if a solution is feasable\n",
    "\n",
    "        Args:\n",
    "            solution (Mapping[str, np.ndarray]): Solution to evaluate\n",
    "\n",
    "        Returns:\n",
    "            bool: True if the solution is feasable, False otherwise\n",
    "        \"\"\"\n",
    "        real_values = solution['real']\n",
    "        discrete_values = solution['discrete']\n",
    "\n",
    "        for i, (min_val, max_val) in enumerate(self.boundaries['real']):\n",
    "            if real_values[i] < min_val or real_values[i] > max_val:\n",
    "                return False\n",
    "\n",
    "        for i, (min_val, max_val) in enumerate(self.boundaries['discrete']):\n",
    "            if discrete_values[i] < min_val or discrete_values[i] > max_val:\n",
    "                return False\n",
    "\n",
    "        return True\n",
    "\n",
    "boundaries = {'real': [(1, 100_000), (1, 100_000)], 'discrete': [(0, 1) for _ in range(len(X.columns))]}\n",
    "uci = UCI(X, y, boundaries)"
   ],
   "metadata": {
    "collapsed": false,
    "ExecuteTime": {
     "end_time": "2024-02-24T14:52:45.636971Z",
     "start_time": "2024-02-24T14:52:45.619372Z"
    }
   },
   "id": "f09d09eb81e9c069",
   "execution_count": 4
  },
  {
   "cell_type": "code",
   "outputs": [
    {
     "data": {
      "text/plain": "True"
     },
     "execution_count": 5,
     "metadata": {},
     "output_type": "execute_result"
    }
   ],
   "source": [
    "uci.is_feasible({'real': np.array([1.91833448, 34.69824839]),\n",
    "                 'discrete': np.array([1, 1, 0, 1, 1, 1, 0, 1, 0])})"
   ],
   "metadata": {
    "collapsed": false,
    "ExecuteTime": {
     "end_time": "2024-02-24T14:52:46.255555Z",
     "start_time": "2024-02-24T14:52:46.242463Z"
    }
   },
   "id": "f5d59b59dcefbd92",
   "execution_count": 5
  },
  {
   "cell_type": "code",
   "outputs": [
    {
     "name": "stdout",
     "output_type": "stream",
     "text": [
      "GSA is optimizing  \"get_fitness\"\n",
      "['At iteration 1 the best fitness is 90.39554760484995']\n",
      "['At iteration 2 the best fitness is 91.04353011329758']\n",
      "['At iteration 3 the best fitness is 91.47286821705427']\n",
      "['At iteration 4 the best fitness is 91.47286821705427']\n",
      "['At iteration 5 the best fitness is 91.47286821705427']\n",
      "['At iteration 6 the best fitness is 91.47286821705427']\n",
      "['At iteration 7 the best fitness is 91.47286821705427']\n",
      "['At iteration 8 the best fitness is 91.47286821705427']\n",
      "['At iteration 9 the best fitness is 91.47286821705427']\n",
      "['At iteration 10 the best fitness is 91.47286821705427']\n",
      "['At iteration 11 the best fitness is 91.47286821705427']\n",
      "['At iteration 12 the best fitness is 91.61598091830652']\n",
      "['At iteration 13 the best fitness is 91.61598091830652']\n",
      "['At iteration 14 the best fitness is 91.61598091830652']\n",
      "['At iteration 15 the best fitness is 91.61598091830652']\n",
      "['At iteration 16 the best fitness is 91.61598091830652']\n",
      "['At iteration 17 the best fitness is 91.61598091830652']\n",
      "['At iteration 18 the best fitness is 91.61598091830652']\n",
      "['At iteration 19 the best fitness is 91.61598091830652']\n",
      "['At iteration 20 the best fitness is 91.61598091830652']\n",
      "{'real': array([78973.33760299, 56089.98811876]), 'discrete': array([1, 0, 1, 0, 0, 1, 0, 0, 1])}\n",
      "Test accuracy:  98.57142857142858  - Fitness:  89.96825396825399\n",
      "GSA is optimizing  \"get_fitness\"\n",
      "['At iteration 1 the best fitness is 92.7608825283244']\n",
      "['At iteration 2 the best fitness is 92.7608825283244']\n",
      "['At iteration 3 the best fitness is 92.7608825283244']\n",
      "['At iteration 4 the best fitness is 92.7608825283244']\n",
      "['At iteration 5 the best fitness is 93.04710793082887']\n",
      "['At iteration 6 the best fitness is 93.04710793082887']\n",
      "['At iteration 7 the best fitness is 93.04710793082887']\n",
      "['At iteration 8 the best fitness is 93.04710793082887']\n",
      "['At iteration 9 the best fitness is 93.04710793082887']\n",
      "['At iteration 10 the best fitness is 93.04710793082887']\n",
      "['At iteration 11 the best fitness is 93.04710793082887']\n",
      "['At iteration 12 the best fitness is 93.04710793082887']\n",
      "['At iteration 13 the best fitness is 93.04710793082887']\n",
      "['At iteration 14 the best fitness is 93.04710793082887']\n",
      "['At iteration 15 the best fitness is 93.04710793082887']\n",
      "['At iteration 16 the best fitness is 93.04710793082887']\n",
      "['At iteration 17 the best fitness is 93.04710793082887']\n",
      "['At iteration 18 the best fitness is 93.04710793082887']\n",
      "['At iteration 19 the best fitness is 93.04710793082887']\n",
      "['At iteration 20 the best fitness is 93.04710793082887']\n",
      "{'real': array([97184.81048144, 76744.61063702]), 'discrete': array([1, 1, 0, 1, 0, 1, 0, 1, 0])}\n",
      "Test accuracy:  100.0  - Fitness:  88.88888888888889\n",
      "GSA is optimizing  \"get_fitness\"\n",
      "['At iteration 1 the best fitness is 92.7608825283244']\n",
      "['At iteration 2 the best fitness is 92.7608825283244']\n",
      "['At iteration 3 the best fitness is 92.7608825283244']\n",
      "['At iteration 4 the best fitness is 92.7608825283244']\n",
      "['At iteration 5 the best fitness is 92.7608825283244']\n",
      "['At iteration 6 the best fitness is 92.7608825283244']\n",
      "['At iteration 7 the best fitness is 92.7608825283244']\n",
      "['At iteration 8 the best fitness is 92.7608825283244']\n",
      "['At iteration 9 the best fitness is 92.7608825283244']\n",
      "['At iteration 10 the best fitness is 92.7608825283244']\n",
      "['At iteration 11 the best fitness is 92.7608825283244']\n",
      "['At iteration 12 the best fitness is 92.7608825283244']\n",
      "['At iteration 13 the best fitness is 92.7608825283244']\n",
      "['At iteration 14 the best fitness is 92.7608825283244']\n",
      "['At iteration 15 the best fitness is 92.7608825283244']\n",
      "['At iteration 16 the best fitness is 92.7608825283244']\n",
      "['At iteration 17 the best fitness is 92.7608825283244']\n",
      "['At iteration 18 the best fitness is 92.7608825283244']\n",
      "['At iteration 19 the best fitness is 92.7608825283244']\n",
      "['At iteration 20 the best fitness is 92.7608825283244']\n",
      "{'real': array([36609.43665324, 52598.64351661]), 'discrete': array([0, 1, 1, 0, 0, 1, 0, 0, 0])}\n",
      "Test accuracy:  99.28571428571429  - Fitness:  92.76190476190479\n",
      "GSA is optimizing  \"get_fitness\"\n",
      "['At iteration 1 the best fitness is 91.47286821705427']\n",
      "['At iteration 2 the best fitness is 91.47286821705427']\n",
      "['At iteration 3 the best fitness is 92.40707612800637']\n",
      "['At iteration 4 the best fitness is 92.40707612800637']\n",
      "['At iteration 5 the best fitness is 92.40707612800637']\n",
      "['At iteration 6 the best fitness is 92.40707612800637']\n",
      "['At iteration 7 the best fitness is 92.40707612800637']\n",
      "['At iteration 8 the best fitness is 93.12263963426756']\n",
      "['At iteration 9 the best fitness is 93.12263963426756']\n",
      "['At iteration 10 the best fitness is 93.12263963426756']\n",
      "['At iteration 11 the best fitness is 93.12263963426756']\n",
      "['At iteration 12 the best fitness is 93.12263963426756']\n",
      "['At iteration 13 the best fitness is 93.12263963426756']\n",
      "['At iteration 14 the best fitness is 93.12263963426756']\n",
      "['At iteration 15 the best fitness is 93.12263963426756']\n",
      "['At iteration 16 the best fitness is 93.12263963426756']\n",
      "['At iteration 17 the best fitness is 93.12263963426756']\n",
      "['At iteration 18 the best fitness is 93.12263963426756']\n",
      "['At iteration 19 the best fitness is 93.12263963426756']\n",
      "['At iteration 20 the best fitness is 93.12263963426756']\n",
      "{'real': array([29401.01670702, 87678.97562807]), 'discrete': array([1, 0, 1, 0, 0, 0, 0, 0, 0])}\n",
      "Test accuracy:  97.14285714285714  - Fitness:  93.26984126984128\n",
      "GSA is optimizing  \"get_fitness\"\n",
      "['At iteration 1 the best fitness is 88.88888888888889']\n",
      "['At iteration 2 the best fitness is 92.61776982707218']\n",
      "['At iteration 3 the best fitness is 92.61776982707218']\n",
      "['At iteration 4 the best fitness is 92.61776982707218']\n",
      "['At iteration 5 the best fitness is 92.61776982707218']\n",
      "['At iteration 6 the best fitness is 92.61776982707218']\n",
      "['At iteration 7 the best fitness is 92.61776982707218']\n",
      "['At iteration 8 the best fitness is 92.61776982707218']\n",
      "['At iteration 9 the best fitness is 92.90399522957662']\n",
      "['At iteration 10 the best fitness is 92.90399522957662']\n",
      "['At iteration 11 the best fitness is 93.19022063208112']\n",
      "['At iteration 12 the best fitness is 93.19022063208112']\n",
      "['At iteration 13 the best fitness is 93.19022063208112']\n",
      "['At iteration 14 the best fitness is 93.19022063208112']\n",
      "['At iteration 15 the best fitness is 93.19022063208112']\n",
      "['At iteration 16 the best fitness is 93.19022063208112']\n",
      "['At iteration 17 the best fitness is 93.19022063208112']\n",
      "['At iteration 18 the best fitness is 93.55197773802425']\n",
      "['At iteration 19 the best fitness is 93.55197773802425']\n",
      "['At iteration 20 the best fitness is 93.55197773802425']\n",
      "{'real': array([98170.99212494, 13371.42006238]), 'discrete': array([0, 0, 0, 0, 0, 1, 1, 0, 0])}\n",
      "Test accuracy:  96.42857142857143  - Fitness:  92.69841269841271\n",
      "GSA is optimizing  \"get_fitness\"\n",
      "['At iteration 1 the best fitness is 90.2524349035977']\n",
      "['At iteration 2 the best fitness is 91.47286821705427']\n",
      "['At iteration 3 the best fitness is 91.47286821705427']\n",
      "['At iteration 4 the best fitness is 92.47465712581993']\n",
      "['At iteration 5 the best fitness is 92.47465712581993']\n",
      "['At iteration 6 the best fitness is 92.47465712581993']\n",
      "['At iteration 7 the best fitness is 92.47465712581993']\n",
      "['At iteration 8 the best fitness is 92.47465712581993']\n",
      "['At iteration 9 the best fitness is 92.47465712581993']\n",
      "['At iteration 10 the best fitness is 92.47465712581993']\n",
      "['At iteration 11 the best fitness is 92.47465712581993']\n",
      "['At iteration 12 the best fitness is 92.47465712581993']\n",
      "['At iteration 13 the best fitness is 93.12263963426756']\n",
      "['At iteration 14 the best fitness is 93.12263963426756']\n",
      "['At iteration 15 the best fitness is 93.12263963426756']\n",
      "['At iteration 16 the best fitness is 93.12263963426756']\n",
      "['At iteration 17 the best fitness is 93.12263963426756']\n",
      "['At iteration 18 the best fitness is 93.12263963426756']\n",
      "['At iteration 19 the best fitness is 93.12263963426756']\n",
      "['At iteration 20 the best fitness is 93.12263963426756']\n",
      "{'real': array([17686.48201455, 26140.77855536]), 'discrete': array([1, 0, 1, 0, 0, 0, 0, 1, 0])}\n",
      "Test accuracy:  99.28571428571429  - Fitness:  92.76190476190479\n",
      "GSA is optimizing  \"get_fitness\"\n",
      "['At iteration 1 the best fitness is 93.04710793082887']\n",
      "['At iteration 2 the best fitness is 93.04710793082887']\n",
      "['At iteration 3 the best fitness is 93.04710793082887']\n",
      "['At iteration 4 the best fitness is 93.04710793082887']\n",
      "['At iteration 5 the best fitness is 93.04710793082887']\n",
      "['At iteration 6 the best fitness is 93.04710793082887']\n",
      "['At iteration 7 the best fitness is 93.04710793082887']\n",
      "['At iteration 8 the best fitness is 93.04710793082887']\n",
      "['At iteration 9 the best fitness is 93.04710793082887']\n",
      "['At iteration 10 the best fitness is 93.04710793082887']\n",
      "['At iteration 11 the best fitness is 93.04710793082887']\n",
      "['At iteration 12 the best fitness is 93.19022063208112']\n",
      "['At iteration 13 the best fitness is 93.19022063208112']\n",
      "['At iteration 14 the best fitness is 93.19022063208112']\n",
      "['At iteration 15 the best fitness is 93.19022063208112']\n",
      "['At iteration 16 the best fitness is 93.19022063208112']\n",
      "['At iteration 17 the best fitness is 93.19022063208112']\n",
      "['At iteration 18 the best fitness is 93.19022063208112']\n",
      "['At iteration 19 the best fitness is 93.19022063208112']\n",
      "['At iteration 20 the best fitness is 93.19022063208112']\n",
      "{'real': array([15153.01499373, 80366.30004975]), 'discrete': array([0, 1, 0, 0, 0, 1, 1, 0, 0])}\n",
      "Test accuracy:  100.0  - Fitness:  93.33333333333334\n",
      "GSA is optimizing  \"get_fitness\"\n",
      "['At iteration 1 the best fitness is 92.18843172331546']\n",
      "['At iteration 2 the best fitness is 92.18843172331546']\n",
      "['At iteration 3 the best fitness is 92.18843172331546']\n",
      "['At iteration 4 the best fitness is 92.18843172331546']\n",
      "['At iteration 5 the best fitness is 92.18843172331546']\n",
      "['At iteration 6 the best fitness is 92.18843172331546']\n",
      "['At iteration 7 the best fitness is 92.18843172331546']\n",
      "['At iteration 8 the best fitness is 92.18843172331546']\n",
      "['At iteration 9 the best fitness is 92.18843172331546']\n",
      "['At iteration 10 the best fitness is 92.18843172331546']\n",
      "['At iteration 11 the best fitness is 92.18843172331546']\n",
      "['At iteration 12 the best fitness is 92.18843172331546']\n",
      "['At iteration 13 the best fitness is 92.18843172331546']\n",
      "['At iteration 14 the best fitness is 92.18843172331546']\n",
      "['At iteration 15 the best fitness is 92.18843172331546']\n",
      "['At iteration 16 the best fitness is 92.18843172331546']\n",
      "['At iteration 17 the best fitness is 92.18843172331546']\n",
      "['At iteration 18 the best fitness is 92.18843172331546']\n",
      "['At iteration 19 the best fitness is 92.18843172331546']\n",
      "['At iteration 20 the best fitness is 92.18843172331546']\n",
      "{'real': array([17005.00345186, 44487.89465484]), 'discrete': array([1, 1, 0, 0, 1, 0, 1, 1, 1])}\n",
      "Test accuracy:  100.0  - Fitness:  86.66666666666667\n",
      "GSA is optimizing  \"get_fitness\"\n",
      "['At iteration 1 the best fitness is 91.11111111111111']\n",
      "['At iteration 2 the best fitness is 92.33154442456768']\n",
      "['At iteration 3 the best fitness is 92.33154442456768']\n",
      "['At iteration 4 the best fitness is 92.40707612800637']\n",
      "['At iteration 5 the best fitness is 92.40707612800637']\n",
      "['At iteration 6 the best fitness is 92.40707612800637']\n",
      "['At iteration 7 the best fitness is 92.40707612800637']\n",
      "['At iteration 8 the best fitness is 92.40707612800637']\n",
      "['At iteration 9 the best fitness is 92.40707612800637']\n",
      "['At iteration 10 the best fitness is 92.40707612800637']\n",
      "['At iteration 11 the best fitness is 92.47465712581993']\n",
      "['At iteration 12 the best fitness is 92.47465712581993']\n",
      "['At iteration 13 the best fitness is 92.47465712581993']\n",
      "['At iteration 14 the best fitness is 92.7608825283244']\n",
      "['At iteration 15 the best fitness is 92.7608825283244']\n",
      "['At iteration 16 the best fitness is 92.7608825283244']\n",
      "['At iteration 17 the best fitness is 92.7608825283244']\n",
      "['At iteration 18 the best fitness is 92.7608825283244']\n",
      "['At iteration 19 the best fitness is 92.7608825283244']\n",
      "['At iteration 20 the best fitness is 92.7608825283244']\n",
      "{'real': array([22258.93167175, 64437.30333909]), 'discrete': array([0, 0, 1, 0, 1, 0, 1, 0, 0])}\n",
      "Test accuracy:  97.14285714285714  - Fitness:  91.04761904761907\n",
      "GSA is optimizing  \"get_fitness\"\n",
      "['At iteration 1 the best fitness is 91.47286821705427']\n",
      "['At iteration 2 the best fitness is 93.04710793082887']\n",
      "['At iteration 3 the best fitness is 93.04710793082887']\n",
      "['At iteration 4 the best fitness is 93.04710793082887']\n",
      "['At iteration 5 the best fitness is 93.04710793082887']\n",
      "['At iteration 6 the best fitness is 93.04710793082887']\n",
      "['At iteration 7 the best fitness is 93.55197773802425']\n",
      "['At iteration 8 the best fitness is 93.55197773802425']\n",
      "['At iteration 9 the best fitness is 93.55197773802425']\n",
      "['At iteration 10 the best fitness is 93.55197773802425']\n",
      "['At iteration 11 the best fitness is 93.55197773802425']\n",
      "['At iteration 12 the best fitness is 93.55197773802425']\n",
      "['At iteration 13 the best fitness is 93.55197773802425']\n",
      "['At iteration 14 the best fitness is 93.55197773802425']\n",
      "['At iteration 15 the best fitness is 93.55197773802425']\n",
      "['At iteration 16 the best fitness is 93.55197773802425']\n",
      "['At iteration 17 the best fitness is 93.55197773802425']\n",
      "['At iteration 18 the best fitness is 93.55197773802425']\n",
      "['At iteration 19 the best fitness is 93.55197773802425']\n",
      "['At iteration 20 the best fitness is 93.55197773802425']\n",
      "{'real': array([54631.72167678, 77231.58143203]), 'discrete': array([1, 0, 0, 1, 1, 1, 0, 1, 0])}\n",
      "Test accuracy:  100.0  - Fitness:  88.88888888888889\n"
     ]
    }
   ],
   "source": [
    "# Select number of repetitions for each experiment. \n",
    "runs = 10\n",
    "\n",
    "# Select chaotic constant\n",
    "chaotic_constant = True\n",
    "\n",
    "# Export results ?\n",
    "export = True\n",
    "\n",
    "save_path = \"data/output/\"\n",
    "if not os.path.exists(save_path):\n",
    "    os.makedirs(save_path)\n",
    "\n",
    "ExportToFile = save_path + \"experiment\" + time.strftime(\"%Y-%m-%d-%H-%M-%S_\") + str(chaotic_constant) + \".csv\"\n",
    "\n",
    "# Check if it works at least once\n",
    "atLeastOneIteration = False\n",
    "\n",
    "population_size = 5 \n",
    "iterations = 20\n",
    "\n",
    "\n",
    "# CSV Header for the convergence\n",
    "CnvgHeader = [\"Sol_Iter\"+str(l+1) for l in range(iterations)]\n",
    "\n",
    "best_solution_history = []\n",
    "accuracy_history = []\n",
    "gamma_history = []\n",
    "c_history = []\n",
    "n_features_history = []\n",
    "\n",
    "uci = UCI(X, y, boundaries)\n",
    "\n",
    "for k in range(runs):\n",
    "    gsa_algo = GSA(objective_function = uci.get_fitness,\n",
    "                   is_feasible=uci.is_feasible,\n",
    "                   r_dim=2,\n",
    "                   d_dim=len(X.columns),\n",
    "                   boundaries=uci.boundaries,\n",
    "                   repair_solution=False)\n",
    "    \n",
    "    gsa_algo.optimize(population_size=population_size,\n",
    "                      iters=iterations,\n",
    "                      chaotic_constant=True)\n",
    "    \n",
    "    print(gsa_algo.solution_history[-1])\n",
    "    fitness, accuracy = uci.get_fitness(solution=gsa_algo.solution_history[-1],\n",
    "                                        data=(uci.X_test, uci.y_test))\n",
    "    \n",
    "    print(\"Test accuracy: \", accuracy, \" - Fitness: \", fitness)\n",
    "    \n",
    "    best_solution_history.append(gsa_algo.solution_history[-1])\n",
    "    accuracy_history.append(accuracy)\n",
    "    gamma_history.append(gsa_algo.solution_history[-1]['real'][0] / 1000)\n",
    "    c_history.append(gsa_algo.solution_history[-1]['real'][1] / 1000)\n",
    "    n_features_history.append(np.sum(gsa_algo.solution_history[-1]['discrete']))\n",
    "    \n",
    "    if export:\n",
    "        with open(ExportToFile, 'a') as out:\n",
    "            writer = csv.writer(out, delimiter=',')\n",
    "            if not atLeastOneIteration:  # just one time to write the header of the CSV file\n",
    "                header = np.concatenate(\n",
    "                    [[\"Optimizer\", \"objfname\", \"startTime\", \"EndTime\", \"ExecutionTime\"], CnvgHeader])\n",
    "                writer.writerow(header)\n",
    "            a = np.concatenate(\n",
    "                [[gsa_algo.objective_function_name,\n",
    "                  gsa_algo.start_time,\n",
    "                  gsa_algo.end_time,\n",
    "                  gsa_algo.execution_time],\n",
    "                  gsa_algo.convergence])\n",
    "            writer.writerow(a)\n",
    "        out.close()\n",
    "    atLeastOneIteration = True  # at least one experiment\n",
    "\n",
    "if not atLeastOneIteration:  # Failed to run at least one experiment\n",
    "    print(\"No Optimizer or Cost function is selected. Check lists of available optimizers and cost functions\")"
   ],
   "metadata": {
    "collapsed": false,
    "ExecuteTime": {
     "end_time": "2024-02-24T14:52:54.099707Z",
     "start_time": "2024-02-24T14:52:46.957544Z"
    }
   },
   "id": "4897f401c150dc41",
   "execution_count": 6
  },
  {
   "cell_type": "code",
   "outputs": [
    {
     "data": {
      "text/plain": "[{'real': array([78973.33760299, 56089.98811876]),\n  'discrete': array([1, 0, 1, 0, 0, 1, 0, 0, 1])},\n {'real': array([97184.81048144, 76744.61063702]),\n  'discrete': array([1, 1, 0, 1, 0, 1, 0, 1, 0])},\n {'real': array([36609.43665324, 52598.64351661]),\n  'discrete': array([0, 1, 1, 0, 0, 1, 0, 0, 0])},\n {'real': array([29401.01670702, 87678.97562807]),\n  'discrete': array([1, 0, 1, 0, 0, 0, 0, 0, 0])},\n {'real': array([98170.99212494, 13371.42006238]),\n  'discrete': array([0, 0, 0, 0, 0, 1, 1, 0, 0])},\n {'real': array([17686.48201455, 26140.77855536]),\n  'discrete': array([1, 0, 1, 0, 0, 0, 0, 1, 0])},\n {'real': array([15153.01499373, 80366.30004975]),\n  'discrete': array([0, 1, 0, 0, 0, 1, 1, 0, 0])},\n {'real': array([17005.00345186, 44487.89465484]),\n  'discrete': array([1, 1, 0, 0, 1, 0, 1, 1, 1])},\n {'real': array([22258.93167175, 64437.30333909]),\n  'discrete': array([0, 0, 1, 0, 1, 0, 1, 0, 0])},\n {'real': array([54631.72167678, 77231.58143203]),\n  'discrete': array([1, 0, 0, 1, 1, 1, 0, 1, 0])}]"
     },
     "execution_count": 7,
     "metadata": {},
     "output_type": "execute_result"
    }
   ],
   "source": [
    "best_solution_history"
   ],
   "metadata": {
    "collapsed": false,
    "ExecuteTime": {
     "end_time": "2024-02-24T14:52:58.275680Z",
     "start_time": "2024-02-24T14:52:58.253975Z"
    }
   },
   "id": "3613b6d16a4f8afd",
   "execution_count": 7
  },
  {
   "cell_type": "code",
   "outputs": [
    {
     "data": {
      "text/plain": "[98.57142857142858,\n 100.0,\n 99.28571428571429,\n 97.14285714285714,\n 96.42857142857143,\n 99.28571428571429,\n 100.0,\n 100.0,\n 97.14285714285714,\n 100.0]"
     },
     "execution_count": 8,
     "metadata": {},
     "output_type": "execute_result"
    }
   ],
   "source": [
    "accuracy_history"
   ],
   "metadata": {
    "collapsed": false,
    "ExecuteTime": {
     "end_time": "2024-02-24T14:52:58.807925Z",
     "start_time": "2024-02-24T14:52:58.796266Z"
    }
   },
   "id": "78eca84fcbbd77d3",
   "execution_count": 8
  },
  {
   "cell_type": "code",
   "outputs": [
    {
     "data": {
      "text/plain": "[78.97333760298665,\n 97.18481048144302,\n 36.60943665323588,\n 29.40101670701529,\n 98.17099212494213,\n 17.686482014551483,\n 15.153014993732802,\n 17.005003451860215,\n 22.258931671745728,\n 54.63172167677966]"
     },
     "execution_count": 9,
     "metadata": {},
     "output_type": "execute_result"
    }
   ],
   "source": [
    "gamma_history"
   ],
   "metadata": {
    "collapsed": false,
    "ExecuteTime": {
     "end_time": "2024-02-24T14:52:59.765864Z",
     "start_time": "2024-02-24T14:52:59.749579Z"
    }
   },
   "id": "8c77d752f640fc2d",
   "execution_count": 9
  },
  {
   "cell_type": "code",
   "outputs": [
    {
     "data": {
      "text/plain": "[56.08998811875777,\n 76.74461063702333,\n 52.598643516614125,\n 87.67897562806765,\n 13.371420062380839,\n 26.140778555357624,\n 80.36630004975137,\n 44.4878946548438,\n 64.43730333908614,\n 77.23158143203186]"
     },
     "execution_count": 10,
     "metadata": {},
     "output_type": "execute_result"
    }
   ],
   "source": [
    "c_history"
   ],
   "metadata": {
    "collapsed": false,
    "ExecuteTime": {
     "end_time": "2024-02-24T14:53:00.019005Z",
     "start_time": "2024-02-24T14:53:00.002593Z"
    }
   },
   "id": "6a51257a6bed3333",
   "execution_count": 10
  },
  {
   "cell_type": "code",
   "outputs": [
    {
     "name": "stdout",
     "output_type": "stream",
     "text": [
      "Mean accuracy: 98.78571428571429 +/- 1.3190132366156715\n",
      "Mean gamma: 46.70747473782929 +/- 31.653891563715053\n",
      "Mean C: 57.91474959939145 +/- 23.164181938807417\n",
      "Mean n_features: 3.6 +/- 1.2806248474865698\n"
     ]
    }
   ],
   "source": [
    "mean_accuracy = np.mean(accuracy_history)\n",
    "std_accuracy = np.std(accuracy_history)\n",
    "\n",
    "print(f\"Mean accuracy: {mean_accuracy} +/- {std_accuracy}\")\n",
    "\n",
    "mean_gamma = np.mean(gamma_history)\n",
    "std_gamma = np.std(gamma_history)\n",
    "\n",
    "print(f\"Mean gamma: {mean_gamma} +/- {std_gamma}\")\n",
    "\n",
    "mean_c = np.mean(c_history)\n",
    "std_c = np.std(c_history)\n",
    "\n",
    "print(f\"Mean C: {mean_c} +/- {std_c}\")\n",
    "\n",
    "mean_n_features = np.mean(n_features_history)\n",
    "std_n_features = np.std(n_features_history)\n",
    "\n",
    "print(f\"Mean n_features: {mean_n_features} +/- {std_n_features}\")"
   ],
   "metadata": {
    "collapsed": false,
    "ExecuteTime": {
     "end_time": "2024-02-24T14:53:00.392029Z",
     "start_time": "2024-02-24T14:53:00.377461Z"
    }
   },
   "id": "d8cd988d571be123",
   "execution_count": 11
  },
  {
   "cell_type": "markdown",
   "source": [
    "                /\\ \n",
    "               /  \\\n",
    "                || \n",
    "                \n",
    "        Nuestros resultados\n",
    "        \n",
    "Dataset: Mushroom\n",
    "Instances: 8124 (Train / Test: 80% / 20%)\n",
    "Features: 22\n",
    "\n",
    "Resultados autores:\n",
    "\n",
    "| Metric | Value             |\n",
    "| --- |-------------------|\n",
    "| Accuracy | 98.06 +/- 0.78    |\n",
    "| Gamma | 0.0067 +/- 0.0144 |\n",
    "| C | 47.35 +/- 27.57   |\n",
    "| n_features | 3 +/- 2.16        |"
   ],
   "metadata": {
    "collapsed": false
   },
   "id": "f28fe49236098ff7"
  },
  {
   "cell_type": "markdown",
   "source": [
    "                /\\ \n",
    "               /  \\\n",
    "                || \n",
    "                \n",
    "        Nuestros resultados\n",
    "        \n",
    "Dataset: Breast Cancer Wisconsin (Diagnostic) Data Set\n",
    "\n",
    "Resultados autores:\n",
    "\n",
    "| Metric | Value             |\n",
    "| --- |-------------------|\n",
    "| Accuracy | 99.54 +/- 0.25    |\n",
    "| Gamma | 0.0685 +/- 0.1293 |\n",
    "| C | 40.30 +/- 22.37   |\n",
    "| n_features | 2 +/- 1           |"
   ],
   "metadata": {
    "collapsed": false
   },
   "id": "cba37a23b02daa50"
  },
  {
   "cell_type": "code",
   "outputs": [
    {
     "name": "stdout",
     "output_type": "stream",
     "text": [
      "Test accuracy:  100.0  - Fitness:  0.2666666666666666\n"
     ]
    }
   ],
   "source": [
    "solution= {'real': np.array([0.91833448, 34.69824839]),\n",
    "           'discrete': np.array([1, 1, 0, 1, 1, 1, 0, 1, 0])}\n",
    "\n",
    "fitness, accuracy = uci.get_fitness(solution=solution,\n",
    "                                    data=(uci.X_test_scaled, uci.y_test))\n",
    "\n",
    "print(\"Test accuracy: \", accuracy, \" - Fitness: \", fitness)"
   ],
   "metadata": {
    "collapsed": false,
    "ExecuteTime": {
     "end_time": "2024-02-15T17:11:39.475237Z",
     "start_time": "2024-02-15T17:11:39.454384Z"
    }
   },
   "id": "79f948a3e10b71ad",
   "execution_count": 8
  },
  {
   "cell_type": "code",
   "outputs": [],
   "source": [],
   "metadata": {
    "collapsed": false
   },
   "id": "bdf875026d9d4f13"
  }
 ],
 "metadata": {
  "kernelspec": {
   "display_name": "Python 3",
   "language": "python",
   "name": "python3"
  },
  "language_info": {
   "codemirror_mode": {
    "name": "ipython",
    "version": 2
   },
   "file_extension": ".py",
   "mimetype": "text/x-python",
   "name": "python",
   "nbconvert_exporter": "python",
   "pygments_lexer": "ipython2",
   "version": "2.7.6"
  }
 },
 "nbformat": 4,
 "nbformat_minor": 5
}
