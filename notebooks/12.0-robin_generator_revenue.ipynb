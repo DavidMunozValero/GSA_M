{
 "cells": [
  {
   "cell_type": "markdown",
   "source": [
    "# Infraestructure Manager revenue maximization with GSA"
   ],
   "metadata": {
    "collapsed": false
   },
   "id": "332c3166a53e9a5a"
  },
  {
   "cell_type": "markdown",
   "source": [
    "## 0. Load libraries\n",
    "\n",
    "### WARNING!\n",
    "\n",
    "Install local robin module: `python3 -m pip install -e /Users/david/PycharmProjects/robin`"
   ],
   "metadata": {
    "collapsed": false
   },
   "id": "7b4fe385be61b35a"
  },
  {
   "cell_type": "code",
   "outputs": [
    {
     "name": "stderr",
     "output_type": "stream",
     "text": [
      "/Users/uclm/PycharmProjects/GSA_M/venv/lib/python3.9/site-packages/urllib3/__init__.py:35: NotOpenSSLWarning: urllib3 v2 only supports OpenSSL 1.1.1+, currently the 'ssl' module is compiled with 'LibreSSL 2.8.3'. See: https://github.com/urllib3/urllib3/issues/3020\n",
      "  warnings.warn(\n"
     ]
    }
   ],
   "source": [
    "%load_ext autoreload\n",
    "%autoreload 2\n",
    "\n",
    "import numpy as np\n",
    "import pandas as pd\n",
    "from pathlib import Path\n",
    "\n",
    "from benchmarks.robin_railway import RevenueMaximization\n",
    "from src.entities import GSA\n",
    "\n",
    "from random import randint, seed\n",
    "from robin.kernel.entities import Kernel\n",
    "from robin.scraping.entities import SupplySaver\n",
    "from robin.services_generator.entities import ServiceGenerator\n",
    "from robin.supply.entities import Supply"
   ],
   "metadata": {
    "collapsed": false,
    "ExecuteTime": {
     "end_time": "2024-04-08T10:40:53.889913Z",
     "start_time": "2024-04-08T10:40:53.782467Z"
    }
   },
   "id": "c3cc59d5610d418",
   "execution_count": 1
  },
  {
   "cell_type": "code",
   "outputs": [
    {
     "name": "stdout",
     "output_type": "stream",
     "text": [
      "Iteration 1\n",
      "\tGenerator seed: 169\n",
      "../data/supply_gen_1.yml\n",
      "\tGSA seed: 506\n",
      "{'OUIGO': 13334.500000000002, 'Renfe AVE': 38991.68, 'Renfe AVLO': 25189.280000000002}\n",
      "##################################################\n",
      "\tImproved solution: {'OUIGO': 13334.500000000002, 'Renfe AVE': 38991.68, 'Renfe AVLO': 25189.280000000002}\n",
      "\tFile: supply_1\n",
      "##################################################\n",
      "Iteration 2\n",
      "\tGenerator seed: 858\n",
      "../data/supply_gen_2.yml\n",
      "\tGSA seed: 31\n",
      "{'IRYO': 27676.969999999998, 'Renfe AVE': 38710.68, 'Renfe AVLO': 11580.0}\n",
      "Iteration 3\n",
      "\tGenerator seed: 148\n",
      "../data/supply_gen_3.yml\n",
      "\tGSA seed: 256\n",
      "{'OUIGO': 13334.500000000002, 'Renfe AVE': 20003.0, 'Renfe AVLO': 41268.15}\n",
      "Iteration 4\n",
      "\tGenerator seed: 506\n",
      "../data/supply_gen_4.yml\n",
      "\tGSA seed: 509\n",
      "{'IRYO': 53878.63, 'Renfe AVLO': 12150.86}\n",
      "Iteration 5\n",
      "\tGenerator seed: 574\n",
      "../data/supply_gen_5.yml\n",
      "\tGSA seed: 699\n",
      "{'IRYO': 13579.5, 'OUIGO': 27607.940000000002, 'Renfe AVE': 44139.43}\n",
      "##################################################\n",
      "\tImproved solution: {'IRYO': 13579.5, 'OUIGO': 27607.940000000002, 'Renfe AVE': 44139.43}\n",
      "\tFile: supply_5\n",
      "##################################################\n",
      "Iteration 6\n",
      "\tGenerator seed: 8\n",
      "../data/supply_gen_6.yml\n",
      "\tGSA seed: 396\n",
      "{'IRYO': 12000.5, 'OUIGO': 39696.71, 'Renfe AVLO': 25090.0}\n",
      "Iteration 7\n",
      "\tGenerator seed: 530\n",
      "../data/supply_gen_7.yml\n",
      "\tGSA seed: 628\n",
      "{'IRYO': 12000.5, 'OUIGO': 26224.149999999998, 'Renfe AVE': 39069.44, 'Renfe AVLO': 14937.15}\n",
      "##################################################\n",
      "\tImproved solution: {'IRYO': 12000.5, 'OUIGO': 26224.149999999998, 'Renfe AVE': 39069.44, 'Renfe AVLO': 14937.15}\n",
      "\tFile: supply_7\n",
      "##################################################\n",
      "Iteration 8\n",
      "\tGenerator seed: 706\n",
      "../data/supply_gen_8.yml\n",
      "\tGSA seed: 902\n",
      "{'IRYO': 12772.66, 'OUIGO': 27433.5, 'Renfe AVE': 17371.0, 'Renfe AVLO': 27020.0}\n",
      "Iteration 9\n",
      "\tGenerator seed: 550\n",
      "../data/supply_gen_9.yml\n",
      "\tGSA seed: 439\n",
      "{'OUIGO': 14236.480000000001, 'Renfe AVE': 69265.33}\n",
      "Iteration 10\n",
      "\tGenerator seed: 648\n",
      "../data/supply_gen_10.yml\n",
      "\tGSA seed: 310\n",
      "{'IRYO': 13593.51, 'OUIGO': 25267.5, 'Renfe AVE': 19824.49, 'Renfe AVLO': 25474.71}\n"
     ]
    }
   ],
   "source": [
    "seed(21)\n",
    "\n",
    "pop_size = 20\n",
    "iters = 50\n",
    "\n",
    "supply_config_path = Path(\"../configs/generator/supply_config.yml\")\n",
    "generator_config_path = Path(\"../configs/generator/generator_config.yml\")\n",
    "\n",
    "supply_save_path = '../configs/gsa_results/'\n",
    "robin_save_path = '../data/output/robin/'\n",
    "\n",
    "if not Path(supply_save_path).exists():\n",
    "        Path(supply_save_path).mkdir(parents=True)\n",
    "\n",
    "best_solution = {}\n",
    "max_iters = 10\n",
    "for i in range(1, max_iters + 1):\n",
    "    print(f'Iteration {i}')\n",
    "    \n",
    "    # Generate random RU's service requests\n",
    "    generator = ServiceGenerator(supply_config_path=supply_config_path)\n",
    "    \n",
    "    generator_seed = randint(1, 1000)\n",
    "    print(f'\\tGenerator seed: {generator_seed}')\n",
    "    req_file_name = f'supply_gen_{i}'\n",
    "    services = generator.generate(file_name=Path(f'../data/{req_file_name}.yml'),\n",
    "                                  path_config=generator_config_path,\n",
    "                                  n_services=5,\n",
    "                                  seed=generator_seed)\n",
    "    \n",
    "    # Get optimized & feasible timetable\n",
    "    print(f'../data/{req_file_name}.yml')\n",
    "    sm = RevenueMaximization(Path(f'../data/{req_file_name}.yml'), safe_headway=10)\n",
    "\n",
    "    gsa_algo = GSA(objective_function=sm.get_fitness_gsa,\n",
    "                   is_feasible=sm.feasible_services_times,\n",
    "                   custom_repair=sm.custom_repair,\n",
    "                   r_dim=len(sm.boundaries.real),\n",
    "                   d_dim=0,\n",
    "                   boundaries=sm.boundaries)\n",
    "    \n",
    "    gsa_seed = randint(1, 1000)\n",
    "    print(f'\\tGSA seed: {gsa_seed}')\n",
    "    #gsa_algo.set_seed(seed=gsa_seed)\n",
    "    \n",
    "    training_history = gsa_algo.optimize(population_size=pop_size,\n",
    "                                         iters=iters,\n",
    "                                         chaotic_constant=False,\n",
    "                                         repair_solution=True,\n",
    "                                         initial_population=sm.get_initial_population(pop_size),\n",
    "                                         verbose=False)\n",
    "    \n",
    "    tt_file_name = f'supply_{i}'\n",
    "    SupplySaver(services).to_yaml(filename=f'{tt_file_name}.yml', save_path=supply_save_path)\n",
    "    \n",
    "    # Simulate market\n",
    "    path_config_supply = f'{supply_save_path}{tt_file_name}.yml'\n",
    "    path_config_demand = '../configs/demand/demand.yml'\n",
    "    path_output_csv = f'{robin_save_path}output_{i}.csv'\n",
    "    \n",
    "    if not Path(path_output_csv).parent.exists():\n",
    "        Path(path_output_csv).parent.mkdir(parents=True)\n",
    "        \n",
    "    seed = 21\n",
    "    kernel = Kernel(path_config_supply, path_config_demand)\n",
    "    services = kernel.simulate(output_path=path_output_csv, departure_time_hard_restriction=True)\n",
    "    \n",
    "    # Evaluation - Better if all RU's income is maximized\n",
    "    df = pd.read_csv(path_output_csv)\n",
    "    supply = Supply.from_yaml(path_config_supply)\n",
    "\n",
    "    services_tsp = {service.id: service.tsp.name for service in supply.services}\n",
    "    df['tsp'] = df['service'].apply(lambda service_id: services_tsp.get(service_id, np.NaN))\n",
    "    tsp_revenue = df.groupby('tsp').agg({'price': 'sum'}).to_dict()['price']\n",
    "    print(tsp_revenue)\n",
    "    \n",
    "    improved_solution = False\n",
    "    if not best_solution:\n",
    "        best_solution = tsp_revenue\n",
    "        improved_solution = True\n",
    "    else:\n",
    "        if len(tsp_revenue) > len(best_solution):\n",
    "            best_solution = tsp_revenue\n",
    "            improved_solution = True\n",
    "        elif all([tsp_revenue[tsp] > best_solution.get(tsp, -np.inf) for tsp in tsp_revenue]):\n",
    "            best_solution = tsp_revenue\n",
    "            improved_solution = True\n",
    "    \n",
    "    if improved_solution:\n",
    "        print(\"#\"*50)\n",
    "        print(f'\\tImproved solution: {best_solution}')\n",
    "        print(f'\\tFile: {tt_file_name}')\n",
    "        print(\"#\"*50)"
   ],
   "metadata": {
    "collapsed": false,
    "ExecuteTime": {
     "end_time": "2024-04-08T10:41:08.458739Z",
     "start_time": "2024-04-08T10:40:54.596127Z"
    }
   },
   "id": "adc5ee838b7bf0f5",
   "execution_count": 2
  },
  {
   "cell_type": "code",
   "outputs": [],
   "source": [
    "from robin.demand.entities import Demand\n",
    "\n",
    "demand = Demand.from_yaml('../configs/demand/demand.yml')"
   ],
   "metadata": {
    "collapsed": false,
    "ExecuteTime": {
     "end_time": "2024-04-08T11:31:26.534626Z",
     "start_time": "2024-04-08T11:31:26.368603Z"
    }
   },
   "id": "f020a0ba61767c89",
   "execution_count": 10
  },
  {
   "cell_type": "code",
   "outputs": [],
   "source": [
    "passengers = demand.generate_passengers()"
   ],
   "metadata": {
    "collapsed": false,
    "ExecuteTime": {
     "end_time": "2024-04-08T11:31:27.509704Z",
     "start_time": "2024-04-08T11:31:27.323112Z"
    }
   },
   "id": "2612d0da6b10900f",
   "execution_count": 11
  },
  {
   "cell_type": "code",
   "outputs": [],
   "source": [
    "p = passengers[0]"
   ],
   "metadata": {
    "collapsed": false,
    "ExecuteTime": {
     "end_time": "2024-04-08T11:31:28.336553Z",
     "start_time": "2024-04-08T11:31:28.319637Z"
    }
   },
   "id": "8487b48f3a7de7f",
   "execution_count": 12
  },
  {
   "cell_type": "code",
   "outputs": [
    {
     "data": {
      "text/plain": "[30.0, 40.0, 30.0]"
     },
     "execution_count": 19,
     "metadata": {},
     "output_type": "execute_result"
    }
   ],
   "source": [
    "values = [float(rule.split(' ')[-1]) for r, rule in p.user_pattern._rules.items()]\n",
    "values"
   ],
   "metadata": {
    "collapsed": false,
    "ExecuteTime": {
     "end_time": "2024-04-08T11:35:47.259003Z",
     "start_time": "2024-04-08T11:35:47.247222Z"
    }
   },
   "id": "18599e8b58ec5779",
   "execution_count": 19
  },
  {
   "cell_type": "code",
   "outputs": [
    {
     "data": {
      "text/plain": "[29.0, 37.0, 34.0]"
     },
     "execution_count": 44,
     "metadata": {},
     "output_type": "execute_result"
    }
   ],
   "source": [
    "import random\n",
    "\n",
    "def update_rules(values: list, max_change: int=2):\n",
    "    for _ in range(len(values)):\n",
    "        # Set two random indexes\n",
    "        idx1, idx2 = random.sample(range(len(values)), 2)\n",
    "        \n",
    "        # Calculate the amount of change\n",
    "        cambio = np.round(random.uniform(1, min(max_change, values[idx1], values[idx2])))\n",
    "        \n",
    "        # Adjust the values\n",
    "        values[idx1] -= cambio\n",
    "        values[idx2] += cambio    \n",
    "    return values\n",
    "\n",
    "# Original\n",
    "original = [30.0, 40.0, 30.0]\n",
    "\n",
    "updated = update_rules(original.copy())\n",
    "updated"
   ],
   "metadata": {
    "collapsed": false,
    "ExecuteTime": {
     "end_time": "2024-04-08T11:49:47.812947Z",
     "start_time": "2024-04-08T11:49:47.793470Z"
    }
   },
   "id": "16880c99821072c0",
   "execution_count": 44
  },
  {
   "cell_type": "code",
   "outputs": [
    {
     "name": "stdout",
     "output_type": "stream",
     "text": [
      "100.0\n"
     ]
    }
   ],
   "source": [],
   "metadata": {
    "collapsed": false,
    "ExecuteTime": {
     "end_time": "2024-04-08T11:38:11.579228Z",
     "start_time": "2024-04-08T11:38:11.565959Z"
    }
   },
   "id": "9156c71713539f88",
   "execution_count": 21
  },
  {
   "cell_type": "code",
   "outputs": [],
   "source": [],
   "metadata": {
    "collapsed": false
   },
   "id": "718ae35fb8651bc9"
  }
 ],
 "metadata": {
  "kernelspec": {
   "display_name": "Python 3 (ipykernel)",
   "language": "python",
   "name": "python3"
  },
  "language_info": {
   "codemirror_mode": {
    "name": "ipython",
    "version": 3
   },
   "file_extension": ".py",
   "mimetype": "text/x-python",
   "name": "python",
   "nbconvert_exporter": "python",
   "pygments_lexer": "ipython3",
   "version": "3.9.6"
  }
 },
 "nbformat": 4,
 "nbformat_minor": 5
}
