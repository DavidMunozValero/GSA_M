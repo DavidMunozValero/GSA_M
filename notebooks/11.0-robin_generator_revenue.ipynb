{
 "cells": [
  {
   "cell_type": "markdown",
   "source": [
    "# Infraestructure Manager revenue maximization with GSA"
   ],
   "metadata": {
    "collapsed": false
   },
   "id": "332c3166a53e9a5a"
  },
  {
   "cell_type": "markdown",
   "source": [
    "## 0. Load libraries\n",
    "\n",
    "### WARNING!\n",
    "\n",
    "Install local robin module: `python3 -m pip install -e /Users/david/PycharmProjects/robin`"
   ],
   "metadata": {
    "collapsed": false
   },
   "id": "7b4fe385be61b35a"
  },
  {
   "cell_type": "code",
   "outputs": [
    {
     "name": "stderr",
     "output_type": "stream",
     "text": [
      "/Users/david/PycharmProjects/GSA_M/venv/lib/python3.9/site-packages/urllib3/__init__.py:35: NotOpenSSLWarning: urllib3 v2 only supports OpenSSL 1.1.1+, currently the 'ssl' module is compiled with 'LibreSSL 2.8.3'. See: https://github.com/urllib3/urllib3/issues/3020\n",
      "  warnings.warn(\n"
     ]
    }
   ],
   "source": [
    "%load_ext autoreload\n",
    "%autoreload 2\n",
    "\n",
    "from pathlib import Path\n",
    "\n",
    "from benchmarks.robin_railway import RevenueMaximization\n",
    "from robin.services_generator.entities import ServiceGenerator\n",
    "from src.entities import GSA"
   ],
   "metadata": {
    "collapsed": false,
    "ExecuteTime": {
     "end_time": "2024-04-05T09:25:34.580660Z",
     "start_time": "2024-04-05T09:25:34.489559Z"
    }
   },
   "id": "c3cc59d5610d418",
   "execution_count": 1
  },
  {
   "cell_type": "code",
   "outputs": [],
   "source": [
    "supply_config_path = Path(\"../configs/generator/supply_config.yml\")\n",
    "\n",
    "r = ServiceGenerator(supply_config_path=supply_config_path)"
   ],
   "metadata": {
    "collapsed": false,
    "ExecuteTime": {
     "end_time": "2024-04-05T09:25:35.671299Z",
     "start_time": "2024-04-05T09:25:35.658736Z"
    }
   },
   "id": "adc5ee838b7bf0f5",
   "execution_count": 2
  },
  {
   "cell_type": "code",
   "outputs": [],
   "source": [
    "generator_config_path = Path(\"../configs/generator/generator_config.yml\")\n",
    "\n",
    "services = r.generate(file_name=Path(\"../data/supply_gen.yml\"),\n",
    "                      path_config=generator_config_path,\n",
    "                      n_services=5,\n",
    "                      seed=1)"
   ],
   "metadata": {
    "collapsed": false,
    "ExecuteTime": {
     "end_time": "2024-04-05T09:25:36.220863Z",
     "start_time": "2024-04-05T09:25:36.191117Z"
    }
   },
   "id": "86d785ee3a16c1bd",
   "execution_count": 3
  },
  {
   "cell_type": "code",
   "outputs": [
    {
     "name": "stdout",
     "output_type": "stream",
     "text": [
      "Service id: 03612_2024-06-25-20.48 \n",
      "\tDate of service: 2024-06-25 \n",
      "\tStops: ['60000', '71801'] \n",
      "\tLine times (relative): [(0.0, 0.0), (163.0, 163.0)] \n",
      "\tLine times (absolute): [('20:48', '20:48'), ('23:31', '23:31')] \n",
      "\tTrain Service Provider: [1, Renfe AVE, ['11', '12', '13']] \n",
      "\tTime Slot: [74880, 20:48:00, 20:58:00, 20:53:00, 0:10:00] \n",
      "\tRolling Stock: [12, AVE RS2, {1: 250, 2: 50}] \n",
      "\tPrices: \n",
      "\t\t('60000', '71801'): {Turista: '52.64', Turista Plus: '63.17', Premium: '84.22'} \n",
      "\tTickets sold (seats): {Premium: 0, Turista: 0, Turista Plus: 0} \n",
      "\tTickets sold (hard type): {1: 0, 2: 0} \n",
      "\tTickets sold per each pair (seats): {('60000', '71801'): {Premium: 0, Turista: 0, Turista Plus: 0}} \n",
      "\tTickets sold per each pair (hard type): {('60000', '71801'): {2: 0, 1: 0}} \n",
      "\tCapacity constraints: None \n"
     ]
    }
   ],
   "source": [
    "s = services[0]\n",
    "print(s)"
   ],
   "metadata": {
    "collapsed": false,
    "ExecuteTime": {
     "end_time": "2024-04-05T09:25:01.669535Z",
     "start_time": "2024-04-05T09:25:01.657723Z"
    }
   },
   "id": "f0da64ecf2f009e2",
   "execution_count": 4
  },
  {
   "cell_type": "code",
   "outputs": [
    {
     "data": {
      "text/plain": "[<robin.supply.entities.RollingStock at 0x1779d3730>,\n <robin.supply.entities.RollingStock at 0x1779d36a0>,\n <robin.supply.entities.RollingStock at 0x1779d3670>]"
     },
     "execution_count": 20,
     "metadata": {},
     "output_type": "execute_result"
    }
   ],
   "source": [
    "s.tsp.rolling_stock"
   ],
   "metadata": {
    "collapsed": false,
    "ExecuteTime": {
     "end_time": "2024-04-05T09:23:57.722978Z",
     "start_time": "2024-04-05T09:23:57.712204Z"
    }
   },
   "id": "772649000b8d3fa9",
   "execution_count": 20
  },
  {
   "cell_type": "code",
   "outputs": [],
   "source": [
    "supply_path = Path(\"../data/supply_gen.yml\")\n",
    "\n",
    "sm = RevenueMaximization(supply_path, safe_headway=10)"
   ],
   "metadata": {
    "collapsed": false,
    "ExecuteTime": {
     "end_time": "2024-04-05T09:25:42.517170Z",
     "start_time": "2024-04-05T09:25:42.494001Z"
    }
   },
   "id": "24b0c00cee112120",
   "execution_count": 4
  },
  {
   "cell_type": "code",
   "outputs": [],
   "source": [
    "gsa_algo = GSA(objective_function=sm.get_fitness_gsa,\n",
    "               is_feasible=sm.feasible_services_times,\n",
    "               custom_repair=sm.custom_repair,\n",
    "               r_dim=len(sm.boundaries.real),\n",
    "               d_dim=0,\n",
    "               boundaries=sm.boundaries)"
   ],
   "metadata": {
    "collapsed": false,
    "ExecuteTime": {
     "end_time": "2024-04-05T09:25:43.168858Z",
     "start_time": "2024-04-05T09:25:43.158409Z"
    }
   },
   "id": "bac4a98fae2b0f1a",
   "execution_count": 5
  },
  {
   "cell_type": "code",
   "outputs": [
    {
     "name": "stdout",
     "output_type": "stream",
     "text": [
      "GSA is optimizing  \"get_fitness_gsa\"\n",
      "Scheduled trains: 5\n",
      "Scheduled trains: 5\n",
      "Scheduled trains: 5\n",
      "Scheduled trains: 5\n",
      "Scheduled trains: 5\n",
      "['At iteration 1 the best fitness is 624.376168338508']\n",
      "['At iteration 2 the best fitness is 624.376168338508']\n",
      "Scheduled trains: 5\n",
      "['At iteration 3 the best fitness is 625.9142991765343']\n",
      "['At iteration 4 the best fitness is 625.9142991765343']\n",
      "Scheduled trains: 5\n",
      "['At iteration 5 the best fitness is 637.7985578443245']\n",
      "['At iteration 6 the best fitness is 637.7985578443245']\n",
      "Scheduled trains: 5\n",
      "['At iteration 7 the best fitness is 639.2431142482915']\n",
      "['At iteration 8 the best fitness is 639.2431142482915']\n",
      "Scheduled trains: 5\n",
      "Scheduled trains: 5\n",
      "Scheduled trains: 5\n",
      "['At iteration 9 the best fitness is 641.544273832819']\n",
      "['At iteration 10 the best fitness is 641.544273832819']\n",
      "Scheduled trains: 5\n",
      "Scheduled trains: 5\n",
      "['At iteration 11 the best fitness is 642.0391848695848']\n",
      "Scheduled trains: 5\n",
      "['At iteration 12 the best fitness is 642.8915943881917']\n",
      "['At iteration 13 the best fitness is 642.8915943881917']\n",
      "['At iteration 14 the best fitness is 642.8915943881917']\n",
      "Scheduled trains: 5\n",
      "Scheduled trains: 5\n",
      "['At iteration 15 the best fitness is 643.5']\n",
      "['At iteration 16 the best fitness is 643.5']\n",
      "['At iteration 17 the best fitness is 643.5']\n",
      "['At iteration 18 the best fitness is 643.5']\n",
      "['At iteration 19 the best fitness is 643.5']\n",
      "['At iteration 20 the best fitness is 643.5']\n",
      "['At iteration 21 the best fitness is 643.5']\n",
      "['At iteration 22 the best fitness is 643.5']\n",
      "['At iteration 23 the best fitness is 643.5']\n",
      "['At iteration 24 the best fitness is 643.5']\n",
      "['At iteration 25 the best fitness is 643.5']\n",
      "['At iteration 26 the best fitness is 643.5']\n",
      "['At iteration 27 the best fitness is 643.5']\n",
      "['At iteration 28 the best fitness is 643.5']\n",
      "['At iteration 29 the best fitness is 643.5']\n",
      "['At iteration 30 the best fitness is 643.5']\n",
      "['At iteration 31 the best fitness is 643.5']\n",
      "['At iteration 32 the best fitness is 643.5']\n",
      "['At iteration 33 the best fitness is 643.5']\n",
      "['At iteration 34 the best fitness is 643.5']\n",
      "['At iteration 35 the best fitness is 643.5']\n",
      "['At iteration 36 the best fitness is 643.5']\n",
      "['At iteration 37 the best fitness is 643.5']\n",
      "['At iteration 38 the best fitness is 643.5']\n",
      "['At iteration 39 the best fitness is 643.5']\n",
      "['At iteration 40 the best fitness is 643.5']\n",
      "['At iteration 41 the best fitness is 643.5']\n",
      "['At iteration 42 the best fitness is 643.5']\n",
      "['At iteration 43 the best fitness is 643.5']\n",
      "['At iteration 44 the best fitness is 643.5']\n",
      "['At iteration 45 the best fitness is 643.5']\n",
      "['At iteration 46 the best fitness is 643.5']\n",
      "['At iteration 47 the best fitness is 643.5']\n",
      "['At iteration 48 the best fitness is 643.5']\n",
      "['At iteration 49 the best fitness is 643.5']\n",
      "['At iteration 50 the best fitness is 643.5']\n",
      "['At iteration 51 the best fitness is 643.5']\n",
      "['At iteration 52 the best fitness is 643.5']\n",
      "['At iteration 53 the best fitness is 643.5']\n",
      "['At iteration 54 the best fitness is 643.5']\n",
      "['At iteration 55 the best fitness is 643.5']\n",
      "['At iteration 56 the best fitness is 643.5']\n",
      "['At iteration 57 the best fitness is 643.5']\n",
      "['At iteration 58 the best fitness is 643.5']\n",
      "['At iteration 59 the best fitness is 643.5']\n",
      "['At iteration 60 the best fitness is 643.5']\n",
      "['At iteration 61 the best fitness is 643.5']\n",
      "['At iteration 62 the best fitness is 643.5']\n",
      "['At iteration 63 the best fitness is 643.5']\n",
      "['At iteration 64 the best fitness is 643.5']\n",
      "['At iteration 65 the best fitness is 643.5']\n",
      "['At iteration 66 the best fitness is 643.5']\n",
      "['At iteration 67 the best fitness is 643.5']\n",
      "['At iteration 68 the best fitness is 643.5']\n",
      "['At iteration 69 the best fitness is 643.5']\n",
      "['At iteration 70 the best fitness is 643.5']\n",
      "['At iteration 71 the best fitness is 643.5']\n",
      "['At iteration 72 the best fitness is 643.5']\n",
      "['At iteration 73 the best fitness is 643.5']\n",
      "['At iteration 74 the best fitness is 643.5']\n",
      "['At iteration 75 the best fitness is 643.5']\n",
      "['At iteration 76 the best fitness is 643.5']\n",
      "['At iteration 77 the best fitness is 643.5']\n",
      "['At iteration 78 the best fitness is 643.5']\n",
      "['At iteration 79 the best fitness is 643.5']\n",
      "['At iteration 80 the best fitness is 643.5']\n",
      "['At iteration 81 the best fitness is 643.5']\n",
      "['At iteration 82 the best fitness is 643.5']\n",
      "['At iteration 83 the best fitness is 643.5']\n",
      "['At iteration 84 the best fitness is 643.5']\n",
      "['At iteration 85 the best fitness is 643.5']\n",
      "['At iteration 86 the best fitness is 643.5']\n",
      "['At iteration 87 the best fitness is 643.5']\n",
      "['At iteration 88 the best fitness is 643.5']\n",
      "['At iteration 89 the best fitness is 643.5']\n",
      "['At iteration 90 the best fitness is 643.5']\n",
      "['At iteration 91 the best fitness is 643.5']\n",
      "['At iteration 92 the best fitness is 643.5']\n",
      "['At iteration 93 the best fitness is 643.5']\n",
      "['At iteration 94 the best fitness is 643.5']\n",
      "['At iteration 95 the best fitness is 643.5']\n",
      "['At iteration 96 the best fitness is 643.5']\n",
      "['At iteration 97 the best fitness is 643.5']\n",
      "['At iteration 98 the best fitness is 643.5']\n",
      "['At iteration 99 the best fitness is 643.5']\n",
      "['At iteration 100 the best fitness is 643.5']\n",
      "<src.entities.Solution object at 0x1773bfa60>\n",
      "Elapsed time: 0.61 seconds\n"
     ]
    }
   ],
   "source": [
    "import cProfile as profile\n",
    "import time\n",
    "\n",
    "pr = profile.Profile()\n",
    "pr.disable()\n",
    "\n",
    "gsa_algo.set_seed(seed=15)\n",
    "\n",
    "pop_size = 20\n",
    "\n",
    "start = time.time()\n",
    "pr.enable()\n",
    "training_history = gsa_algo.optimize(population_size=pop_size,\n",
    "                                     iters=100,\n",
    "                                     chaotic_constant=False,\n",
    "                                     repair_solution=True,\n",
    "                                     initial_population=sm.get_initial_population(pop_size))\n",
    "pr.disable()\n",
    "print(f\"Elapsed time: {round(time.time() - start, 2)} seconds\")\n",
    "\n",
    "pr.dump_stats('profile.pstat')"
   ],
   "metadata": {
    "collapsed": false,
    "ExecuteTime": {
     "end_time": "2024-04-05T09:25:44.483712Z",
     "start_time": "2024-04-05T09:25:43.856472Z"
    }
   },
   "id": "827d315d63189f83",
   "execution_count": 6
  },
  {
   "cell_type": "code",
   "outputs": [
    {
     "data": {
      "text/plain": "(array([1248.,  821., 1224., 1177.,  960.]),\n array([ True,  True,  True,  True,  True]))"
     },
     "execution_count": 7,
     "metadata": {},
     "output_type": "execute_result"
    }
   ],
   "source": [
    "sm.best_solution.real, sm.best_solution.discrete"
   ],
   "metadata": {
    "collapsed": false,
    "ExecuteTime": {
     "end_time": "2024-04-05T09:25:47.295302Z",
     "start_time": "2024-04-05T09:25:47.277352Z"
    }
   },
   "id": "200a4582d8b840ec",
   "execution_count": 7
  },
  {
   "cell_type": "code",
   "outputs": [
    {
     "data": {
      "text/plain": "643.5"
     },
     "execution_count": 8,
     "metadata": {},
     "output_type": "execute_result"
    }
   ],
   "source": [
    "sm.get_revenue(sm.best_solution)"
   ],
   "metadata": {
    "collapsed": false,
    "ExecuteTime": {
     "end_time": "2024-04-05T09:25:49.055589Z",
     "start_time": "2024-04-05T09:25:49.040197Z"
    }
   },
   "id": "41a492d53aee1019",
   "execution_count": 8
  },
  {
   "cell_type": "code",
   "outputs": [
    {
     "data": {
      "text/plain": "True"
     },
     "execution_count": 9,
     "metadata": {},
     "output_type": "execute_result"
    }
   ],
   "source": [
    "sm.is_feasible(sm.best_solution, sm.best_solution.discrete)"
   ],
   "metadata": {
    "collapsed": false,
    "ExecuteTime": {
     "end_time": "2024-04-05T09:25:49.798287Z",
     "start_time": "2024-04-05T09:25:49.782213Z"
    }
   },
   "id": "311c2cb5b8ebc6ae",
   "execution_count": 9
  },
  {
   "cell_type": "code",
   "outputs": [
    {
     "data": {
      "text/plain": "<Figure size 1000x600 with 1 Axes>",
      "image/png": "[encoded data removed]"
     },
     "metadata": {},
     "output_type": "display_data"
    }
   ],
   "source": [
    "from matplotlib import pyplot as plt\n",
    "import seaborn as sns\n",
    "\n",
    "fig, ax = plt.subplots(figsize=(10, 6))\n",
    "\n",
    "ax.set_title(\"Fitness\", fontweight='bold')\n",
    "\n",
    "# ax.set_ylim(min(global_train_hist[\"Fitness\"]), max(global_train_hist[\"Fitness\"]))\n",
    "    \n",
    "sns.lineplot(ax=ax,\n",
    "             data=training_history,\n",
    "             x=\"Iteration\",\n",
    "             y=\"Fitness\",\n",
    "             legend=True)\n",
    "\n",
    "ax.grid(axis='y', color='#A9A9A9', alpha=0.3, zorder=1)\n",
    "\n",
    "ax.set_xlabel(\"Iter.\")\n",
    "ax.set_ylabel(\"Fitness\")\n",
    "\n",
    "plt.show()\n",
    "# fig.savefig(save_path, format='svg', dpi=300, bbox_inches='tight', transparent=True)"
   ],
   "metadata": {
    "collapsed": false,
    "ExecuteTime": {
     "end_time": "2024-04-05T09:25:51.687567Z",
     "start_time": "2024-04-05T09:25:51.525690Z"
    }
   },
   "id": "36aa34e314e58053",
   "execution_count": 10
  },
  {
   "cell_type": "code",
   "outputs": [
    {
     "name": "stdout",
     "output_type": "stream",
     "text": [
      "snakeviz web server started on 127.0.0.1:8080; enter Ctrl-C to exit\r\n",
      "http://127.0.0.1:8080/snakeviz/%2FUsers%2Fdavid%2FPycharmProjects%2FGSA_M%2Fnotebooks%2Fprofile.pstat\r\n",
      "^C\r\n",
      "\r\n",
      "Bye!\r\n"
     ]
    }
   ],
   "source": [
    "!snakeviz profile.pstat"
   ],
   "metadata": {
    "collapsed": false,
    "ExecuteTime": {
     "end_time": "2024-03-27T16:29:00.013415Z",
     "start_time": "2024-03-27T16:27:43.695145Z"
    }
   },
   "id": "eaf93c09b302023c",
   "execution_count": 56
  },
  {
   "cell_type": "code",
   "outputs": [
    {
     "data": {
      "text/plain": "643.5"
     },
     "execution_count": 11,
     "metadata": {},
     "output_type": "execute_result"
    }
   ],
   "source": [
    "sum([sm.revenue[service]['canon'] for service in sm.revenue])"
   ],
   "metadata": {
    "collapsed": false,
    "ExecuteTime": {
     "end_time": "2024-04-05T09:25:54.815533Z",
     "start_time": "2024-04-05T09:25:54.797948Z"
    }
   },
   "id": "aa6f4cb80af96241",
   "execution_count": 11
  },
  {
   "cell_type": "code",
   "outputs": [
    {
     "data": {
      "text/plain": "    Iteration     Fitness  Accuracy  ExecutionTime Discrete  \\\n0           0  624.376168         0       0.004970       []   \n1           1  624.376168         0       0.016452       []   \n2           2  625.914299         0       0.026526       []   \n3           3  625.914299         0       0.035476       []   \n4           4  637.798558         0       0.043605       []   \n..        ...         ...       ...            ...      ...   \n95         95  643.500000         0       0.587362       []   \n96         96  643.500000         0       0.592272       []   \n97         97  643.500000         0       0.596478       []   \n98         98  643.500000         0       0.600456       []   \n99         99  643.500000         0       0.604578       []   \n\n                                      Real  \n0             [1250, 819, 1222, 1174, 958]  \n1             [1250, 819, 1222, 1174, 958]  \n2   [1249.0, 818.0, 1229.0, 1178.0, 960.0]  \n3   [1249.0, 818.0, 1229.0, 1178.0, 960.0]  \n4   [1247.0, 820.0, 1224.0, 1176.0, 962.0]  \n..                                     ...  \n95  [1248.0, 821.0, 1224.0, 1177.0, 960.0]  \n96  [1248.0, 821.0, 1224.0, 1177.0, 960.0]  \n97  [1248.0, 821.0, 1224.0, 1177.0, 960.0]  \n98  [1248.0, 821.0, 1224.0, 1177.0, 960.0]  \n99  [1248.0, 821.0, 1224.0, 1177.0, 960.0]  \n\n[100 rows x 6 columns]",
      "text/html": "<div>\n<style scoped>\n    .dataframe tbody tr th:only-of-type {\n        vertical-align: middle;\n    }\n\n    .dataframe tbody tr th {\n        vertical-align: top;\n    }\n\n    .dataframe thead th {\n        text-align: right;\n    }\n</style>\n<table border=\"1\" class=\"dataframe\">\n  <thead>\n    <tr style=\"text-align: right;\">\n      <th></th>\n      <th>Iteration</th>\n      <th>Fitness</th>\n      <th>Accuracy</th>\n      <th>ExecutionTime</th>\n      <th>Discrete</th>\n      <th>Real</th>\n    </tr>\n  </thead>\n  <tbody>\n    <tr>\n      <th>0</th>\n      <td>0</td>\n      <td>624.376168</td>\n      <td>0</td>\n      <td>0.004970</td>\n      <td>[]</td>\n      <td>[1250, 819, 1222, 1174, 958]</td>\n    </tr>\n    <tr>\n      <th>1</th>\n      <td>1</td>\n      <td>624.376168</td>\n      <td>0</td>\n      <td>0.016452</td>\n      <td>[]</td>\n      <td>[1250, 819, 1222, 1174, 958]</td>\n    </tr>\n    <tr>\n      <th>2</th>\n      <td>2</td>\n      <td>625.914299</td>\n      <td>0</td>\n      <td>0.026526</td>\n      <td>[]</td>\n      <td>[1249.0, 818.0, 1229.0, 1178.0, 960.0]</td>\n    </tr>\n    <tr>\n      <th>3</th>\n      <td>3</td>\n      <td>625.914299</td>\n      <td>0</td>\n      <td>0.035476</td>\n      <td>[]</td>\n      <td>[1249.0, 818.0, 1229.0, 1178.0, 960.0]</td>\n    </tr>\n    <tr>\n      <th>4</th>\n      <td>4</td>\n      <td>637.798558</td>\n      <td>0</td>\n      <td>0.043605</td>\n      <td>[]</td>\n      <td>[1247.0, 820.0, 1224.0, 1176.0, 962.0]</td>\n    </tr>\n    <tr>\n      <th>...</th>\n      <td>...</td>\n      <td>...</td>\n      <td>...</td>\n      <td>...</td>\n      <td>...</td>\n      <td>...</td>\n    </tr>\n    <tr>\n      <th>95</th>\n      <td>95</td>\n      <td>643.500000</td>\n      <td>0</td>\n      <td>0.587362</td>\n      <td>[]</td>\n      <td>[1248.0, 821.0, 1224.0, 1177.0, 960.0]</td>\n    </tr>\n    <tr>\n      <th>96</th>\n      <td>96</td>\n      <td>643.500000</td>\n      <td>0</td>\n      <td>0.592272</td>\n      <td>[]</td>\n      <td>[1248.0, 821.0, 1224.0, 1177.0, 960.0]</td>\n    </tr>\n    <tr>\n      <th>97</th>\n      <td>97</td>\n      <td>643.500000</td>\n      <td>0</td>\n      <td>0.596478</td>\n      <td>[]</td>\n      <td>[1248.0, 821.0, 1224.0, 1177.0, 960.0]</td>\n    </tr>\n    <tr>\n      <th>98</th>\n      <td>98</td>\n      <td>643.500000</td>\n      <td>0</td>\n      <td>0.600456</td>\n      <td>[]</td>\n      <td>[1248.0, 821.0, 1224.0, 1177.0, 960.0]</td>\n    </tr>\n    <tr>\n      <th>99</th>\n      <td>99</td>\n      <td>643.500000</td>\n      <td>0</td>\n      <td>0.604578</td>\n      <td>[]</td>\n      <td>[1248.0, 821.0, 1224.0, 1177.0, 960.0]</td>\n    </tr>\n  </tbody>\n</table>\n<p>100 rows × 6 columns</p>\n</div>"
     },
     "execution_count": 12,
     "metadata": {},
     "output_type": "execute_result"
    }
   ],
   "source": [
    "training_history"
   ],
   "metadata": {
    "collapsed": false,
    "ExecuteTime": {
     "end_time": "2024-04-05T09:25:55.404143Z",
     "start_time": "2024-04-05T09:25:55.383125Z"
    }
   },
   "id": "215937b03b2d6167",
   "execution_count": 12
  },
  {
   "cell_type": "code",
   "outputs": [],
   "source": [
    "from robin.scraping.entities import SupplySaver\n",
    "\n",
    "SupplySaver(services).to_yaml(filename='supply.yml', save_path='../configs/gsa_results/')"
   ],
   "metadata": {
    "collapsed": false,
    "ExecuteTime": {
     "end_time": "2024-04-05T09:26:18.125561Z",
     "start_time": "2024-04-05T09:26:18.015286Z"
    }
   },
   "id": "2128a05ebe85a9de",
   "execution_count": 13
  },
  {
   "cell_type": "code",
   "outputs": [],
   "source": [
    "from robin.kernel.entities import Kernel\n",
    "\n",
    "path_config_supply = '../configs/gsa_results/supply.yml'\n",
    "path_config_demand = '../configs/demand/demand.yml'\n",
    "path_output_csv = '../data/output/robin/output.csv'\n",
    "\n",
    "seed = 0\n",
    "\n",
    "kernel = Kernel(path_config_supply, path_config_demand, seed)\n",
    "services = kernel.simulate(output_path=path_output_csv, departure_time_hard_restriction=True)"
   ],
   "metadata": {
    "collapsed": false,
    "ExecuteTime": {
     "end_time": "2024-04-05T09:27:00.395527Z",
     "start_time": "2024-04-05T09:26:59.706120Z"
    }
   },
   "id": "e991f1a00a9b187c",
   "execution_count": 15
  },
  {
   "cell_type": "code",
   "outputs": [],
   "source": [],
   "metadata": {
    "collapsed": false
   },
   "id": "c7c8a5dbe080a5c9"
  }
 ],
 "metadata": {
  "kernelspec": {
   "display_name": "Python 3 (ipykernel)",
   "language": "python",
   "name": "python3"
  },
  "language_info": {
   "codemirror_mode": {
    "name": "ipython",
    "version": 3
   },
   "file_extension": ".py",
   "mimetype": "text/x-python",
   "name": "python",
   "nbconvert_exporter": "python",
   "pygments_lexer": "ipython3",
   "version": "3.9.6"
  }
 },
 "nbformat": 4,
 "nbformat_minor": 5
}
