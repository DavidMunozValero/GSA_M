{
 "cells": [
  {
   "cell_type": "code",
   "execution_count": 1,
   "id": "initial_id",
   "metadata": {
    "collapsed": true,
    "ExecuteTime": {
     "end_time": "2024-02-06T10:26:02.340819Z",
     "start_time": "2024-02-06T10:25:59.491086Z"
    }
   },
   "outputs": [
    {
     "name": "stderr",
     "output_type": "stream",
     "text": [
      "/var/folders/dc/fy76phnd5ljbdtj9v4jgnyjh0000gp/T/ipykernel_20046/1915490065.py:1: DeprecationWarning: \n",
      "Pyarrow will become a required dependency of pandas in the next major release of pandas (pandas 3.0),\n",
      "(to allow more performant data types, such as the Arrow string type, and better interoperability with other libraries)\n",
      "but was not found to be installed on your system.\n",
      "If this would cause problems for you,\n",
      "please provide us feedback at https://github.com/pandas-dev/pandas/issues/54466\n",
      "        \n",
      "  import pandas as pd\n"
     ]
    }
   ],
   "source": [
    "import pandas as pd"
   ]
  },
  {
   "cell_type": "markdown",
   "source": [],
   "metadata": {
    "collapsed": false
   },
   "id": "37c2ffa3421ec86b"
  },
  {
   "cell_type": "code",
   "execution_count": 3,
   "outputs": [],
   "source": [
    "output_file = \"../data/output/experiment2024-02-06-11-24-28.csv\"\n",
    "\n",
    "data = pd.read_csv(output_file)"
   ],
   "metadata": {
    "collapsed": false,
    "ExecuteTime": {
     "end_time": "2024-02-06T10:27:16.557262Z",
     "start_time": "2024-02-06T10:27:16.549735Z"
    }
   },
   "id": "f4d274d3656307ca"
  },
  {
   "cell_type": "code",
   "execution_count": 4,
   "outputs": [
    {
     "data": {
      "text/plain": "  Optimizer objfname            startTime              EndTime  ExecutionTime  \\\n0       GSA       F1  2024-02-06-11-24-28  2024-02-06-11-24-29        0.54548   \n\n         Iter1         Iter2        Iter3        Iter4       Iter5  ...  \\\n0  21634.17186  13724.250576  5564.349644  1210.276746  439.623279  ...   \n\n       Iter91      Iter92      Iter93      Iter94      Iter95      Iter96  \\\n0  317.524882  317.524882  317.524882  317.524882  317.524882  317.524882   \n\n       Iter97      Iter98      Iter99     Iter100  \n0  317.524882  317.524882  317.524882  317.524882  \n\n[1 rows x 105 columns]",
      "text/html": "<div>\n<style scoped>\n    .dataframe tbody tr th:only-of-type {\n        vertical-align: middle;\n    }\n\n    .dataframe tbody tr th {\n        vertical-align: top;\n    }\n\n    .dataframe thead th {\n        text-align: right;\n    }\n</style>\n<table border=\"1\" class=\"dataframe\">\n  <thead>\n    <tr style=\"text-align: right;\">\n      <th></th>\n      <th>Optimizer</th>\n      <th>objfname</th>\n      <th>startTime</th>\n      <th>EndTime</th>\n      <th>ExecutionTime</th>\n      <th>Iter1</th>\n      <th>Iter2</th>\n      <th>Iter3</th>\n      <th>Iter4</th>\n      <th>Iter5</th>\n      <th>...</th>\n      <th>Iter91</th>\n      <th>Iter92</th>\n      <th>Iter93</th>\n      <th>Iter94</th>\n      <th>Iter95</th>\n      <th>Iter96</th>\n      <th>Iter97</th>\n      <th>Iter98</th>\n      <th>Iter99</th>\n      <th>Iter100</th>\n    </tr>\n  </thead>\n  <tbody>\n    <tr>\n      <th>0</th>\n      <td>GSA</td>\n      <td>F1</td>\n      <td>2024-02-06-11-24-28</td>\n      <td>2024-02-06-11-24-29</td>\n      <td>0.54548</td>\n      <td>21634.17186</td>\n      <td>13724.250576</td>\n      <td>5564.349644</td>\n      <td>1210.276746</td>\n      <td>439.623279</td>\n      <td>...</td>\n      <td>317.524882</td>\n      <td>317.524882</td>\n      <td>317.524882</td>\n      <td>317.524882</td>\n      <td>317.524882</td>\n      <td>317.524882</td>\n      <td>317.524882</td>\n      <td>317.524882</td>\n      <td>317.524882</td>\n      <td>317.524882</td>\n    </tr>\n  </tbody>\n</table>\n<p>1 rows × 105 columns</p>\n</div>"
     },
     "execution_count": 4,
     "metadata": {},
     "output_type": "execute_result"
    }
   ],
   "source": [
    "data"
   ],
   "metadata": {
    "collapsed": false,
    "ExecuteTime": {
     "end_time": "2024-02-06T10:27:19.018070Z",
     "start_time": "2024-02-06T10:27:18.999552Z"
    }
   },
   "id": "f6805c46eab901c4"
  },
  {
   "cell_type": "code",
   "execution_count": null,
   "outputs": [],
   "source": [],
   "metadata": {
    "collapsed": false
   },
   "id": "9ab768c390336d7e"
  }
 ],
 "metadata": {
  "kernelspec": {
   "display_name": "Python 3",
   "language": "python",
   "name": "python3"
  },
  "language_info": {
   "codemirror_mode": {
    "name": "ipython",
    "version": 2
   },
   "file_extension": ".py",
   "mimetype": "text/x-python",
   "name": "python",
   "nbconvert_exporter": "python",
   "pygments_lexer": "ipython2",
   "version": "2.7.6"
  }
 },
 "nbformat": 4,
 "nbformat_minor": 5
}
