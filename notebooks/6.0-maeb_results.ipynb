{
 "cells": [
  {
   "cell_type": "code",
   "outputs": [],
   "source": [
    "%load_ext autoreload\n",
    "%autoreload 2\n",
    "\n",
    "import ipywidgets as widgets\n",
    "import numpy as np\n",
    "import os\n",
    "import pandas as pd\n",
    "import seaborn as sns\n",
    "\n",
    "from benchmarks import gsa_svm_fitness\n",
    "from src.entities import GSA\n",
    "\n",
    "from IPython.display import display\n",
    "from matplotlib import pyplot as plt\n",
    "from scipy import stats as st\n",
    "from sklearn.metrics import accuracy_score, confusion_matrix\n",
    "from sklearn.model_selection import train_test_split\n",
    "from sklearn.preprocessing import LabelEncoder, StandardScaler\n",
    "from sklearn.svm import SVC\n",
    "from typing import Mapping, Tuple, Union\n",
    "from ucimlrepo import fetch_ucirepo"
   ],
   "metadata": {
    "collapsed": false,
    "ExecuteTime": {
     "end_time": "2024-03-05T15:57:12.676662Z",
     "start_time": "2024-03-05T15:57:12.528118Z"
    }
   },
   "id": "c3cc59d5610d418",
   "execution_count": 1
  },
  {
   "cell_type": "code",
   "outputs": [
    {
     "data": {
      "text/plain": "Dropdown(description='Dataset: ', options=('Breast Cancer Wisconsin (Diagnostic)', 'Spambase', 'Mushroom'), va…",
      "application/vnd.jupyter.widget-view+json": {
       "version_major": 2,
       "version_minor": 0,
       "model_id": "51f141eeabb740b8af0d2231eea6b0b7"
      }
     },
     "metadata": {},
     "output_type": "display_data"
    }
   ],
   "source": [
    "uci_datasets = [\"Breast Cancer Wisconsin (Original)\",\n",
    "                \"Spambase\",\n",
    "                \"Mushroom\"]\n",
    "\n",
    "widget_opt = widgets.Dropdown(options=uci_datasets,\n",
    "                              description='Dataset: ')\n",
    "\n",
    "display(widget_opt)"
   ],
   "metadata": {
    "collapsed": false,
    "ExecuteTime": {
     "end_time": "2024-03-05T16:08:38.550504Z",
     "start_time": "2024-03-05T16:08:38.522201Z"
    }
   },
   "id": "e8e7510efbb71f63",
   "execution_count": 18
  },
  {
   "cell_type": "code",
   "outputs": [
    {
     "name": "stdout",
     "output_type": "stream",
     "text": [
      "Dataset: Spambase\n",
      "Instances: 4601\n",
      "Features: 57\n"
     ]
    }
   ],
   "source": [
    "def fetch_uci_dataset(dataset_name: str) -> Tuple[pd.DataFrame, pd.Series]:\n",
    "    \"\"\"\n",
    "    Fetch UCI dataset\n",
    "    \"\"\"\n",
    "    def fetch_categorical_dataset(_id: int) -> Tuple[pd.DataFrame, pd.Series]:\n",
    "        data = fetch_ucirepo(id=_id)\n",
    "        X = data.data.features\n",
    "        y = data.data.targets\n",
    "        encoder = LabelEncoder()\n",
    "        for col in X.columns:\n",
    "            X.loc[:, col] = encoder.fit_transform(X[col])\n",
    "        return X, y\n",
    "\n",
    "    if dataset_name == \"Breast Cancer Wisconsin (Original)\":\n",
    "        data = fetch_ucirepo(id=15)\n",
    "        X = data.data.features\n",
    "        y = data.data.targets\n",
    "        X = X.fillna(value=0)\n",
    "    elif dataset_name == \"Spambase\":\n",
    "        X, y = fetch_categorical_dataset(_id=94)\n",
    "    elif dataset_name == \"Mushroom\":\n",
    "        X, y = fetch_categorical_dataset(_id=73)\n",
    "    \n",
    "    return X, y\n",
    "\n",
    "X, y = fetch_uci_dataset(widget_opt.value)\n",
    "\n",
    "# Name of selected dataset and summary (number of instances, features, etc.)\n",
    "print(f\"Dataset: {widget_opt.value}\")\n",
    "print(f\"Instances: {X.shape[0]}\")\n",
    "print(f\"Features: {X.shape[1]}\")"
   ],
   "metadata": {
    "collapsed": false,
    "ExecuteTime": {
     "end_time": "2024-03-05T16:08:47.654902Z",
     "start_time": "2024-03-05T16:08:44.014938Z"
    }
   },
   "id": "437c2c37bb7e8030",
   "execution_count": 19
  },
  {
   "cell_type": "code",
   "outputs": [
    {
     "data": {
      "text/plain": "Class\n0        2788\n1        1813\nName: count, dtype: int64"
     },
     "execution_count": 20,
     "metadata": {},
     "output_type": "execute_result"
    }
   ],
   "source": [
    "y.value_counts()"
   ],
   "metadata": {
    "collapsed": false,
    "ExecuteTime": {
     "end_time": "2024-03-05T16:08:49.100002Z",
     "start_time": "2024-03-05T16:08:49.080636Z"
    }
   },
   "id": "190c9c3f9e07f84e",
   "execution_count": 20
  },
  {
   "cell_type": "code",
   "outputs": [],
   "source": [
    "# WARNING!! GLOBAL VARIABLES\n",
    "wa = 0.0\n",
    "wf = 0.0\n",
    "\n",
    "# IMPORTANT!! MUTABLE GLOBAL VARIABLE\n",
    "conf_matrix_dict = {\"TP\": 0, \"FP\": 0, \"TN\": 0, \"FN\": 0}\n",
    "\n",
    "class UCI:\n",
    "    \"\"\"\n",
    "    Class to handle UCI datasets\n",
    "    \n",
    "    Args:\n",
    "        X (pd.DataFrame): Features\n",
    "        y (pd.Series): Target\n",
    "    \"\"\"\n",
    "    def __init__(self,\n",
    "                 X: pd.DataFrame,\n",
    "                 y: pd.Series,\n",
    "                 boundaries: Mapping[str, Tuple[Tuple[float, float], ...]],\n",
    "                 seed: int=5\n",
    "                 ) -> None:\n",
    "        \"\"\"\n",
    "        Constructor\n",
    "        \n",
    "        Args:\n",
    "            X (pd.DataFrame): Features\n",
    "            y (pd.Series): Target\n",
    "            boundaries (Mapping[str, Tuple[Tuple[float, float], ...]): Boundaries for the optimization problem\n",
    "            seed (int, optional): Random seed. Defaults to 5.\n",
    "        \"\"\"\n",
    "        self.X = X\n",
    "        self.y = y\n",
    "        self.boundaries = boundaries\n",
    "\n",
    "        scaler = StandardScaler()\n",
    "        X_scaled = scaler.fit_transform(self.X)\n",
    "        \n",
    "        X_train, X_test, y_train, y_test = train_test_split(X_scaled, y, test_size = 0.2)\n",
    "        self.X_train = X_train\n",
    "        self.X_test = X_test\n",
    "        self.y_train = y_train\n",
    "        self.y_test = y_test\n",
    "\n",
    "    \n",
    "    def get_fitness(self,\n",
    "                    solution: Mapping[str, np.ndarray],\n",
    "                    data: Union[None, Tuple[np.ndarray, np.ndarray]] = None,\n",
    "                    show_confusion_matrix: bool=False\n",
    "                    ) -> Tuple[float, float]:\n",
    "        \"\"\"\n",
    "        Get fitness of a solution\n",
    "        \n",
    "        Args:\n",
    "            solution (Mapping[str, np.ndarray]): Solution to evaluate\n",
    "            data (Union[None, Tuple[np.ndarray, np.ndarray]], optional): Data to evaluate the solution. Defaults to None.\n",
    "        \n",
    "        Returns:\n",
    "            Tuple[float, float]: Fitness and accuracy of the solution    \n",
    "        \"\"\"\n",
    "        if data is None:\n",
    "            X_scaled = self.X_train\n",
    "            y_data = self.y_train\n",
    "        else:\n",
    "            X_scaled, y_data = data\n",
    "            \n",
    "        gamma, C = solution['real']\n",
    "        gamma /= 1_000\n",
    "        C /= 1_000\n",
    "        X_scaled_filtered = X_scaled[:, solution['discrete'].astype(int) == 1]\n",
    "        svc_model = SVC(gamma=gamma, C=C, kernel=\"rbf\", verbose=False)\n",
    "        svc_model.fit(X_scaled_filtered, np.ravel(y_data))\n",
    "        y_predict = svc_model.predict(X_scaled_filtered)\n",
    "        conf_matrix = confusion_matrix(y_data, y_predict)\n",
    "        if show_confusion_matrix:\n",
    "            # Update global conf_matrix_dict\n",
    "            conf_matrix_dict[\"TP\"] = conf_matrix[0, 0]\n",
    "            conf_matrix_dict[\"FP\"] = conf_matrix[0, 1]\n",
    "            conf_matrix_dict[\"TN\"] = conf_matrix[1, 1]\n",
    "            conf_matrix_dict[\"FN\"] = conf_matrix[1, 0]\n",
    "            print(conf_matrix)\n",
    "        accuracy = accuracy_score(y_data, y_predict) * 100\n",
    "        \n",
    "        return gsa_svm_fitness(accuracy=accuracy, solution=solution, wa=wa, wf=wf)\n",
    "\n",
    "    def is_feasible(self, solution: Mapping[str, np.ndarray]) -> bool:\n",
    "        \"\"\"\n",
    "        Check if a solution is feasible\n",
    "\n",
    "        Args:\n",
    "            solution (Mapping[str, np.ndarray]): Solution to evaluate\n",
    "\n",
    "        Returns:\n",
    "            bool: True if the solution is feasible, False otherwise\n",
    "        \"\"\"\n",
    "        real_values = solution['real']\n",
    "        discrete_values = solution['discrete']\n",
    "\n",
    "        for i, (min_val, max_val) in enumerate(self.boundaries['real']):\n",
    "            if real_values[i] < min_val or real_values[i] > max_val:\n",
    "                return False\n",
    "\n",
    "        for i, (min_val, max_val) in enumerate(self.boundaries['discrete']):\n",
    "            if discrete_values[i] < min_val or discrete_values[i] > max_val:\n",
    "                return False\n",
    "        \n",
    "        if sum(discrete_values) == 0:\n",
    "            return False\n",
    "        \n",
    "        return True\n",
    "\n",
    "boundaries = {'real': [(1, 100_000), (1, 100_000)], 'discrete': [(0, 1) for _ in range(len(X.columns))]}\n",
    "uci_data = UCI(X, y, boundaries)"
   ],
   "metadata": {
    "collapsed": false,
    "ExecuteTime": {
     "end_time": "2024-03-05T16:08:49.764823Z",
     "start_time": "2024-03-05T16:08:49.745373Z"
    }
   },
   "id": "451c125b08f5a3f8",
   "execution_count": 21
  },
  {
   "cell_type": "code",
   "outputs": [],
   "source": [
    "from random import randint, seed \n",
    "\n",
    "def run_gsa(chaotic_constant: bool=False,\n",
    "            repair_solution: bool=False,\n",
    "            runs: int=10,\n",
    "            population_size: int=5,\n",
    "            iterations: int=20\n",
    "            ) -> Tuple[pd.DataFrame, pd.DataFrame]:\n",
    "    \n",
    "    global_train_hist = pd.DataFrame()\n",
    "    global_test_hist = pd.DataFrame(columns=[\"run\", \"accuracy\", \"fitness\", \"TP\", \"FP\", \"TN\", \"FN\"])\n",
    "    \n",
    "    for k in range(runs):\n",
    "        gsa_seed = randint(0, 1000)\n",
    "        uci_data = UCI(X, y, boundaries)\n",
    "        \n",
    "        gsa_algo = GSA(objective_function = uci_data.get_fitness,\n",
    "                       is_feasible=uci_data.is_feasible,\n",
    "                       r_dim=2,\n",
    "                       d_dim=len(X.columns),\n",
    "                       boundaries=uci_data.boundaries)\n",
    "        \n",
    "        gsa_algo.set_seed(seed=gsa_seed)\n",
    "        training_history = gsa_algo.optimize(population_size=population_size,\n",
    "                                             iters=iterations,\n",
    "                                             chaotic_constant=chaotic_constant,\n",
    "                                             repair_solution=repair_solution)\n",
    "        \n",
    "        training_history.insert(0, \"run\", k)\n",
    "        global_train_hist = pd.concat([global_train_hist, training_history], axis=0)\n",
    "        \n",
    "        print(gsa_algo.solution_history[-1])\n",
    "        fitness, accuracy = uci_data.get_fitness(solution=gsa_algo.solution_history[-1],\n",
    "                                            data=(uci_data.X_test, uci_data.y_test),\n",
    "                                            show_confusion_matrix=True)\n",
    "        \n",
    "        global_test_hist.loc[len(global_test_hist)] = [k, accuracy, fitness, conf_matrix_dict[\"TP\"], conf_matrix_dict[\"FP\"], conf_matrix_dict[\"TN\"], conf_matrix_dict[\"FN\"]]\n",
    "        \n",
    "        print(\"Test accuracy: \", accuracy, \" - Fitness: \", fitness)\n",
    "    \n",
    "    return global_train_hist, global_test_hist"
   ],
   "metadata": {
    "collapsed": false,
    "ExecuteTime": {
     "end_time": "2024-03-05T16:08:50.410526Z",
     "start_time": "2024-03-05T16:08:50.391340Z"
    }
   },
   "id": "f054a60e488b2e4",
   "execution_count": 22
  },
  {
   "cell_type": "code",
   "outputs": [
    {
     "name": "stdout",
     "output_type": "stream",
     "text": [
      "GSA is optimizing  \"get_fitness\"\n",
      "['At iteration 1 the best fitness is 89.56025934401221']\n",
      "['At iteration 2 the best fitness is 91.56025934401221']\n",
      "['At iteration 3 the best fitness is 91.56025934401221']\n",
      "['At iteration 4 the best fitness is 91.56025934401221']\n",
      "['At iteration 5 the best fitness is 91.56025934401221']\n",
      "['At iteration 6 the best fitness is 91.56025934401221']\n",
      "['At iteration 7 the best fitness is 91.56025934401221']\n",
      "['At iteration 8 the best fitness is 91.56025934401221']\n",
      "['At iteration 9 the best fitness is 91.56025934401221']\n",
      "['At iteration 10 the best fitness is 91.56025934401221']\n",
      "['At iteration 11 the best fitness is 91.56025934401221']\n",
      "['At iteration 12 the best fitness is 91.56025934401221']\n",
      "['At iteration 13 the best fitness is 91.56025934401221']\n",
      "['At iteration 14 the best fitness is 91.63157894736842']\n",
      "['At iteration 15 the best fitness is 92.24332570556827']\n",
      "['At iteration 16 the best fitness is 92.24332570556827']\n",
      "['At iteration 17 the best fitness is 92.24332570556827']\n",
      "['At iteration 18 the best fitness is 92.24332570556827']\n",
      "['At iteration 19 the best fitness is 92.24332570556827']\n",
      "['At iteration 20 the best fitness is 92.24332570556827']\n",
      "{'real': array([41203.97111788, 92630.71702845]), 'discrete': array([1, 0, 1, 1, 0, 1, 1, 0, 0, 1, 0, 1, 1, 1, 1, 0, 0, 0, 0, 0, 0, 0,\n",
      "       0, 0, 0, 0, 0, 1, 1, 1, 1, 0, 1, 0, 1, 0, 1, 0, 0, 0, 1, 0, 1, 1,\n",
      "       1, 1, 0, 0, 1, 0, 0, 1, 0, 1, 0, 1, 1])}\n",
      "[[566   0]\n",
      " [  5 350]]\n",
      "Test accuracy:  99.45711183496199  - Fitness:  90.09200525744329\n",
      "GSA is optimizing  \"get_fitness\"\n",
      "['At iteration 1 the best fitness is 90.50762776506484']\n",
      "['At iteration 2 the best fitness is 92.56941266209']\n",
      "['At iteration 3 the best fitness is 92.56941266209']\n",
      "['At iteration 4 the best fitness is 92.56941266209']\n",
      "['At iteration 5 the best fitness is 92.56941266209']\n",
      "['At iteration 6 the best fitness is 92.56941266209']\n",
      "['At iteration 7 the best fitness is 92.56941266209']\n",
      "['At iteration 8 the best fitness is 92.56941266209']\n",
      "['At iteration 9 the best fitness is 92.56941266209']\n",
      "['At iteration 10 the best fitness is 92.56941266209']\n",
      "['At iteration 11 the best fitness is 92.56941266209']\n",
      "['At iteration 12 the best fitness is 92.56941266209']\n",
      "['At iteration 13 the best fitness is 92.56941266209']\n",
      "['At iteration 14 the best fitness is 92.56941266209']\n",
      "['At iteration 15 the best fitness is 92.56941266209']\n",
      "['At iteration 16 the best fitness is 93.33638443935928']\n",
      "['At iteration 17 the best fitness is 93.33638443935928']\n",
      "['At iteration 18 the best fitness is 93.33638443935928']\n",
      "['At iteration 19 the best fitness is 93.64378337147217']\n",
      "['At iteration 20 the best fitness is 93.64378337147217']\n",
      "{'real': array([94293.40169347, 38636.26431592]), 'discrete': array([0, 1, 1, 1, 0, 0, 0, 0, 0, 1, 0, 1, 0, 0, 0, 0, 1, 0, 1, 1, 0, 1,\n",
      "       0, 1, 0, 1, 0, 0, 1, 0, 0, 1, 1, 1, 0, 1, 0, 1, 0, 1, 0, 0, 0, 0,\n",
      "       1, 0, 0, 0, 0, 0, 0, 0, 1, 0, 1, 0, 1])}\n",
      "[[569   0]\n",
      " [  2 350]]\n",
      "Test accuracy:  99.7828447339848  - Fitness:  92.10697754157383\n",
      "GSA is optimizing  \"get_fitness\"\n",
      "['At iteration 1 the best fitness is 89.76849733028223']\n",
      "['At iteration 2 the best fitness is 91.25286041189932']\n",
      "['At iteration 3 the best fitness is 91.25286041189932']\n",
      "['At iteration 4 the best fitness is 91.25286041189932']\n",
      "['At iteration 5 the best fitness is 91.25286041189932']\n",
      "['At iteration 6 the best fitness is 91.25286041189932']\n",
      "['At iteration 7 the best fitness is 91.25286041189932']\n",
      "['At iteration 8 the best fitness is 91.25286041189932']\n",
      "['At iteration 9 the best fitness is 91.25286041189932']\n",
      "['At iteration 10 the best fitness is 91.25286041189932']\n",
      "['At iteration 11 the best fitness is 91.25286041189932']\n",
      "['At iteration 12 the best fitness is 91.25286041189932']\n",
      "['At iteration 13 the best fitness is 91.25286041189932']\n",
      "['At iteration 14 the best fitness is 91.25286041189932']\n",
      "['At iteration 15 the best fitness is 91.25286041189932']\n",
      "['At iteration 16 the best fitness is 91.25286041189932']\n",
      "['At iteration 17 the best fitness is 91.25286041189932']\n",
      "['At iteration 18 the best fitness is 91.64721586575133']\n",
      "['At iteration 19 the best fitness is 91.64721586575133']\n",
      "['At iteration 20 the best fitness is 91.84591914569032']\n",
      "{'real': array([23243.58444297, 30338.69671641]), 'discrete': array([1, 0, 0, 0, 1, 1, 1, 0, 0, 0, 0, 1, 1, 0, 0, 0, 0, 0, 1, 0, 1, 1,\n",
      "       0, 1, 0, 0, 0, 0, 0, 0, 1, 0, 0, 0, 0, 0, 1, 1, 1, 0, 1, 0, 1, 0,\n",
      "       0, 0, 1, 0, 0, 1, 1, 0, 0, 0, 1, 1, 0])}\n",
      "[[542   0]\n",
      " [  4 375]]\n",
      "Test accuracy:  99.5656894679696  - Fitness:  92.28413052174412\n",
      "GSA is optimizing  \"get_fitness\"\n",
      "['At iteration 1 the best fitness is 90.15675057208239']\n",
      "['At iteration 2 the best fitness is 91.56025934401221']\n",
      "['At iteration 3 the best fitness is 91.56025934401221']\n",
      "['At iteration 4 the best fitness is 91.56025934401221']\n",
      "['At iteration 5 the best fitness is 91.56025934401221']\n",
      "['At iteration 6 the best fitness is 91.56025934401221']\n",
      "['At iteration 7 the best fitness is 91.56025934401221']\n",
      "['At iteration 8 the best fitness is 91.56025934401221']\n",
      "['At iteration 9 the best fitness is 91.56025934401221']\n",
      "['At iteration 10 the best fitness is 91.56025934401221']\n",
      "['At iteration 11 the best fitness is 91.56025934401221']\n",
      "['At iteration 12 the best fitness is 91.56025934401221']\n",
      "['At iteration 13 the best fitness is 91.56025934401221']\n",
      "['At iteration 14 the best fitness is 91.60373760488177']\n",
      "['At iteration 15 the best fitness is 91.60373760488177']\n",
      "['At iteration 16 the best fitness is 91.60373760488177']\n",
      "['At iteration 17 the best fitness is 91.60373760488177']\n",
      "['At iteration 18 the best fitness is 91.60373760488177']\n",
      "['At iteration 19 the best fitness is 91.60373760488177']\n",
      "['At iteration 20 the best fitness is 91.60373760488177']\n",
      "{'real': array([21990.83350917, 72069.76003154]), 'discrete': array([0, 0, 0, 0, 1, 0, 1, 0, 0, 0, 0, 1, 0, 1, 0, 0, 0, 0, 1, 0, 0, 1,\n",
      "       0, 1, 0, 0, 1, 0, 0, 1, 1, 0, 1, 0, 0, 1, 0, 1, 1, 0, 1, 1, 1, 1,\n",
      "       0, 0, 1, 0, 1, 1, 1, 1, 0, 1, 0, 1, 1])}\n",
      "[[554   0]\n",
      " [  3 364]]\n",
      "Test accuracy:  99.6742671009772  - Fitness:  90.6166066632379\n",
      "GSA is optimizing  \"get_fitness\"\n",
      "['At iteration 1 the best fitness is 90.9672006102212']\n",
      "['At iteration 2 the best fitness is 92.24332570556827']\n",
      "['At iteration 3 the best fitness is 92.24332570556827']\n",
      "['At iteration 4 the best fitness is 92.24332570556827']\n",
      "['At iteration 5 the best fitness is 92.24332570556827']\n",
      "['At iteration 6 the best fitness is 92.24332570556827']\n",
      "['At iteration 7 the best fitness is 92.24332570556827']\n",
      "['At iteration 8 the best fitness is 92.24332570556827']\n",
      "['At iteration 9 the best fitness is 92.24332570556827']\n",
      "['At iteration 10 the best fitness is 92.24332570556827']\n",
      "['At iteration 11 the best fitness is 92.24332570556827']\n",
      "['At iteration 12 the best fitness is 92.24332570556827']\n",
      "['At iteration 13 the best fitness is 92.24332570556827']\n",
      "['At iteration 14 the best fitness is 92.24332570556827']\n",
      "['At iteration 15 the best fitness is 92.24332570556827']\n",
      "['At iteration 16 the best fitness is 92.24332570556827']\n",
      "['At iteration 17 the best fitness is 92.24332570556827']\n",
      "['At iteration 18 the best fitness is 92.24332570556827']\n",
      "['At iteration 19 the best fitness is 92.24332570556827']\n",
      "['At iteration 20 the best fitness is 92.30549199084669']\n",
      "{'real': array([76676.87296791, 82139.63963085]), 'discrete': array([0, 0, 0, 1, 1, 0, 1, 0, 0, 0, 1, 1, 0, 0, 1, 0, 1, 1, 0, 0, 0, 1,\n",
      "       0, 1, 0, 0, 1, 1, 0, 1, 0, 1, 1, 0, 1, 1, 1, 1, 1, 1, 1, 0, 1, 1,\n",
      "       0, 0, 0, 1, 0, 1, 0, 1, 1, 0, 1, 1, 1])}\n",
      "[[580   0]\n",
      " [  2 339]]\n",
      "Test accuracy:  99.7828447339848  - Fitness:  88.94908280473172\n",
      "GSA is optimizing  \"get_fitness\"\n",
      "['At iteration 1 the best fitness is 90.46414950419526']\n",
      "['At iteration 2 the best fitness is 90.46414950419526']\n",
      "['At iteration 3 the best fitness is 91.8676582761251']\n",
      "['At iteration 4 the best fitness is 91.8676582761251']\n",
      "['At iteration 5 the best fitness is 91.8676582761251']\n",
      "['At iteration 6 the best fitness is 92.15331807780322']\n",
      "['At iteration 7 the best fitness is 92.15331807780322']\n",
      "['At iteration 8 the best fitness is 92.15331807780322']\n",
      "['At iteration 9 the best fitness is 92.15331807780322']\n",
      "['At iteration 10 the best fitness is 92.15331807780322']\n",
      "['At iteration 11 the best fitness is 92.15331807780322']\n",
      "['At iteration 12 the best fitness is 92.15331807780322']\n",
      "['At iteration 13 the best fitness is 92.15331807780322']\n",
      "['At iteration 14 the best fitness is 92.15331807780322']\n",
      "['At iteration 15 the best fitness is 92.15331807780322']\n",
      "['At iteration 16 the best fitness is 92.15331807780322']\n",
      "['At iteration 17 the best fitness is 92.15331807780322']\n",
      "['At iteration 18 the best fitness is 92.15331807780322']\n",
      "['At iteration 19 the best fitness is 92.15331807780322']\n",
      "['At iteration 20 the best fitness is 92.15331807780322']\n",
      "{'real': array([95458.81814771, 81563.69079558]), 'discrete': array([0, 0, 0, 1, 1, 0, 0, 1, 1, 1, 0, 1, 0, 1, 0, 1, 1, 1, 1, 0, 1, 1,\n",
      "       1, 1, 0, 0, 1, 0, 1, 0, 1, 0, 0, 0, 0, 1, 1, 0, 1, 0, 0, 1, 0, 1,\n",
      "       1, 0, 0, 0, 1, 0, 0, 1, 1, 0, 0, 0, 0])}\n",
      "[[561   0]\n",
      " [  0 360]]\n",
      "Test accuracy:  100.0  - Fitness:  90.52631578947368\n",
      "GSA is optimizing  \"get_fitness\"\n",
      "['At iteration 1 the best fitness is 90.57284515636918']\n",
      "['At iteration 2 the best fitness is 91.58199847444699']\n",
      "['At iteration 3 the best fitness is 91.58199847444699']\n",
      "['At iteration 4 the best fitness is 91.58199847444699']\n",
      "['At iteration 5 the best fitness is 91.58199847444699']\n",
      "['At iteration 6 the best fitness is 91.65026697177728']\n",
      "['At iteration 7 the best fitness is 91.65026697177728']\n",
      "['At iteration 8 the best fitness is 91.65026697177728']\n",
      "['At iteration 9 the best fitness is 91.65026697177728']\n",
      "['At iteration 10 the best fitness is 91.75591151792526']\n",
      "['At iteration 11 the best fitness is 91.75591151792526']\n",
      "['At iteration 12 the best fitness is 91.75591151792526']\n",
      "['At iteration 13 the best fitness is 91.75591151792526']\n",
      "['At iteration 14 the best fitness is 92.35202135774219']\n",
      "['At iteration 15 the best fitness is 92.35202135774219']\n",
      "['At iteration 16 the best fitness is 92.35202135774219']\n",
      "['At iteration 17 the best fitness is 92.35202135774219']\n",
      "['At iteration 18 the best fitness is 92.35202135774219']\n",
      "['At iteration 19 the best fitness is 92.35202135774219']\n",
      "['At iteration 20 the best fitness is 92.35202135774219']\n",
      "{'real': array([45510.47159369, 92756.03053028]), 'discrete': array([1, 0, 0, 1, 0, 1, 1, 0, 0, 0, 0, 0, 0, 0, 0, 1, 1, 0, 1, 0, 0, 1,\n",
      "       1, 0, 0, 0, 0, 1, 0, 1, 0, 0, 0, 1, 1, 0, 1, 1, 0, 0, 1, 1, 0, 0,\n",
      "       1, 0, 0, 1, 1, 0, 0, 1, 0, 0, 1, 0, 0])}\n",
      "[[557   1]\n",
      " [  0 363]]\n",
      "Test accuracy:  99.8914223669924  - Fitness:  92.1938396479799\n",
      "GSA is optimizing  \"get_fitness\"\n",
      "['At iteration 1 the best fitness is 90.9672006102212']\n",
      "['At iteration 2 the best fitness is 90.9672006102212']\n",
      "['At iteration 3 the best fitness is 90.9672006102212']\n",
      "['At iteration 4 the best fitness is 90.9672006102212']\n",
      "['At iteration 5 the best fitness is 91.86460717009916']\n",
      "['At iteration 6 the best fitness is 91.86460717009916']\n",
      "['At iteration 7 the best fitness is 91.86460717009916']\n",
      "['At iteration 8 the best fitness is 92.04157131960335']\n",
      "['At iteration 9 the best fitness is 92.04157131960335']\n",
      "['At iteration 10 the best fitness is 92.04157131960335']\n",
      "['At iteration 11 the best fitness is 92.04157131960335']\n",
      "['At iteration 12 the best fitness is 92.04157131960335']\n",
      "['At iteration 13 the best fitness is 92.04157131960335']\n",
      "['At iteration 14 the best fitness is 92.04157131960335']\n",
      "['At iteration 15 the best fitness is 92.04157131960335']\n",
      "['At iteration 16 the best fitness is 92.04157131960335']\n",
      "['At iteration 17 the best fitness is 92.17200610221207']\n",
      "['At iteration 18 the best fitness is 92.17200610221207']\n",
      "['At iteration 19 the best fitness is 92.17200610221207']\n",
      "['At iteration 20 the best fitness is 93.15942028985509']\n",
      "{'real': array([74834.89113378, 61676.19289468]), 'discrete': array([0, 0, 0, 0, 0, 0, 0, 1, 0, 0, 1, 0, 0, 0, 0, 1, 1, 0, 1, 0, 1, 1,\n",
      "       0, 0, 1, 1, 0, 0, 1, 1, 0, 0, 0, 1, 1, 0, 1, 0, 0, 0, 0, 1, 1, 0,\n",
      "       0, 1, 0, 0, 0, 1, 1, 0, 1, 1, 1, 1, 0])}\n",
      "[[563   0]\n",
      " [  3 355]]\n",
      "Test accuracy:  99.6742671009772  - Fitness:  91.66923824218527\n",
      "GSA is optimizing  \"get_fitness\"\n",
      "['At iteration 1 the best fitness is 90.4424103737605']\n",
      "['At iteration 2 the best fitness is 90.4424103737605']\n",
      "['At iteration 3 the best fitness is 90.79328756674295']\n",
      "['At iteration 4 the best fitness is 90.79328756674295']\n",
      "['At iteration 5 the best fitness is 90.79328756674295']\n",
      "['At iteration 6 the best fitness is 90.79328756674295']\n",
      "['At iteration 7 the best fitness is 91.43287566742947']\n",
      "['At iteration 8 the best fitness is 91.43287566742947']\n",
      "['At iteration 9 the best fitness is 91.43287566742947']\n",
      "['At iteration 10 the best fitness is 91.43287566742947']\n",
      "['At iteration 11 the best fitness is 91.78070175438597']\n",
      "['At iteration 12 the best fitness is 91.78070175438597']\n",
      "['At iteration 13 the best fitness is 91.78070175438597']\n",
      "['At iteration 14 the best fitness is 91.78070175438597']\n",
      "['At iteration 15 the best fitness is 91.78070175438597']\n",
      "['At iteration 16 the best fitness is 91.78070175438597']\n",
      "['At iteration 17 the best fitness is 91.78070175438597']\n",
      "['At iteration 18 the best fitness is 91.78070175438597']\n",
      "['At iteration 19 the best fitness is 91.78070175438597']\n",
      "['At iteration 20 the best fitness is 91.78070175438597']\n",
      "{'real': array([87067.94272772,  8159.88444824]), 'discrete': array([1, 1, 0, 1, 0, 0, 0, 1, 0, 1, 0, 0, 0, 1, 0, 0, 1, 0, 0, 1, 1, 0,\n",
      "       1, 1, 0, 1, 0, 1, 0, 1, 0, 0, 1, 0, 0, 0, 0, 1, 0, 1, 0, 0, 0, 1,\n",
      "       0, 1, 0, 0, 1, 1, 1, 1, 0, 1, 0, 1, 0])}\n",
      "[[550   0]\n",
      " [  3 368]]\n",
      "Test accuracy:  99.6742671009772  - Fitness:  90.96748385622035\n",
      "GSA is optimizing  \"get_fitness\"\n",
      "['At iteration 1 the best fitness is 90.30892448512587']\n",
      "['At iteration 2 the best fitness is 91.64721586575133']\n",
      "['At iteration 3 the best fitness is 91.64721586575133']\n",
      "['At iteration 4 the best fitness is 91.64721586575133']\n",
      "['At iteration 5 the best fitness is 92.02593440122044']\n",
      "['At iteration 6 the best fitness is 92.02593440122044']\n",
      "['At iteration 7 the best fitness is 92.02593440122044']\n",
      "['At iteration 8 the best fitness is 92.02593440122044']\n",
      "['At iteration 9 the best fitness is 92.02593440122044']\n",
      "['At iteration 10 the best fitness is 92.13463005339437']\n",
      "['At iteration 11 the best fitness is 92.13463005339437']\n",
      "['At iteration 12 the best fitness is 92.13463005339437']\n",
      "['At iteration 13 the best fitness is 92.13463005339437']\n",
      "['At iteration 14 the best fitness is 92.13463005339437']\n",
      "['At iteration 15 the best fitness is 92.13463005339437']\n",
      "['At iteration 16 the best fitness is 92.13463005339437']\n",
      "['At iteration 17 the best fitness is 92.13463005339437']\n",
      "['At iteration 18 the best fitness is 92.13463005339437']\n",
      "['At iteration 19 the best fitness is 92.13463005339437']\n",
      "['At iteration 20 the best fitness is 92.13463005339437']\n",
      "{'real': array([25740.24529125, 74278.88698266]), 'discrete': array([1, 0, 1, 0, 1, 1, 1, 1, 1, 1, 0, 0, 1, 0, 0, 0, 0, 1, 0, 0, 0, 0,\n",
      "       0, 1, 1, 0, 1, 0, 1, 0, 1, 0, 0, 0, 0, 1, 0, 1, 0, 0, 1, 1, 0, 1,\n",
      "       1, 0, 0, 1, 0, 0, 1, 0, 0, 0, 0, 0, 0])}\n",
      "[[569   0]\n",
      " [ 21 331]]\n",
      "Test accuracy:  97.71986970684038  - Fitness:  90.10572032687583\n"
     ]
    }
   ],
   "source": [
    "seed(22)\n",
    "\n",
    "wa = 0.8\n",
    "wf = 0.2\n",
    "\n",
    "train_df, test_df = run_gsa(chaotic_constant=True,\n",
    "                       runs=10,\n",
    "                       population_size=5,\n",
    "                       iterations=20)"
   ],
   "metadata": {
    "collapsed": false,
    "ExecuteTime": {
     "end_time": "2024-03-05T16:20:29.370922Z",
     "start_time": "2024-03-05T16:08:51.261096Z"
    }
   },
   "id": "6ce233fb1a6dd1f9",
   "execution_count": 23
  },
  {
   "cell_type": "code",
   "outputs": [
    {
     "data": {
      "text/plain": "    run  Iteration    Fitness   Accuracy  ExecutionTime  \\\n0     0          0  89.560259  97.038043       3.403657   \n1     0          1  91.560259  99.538043       6.812630   \n2     0          2  91.560259  99.538043      10.338895   \n3     0          3  91.560259  99.538043      13.948714   \n4     0          4  91.560259  99.538043      17.415668   \n..  ...        ...        ...        ...            ...   \n15    9         15  92.134630  98.940217      59.402672   \n16    9         16  92.134630  98.940217      62.767850   \n17    9         17  92.134630  98.940217      66.788015   \n18    9         18  92.134630  98.940217      70.811335   \n19    9         19  92.134630  98.940217      74.680688   \n\n                                             Discrete  \\\n0   [[0, 1, 0, 1, 0, 1, 0, 0, 0, 0, 0, 0, 1, 0, 1,...   \n1   [[0, 1, 0, 1, 0, 1, 0, 0, 0, 0, 0, 0, 1, 0, 1,...   \n2   [[0, 1, 0, 1, 0, 1, 0, 0, 0, 0, 0, 0, 1, 0, 1,...   \n3   [[0, 1, 0, 1, 0, 1, 0, 0, 0, 0, 0, 0, 1, 0, 1,...   \n4   [[0, 1, 0, 1, 0, 1, 0, 0, 0, 0, 0, 0, 1, 0, 1,...   \n..                                                ...   \n15  [[1, 0, 1, 0, 1, 1, 1, 1, 0, 1, 0, 1, 0, 0, 0,...   \n16  [[1, 0, 1, 0, 1, 1, 1, 1, 0, 1, 0, 1, 0, 0, 0,...   \n17  [[1, 0, 1, 0, 1, 1, 1, 1, 0, 1, 0, 1, 0, 0, 0,...   \n18  [[1, 0, 1, 0, 1, 1, 1, 1, 0, 1, 0, 1, 0, 0, 0,...   \n19  [[1, 0, 1, 0, 1, 1, 1, 1, 0, 1, 0, 1, 0, 0, 0,...   \n\n                                                 Real  \n0   [[53278.608716518494, 86948.94861139914], [412...  \n1   [[53278.608716518494, 86948.94861139914], [412...  \n2   [[53278.608716518494, 86948.94861139914], [412...  \n3   [[53278.608716518494, 86948.94861139914], [412...  \n4   [[53278.608716518494, 86948.94861139914], [412...  \n..                                                ...  \n15  [[944.0679035233848, 8318.115787730865], [7642...  \n16  [[944.0679035233848, 8318.115787730865], [7642...  \n17  [[944.0679035233848, 8318.115787730865], [7642...  \n18  [[944.0679035233848, 8318.115787730865], [7642...  \n19  [[944.0679035233848, 8318.115787730865], [7642...  \n\n[200 rows x 7 columns]",
      "text/html": "<div>\n<style scoped>\n    .dataframe tbody tr th:only-of-type {\n        vertical-align: middle;\n    }\n\n    .dataframe tbody tr th {\n        vertical-align: top;\n    }\n\n    .dataframe thead th {\n        text-align: right;\n    }\n</style>\n<table border=\"1\" class=\"dataframe\">\n  <thead>\n    <tr style=\"text-align: right;\">\n      <th></th>\n      <th>run</th>\n      <th>Iteration</th>\n      <th>Fitness</th>\n      <th>Accuracy</th>\n      <th>ExecutionTime</th>\n      <th>Discrete</th>\n      <th>Real</th>\n    </tr>\n  </thead>\n  <tbody>\n    <tr>\n      <th>0</th>\n      <td>0</td>\n      <td>0</td>\n      <td>89.560259</td>\n      <td>97.038043</td>\n      <td>3.403657</td>\n      <td>[[0, 1, 0, 1, 0, 1, 0, 0, 0, 0, 0, 0, 1, 0, 1,...</td>\n      <td>[[53278.608716518494, 86948.94861139914], [412...</td>\n    </tr>\n    <tr>\n      <th>1</th>\n      <td>0</td>\n      <td>1</td>\n      <td>91.560259</td>\n      <td>99.538043</td>\n      <td>6.812630</td>\n      <td>[[0, 1, 0, 1, 0, 1, 0, 0, 0, 0, 0, 0, 1, 0, 1,...</td>\n      <td>[[53278.608716518494, 86948.94861139914], [412...</td>\n    </tr>\n    <tr>\n      <th>2</th>\n      <td>0</td>\n      <td>2</td>\n      <td>91.560259</td>\n      <td>99.538043</td>\n      <td>10.338895</td>\n      <td>[[0, 1, 0, 1, 0, 1, 0, 0, 0, 0, 0, 0, 1, 0, 1,...</td>\n      <td>[[53278.608716518494, 86948.94861139914], [412...</td>\n    </tr>\n    <tr>\n      <th>3</th>\n      <td>0</td>\n      <td>3</td>\n      <td>91.560259</td>\n      <td>99.538043</td>\n      <td>13.948714</td>\n      <td>[[0, 1, 0, 1, 0, 1, 0, 0, 0, 0, 0, 0, 1, 0, 1,...</td>\n      <td>[[53278.608716518494, 86948.94861139914], [412...</td>\n    </tr>\n    <tr>\n      <th>4</th>\n      <td>0</td>\n      <td>4</td>\n      <td>91.560259</td>\n      <td>99.538043</td>\n      <td>17.415668</td>\n      <td>[[0, 1, 0, 1, 0, 1, 0, 0, 0, 0, 0, 0, 1, 0, 1,...</td>\n      <td>[[53278.608716518494, 86948.94861139914], [412...</td>\n    </tr>\n    <tr>\n      <th>...</th>\n      <td>...</td>\n      <td>...</td>\n      <td>...</td>\n      <td>...</td>\n      <td>...</td>\n      <td>...</td>\n      <td>...</td>\n    </tr>\n    <tr>\n      <th>15</th>\n      <td>9</td>\n      <td>15</td>\n      <td>92.134630</td>\n      <td>98.940217</td>\n      <td>59.402672</td>\n      <td>[[1, 0, 1, 0, 1, 1, 1, 1, 0, 1, 0, 1, 0, 0, 0,...</td>\n      <td>[[944.0679035233848, 8318.115787730865], [7642...</td>\n    </tr>\n    <tr>\n      <th>16</th>\n      <td>9</td>\n      <td>16</td>\n      <td>92.134630</td>\n      <td>98.940217</td>\n      <td>62.767850</td>\n      <td>[[1, 0, 1, 0, 1, 1, 1, 1, 0, 1, 0, 1, 0, 0, 0,...</td>\n      <td>[[944.0679035233848, 8318.115787730865], [7642...</td>\n    </tr>\n    <tr>\n      <th>17</th>\n      <td>9</td>\n      <td>17</td>\n      <td>92.134630</td>\n      <td>98.940217</td>\n      <td>66.788015</td>\n      <td>[[1, 0, 1, 0, 1, 1, 1, 1, 0, 1, 0, 1, 0, 0, 0,...</td>\n      <td>[[944.0679035233848, 8318.115787730865], [7642...</td>\n    </tr>\n    <tr>\n      <th>18</th>\n      <td>9</td>\n      <td>18</td>\n      <td>92.134630</td>\n      <td>98.940217</td>\n      <td>70.811335</td>\n      <td>[[1, 0, 1, 0, 1, 1, 1, 1, 0, 1, 0, 1, 0, 0, 0,...</td>\n      <td>[[944.0679035233848, 8318.115787730865], [7642...</td>\n    </tr>\n    <tr>\n      <th>19</th>\n      <td>9</td>\n      <td>19</td>\n      <td>92.134630</td>\n      <td>98.940217</td>\n      <td>74.680688</td>\n      <td>[[1, 0, 1, 0, 1, 1, 1, 1, 0, 1, 0, 1, 0, 0, 0,...</td>\n      <td>[[944.0679035233848, 8318.115787730865], [7642...</td>\n    </tr>\n  </tbody>\n</table>\n<p>200 rows × 7 columns</p>\n</div>"
     },
     "execution_count": 24,
     "metadata": {},
     "output_type": "execute_result"
    }
   ],
   "source": [
    "train_df"
   ],
   "metadata": {
    "collapsed": false,
    "ExecuteTime": {
     "end_time": "2024-03-05T16:27:40.451066Z",
     "start_time": "2024-03-05T16:27:40.408394Z"
    }
   },
   "id": "8b5de91133a53c87",
   "execution_count": 24
  },
  {
   "cell_type": "code",
   "outputs": [
    {
     "data": {
      "text/plain": "run\n0      [28891.15307520256, 63361.74891921197]\n1      [63438.24190096487, 7595.773074256971]\n2     [31286.007008108347, 96936.67266453375]\n3     [76294.67483366912, 1337.4560009830666]\n4       [89014.73900849142, 89013.1252153836]\n5      [70017.71453539368, 85079.56536868447]\n6     [67440.90680095801, 48109.307658411155]\n7    [13227.899759881622, 13295.117974343639]\n8     [16518.76643390483, 20788.412451877466]\n9     [53425.167512452535, 99672.71994081586]\nName: Real, dtype: object"
     },
     "execution_count": 25,
     "metadata": {},
     "output_type": "execute_result"
    }
   ],
   "source": [
    "real_hist = train_df.groupby('run')['Real'].last().apply(lambda x: x[-1])\n",
    "real_hist"
   ],
   "metadata": {
    "collapsed": false,
    "ExecuteTime": {
     "end_time": "2024-03-05T16:27:41.183807Z",
     "start_time": "2024-03-05T16:27:41.171058Z"
    }
   },
   "id": "e9d6e5847753dbdc",
   "execution_count": 25
  },
  {
   "cell_type": "code",
   "outputs": [
    {
     "data": {
      "text/plain": "(50.9555, 26.6054)"
     },
     "execution_count": 26,
     "metadata": {},
     "output_type": "execute_result"
    }
   ],
   "source": [
    "gamma_hist = real_hist.apply(lambda x: x[0]/1000)\n",
    "\n",
    "mean_gamma = np.round(gamma_hist.mean(), 4)\n",
    "std_gamma = np.round(gamma_hist.std(), 4)\n",
    "mean_gamma, std_gamma"
   ],
   "metadata": {
    "collapsed": false,
    "ExecuteTime": {
     "end_time": "2024-03-05T16:27:41.881744Z",
     "start_time": "2024-03-05T16:27:41.867870Z"
    }
   },
   "id": "4594407d1d558ffd",
   "execution_count": 26
  },
  {
   "cell_type": "code",
   "outputs": [
    {
     "data": {
      "text/plain": "(52.519, 39.3113)"
     },
     "execution_count": 27,
     "metadata": {},
     "output_type": "execute_result"
    }
   ],
   "source": [
    "c_hist = real_hist.apply(lambda x: x[1]/1000)\n",
    "\n",
    "mean_c = np.round(c_hist.mean(), 4)\n",
    "std_c = np.round(c_hist.std(), 4)\n",
    "mean_c, std_c"
   ],
   "metadata": {
    "collapsed": false,
    "ExecuteTime": {
     "end_time": "2024-03-05T16:27:42.333522Z",
     "start_time": "2024-03-05T16:27:42.317166Z"
    }
   },
   "id": "ab701b3758b15ccf",
   "execution_count": 27
  },
  {
   "cell_type": "code",
   "outputs": [
    {
     "data": {
      "text/plain": "(27.0, 3.0)"
     },
     "execution_count": 28,
     "metadata": {},
     "output_type": "execute_result"
    }
   ],
   "source": [
    "n_features_hist = train_df.groupby('run')['Discrete'].last()\n",
    "n_features_hist = n_features_hist.apply(lambda x: sum(x[-1]))\n",
    "\n",
    "# Get mean and std of n_features_hist\n",
    "mean_n_feat = np.round(n_features_hist.mean())\n",
    "std_n_feat = np.round(n_features_hist.std())\n",
    "mean_n_feat, std_n_feat"
   ],
   "metadata": {
    "collapsed": false,
    "ExecuteTime": {
     "end_time": "2024-03-05T16:27:42.936149Z",
     "start_time": "2024-03-05T16:27:42.922633Z"
    }
   },
   "id": "d6dd68d767af09f1",
   "execution_count": 28
  },
  {
   "cell_type": "code",
   "outputs": [
    {
     "data": {
      "text/plain": "(99.394, 0.2556)"
     },
     "execution_count": 29,
     "metadata": {},
     "output_type": "execute_result"
    }
   ],
   "source": [
    "# Group by run, get last value of each group in Accuracy column creating a pd.Series\n",
    "accuracy_hist = train_df.groupby('run')['Accuracy'].last()\n",
    "\n",
    "# Get mean and std of accuracy_hist\n",
    "mean_accuracy = np.round(accuracy_hist.mean(), 4)\n",
    "std_accuracy = np.round(accuracy_hist.std(), 4)\n",
    "mean_accuracy, std_accuracy"
   ],
   "metadata": {
    "collapsed": false,
    "ExecuteTime": {
     "end_time": "2024-03-05T16:27:43.387730Z",
     "start_time": "2024-03-05T16:27:43.376193Z"
    }
   },
   "id": "c8d237105a470f97",
   "execution_count": 29
  },
  {
   "cell_type": "code",
   "outputs": [
    {
     "data": {
      "text/plain": "   run    accuracy    fitness     TP   FP     TN    FN\n0  0.0   99.457112  90.092005  566.0  0.0  350.0   5.0\n1  1.0   99.782845  92.106978  569.0  0.0  350.0   2.0\n2  2.0   99.565689  92.284131  542.0  0.0  375.0   4.0\n3  3.0   99.674267  90.616607  554.0  0.0  364.0   3.0\n4  4.0   99.782845  88.949083  580.0  0.0  339.0   2.0\n5  5.0  100.000000  90.526316  561.0  0.0  360.0   0.0\n6  6.0   99.891422  92.193840  557.0  1.0  363.0   0.0\n7  7.0   99.674267  91.669238  563.0  0.0  355.0   3.0\n8  8.0   99.674267  90.967484  550.0  0.0  368.0   3.0\n9  9.0   97.719870  90.105720  569.0  0.0  331.0  21.0",
      "text/html": "<div>\n<style scoped>\n    .dataframe tbody tr th:only-of-type {\n        vertical-align: middle;\n    }\n\n    .dataframe tbody tr th {\n        vertical-align: top;\n    }\n\n    .dataframe thead th {\n        text-align: right;\n    }\n</style>\n<table border=\"1\" class=\"dataframe\">\n  <thead>\n    <tr style=\"text-align: right;\">\n      <th></th>\n      <th>run</th>\n      <th>accuracy</th>\n      <th>fitness</th>\n      <th>TP</th>\n      <th>FP</th>\n      <th>TN</th>\n      <th>FN</th>\n    </tr>\n  </thead>\n  <tbody>\n    <tr>\n      <th>0</th>\n      <td>0.0</td>\n      <td>99.457112</td>\n      <td>90.092005</td>\n      <td>566.0</td>\n      <td>0.0</td>\n      <td>350.0</td>\n      <td>5.0</td>\n    </tr>\n    <tr>\n      <th>1</th>\n      <td>1.0</td>\n      <td>99.782845</td>\n      <td>92.106978</td>\n      <td>569.0</td>\n      <td>0.0</td>\n      <td>350.0</td>\n      <td>2.0</td>\n    </tr>\n    <tr>\n      <th>2</th>\n      <td>2.0</td>\n      <td>99.565689</td>\n      <td>92.284131</td>\n      <td>542.0</td>\n      <td>0.0</td>\n      <td>375.0</td>\n      <td>4.0</td>\n    </tr>\n    <tr>\n      <th>3</th>\n      <td>3.0</td>\n      <td>99.674267</td>\n      <td>90.616607</td>\n      <td>554.0</td>\n      <td>0.0</td>\n      <td>364.0</td>\n      <td>3.0</td>\n    </tr>\n    <tr>\n      <th>4</th>\n      <td>4.0</td>\n      <td>99.782845</td>\n      <td>88.949083</td>\n      <td>580.0</td>\n      <td>0.0</td>\n      <td>339.0</td>\n      <td>2.0</td>\n    </tr>\n    <tr>\n      <th>5</th>\n      <td>5.0</td>\n      <td>100.000000</td>\n      <td>90.526316</td>\n      <td>561.0</td>\n      <td>0.0</td>\n      <td>360.0</td>\n      <td>0.0</td>\n    </tr>\n    <tr>\n      <th>6</th>\n      <td>6.0</td>\n      <td>99.891422</td>\n      <td>92.193840</td>\n      <td>557.0</td>\n      <td>1.0</td>\n      <td>363.0</td>\n      <td>0.0</td>\n    </tr>\n    <tr>\n      <th>7</th>\n      <td>7.0</td>\n      <td>99.674267</td>\n      <td>91.669238</td>\n      <td>563.0</td>\n      <td>0.0</td>\n      <td>355.0</td>\n      <td>3.0</td>\n    </tr>\n    <tr>\n      <th>8</th>\n      <td>8.0</td>\n      <td>99.674267</td>\n      <td>90.967484</td>\n      <td>550.0</td>\n      <td>0.0</td>\n      <td>368.0</td>\n      <td>3.0</td>\n    </tr>\n    <tr>\n      <th>9</th>\n      <td>9.0</td>\n      <td>97.719870</td>\n      <td>90.105720</td>\n      <td>569.0</td>\n      <td>0.0</td>\n      <td>331.0</td>\n      <td>21.0</td>\n    </tr>\n  </tbody>\n</table>\n</div>"
     },
     "execution_count": 30,
     "metadata": {},
     "output_type": "execute_result"
    }
   ],
   "source": [
    "test_df"
   ],
   "metadata": {
    "collapsed": false,
    "ExecuteTime": {
     "end_time": "2024-03-05T16:27:43.826257Z",
     "start_time": "2024-03-05T16:27:43.812199Z"
    }
   },
   "id": "185e2ab8f94bbec9",
   "execution_count": 30
  },
  {
   "cell_type": "code",
   "outputs": [
    {
     "data": {
      "text/plain": "(99.5223, 0.6519)"
     },
     "execution_count": 31,
     "metadata": {},
     "output_type": "execute_result"
    }
   ],
   "source": [
    "test_accuracy_hist = test_df['accuracy']\n",
    "\n",
    "mean_test_accuracy = np.round(test_accuracy_hist.mean(), 4)\n",
    "std_test_accuracy = np.round(test_accuracy_hist.std(), 4)\n",
    "mean_test_accuracy, std_test_accuracy"
   ],
   "metadata": {
    "collapsed": false,
    "ExecuteTime": {
     "end_time": "2024-03-05T16:27:44.437478Z",
     "start_time": "2024-03-05T16:27:44.425418Z"
    }
   },
   "id": "86baa9c879975a3a",
   "execution_count": 31
  },
  {
   "cell_type": "code",
   "outputs": [],
   "source": [
    "# Save train and test df with name of dataset\n",
    "\n",
    "save_path = \"../data/output\"\n",
    "if not os.path.exists(save_path):\n",
    "    os.makedirs(save_path)\n",
    "    \n",
    "train_df.to_csv(f\"{save_path}/{widget_opt.value}_train_df.csv\", index=False)\n",
    "test_df.to_csv(f\"{save_path}/{widget_opt.value}_test_df.csv\", index=False)"
   ],
   "metadata": {
    "collapsed": false,
    "ExecuteTime": {
     "end_time": "2024-03-05T16:27:46.114988Z",
     "start_time": "2024-03-05T16:27:46.042284Z"
    }
   },
   "id": "bae5f815e0a28bb2",
   "execution_count": 32
  },
  {
   "cell_type": "code",
   "execution_count": null,
   "id": "bdf875026d9d4f13",
   "metadata": {
    "collapsed": false
   },
   "outputs": [],
   "source": []
  }
 ],
 "metadata": {
  "kernelspec": {
   "display_name": "Python 3 (ipykernel)",
   "language": "python",
   "name": "python3"
  },
  "language_info": {
   "codemirror_mode": {
    "name": "ipython",
    "version": 3
   },
   "file_extension": ".py",
   "mimetype": "text/x-python",
   "name": "python",
   "nbconvert_exporter": "python",
   "pygments_lexer": "ipython3",
   "version": "3.9.6"
  }
 },
 "nbformat": 4,
 "nbformat_minor": 5
}
