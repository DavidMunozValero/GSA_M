{
 "cells": [
  {
   "cell_type": "code",
   "outputs": [],
   "source": [
    "%load_ext autoreload\n",
    "%autoreload 2\n",
    "\n",
    "import ipywidgets as widgets\n",
    "import numpy as np\n",
    "import os\n",
    "import pandas as pd\n",
    "import seaborn as sns\n",
    "\n",
    "from benchmarks import gsa_svm_fitness\n",
    "from src.entities import GSA\n",
    "\n",
    "from IPython.display import display\n",
    "from matplotlib import pyplot as plt\n",
    "from scipy import stats as st\n",
    "from sklearn.metrics import accuracy_score, confusion_matrix\n",
    "from sklearn.model_selection import train_test_split\n",
    "from sklearn.preprocessing import LabelEncoder, StandardScaler\n",
    "from sklearn.svm import SVC\n",
    "from typing import Mapping, Tuple, Union\n",
    "from ucimlrepo import fetch_ucirepo"
   ],
   "metadata": {
    "collapsed": false,
    "ExecuteTime": {
     "end_time": "2024-03-12T22:14:59.109841Z",
     "start_time": "2024-03-12T22:14:58.954129Z"
    }
   },
   "id": "c3cc59d5610d418",
   "execution_count": 1
  },
  {
   "cell_type": "code",
   "outputs": [
    {
     "data": {
      "text/plain": "Dropdown(description='Dataset: ', options=('Breast Cancer Wisconsin (Diagnostic)', 'Mushroom', 'Spambase'), va…",
      "application/vnd.jupyter.widget-view+json": {
       "version_major": 2,
       "version_minor": 0,
       "model_id": "fe86c1aa1df640ebba9ad6810502858b"
      }
     },
     "metadata": {},
     "output_type": "display_data"
    }
   ],
   "source": [
    "uci_datasets = [\"Breast Cancer Wisconsin (Diagnostic)\",\n",
    "                \"Mushroom\",\n",
    "                \"Spambase\"]\n",
    "\n",
    "widget_opt = widgets.Dropdown(options=uci_datasets,\n",
    "                              description='Dataset: ')\n",
    "\n",
    "display(widget_opt)"
   ],
   "metadata": {
    "collapsed": false,
    "ExecuteTime": {
     "end_time": "2024-03-12T22:14:59.227381Z",
     "start_time": "2024-03-12T22:14:59.213201Z"
    }
   },
   "id": "e8e7510efbb71f63",
   "execution_count": 2
  },
  {
   "cell_type": "code",
   "outputs": [
    {
     "name": "stdout",
     "output_type": "stream",
     "text": [
      "Dataset: Breast Cancer Wisconsin (Diagnostic)\n",
      "Instances: 699\n",
      "Features: 9\n"
     ]
    }
   ],
   "source": [
    "def fetch_uci_dataset(dataset_name: str) -> Tuple[pd.DataFrame, pd.Series]:\n",
    "    \"\"\"\n",
    "    Fetch UCI dataset\n",
    "    \"\"\"\n",
    "    def fetch_categorical_dataset(_id: int) -> Tuple[pd.DataFrame, pd.Series]:\n",
    "        data = fetch_ucirepo(id=_id)\n",
    "        X = data.data.features\n",
    "        y = data.data.targets\n",
    "        encoder = LabelEncoder()\n",
    "        for col in X.columns:\n",
    "            X.loc[:, col] = encoder.fit_transform(X[col])\n",
    "        return X, y\n",
    "\n",
    "    if dataset_name == \"Breast Cancer Wisconsin (Diagnostic)\":\n",
    "        data = fetch_ucirepo(id=15)\n",
    "        X = data.data.features\n",
    "        y = data.data.targets\n",
    "        X = X.fillna(value=0)\n",
    "    elif dataset_name == \"Spambase\":\n",
    "        X, y = fetch_categorical_dataset(_id=94)\n",
    "    elif dataset_name == \"Mushroom\":\n",
    "        X, y = fetch_categorical_dataset(_id=73)\n",
    "    \n",
    "    return X, y\n",
    "\n",
    "X, y = fetch_uci_dataset(widget_opt.value)\n",
    "\n",
    "# Name of selected dataset and summary (number of instances, features, etc.)\n",
    "print(f\"Dataset: {widget_opt.value}\")\n",
    "print(f\"Instances: {X.shape[0]}\")\n",
    "print(f\"Features: {X.shape[1]}\")"
   ],
   "metadata": {
    "collapsed": false,
    "ExecuteTime": {
     "end_time": "2024-03-12T22:53:30.980970Z",
     "start_time": "2024-03-12T22:53:29.271420Z"
    }
   },
   "id": "437c2c37bb7e8030",
   "execution_count": 72
  },
  {
   "cell_type": "code",
   "outputs": [
    {
     "data": {
      "text/plain": "Class\n2        458\n4        241\nName: count, dtype: int64"
     },
     "execution_count": 73,
     "metadata": {},
     "output_type": "execute_result"
    }
   ],
   "source": [
    "y.value_counts()"
   ],
   "metadata": {
    "collapsed": false,
    "ExecuteTime": {
     "end_time": "2024-03-12T22:53:31.010848Z",
     "start_time": "2024-03-12T22:53:30.983672Z"
    }
   },
   "id": "190c9c3f9e07f84e",
   "execution_count": 73
  },
  {
   "cell_type": "code",
   "outputs": [],
   "source": [
    "# WARNING!! GLOBAL VARIABLES\n",
    "wa = 0.0\n",
    "wf = 0.0\n",
    "\n",
    "# IMPORTANT!! MUTABLE GLOBAL VARIABLE\n",
    "conf_matrix_dict = {\"TP\": 0, \"FP\": 0, \"TN\": 0, \"FN\": 0}\n",
    "\n",
    "class UCI:\n",
    "    \"\"\"\n",
    "    Class to handle UCI datasets\n",
    "    \n",
    "    Args:\n",
    "        X (pd.DataFrame): Features\n",
    "        y (pd.Series): Target\n",
    "    \"\"\"\n",
    "    def __init__(self,\n",
    "                 X: pd.DataFrame,\n",
    "                 y: pd.Series,\n",
    "                 boundaries: Mapping[str, Tuple[Tuple[float, float], ...]],\n",
    "                 seed: int=5\n",
    "                 ) -> None:\n",
    "        \"\"\"\n",
    "        Constructor\n",
    "        \n",
    "        Args:\n",
    "            X (pd.DataFrame): Features\n",
    "            y (pd.Series): Target\n",
    "            boundaries (Mapping[str, Tuple[Tuple[float, float], ...]): Boundaries for the optimization problem\n",
    "            seed (int, optional): Random seed. Defaults to 5.\n",
    "        \"\"\"\n",
    "        self.X = X\n",
    "        self.y = y\n",
    "        self.boundaries = boundaries\n",
    "\n",
    "        scaler = StandardScaler()\n",
    "        X_scaled = scaler.fit_transform(self.X)\n",
    "        \n",
    "        X_train, X_test, y_train, y_test = train_test_split(X_scaled, y, test_size = 0.2)\n",
    "        self.X_train = X_train\n",
    "        self.X_test = X_test\n",
    "        self.y_train = y_train\n",
    "        self.y_test = y_test\n",
    "\n",
    "    \n",
    "    def get_fitness(self,\n",
    "                    solution: Mapping[str, np.ndarray],\n",
    "                    data: Union[None, Tuple[np.ndarray, np.ndarray]] = None,\n",
    "                    show_confusion_matrix: bool=False\n",
    "                    ) -> Tuple[float, float]:\n",
    "        \"\"\"\n",
    "        Get fitness of a solution\n",
    "        \n",
    "        Args:\n",
    "            solution (Mapping[str, np.ndarray]): Solution to evaluate\n",
    "            data (Union[None, Tuple[np.ndarray, np.ndarray]], optional): Data to evaluate the solution. Defaults to None.\n",
    "        \n",
    "        Returns:\n",
    "            Tuple[float, float]: Fitness and accuracy of the solution    \n",
    "        \"\"\"\n",
    "        if data is None:\n",
    "            X_scaled = self.X_train\n",
    "            y_data = self.y_train\n",
    "        else:\n",
    "            X_scaled, y_data = data\n",
    "            \n",
    "        gamma, C = solution['real']\n",
    "        gamma /= 1_000\n",
    "        C /= 1_000\n",
    "        X_scaled_filtered = X_scaled[:, solution['discrete'].astype(int) == 1]\n",
    "        svc_model = SVC(gamma=gamma, C=C, kernel=\"rbf\", verbose=False)\n",
    "        svc_model.fit(X_scaled_filtered, np.ravel(y_data))\n",
    "        y_predict = svc_model.predict(X_scaled_filtered)\n",
    "        conf_matrix = confusion_matrix(y_data, y_predict)\n",
    "        if show_confusion_matrix:\n",
    "            # Update global conf_matrix_dict\n",
    "            conf_matrix_dict[\"TP\"] = conf_matrix[0, 0]\n",
    "            conf_matrix_dict[\"FP\"] = conf_matrix[0, 1]\n",
    "            conf_matrix_dict[\"TN\"] = conf_matrix[1, 1]\n",
    "            conf_matrix_dict[\"FN\"] = conf_matrix[1, 0]\n",
    "            print(conf_matrix)\n",
    "        accuracy = accuracy_score(y_data, y_predict) * 100\n",
    "        \n",
    "        return gsa_svm_fitness(accuracy=accuracy, solution=solution, wa=wa, wf=wf)\n",
    "\n",
    "    def is_feasible(self, solution: Mapping[str, np.ndarray]) -> bool:\n",
    "        \"\"\"\n",
    "        Check if a solution is feasible\n",
    "\n",
    "        Args:\n",
    "            solution (Mapping[str, np.ndarray]): Solution to evaluate\n",
    "\n",
    "        Returns:\n",
    "            bool: True if the solution is feasible, False otherwise\n",
    "        \"\"\"\n",
    "        real_values = solution['real']\n",
    "        discrete_values = solution['discrete']\n",
    "\n",
    "        for i, (min_val, max_val) in enumerate(self.boundaries['real']):\n",
    "            if real_values[i] < min_val or real_values[i] > max_val:\n",
    "                return False\n",
    "\n",
    "        for i, (min_val, max_val) in enumerate(self.boundaries['discrete']):\n",
    "            if discrete_values[i] < min_val or discrete_values[i] > max_val:\n",
    "                return False\n",
    "        \n",
    "        if sum(discrete_values) == 0:\n",
    "            return False\n",
    "        \n",
    "        return True\n",
    "\n",
    "boundaries = {'real': [(1, 100_000), (1, 100_000)], 'discrete': [(0, 1) for _ in range(len(X.columns))]}\n",
    "uci_data = UCI(X, y, boundaries)"
   ],
   "metadata": {
    "collapsed": false,
    "ExecuteTime": {
     "end_time": "2024-03-12T22:53:31.660878Z",
     "start_time": "2024-03-12T22:53:31.637156Z"
    }
   },
   "id": "451c125b08f5a3f8",
   "execution_count": 74
  },
  {
   "cell_type": "code",
   "outputs": [],
   "source": [
    "from random import randint, seed \n",
    "\n",
    "def run_gsa(chaotic_constant: bool=False,\n",
    "            repair_solution: bool=False,\n",
    "            runs: int=10,\n",
    "            population_size: int=5,\n",
    "            iterations: int=20\n",
    "            ) -> Tuple[pd.DataFrame, pd.DataFrame]:\n",
    "    \n",
    "    global_train_hist = pd.DataFrame()\n",
    "    global_test_hist = pd.DataFrame(columns=[\"run\", \"accuracy\", \"fitness\", \"TP\", \"FP\", \"TN\", \"FN\"])\n",
    "    \n",
    "    for k in range(runs):\n",
    "        gsa_seed = randint(0, 1000)\n",
    "        uci_data = UCI(X, y, boundaries, seed=gsa_seed)\n",
    "        \n",
    "        gsa_algo = GSA(objective_function = uci_data.get_fitness,\n",
    "                       is_feasible=uci_data.is_feasible,\n",
    "                       r_dim=2,\n",
    "                       d_dim=len(X.columns),\n",
    "                       boundaries=uci_data.boundaries,\n",
    "                       initialization_policy=\"default\",\n",
    "                       save_accuracy=True)\n",
    "        \n",
    "        gsa_algo.set_seed(seed=gsa_seed)\n",
    "        training_history = gsa_algo.optimize(population_size=population_size,\n",
    "                                             iters=iterations,\n",
    "                                             chaotic_constant=chaotic_constant,\n",
    "                                             repair_solution=repair_solution)\n",
    "        \n",
    "        training_history.insert(0, \"run\", k)\n",
    "        global_train_hist = pd.concat([global_train_hist, training_history], axis=0)\n",
    "        \n",
    "        print(gsa_algo.solution_history[-1])\n",
    "        fitness, accuracy = uci_data.get_fitness(solution=gsa_algo.solution_history[-1],\n",
    "                                            data=(uci_data.X_test, uci_data.y_test),\n",
    "                                            show_confusion_matrix=True)\n",
    "        \n",
    "        global_test_hist.loc[len(global_test_hist)] = [k, accuracy, fitness, conf_matrix_dict[\"TP\"], conf_matrix_dict[\"FP\"], conf_matrix_dict[\"TN\"], conf_matrix_dict[\"FN\"]]\n",
    "        \n",
    "        print(\"Test accuracy: \", accuracy, \" - Fitness: \", fitness)\n",
    "    \n",
    "    return global_train_hist, global_test_hist"
   ],
   "metadata": {
    "collapsed": false,
    "ExecuteTime": {
     "end_time": "2024-03-12T22:53:32.028025Z",
     "start_time": "2024-03-12T22:53:32.009760Z"
    }
   },
   "id": "f054a60e488b2e4",
   "execution_count": 75
  },
  {
   "cell_type": "code",
   "outputs": [
    {
     "name": "stdout",
     "output_type": "stream",
     "text": [
      "Initializing positions of the individuals in the population...\n",
      "Positions of the individuals in the population successfully initialized!\n",
      "Initial population: {'real': array([[53379.63484976, 87034.63906119],\n",
      "       [41215.23103413, 92762.71854325],\n",
      "       [88273.63701768,  2384.26320401],\n",
      "       [16076.75185713, 16361.63573511],\n",
      "       [28779.60576305, 63365.68495797]]), 'discrete': array([[0, 0, 0, 1, 1, 1, 0, 0, 1],\n",
      "       [0, 0, 1, 0, 0, 1, 1, 0, 1],\n",
      "       [1, 0, 1, 1, 0, 1, 1, 1, 1],\n",
      "       [1, 1, 0, 1, 1, 0, 1, 0, 0],\n",
      "       [1, 1, 1, 1, 1, 0, 0, 1, 1]])}\n",
      "GSA is optimizing  \"get_fitness\"\n",
      "['At iteration 1 the best fitness is 90.53866030610217']\n",
      "['At iteration 2 the best fitness is 91.83462532299743']\n",
      "['At iteration 3 the best fitness is 91.83462532299743']\n",
      "['At iteration 4 the best fitness is 91.83462532299743']\n",
      "['At iteration 5 the best fitness is 91.83462532299743']\n",
      "['At iteration 6 the best fitness is 91.83462532299743']\n",
      "['At iteration 7 the best fitness is 92.69330153051084']\n",
      "['At iteration 8 the best fitness is 92.69330153051084']\n",
      "['At iteration 9 the best fitness is 92.69330153051084']\n",
      "['At iteration 10 the best fitness is 92.69330153051084']\n",
      "['At iteration 11 the best fitness is 92.69330153051084']\n",
      "['At iteration 12 the best fitness is 92.69330153051084']\n",
      "['At iteration 13 the best fitness is 92.69330153051084']\n",
      "['At iteration 14 the best fitness is 92.69330153051084']\n",
      "['At iteration 15 the best fitness is 92.69330153051084']\n",
      "['At iteration 16 the best fitness is 92.69330153051084']\n",
      "['At iteration 17 the best fitness is 92.69330153051084']\n",
      "['At iteration 18 the best fitness is 92.69330153051084']\n",
      "['At iteration 19 the best fitness is 92.69330153051084']\n",
      "['At iteration 20 the best fitness is 92.69330153051084']\n",
      "{'real': array([16151.59313744, 16498.62543455]), 'discrete': array([0, 0, 0, 0, 0, 1, 1, 1, 0])}\n",
      "[[81  1]\n",
      " [ 0 58]]\n",
      "Test accuracy:  99.28571428571429  - Fitness:  92.76190476190479\n",
      "Initializing positions of the individuals in the population...\n",
      "Positions of the individuals in the population successfully initialized!\n",
      "Initial population: {'real': array([[76641.233485  , 99380.26688035],\n",
      "       [41407.78421615, 27946.12869913],\n",
      "       [82484.70220523, 83482.24343009],\n",
      "       [ 4885.96737321, 52572.27641903],\n",
      "       [74553.57095796, 50871.66081767]]), 'discrete': array([[0, 0, 1, 0, 0, 1, 1, 1, 0],\n",
      "       [1, 0, 1, 1, 1, 0, 0, 1, 0],\n",
      "       [1, 1, 0, 0, 1, 1, 0, 1, 0],\n",
      "       [1, 1, 1, 0, 1, 0, 0, 1, 1],\n",
      "       [1, 1, 1, 1, 1, 1, 0, 1, 0]])}\n",
      "GSA is optimizing  \"get_fitness\"\n",
      "['At iteration 1 the best fitness is 90.9679984098589']\n",
      "['At iteration 2 the best fitness is 90.9679984098589']\n",
      "['At iteration 3 the best fitness is 91.11111111111111']\n",
      "['At iteration 4 the best fitness is 91.11111111111111']\n",
      "['At iteration 5 the best fitness is 91.11111111111111']\n",
      "['At iteration 6 the best fitness is 91.11111111111111']\n",
      "['At iteration 7 the best fitness is 92.61776982707218']\n",
      "['At iteration 8 the best fitness is 92.61776982707218']\n",
      "['At iteration 9 the best fitness is 92.61776982707218']\n",
      "['At iteration 10 the best fitness is 92.61776982707218']\n",
      "['At iteration 11 the best fitness is 92.7608825283244']\n",
      "['At iteration 12 the best fitness is 92.7608825283244']\n",
      "['At iteration 13 the best fitness is 92.97952693301531']\n",
      "['At iteration 14 the best fitness is 92.97952693301531']\n",
      "['At iteration 15 the best fitness is 92.97952693301531']\n",
      "['At iteration 16 the best fitness is 93.12263963426756']\n",
      "['At iteration 17 the best fitness is 93.12263963426756']\n",
      "['At iteration 18 the best fitness is 93.12263963426756']\n",
      "['At iteration 19 the best fitness is 93.12263963426756']\n",
      "['At iteration 20 the best fitness is 93.12263963426756']\n",
      "{'real': array([ 5084.60854989, 52622.06956291]), 'discrete': array([0, 0, 0, 1, 0, 0, 0, 1, 0])}\n",
      "[[82  1]\n",
      " [ 4 53]]\n",
      "Test accuracy:  96.42857142857143  - Fitness:  92.69841269841271\n",
      "Initializing positions of the individuals in the population...\n",
      "Positions of the individuals in the population successfully initialized!\n",
      "Initial population: {'real': array([[12878.58578739, 67030.52347147],\n",
      "       [11442.3731451 , 70515.67535853],\n",
      "       [89140.04260307, 55233.88166588],\n",
      "       [ 1105.3751811 , 31399.09378469],\n",
      "       [22191.60128426, 78638.34295973]]), 'discrete': array([[1, 1, 1, 0, 0, 0, 1, 1, 1],\n",
      "       [0, 1, 0, 1, 1, 1, 1, 1, 1],\n",
      "       [1, 1, 0, 1, 1, 0, 1, 0, 0],\n",
      "       [0, 1, 1, 0, 0, 0, 1, 0, 0],\n",
      "       [1, 1, 0, 1, 0, 0, 0, 0, 0]])}\n",
      "GSA is optimizing  \"get_fitness\"\n",
      "['At iteration 1 the best fitness is 92.18843172331546']\n",
      "['At iteration 2 the best fitness is 92.7608825283244']\n",
      "['At iteration 3 the best fitness is 92.7608825283244']\n",
      "['At iteration 4 the best fitness is 92.7608825283244']\n",
      "['At iteration 5 the best fitness is 92.7608825283244']\n",
      "['At iteration 6 the best fitness is 92.7608825283244']\n",
      "['At iteration 7 the best fitness is 92.7608825283244']\n",
      "['At iteration 8 the best fitness is 92.7608825283244']\n",
      "['At iteration 9 the best fitness is 92.7608825283244']\n",
      "['At iteration 10 the best fitness is 92.7608825283244']\n",
      "['At iteration 11 the best fitness is 92.7608825283244']\n",
      "['At iteration 12 the best fitness is 92.7608825283244']\n",
      "['At iteration 13 the best fitness is 92.7608825283244']\n",
      "['At iteration 14 the best fitness is 92.7608825283244']\n",
      "['At iteration 15 the best fitness is 92.7608825283244']\n",
      "['At iteration 16 the best fitness is 92.7608825283244']\n",
      "['At iteration 17 the best fitness is 92.7608825283244']\n",
      "['At iteration 18 the best fitness is 92.7608825283244']\n",
      "['At iteration 19 the best fitness is 92.7608825283244']\n",
      "['At iteration 20 the best fitness is 92.7608825283244']\n",
      "{'real': array([11546.05564162, 70461.81590809]), 'discrete': array([0, 1, 0, 1, 0, 0, 1, 1, 1])}\n",
      "[[93  0]\n",
      " [ 0 47]]\n",
      "Test accuracy:  100.0  - Fitness:  88.88888888888889\n",
      "Initializing positions of the individuals in the population...\n",
      "Positions of the individuals in the population successfully initialized!\n",
      "Initial population: {'real': array([[31355.6945941 , 26885.08273512],\n",
      "       [41886.39194467, 64489.69277478],\n",
      "       [99077.46779036, 18578.19016598],\n",
      "       [11709.59142467, 51731.72377331],\n",
      "       [52923.41943059, 30024.82854618]]), 'discrete': array([[1, 1, 1, 0, 1, 0, 1, 0, 1],\n",
      "       [0, 1, 0, 0, 0, 0, 0, 1, 0],\n",
      "       [1, 1, 1, 0, 0, 0, 0, 0, 0],\n",
      "       [0, 1, 1, 0, 0, 0, 1, 0, 0],\n",
      "       [1, 0, 1, 1, 0, 0, 0, 0, 1]])}\n",
      "GSA is optimizing  \"get_fitness\"\n",
      "['At iteration 1 the best fitness is 92.83641423176307']\n",
      "['At iteration 2 the best fitness is 92.83641423176307']\n",
      "['At iteration 3 the best fitness is 92.83641423176307']\n",
      "['At iteration 4 the best fitness is 92.83641423176307']\n",
      "['At iteration 5 the best fitness is 92.83641423176307']\n",
      "['At iteration 6 the best fitness is 92.83641423176307']\n",
      "['At iteration 7 the best fitness is 92.83641423176307']\n",
      "['At iteration 8 the best fitness is 92.83641423176307']\n",
      "['At iteration 9 the best fitness is 92.83641423176307']\n",
      "['At iteration 10 the best fitness is 92.83641423176307']\n",
      "['At iteration 11 the best fitness is 92.83641423176307']\n",
      "['At iteration 12 the best fitness is 92.83641423176307']\n",
      "['At iteration 13 the best fitness is 92.83641423176307']\n",
      "['At iteration 14 the best fitness is 92.83641423176307']\n",
      "['At iteration 15 the best fitness is 92.83641423176307']\n",
      "['At iteration 16 the best fitness is 92.83641423176307']\n",
      "['At iteration 17 the best fitness is 92.83641423176307']\n",
      "['At iteration 18 the best fitness is 92.83641423176307']\n",
      "['At iteration 19 the best fitness is 92.83641423176307']\n",
      "['At iteration 20 the best fitness is 92.83641423176307']\n",
      "{'real': array([41931.46957555, 64284.90380607]), 'discrete': array([1, 0, 0, 0, 0, 0, 1, 0, 0])}\n",
      "[[90  4]\n",
      " [ 4 42]]\n",
      "Test accuracy:  94.28571428571428  - Fitness:  90.98412698412699\n",
      "Initializing positions of the individuals in the population...\n",
      "Positions of the individuals in the population successfully initialized!\n",
      "Initial population: {'real': array([[20635.43527094,  5013.77332527],\n",
      "       [ 4231.60693633, 80799.76471594],\n",
      "       [79243.661776  , 77905.84795105],\n",
      "       [10460.60698014, 96145.74242119],\n",
      "       [79035.83132247, 47557.31475902]]), 'discrete': array([[1, 1, 0, 1, 1, 0, 0, 1, 1],\n",
      "       [0, 1, 0, 0, 1, 1, 0, 0, 1],\n",
      "       [0, 1, 1, 0, 1, 0, 0, 1, 1],\n",
      "       [0, 0, 1, 0, 1, 1, 0, 0, 0],\n",
      "       [1, 1, 1, 0, 1, 0, 0, 0, 1]])}\n",
      "GSA is optimizing  \"get_fitness\"\n",
      "['At iteration 1 the best fitness is 92.90399522957662']\n",
      "['At iteration 2 the best fitness is 92.90399522957662']\n",
      "['At iteration 3 the best fitness is 92.90399522957662']\n",
      "['At iteration 4 the best fitness is 92.90399522957662']\n",
      "['At iteration 5 the best fitness is 92.90399522957662']\n",
      "['At iteration 6 the best fitness is 92.90399522957662']\n",
      "['At iteration 7 the best fitness is 92.90399522957662']\n",
      "['At iteration 8 the best fitness is 92.90399522957662']\n",
      "['At iteration 9 the best fitness is 92.90399522957662']\n",
      "['At iteration 10 the best fitness is 92.90399522957662']\n",
      "['At iteration 11 the best fitness is 92.90399522957662']\n",
      "['At iteration 12 the best fitness is 92.90399522957662']\n",
      "['At iteration 13 the best fitness is 92.90399522957662']\n",
      "['At iteration 14 the best fitness is 92.90399522957662']\n",
      "['At iteration 15 the best fitness is 92.90399522957662']\n",
      "['At iteration 16 the best fitness is 92.90399522957662']\n",
      "['At iteration 17 the best fitness is 92.90399522957662']\n",
      "['At iteration 18 the best fitness is 92.90399522957662']\n",
      "['At iteration 19 the best fitness is 92.90399522957662']\n",
      "['At iteration 20 the best fitness is 92.90399522957662']\n",
      "{'real': array([10525.00614092, 96020.82680541]), 'discrete': array([0, 1, 0, 0, 1, 0, 0, 1, 0])}\n",
      "[[92  2]\n",
      " [ 1 45]]\n",
      "Test accuracy:  97.85714285714285  - Fitness:  91.61904761904762\n",
      "Initializing positions of the individuals in the population...\n",
      "Positions of the individuals in the population successfully initialized!\n",
      "Initial population: {'real': array([[68928.71537198, 37225.393382  ],\n",
      "       [96264.40375621,   483.99830038],\n",
      "       [81271.28725811, 64867.23858666],\n",
      "       [ 6968.17884765, 90687.70665085],\n",
      "       [39106.52862966, 71461.5336889 ]]), 'discrete': array([[0, 0, 1, 1, 1, 1, 1, 1, 1],\n",
      "       [1, 1, 1, 1, 0, 1, 0, 1, 0],\n",
      "       [0, 0, 1, 0, 0, 1, 0, 1, 1],\n",
      "       [0, 0, 0, 1, 1, 1, 1, 1, 1],\n",
      "       [1, 0, 1, 0, 1, 0, 0, 1, 0]])}\n",
      "GSA is optimizing  \"get_fitness\"\n",
      "['At iteration 1 the best fitness is 90.82488570860664']\n",
      "['At iteration 2 the best fitness is 91.40528721924072']\n",
      "['At iteration 3 the best fitness is 91.75909361955874']\n",
      "['At iteration 4 the best fitness is 92.18843172331546']\n",
      "['At iteration 5 the best fitness is 92.18843172331546']\n",
      "['At iteration 6 the best fitness is 92.18843172331546']\n",
      "['At iteration 7 the best fitness is 92.18843172331546']\n",
      "['At iteration 8 the best fitness is 92.90399522957662']\n",
      "['At iteration 9 the best fitness is 92.90399522957662']\n",
      "['At iteration 10 the best fitness is 92.90399522957662']\n",
      "['At iteration 11 the best fitness is 92.90399522957662']\n",
      "['At iteration 12 the best fitness is 92.90399522957662']\n",
      "['At iteration 13 the best fitness is 92.90399522957662']\n",
      "['At iteration 14 the best fitness is 92.90399522957662']\n",
      "['At iteration 15 the best fitness is 92.97952693301531']\n",
      "['At iteration 16 the best fitness is 92.97952693301531']\n",
      "['At iteration 17 the best fitness is 92.97952693301531']\n",
      "['At iteration 18 the best fitness is 92.97952693301531']\n",
      "['At iteration 19 the best fitness is 92.97952693301531']\n",
      "['At iteration 20 the best fitness is 92.97952693301531']\n",
      "{'real': array([ 7178.97378695, 90536.55521585]), 'discrete': array([0, 0, 1, 1, 0, 1, 1, 1, 1])}\n",
      "[[93  0]\n",
      " [ 0 47]]\n",
      "Test accuracy:  100.0  - Fitness:  86.66666666666667\n",
      "Initializing positions of the individuals in the population...\n",
      "Positions of the individuals in the population successfully initialized!\n",
      "Initial population: {'real': array([[ 2874.2543695 , 55208.81541668],\n",
      "       [58963.2151622 , 23435.90002099],\n",
      "       [90985.86749771, 19188.27373841],\n",
      "       [72680.49686226, 86331.37836268],\n",
      "       [92885.98519169, 85665.2022204 ]]), 'discrete': array([[1, 0, 1, 1, 0, 1, 0, 1, 1],\n",
      "       [0, 1, 1, 1, 0, 0, 1, 0, 1],\n",
      "       [1, 1, 1, 0, 0, 1, 1, 1, 1],\n",
      "       [1, 1, 1, 1, 1, 1, 0, 0, 1],\n",
      "       [0, 1, 0, 0, 0, 0, 0, 1, 1]])}\n",
      "GSA is optimizing  \"get_fitness\"\n",
      "['At iteration 1 the best fitness is 90.75730471079308']\n",
      "['At iteration 2 the best fitness is 90.75730471079308']\n",
      "['At iteration 3 the best fitness is 90.75730471079308']\n",
      "['At iteration 4 the best fitness is 90.9679984098589']\n",
      "['At iteration 5 the best fitness is 90.9679984098589']\n",
      "['At iteration 6 the best fitness is 90.9679984098589']\n",
      "['At iteration 7 the best fitness is 90.9679984098589']\n",
      "['At iteration 8 the best fitness is 90.9679984098589']\n",
      "['At iteration 9 the best fitness is 90.9679984098589']\n",
      "['At iteration 10 the best fitness is 90.9679984098589']\n",
      "['At iteration 11 the best fitness is 90.9679984098589']\n",
      "['At iteration 12 the best fitness is 91.04353011329758']\n",
      "['At iteration 13 the best fitness is 91.04353011329758']\n",
      "['At iteration 14 the best fitness is 91.04353011329758']\n",
      "['At iteration 15 the best fitness is 91.04353011329758']\n",
      "['At iteration 16 the best fitness is 91.04353011329758']\n",
      "['At iteration 17 the best fitness is 91.11906181673623']\n",
      "['At iteration 18 the best fitness is 91.11906181673623']\n",
      "['At iteration 19 the best fitness is 91.11906181673623']\n",
      "['At iteration 20 the best fitness is 91.11906181673623']\n",
      "{'real': array([90873.98291023, 19312.03049315]), 'discrete': array([1, 0, 1, 0, 1, 1, 1, 1, 1])}\n",
      "[[92  0]\n",
      " [ 0 48]]\n",
      "Test accuracy:  100.0  - Fitness:  84.44444444444444\n",
      "Initializing positions of the individuals in the population...\n",
      "Positions of the individuals in the population successfully initialized!\n",
      "Initial population: {'real': array([[49096.74778999, 16599.02604728],\n",
      "       [75324.73083526, 29168.77339172],\n",
      "       [93422.39996664, 25026.96853529],\n",
      "       [95896.16477052, 20567.00144332],\n",
      "       [15818.13847502, 11461.46385817]]), 'discrete': array([[1, 0, 1, 1, 0, 1, 1, 0, 0],\n",
      "       [0, 0, 1, 0, 1, 1, 1, 1, 1],\n",
      "       [0, 1, 0, 0, 1, 1, 1, 1, 0],\n",
      "       [1, 1, 0, 0, 0, 1, 0, 1, 0],\n",
      "       [0, 0, 1, 1, 1, 0, 0, 0, 1]])}\n",
      "GSA is optimizing  \"get_fitness\"\n",
      "['At iteration 1 the best fitness is 91.11111111111111']\n",
      "['At iteration 2 the best fitness is 92.18843172331546']\n",
      "['At iteration 3 the best fitness is 92.18843172331546']\n",
      "['At iteration 4 the best fitness is 92.18843172331546']\n",
      "['At iteration 5 the best fitness is 92.18843172331546']\n",
      "['At iteration 6 the best fitness is 92.33154442456768']\n",
      "['At iteration 7 the best fitness is 92.33154442456768']\n",
      "['At iteration 8 the best fitness is 92.33154442456768']\n",
      "['At iteration 9 the best fitness is 92.33154442456768']\n",
      "['At iteration 10 the best fitness is 92.33154442456768']\n",
      "['At iteration 11 the best fitness is 92.90399522957662']\n",
      "['At iteration 12 the best fitness is 92.90399522957662']\n",
      "['At iteration 13 the best fitness is 92.90399522957662']\n",
      "['At iteration 14 the best fitness is 92.90399522957662']\n",
      "['At iteration 15 the best fitness is 92.90399522957662']\n",
      "['At iteration 16 the best fitness is 92.90399522957662']\n",
      "['At iteration 17 the best fitness is 92.90399522957662']\n",
      "['At iteration 18 the best fitness is 92.90399522957662']\n",
      "['At iteration 19 the best fitness is 92.90399522957662']\n",
      "['At iteration 20 the best fitness is 92.90399522957662']\n",
      "{'real': array([16062.54644983, 11501.46932772]), 'discrete': array([1, 1, 0, 0, 1, 1, 0, 0, 0])}\n",
      "[[90  0]\n",
      " [ 0 50]]\n",
      "Test accuracy:  100.0  - Fitness:  91.11111111111111\n",
      "Initializing positions of the individuals in the population...\n",
      "Positions of the individuals in the population successfully initialized!\n",
      "Initial population: {'real': array([[ 6299.34403493, 28721.56536915],\n",
      "       [81894.23570033, 85043.37015437],\n",
      "       [12176.92892041, 68120.57630907],\n",
      "       [17104.97297812, 57074.05134254],\n",
      "       [12851.85040536, 21796.3936298 ]]), 'discrete': array([[0, 1, 0, 1, 0, 1, 1, 1, 0],\n",
      "       [0, 0, 0, 1, 1, 1, 1, 1, 0],\n",
      "       [0, 1, 1, 0, 0, 0, 0, 1, 1],\n",
      "       [1, 1, 1, 0, 0, 0, 0, 1, 0],\n",
      "       [1, 1, 0, 0, 0, 1, 1, 1, 1]])}\n",
      "GSA is optimizing  \"get_fitness\"\n",
      "['At iteration 1 the best fitness is 90.9679984098589']\n",
      "['At iteration 2 the best fitness is 90.9679984098589']\n",
      "['At iteration 3 the best fitness is 92.7608825283244']\n",
      "['At iteration 4 the best fitness is 92.7608825283244']\n",
      "['At iteration 5 the best fitness is 92.7608825283244']\n",
      "['At iteration 6 the best fitness is 92.7608825283244']\n",
      "['At iteration 7 the best fitness is 92.7608825283244']\n",
      "['At iteration 8 the best fitness is 92.7608825283244']\n",
      "['At iteration 9 the best fitness is 92.7608825283244']\n",
      "['At iteration 10 the best fitness is 92.90399522957662']\n",
      "['At iteration 11 the best fitness is 92.90399522957662']\n",
      "['At iteration 12 the best fitness is 92.90399522957662']\n",
      "['At iteration 13 the best fitness is 92.90399522957662']\n",
      "['At iteration 14 the best fitness is 92.90399522957662']\n",
      "['At iteration 15 the best fitness is 92.90399522957662']\n",
      "['At iteration 16 the best fitness is 92.90399522957662']\n",
      "['At iteration 17 the best fitness is 92.90399522957662']\n",
      "['At iteration 18 the best fitness is 92.90399522957662']\n",
      "['At iteration 19 the best fitness is 92.90399522957662']\n",
      "['At iteration 20 the best fitness is 92.90399522957662']\n",
      "{'real': array([81611.99999676, 84967.50248772]), 'discrete': array([0, 0, 0, 0, 1, 0, 0, 1, 1])}\n",
      "[[82  3]\n",
      " [ 5 50]]\n",
      "Test accuracy:  94.28571428571428  - Fitness:  88.76190476190476\n",
      "Initializing positions of the individuals in the population...\n",
      "Positions of the individuals in the population successfully initialized!\n",
      "Initial population: {'real': array([[51198.24976969, 32156.22417522],\n",
      "       [78969.20779445, 26924.72808846],\n",
      "       [56064.64853277, 35548.82444723],\n",
      "       [29679.29634316,  6994.5211931 ],\n",
      "       [80893.61554904, 94369.16740348]]), 'discrete': array([[0, 1, 0, 0, 1, 1, 1, 1, 1],\n",
      "       [0, 1, 1, 1, 0, 0, 0, 1, 1],\n",
      "       [1, 1, 0, 1, 1, 0, 1, 1, 0],\n",
      "       [0, 1, 1, 0, 1, 1, 1, 1, 0],\n",
      "       [1, 1, 0, 1, 0, 1, 0, 1, 0]])}\n",
      "GSA is optimizing  \"get_fitness\"\n",
      "['At iteration 1 the best fitness is 88.88888888888889']\n",
      "['At iteration 2 the best fitness is 90.82488570860664']\n",
      "['At iteration 3 the best fitness is 90.82488570860664']\n",
      "['At iteration 4 the best fitness is 90.82488570860664']\n",
      "['At iteration 5 the best fitness is 90.82488570860664']\n",
      "['At iteration 6 the best fitness is 90.82488570860664']\n",
      "['At iteration 7 the best fitness is 90.82488570860664']\n",
      "['At iteration 8 the best fitness is 90.82488570860664']\n",
      "['At iteration 9 the best fitness is 90.82488570860664']\n",
      "['At iteration 10 the best fitness is 90.82488570860664']\n",
      "['At iteration 11 the best fitness is 90.82488570860664']\n",
      "['At iteration 12 the best fitness is 90.82488570860664']\n",
      "['At iteration 13 the best fitness is 90.82488570860664']\n",
      "['At iteration 14 the best fitness is 90.82488570860664']\n",
      "['At iteration 15 the best fitness is 90.82488570860664']\n",
      "['At iteration 16 the best fitness is 92.18843172331546']\n",
      "['At iteration 17 the best fitness is 92.7608825283244']\n",
      "['At iteration 18 the best fitness is 92.7608825283244']\n",
      "['At iteration 19 the best fitness is 92.7608825283244']\n",
      "['At iteration 20 the best fitness is 92.7608825283244']\n",
      "{'real': array([51352.91098389, 32226.27924004]), 'discrete': array([0, 1, 0, 0, 0, 1, 1, 1, 0])}\n",
      "[[95  0]\n",
      " [ 0 45]]\n",
      "Test accuracy:  100.0  - Fitness:  91.11111111111111\n"
     ]
    }
   ],
   "source": [
    "seed(22)\n",
    "\n",
    "wa = 0.8\n",
    "wf = 0.2\n",
    "\n",
    "train_df, test_df = run_gsa(chaotic_constant=True,\n",
    "                            runs=10,\n",
    "                            population_size=5,\n",
    "                            iterations=20)"
   ],
   "metadata": {
    "collapsed": false,
    "ExecuteTime": {
     "end_time": "2024-03-12T22:53:39.765608Z",
     "start_time": "2024-03-12T22:53:32.499621Z"
    }
   },
   "id": "6ce233fb1a6dd1f9",
   "execution_count": 76
  },
  {
   "cell_type": "code",
   "outputs": [
    {
     "data": {
      "text/plain": "    run  Iteration    Fitness  ExecutionTime                     Discrete  \\\n0     0          0  90.538660       0.054496  [0, 1, 0, 0, 0, 0, 1, 1, 0]   \n1     0          1  91.834625       0.084667  [1, 0, 1, 0, 0, 1, 1, 0, 0]   \n2     0          2  91.834625       0.125965  [1, 0, 1, 0, 0, 1, 1, 0, 0]   \n3     0          3  91.834625       0.156746  [1, 0, 1, 0, 0, 1, 1, 0, 0]   \n4     0          4  91.834625       0.209322  [1, 0, 1, 0, 0, 1, 1, 0, 0]   \n..  ...        ...        ...            ...                          ...   \n15    9         15  92.188432       0.664155  [0, 1, 0, 1, 0, 1, 1, 1, 1]   \n16    9         16  92.760883       0.698864  [0, 1, 0, 0, 0, 1, 1, 1, 0]   \n17    9         17  92.760883       0.732695  [0, 1, 0, 0, 0, 1, 1, 1, 0]   \n18    9         18  92.760883       0.769557  [0, 1, 0, 0, 0, 1, 1, 1, 0]   \n19    9         19  92.760883       0.805355  [0, 1, 0, 0, 0, 1, 1, 1, 0]   \n\n                                       Real   Accuracy  \n0   [41257.245030196726, 92579.60915150182]  99.284436  \n1   [28921.764329181493, 63385.96862583393]  95.348837  \n2   [28921.764329181493, 63385.96862583393]  95.348837  \n3   [28921.764329181493, 63385.96862583393]  95.348837  \n4   [28921.764329181493, 63385.96862583393]  95.348837  \n..                                      ...        ...  \n15   [78865.73497722432, 27031.10231673595]  98.568873  \n16   [51352.91098388982, 32226.27924003705]  99.284436  \n17   [51352.91098388982, 32226.27924003705]  99.284436  \n18   [51352.91098388982, 32226.27924003705]  99.284436  \n19   [51352.91098388982, 32226.27924003705]  99.284436  \n\n[200 rows x 7 columns]",
      "text/html": "<div>\n<style scoped>\n    .dataframe tbody tr th:only-of-type {\n        vertical-align: middle;\n    }\n\n    .dataframe tbody tr th {\n        vertical-align: top;\n    }\n\n    .dataframe thead th {\n        text-align: right;\n    }\n</style>\n<table border=\"1\" class=\"dataframe\">\n  <thead>\n    <tr style=\"text-align: right;\">\n      <th></th>\n      <th>run</th>\n      <th>Iteration</th>\n      <th>Fitness</th>\n      <th>ExecutionTime</th>\n      <th>Discrete</th>\n      <th>Real</th>\n      <th>Accuracy</th>\n    </tr>\n  </thead>\n  <tbody>\n    <tr>\n      <th>0</th>\n      <td>0</td>\n      <td>0</td>\n      <td>90.538660</td>\n      <td>0.054496</td>\n      <td>[0, 1, 0, 0, 0, 0, 1, 1, 0]</td>\n      <td>[41257.245030196726, 92579.60915150182]</td>\n      <td>99.284436</td>\n    </tr>\n    <tr>\n      <th>1</th>\n      <td>0</td>\n      <td>1</td>\n      <td>91.834625</td>\n      <td>0.084667</td>\n      <td>[1, 0, 1, 0, 0, 1, 1, 0, 0]</td>\n      <td>[28921.764329181493, 63385.96862583393]</td>\n      <td>95.348837</td>\n    </tr>\n    <tr>\n      <th>2</th>\n      <td>0</td>\n      <td>2</td>\n      <td>91.834625</td>\n      <td>0.125965</td>\n      <td>[1, 0, 1, 0, 0, 1, 1, 0, 0]</td>\n      <td>[28921.764329181493, 63385.96862583393]</td>\n      <td>95.348837</td>\n    </tr>\n    <tr>\n      <th>3</th>\n      <td>0</td>\n      <td>3</td>\n      <td>91.834625</td>\n      <td>0.156746</td>\n      <td>[1, 0, 1, 0, 0, 1, 1, 0, 0]</td>\n      <td>[28921.764329181493, 63385.96862583393]</td>\n      <td>95.348837</td>\n    </tr>\n    <tr>\n      <th>4</th>\n      <td>0</td>\n      <td>4</td>\n      <td>91.834625</td>\n      <td>0.209322</td>\n      <td>[1, 0, 1, 0, 0, 1, 1, 0, 0]</td>\n      <td>[28921.764329181493, 63385.96862583393]</td>\n      <td>95.348837</td>\n    </tr>\n    <tr>\n      <th>...</th>\n      <td>...</td>\n      <td>...</td>\n      <td>...</td>\n      <td>...</td>\n      <td>...</td>\n      <td>...</td>\n      <td>...</td>\n    </tr>\n    <tr>\n      <th>15</th>\n      <td>9</td>\n      <td>15</td>\n      <td>92.188432</td>\n      <td>0.664155</td>\n      <td>[0, 1, 0, 1, 0, 1, 1, 1, 1]</td>\n      <td>[78865.73497722432, 27031.10231673595]</td>\n      <td>98.568873</td>\n    </tr>\n    <tr>\n      <th>16</th>\n      <td>9</td>\n      <td>16</td>\n      <td>92.760883</td>\n      <td>0.698864</td>\n      <td>[0, 1, 0, 0, 0, 1, 1, 1, 0]</td>\n      <td>[51352.91098388982, 32226.27924003705]</td>\n      <td>99.284436</td>\n    </tr>\n    <tr>\n      <th>17</th>\n      <td>9</td>\n      <td>17</td>\n      <td>92.760883</td>\n      <td>0.732695</td>\n      <td>[0, 1, 0, 0, 0, 1, 1, 1, 0]</td>\n      <td>[51352.91098388982, 32226.27924003705]</td>\n      <td>99.284436</td>\n    </tr>\n    <tr>\n      <th>18</th>\n      <td>9</td>\n      <td>18</td>\n      <td>92.760883</td>\n      <td>0.769557</td>\n      <td>[0, 1, 0, 0, 0, 1, 1, 1, 0]</td>\n      <td>[51352.91098388982, 32226.27924003705]</td>\n      <td>99.284436</td>\n    </tr>\n    <tr>\n      <th>19</th>\n      <td>9</td>\n      <td>19</td>\n      <td>92.760883</td>\n      <td>0.805355</td>\n      <td>[0, 1, 0, 0, 0, 1, 1, 1, 0]</td>\n      <td>[51352.91098388982, 32226.27924003705]</td>\n      <td>99.284436</td>\n    </tr>\n  </tbody>\n</table>\n<p>200 rows × 7 columns</p>\n</div>"
     },
     "execution_count": 77,
     "metadata": {},
     "output_type": "execute_result"
    }
   ],
   "source": [
    "train_df"
   ],
   "metadata": {
    "collapsed": false,
    "ExecuteTime": {
     "end_time": "2024-03-12T22:53:40.520015Z",
     "start_time": "2024-03-12T22:53:40.504352Z"
    }
   },
   "id": "8b5de91133a53c87",
   "execution_count": 77
  },
  {
   "cell_type": "code",
   "outputs": [
    {
     "data": {
      "text/plain": "run\n0    [16151.593137440233, 16498.625434554127]\n1     [5084.608549888529, 52622.069562912315]\n2     [11546.055641622996, 70461.81590808874]\n3     [41931.469575547766, 64284.90380606949]\n4     [10525.006140923557, 96020.82680541213]\n5      [7178.973786948577, 90536.55521585481]\n6     [90873.98291023084, 19312.030493154896]\n7    [16062.546449826394, 11501.469327723527]\n8       [81611.99999676137, 84967.5024877211]\n9      [51352.91098388982, 32226.27924003705]\nName: Real, dtype: object"
     },
     "execution_count": 78,
     "metadata": {},
     "output_type": "execute_result"
    }
   ],
   "source": [
    "real_hist = train_df.groupby('run')['Real'].last()\n",
    "real_hist"
   ],
   "metadata": {
    "collapsed": false,
    "ExecuteTime": {
     "end_time": "2024-03-12T22:53:40.975404Z",
     "start_time": "2024-03-12T22:53:40.959940Z"
    }
   },
   "id": "e9d6e5847753dbdc",
   "execution_count": 78
  },
  {
   "cell_type": "code",
   "outputs": [
    {
     "data": {
      "text/plain": "(33.2319, 31.8167)"
     },
     "execution_count": 79,
     "metadata": {},
     "output_type": "execute_result"
    }
   ],
   "source": [
    "gamma_hist = real_hist.apply(lambda x: x[0]/1000)\n",
    "\n",
    "mean_gamma = np.round(gamma_hist.mean(), 4)\n",
    "std_gamma = np.round(gamma_hist.std(), 4)\n",
    "mean_gamma, std_gamma"
   ],
   "metadata": {
    "collapsed": false,
    "ExecuteTime": {
     "end_time": "2024-03-12T22:53:41.623912Z",
     "start_time": "2024-03-12T22:53:41.610015Z"
    }
   },
   "id": "4594407d1d558ffd",
   "execution_count": 79
  },
  {
   "cell_type": "code",
   "outputs": [
    {
     "data": {
      "text/plain": "(53.8432, 32.1937)"
     },
     "execution_count": 80,
     "metadata": {},
     "output_type": "execute_result"
    }
   ],
   "source": [
    "c_hist = real_hist.apply(lambda x: x[1]/1000)\n",
    "\n",
    "mean_c = np.round(c_hist.mean(), 4)\n",
    "std_c = np.round(c_hist.std(), 4)\n",
    "mean_c, std_c"
   ],
   "metadata": {
    "collapsed": false,
    "ExecuteTime": {
     "end_time": "2024-03-12T22:53:42.240904Z",
     "start_time": "2024-03-12T22:53:42.221473Z"
    }
   },
   "id": "ab701b3758b15ccf",
   "execution_count": 80
  },
  {
   "cell_type": "code",
   "outputs": [
    {
     "data": {
      "text/plain": "(4.0, 2.0)"
     },
     "execution_count": 81,
     "metadata": {},
     "output_type": "execute_result"
    }
   ],
   "source": [
    "# Get mean and std of n_features_hist\n",
    "n_features_hist = train_df.groupby('run')['Discrete'].last()\n",
    "n_feat_hist = n_features_hist.apply(lambda x: sum(x))\n",
    "mean_n_feat = np.round(n_feat_hist.mean())\n",
    "std_n_feat = np.round(n_feat_hist.std())\n",
    "\n",
    "mean_n_feat, std_n_feat"
   ],
   "metadata": {
    "collapsed": false,
    "ExecuteTime": {
     "end_time": "2024-03-12T22:53:59.729762Z",
     "start_time": "2024-03-12T22:53:59.703074Z"
    }
   },
   "id": "d6dd68d767af09f1",
   "execution_count": 81
  },
  {
   "cell_type": "code",
   "outputs": [
    {
     "data": {
      "text/plain": "(97.8175, 1.7945)"
     },
     "execution_count": 82,
     "metadata": {},
     "output_type": "execute_result"
    }
   ],
   "source": [
    "# Group by run, get last value of each group in Accuracy column creating a pd.Series\n",
    "accuracy_hist = train_df.groupby('run')['Accuracy'].last()\n",
    "\n",
    "# Get mean and std of accuracy_hist\n",
    "mean_accuracy = np.round(accuracy_hist.mean(), 4)\n",
    "std_accuracy = np.round(accuracy_hist.std(), 4)\n",
    "mean_accuracy, std_accuracy"
   ],
   "metadata": {
    "collapsed": false,
    "ExecuteTime": {
     "end_time": "2024-03-12T22:54:07.089528Z",
     "start_time": "2024-03-12T22:54:07.059205Z"
    }
   },
   "id": "c8d237105a470f97",
   "execution_count": 82
  },
  {
   "cell_type": "code",
   "outputs": [
    {
     "data": {
      "text/plain": "(98.2143, 2.3869)"
     },
     "execution_count": 83,
     "metadata": {},
     "output_type": "execute_result"
    }
   ],
   "source": [
    "test_accuracy_hist = test_df['accuracy']\n",
    "\n",
    "mean_test_accuracy = np.round(test_accuracy_hist.mean(), 4)\n",
    "std_test_accuracy = np.round(test_accuracy_hist.std(), 4)\n",
    "mean_test_accuracy, std_test_accuracy"
   ],
   "metadata": {
    "collapsed": false,
    "ExecuteTime": {
     "end_time": "2024-03-12T22:54:07.607174Z",
     "start_time": "2024-03-12T22:54:07.586106Z"
    }
   },
   "id": "86baa9c879975a3a",
   "execution_count": 83
  },
  {
   "cell_type": "code",
   "outputs": [],
   "source": [
    "# Save train and test df with name of dataset\n",
    "\n",
    "save_path = \"../data/output\"\n",
    "if not os.path.exists(save_path):\n",
    "    os.makedirs(save_path)\n",
    "    \n",
    "train_df.to_csv(f\"{save_path}/{widget_opt.value}_train_df.csv\", index=False)\n",
    "test_df.to_csv(f\"{save_path}/{widget_opt.value}_test_df.csv\", index=False)"
   ],
   "metadata": {
    "collapsed": false,
    "ExecuteTime": {
     "end_time": "2024-03-12T22:48:40.054006Z",
     "start_time": "2024-03-12T22:48:40.030988Z"
    }
   },
   "id": "bae5f815e0a28bb2",
   "execution_count": 63
  },
  {
   "cell_type": "code",
   "execution_count": 64,
   "id": "bdf875026d9d4f13",
   "metadata": {
    "collapsed": false,
    "ExecuteTime": {
     "end_time": "2024-03-12T22:48:40.791020Z",
     "start_time": "2024-03-12T22:48:40.766922Z"
    }
   },
   "outputs": [],
   "source": [
    "save_path = \"../data/output\"\n",
    "train_dfs = {dataset: pd.read_csv(f\"{save_path}/{dataset}_train_df.csv\") for dataset in uci_datasets}\n",
    "test_dfs = {dataset: pd.read_csv(f\"{save_path}/{dataset}_test_df.csv\") for dataset in uci_datasets}"
   ]
  },
  {
   "cell_type": "code",
   "outputs": [
    {
     "data": {
      "text/plain": "   run    accuracy    fitness    TP   FP    TN   FN\n0  0.0   99.285714  92.761905  97.0  1.0  42.0  0.0\n1  1.0   96.428571  92.698413  82.0  1.0  53.0  4.0\n2  2.0  100.000000  88.888889  93.0  0.0  47.0  0.0\n3  3.0   94.285714  90.984127  90.0  4.0  42.0  4.0\n4  4.0   97.857143  91.619048  92.0  2.0  45.0  1.0\n5  5.0  100.000000  86.666667  93.0  0.0  47.0  0.0\n6  6.0  100.000000  84.444444  92.0  0.0  48.0  0.0\n7  7.0  100.000000  91.111111  90.0  0.0  50.0  0.0\n8  8.0   94.285714  88.761905  82.0  3.0  50.0  5.0\n9  9.0  100.000000  91.111111  95.0  0.0  45.0  0.0",
      "text/html": "<div>\n<style scoped>\n    .dataframe tbody tr th:only-of-type {\n        vertical-align: middle;\n    }\n\n    .dataframe tbody tr th {\n        vertical-align: top;\n    }\n\n    .dataframe thead th {\n        text-align: right;\n    }\n</style>\n<table border=\"1\" class=\"dataframe\">\n  <thead>\n    <tr style=\"text-align: right;\">\n      <th></th>\n      <th>run</th>\n      <th>accuracy</th>\n      <th>fitness</th>\n      <th>TP</th>\n      <th>FP</th>\n      <th>TN</th>\n      <th>FN</th>\n    </tr>\n  </thead>\n  <tbody>\n    <tr>\n      <th>0</th>\n      <td>0.0</td>\n      <td>99.285714</td>\n      <td>92.761905</td>\n      <td>97.0</td>\n      <td>1.0</td>\n      <td>42.0</td>\n      <td>0.0</td>\n    </tr>\n    <tr>\n      <th>1</th>\n      <td>1.0</td>\n      <td>96.428571</td>\n      <td>92.698413</td>\n      <td>82.0</td>\n      <td>1.0</td>\n      <td>53.0</td>\n      <td>4.0</td>\n    </tr>\n    <tr>\n      <th>2</th>\n      <td>2.0</td>\n      <td>100.000000</td>\n      <td>88.888889</td>\n      <td>93.0</td>\n      <td>0.0</td>\n      <td>47.0</td>\n      <td>0.0</td>\n    </tr>\n    <tr>\n      <th>3</th>\n      <td>3.0</td>\n      <td>94.285714</td>\n      <td>90.984127</td>\n      <td>90.0</td>\n      <td>4.0</td>\n      <td>42.0</td>\n      <td>4.0</td>\n    </tr>\n    <tr>\n      <th>4</th>\n      <td>4.0</td>\n      <td>97.857143</td>\n      <td>91.619048</td>\n      <td>92.0</td>\n      <td>2.0</td>\n      <td>45.0</td>\n      <td>1.0</td>\n    </tr>\n    <tr>\n      <th>5</th>\n      <td>5.0</td>\n      <td>100.000000</td>\n      <td>86.666667</td>\n      <td>93.0</td>\n      <td>0.0</td>\n      <td>47.0</td>\n      <td>0.0</td>\n    </tr>\n    <tr>\n      <th>6</th>\n      <td>6.0</td>\n      <td>100.000000</td>\n      <td>84.444444</td>\n      <td>92.0</td>\n      <td>0.0</td>\n      <td>48.0</td>\n      <td>0.0</td>\n    </tr>\n    <tr>\n      <th>7</th>\n      <td>7.0</td>\n      <td>100.000000</td>\n      <td>91.111111</td>\n      <td>90.0</td>\n      <td>0.0</td>\n      <td>50.0</td>\n      <td>0.0</td>\n    </tr>\n    <tr>\n      <th>8</th>\n      <td>8.0</td>\n      <td>94.285714</td>\n      <td>88.761905</td>\n      <td>82.0</td>\n      <td>3.0</td>\n      <td>50.0</td>\n      <td>5.0</td>\n    </tr>\n    <tr>\n      <th>9</th>\n      <td>9.0</td>\n      <td>100.000000</td>\n      <td>91.111111</td>\n      <td>95.0</td>\n      <td>0.0</td>\n      <td>45.0</td>\n      <td>0.0</td>\n    </tr>\n  </tbody>\n</table>\n</div>"
     },
     "execution_count": 65,
     "metadata": {},
     "output_type": "execute_result"
    }
   ],
   "source": [
    "test_dfs[uci_datasets[0]]"
   ],
   "metadata": {
    "collapsed": false,
    "ExecuteTime": {
     "end_time": "2024-03-12T22:48:41.360351Z",
     "start_time": "2024-03-12T22:48:41.340626Z"
    }
   },
   "id": "c78c8823df2fdc38",
   "execution_count": 65
  },
  {
   "cell_type": "code",
   "outputs": [],
   "source": [
    "import matplotlib.pyplot as plt\n",
    "import matplotlib.gridspec as gridspec\n",
    "\n",
    "\n",
    "def subplots_centered(nrows, ncols, figsize, nfigs):\n",
    "    \"\"\"\n",
    "    Modification of matplotlib plt.subplots(),\n",
    "    useful when some subplots are empty.\n",
    "    \n",
    "    It returns a grid where the plots\n",
    "    in the **last** row are centered.\n",
    "    \n",
    "    Inputs\n",
    "    ------\n",
    "        nrows, ncols, figsize: same as plt.subplots()\n",
    "        nfigs: real number of figures\n",
    "    \"\"\"\n",
    "    assert nfigs < nrows * ncols, \"No empty subplots, use normal plt.subplots() instead\"\n",
    "    \n",
    "    fig = plt.figure(figsize=figsize)\n",
    "    axs = []\n",
    "    \n",
    "    m = nfigs % ncols\n",
    "    m = range(1, ncols+1)[-m]  # subdivision of columns\n",
    "    gs = gridspec.GridSpec(nrows, m*ncols)\n",
    "\n",
    "    for i in range(0, nfigs):\n",
    "        row = i // ncols\n",
    "        col = i % ncols\n",
    "\n",
    "        if row == nrows-1: # center only last row\n",
    "            off = int(m * (ncols - nfigs % ncols) / 2)\n",
    "        else:\n",
    "            off = 0\n",
    "\n",
    "        ax = plt.subplot(gs[row, m*col + off : m*(col+1) + off])\n",
    "        axs.append(ax)\n",
    "        \n",
    "    return fig, axs"
   ],
   "metadata": {
    "collapsed": false,
    "ExecuteTime": {
     "end_time": "2024-03-12T22:48:42.147193Z",
     "start_time": "2024-03-12T22:48:42.124596Z"
    }
   },
   "id": "59c3387b9267e2cd",
   "execution_count": 66
  },
  {
   "cell_type": "code",
   "outputs": [
    {
     "name": "stderr",
     "output_type": "stream",
     "text": [
      "/var/folders/_n/lz98rzln403f9jgxhtvhf_wr0000gn/T/ipykernel_19604/1321591208.py:15: FutureWarning: Series.__getitem__ treating keys as positions is deprecated. In a future version, integer keys will always be treated as labels (consistent with DataFrame behavior). To access a value by position, use `ser.iloc[pos]`\n",
      "  ax.text(j, i, f\"{int(mc_mean[i, j])}\\n±{std_series[i * 2 + j]:.2f}\\n({pctg} %)\",\n",
      "/var/folders/_n/lz98rzln403f9jgxhtvhf_wr0000gn/T/ipykernel_19604/1321591208.py:15: FutureWarning: Series.__getitem__ treating keys as positions is deprecated. In a future version, integer keys will always be treated as labels (consistent with DataFrame behavior). To access a value by position, use `ser.iloc[pos]`\n",
      "  ax.text(j, i, f\"{int(mc_mean[i, j])}\\n±{std_series[i * 2 + j]:.2f}\\n({pctg} %)\",\n",
      "/var/folders/_n/lz98rzln403f9jgxhtvhf_wr0000gn/T/ipykernel_19604/1321591208.py:15: FutureWarning: Series.__getitem__ treating keys as positions is deprecated. In a future version, integer keys will always be treated as labels (consistent with DataFrame behavior). To access a value by position, use `ser.iloc[pos]`\n",
      "  ax.text(j, i, f\"{int(mc_mean[i, j])}\\n±{std_series[i * 2 + j]:.2f}\\n({pctg} %)\",\n"
     ]
    },
    {
     "data": {
      "text/plain": "<Figure size 1000x1000 with 3 Axes>",
      "image/png": "[encoded data removed]"
     },
     "metadata": {},
     "output_type": "display_data"
    }
   ],
   "source": [
    "import pandas as pd\n",
    "import numpy as np\n",
    "import matplotlib.pyplot as plt\n",
    "\n",
    "def get_conf_plot(ax, dataset, mc_mean, std_series, clases):\n",
    "    ax.set_facecolor('red')\n",
    "    cax = ax.matshow(mc_mean, cmap=plt.cm.Blues)\n",
    "    \n",
    "    ax.set_title(f\"{dataset}\", fontsize=20, fontweight='bold')\n",
    "    total = sum(mc_mean.flatten())\n",
    "    thresh = mc_mean.max() / 2.\n",
    "    for i in range(2):\n",
    "        for j in range(2):\n",
    "            pctg = round(round(mc_mean[i, j]) / total * 100)\n",
    "            ax.text(j, i, f\"{int(mc_mean[i, j])}\\n±{std_series[i * 2 + j]:.2f}\\n({pctg} %)\",\n",
    "                    ha='center', va='center', fontsize=18,\n",
    "                    color=\"white\" if  mc_mean[i, j] == 0 or mc_mean[i, j] > thresh else \"black\")\n",
    "    \n",
    "    ax.grid(False)\n",
    "    ax.set_xticks(range(2), clases, fontsize=16)\n",
    "    ax.set_yticks(range(2), clases, rotation=90, fontsize=16)\n",
    "    ax.set_xlabel('Predictions', fontsize=20)\n",
    "    ax.set_ylabel('True labels', fontsize=20)\n",
    "    \n",
    "    # cbar = plt.colorbar(cax)\n",
    "    # cbar.set_label('Frequency')\n",
    "\n",
    "clases = [['Malignant', 'Benign'], ['Poisonous', 'Edible'], ['Spam', 'No spam']]\n",
    "columns = ['TN', 'FP', 'FN', 'TP']\n",
    "\n",
    "fig, axs = subplots_centered(nrows=2, ncols=2, figsize=(10,10), nfigs=3)\n",
    "plt.tight_layout(pad=4.0)\n",
    "\n",
    "positions = [(0, 0), (1, 0), (1, 1)]\n",
    "for i, dataset in enumerate(uci_datasets):\n",
    "    df_conf = test_dfs[dataset][columns]\n",
    "    \n",
    "    mean_series = df_conf.mean()\n",
    "    std_series = df_conf.std()\n",
    "\n",
    "    mc_mean = mean_series.values.reshape(2, 2)\n",
    "    get_conf_plot(axs[i], dataset, mc_mean, std_series, clases[i])\n",
    "\n",
    "fig.suptitle('Confusion matrices', fontsize=20, fontweight='bold', y=1.04)\n",
    "plt.show()\n",
    "\n",
    "fig.savefig(\"../data/output/confusion_matrices.png\", dpi=300, bbox_inches='tight')"
   ],
   "metadata": {
    "collapsed": false,
    "ExecuteTime": {
     "end_time": "2024-03-12T22:52:04.738922Z",
     "start_time": "2024-03-12T22:52:03.839495Z"
    }
   },
   "id": "279cdfe0dfc54201",
   "execution_count": 71
  },
  {
   "cell_type": "code",
   "outputs": [],
   "source": [],
   "metadata": {
    "collapsed": false
   },
   "id": "4e0a05e25700671b"
  }
 ],
 "metadata": {
  "kernelspec": {
   "display_name": "Python 3 (ipykernel)",
   "language": "python",
   "name": "python3"
  },
  "language_info": {
   "codemirror_mode": {
    "name": "ipython",
    "version": 3
   },
   "file_extension": ".py",
   "mimetype": "text/x-python",
   "name": "python",
   "nbconvert_exporter": "python",
   "pygments_lexer": "ipython3",
   "version": "3.9.6"
  }
 },
 "nbformat": 4,
 "nbformat_minor": 5
}
