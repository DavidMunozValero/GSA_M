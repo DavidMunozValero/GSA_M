{
 "cells": [
  {
   "cell_type": "markdown",
   "source": [
    "# Infraestructure Manager revenue maximization with GSA"
   ],
   "metadata": {
    "collapsed": false
   },
   "id": "332c3166a53e9a5a"
  },
  {
   "cell_type": "markdown",
   "source": [
    "## 0. Load libraries"
   ],
   "metadata": {
    "collapsed": false
   },
   "id": "7b4fe385be61b35a"
  },
  {
   "cell_type": "code",
   "outputs": [],
   "source": [
    "%load_ext autoreload\n",
    "%autoreload 2\n",
    "\n",
    "import numpy as np\n",
    "\n",
    "from benchmarks.railway import Solution, RevenueMaximization\n",
    "from benchmarks.generator import get_schedule_request, get_revenue_behaviour\n",
    "from src.entities import GSA"
   ],
   "metadata": {
    "collapsed": false,
    "ExecuteTime": {
     "end_time": "2024-03-20T09:22:31.884174Z",
     "start_time": "2024-03-20T09:22:31.857207Z"
    }
   },
   "id": "c3cc59d5610d418",
   "execution_count": 1
  },
  {
   "cell_type": "markdown",
   "source": [
    "## 1. Generate service requests\n",
    "\n",
    "As an example, we will use the Spanish south high-speed railway corridor.\n",
    "\n"
   ],
   "metadata": {
    "collapsed": false
   },
   "id": "3541711d59d51280"
  },
  {
   "cell_type": "code",
   "outputs": [],
   "source": [
    "south_corridor =   {\"MAD\": {\n",
    "                        \"CIU\": {\n",
    "                            \"COR\": {\n",
    "                                \"SEV\": {\n",
    "                                    \"CAD\": {}\n",
    "                                       },\n",
    "                                \"PGE\": {\n",
    "                                    \"ANT\": {\n",
    "                                        \"GRA\": {},\n",
    "                                        \"MAL\": {}\n",
    "                                            }\n",
    "                                        }\n",
    "                                    }\n",
    "                                }\n",
    "                            }\n",
    "                        }"
   ],
   "metadata": {
    "collapsed": false,
    "ExecuteTime": {
     "end_time": "2024-03-20T09:22:32.721713Z",
     "start_time": "2024-03-20T09:22:32.706687Z"
    }
   },
   "id": "909d19737ed8bbd6",
   "execution_count": 2
  },
  {
   "cell_type": "code",
   "outputs": [
    {
     "data": {
      "text/plain": "({1: {'CIU': [1302, 1302],\n   'COR': [1364, 1369],\n   'PGE': [1481, 1487],\n   'ANT': [1575, 1580],\n   'GRA': [1628, 1628]},\n  2: {'MAD': [606, 606],\n   'CIU': [679, 685],\n   'COR': [797, 800],\n   'SEV': [905, 912],\n   'CAD': [995, 995]},\n  3: {'MAD': [933, 933],\n   'CIU': [1033, 1039],\n   'COR': [1091, 1098],\n   'SEV': [1136, 1140],\n   'CAD': [1170, 1170]},\n  4: {'MAD': [963, 963],\n   'CIU': [1005, 1008],\n   'COR': [1115, 1118],\n   'PGE': [1203, 1206],\n   'ANT': [1234, 1238],\n   'GRA': [1281, 1281]},\n  5: {'COR': [537, 537],\n   'PGE': [614, 620],\n   'ANT': [730, 737],\n   'MAL': [762, 762]},\n  6: {'PGE': [1284, 1284], 'ANT': [1388, 1392], 'MAL': [1490, 1490]},\n  7: {'PGE': [980, 980], 'ANT': [1015, 1021], 'GRA': [1086, 1086]},\n  8: {'MAD': [976, 976],\n   'CIU': [1045, 1051],\n   'COR': [1081, 1087],\n   'SEV': [1131, 1137],\n   'CAD': [1184, 1184]},\n  9: {'ANT': [476, 476], 'MAL': [548, 548]},\n  10: {'COR': [489, 489],\n   'PGE': [559, 566],\n   'ANT': [632, 635],\n   'GRA': [700, 700]},\n  11: {'PGE': [264, 264], 'ANT': [310, 312], 'GRA': [388, 388]},\n  12: {'CIU': [98, 98],\n   'COR': [212, 216],\n   'PGE': [270, 277],\n   'ANT': [381, 383],\n   'GRA': [488, 488]},\n  13: {'COR': [85, 85], 'SEV': [142, 145], 'CAD': [238, 238]},\n  14: {'MAD': [1233, 1233],\n   'CIU': [1293, 1298],\n   'COR': [1397, 1404],\n   'PGE': [1471, 1478],\n   'ANT': [1580, 1584],\n   'GRA': [1645, 1645]},\n  15: {'CIU': [1372, 1372],\n   'COR': [1403, 1405],\n   'PGE': [1437, 1443],\n   'ANT': [1505, 1510],\n   'MAL': [1605, 1605]}},\n {1: {'canon': 371.25,\n   'k': 1.27,\n   'dt_max_penalty': 51.97,\n   'tt_max_penalty': 24.13},\n  2: {'canon': 302.5,\n   'k': 1.57,\n   'dt_max_penalty': 42.35,\n   'tt_max_penalty': 19.66},\n  3: {'canon': 330.0,\n   'k': 48.53,\n   'dt_max_penalty': 46.2,\n   'tt_max_penalty': 21.45},\n  4: {'canon': 396.0,\n   'k': 1.09,\n   'dt_max_penalty': 55.44,\n   'tt_max_penalty': 20.59},\n  5: {'canon': 264.0,\n   'k': 39.59,\n   'dt_max_penalty': 36.96,\n   'tt_max_penalty': 22.88},\n  6: {'canon': 198.0,\n   'k': 1.02,\n   'dt_max_penalty': 27.72,\n   'tt_max_penalty': 25.74},\n  7: {'canon': 198.0,\n   'k': 3.63,\n   'dt_max_penalty': 27.72,\n   'tt_max_penalty': 25.74},\n  8: {'canon': 302.5,\n   'k': 3.82,\n   'dt_max_penalty': 42.35,\n   'tt_max_penalty': 19.66},\n  9: {'canon': 121.0,\n   'k': 1.39,\n   'dt_max_penalty': 16.94,\n   'tt_max_penalty': 31.46},\n  10: {'canon': 264.0,\n   'k': 1.86,\n   'dt_max_penalty': 36.96,\n   'tt_max_penalty': 22.88},\n  11: {'canon': 198.0,\n   'k': 1.29,\n   'dt_max_penalty': 27.72,\n   'tt_max_penalty': 25.74},\n  12: {'canon': 330.0,\n   'k': 1.3,\n   'dt_max_penalty': 46.2,\n   'tt_max_penalty': 21.45},\n  13: {'canon': 222.75,\n   'k': 7.93,\n   'dt_max_penalty': 31.18,\n   'tt_max_penalty': 28.96},\n  14: {'canon': 363.0,\n   'k': 12.4,\n   'dt_max_penalty': 50.82,\n   'tt_max_penalty': 18.88},\n  15: {'canon': 330.0,\n   'k': 19.23,\n   'dt_max_penalty': 46.2,\n   'tt_max_penalty': 21.45}})"
     },
     "execution_count": 34,
     "metadata": {},
     "output_type": "execute_result"
    }
   ],
   "source": [
    "np.random.seed(seed=28)\n",
    "\n",
    "schedule = get_schedule_request(south_corridor, 15)\n",
    "revenue = get_revenue_behaviour(schedule)\n",
    "\n",
    "schedule, revenue"
   ],
   "metadata": {
    "collapsed": false,
    "ExecuteTime": {
     "end_time": "2024-03-20T10:03:09.108788Z",
     "start_time": "2024-03-20T10:03:09.083428Z"
    }
   },
   "id": "431870c186978069",
   "execution_count": 34
  },
  {
   "cell_type": "code",
   "outputs": [
    {
     "data": {
      "text/plain": "({1: {'MAD': array([0., 0.]),\n   'BAR': array([148., 152.]),\n   'FIG': array([180., 180.])},\n  2: {'MAD': array([8., 8.]),\n   'ZAR': array([28., 30.]),\n   'BAR': array([165., 167.]),\n   'FIG': array([210., 210.])},\n  3: {'MAD': array([30., 30.]),\n   'BAR': array([180., 182.]),\n   'FIG': array([225., 225.])}},\n {1: {'canon': 222.75,\n   'k': 1.05,\n   'dt_max_penalty': 31.18,\n   'tt_max_penalty': 28.96},\n  2: {'canon': 242.0,\n   'k': 1.03,\n   'dt_max_penalty': 33.88,\n   'tt_max_penalty': 20.97},\n  3: {'canon': 198.0,\n   'k': 1.18,\n   'dt_max_penalty': 27.72,\n   'tt_max_penalty': 25.74}})"
     },
     "execution_count": 20,
     "metadata": {},
     "output_type": "execute_result"
    }
   ],
   "source": [
    "np.random.seed(seed=28)\n",
    "\n",
    "# Dummy schedule\n",
    "schedule = {1: {'MAD': [0, 0], 'BAR': [148, 152], 'FIG': [180, 180]},\n",
    "            2: {'MAD': [8, 8], 'ZAR': [28, 30], 'BAR': [165, 167], 'FIG': [210, 210]},\n",
    "            3: {'MAD': [30, 30], 'BAR': [180, 182], 'FIG': [225, 225]}}\n",
    "\n",
    "for service in schedule:\n",
    "    for station in schedule[service]:\n",
    "        schedule[service][station] = np.array(schedule[service][station], dtype=np.float64)\n",
    "        \n",
    "revenue = get_revenue_behaviour(schedule)\n",
    "\n",
    "schedule, revenue"
   ],
   "metadata": {
    "collapsed": false,
    "ExecuteTime": {
     "end_time": "2024-03-20T09:52:09.533323Z",
     "start_time": "2024-03-20T09:52:09.496916Z"
    }
   },
   "id": "670b23e26656589b",
   "execution_count": 20
  },
  {
   "cell_type": "code",
   "outputs": [],
   "source": [
    "sm = RevenueMaximization(schedule, revenue, safe_headway=np.float64(10.0))"
   ],
   "metadata": {
    "collapsed": false,
    "ExecuteTime": {
     "end_time": "2024-03-20T10:03:12.981354Z",
     "start_time": "2024-03-20T10:03:12.961277Z"
    }
   },
   "id": "94f1efee22a495be",
   "execution_count": 35
  },
  {
   "cell_type": "code",
   "outputs": [],
   "source": [
    "gsa_algo = GSA(objective_function=sm.get_fitness_gsa,\n",
    "               is_feasible=sm.feasible_services_times,\n",
    "               custom_repair=sm.custom_repair,\n",
    "               r_dim=len(sm.boundaries.real),\n",
    "               d_dim=0,\n",
    "               boundaries=sm.boundaries)"
   ],
   "metadata": {
    "collapsed": false,
    "ExecuteTime": {
     "end_time": "2024-03-20T10:03:13.245423Z",
     "start_time": "2024-03-20T10:03:13.226856Z"
    }
   },
   "id": "bac4a98fae2b0f1a",
   "execution_count": 36
  },
  {
   "cell_type": "code",
   "outputs": [
    {
     "name": "stdout",
     "output_type": "stream",
     "text": [
      "Initial population: [<src.entities.Solution object at 0x147cc8430>, <src.entities.Solution object at 0x147d77d00>, <src.entities.Solution object at 0x147d8d520>, <src.entities.Solution object at 0x1477daa00>, <src.entities.Solution object at 0x147c2ee20>]\n",
      "GSA is optimizing  \"get_fitness_gsa\"\n",
      "['At iteration 1 the best fitness is 0.0']\n",
      "['At iteration 2 the best fitness is 1370.0601288214655']\n",
      "['At iteration 3 the best fitness is 1370.0601288214655']\n",
      "['At iteration 4 the best fitness is 1370.0601288214655']\n",
      "['At iteration 5 the best fitness is 1370.0601288214655']\n",
      "['At iteration 6 the best fitness is 1380.1955061784124']\n",
      "['At iteration 7 the best fitness is 1403.140009016242']\n",
      "['At iteration 8 the best fitness is 1403.7505885877597']\n",
      "['At iteration 9 the best fitness is 1403.7505885877597']\n",
      "['At iteration 10 the best fitness is 1403.7505885877597']\n",
      "['At iteration 11 the best fitness is 1403.7505885877597']\n",
      "['At iteration 12 the best fitness is 1403.7505885877597']\n",
      "['At iteration 13 the best fitness is 1403.7505885877597']\n",
      "['At iteration 14 the best fitness is 1418.2205935479594']\n",
      "['At iteration 15 the best fitness is 1441.5325816633333']\n",
      "['At iteration 16 the best fitness is 1445.2474648660552']\n",
      "['At iteration 17 the best fitness is 1446.5177282385916']\n",
      "['At iteration 18 the best fitness is 1456.8682964377267']\n",
      "['At iteration 19 the best fitness is 1457.7812317917815']\n",
      "['At iteration 20 the best fitness is 1468.172983893939']\n",
      "['At iteration 21 the best fitness is 1482.878240620914']\n",
      "['At iteration 22 the best fitness is 1482.878240620914']\n",
      "['At iteration 23 the best fitness is 1496.7269793180692']\n",
      "['At iteration 24 the best fitness is 1496.7269793180692']\n",
      "['At iteration 25 the best fitness is 1507.829904873678']\n",
      "['At iteration 26 the best fitness is 1507.829904873678']\n",
      "['At iteration 27 the best fitness is 1507.829904873678']\n",
      "['At iteration 28 the best fitness is 1507.829904873678']\n",
      "['At iteration 29 the best fitness is 1507.829904873678']\n",
      "['At iteration 30 the best fitness is 1507.829904873678']\n",
      "['At iteration 31 the best fitness is 1507.829904873678']\n",
      "['At iteration 32 the best fitness is 1507.829904873678']\n",
      "['At iteration 33 the best fitness is 1507.829904873678']\n",
      "['At iteration 34 the best fitness is 1507.829904873678']\n",
      "['At iteration 35 the best fitness is 1507.829904873678']\n",
      "['At iteration 36 the best fitness is 1507.829904873678']\n",
      "['At iteration 37 the best fitness is 1507.829904873678']\n",
      "['At iteration 38 the best fitness is 1507.829904873678']\n",
      "['At iteration 39 the best fitness is 1508.837614941544']\n",
      "['At iteration 40 the best fitness is 1512.3828488501813']\n",
      "['At iteration 41 the best fitness is 1512.3828488501813']\n",
      "['At iteration 42 the best fitness is 1516.589468493708']\n",
      "['At iteration 43 the best fitness is 1517.4233380862486']\n",
      "['At iteration 44 the best fitness is 1517.5748649253926']\n",
      "['At iteration 45 the best fitness is 1517.8329840537858']\n",
      "['At iteration 46 the best fitness is 1518.440768861017']\n",
      "['At iteration 47 the best fitness is 1518.5067544080853']\n",
      "['At iteration 48 the best fitness is 1518.5067544080853']\n",
      "['At iteration 49 the best fitness is 1518.5067544080853']\n",
      "['At iteration 50 the best fitness is 1518.5067544080853']\n",
      "Elapsed time: 40.87275505065918\n"
     ]
    }
   ],
   "source": [
    "import cProfile as profile\n",
    "import time\n",
    "\n",
    "pr = profile.Profile()\n",
    "pr.disable()\n",
    "\n",
    "#gsa_algo.set_seed(seed=28)\n",
    "\n",
    "pop_size = 5\n",
    "\n",
    "start = time.time()\n",
    "pr.enable()\n",
    "training_history = gsa_algo.optimize(population_size=pop_size,\n",
    "                                     iters=50,\n",
    "                                     chaotic_constant=True,\n",
    "                                     repair_solution=True,\n",
    "                                     initial_population=sm.get_initial_population(pop_size))\n",
    "pr.disable()\n",
    "print(f\"Elapsed time: {time.time() - start}\")\n",
    "\n",
    "pr.dump_stats('profile.pstat')"
   ],
   "metadata": {
    "collapsed": false,
    "ExecuteTime": {
     "end_time": "2024-03-20T10:03:54.421889Z",
     "start_time": "2024-03-20T10:03:13.533402Z"
    }
   },
   "id": "827d315d63189f83",
   "execution_count": 37
  },
  {
   "cell_type": "code",
   "outputs": [
    {
     "data": {
      "text/plain": "array([1298.17771701, 1365.71507337, 1486.79040485, 1580.686209  ,\n        605.63693881,  688.34077879,  803.73762597,  916.29936268,\n        937.79753498, 1047.44444557, 1108.        , 1150.        ,\n        968.69947326, 1016.73046759, 1127.7073226 , 1216.        ,\n       1248.        ,  536.33354614,  620.53597806,  737.56261273,\n       1285.6954609 , 1399.58350323,  985.75633331, 1029.25661965,\n        967.59970998, 1046.59628125, 1085.51431836, 1138.9221883 ,\n        482.01096027,  498.09905285,  575.41636829,  644.57348041,\n        273.29375418,  321.62121697,   96.38953321,  217.07840486,\n        278.09881824,  388.62973115,   92.70653924,  153.74917171,\n       1242.14509142, 1307.7279819 , 1413.73312525, 1488.        ,\n       1594.        , 1374.19764803, 1407.35597265, 1447.20703235,\n       1514.44354574])"
     },
     "execution_count": 40,
     "metadata": {},
     "output_type": "execute_result"
    }
   ],
   "source": [
    "# Get last value in column 'Real' of training_history\n",
    "best_solution_real = training_history.iloc[-1]['Real']\n",
    "best_solution_real"
   ],
   "metadata": {
    "collapsed": false,
    "ExecuteTime": {
     "end_time": "2024-03-20T10:04:20.170296Z",
     "start_time": "2024-03-20T10:04:20.154516Z"
    }
   },
   "id": "a5366a89cc34ffdd",
   "execution_count": 40
  },
  {
   "cell_type": "code",
   "outputs": [
    {
     "data": {
      "text/plain": "(array([1298.17771701, 1365.71507337, 1486.79040485, 1580.686209  ,\n         605.63693881,  688.34077879,  803.73762597,  916.29936268,\n         937.79753498, 1047.44444557, 1108.        , 1150.        ,\n         968.69947326, 1016.73046759, 1127.7073226 , 1216.        ,\n        1248.        ,  536.33354614,  620.53597806,  737.56261273,\n        1285.6954609 , 1399.58350323,  985.75633331, 1029.25661965,\n         967.59970998, 1046.59628125, 1085.51431836, 1138.9221883 ,\n         482.01096027,  498.09905285,  575.41636829,  644.57348041,\n         273.29375418,  321.62121697,   96.38953321,  217.07840486,\n         278.09881824,  388.62973115,   92.70653924,  153.74917171,\n        1242.14509142, 1307.7279819 , 1413.73312525, 1488.        ,\n        1594.        , 1374.19764803, 1407.35597265, 1447.20703235,\n        1514.44354574]),\n array([ True,  True, False, False,  True,  True,  True,  True,  True,\n        False, False, False, False, False, False]))"
     },
     "execution_count": 41,
     "metadata": {},
     "output_type": "execute_result"
    }
   ],
   "source": [
    "best_solution = Solution(real=np.array(best_solution_real), discrete=sm.get_heuristic_schedule(np.array(best_solution_real)))\n",
    "\n",
    "best_solution.real, best_solution.discrete"
   ],
   "metadata": {
    "collapsed": false,
    "ExecuteTime": {
     "end_time": "2024-03-20T10:04:22.996919Z",
     "start_time": "2024-03-20T10:04:22.661066Z"
    }
   },
   "id": "a788dec12bed21d9",
   "execution_count": 41
  },
  {
   "cell_type": "code",
   "outputs": [
    {
     "data": {
      "text/plain": "True"
     },
     "execution_count": 42,
     "metadata": {},
     "output_type": "execute_result"
    }
   ],
   "source": [
    "sm.is_feasible(best_solution, best_solution.discrete)"
   ],
   "metadata": {
    "collapsed": false,
    "ExecuteTime": {
     "end_time": "2024-03-20T10:04:25.329549Z",
     "start_time": "2024-03-20T10:04:25.318435Z"
    }
   },
   "id": "b1e09764c748cff1",
   "execution_count": 42
  },
  {
   "cell_type": "code",
   "outputs": [
    {
     "data": {
      "text/plain": "2791.867192702204"
     },
     "execution_count": 39,
     "metadata": {},
     "output_type": "execute_result"
    }
   ],
   "source": [
    "sm.get_revenue(best_solution)"
   ],
   "metadata": {
    "collapsed": false,
    "ExecuteTime": {
     "end_time": "2024-03-20T08:16:25.344749Z",
     "start_time": "2024-03-20T08:16:25.327601Z"
    }
   },
   "id": "6abef9d9440fc52b",
   "execution_count": 39
  },
  {
   "cell_type": "code",
   "outputs": [
    {
     "data": {
      "text/plain": "2791.954803464316"
     },
     "execution_count": 40,
     "metadata": {},
     "output_type": "execute_result"
    }
   ],
   "source": [
    "sm.get_revenue(sm.best_solution)"
   ],
   "metadata": {
    "collapsed": false,
    "ExecuteTime": {
     "end_time": "2024-03-20T08:16:49.458955Z",
     "start_time": "2024-03-20T08:16:49.441556Z"
    }
   },
   "id": "41a492d53aee1019",
   "execution_count": 40
  },
  {
   "cell_type": "code",
   "outputs": [
    {
     "data": {
      "text/plain": "True"
     },
     "execution_count": 39,
     "metadata": {},
     "output_type": "execute_result"
    }
   ],
   "source": [
    "sm.is_feasible(sm.best_solution, sm.best_solution.discrete)"
   ],
   "metadata": {
    "collapsed": false,
    "ExecuteTime": {
     "end_time": "2024-03-20T10:04:11.441054Z",
     "start_time": "2024-03-20T10:04:11.429236Z"
    }
   },
   "id": "311c2cb5b8ebc6ae",
   "execution_count": 39
  },
  {
   "cell_type": "code",
   "outputs": [
    {
     "data": {
      "text/plain": "    Iteration     Fitness  Accuracy  ExecutionTime Discrete  \\\n0           0  611.669334         0       0.006123       []   \n1           1  611.669334         0       0.019382       []   \n2           2  620.509551         0       0.033016       []   \n3           3  620.509551         0       0.046564       []   \n4           4  620.509551         0       0.060252       []   \n..        ...         ...       ...            ...      ...   \n95         95  659.377994         0       0.832858       []   \n96         96  659.377994         0       0.838560       []   \n97         97  659.377994         0       0.845874       []   \n98         98  659.377994         0       0.851507       []   \n99         99  659.377994         0       0.858005       []   \n\n                                                 Real  \n0   [-7.611309908071238, 152.5516985172423, 8.6721...  \n1   [6.8799721156115865, 158.8799721156116, 18.0, ...  \n2   [-4.09540956569017, 149.11275775974016, 10.014...  \n3   [-5.510352908773724, 146.4896470912263, 4.4237...  \n4   [-5.510352908773724, 146.4896470912263, 4.4237...  \n..                                                ...  \n95  [-1.6447400241517651, 151.31538166459794, 8.40...  \n96  [-1.6447400241517651, 151.31538166459794, 8.40...  \n97  [-1.6447400241517651, 151.31538166459794, 8.40...  \n98  [-1.6447400241517651, 151.31538166459794, 8.40...  \n99  [-1.6447400241517651, 151.31538166459794, 8.40...  \n\n[100 rows x 6 columns]",
      "text/html": "<div>\n<style scoped>\n    .dataframe tbody tr th:only-of-type {\n        vertical-align: middle;\n    }\n\n    .dataframe tbody tr th {\n        vertical-align: top;\n    }\n\n    .dataframe thead th {\n        text-align: right;\n    }\n</style>\n<table border=\"1\" class=\"dataframe\">\n  <thead>\n    <tr style=\"text-align: right;\">\n      <th></th>\n      <th>Iteration</th>\n      <th>Fitness</th>\n      <th>Accuracy</th>\n      <th>ExecutionTime</th>\n      <th>Discrete</th>\n      <th>Real</th>\n    </tr>\n  </thead>\n  <tbody>\n    <tr>\n      <th>0</th>\n      <td>0</td>\n      <td>611.669334</td>\n      <td>0</td>\n      <td>0.006123</td>\n      <td>[]</td>\n      <td>[-7.611309908071238, 152.5516985172423, 8.6721...</td>\n    </tr>\n    <tr>\n      <th>1</th>\n      <td>1</td>\n      <td>611.669334</td>\n      <td>0</td>\n      <td>0.019382</td>\n      <td>[]</td>\n      <td>[6.8799721156115865, 158.8799721156116, 18.0, ...</td>\n    </tr>\n    <tr>\n      <th>2</th>\n      <td>2</td>\n      <td>620.509551</td>\n      <td>0</td>\n      <td>0.033016</td>\n      <td>[]</td>\n      <td>[-4.09540956569017, 149.11275775974016, 10.014...</td>\n    </tr>\n    <tr>\n      <th>3</th>\n      <td>3</td>\n      <td>620.509551</td>\n      <td>0</td>\n      <td>0.046564</td>\n      <td>[]</td>\n      <td>[-5.510352908773724, 146.4896470912263, 4.4237...</td>\n    </tr>\n    <tr>\n      <th>4</th>\n      <td>4</td>\n      <td>620.509551</td>\n      <td>0</td>\n      <td>0.060252</td>\n      <td>[]</td>\n      <td>[-5.510352908773724, 146.4896470912263, 4.4237...</td>\n    </tr>\n    <tr>\n      <th>...</th>\n      <td>...</td>\n      <td>...</td>\n      <td>...</td>\n      <td>...</td>\n      <td>...</td>\n      <td>...</td>\n    </tr>\n    <tr>\n      <th>95</th>\n      <td>95</td>\n      <td>659.377994</td>\n      <td>0</td>\n      <td>0.832858</td>\n      <td>[]</td>\n      <td>[-1.6447400241517651, 151.31538166459794, 8.40...</td>\n    </tr>\n    <tr>\n      <th>96</th>\n      <td>96</td>\n      <td>659.377994</td>\n      <td>0</td>\n      <td>0.838560</td>\n      <td>[]</td>\n      <td>[-1.6447400241517651, 151.31538166459794, 8.40...</td>\n    </tr>\n    <tr>\n      <th>97</th>\n      <td>97</td>\n      <td>659.377994</td>\n      <td>0</td>\n      <td>0.845874</td>\n      <td>[]</td>\n      <td>[-1.6447400241517651, 151.31538166459794, 8.40...</td>\n    </tr>\n    <tr>\n      <th>98</th>\n      <td>98</td>\n      <td>659.377994</td>\n      <td>0</td>\n      <td>0.851507</td>\n      <td>[]</td>\n      <td>[-1.6447400241517651, 151.31538166459794, 8.40...</td>\n    </tr>\n    <tr>\n      <th>99</th>\n      <td>99</td>\n      <td>659.377994</td>\n      <td>0</td>\n      <td>0.858005</td>\n      <td>[]</td>\n      <td>[-1.6447400241517651, 151.31538166459794, 8.40...</td>\n    </tr>\n  </tbody>\n</table>\n<p>100 rows × 6 columns</p>\n</div>"
     },
     "execution_count": 190,
     "metadata": {},
     "output_type": "execute_result"
    }
   ],
   "source": [
    "training_history"
   ],
   "metadata": {
    "collapsed": false,
    "ExecuteTime": {
     "end_time": "2024-03-19T18:51:04.033031Z",
     "start_time": "2024-03-19T18:51:04.011686Z"
    }
   },
   "id": "d467675529585a50",
   "execution_count": 190
  },
  {
   "cell_type": "code",
   "outputs": [
    {
     "data": {
      "text/plain": "<Figure size 1000x600 with 1 Axes>",
      "image/png": "[encoded data removed]"
     },
     "metadata": {},
     "output_type": "display_data"
    }
   ],
   "source": [
    "from matplotlib import pyplot as plt\n",
    "import seaborn as sns\n",
    "\n",
    "fig, ax = plt.subplots(figsize=(10, 6))\n",
    "\n",
    "ax.set_title(\"Fitness\", fontweight='bold')\n",
    "\n",
    "# ax.set_ylim(min(global_train_hist[\"Fitness\"]), max(global_train_hist[\"Fitness\"]))\n",
    "    \n",
    "sns.lineplot(ax=ax,\n",
    "             data=training_history,\n",
    "             x=\"Iteration\",\n",
    "             y=\"Fitness\",\n",
    "             legend=True)\n",
    "\n",
    "ax.grid(axis='y', color='#A9A9A9', alpha=0.3, zorder=1)\n",
    "\n",
    "ax.set_xlabel(\"Iter.\")\n",
    "ax.set_ylabel(\"Fitness\")\n",
    "\n",
    "plt.show()\n",
    "# fig.savefig(save_path, format='svg', dpi=300, bbox_inches='tight', transparent=True)"
   ],
   "metadata": {
    "collapsed": false,
    "ExecuteTime": {
     "end_time": "2024-03-19T18:51:07.721332Z",
     "start_time": "2024-03-19T18:51:07.610588Z"
    }
   },
   "id": "36aa34e314e58053",
   "execution_count": 191
  },
  {
   "cell_type": "code",
   "outputs": [
    {
     "name": "stdout",
     "output_type": "stream",
     "text": [
      "snakeviz web server started on 127.0.0.1:8080; enter Ctrl-C to exit\r\n",
      "http://127.0.0.1:8080/snakeviz/%2FUsers%2Fdavid%2FPycharmProjects%2FGSA_M%2Fnotebooks%2Fprofile.pstat\r\n",
      "^C\r\n",
      "\r\n",
      "Bye!\r\n"
     ]
    }
   ],
   "source": [
    "!snakeviz profile.pstat"
   ],
   "metadata": {
    "collapsed": false,
    "ExecuteTime": {
     "end_time": "2024-03-18T23:27:03.203055Z",
     "start_time": "2024-03-18T23:26:45.188321Z"
    }
   },
   "id": "eaf93c09b302023c",
   "execution_count": 53
  },
  {
   "cell_type": "code",
   "outputs": [
    {
     "data": {
      "text/plain": "662.75"
     },
     "execution_count": 192,
     "metadata": {},
     "output_type": "execute_result"
    }
   ],
   "source": [
    "sum([revenue[service]['canon'] for service in revenue])"
   ],
   "metadata": {
    "collapsed": false,
    "ExecuteTime": {
     "end_time": "2024-03-19T18:51:17.108264Z",
     "start_time": "2024-03-19T18:51:17.091777Z"
    }
   },
   "id": "aa6f4cb80af96241",
   "execution_count": 192
  },
  {
   "cell_type": "code",
   "outputs": [],
   "source": [],
   "metadata": {
    "collapsed": false
   },
   "id": "215937b03b2d6167"
  }
 ],
 "metadata": {
  "kernelspec": {
   "display_name": "Python 3 (ipykernel)",
   "language": "python",
   "name": "python3"
  },
  "language_info": {
   "codemirror_mode": {
    "name": "ipython",
    "version": 3
   },
   "file_extension": ".py",
   "mimetype": "text/x-python",
   "name": "python",
   "nbconvert_exporter": "python",
   "pygments_lexer": "ipython3",
   "version": "3.9.6"
  }
 },
 "nbformat": 4,
 "nbformat_minor": 5
}
