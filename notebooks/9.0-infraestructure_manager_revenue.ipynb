{
 "cells": [
  {
   "cell_type": "markdown",
   "source": [
    "# Infraestructure Manager revenue maximization with GSA"
   ],
   "metadata": {
    "collapsed": false
   },
   "id": "332c3166a53e9a5a"
  },
  {
   "cell_type": "markdown",
   "source": [
    "## 0. Load libraries"
   ],
   "metadata": {
    "collapsed": false
   },
   "id": "7b4fe385be61b35a"
  },
  {
   "cell_type": "code",
   "outputs": [],
   "source": [
    "%load_ext autoreload\n",
    "%autoreload 2\n",
    "\n",
    "import numpy as np\n",
    "\n",
    "from benchmarks.railway import Solution, RevenueMaximization\n",
    "from benchmarks.generator import get_schedule_request, get_revenue_behaviour\n",
    "from src.entities import GSA"
   ],
   "metadata": {
    "collapsed": false,
    "ExecuteTime": {
     "end_time": "2024-03-16T17:09:14.595508Z",
     "start_time": "2024-03-16T17:09:14.572867Z"
    }
   },
   "id": "c3cc59d5610d418",
   "execution_count": 1
  },
  {
   "cell_type": "markdown",
   "source": [
    "## 1. Generate service requests\n",
    "\n",
    "As an example, we will use the Spanish south high-speed railway corridor.\n",
    "\n"
   ],
   "metadata": {
    "collapsed": false
   },
   "id": "3541711d59d51280"
  },
  {
   "cell_type": "code",
   "outputs": [],
   "source": [
    "corridor = {\"MAD\": {\n",
    "                \"CIU\": {\n",
    "                    \"COR\": {\n",
    "                        \"SEV\": {\n",
    "                            \"CAD\": {}\n",
    "                               },\n",
    "                        \"PGE\": {\n",
    "                            \"ANT\": {\n",
    "                                \"GRA\": {},\n",
    "                                \"MAL\": {}\n",
    "                                    }\n",
    "                                }\n",
    "                            }\n",
    "                        }\n",
    "                    }\n",
    "            }"
   ],
   "metadata": {
    "collapsed": false,
    "ExecuteTime": {
     "end_time": "2024-03-16T17:09:15.531422Z",
     "start_time": "2024-03-16T17:09:15.521057Z"
    }
   },
   "id": "909d19737ed8bbd6",
   "execution_count": 2
  },
  {
   "cell_type": "code",
   "outputs": [
    {
     "data": {
      "text/plain": "({1: {'CIU': [1302, 1302],\n   'COR': [1364, 1369],\n   'PGE': [1481, 1487],\n   'ANT': [1575, 1580],\n   'GRA': [1628, 1628]},\n  2: {'MAD': [606, 606],\n   'CIU': [679, 685],\n   'COR': [797, 800],\n   'SEV': [905, 912],\n   'CAD': [995, 995]},\n  3: {'MAD': [933, 933],\n   'CIU': [1033, 1039],\n   'COR': [1091, 1098],\n   'SEV': [1136, 1140],\n   'CAD': [1170, 1170]},\n  4: {'MAD': [963, 963],\n   'CIU': [1005, 1008],\n   'COR': [1115, 1118],\n   'PGE': [1203, 1206],\n   'ANT': [1234, 1238],\n   'GRA': [1281, 1281]},\n  5: {'COR': [537, 537],\n   'PGE': [614, 620],\n   'ANT': [730, 737],\n   'MAL': [762, 762]},\n  6: {'PGE': [1284, 1284], 'ANT': [1388, 1392], 'MAL': [1490, 1490]},\n  7: {'PGE': [980, 980], 'ANT': [1015, 1021], 'GRA': [1086, 1086]},\n  8: {'MAD': [976, 976],\n   'CIU': [1045, 1051],\n   'COR': [1081, 1087],\n   'SEV': [1131, 1137],\n   'CAD': [1184, 1184]},\n  9: {'ANT': [476, 476], 'MAL': [548, 548]},\n  10: {'COR': [489, 489],\n   'PGE': [559, 566],\n   'ANT': [632, 635],\n   'GRA': [700, 700]},\n  11: {'PGE': [264, 264], 'ANT': [310, 312], 'GRA': [388, 388]},\n  12: {'CIU': [98, 98],\n   'COR': [212, 216],\n   'PGE': [270, 277],\n   'ANT': [381, 383],\n   'GRA': [488, 488]},\n  13: {'COR': [85, 85], 'SEV': [142, 145], 'CAD': [238, 238]}},\n {1: {'canon': 371.25,\n   'k': 3.79,\n   'dt_max_penalty': 51.97,\n   'tt_max_penalty': 24.13},\n  2: {'canon': 302.5,\n   'k': 46.12,\n   'dt_max_penalty': 42.35,\n   'tt_max_penalty': 19.66},\n  3: {'canon': 371.25,\n   'k': 1.02,\n   'dt_max_penalty': 51.97,\n   'tt_max_penalty': 24.13},\n  4: {'canon': 363.0,\n   'k': 1.34,\n   'dt_max_penalty': 50.82,\n   'tt_max_penalty': 18.88},\n  5: {'canon': 297.0,\n   'k': 1.34,\n   'dt_max_penalty': 41.58,\n   'tt_max_penalty': 25.74},\n  6: {'canon': 198.0,\n   'k': 38.1,\n   'dt_max_penalty': 27.72,\n   'tt_max_penalty': 25.74},\n  7: {'canon': 198.0,\n   'k': 1.01,\n   'dt_max_penalty': 27.72,\n   'tt_max_penalty': 25.74},\n  8: {'canon': 302.5,\n   'k': 1.28,\n   'dt_max_penalty': 42.35,\n   'tt_max_penalty': 19.66},\n  9: {'canon': 121.0,\n   'k': 1.46,\n   'dt_max_penalty': 16.94,\n   'tt_max_penalty': 31.46},\n  10: {'canon': 242.0,\n   'k': 51.5,\n   'dt_max_penalty': 33.88,\n   'tt_max_penalty': 20.97},\n  11: {'canon': 181.5,\n   'k': 1.57,\n   'dt_max_penalty': 25.41,\n   'tt_max_penalty': 23.6},\n  12: {'canon': 330.0,\n   'k': 48.53,\n   'dt_max_penalty': 46.2,\n   'tt_max_penalty': 21.45},\n  13: {'canon': 198.0,\n   'k': 1.09,\n   'dt_max_penalty': 27.72,\n   'tt_max_penalty': 25.74}})"
     },
     "execution_count": 105,
     "metadata": {},
     "output_type": "execute_result"
    }
   ],
   "source": [
    "np.random.seed(seed=28)\n",
    "\n",
    "schedule = get_schedule_request(corridor, 13)\n",
    "revenue = get_revenue_behaviour(schedule)\n",
    "\n",
    "schedule, revenue"
   ],
   "metadata": {
    "collapsed": false,
    "ExecuteTime": {
     "end_time": "2024-03-16T17:59:46.773350Z",
     "start_time": "2024-03-16T17:59:46.758107Z"
    }
   },
   "id": "431870c186978069",
   "execution_count": 105
  },
  {
   "cell_type": "code",
   "outputs": [
    {
     "data": {
      "text/plain": "({1: {'MAD': [0, 0], 'BAR': [148, 152], 'FIG': [180, 180]},\n  2: {'MAD': [8, 8], 'ZAR': [28, 30], 'BAR': [165, 167], 'FIG': [210, 210]},\n  3: {'MAD': [30, 30], 'BAR': [180, 182], 'FIG': [225, 225]}},\n {1: {'canon': 222.75,\n   'k': 1.05,\n   'dt_max_penalty': 31.18,\n   'tt_max_penalty': 28.96},\n  2: {'canon': 242.0,\n   'k': 1.03,\n   'dt_max_penalty': 33.88,\n   'tt_max_penalty': 20.97},\n  3: {'canon': 198.0,\n   'k': 1.18,\n   'dt_max_penalty': 27.72,\n   'tt_max_penalty': 25.74}})"
     },
     "execution_count": 115,
     "metadata": {},
     "output_type": "execute_result"
    }
   ],
   "source": [
    "np.random.seed(seed=28)\n",
    "\n",
    "# Dummy schedule\n",
    "schedule = {1: {'MAD': [0, 0], 'BAR': [148, 152], 'FIG': [180, 180]},\n",
    "            2: {'MAD': [8, 8], 'ZAR': [28, 30], 'BAR': [165, 167], 'FIG': [210, 210]},\n",
    "            3: {'MAD': [30, 30], 'BAR': [180, 182], 'FIG': [225, 225]}}\n",
    "\n",
    "revenue = get_revenue_behaviour(schedule)\n",
    "\n",
    "schedule, revenue"
   ],
   "metadata": {
    "collapsed": false,
    "ExecuteTime": {
     "end_time": "2024-03-16T18:24:37.128577Z",
     "start_time": "2024-03-16T18:24:37.111284Z"
    }
   },
   "id": "670b23e26656589b",
   "execution_count": 115
  },
  {
   "cell_type": "code",
   "outputs": [],
   "source": [
    "sm = RevenueMaximization(schedule, revenue, safe_headway=10)"
   ],
   "metadata": {
    "collapsed": false,
    "ExecuteTime": {
     "end_time": "2024-03-16T18:24:39.885004Z",
     "start_time": "2024-03-16T18:24:39.873407Z"
    }
   },
   "id": "94f1efee22a495be",
   "execution_count": 116
  },
  {
   "cell_type": "code",
   "outputs": [
    {
     "data": {
      "text/plain": "{1: {'MAD': [-3.0, -3.0], 'BAR': [145.0, 152.0], 'FIG': [180.0, 180.0]},\n 2: {'MAD': [8.0, 8.0],\n  'ZAR': [28.0, 30.0],\n  'BAR': [165.0, 167.0],\n  'FIG': [210.0, 210.0]},\n 3: {'MAD': [30.0, 30.0], 'BAR': [180.0, 182.0], 'FIG': [225.0, 225.0]}}"
     },
     "execution_count": 114,
     "metadata": {},
     "output_type": "execute_result"
    }
   ],
   "source": [
    "sm.update_schedule(Solution(real=np.array([-3, 152, 8, 30, 167, 30, 182], dtype=float), discrete=np.array([])))\n",
    "sm.updated_schedule"
   ],
   "metadata": {
    "collapsed": false,
    "ExecuteTime": {
     "end_time": "2024-03-16T18:24:32.410242Z",
     "start_time": "2024-03-16T18:24:32.395897Z"
    }
   },
   "id": "42ff6f5ddd7011c1",
   "execution_count": 114
  },
  {
   "cell_type": "code",
   "outputs": [],
   "source": [
    "gsa_algo = GSA(objective_function=sm.get_fitness_gsa,\n",
    "               is_feasible=sm.feasible_services_times,\n",
    "               r_dim=len(sm.boundaries.real),\n",
    "               d_dim=0,\n",
    "               boundaries=sm.boundaries)"
   ],
   "metadata": {
    "collapsed": false,
    "ExecuteTime": {
     "end_time": "2024-03-16T18:24:42.204940Z",
     "start_time": "2024-03-16T18:24:42.191869Z"
    }
   },
   "id": "bac4a98fae2b0f1a",
   "execution_count": 117
  },
  {
   "cell_type": "code",
   "outputs": [
    {
     "name": "stdout",
     "output_type": "stream",
     "text": [
      "Initial population: [<src.entities.Solution object at 0x147e02e20>, <src.entities.Solution object at 0x2aa4c4220>, <src.entities.Solution object at 0x2aa4c4670>, <src.entities.Solution object at 0x2aa4c4550>, <src.entities.Solution object at 0x2aa4c4490>]\n",
      "GSA is optimizing  \"get_fitness_gsa\"\n",
      "['At iteration 1 the best fitness is 555.0506559265872']\n",
      "['At iteration 2 the best fitness is 555.0506559265872']\n",
      "['At iteration 3 the best fitness is 555.0506559265872']\n",
      "['At iteration 4 the best fitness is 555.0506559265872']\n",
      "['At iteration 5 the best fitness is 555.0506559265872']\n",
      "['At iteration 6 the best fitness is 580.5548873712072']\n",
      "['At iteration 7 the best fitness is 584.8967141128556']\n",
      "['At iteration 8 the best fitness is 595.485212973614']\n",
      "['At iteration 9 the best fitness is 595.485212973614']\n",
      "['At iteration 10 the best fitness is 599.1591523160464']\n",
      "['At iteration 11 the best fitness is 602.0844243815959']\n",
      "['At iteration 12 the best fitness is 603.014341757741']\n",
      "['At iteration 13 the best fitness is 603.8331047364023']\n",
      "['At iteration 14 the best fitness is 603.8331047364023']\n",
      "['At iteration 15 the best fitness is 603.8500002502029']\n",
      "['At iteration 16 the best fitness is 603.8500002502029']\n",
      "['At iteration 17 the best fitness is 603.8500002502029']\n",
      "['At iteration 18 the best fitness is 603.8500002502029']\n",
      "['At iteration 19 the best fitness is 603.8500002502029']\n",
      "['At iteration 20 the best fitness is 605.6958102363027']\n",
      "['At iteration 21 the best fitness is 605.6958102363027']\n",
      "['At iteration 22 the best fitness is 605.6958102363027']\n",
      "['At iteration 23 the best fitness is 605.6958102363027']\n",
      "['At iteration 24 the best fitness is 605.6958102363027']\n",
      "['At iteration 25 the best fitness is 605.6958102363027']\n",
      "['At iteration 26 the best fitness is 605.6958102363027']\n",
      "['At iteration 27 the best fitness is 605.6958102363027']\n",
      "['At iteration 28 the best fitness is 605.6958102363027']\n",
      "['At iteration 29 the best fitness is 607.6992221528034']\n",
      "['At iteration 30 the best fitness is 612.2140418182889']\n",
      "['At iteration 31 the best fitness is 618.8646624985676']\n",
      "['At iteration 32 the best fitness is 623.1039523763974']\n",
      "['At iteration 33 the best fitness is 623.1039523763974']\n",
      "['At iteration 34 the best fitness is 631.3401259082127']\n",
      "['At iteration 35 the best fitness is 631.3401259082127']\n",
      "['At iteration 36 the best fitness is 631.3862462971871']\n",
      "['At iteration 37 the best fitness is 631.3862462971871']\n",
      "['At iteration 38 the best fitness is 631.772118974057']\n",
      "['At iteration 39 the best fitness is 631.772118974057']\n",
      "['At iteration 40 the best fitness is 631.772118974057']\n",
      "['At iteration 41 the best fitness is 631.772118974057']\n",
      "['At iteration 42 the best fitness is 631.772118974057']\n",
      "['At iteration 43 the best fitness is 631.772118974057']\n",
      "['At iteration 44 the best fitness is 631.772118974057']\n",
      "['At iteration 45 the best fitness is 631.7840297555915']\n",
      "['At iteration 46 the best fitness is 631.7840297555915']\n",
      "['At iteration 47 the best fitness is 631.7840297555915']\n",
      "['At iteration 48 the best fitness is 631.7840297555915']\n",
      "['At iteration 49 the best fitness is 631.7840297555915']\n",
      "['At iteration 50 the best fitness is 631.7840297555915']\n",
      "Elapsed time: 0.07089781761169434\n"
     ]
    }
   ],
   "source": [
    "import cProfile as profile\n",
    "import time\n",
    "\n",
    "pr = profile.Profile()\n",
    "pr.disable()\n",
    "\n",
    "#gsa_algo.set_seed(seed=28)\n",
    "\n",
    "pop_size = 5\n",
    "\n",
    "start = time.time()\n",
    "pr.enable()\n",
    "training_history = gsa_algo.optimize(population_size=pop_size,\n",
    "                                     iters=50,\n",
    "                                     chaotic_constant=True,\n",
    "                                     repair_solution=False,\n",
    "                                     initial_population=sm.get_initial_population(pop_size))\n",
    "pr.disable()\n",
    "print(f\"Elapsed time: {time.time() - start}\")\n",
    "\n",
    "pr.dump_stats('profile.pstat')"
   ],
   "metadata": {
    "collapsed": false,
    "ExecuteTime": {
     "end_time": "2024-03-16T18:24:42.719407Z",
     "start_time": "2024-03-16T18:24:42.635938Z"
    }
   },
   "id": "827d315d63189f83",
   "execution_count": 118
  },
  {
   "cell_type": "code",
   "outputs": [
    {
     "data": {
      "text/plain": "    Iteration     Fitness  Accuracy  ExecutionTime Discrete  \\\n0           0  555.050656         0       0.001317       []   \n1           1  555.050656         0       0.002806       []   \n2           2  555.050656         0       0.004482       []   \n3           3  555.050656         0       0.006141       []   \n4           4  555.050656         0       0.008015       []   \n5           5  580.554887         0       0.009620       []   \n6           6  584.896714         0       0.011175       []   \n7           7  595.485213         0       0.012837       []   \n8           8  595.485213         0       0.014494       []   \n9           9  599.159152         0       0.016571       []   \n10         10  602.084424         0       0.018269       []   \n11         11  603.014342         0       0.019885       []   \n12         12  603.833105         0       0.021549       []   \n13         13  603.833105         0       0.023074       []   \n14         14  603.850000         0       0.024675       []   \n15         15  603.850000         0       0.026042       []   \n16         16  603.850000         0       0.027438       []   \n17         17  603.850000         0       0.028727       []   \n18         18  603.850000         0       0.030007       []   \n19         19  605.695810         0       0.031382       []   \n20         20  605.695810         0       0.032755       []   \n21         21  605.695810         0       0.034058       []   \n22         22  605.695810         0       0.035336       []   \n23         23  605.695810         0       0.036602       []   \n24         24  605.695810         0       0.037951       []   \n25         25  605.695810         0       0.039246       []   \n26         26  605.695810         0       0.040545       []   \n27         27  605.695810         0       0.041843       []   \n28         28  607.699222         0       0.043133       []   \n29         29  612.214042         0       0.044460       []   \n30         30  618.864662         0       0.045753       []   \n31         31  623.103952         0       0.046993       []   \n32         32  623.103952         0       0.048218       []   \n33         33  631.340126         0       0.049625       []   \n34         34  631.340126         0       0.050928       []   \n35         35  631.386246         0       0.052203       []   \n36         36  631.386246         0       0.053389       []   \n37         37  631.772119         0       0.054730       []   \n38         38  631.772119         0       0.056014       []   \n39         39  631.772119         0       0.057332       []   \n40         40  631.772119         0       0.058581       []   \n41         41  631.772119         0       0.059867       []   \n42         42  631.772119         0       0.061090       []   \n43         43  631.772119         0       0.062317       []   \n44         44  631.784030         0       0.063968       []   \n45         45  631.784030         0       0.065101       []   \n46         46  631.784030         0       0.066280       []   \n47         47  631.784030         0       0.067389       []   \n48         48  631.784030         0       0.068438       []   \n49         49  631.784030         0       0.069553       []   \n\n                                                 Real  \n0   [-0.48, 151.91, 13.22, 39.36, 171.87, 37.79, 1...  \n1   [-1.2991749837222395, 159.48303914719781, 23.4...  \n2   [-1.2991749837222395, 159.48303914719781, 23.4...  \n3   [-1.2991749837222395, 159.48303914719781, 23.4...  \n4   [-1.2991749837222395, 159.48303914719781, 23.4...  \n5   [-9.792235569595661, 152.0, 9.113809533767398,...  \n6   [-9.294992231415165, 152.0, 9.328596426920848,...  \n7   [-10.0, 152.0, 9.4337545689256, 32.49600910709...  \n8   [-9.97709821298304, 151.46792585613764, 9.5388...  \n9   [-9.940534315173407, 152.0, 9.593036273589872,...  \n10  [-10.0, 152.0, 7.034095428942352, 30.0, 167.0,...  \n11  [-9.855073353019858, 152.0, 7.335553678835263,...  \n12  [-9.871581378201574, 152.0, 7.894235787497656,...  \n13  [-10.303077063908622, 151.9985540952491, 9.477...  \n14  [-9.933073653871254, 152.0, 8.025245308493515,...  \n15  [-10.588128988480095, 151.99999672912503, 1.42...  \n16  [-10.588128988480095, 151.99999672912503, 1.42...  \n17  [-10.588128988480095, 151.99999672912503, 1.42...  \n18  [-10.588128988480095, 151.99999672912503, 1.42...  \n19  [-7.768306111648637, 152.0, 8.234653927507614,...  \n20  [-8.421856132449722, 151.9999998905908, 8.2664...  \n21  [-8.421856132449722, 151.9999998905908, 8.2664...  \n22  [-8.421856132449722, 151.9999998905908, 8.2664...  \n23  [-8.421856132449722, 151.9999998905908, 8.2664...  \n24  [-8.421856132449722, 151.9999998905908, 8.2664...  \n25  [-8.421856132449722, 151.9999998905908, 8.2664...  \n26  [-8.421856132449722, 151.9999998905908, 8.2664...  \n27  [-8.421856132449722, 151.9999998905908, 8.2664...  \n28  [-6.705300203845901, 152.0, 8.577089593595622,...  \n29  [-5.529734231269792, 152.0, 7.830966237216061,...  \n30  [-4.239886227876104, 152.0, 7.932393672610756,...  \n31  [-3.4389360801538857, 152.0, 8.405768881375081...  \n32  [-4.357932120833777, 151.99999999998718, 7.973...  \n33  [-1.4223202513835453, 152.0, 8.8581065639098, ...  \n34  [-3.0039704349456633, 152.0, 8.77121870716427,...  \n35  [-1.6280649885032799, 152.0, 8.666860861859481...  \n36  [-0.9562793905001996, 151.99999999999963, 8.81...  \n37  [-1.3738299400824967, 152.0, 8.809283041169682...  \n38  [-1.375164985475383, 152.0, 8.969774950151038,...  \n39  [-1.375164985475383, 152.0, 8.969774950151038,...  \n40  [-1.375164985475383, 152.0, 8.969774950151038,...  \n41  [-1.375164985475383, 152.0, 8.969774950151038,...  \n42  [-1.375164985475383, 152.0, 8.969774950151038,...  \n43  [-1.375164985475383, 152.0, 8.969774950151038,...  \n44  [-1.6518963348573337, 152.0, 8.440164583008158...  \n45  [-1.5984320950210722, 152.0, 8.380359845062227...  \n46  [-1.5984320950210722, 152.0, 8.380359845062227...  \n47  [-1.5984320950210722, 152.0, 8.380359845062227...  \n48  [-1.5984320950210722, 152.0, 8.380359845062227...  \n49  [-1.5984320950210722, 152.0, 8.380359845062227...  ",
      "text/html": "<div>\n<style scoped>\n    .dataframe tbody tr th:only-of-type {\n        vertical-align: middle;\n    }\n\n    .dataframe tbody tr th {\n        vertical-align: top;\n    }\n\n    .dataframe thead th {\n        text-align: right;\n    }\n</style>\n<table border=\"1\" class=\"dataframe\">\n  <thead>\n    <tr style=\"text-align: right;\">\n      <th></th>\n      <th>Iteration</th>\n      <th>Fitness</th>\n      <th>Accuracy</th>\n      <th>ExecutionTime</th>\n      <th>Discrete</th>\n      <th>Real</th>\n    </tr>\n  </thead>\n  <tbody>\n    <tr>\n      <th>0</th>\n      <td>0</td>\n      <td>555.050656</td>\n      <td>0</td>\n      <td>0.001317</td>\n      <td>[]</td>\n      <td>[-0.48, 151.91, 13.22, 39.36, 171.87, 37.79, 1...</td>\n    </tr>\n    <tr>\n      <th>1</th>\n      <td>1</td>\n      <td>555.050656</td>\n      <td>0</td>\n      <td>0.002806</td>\n      <td>[]</td>\n      <td>[-1.2991749837222395, 159.48303914719781, 23.4...</td>\n    </tr>\n    <tr>\n      <th>2</th>\n      <td>2</td>\n      <td>555.050656</td>\n      <td>0</td>\n      <td>0.004482</td>\n      <td>[]</td>\n      <td>[-1.2991749837222395, 159.48303914719781, 23.4...</td>\n    </tr>\n    <tr>\n      <th>3</th>\n      <td>3</td>\n      <td>555.050656</td>\n      <td>0</td>\n      <td>0.006141</td>\n      <td>[]</td>\n      <td>[-1.2991749837222395, 159.48303914719781, 23.4...</td>\n    </tr>\n    <tr>\n      <th>4</th>\n      <td>4</td>\n      <td>555.050656</td>\n      <td>0</td>\n      <td>0.008015</td>\n      <td>[]</td>\n      <td>[-1.2991749837222395, 159.48303914719781, 23.4...</td>\n    </tr>\n    <tr>\n      <th>5</th>\n      <td>5</td>\n      <td>580.554887</td>\n      <td>0</td>\n      <td>0.009620</td>\n      <td>[]</td>\n      <td>[-9.792235569595661, 152.0, 9.113809533767398,...</td>\n    </tr>\n    <tr>\n      <th>6</th>\n      <td>6</td>\n      <td>584.896714</td>\n      <td>0</td>\n      <td>0.011175</td>\n      <td>[]</td>\n      <td>[-9.294992231415165, 152.0, 9.328596426920848,...</td>\n    </tr>\n    <tr>\n      <th>7</th>\n      <td>7</td>\n      <td>595.485213</td>\n      <td>0</td>\n      <td>0.012837</td>\n      <td>[]</td>\n      <td>[-10.0, 152.0, 9.4337545689256, 32.49600910709...</td>\n    </tr>\n    <tr>\n      <th>8</th>\n      <td>8</td>\n      <td>595.485213</td>\n      <td>0</td>\n      <td>0.014494</td>\n      <td>[]</td>\n      <td>[-9.97709821298304, 151.46792585613764, 9.5388...</td>\n    </tr>\n    <tr>\n      <th>9</th>\n      <td>9</td>\n      <td>599.159152</td>\n      <td>0</td>\n      <td>0.016571</td>\n      <td>[]</td>\n      <td>[-9.940534315173407, 152.0, 9.593036273589872,...</td>\n    </tr>\n    <tr>\n      <th>10</th>\n      <td>10</td>\n      <td>602.084424</td>\n      <td>0</td>\n      <td>0.018269</td>\n      <td>[]</td>\n      <td>[-10.0, 152.0, 7.034095428942352, 30.0, 167.0,...</td>\n    </tr>\n    <tr>\n      <th>11</th>\n      <td>11</td>\n      <td>603.014342</td>\n      <td>0</td>\n      <td>0.019885</td>\n      <td>[]</td>\n      <td>[-9.855073353019858, 152.0, 7.335553678835263,...</td>\n    </tr>\n    <tr>\n      <th>12</th>\n      <td>12</td>\n      <td>603.833105</td>\n      <td>0</td>\n      <td>0.021549</td>\n      <td>[]</td>\n      <td>[-9.871581378201574, 152.0, 7.894235787497656,...</td>\n    </tr>\n    <tr>\n      <th>13</th>\n      <td>13</td>\n      <td>603.833105</td>\n      <td>0</td>\n      <td>0.023074</td>\n      <td>[]</td>\n      <td>[-10.303077063908622, 151.9985540952491, 9.477...</td>\n    </tr>\n    <tr>\n      <th>14</th>\n      <td>14</td>\n      <td>603.850000</td>\n      <td>0</td>\n      <td>0.024675</td>\n      <td>[]</td>\n      <td>[-9.933073653871254, 152.0, 8.025245308493515,...</td>\n    </tr>\n    <tr>\n      <th>15</th>\n      <td>15</td>\n      <td>603.850000</td>\n      <td>0</td>\n      <td>0.026042</td>\n      <td>[]</td>\n      <td>[-10.588128988480095, 151.99999672912503, 1.42...</td>\n    </tr>\n    <tr>\n      <th>16</th>\n      <td>16</td>\n      <td>603.850000</td>\n      <td>0</td>\n      <td>0.027438</td>\n      <td>[]</td>\n      <td>[-10.588128988480095, 151.99999672912503, 1.42...</td>\n    </tr>\n    <tr>\n      <th>17</th>\n      <td>17</td>\n      <td>603.850000</td>\n      <td>0</td>\n      <td>0.028727</td>\n      <td>[]</td>\n      <td>[-10.588128988480095, 151.99999672912503, 1.42...</td>\n    </tr>\n    <tr>\n      <th>18</th>\n      <td>18</td>\n      <td>603.850000</td>\n      <td>0</td>\n      <td>0.030007</td>\n      <td>[]</td>\n      <td>[-10.588128988480095, 151.99999672912503, 1.42...</td>\n    </tr>\n    <tr>\n      <th>19</th>\n      <td>19</td>\n      <td>605.695810</td>\n      <td>0</td>\n      <td>0.031382</td>\n      <td>[]</td>\n      <td>[-7.768306111648637, 152.0, 8.234653927507614,...</td>\n    </tr>\n    <tr>\n      <th>20</th>\n      <td>20</td>\n      <td>605.695810</td>\n      <td>0</td>\n      <td>0.032755</td>\n      <td>[]</td>\n      <td>[-8.421856132449722, 151.9999998905908, 8.2664...</td>\n    </tr>\n    <tr>\n      <th>21</th>\n      <td>21</td>\n      <td>605.695810</td>\n      <td>0</td>\n      <td>0.034058</td>\n      <td>[]</td>\n      <td>[-8.421856132449722, 151.9999998905908, 8.2664...</td>\n    </tr>\n    <tr>\n      <th>22</th>\n      <td>22</td>\n      <td>605.695810</td>\n      <td>0</td>\n      <td>0.035336</td>\n      <td>[]</td>\n      <td>[-8.421856132449722, 151.9999998905908, 8.2664...</td>\n    </tr>\n    <tr>\n      <th>23</th>\n      <td>23</td>\n      <td>605.695810</td>\n      <td>0</td>\n      <td>0.036602</td>\n      <td>[]</td>\n      <td>[-8.421856132449722, 151.9999998905908, 8.2664...</td>\n    </tr>\n    <tr>\n      <th>24</th>\n      <td>24</td>\n      <td>605.695810</td>\n      <td>0</td>\n      <td>0.037951</td>\n      <td>[]</td>\n      <td>[-8.421856132449722, 151.9999998905908, 8.2664...</td>\n    </tr>\n    <tr>\n      <th>25</th>\n      <td>25</td>\n      <td>605.695810</td>\n      <td>0</td>\n      <td>0.039246</td>\n      <td>[]</td>\n      <td>[-8.421856132449722, 151.9999998905908, 8.2664...</td>\n    </tr>\n    <tr>\n      <th>26</th>\n      <td>26</td>\n      <td>605.695810</td>\n      <td>0</td>\n      <td>0.040545</td>\n      <td>[]</td>\n      <td>[-8.421856132449722, 151.9999998905908, 8.2664...</td>\n    </tr>\n    <tr>\n      <th>27</th>\n      <td>27</td>\n      <td>605.695810</td>\n      <td>0</td>\n      <td>0.041843</td>\n      <td>[]</td>\n      <td>[-8.421856132449722, 151.9999998905908, 8.2664...</td>\n    </tr>\n    <tr>\n      <th>28</th>\n      <td>28</td>\n      <td>607.699222</td>\n      <td>0</td>\n      <td>0.043133</td>\n      <td>[]</td>\n      <td>[-6.705300203845901, 152.0, 8.577089593595622,...</td>\n    </tr>\n    <tr>\n      <th>29</th>\n      <td>29</td>\n      <td>612.214042</td>\n      <td>0</td>\n      <td>0.044460</td>\n      <td>[]</td>\n      <td>[-5.529734231269792, 152.0, 7.830966237216061,...</td>\n    </tr>\n    <tr>\n      <th>30</th>\n      <td>30</td>\n      <td>618.864662</td>\n      <td>0</td>\n      <td>0.045753</td>\n      <td>[]</td>\n      <td>[-4.239886227876104, 152.0, 7.932393672610756,...</td>\n    </tr>\n    <tr>\n      <th>31</th>\n      <td>31</td>\n      <td>623.103952</td>\n      <td>0</td>\n      <td>0.046993</td>\n      <td>[]</td>\n      <td>[-3.4389360801538857, 152.0, 8.405768881375081...</td>\n    </tr>\n    <tr>\n      <th>32</th>\n      <td>32</td>\n      <td>623.103952</td>\n      <td>0</td>\n      <td>0.048218</td>\n      <td>[]</td>\n      <td>[-4.357932120833777, 151.99999999998718, 7.973...</td>\n    </tr>\n    <tr>\n      <th>33</th>\n      <td>33</td>\n      <td>631.340126</td>\n      <td>0</td>\n      <td>0.049625</td>\n      <td>[]</td>\n      <td>[-1.4223202513835453, 152.0, 8.8581065639098, ...</td>\n    </tr>\n    <tr>\n      <th>34</th>\n      <td>34</td>\n      <td>631.340126</td>\n      <td>0</td>\n      <td>0.050928</td>\n      <td>[]</td>\n      <td>[-3.0039704349456633, 152.0, 8.77121870716427,...</td>\n    </tr>\n    <tr>\n      <th>35</th>\n      <td>35</td>\n      <td>631.386246</td>\n      <td>0</td>\n      <td>0.052203</td>\n      <td>[]</td>\n      <td>[-1.6280649885032799, 152.0, 8.666860861859481...</td>\n    </tr>\n    <tr>\n      <th>36</th>\n      <td>36</td>\n      <td>631.386246</td>\n      <td>0</td>\n      <td>0.053389</td>\n      <td>[]</td>\n      <td>[-0.9562793905001996, 151.99999999999963, 8.81...</td>\n    </tr>\n    <tr>\n      <th>37</th>\n      <td>37</td>\n      <td>631.772119</td>\n      <td>0</td>\n      <td>0.054730</td>\n      <td>[]</td>\n      <td>[-1.3738299400824967, 152.0, 8.809283041169682...</td>\n    </tr>\n    <tr>\n      <th>38</th>\n      <td>38</td>\n      <td>631.772119</td>\n      <td>0</td>\n      <td>0.056014</td>\n      <td>[]</td>\n      <td>[-1.375164985475383, 152.0, 8.969774950151038,...</td>\n    </tr>\n    <tr>\n      <th>39</th>\n      <td>39</td>\n      <td>631.772119</td>\n      <td>0</td>\n      <td>0.057332</td>\n      <td>[]</td>\n      <td>[-1.375164985475383, 152.0, 8.969774950151038,...</td>\n    </tr>\n    <tr>\n      <th>40</th>\n      <td>40</td>\n      <td>631.772119</td>\n      <td>0</td>\n      <td>0.058581</td>\n      <td>[]</td>\n      <td>[-1.375164985475383, 152.0, 8.969774950151038,...</td>\n    </tr>\n    <tr>\n      <th>41</th>\n      <td>41</td>\n      <td>631.772119</td>\n      <td>0</td>\n      <td>0.059867</td>\n      <td>[]</td>\n      <td>[-1.375164985475383, 152.0, 8.969774950151038,...</td>\n    </tr>\n    <tr>\n      <th>42</th>\n      <td>42</td>\n      <td>631.772119</td>\n      <td>0</td>\n      <td>0.061090</td>\n      <td>[]</td>\n      <td>[-1.375164985475383, 152.0, 8.969774950151038,...</td>\n    </tr>\n    <tr>\n      <th>43</th>\n      <td>43</td>\n      <td>631.772119</td>\n      <td>0</td>\n      <td>0.062317</td>\n      <td>[]</td>\n      <td>[-1.375164985475383, 152.0, 8.969774950151038,...</td>\n    </tr>\n    <tr>\n      <th>44</th>\n      <td>44</td>\n      <td>631.784030</td>\n      <td>0</td>\n      <td>0.063968</td>\n      <td>[]</td>\n      <td>[-1.6518963348573337, 152.0, 8.440164583008158...</td>\n    </tr>\n    <tr>\n      <th>45</th>\n      <td>45</td>\n      <td>631.784030</td>\n      <td>0</td>\n      <td>0.065101</td>\n      <td>[]</td>\n      <td>[-1.5984320950210722, 152.0, 8.380359845062227...</td>\n    </tr>\n    <tr>\n      <th>46</th>\n      <td>46</td>\n      <td>631.784030</td>\n      <td>0</td>\n      <td>0.066280</td>\n      <td>[]</td>\n      <td>[-1.5984320950210722, 152.0, 8.380359845062227...</td>\n    </tr>\n    <tr>\n      <th>47</th>\n      <td>47</td>\n      <td>631.784030</td>\n      <td>0</td>\n      <td>0.067389</td>\n      <td>[]</td>\n      <td>[-1.5984320950210722, 152.0, 8.380359845062227...</td>\n    </tr>\n    <tr>\n      <th>48</th>\n      <td>48</td>\n      <td>631.784030</td>\n      <td>0</td>\n      <td>0.068438</td>\n      <td>[]</td>\n      <td>[-1.5984320950210722, 152.0, 8.380359845062227...</td>\n    </tr>\n    <tr>\n      <th>49</th>\n      <td>49</td>\n      <td>631.784030</td>\n      <td>0</td>\n      <td>0.069553</td>\n      <td>[]</td>\n      <td>[-1.5984320950210722, 152.0, 8.380359845062227...</td>\n    </tr>\n  </tbody>\n</table>\n</div>"
     },
     "execution_count": 119,
     "metadata": {},
     "output_type": "execute_result"
    }
   ],
   "source": [
    "training_history"
   ],
   "metadata": {
    "collapsed": false,
    "ExecuteTime": {
     "end_time": "2024-03-16T18:24:51.653628Z",
     "start_time": "2024-03-16T18:24:51.622461Z"
    }
   },
   "id": "d467675529585a50",
   "execution_count": 119
  },
  {
   "cell_type": "code",
   "outputs": [
    {
     "data": {
      "text/plain": "<Figure size 1000x600 with 1 Axes>",
      "image/png": "[encoded data removed]"
     },
     "metadata": {},
     "output_type": "display_data"
    }
   ],
   "source": [
    "from matplotlib import pyplot as plt\n",
    "import seaborn as sns\n",
    "\n",
    "fig, ax = plt.subplots(figsize=(10, 6))\n",
    "\n",
    "ax.set_title(\"Fitness\", fontweight='bold')\n",
    "\n",
    "# ax.set_ylim(min(global_train_hist[\"Fitness\"]), max(global_train_hist[\"Fitness\"]))\n",
    "    \n",
    "sns.lineplot(ax=ax,\n",
    "             data=training_history,\n",
    "             x=\"Iteration\",\n",
    "             y=\"Fitness\",\n",
    "             legend=True)\n",
    "\n",
    "ax.grid(axis='y', color='#A9A9A9', alpha=0.3, zorder=1)\n",
    "\n",
    "ax.set_xlabel(\"Iter.\")\n",
    "ax.set_ylabel(\"Fitness\")\n",
    "\n",
    "plt.show()\n",
    "# fig.savefig(save_path, format='svg', dpi=300, bbox_inches='tight', transparent=True)"
   ],
   "metadata": {
    "collapsed": false,
    "ExecuteTime": {
     "end_time": "2024-03-16T18:27:17.445349Z",
     "start_time": "2024-03-16T18:27:17.338895Z"
    }
   },
   "id": "36aa34e314e58053",
   "execution_count": 123
  },
  {
   "cell_type": "code",
   "outputs": [
    {
     "name": "stdout",
     "output_type": "stream",
     "text": [
      "snakeviz web server started on 127.0.0.1:8080; enter Ctrl-C to exit\r\n",
      "http://127.0.0.1:8080/snakeviz/%2FUsers%2Fdavid%2FPycharmProjects%2FGSA_M%2Fnotebooks%2Fprofile.pstat\r\n",
      "^C\r\n",
      "\r\n",
      "Bye!\r\n"
     ]
    }
   ],
   "source": [
    "!snakeviz profile.pstat"
   ],
   "metadata": {
    "collapsed": false,
    "ExecuteTime": {
     "end_time": "2024-03-16T18:04:07.190221Z",
     "start_time": "2024-03-16T18:01:44.454278Z"
    }
   },
   "id": "eaf93c09b302023c",
   "execution_count": 111
  },
  {
   "cell_type": "code",
   "outputs": [
    {
     "data": {
      "text/plain": "    Iteration     Fitness  Accuracy  ExecutionTime Discrete  \\\n0           0  517.014978         0       0.003048       []   \n1           1  530.855183         0       0.085591       []   \n2           2  542.646939         0       0.165635       []   \n3           3  565.661258         0       0.218120       []   \n4           4  565.661258         0       0.242157       []   \n5           5  565.661258         0       0.312635       []   \n6           6  565.661258         0       0.359963       []   \n7           7  566.497557         0       0.363831       []   \n8           8  568.721232         0       0.367587       []   \n9           9  568.721232         0       0.370925       []   \n10         10  568.721232         0       0.373775       []   \n11         11  568.721232         0       0.377499       []   \n12         12  568.721232         0       0.407769       []   \n13         13  568.721232         0       0.431715       []   \n14         14  569.752270         0       0.434186       []   \n15         15  569.944354         0       0.444001       []   \n16         16  569.944354         0       0.457104       []   \n17         17  569.944354         0       0.461096       []   \n18         18  569.944354         0       0.467344       []   \n19         19  569.944354         0       0.522234       []   \n20         20  569.944354         0       0.541828       []   \n21         21  569.944354         0       0.547574       []   \n22         22  569.944354         0       0.596972       []   \n23         23  571.348366         0       0.624208       []   \n24         24  575.662230         0       0.631063       []   \n25         25  582.045664         0       0.674821       []   \n26         26  586.110856         0       0.713089       []   \n27         27  586.110856         0       0.814261       []   \n28         28  586.110856         0       0.940392       []   \n29         29  586.110856         0       1.047582       []   \n30         30  588.921026         0       1.123223       []   \n31         31  589.252402         0       1.197486       []   \n32         32  589.357310         0       1.267606       []   \n33         33  589.433702         0       1.339689       []   \n34         34  590.874839         0       1.379981       []   \n35         35  590.874839         0       1.413400       []   \n36         36  590.874839         0       1.439690       []   \n37         37  590.874839         0       1.514880       []   \n38         38  591.196481         0       1.610974       []   \n39         39  591.196481         0       1.614665       []   \n40         40  591.196481         0       1.616876       []   \n41         41  591.196481         0       1.619479       []   \n42         42  591.215615         0       1.621906       []   \n43         43  591.244117         0       1.666866       []   \n44         44  591.247727         0       1.729309       []   \n45         45  591.247727         0       1.812686       []   \n46         46  591.252572         0       1.933760       []   \n47         47  591.252572         0       2.056270       []   \n48         48  591.252679         0       2.166871       []   \n49         49  591.252711         0       2.266971       []   \n\n                                                 Real  \n0   [-4.98, 157.83, 161.92, 189.92, 11.98, 35.76, ...  \n1   [-2.7546657683245406, 157.40093372659027, 161....  \n2   [-1.4908902847345742, 157.03956686173672, 161....  \n3   [-0.08372446694929914, 152.02590705979338, 157...  \n4   [5.670225709399254, 148.90734406439034, 159.04...  \n5   [5.670225709399254, 148.90734406439034, 159.04...  \n6   [5.670225709399254, 148.90734406439034, 159.04...  \n7   [-9.771727430351225, 145.23158773598314, 153.9...  \n8   [-7.794995179434571, 143.10007102447446, 154.2...  \n9   [-9.92970600467806, 143.22751590497882, 153.84...  \n10  [-9.92970600467806, 143.22751590497882, 153.84...  \n11  [-9.92970600467806, 143.22751590497882, 153.84...  \n12  [-9.92970600467806, 143.22751590497882, 153.84...  \n13  [-9.92970600467806, 143.22751590497882, 153.84...  \n14  [-9.056985424365779, 140.95362962673235, 153.2...  \n15  [-8.9701371854631, 142.04060276661053, 153.246...  \n16  [-8.823913805517407, 144.13362164643843, 153.3...  \n17  [-8.823913805517407, 144.13362164643843, 153.3...  \n18  [-8.823913805517407, 144.13362164643843, 153.3...  \n19  [-8.823913805517407, 144.13362164643843, 153.3...  \n20  [-8.823913805517407, 144.13362164643843, 153.3...  \n21  [-8.823913805517407, 144.13362164643843, 153.3...  \n22  [-8.823913805517407, 144.13362164643843, 153.3...  \n23  [-8.961428255969949, 142.95682803443975, 152.3...  \n24  [-8.940034737799113, 142.32824872429532, 152.3...  \n25  [-8.88862200511195, 141.04490900976057, 151.29...  \n26  [-9.02234150839642, 140.6879390247832, 151.218...  \n27  [-9.047646797139107, 140.61082583003213, 151.1...  \n28  [-9.047646797139107, 140.61082583003213, 151.1...  \n29  [-9.047646797139107, 140.61082583003213, 151.1...  \n30  [-9.036858187160343, 140.8703424548706, 151.21...  \n31  [-9.0356342270743, 141.10833600614865, 151.216...  \n32  [-9.035182949815933, 141.15679890816432, 151.2...  \n33  [-9.034534348242634, 141.1866281325309, 151.21...  \n34  [-9.034962015512225, 141.10993610213188, 151.2...  \n35  [-9.043982957535663, 140.91242479181528, 151.2...  \n36  [-9.043982957535663, 140.91242479181528, 151.2...  \n37  [-9.043982957535663, 140.91242479181528, 151.2...  \n38  [-9.03350153904783, 141.17993160474694, 151.20...  \n39  [-9.03422400832405, 141.21076156682577, 151.20...  \n40  [-9.03422400832405, 141.21076156682577, 151.20...  \n41  [-9.03422400832405, 141.21076156682577, 151.20...  \n42  [-9.024712351042139, 140.8875136932124, 150.87...  \n43  [-9.023244085009217, 140.89343620531116, 150.8...  \n44  [-9.023532259989004, 140.8953114132988, 150.85...  \n45  [-9.023712875199303, 140.89716878116317, 150.8...  \n46  [-9.023865664724458, 140.89689349095372, 150.7...  \n47  [-9.023963051126682, 140.8988345735588, 150.77...  \n48  [-9.023692285606792, 140.89948674954434, 150.7...  \n49  [-9.023643498325988, 140.89988353336167, 150.7...  ",
      "text/html": "<div>\n<style scoped>\n    .dataframe tbody tr th:only-of-type {\n        vertical-align: middle;\n    }\n\n    .dataframe tbody tr th {\n        vertical-align: top;\n    }\n\n    .dataframe thead th {\n        text-align: right;\n    }\n</style>\n<table border=\"1\" class=\"dataframe\">\n  <thead>\n    <tr style=\"text-align: right;\">\n      <th></th>\n      <th>Iteration</th>\n      <th>Fitness</th>\n      <th>Accuracy</th>\n      <th>ExecutionTime</th>\n      <th>Discrete</th>\n      <th>Real</th>\n    </tr>\n  </thead>\n  <tbody>\n    <tr>\n      <th>0</th>\n      <td>0</td>\n      <td>517.014978</td>\n      <td>0</td>\n      <td>0.003048</td>\n      <td>[]</td>\n      <td>[-4.98, 157.83, 161.92, 189.92, 11.98, 35.76, ...</td>\n    </tr>\n    <tr>\n      <th>1</th>\n      <td>1</td>\n      <td>530.855183</td>\n      <td>0</td>\n      <td>0.085591</td>\n      <td>[]</td>\n      <td>[-2.7546657683245406, 157.40093372659027, 161....</td>\n    </tr>\n    <tr>\n      <th>2</th>\n      <td>2</td>\n      <td>542.646939</td>\n      <td>0</td>\n      <td>0.165635</td>\n      <td>[]</td>\n      <td>[-1.4908902847345742, 157.03956686173672, 161....</td>\n    </tr>\n    <tr>\n      <th>3</th>\n      <td>3</td>\n      <td>565.661258</td>\n      <td>0</td>\n      <td>0.218120</td>\n      <td>[]</td>\n      <td>[-0.08372446694929914, 152.02590705979338, 157...</td>\n    </tr>\n    <tr>\n      <th>4</th>\n      <td>4</td>\n      <td>565.661258</td>\n      <td>0</td>\n      <td>0.242157</td>\n      <td>[]</td>\n      <td>[5.670225709399254, 148.90734406439034, 159.04...</td>\n    </tr>\n    <tr>\n      <th>5</th>\n      <td>5</td>\n      <td>565.661258</td>\n      <td>0</td>\n      <td>0.312635</td>\n      <td>[]</td>\n      <td>[5.670225709399254, 148.90734406439034, 159.04...</td>\n    </tr>\n    <tr>\n      <th>6</th>\n      <td>6</td>\n      <td>565.661258</td>\n      <td>0</td>\n      <td>0.359963</td>\n      <td>[]</td>\n      <td>[5.670225709399254, 148.90734406439034, 159.04...</td>\n    </tr>\n    <tr>\n      <th>7</th>\n      <td>7</td>\n      <td>566.497557</td>\n      <td>0</td>\n      <td>0.363831</td>\n      <td>[]</td>\n      <td>[-9.771727430351225, 145.23158773598314, 153.9...</td>\n    </tr>\n    <tr>\n      <th>8</th>\n      <td>8</td>\n      <td>568.721232</td>\n      <td>0</td>\n      <td>0.367587</td>\n      <td>[]</td>\n      <td>[-7.794995179434571, 143.10007102447446, 154.2...</td>\n    </tr>\n    <tr>\n      <th>9</th>\n      <td>9</td>\n      <td>568.721232</td>\n      <td>0</td>\n      <td>0.370925</td>\n      <td>[]</td>\n      <td>[-9.92970600467806, 143.22751590497882, 153.84...</td>\n    </tr>\n    <tr>\n      <th>10</th>\n      <td>10</td>\n      <td>568.721232</td>\n      <td>0</td>\n      <td>0.373775</td>\n      <td>[]</td>\n      <td>[-9.92970600467806, 143.22751590497882, 153.84...</td>\n    </tr>\n    <tr>\n      <th>11</th>\n      <td>11</td>\n      <td>568.721232</td>\n      <td>0</td>\n      <td>0.377499</td>\n      <td>[]</td>\n      <td>[-9.92970600467806, 143.22751590497882, 153.84...</td>\n    </tr>\n    <tr>\n      <th>12</th>\n      <td>12</td>\n      <td>568.721232</td>\n      <td>0</td>\n      <td>0.407769</td>\n      <td>[]</td>\n      <td>[-9.92970600467806, 143.22751590497882, 153.84...</td>\n    </tr>\n    <tr>\n      <th>13</th>\n      <td>13</td>\n      <td>568.721232</td>\n      <td>0</td>\n      <td>0.431715</td>\n      <td>[]</td>\n      <td>[-9.92970600467806, 143.22751590497882, 153.84...</td>\n    </tr>\n    <tr>\n      <th>14</th>\n      <td>14</td>\n      <td>569.752270</td>\n      <td>0</td>\n      <td>0.434186</td>\n      <td>[]</td>\n      <td>[-9.056985424365779, 140.95362962673235, 153.2...</td>\n    </tr>\n    <tr>\n      <th>15</th>\n      <td>15</td>\n      <td>569.944354</td>\n      <td>0</td>\n      <td>0.444001</td>\n      <td>[]</td>\n      <td>[-8.9701371854631, 142.04060276661053, 153.246...</td>\n    </tr>\n    <tr>\n      <th>16</th>\n      <td>16</td>\n      <td>569.944354</td>\n      <td>0</td>\n      <td>0.457104</td>\n      <td>[]</td>\n      <td>[-8.823913805517407, 144.13362164643843, 153.3...</td>\n    </tr>\n    <tr>\n      <th>17</th>\n      <td>17</td>\n      <td>569.944354</td>\n      <td>0</td>\n      <td>0.461096</td>\n      <td>[]</td>\n      <td>[-8.823913805517407, 144.13362164643843, 153.3...</td>\n    </tr>\n    <tr>\n      <th>18</th>\n      <td>18</td>\n      <td>569.944354</td>\n      <td>0</td>\n      <td>0.467344</td>\n      <td>[]</td>\n      <td>[-8.823913805517407, 144.13362164643843, 153.3...</td>\n    </tr>\n    <tr>\n      <th>19</th>\n      <td>19</td>\n      <td>569.944354</td>\n      <td>0</td>\n      <td>0.522234</td>\n      <td>[]</td>\n      <td>[-8.823913805517407, 144.13362164643843, 153.3...</td>\n    </tr>\n    <tr>\n      <th>20</th>\n      <td>20</td>\n      <td>569.944354</td>\n      <td>0</td>\n      <td>0.541828</td>\n      <td>[]</td>\n      <td>[-8.823913805517407, 144.13362164643843, 153.3...</td>\n    </tr>\n    <tr>\n      <th>21</th>\n      <td>21</td>\n      <td>569.944354</td>\n      <td>0</td>\n      <td>0.547574</td>\n      <td>[]</td>\n      <td>[-8.823913805517407, 144.13362164643843, 153.3...</td>\n    </tr>\n    <tr>\n      <th>22</th>\n      <td>22</td>\n      <td>569.944354</td>\n      <td>0</td>\n      <td>0.596972</td>\n      <td>[]</td>\n      <td>[-8.823913805517407, 144.13362164643843, 153.3...</td>\n    </tr>\n    <tr>\n      <th>23</th>\n      <td>23</td>\n      <td>571.348366</td>\n      <td>0</td>\n      <td>0.624208</td>\n      <td>[]</td>\n      <td>[-8.961428255969949, 142.95682803443975, 152.3...</td>\n    </tr>\n    <tr>\n      <th>24</th>\n      <td>24</td>\n      <td>575.662230</td>\n      <td>0</td>\n      <td>0.631063</td>\n      <td>[]</td>\n      <td>[-8.940034737799113, 142.32824872429532, 152.3...</td>\n    </tr>\n    <tr>\n      <th>25</th>\n      <td>25</td>\n      <td>582.045664</td>\n      <td>0</td>\n      <td>0.674821</td>\n      <td>[]</td>\n      <td>[-8.88862200511195, 141.04490900976057, 151.29...</td>\n    </tr>\n    <tr>\n      <th>26</th>\n      <td>26</td>\n      <td>586.110856</td>\n      <td>0</td>\n      <td>0.713089</td>\n      <td>[]</td>\n      <td>[-9.02234150839642, 140.6879390247832, 151.218...</td>\n    </tr>\n    <tr>\n      <th>27</th>\n      <td>27</td>\n      <td>586.110856</td>\n      <td>0</td>\n      <td>0.814261</td>\n      <td>[]</td>\n      <td>[-9.047646797139107, 140.61082583003213, 151.1...</td>\n    </tr>\n    <tr>\n      <th>28</th>\n      <td>28</td>\n      <td>586.110856</td>\n      <td>0</td>\n      <td>0.940392</td>\n      <td>[]</td>\n      <td>[-9.047646797139107, 140.61082583003213, 151.1...</td>\n    </tr>\n    <tr>\n      <th>29</th>\n      <td>29</td>\n      <td>586.110856</td>\n      <td>0</td>\n      <td>1.047582</td>\n      <td>[]</td>\n      <td>[-9.047646797139107, 140.61082583003213, 151.1...</td>\n    </tr>\n    <tr>\n      <th>30</th>\n      <td>30</td>\n      <td>588.921026</td>\n      <td>0</td>\n      <td>1.123223</td>\n      <td>[]</td>\n      <td>[-9.036858187160343, 140.8703424548706, 151.21...</td>\n    </tr>\n    <tr>\n      <th>31</th>\n      <td>31</td>\n      <td>589.252402</td>\n      <td>0</td>\n      <td>1.197486</td>\n      <td>[]</td>\n      <td>[-9.0356342270743, 141.10833600614865, 151.216...</td>\n    </tr>\n    <tr>\n      <th>32</th>\n      <td>32</td>\n      <td>589.357310</td>\n      <td>0</td>\n      <td>1.267606</td>\n      <td>[]</td>\n      <td>[-9.035182949815933, 141.15679890816432, 151.2...</td>\n    </tr>\n    <tr>\n      <th>33</th>\n      <td>33</td>\n      <td>589.433702</td>\n      <td>0</td>\n      <td>1.339689</td>\n      <td>[]</td>\n      <td>[-9.034534348242634, 141.1866281325309, 151.21...</td>\n    </tr>\n    <tr>\n      <th>34</th>\n      <td>34</td>\n      <td>590.874839</td>\n      <td>0</td>\n      <td>1.379981</td>\n      <td>[]</td>\n      <td>[-9.034962015512225, 141.10993610213188, 151.2...</td>\n    </tr>\n    <tr>\n      <th>35</th>\n      <td>35</td>\n      <td>590.874839</td>\n      <td>0</td>\n      <td>1.413400</td>\n      <td>[]</td>\n      <td>[-9.043982957535663, 140.91242479181528, 151.2...</td>\n    </tr>\n    <tr>\n      <th>36</th>\n      <td>36</td>\n      <td>590.874839</td>\n      <td>0</td>\n      <td>1.439690</td>\n      <td>[]</td>\n      <td>[-9.043982957535663, 140.91242479181528, 151.2...</td>\n    </tr>\n    <tr>\n      <th>37</th>\n      <td>37</td>\n      <td>590.874839</td>\n      <td>0</td>\n      <td>1.514880</td>\n      <td>[]</td>\n      <td>[-9.043982957535663, 140.91242479181528, 151.2...</td>\n    </tr>\n    <tr>\n      <th>38</th>\n      <td>38</td>\n      <td>591.196481</td>\n      <td>0</td>\n      <td>1.610974</td>\n      <td>[]</td>\n      <td>[-9.03350153904783, 141.17993160474694, 151.20...</td>\n    </tr>\n    <tr>\n      <th>39</th>\n      <td>39</td>\n      <td>591.196481</td>\n      <td>0</td>\n      <td>1.614665</td>\n      <td>[]</td>\n      <td>[-9.03422400832405, 141.21076156682577, 151.20...</td>\n    </tr>\n    <tr>\n      <th>40</th>\n      <td>40</td>\n      <td>591.196481</td>\n      <td>0</td>\n      <td>1.616876</td>\n      <td>[]</td>\n      <td>[-9.03422400832405, 141.21076156682577, 151.20...</td>\n    </tr>\n    <tr>\n      <th>41</th>\n      <td>41</td>\n      <td>591.196481</td>\n      <td>0</td>\n      <td>1.619479</td>\n      <td>[]</td>\n      <td>[-9.03422400832405, 141.21076156682577, 151.20...</td>\n    </tr>\n    <tr>\n      <th>42</th>\n      <td>42</td>\n      <td>591.215615</td>\n      <td>0</td>\n      <td>1.621906</td>\n      <td>[]</td>\n      <td>[-9.024712351042139, 140.8875136932124, 150.87...</td>\n    </tr>\n    <tr>\n      <th>43</th>\n      <td>43</td>\n      <td>591.244117</td>\n      <td>0</td>\n      <td>1.666866</td>\n      <td>[]</td>\n      <td>[-9.023244085009217, 140.89343620531116, 150.8...</td>\n    </tr>\n    <tr>\n      <th>44</th>\n      <td>44</td>\n      <td>591.247727</td>\n      <td>0</td>\n      <td>1.729309</td>\n      <td>[]</td>\n      <td>[-9.023532259989004, 140.8953114132988, 150.85...</td>\n    </tr>\n    <tr>\n      <th>45</th>\n      <td>45</td>\n      <td>591.247727</td>\n      <td>0</td>\n      <td>1.812686</td>\n      <td>[]</td>\n      <td>[-9.023712875199303, 140.89716878116317, 150.8...</td>\n    </tr>\n    <tr>\n      <th>46</th>\n      <td>46</td>\n      <td>591.252572</td>\n      <td>0</td>\n      <td>1.933760</td>\n      <td>[]</td>\n      <td>[-9.023865664724458, 140.89689349095372, 150.7...</td>\n    </tr>\n    <tr>\n      <th>47</th>\n      <td>47</td>\n      <td>591.252572</td>\n      <td>0</td>\n      <td>2.056270</td>\n      <td>[]</td>\n      <td>[-9.023963051126682, 140.8988345735588, 150.77...</td>\n    </tr>\n    <tr>\n      <th>48</th>\n      <td>48</td>\n      <td>591.252679</td>\n      <td>0</td>\n      <td>2.166871</td>\n      <td>[]</td>\n      <td>[-9.023692285606792, 140.89948674954434, 150.7...</td>\n    </tr>\n    <tr>\n      <th>49</th>\n      <td>49</td>\n      <td>591.252711</td>\n      <td>0</td>\n      <td>2.266971</td>\n      <td>[]</td>\n      <td>[-9.023643498325988, 140.89988353336167, 150.7...</td>\n    </tr>\n  </tbody>\n</table>\n</div>"
     },
     "execution_count": 12,
     "metadata": {},
     "output_type": "execute_result"
    }
   ],
   "source": [
    "training_history"
   ],
   "metadata": {
    "collapsed": false,
    "ExecuteTime": {
     "end_time": "2024-03-14T17:16:01.004423Z",
     "start_time": "2024-03-14T17:16:00.969069Z"
    }
   },
   "id": "17434a6d21479a27",
   "execution_count": 12
  },
  {
   "cell_type": "code",
   "outputs": [
    {
     "data": {
      "text/plain": "[0, 152, 8, 30, 167, 30, 182]"
     },
     "execution_count": 122,
     "metadata": {},
     "output_type": "execute_result"
    }
   ],
   "source": [
    "sm.requested_times"
   ],
   "metadata": {
    "collapsed": false,
    "ExecuteTime": {
     "end_time": "2024-03-16T18:26:28.418519Z",
     "start_time": "2024-03-16T18:26:28.408360Z"
    }
   },
   "id": "ee3f446221d2fec1",
   "execution_count": 122
  },
  {
   "cell_type": "code",
   "outputs": [
    {
     "data": {
      "text/plain": "array([ -1.5984321 , 152.        ,   8.38035985,  30.        ,\n       166.99798793,  40.        , 191.05217006])"
     },
     "execution_count": 121,
     "metadata": {},
     "output_type": "execute_result"
    }
   ],
   "source": [
    "# Get last value in column 'Real' of training_history\n",
    "best_solution = training_history.iloc[-1]['Real']\n",
    "best_solution"
   ],
   "metadata": {
    "collapsed": false,
    "ExecuteTime": {
     "end_time": "2024-03-16T18:25:15.980506Z",
     "start_time": "2024-03-16T18:25:15.968470Z"
    }
   },
   "id": "a5366a89cc34ffdd",
   "execution_count": 121
  },
  {
   "cell_type": "code",
   "outputs": [
    {
     "data": {
      "text/plain": "[[0, 0, 0, 0, 0, 0, 0, 0, 0, 0],\n [0, 0, 0, 0, 0, 0, 0, 0, 0, 1],\n [0, 0, 0, 0, 0, 0, 0, 0, 1, 0],\n [0, 0, 0, 0, 0, 0, 0, 0, 1, 1],\n [0, 0, 0, 0, 0, 0, 0, 1, 0, 0],\n [0, 0, 0, 0, 0, 0, 0, 1, 0, 1],\n [0, 0, 0, 0, 0, 0, 0, 1, 1, 0],\n [0, 0, 0, 0, 0, 0, 0, 1, 1, 1],\n [0, 0, 0, 0, 0, 0, 1, 0, 0, 0],\n [0, 0, 0, 0, 0, 0, 1, 0, 0, 1],\n [0, 0, 0, 0, 0, 0, 1, 0, 1, 0],\n [0, 0, 0, 0, 0, 0, 1, 0, 1, 1],\n [0, 0, 0, 0, 0, 0, 1, 1, 0, 0],\n [0, 0, 0, 0, 0, 0, 1, 1, 0, 1],\n [0, 0, 0, 0, 0, 0, 1, 1, 1, 0],\n [0, 0, 0, 0, 0, 0, 1, 1, 1, 1],\n [0, 0, 0, 0, 0, 1, 0, 0, 0, 0],\n [0, 0, 0, 0, 0, 1, 0, 0, 0, 1],\n [0, 0, 0, 0, 0, 1, 0, 0, 1, 0],\n [0, 0, 0, 0, 0, 1, 0, 0, 1, 1],\n [0, 0, 0, 0, 0, 1, 0, 1, 0, 0],\n [0, 0, 0, 0, 0, 1, 0, 1, 0, 1],\n [0, 0, 0, 0, 0, 1, 0, 1, 1, 0],\n [0, 0, 0, 0, 0, 1, 0, 1, 1, 1],\n [0, 0, 0, 0, 0, 1, 1, 0, 0, 0],\n [0, 0, 0, 0, 0, 1, 1, 0, 0, 1],\n [0, 0, 0, 0, 0, 1, 1, 0, 1, 0],\n [0, 0, 0, 0, 0, 1, 1, 0, 1, 1],\n [0, 0, 0, 0, 0, 1, 1, 1, 0, 0],\n [0, 0, 0, 0, 0, 1, 1, 1, 0, 1],\n [0, 0, 0, 0, 0, 1, 1, 1, 1, 0],\n [0, 0, 0, 0, 0, 1, 1, 1, 1, 1],\n [0, 0, 0, 0, 1, 0, 0, 0, 0, 0],\n [0, 0, 0, 0, 1, 0, 0, 0, 0, 1],\n [0, 0, 0, 0, 1, 0, 0, 0, 1, 0],\n [0, 0, 0, 0, 1, 0, 0, 0, 1, 1],\n [0, 0, 0, 0, 1, 0, 0, 1, 0, 0],\n [0, 0, 0, 0, 1, 0, 0, 1, 0, 1],\n [0, 0, 0, 0, 1, 0, 0, 1, 1, 0],\n [0, 0, 0, 0, 1, 0, 0, 1, 1, 1],\n [0, 0, 0, 0, 1, 0, 1, 0, 0, 0],\n [0, 0, 0, 0, 1, 0, 1, 0, 0, 1],\n [0, 0, 0, 0, 1, 0, 1, 0, 1, 0],\n [0, 0, 0, 0, 1, 0, 1, 0, 1, 1],\n [0, 0, 0, 0, 1, 0, 1, 1, 0, 0],\n [0, 0, 0, 0, 1, 0, 1, 1, 0, 1],\n [0, 0, 0, 0, 1, 0, 1, 1, 1, 0],\n [0, 0, 0, 0, 1, 0, 1, 1, 1, 1],\n [0, 0, 0, 0, 1, 1, 0, 0, 0, 0],\n [0, 0, 0, 0, 1, 1, 0, 0, 0, 1],\n [0, 0, 0, 0, 1, 1, 0, 0, 1, 0],\n [0, 0, 0, 0, 1, 1, 0, 0, 1, 1],\n [0, 0, 0, 0, 1, 1, 0, 1, 0, 0],\n [0, 0, 0, 0, 1, 1, 0, 1, 0, 1],\n [0, 0, 0, 0, 1, 1, 0, 1, 1, 0],\n [0, 0, 0, 0, 1, 1, 0, 1, 1, 1],\n [0, 0, 0, 0, 1, 1, 1, 0, 0, 0],\n [0, 0, 0, 0, 1, 1, 1, 0, 0, 1],\n [0, 0, 0, 0, 1, 1, 1, 0, 1, 0],\n [0, 0, 0, 0, 1, 1, 1, 0, 1, 1],\n [0, 0, 0, 0, 1, 1, 1, 1, 0, 0],\n [0, 0, 0, 0, 1, 1, 1, 1, 0, 1],\n [0, 0, 0, 0, 1, 1, 1, 1, 1, 0],\n [0, 0, 0, 0, 1, 1, 1, 1, 1, 1],\n [0, 0, 0, 1, 0, 0, 0, 0, 0, 0],\n [0, 0, 0, 1, 0, 0, 0, 0, 0, 1],\n [0, 0, 0, 1, 0, 0, 0, 0, 1, 0],\n [0, 0, 0, 1, 0, 0, 0, 0, 1, 1],\n [0, 0, 0, 1, 0, 0, 1, 0, 0, 0],\n [0, 0, 0, 1, 0, 0, 1, 0, 0, 1],\n [0, 0, 0, 1, 0, 0, 1, 0, 1, 0],\n [0, 0, 0, 1, 0, 0, 1, 0, 1, 1],\n [0, 0, 0, 1, 0, 1, 0, 0, 0, 0],\n [0, 0, 0, 1, 0, 1, 0, 0, 0, 1],\n [0, 0, 0, 1, 0, 1, 0, 0, 1, 0],\n [0, 0, 0, 1, 0, 1, 0, 0, 1, 1],\n [0, 0, 0, 1, 0, 1, 1, 0, 0, 0],\n [0, 0, 0, 1, 0, 1, 1, 0, 0, 1],\n [0, 0, 0, 1, 0, 1, 1, 0, 1, 0],\n [0, 0, 0, 1, 0, 1, 1, 0, 1, 1],\n [0, 0, 0, 1, 1, 0, 0, 0, 0, 0],\n [0, 0, 0, 1, 1, 0, 0, 0, 0, 1],\n [0, 0, 0, 1, 1, 0, 0, 0, 1, 0],\n [0, 0, 0, 1, 1, 0, 0, 0, 1, 1],\n [0, 0, 0, 1, 1, 0, 1, 0, 0, 0],\n [0, 0, 0, 1, 1, 0, 1, 0, 0, 1],\n [0, 0, 0, 1, 1, 0, 1, 0, 1, 0],\n [0, 0, 0, 1, 1, 0, 1, 0, 1, 1],\n [0, 0, 0, 1, 1, 1, 0, 0, 0, 0],\n [0, 0, 0, 1, 1, 1, 0, 0, 0, 1],\n [0, 0, 0, 1, 1, 1, 0, 0, 1, 0],\n [0, 0, 0, 1, 1, 1, 0, 0, 1, 1],\n [0, 0, 0, 1, 1, 1, 1, 0, 0, 0],\n [0, 0, 0, 1, 1, 1, 1, 0, 0, 1],\n [0, 0, 0, 1, 1, 1, 1, 0, 1, 0],\n [0, 0, 0, 1, 1, 1, 1, 0, 1, 1],\n [0, 0, 1, 0, 0, 0, 0, 0, 0, 0],\n [0, 0, 1, 0, 0, 0, 0, 0, 0, 1],\n [0, 0, 1, 0, 0, 0, 0, 0, 1, 0],\n [0, 0, 1, 0, 0, 0, 0, 0, 1, 1],\n [0, 0, 1, 0, 0, 0, 1, 0, 0, 0],\n [0, 0, 1, 0, 0, 0, 1, 0, 0, 1],\n [0, 0, 1, 0, 0, 0, 1, 0, 1, 0],\n [0, 0, 1, 0, 0, 0, 1, 0, 1, 1],\n [0, 0, 1, 0, 0, 1, 0, 0, 0, 0],\n [0, 0, 1, 0, 0, 1, 0, 0, 0, 1],\n [0, 0, 1, 0, 0, 1, 0, 0, 1, 0],\n [0, 0, 1, 0, 0, 1, 0, 0, 1, 1],\n [0, 0, 1, 0, 0, 1, 1, 0, 0, 0],\n [0, 0, 1, 0, 0, 1, 1, 0, 0, 1],\n [0, 0, 1, 0, 0, 1, 1, 0, 1, 0],\n [0, 0, 1, 0, 0, 1, 1, 0, 1, 1],\n [0, 0, 1, 0, 1, 0, 0, 0, 0, 0],\n [0, 0, 1, 0, 1, 0, 0, 0, 0, 1],\n [0, 0, 1, 0, 1, 0, 0, 0, 1, 0],\n [0, 0, 1, 0, 1, 0, 0, 0, 1, 1],\n [0, 0, 1, 0, 1, 0, 1, 0, 0, 0],\n [0, 0, 1, 0, 1, 0, 1, 0, 0, 1],\n [0, 0, 1, 0, 1, 0, 1, 0, 1, 0],\n [0, 0, 1, 0, 1, 0, 1, 0, 1, 1],\n [0, 0, 1, 0, 1, 1, 0, 0, 0, 0],\n [0, 0, 1, 0, 1, 1, 0, 0, 0, 1],\n [0, 0, 1, 0, 1, 1, 0, 0, 1, 0],\n [0, 0, 1, 0, 1, 1, 0, 0, 1, 1],\n [0, 0, 1, 0, 1, 1, 1, 0, 0, 0],\n [0, 0, 1, 0, 1, 1, 1, 0, 0, 1],\n [0, 0, 1, 0, 1, 1, 1, 0, 1, 0],\n [0, 0, 1, 0, 1, 1, 1, 0, 1, 1],\n [0, 0, 1, 1, 0, 0, 0, 0, 0, 0],\n [0, 0, 1, 1, 0, 0, 0, 0, 0, 1],\n [0, 0, 1, 1, 0, 0, 0, 0, 1, 0],\n [0, 0, 1, 1, 0, 0, 0, 0, 1, 1],\n [0, 0, 1, 1, 0, 0, 1, 0, 0, 0],\n [0, 0, 1, 1, 0, 0, 1, 0, 0, 1],\n [0, 0, 1, 1, 0, 0, 1, 0, 1, 0],\n [0, 0, 1, 1, 0, 0, 1, 0, 1, 1],\n [0, 0, 1, 1, 0, 1, 0, 0, 0, 0],\n [0, 0, 1, 1, 0, 1, 0, 0, 0, 1],\n [0, 0, 1, 1, 0, 1, 0, 0, 1, 0],\n [0, 0, 1, 1, 0, 1, 0, 0, 1, 1],\n [0, 0, 1, 1, 0, 1, 1, 0, 0, 0],\n [0, 0, 1, 1, 0, 1, 1, 0, 0, 1],\n [0, 0, 1, 1, 0, 1, 1, 0, 1, 0],\n [0, 0, 1, 1, 0, 1, 1, 0, 1, 1],\n [0, 0, 1, 1, 1, 0, 0, 0, 0, 0],\n [0, 0, 1, 1, 1, 0, 0, 0, 0, 1],\n [0, 0, 1, 1, 1, 0, 0, 0, 1, 0],\n [0, 0, 1, 1, 1, 0, 0, 0, 1, 1],\n [0, 0, 1, 1, 1, 0, 1, 0, 0, 0],\n [0, 0, 1, 1, 1, 0, 1, 0, 0, 1],\n [0, 0, 1, 1, 1, 0, 1, 0, 1, 0],\n [0, 0, 1, 1, 1, 0, 1, 0, 1, 1],\n [0, 0, 1, 1, 1, 1, 0, 0, 0, 0],\n [0, 0, 1, 1, 1, 1, 0, 0, 0, 1],\n [0, 0, 1, 1, 1, 1, 0, 0, 1, 0],\n [0, 0, 1, 1, 1, 1, 0, 0, 1, 1],\n [0, 0, 1, 1, 1, 1, 1, 0, 0, 0],\n [0, 0, 1, 1, 1, 1, 1, 0, 0, 1],\n [0, 0, 1, 1, 1, 1, 1, 0, 1, 0],\n [0, 0, 1, 1, 1, 1, 1, 0, 1, 1],\n [0, 1, 0, 0, 0, 0, 0, 0, 0, 0],\n [0, 1, 0, 0, 0, 0, 0, 0, 0, 1],\n [0, 1, 0, 0, 0, 0, 0, 0, 1, 0],\n [0, 1, 0, 0, 0, 0, 0, 0, 1, 1],\n [0, 1, 0, 0, 0, 0, 0, 1, 0, 0],\n [0, 1, 0, 0, 0, 0, 0, 1, 0, 1],\n [0, 1, 0, 0, 0, 0, 0, 1, 1, 0],\n [0, 1, 0, 0, 0, 0, 0, 1, 1, 1],\n [0, 1, 0, 0, 0, 0, 1, 0, 0, 0],\n [0, 1, 0, 0, 0, 0, 1, 0, 0, 1],\n [0, 1, 0, 0, 0, 0, 1, 0, 1, 0],\n [0, 1, 0, 0, 0, 0, 1, 0, 1, 1],\n [0, 1, 0, 0, 0, 0, 1, 1, 0, 0],\n [0, 1, 0, 0, 0, 0, 1, 1, 0, 1],\n [0, 1, 0, 0, 0, 0, 1, 1, 1, 0],\n [0, 1, 0, 0, 0, 0, 1, 1, 1, 1],\n [0, 1, 0, 0, 0, 1, 0, 0, 0, 0],\n [0, 1, 0, 0, 0, 1, 0, 0, 0, 1],\n [0, 1, 0, 0, 0, 1, 0, 0, 1, 0],\n [0, 1, 0, 0, 0, 1, 0, 0, 1, 1],\n [0, 1, 0, 0, 0, 1, 0, 1, 0, 0],\n [0, 1, 0, 0, 0, 1, 0, 1, 0, 1],\n [0, 1, 0, 0, 0, 1, 0, 1, 1, 0],\n [0, 1, 0, 0, 0, 1, 0, 1, 1, 1],\n [0, 1, 0, 0, 0, 1, 1, 0, 0, 0],\n [0, 1, 0, 0, 0, 1, 1, 0, 0, 1],\n [0, 1, 0, 0, 0, 1, 1, 0, 1, 0],\n [0, 1, 0, 0, 0, 1, 1, 0, 1, 1],\n [0, 1, 0, 0, 0, 1, 1, 1, 0, 0],\n [0, 1, 0, 0, 0, 1, 1, 1, 0, 1],\n [0, 1, 0, 0, 0, 1, 1, 1, 1, 0],\n [0, 1, 0, 0, 0, 1, 1, 1, 1, 1],\n [0, 1, 0, 0, 1, 0, 0, 0, 0, 0],\n [0, 1, 0, 0, 1, 0, 0, 0, 0, 1],\n [0, 1, 0, 0, 1, 0, 0, 0, 1, 0],\n [0, 1, 0, 0, 1, 0, 0, 0, 1, 1],\n [0, 1, 0, 0, 1, 0, 0, 1, 0, 0],\n [0, 1, 0, 0, 1, 0, 0, 1, 0, 1],\n [0, 1, 0, 0, 1, 0, 0, 1, 1, 0],\n [0, 1, 0, 0, 1, 0, 0, 1, 1, 1],\n [0, 1, 0, 0, 1, 0, 1, 0, 0, 0],\n [0, 1, 0, 0, 1, 0, 1, 0, 0, 1],\n [0, 1, 0, 0, 1, 0, 1, 0, 1, 0],\n [0, 1, 0, 0, 1, 0, 1, 0, 1, 1],\n [0, 1, 0, 0, 1, 0, 1, 1, 0, 0],\n [0, 1, 0, 0, 1, 0, 1, 1, 0, 1],\n [0, 1, 0, 0, 1, 0, 1, 1, 1, 0],\n [0, 1, 0, 0, 1, 0, 1, 1, 1, 1],\n [0, 1, 0, 0, 1, 1, 0, 0, 0, 0],\n [0, 1, 0, 0, 1, 1, 0, 0, 0, 1],\n [0, 1, 0, 0, 1, 1, 0, 0, 1, 0],\n [0, 1, 0, 0, 1, 1, 0, 0, 1, 1],\n [0, 1, 0, 0, 1, 1, 0, 1, 0, 0],\n [0, 1, 0, 0, 1, 1, 0, 1, 0, 1],\n [0, 1, 0, 0, 1, 1, 0, 1, 1, 0],\n [0, 1, 0, 0, 1, 1, 0, 1, 1, 1],\n [0, 1, 0, 0, 1, 1, 1, 0, 0, 0],\n [0, 1, 0, 0, 1, 1, 1, 0, 0, 1],\n [0, 1, 0, 0, 1, 1, 1, 0, 1, 0],\n [0, 1, 0, 0, 1, 1, 1, 0, 1, 1],\n [0, 1, 0, 0, 1, 1, 1, 1, 0, 0],\n [0, 1, 0, 0, 1, 1, 1, 1, 0, 1],\n [0, 1, 0, 0, 1, 1, 1, 1, 1, 0],\n [0, 1, 0, 0, 1, 1, 1, 1, 1, 1],\n [0, 1, 0, 1, 0, 0, 0, 0, 0, 0],\n [0, 1, 0, 1, 0, 0, 0, 0, 0, 1],\n [0, 1, 0, 1, 0, 0, 0, 0, 1, 0],\n [0, 1, 0, 1, 0, 0, 0, 0, 1, 1],\n [0, 1, 0, 1, 0, 0, 1, 0, 0, 0],\n [0, 1, 0, 1, 0, 0, 1, 0, 0, 1],\n [0, 1, 0, 1, 0, 0, 1, 0, 1, 0],\n [0, 1, 0, 1, 0, 0, 1, 0, 1, 1],\n [0, 1, 0, 1, 0, 1, 0, 0, 0, 0],\n [0, 1, 0, 1, 0, 1, 0, 0, 0, 1],\n [0, 1, 0, 1, 0, 1, 0, 0, 1, 0],\n [0, 1, 0, 1, 0, 1, 0, 0, 1, 1],\n [0, 1, 0, 1, 0, 1, 1, 0, 0, 0],\n [0, 1, 0, 1, 0, 1, 1, 0, 0, 1],\n [0, 1, 0, 1, 0, 1, 1, 0, 1, 0],\n [0, 1, 0, 1, 0, 1, 1, 0, 1, 1],\n [0, 1, 0, 1, 1, 0, 0, 0, 0, 0],\n [0, 1, 0, 1, 1, 0, 0, 0, 0, 1],\n [0, 1, 0, 1, 1, 0, 0, 0, 1, 0],\n [0, 1, 0, 1, 1, 0, 0, 0, 1, 1],\n [0, 1, 0, 1, 1, 0, 1, 0, 0, 0],\n [0, 1, 0, 1, 1, 0, 1, 0, 0, 1],\n [0, 1, 0, 1, 1, 0, 1, 0, 1, 0],\n [0, 1, 0, 1, 1, 0, 1, 0, 1, 1],\n [0, 1, 0, 1, 1, 1, 0, 0, 0, 0],\n [0, 1, 0, 1, 1, 1, 0, 0, 0, 1],\n [0, 1, 0, 1, 1, 1, 0, 0, 1, 0],\n [0, 1, 0, 1, 1, 1, 0, 0, 1, 1],\n [0, 1, 0, 1, 1, 1, 1, 0, 0, 0],\n [0, 1, 0, 1, 1, 1, 1, 0, 0, 1],\n [0, 1, 0, 1, 1, 1, 1, 0, 1, 0],\n [0, 1, 0, 1, 1, 1, 1, 0, 1, 1],\n [0, 1, 1, 0, 0, 0, 0, 0, 0, 0],\n [0, 1, 1, 0, 0, 0, 0, 0, 0, 1],\n [0, 1, 1, 0, 0, 0, 0, 0, 1, 0],\n [0, 1, 1, 0, 0, 0, 0, 0, 1, 1],\n [0, 1, 1, 0, 0, 0, 1, 0, 0, 0],\n [0, 1, 1, 0, 0, 0, 1, 0, 0, 1],\n [0, 1, 1, 0, 0, 0, 1, 0, 1, 0],\n [0, 1, 1, 0, 0, 0, 1, 0, 1, 1],\n [0, 1, 1, 0, 0, 1, 0, 0, 0, 0],\n [0, 1, 1, 0, 0, 1, 0, 0, 0, 1],\n [0, 1, 1, 0, 0, 1, 0, 0, 1, 0],\n [0, 1, 1, 0, 0, 1, 0, 0, 1, 1],\n [0, 1, 1, 0, 0, 1, 1, 0, 0, 0],\n [0, 1, 1, 0, 0, 1, 1, 0, 0, 1],\n [0, 1, 1, 0, 0, 1, 1, 0, 1, 0],\n [0, 1, 1, 0, 0, 1, 1, 0, 1, 1],\n [0, 1, 1, 0, 1, 0, 0, 0, 0, 0],\n [0, 1, 1, 0, 1, 0, 0, 0, 0, 1],\n [0, 1, 1, 0, 1, 0, 0, 0, 1, 0],\n [0, 1, 1, 0, 1, 0, 0, 0, 1, 1],\n [0, 1, 1, 0, 1, 0, 1, 0, 0, 0],\n [0, 1, 1, 0, 1, 0, 1, 0, 0, 1],\n [0, 1, 1, 0, 1, 0, 1, 0, 1, 0],\n [0, 1, 1, 0, 1, 0, 1, 0, 1, 1],\n [0, 1, 1, 0, 1, 1, 0, 0, 0, 0],\n [0, 1, 1, 0, 1, 1, 0, 0, 0, 1],\n [0, 1, 1, 0, 1, 1, 0, 0, 1, 0],\n [0, 1, 1, 0, 1, 1, 0, 0, 1, 1],\n [0, 1, 1, 0, 1, 1, 1, 0, 0, 0],\n [0, 1, 1, 0, 1, 1, 1, 0, 0, 1],\n [0, 1, 1, 0, 1, 1, 1, 0, 1, 0],\n [0, 1, 1, 0, 1, 1, 1, 0, 1, 1],\n [0, 1, 1, 1, 0, 0, 0, 0, 0, 0],\n [0, 1, 1, 1, 0, 0, 0, 0, 0, 1],\n [0, 1, 1, 1, 0, 0, 0, 0, 1, 0],\n [0, 1, 1, 1, 0, 0, 0, 0, 1, 1],\n [0, 1, 1, 1, 0, 0, 1, 0, 0, 0],\n [0, 1, 1, 1, 0, 0, 1, 0, 0, 1],\n [0, 1, 1, 1, 0, 0, 1, 0, 1, 0],\n [0, 1, 1, 1, 0, 0, 1, 0, 1, 1],\n [0, 1, 1, 1, 0, 1, 0, 0, 0, 0],\n [0, 1, 1, 1, 0, 1, 0, 0, 0, 1],\n [0, 1, 1, 1, 0, 1, 0, 0, 1, 0],\n [0, 1, 1, 1, 0, 1, 0, 0, 1, 1],\n [0, 1, 1, 1, 0, 1, 1, 0, 0, 0],\n [0, 1, 1, 1, 0, 1, 1, 0, 0, 1],\n [0, 1, 1, 1, 0, 1, 1, 0, 1, 0],\n [0, 1, 1, 1, 0, 1, 1, 0, 1, 1],\n [0, 1, 1, 1, 1, 0, 0, 0, 0, 0],\n [0, 1, 1, 1, 1, 0, 0, 0, 0, 1],\n [0, 1, 1, 1, 1, 0, 0, 0, 1, 0],\n [0, 1, 1, 1, 1, 0, 0, 0, 1, 1],\n [0, 1, 1, 1, 1, 0, 1, 0, 0, 0],\n [0, 1, 1, 1, 1, 0, 1, 0, 0, 1],\n [0, 1, 1, 1, 1, 0, 1, 0, 1, 0],\n [0, 1, 1, 1, 1, 0, 1, 0, 1, 1],\n [0, 1, 1, 1, 1, 1, 0, 0, 0, 0],\n [0, 1, 1, 1, 1, 1, 0, 0, 0, 1],\n [0, 1, 1, 1, 1, 1, 0, 0, 1, 0],\n [0, 1, 1, 1, 1, 1, 0, 0, 1, 1],\n [0, 1, 1, 1, 1, 1, 1, 0, 0, 0],\n [0, 1, 1, 1, 1, 1, 1, 0, 0, 1],\n [0, 1, 1, 1, 1, 1, 1, 0, 1, 0],\n [0, 1, 1, 1, 1, 1, 1, 0, 1, 1],\n [1, 0, 0, 0, 0, 0, 0, 0, 0, 0],\n [1, 0, 0, 0, 0, 0, 0, 0, 0, 1],\n [1, 0, 0, 0, 0, 0, 0, 0, 1, 0],\n [1, 0, 0, 0, 0, 0, 0, 0, 1, 1],\n [1, 0, 0, 0, 0, 0, 0, 1, 0, 0],\n [1, 0, 0, 0, 0, 0, 0, 1, 0, 1],\n [1, 0, 0, 0, 0, 0, 0, 1, 1, 0],\n [1, 0, 0, 0, 0, 0, 0, 1, 1, 1],\n [1, 0, 0, 0, 0, 0, 1, 0, 0, 0],\n [1, 0, 0, 0, 0, 0, 1, 0, 0, 1],\n [1, 0, 0, 0, 0, 0, 1, 0, 1, 0],\n [1, 0, 0, 0, 0, 0, 1, 0, 1, 1],\n [1, 0, 0, 0, 0, 0, 1, 1, 0, 0],\n [1, 0, 0, 0, 0, 0, 1, 1, 0, 1],\n [1, 0, 0, 0, 0, 0, 1, 1, 1, 0],\n [1, 0, 0, 0, 0, 0, 1, 1, 1, 1],\n [1, 0, 0, 0, 0, 1, 0, 0, 0, 0],\n [1, 0, 0, 0, 0, 1, 0, 0, 0, 1],\n [1, 0, 0, 0, 0, 1, 0, 0, 1, 0],\n [1, 0, 0, 0, 0, 1, 0, 0, 1, 1],\n [1, 0, 0, 0, 0, 1, 0, 1, 0, 0],\n [1, 0, 0, 0, 0, 1, 0, 1, 0, 1],\n [1, 0, 0, 0, 0, 1, 0, 1, 1, 0],\n [1, 0, 0, 0, 0, 1, 0, 1, 1, 1],\n [1, 0, 0, 0, 0, 1, 1, 0, 0, 0],\n [1, 0, 0, 0, 0, 1, 1, 0, 0, 1],\n [1, 0, 0, 0, 0, 1, 1, 0, 1, 0],\n [1, 0, 0, 0, 0, 1, 1, 0, 1, 1],\n [1, 0, 0, 0, 0, 1, 1, 1, 0, 0],\n [1, 0, 0, 0, 0, 1, 1, 1, 0, 1],\n [1, 0, 0, 0, 0, 1, 1, 1, 1, 0],\n [1, 0, 0, 0, 0, 1, 1, 1, 1, 1],\n [1, 0, 0, 0, 1, 0, 0, 0, 0, 0],\n [1, 0, 0, 0, 1, 0, 0, 0, 0, 1],\n [1, 0, 0, 0, 1, 0, 0, 0, 1, 0],\n [1, 0, 0, 0, 1, 0, 0, 0, 1, 1],\n [1, 0, 0, 0, 1, 0, 0, 1, 0, 0],\n [1, 0, 0, 0, 1, 0, 0, 1, 0, 1],\n [1, 0, 0, 0, 1, 0, 0, 1, 1, 0],\n [1, 0, 0, 0, 1, 0, 0, 1, 1, 1],\n [1, 0, 0, 0, 1, 0, 1, 0, 0, 0],\n [1, 0, 0, 0, 1, 0, 1, 0, 0, 1],\n [1, 0, 0, 0, 1, 0, 1, 0, 1, 0],\n [1, 0, 0, 0, 1, 0, 1, 0, 1, 1],\n [1, 0, 0, 0, 1, 0, 1, 1, 0, 0],\n [1, 0, 0, 0, 1, 0, 1, 1, 0, 1],\n [1, 0, 0, 0, 1, 0, 1, 1, 1, 0],\n [1, 0, 0, 0, 1, 0, 1, 1, 1, 1],\n [1, 0, 0, 0, 1, 1, 0, 0, 0, 0],\n [1, 0, 0, 0, 1, 1, 0, 0, 0, 1],\n [1, 0, 0, 0, 1, 1, 0, 0, 1, 0],\n [1, 0, 0, 0, 1, 1, 0, 0, 1, 1],\n [1, 0, 0, 0, 1, 1, 0, 1, 0, 0],\n [1, 0, 0, 0, 1, 1, 0, 1, 0, 1],\n [1, 0, 0, 0, 1, 1, 0, 1, 1, 0],\n [1, 0, 0, 0, 1, 1, 0, 1, 1, 1],\n [1, 0, 0, 0, 1, 1, 1, 0, 0, 0],\n [1, 0, 0, 0, 1, 1, 1, 0, 0, 1],\n [1, 0, 0, 0, 1, 1, 1, 0, 1, 0],\n [1, 0, 0, 0, 1, 1, 1, 0, 1, 1],\n [1, 0, 0, 0, 1, 1, 1, 1, 0, 0],\n [1, 0, 0, 0, 1, 1, 1, 1, 0, 1],\n [1, 0, 0, 0, 1, 1, 1, 1, 1, 0],\n [1, 0, 0, 0, 1, 1, 1, 1, 1, 1],\n [1, 0, 0, 1, 0, 0, 0, 0, 0, 0],\n [1, 0, 0, 1, 0, 0, 0, 0, 0, 1],\n [1, 0, 0, 1, 0, 0, 0, 0, 1, 0],\n [1, 0, 0, 1, 0, 0, 0, 0, 1, 1],\n [1, 0, 0, 1, 0, 0, 1, 0, 0, 0],\n [1, 0, 0, 1, 0, 0, 1, 0, 0, 1],\n [1, 0, 0, 1, 0, 0, 1, 0, 1, 0],\n [1, 0, 0, 1, 0, 0, 1, 0, 1, 1],\n [1, 0, 0, 1, 0, 1, 0, 0, 0, 0],\n [1, 0, 0, 1, 0, 1, 0, 0, 0, 1],\n [1, 0, 0, 1, 0, 1, 0, 0, 1, 0],\n [1, 0, 0, 1, 0, 1, 0, 0, 1, 1],\n [1, 0, 0, 1, 0, 1, 1, 0, 0, 0],\n [1, 0, 0, 1, 0, 1, 1, 0, 0, 1],\n [1, 0, 0, 1, 0, 1, 1, 0, 1, 0],\n [1, 0, 0, 1, 0, 1, 1, 0, 1, 1],\n [1, 0, 0, 1, 1, 0, 0, 0, 0, 0],\n [1, 0, 0, 1, 1, 0, 0, 0, 0, 1],\n [1, 0, 0, 1, 1, 0, 0, 0, 1, 0],\n [1, 0, 0, 1, 1, 0, 0, 0, 1, 1],\n [1, 0, 0, 1, 1, 0, 1, 0, 0, 0],\n [1, 0, 0, 1, 1, 0, 1, 0, 0, 1],\n [1, 0, 0, 1, 1, 0, 1, 0, 1, 0],\n [1, 0, 0, 1, 1, 0, 1, 0, 1, 1],\n [1, 0, 0, 1, 1, 1, 0, 0, 0, 0],\n [1, 0, 0, 1, 1, 1, 0, 0, 0, 1],\n [1, 0, 0, 1, 1, 1, 0, 0, 1, 0],\n [1, 0, 0, 1, 1, 1, 0, 0, 1, 1],\n [1, 0, 0, 1, 1, 1, 1, 0, 0, 0],\n [1, 0, 0, 1, 1, 1, 1, 0, 0, 1],\n [1, 0, 0, 1, 1, 1, 1, 0, 1, 0],\n [1, 0, 0, 1, 1, 1, 1, 0, 1, 1],\n [1, 0, 1, 0, 0, 0, 0, 0, 0, 0],\n [1, 0, 1, 0, 0, 0, 0, 0, 0, 1],\n [1, 0, 1, 0, 0, 0, 0, 0, 1, 0],\n [1, 0, 1, 0, 0, 0, 0, 0, 1, 1],\n [1, 0, 1, 0, 0, 0, 1, 0, 0, 0],\n [1, 0, 1, 0, 0, 0, 1, 0, 0, 1],\n [1, 0, 1, 0, 0, 0, 1, 0, 1, 0],\n [1, 0, 1, 0, 0, 0, 1, 0, 1, 1],\n [1, 0, 1, 0, 0, 1, 0, 0, 0, 0],\n [1, 0, 1, 0, 0, 1, 0, 0, 0, 1],\n [1, 0, 1, 0, 0, 1, 0, 0, 1, 0],\n [1, 0, 1, 0, 0, 1, 0, 0, 1, 1],\n [1, 0, 1, 0, 0, 1, 1, 0, 0, 0],\n [1, 0, 1, 0, 0, 1, 1, 0, 0, 1],\n [1, 0, 1, 0, 0, 1, 1, 0, 1, 0],\n [1, 0, 1, 0, 0, 1, 1, 0, 1, 1],\n [1, 0, 1, 0, 1, 0, 0, 0, 0, 0],\n [1, 0, 1, 0, 1, 0, 0, 0, 0, 1],\n [1, 0, 1, 0, 1, 0, 0, 0, 1, 0],\n [1, 0, 1, 0, 1, 0, 0, 0, 1, 1],\n [1, 0, 1, 0, 1, 0, 1, 0, 0, 0],\n [1, 0, 1, 0, 1, 0, 1, 0, 0, 1],\n [1, 0, 1, 0, 1, 0, 1, 0, 1, 0],\n [1, 0, 1, 0, 1, 0, 1, 0, 1, 1],\n [1, 0, 1, 0, 1, 1, 0, 0, 0, 0],\n [1, 0, 1, 0, 1, 1, 0, 0, 0, 1],\n [1, 0, 1, 0, 1, 1, 0, 0, 1, 0],\n [1, 0, 1, 0, 1, 1, 0, 0, 1, 1],\n [1, 0, 1, 0, 1, 1, 1, 0, 0, 0],\n [1, 0, 1, 0, 1, 1, 1, 0, 0, 1],\n [1, 0, 1, 0, 1, 1, 1, 0, 1, 0],\n [1, 0, 1, 0, 1, 1, 1, 0, 1, 1],\n [1, 0, 1, 1, 0, 0, 0, 0, 0, 0],\n [1, 0, 1, 1, 0, 0, 0, 0, 0, 1],\n [1, 0, 1, 1, 0, 0, 0, 0, 1, 0],\n [1, 0, 1, 1, 0, 0, 0, 0, 1, 1],\n [1, 0, 1, 1, 0, 0, 1, 0, 0, 0],\n [1, 0, 1, 1, 0, 0, 1, 0, 0, 1],\n [1, 0, 1, 1, 0, 0, 1, 0, 1, 0],\n [1, 0, 1, 1, 0, 0, 1, 0, 1, 1],\n [1, 0, 1, 1, 0, 1, 0, 0, 0, 0],\n [1, 0, 1, 1, 0, 1, 0, 0, 0, 1],\n [1, 0, 1, 1, 0, 1, 0, 0, 1, 0],\n [1, 0, 1, 1, 0, 1, 0, 0, 1, 1],\n [1, 0, 1, 1, 0, 1, 1, 0, 0, 0],\n [1, 0, 1, 1, 0, 1, 1, 0, 0, 1],\n [1, 0, 1, 1, 0, 1, 1, 0, 1, 0],\n [1, 0, 1, 1, 0, 1, 1, 0, 1, 1],\n [1, 0, 1, 1, 1, 0, 0, 0, 0, 0],\n [1, 0, 1, 1, 1, 0, 0, 0, 0, 1],\n [1, 0, 1, 1, 1, 0, 0, 0, 1, 0],\n [1, 0, 1, 1, 1, 0, 0, 0, 1, 1],\n [1, 0, 1, 1, 1, 0, 1, 0, 0, 0],\n [1, 0, 1, 1, 1, 0, 1, 0, 0, 1],\n [1, 0, 1, 1, 1, 0, 1, 0, 1, 0],\n [1, 0, 1, 1, 1, 0, 1, 0, 1, 1],\n [1, 0, 1, 1, 1, 1, 0, 0, 0, 0],\n [1, 0, 1, 1, 1, 1, 0, 0, 0, 1],\n [1, 0, 1, 1, 1, 1, 0, 0, 1, 0],\n [1, 0, 1, 1, 1, 1, 0, 0, 1, 1],\n [1, 0, 1, 1, 1, 1, 1, 0, 0, 0],\n [1, 0, 1, 1, 1, 1, 1, 0, 0, 1],\n [1, 0, 1, 1, 1, 1, 1, 0, 1, 0],\n [1, 0, 1, 1, 1, 1, 1, 0, 1, 1],\n [1, 1, 0, 0, 0, 0, 0, 0, 0, 0],\n [1, 1, 0, 0, 0, 0, 0, 0, 0, 1],\n [1, 1, 0, 0, 0, 0, 0, 0, 1, 0],\n [1, 1, 0, 0, 0, 0, 0, 0, 1, 1],\n [1, 1, 0, 0, 0, 0, 0, 1, 0, 0],\n [1, 1, 0, 0, 0, 0, 0, 1, 0, 1],\n [1, 1, 0, 0, 0, 0, 0, 1, 1, 0],\n [1, 1, 0, 0, 0, 0, 0, 1, 1, 1],\n [1, 1, 0, 0, 0, 0, 1, 0, 0, 0],\n [1, 1, 0, 0, 0, 0, 1, 0, 0, 1],\n [1, 1, 0, 0, 0, 0, 1, 0, 1, 0],\n [1, 1, 0, 0, 0, 0, 1, 0, 1, 1],\n [1, 1, 0, 0, 0, 0, 1, 1, 0, 0],\n [1, 1, 0, 0, 0, 0, 1, 1, 0, 1],\n [1, 1, 0, 0, 0, 0, 1, 1, 1, 0],\n [1, 1, 0, 0, 0, 0, 1, 1, 1, 1],\n [1, 1, 0, 0, 0, 1, 0, 0, 0, 0],\n [1, 1, 0, 0, 0, 1, 0, 0, 0, 1],\n [1, 1, 0, 0, 0, 1, 0, 0, 1, 0],\n [1, 1, 0, 0, 0, 1, 0, 0, 1, 1],\n [1, 1, 0, 0, 0, 1, 0, 1, 0, 0],\n [1, 1, 0, 0, 0, 1, 0, 1, 0, 1],\n [1, 1, 0, 0, 0, 1, 0, 1, 1, 0],\n [1, 1, 0, 0, 0, 1, 0, 1, 1, 1],\n [1, 1, 0, 0, 0, 1, 1, 0, 0, 0],\n [1, 1, 0, 0, 0, 1, 1, 0, 0, 1],\n [1, 1, 0, 0, 0, 1, 1, 0, 1, 0],\n [1, 1, 0, 0, 0, 1, 1, 0, 1, 1],\n [1, 1, 0, 0, 0, 1, 1, 1, 0, 0],\n [1, 1, 0, 0, 0, 1, 1, 1, 0, 1],\n [1, 1, 0, 0, 0, 1, 1, 1, 1, 0],\n [1, 1, 0, 0, 0, 1, 1, 1, 1, 1],\n [1, 1, 0, 0, 1, 0, 0, 0, 0, 0],\n [1, 1, 0, 0, 1, 0, 0, 0, 0, 1],\n [1, 1, 0, 0, 1, 0, 0, 0, 1, 0],\n [1, 1, 0, 0, 1, 0, 0, 0, 1, 1],\n [1, 1, 0, 0, 1, 0, 0, 1, 0, 0],\n [1, 1, 0, 0, 1, 0, 0, 1, 0, 1],\n [1, 1, 0, 0, 1, 0, 0, 1, 1, 0],\n [1, 1, 0, 0, 1, 0, 0, 1, 1, 1],\n [1, 1, 0, 0, 1, 0, 1, 0, 0, 0],\n [1, 1, 0, 0, 1, 0, 1, 0, 0, 1],\n [1, 1, 0, 0, 1, 0, 1, 0, 1, 0],\n [1, 1, 0, 0, 1, 0, 1, 0, 1, 1],\n [1, 1, 0, 0, 1, 0, 1, 1, 0, 0],\n [1, 1, 0, 0, 1, 0, 1, 1, 0, 1],\n [1, 1, 0, 0, 1, 0, 1, 1, 1, 0],\n [1, 1, 0, 0, 1, 0, 1, 1, 1, 1],\n [1, 1, 0, 0, 1, 1, 0, 0, 0, 0],\n [1, 1, 0, 0, 1, 1, 0, 0, 0, 1],\n [1, 1, 0, 0, 1, 1, 0, 0, 1, 0],\n [1, 1, 0, 0, 1, 1, 0, 0, 1, 1],\n [1, 1, 0, 0, 1, 1, 0, 1, 0, 0],\n [1, 1, 0, 0, 1, 1, 0, 1, 0, 1],\n [1, 1, 0, 0, 1, 1, 0, 1, 1, 0],\n [1, 1, 0, 0, 1, 1, 0, 1, 1, 1],\n [1, 1, 0, 0, 1, 1, 1, 0, 0, 0],\n [1, 1, 0, 0, 1, 1, 1, 0, 0, 1],\n [1, 1, 0, 0, 1, 1, 1, 0, 1, 0],\n [1, 1, 0, 0, 1, 1, 1, 0, 1, 1],\n [1, 1, 0, 0, 1, 1, 1, 1, 0, 0],\n [1, 1, 0, 0, 1, 1, 1, 1, 0, 1],\n [1, 1, 0, 0, 1, 1, 1, 1, 1, 0],\n [1, 1, 0, 0, 1, 1, 1, 1, 1, 1],\n [1, 1, 0, 1, 0, 0, 0, 0, 0, 0],\n [1, 1, 0, 1, 0, 0, 0, 0, 0, 1],\n [1, 1, 0, 1, 0, 0, 0, 0, 1, 0],\n [1, 1, 0, 1, 0, 0, 0, 0, 1, 1],\n [1, 1, 0, 1, 0, 0, 1, 0, 0, 0],\n [1, 1, 0, 1, 0, 0, 1, 0, 0, 1],\n [1, 1, 0, 1, 0, 0, 1, 0, 1, 0],\n [1, 1, 0, 1, 0, 0, 1, 0, 1, 1],\n [1, 1, 0, 1, 0, 1, 0, 0, 0, 0],\n [1, 1, 0, 1, 0, 1, 0, 0, 0, 1],\n [1, 1, 0, 1, 0, 1, 0, 0, 1, 0],\n [1, 1, 0, 1, 0, 1, 0, 0, 1, 1],\n [1, 1, 0, 1, 0, 1, 1, 0, 0, 0],\n [1, 1, 0, 1, 0, 1, 1, 0, 0, 1],\n [1, 1, 0, 1, 0, 1, 1, 0, 1, 0],\n [1, 1, 0, 1, 0, 1, 1, 0, 1, 1],\n [1, 1, 0, 1, 1, 0, 0, 0, 0, 0],\n [1, 1, 0, 1, 1, 0, 0, 0, 0, 1],\n [1, 1, 0, 1, 1, 0, 0, 0, 1, 0],\n [1, 1, 0, 1, 1, 0, 0, 0, 1, 1],\n [1, 1, 0, 1, 1, 0, 1, 0, 0, 0],\n [1, 1, 0, 1, 1, 0, 1, 0, 0, 1],\n [1, 1, 0, 1, 1, 0, 1, 0, 1, 0],\n [1, 1, 0, 1, 1, 0, 1, 0, 1, 1],\n [1, 1, 0, 1, 1, 1, 0, 0, 0, 0],\n [1, 1, 0, 1, 1, 1, 0, 0, 0, 1],\n [1, 1, 0, 1, 1, 1, 0, 0, 1, 0],\n [1, 1, 0, 1, 1, 1, 0, 0, 1, 1],\n [1, 1, 0, 1, 1, 1, 1, 0, 0, 0],\n [1, 1, 0, 1, 1, 1, 1, 0, 0, 1],\n [1, 1, 0, 1, 1, 1, 1, 0, 1, 0],\n [1, 1, 0, 1, 1, 1, 1, 0, 1, 1],\n [1, 1, 1, 0, 0, 0, 0, 0, 0, 0],\n [1, 1, 1, 0, 0, 0, 0, 0, 0, 1],\n [1, 1, 1, 0, 0, 0, 0, 0, 1, 0],\n [1, 1, 1, 0, 0, 0, 0, 0, 1, 1],\n [1, 1, 1, 0, 0, 0, 1, 0, 0, 0],\n [1, 1, 1, 0, 0, 0, 1, 0, 0, 1],\n [1, 1, 1, 0, 0, 0, 1, 0, 1, 0],\n [1, 1, 1, 0, 0, 0, 1, 0, 1, 1],\n [1, 1, 1, 0, 0, 1, 0, 0, 0, 0],\n [1, 1, 1, 0, 0, 1, 0, 0, 0, 1],\n [1, 1, 1, 0, 0, 1, 0, 0, 1, 0],\n [1, 1, 1, 0, 0, 1, 0, 0, 1, 1],\n [1, 1, 1, 0, 0, 1, 1, 0, 0, 0],\n [1, 1, 1, 0, 0, 1, 1, 0, 0, 1],\n [1, 1, 1, 0, 0, 1, 1, 0, 1, 0],\n [1, 1, 1, 0, 0, 1, 1, 0, 1, 1],\n [1, 1, 1, 0, 1, 0, 0, 0, 0, 0],\n [1, 1, 1, 0, 1, 0, 0, 0, 0, 1],\n [1, 1, 1, 0, 1, 0, 0, 0, 1, 0],\n [1, 1, 1, 0, 1, 0, 0, 0, 1, 1],\n [1, 1, 1, 0, 1, 0, 1, 0, 0, 0],\n [1, 1, 1, 0, 1, 0, 1, 0, 0, 1],\n [1, 1, 1, 0, 1, 0, 1, 0, 1, 0],\n [1, 1, 1, 0, 1, 0, 1, 0, 1, 1],\n [1, 1, 1, 0, 1, 1, 0, 0, 0, 0],\n [1, 1, 1, 0, 1, 1, 0, 0, 0, 1],\n [1, 1, 1, 0, 1, 1, 0, 0, 1, 0],\n [1, 1, 1, 0, 1, 1, 0, 0, 1, 1],\n [1, 1, 1, 0, 1, 1, 1, 0, 0, 0],\n [1, 1, 1, 0, 1, 1, 1, 0, 0, 1],\n [1, 1, 1, 0, 1, 1, 1, 0, 1, 0],\n [1, 1, 1, 0, 1, 1, 1, 0, 1, 1],\n [1, 1, 1, 1, 0, 0, 0, 0, 0, 0],\n [1, 1, 1, 1, 0, 0, 0, 0, 0, 1],\n [1, 1, 1, 1, 0, 0, 0, 0, 1, 0],\n [1, 1, 1, 1, 0, 0, 0, 0, 1, 1],\n [1, 1, 1, 1, 0, 0, 1, 0, 0, 0],\n [1, 1, 1, 1, 0, 0, 1, 0, 0, 1],\n [1, 1, 1, 1, 0, 0, 1, 0, 1, 0],\n [1, 1, 1, 1, 0, 0, 1, 0, 1, 1],\n [1, 1, 1, 1, 0, 1, 0, 0, 0, 0],\n [1, 1, 1, 1, 0, 1, 0, 0, 0, 1],\n [1, 1, 1, 1, 0, 1, 0, 0, 1, 0],\n [1, 1, 1, 1, 0, 1, 0, 0, 1, 1],\n [1, 1, 1, 1, 0, 1, 1, 0, 0, 0],\n [1, 1, 1, 1, 0, 1, 1, 0, 0, 1],\n [1, 1, 1, 1, 0, 1, 1, 0, 1, 0],\n [1, 1, 1, 1, 0, 1, 1, 0, 1, 1],\n [1, 1, 1, 1, 1, 0, 0, 0, 0, 0],\n [1, 1, 1, 1, 1, 0, 0, 0, 0, 1],\n [1, 1, 1, 1, 1, 0, 0, 0, 1, 0],\n [1, 1, 1, 1, 1, 0, 0, 0, 1, 1],\n [1, 1, 1, 1, 1, 0, 1, 0, 0, 0],\n [1, 1, 1, 1, 1, 0, 1, 0, 0, 1],\n [1, 1, 1, 1, 1, 0, 1, 0, 1, 0],\n [1, 1, 1, 1, 1, 0, 1, 0, 1, 1],\n [1, 1, 1, 1, 1, 1, 0, 0, 0, 0],\n [1, 1, 1, 1, 1, 1, 0, 0, 0, 1],\n [1, 1, 1, 1, 1, 1, 0, 0, 1, 0],\n [1, 1, 1, 1, 1, 1, 0, 0, 1, 1],\n [1, 1, 1, 1, 1, 1, 1, 0, 0, 0],\n [1, 1, 1, 1, 1, 1, 1, 0, 0, 1],\n [1, 1, 1, 1, 1, 1, 1, 0, 1, 0],\n [1, 1, 1, 1, 1, 1, 1, 0, 1, 1]]"
     },
     "execution_count": 97,
     "metadata": {},
     "output_type": "execute_result"
    }
   ],
   "source": [
    "sm.update_feasible_schedules(Solution(real=np.array(best_solution, dtype=float), discrete=np.array([])))\n",
    "sm.feasible_schedules"
   ],
   "metadata": {
    "collapsed": false,
    "ExecuteTime": {
     "end_time": "2024-03-16T17:38:58.908613Z",
     "start_time": "2024-03-16T17:38:58.785046Z"
    }
   },
   "id": "92e7ba87d78a3918",
   "execution_count": 97
  },
  {
   "cell_type": "code",
   "outputs": [
    {
     "name": "stdout",
     "output_type": "stream",
     "text": [
      "[1 1 1 1 1 1 1 0 1 1]\n"
     ]
    },
    {
     "data": {
      "text/plain": "1902.5370350627811"
     },
     "execution_count": 98,
     "metadata": {},
     "output_type": "execute_result"
    }
   ],
   "source": [
    "S_i = sm.get_best_schedule(Solution(real=best_solution, discrete=np.array([])))\n",
    "print(S_i)\n",
    "\n",
    "sm.get_revenue(Solution(real=best_solution, discrete=S_i))"
   ],
   "metadata": {
    "collapsed": false,
    "ExecuteTime": {
     "end_time": "2024-03-16T17:39:16.526325Z",
     "start_time": "2024-03-16T17:39:16.404589Z"
    }
   },
   "id": "e17ef56a32b2b12b",
   "execution_count": 98
  },
  {
   "cell_type": "code",
   "outputs": [
    {
     "data": {
      "text/plain": "array([1, 1, 1])"
     },
     "execution_count": 18,
     "metadata": {},
     "output_type": "execute_result"
    }
   ],
   "source": [
    "sm.get_best_schedule(Solution(real=best_solution, discrete=np.array([])))"
   ],
   "metadata": {
    "collapsed": false,
    "ExecuteTime": {
     "end_time": "2024-03-14T17:16:43.733552Z",
     "start_time": "2024-03-14T17:16:43.723282Z"
    }
   },
   "id": "f55e854c26a1212c",
   "execution_count": 18
  },
  {
   "cell_type": "code",
   "outputs": [
    {
     "data": {
      "text/plain": "2854.5"
     },
     "execution_count": 99,
     "metadata": {},
     "output_type": "execute_result"
    }
   ],
   "source": [
    "sum([revenue[service]['canon'] for service in revenue])"
   ],
   "metadata": {
    "collapsed": false,
    "ExecuteTime": {
     "end_time": "2024-03-16T17:40:01.735924Z",
     "start_time": "2024-03-16T17:40:01.719803Z"
    }
   },
   "id": "aa6f4cb80af96241",
   "execution_count": 99
  },
  {
   "cell_type": "code",
   "outputs": [
    {
     "data": {
      "text/plain": "    Iteration     Fitness  Accuracy  ExecutionTime Discrete  \\\n0           0  517.014978         0       0.003048       []   \n1           1  530.855183         0       0.085591       []   \n2           2  542.646939         0       0.165635       []   \n3           3  565.661258         0       0.218120       []   \n4           4  565.661258         0       0.242157       []   \n5           5  565.661258         0       0.312635       []   \n6           6  565.661258         0       0.359963       []   \n7           7  566.497557         0       0.363831       []   \n8           8  568.721232         0       0.367587       []   \n9           9  568.721232         0       0.370925       []   \n10         10  568.721232         0       0.373775       []   \n11         11  568.721232         0       0.377499       []   \n12         12  568.721232         0       0.407769       []   \n13         13  568.721232         0       0.431715       []   \n14         14  569.752270         0       0.434186       []   \n15         15  569.944354         0       0.444001       []   \n16         16  569.944354         0       0.457104       []   \n17         17  569.944354         0       0.461096       []   \n18         18  569.944354         0       0.467344       []   \n19         19  569.944354         0       0.522234       []   \n20         20  569.944354         0       0.541828       []   \n21         21  569.944354         0       0.547574       []   \n22         22  569.944354         0       0.596972       []   \n23         23  571.348366         0       0.624208       []   \n24         24  575.662230         0       0.631063       []   \n25         25  582.045664         0       0.674821       []   \n26         26  586.110856         0       0.713089       []   \n27         27  586.110856         0       0.814261       []   \n28         28  586.110856         0       0.940392       []   \n29         29  586.110856         0       1.047582       []   \n30         30  588.921026         0       1.123223       []   \n31         31  589.252402         0       1.197486       []   \n32         32  589.357310         0       1.267606       []   \n33         33  589.433702         0       1.339689       []   \n34         34  590.874839         0       1.379981       []   \n35         35  590.874839         0       1.413400       []   \n36         36  590.874839         0       1.439690       []   \n37         37  590.874839         0       1.514880       []   \n38         38  591.196481         0       1.610974       []   \n39         39  591.196481         0       1.614665       []   \n40         40  591.196481         0       1.616876       []   \n41         41  591.196481         0       1.619479       []   \n42         42  591.215615         0       1.621906       []   \n43         43  591.244117         0       1.666866       []   \n44         44  591.247727         0       1.729309       []   \n45         45  591.247727         0       1.812686       []   \n46         46  591.252572         0       1.933760       []   \n47         47  591.252572         0       2.056270       []   \n48         48  591.252679         0       2.166871       []   \n49         49  591.252711         0       2.266971       []   \n\n                                                 Real  \n0   [-4.98, 157.83, 161.92, 189.92, 11.98, 35.76, ...  \n1   [-2.7546657683245406, 157.40093372659027, 161....  \n2   [-1.4908902847345742, 157.03956686173672, 161....  \n3   [-0.08372446694929914, 152.02590705979338, 157...  \n4   [5.670225709399254, 148.90734406439034, 159.04...  \n5   [5.670225709399254, 148.90734406439034, 159.04...  \n6   [5.670225709399254, 148.90734406439034, 159.04...  \n7   [-9.771727430351225, 145.23158773598314, 153.9...  \n8   [-7.794995179434571, 143.10007102447446, 154.2...  \n9   [-9.92970600467806, 143.22751590497882, 153.84...  \n10  [-9.92970600467806, 143.22751590497882, 153.84...  \n11  [-9.92970600467806, 143.22751590497882, 153.84...  \n12  [-9.92970600467806, 143.22751590497882, 153.84...  \n13  [-9.92970600467806, 143.22751590497882, 153.84...  \n14  [-9.056985424365779, 140.95362962673235, 153.2...  \n15  [-8.9701371854631, 142.04060276661053, 153.246...  \n16  [-8.823913805517407, 144.13362164643843, 153.3...  \n17  [-8.823913805517407, 144.13362164643843, 153.3...  \n18  [-8.823913805517407, 144.13362164643843, 153.3...  \n19  [-8.823913805517407, 144.13362164643843, 153.3...  \n20  [-8.823913805517407, 144.13362164643843, 153.3...  \n21  [-8.823913805517407, 144.13362164643843, 153.3...  \n22  [-8.823913805517407, 144.13362164643843, 153.3...  \n23  [-8.961428255969949, 142.95682803443975, 152.3...  \n24  [-8.940034737799113, 142.32824872429532, 152.3...  \n25  [-8.88862200511195, 141.04490900976057, 151.29...  \n26  [-9.02234150839642, 140.6879390247832, 151.218...  \n27  [-9.047646797139107, 140.61082583003213, 151.1...  \n28  [-9.047646797139107, 140.61082583003213, 151.1...  \n29  [-9.047646797139107, 140.61082583003213, 151.1...  \n30  [-9.036858187160343, 140.8703424548706, 151.21...  \n31  [-9.0356342270743, 141.10833600614865, 151.216...  \n32  [-9.035182949815933, 141.15679890816432, 151.2...  \n33  [-9.034534348242634, 141.1866281325309, 151.21...  \n34  [-9.034962015512225, 141.10993610213188, 151.2...  \n35  [-9.043982957535663, 140.91242479181528, 151.2...  \n36  [-9.043982957535663, 140.91242479181528, 151.2...  \n37  [-9.043982957535663, 140.91242479181528, 151.2...  \n38  [-9.03350153904783, 141.17993160474694, 151.20...  \n39  [-9.03422400832405, 141.21076156682577, 151.20...  \n40  [-9.03422400832405, 141.21076156682577, 151.20...  \n41  [-9.03422400832405, 141.21076156682577, 151.20...  \n42  [-9.024712351042139, 140.8875136932124, 150.87...  \n43  [-9.023244085009217, 140.89343620531116, 150.8...  \n44  [-9.023532259989004, 140.8953114132988, 150.85...  \n45  [-9.023712875199303, 140.89716878116317, 150.8...  \n46  [-9.023865664724458, 140.89689349095372, 150.7...  \n47  [-9.023963051126682, 140.8988345735588, 150.77...  \n48  [-9.023692285606792, 140.89948674954434, 150.7...  \n49  [-9.023643498325988, 140.89988353336167, 150.7...  ",
      "text/html": "<div>\n<style scoped>\n    .dataframe tbody tr th:only-of-type {\n        vertical-align: middle;\n    }\n\n    .dataframe tbody tr th {\n        vertical-align: top;\n    }\n\n    .dataframe thead th {\n        text-align: right;\n    }\n</style>\n<table border=\"1\" class=\"dataframe\">\n  <thead>\n    <tr style=\"text-align: right;\">\n      <th></th>\n      <th>Iteration</th>\n      <th>Fitness</th>\n      <th>Accuracy</th>\n      <th>ExecutionTime</th>\n      <th>Discrete</th>\n      <th>Real</th>\n    </tr>\n  </thead>\n  <tbody>\n    <tr>\n      <th>0</th>\n      <td>0</td>\n      <td>517.014978</td>\n      <td>0</td>\n      <td>0.003048</td>\n      <td>[]</td>\n      <td>[-4.98, 157.83, 161.92, 189.92, 11.98, 35.76, ...</td>\n    </tr>\n    <tr>\n      <th>1</th>\n      <td>1</td>\n      <td>530.855183</td>\n      <td>0</td>\n      <td>0.085591</td>\n      <td>[]</td>\n      <td>[-2.7546657683245406, 157.40093372659027, 161....</td>\n    </tr>\n    <tr>\n      <th>2</th>\n      <td>2</td>\n      <td>542.646939</td>\n      <td>0</td>\n      <td>0.165635</td>\n      <td>[]</td>\n      <td>[-1.4908902847345742, 157.03956686173672, 161....</td>\n    </tr>\n    <tr>\n      <th>3</th>\n      <td>3</td>\n      <td>565.661258</td>\n      <td>0</td>\n      <td>0.218120</td>\n      <td>[]</td>\n      <td>[-0.08372446694929914, 152.02590705979338, 157...</td>\n    </tr>\n    <tr>\n      <th>4</th>\n      <td>4</td>\n      <td>565.661258</td>\n      <td>0</td>\n      <td>0.242157</td>\n      <td>[]</td>\n      <td>[5.670225709399254, 148.90734406439034, 159.04...</td>\n    </tr>\n    <tr>\n      <th>5</th>\n      <td>5</td>\n      <td>565.661258</td>\n      <td>0</td>\n      <td>0.312635</td>\n      <td>[]</td>\n      <td>[5.670225709399254, 148.90734406439034, 159.04...</td>\n    </tr>\n    <tr>\n      <th>6</th>\n      <td>6</td>\n      <td>565.661258</td>\n      <td>0</td>\n      <td>0.359963</td>\n      <td>[]</td>\n      <td>[5.670225709399254, 148.90734406439034, 159.04...</td>\n    </tr>\n    <tr>\n      <th>7</th>\n      <td>7</td>\n      <td>566.497557</td>\n      <td>0</td>\n      <td>0.363831</td>\n      <td>[]</td>\n      <td>[-9.771727430351225, 145.23158773598314, 153.9...</td>\n    </tr>\n    <tr>\n      <th>8</th>\n      <td>8</td>\n      <td>568.721232</td>\n      <td>0</td>\n      <td>0.367587</td>\n      <td>[]</td>\n      <td>[-7.794995179434571, 143.10007102447446, 154.2...</td>\n    </tr>\n    <tr>\n      <th>9</th>\n      <td>9</td>\n      <td>568.721232</td>\n      <td>0</td>\n      <td>0.370925</td>\n      <td>[]</td>\n      <td>[-9.92970600467806, 143.22751590497882, 153.84...</td>\n    </tr>\n    <tr>\n      <th>10</th>\n      <td>10</td>\n      <td>568.721232</td>\n      <td>0</td>\n      <td>0.373775</td>\n      <td>[]</td>\n      <td>[-9.92970600467806, 143.22751590497882, 153.84...</td>\n    </tr>\n    <tr>\n      <th>11</th>\n      <td>11</td>\n      <td>568.721232</td>\n      <td>0</td>\n      <td>0.377499</td>\n      <td>[]</td>\n      <td>[-9.92970600467806, 143.22751590497882, 153.84...</td>\n    </tr>\n    <tr>\n      <th>12</th>\n      <td>12</td>\n      <td>568.721232</td>\n      <td>0</td>\n      <td>0.407769</td>\n      <td>[]</td>\n      <td>[-9.92970600467806, 143.22751590497882, 153.84...</td>\n    </tr>\n    <tr>\n      <th>13</th>\n      <td>13</td>\n      <td>568.721232</td>\n      <td>0</td>\n      <td>0.431715</td>\n      <td>[]</td>\n      <td>[-9.92970600467806, 143.22751590497882, 153.84...</td>\n    </tr>\n    <tr>\n      <th>14</th>\n      <td>14</td>\n      <td>569.752270</td>\n      <td>0</td>\n      <td>0.434186</td>\n      <td>[]</td>\n      <td>[-9.056985424365779, 140.95362962673235, 153.2...</td>\n    </tr>\n    <tr>\n      <th>15</th>\n      <td>15</td>\n      <td>569.944354</td>\n      <td>0</td>\n      <td>0.444001</td>\n      <td>[]</td>\n      <td>[-8.9701371854631, 142.04060276661053, 153.246...</td>\n    </tr>\n    <tr>\n      <th>16</th>\n      <td>16</td>\n      <td>569.944354</td>\n      <td>0</td>\n      <td>0.457104</td>\n      <td>[]</td>\n      <td>[-8.823913805517407, 144.13362164643843, 153.3...</td>\n    </tr>\n    <tr>\n      <th>17</th>\n      <td>17</td>\n      <td>569.944354</td>\n      <td>0</td>\n      <td>0.461096</td>\n      <td>[]</td>\n      <td>[-8.823913805517407, 144.13362164643843, 153.3...</td>\n    </tr>\n    <tr>\n      <th>18</th>\n      <td>18</td>\n      <td>569.944354</td>\n      <td>0</td>\n      <td>0.467344</td>\n      <td>[]</td>\n      <td>[-8.823913805517407, 144.13362164643843, 153.3...</td>\n    </tr>\n    <tr>\n      <th>19</th>\n      <td>19</td>\n      <td>569.944354</td>\n      <td>0</td>\n      <td>0.522234</td>\n      <td>[]</td>\n      <td>[-8.823913805517407, 144.13362164643843, 153.3...</td>\n    </tr>\n    <tr>\n      <th>20</th>\n      <td>20</td>\n      <td>569.944354</td>\n      <td>0</td>\n      <td>0.541828</td>\n      <td>[]</td>\n      <td>[-8.823913805517407, 144.13362164643843, 153.3...</td>\n    </tr>\n    <tr>\n      <th>21</th>\n      <td>21</td>\n      <td>569.944354</td>\n      <td>0</td>\n      <td>0.547574</td>\n      <td>[]</td>\n      <td>[-8.823913805517407, 144.13362164643843, 153.3...</td>\n    </tr>\n    <tr>\n      <th>22</th>\n      <td>22</td>\n      <td>569.944354</td>\n      <td>0</td>\n      <td>0.596972</td>\n      <td>[]</td>\n      <td>[-8.823913805517407, 144.13362164643843, 153.3...</td>\n    </tr>\n    <tr>\n      <th>23</th>\n      <td>23</td>\n      <td>571.348366</td>\n      <td>0</td>\n      <td>0.624208</td>\n      <td>[]</td>\n      <td>[-8.961428255969949, 142.95682803443975, 152.3...</td>\n    </tr>\n    <tr>\n      <th>24</th>\n      <td>24</td>\n      <td>575.662230</td>\n      <td>0</td>\n      <td>0.631063</td>\n      <td>[]</td>\n      <td>[-8.940034737799113, 142.32824872429532, 152.3...</td>\n    </tr>\n    <tr>\n      <th>25</th>\n      <td>25</td>\n      <td>582.045664</td>\n      <td>0</td>\n      <td>0.674821</td>\n      <td>[]</td>\n      <td>[-8.88862200511195, 141.04490900976057, 151.29...</td>\n    </tr>\n    <tr>\n      <th>26</th>\n      <td>26</td>\n      <td>586.110856</td>\n      <td>0</td>\n      <td>0.713089</td>\n      <td>[]</td>\n      <td>[-9.02234150839642, 140.6879390247832, 151.218...</td>\n    </tr>\n    <tr>\n      <th>27</th>\n      <td>27</td>\n      <td>586.110856</td>\n      <td>0</td>\n      <td>0.814261</td>\n      <td>[]</td>\n      <td>[-9.047646797139107, 140.61082583003213, 151.1...</td>\n    </tr>\n    <tr>\n      <th>28</th>\n      <td>28</td>\n      <td>586.110856</td>\n      <td>0</td>\n      <td>0.940392</td>\n      <td>[]</td>\n      <td>[-9.047646797139107, 140.61082583003213, 151.1...</td>\n    </tr>\n    <tr>\n      <th>29</th>\n      <td>29</td>\n      <td>586.110856</td>\n      <td>0</td>\n      <td>1.047582</td>\n      <td>[]</td>\n      <td>[-9.047646797139107, 140.61082583003213, 151.1...</td>\n    </tr>\n    <tr>\n      <th>30</th>\n      <td>30</td>\n      <td>588.921026</td>\n      <td>0</td>\n      <td>1.123223</td>\n      <td>[]</td>\n      <td>[-9.036858187160343, 140.8703424548706, 151.21...</td>\n    </tr>\n    <tr>\n      <th>31</th>\n      <td>31</td>\n      <td>589.252402</td>\n      <td>0</td>\n      <td>1.197486</td>\n      <td>[]</td>\n      <td>[-9.0356342270743, 141.10833600614865, 151.216...</td>\n    </tr>\n    <tr>\n      <th>32</th>\n      <td>32</td>\n      <td>589.357310</td>\n      <td>0</td>\n      <td>1.267606</td>\n      <td>[]</td>\n      <td>[-9.035182949815933, 141.15679890816432, 151.2...</td>\n    </tr>\n    <tr>\n      <th>33</th>\n      <td>33</td>\n      <td>589.433702</td>\n      <td>0</td>\n      <td>1.339689</td>\n      <td>[]</td>\n      <td>[-9.034534348242634, 141.1866281325309, 151.21...</td>\n    </tr>\n    <tr>\n      <th>34</th>\n      <td>34</td>\n      <td>590.874839</td>\n      <td>0</td>\n      <td>1.379981</td>\n      <td>[]</td>\n      <td>[-9.034962015512225, 141.10993610213188, 151.2...</td>\n    </tr>\n    <tr>\n      <th>35</th>\n      <td>35</td>\n      <td>590.874839</td>\n      <td>0</td>\n      <td>1.413400</td>\n      <td>[]</td>\n      <td>[-9.043982957535663, 140.91242479181528, 151.2...</td>\n    </tr>\n    <tr>\n      <th>36</th>\n      <td>36</td>\n      <td>590.874839</td>\n      <td>0</td>\n      <td>1.439690</td>\n      <td>[]</td>\n      <td>[-9.043982957535663, 140.91242479181528, 151.2...</td>\n    </tr>\n    <tr>\n      <th>37</th>\n      <td>37</td>\n      <td>590.874839</td>\n      <td>0</td>\n      <td>1.514880</td>\n      <td>[]</td>\n      <td>[-9.043982957535663, 140.91242479181528, 151.2...</td>\n    </tr>\n    <tr>\n      <th>38</th>\n      <td>38</td>\n      <td>591.196481</td>\n      <td>0</td>\n      <td>1.610974</td>\n      <td>[]</td>\n      <td>[-9.03350153904783, 141.17993160474694, 151.20...</td>\n    </tr>\n    <tr>\n      <th>39</th>\n      <td>39</td>\n      <td>591.196481</td>\n      <td>0</td>\n      <td>1.614665</td>\n      <td>[]</td>\n      <td>[-9.03422400832405, 141.21076156682577, 151.20...</td>\n    </tr>\n    <tr>\n      <th>40</th>\n      <td>40</td>\n      <td>591.196481</td>\n      <td>0</td>\n      <td>1.616876</td>\n      <td>[]</td>\n      <td>[-9.03422400832405, 141.21076156682577, 151.20...</td>\n    </tr>\n    <tr>\n      <th>41</th>\n      <td>41</td>\n      <td>591.196481</td>\n      <td>0</td>\n      <td>1.619479</td>\n      <td>[]</td>\n      <td>[-9.03422400832405, 141.21076156682577, 151.20...</td>\n    </tr>\n    <tr>\n      <th>42</th>\n      <td>42</td>\n      <td>591.215615</td>\n      <td>0</td>\n      <td>1.621906</td>\n      <td>[]</td>\n      <td>[-9.024712351042139, 140.8875136932124, 150.87...</td>\n    </tr>\n    <tr>\n      <th>43</th>\n      <td>43</td>\n      <td>591.244117</td>\n      <td>0</td>\n      <td>1.666866</td>\n      <td>[]</td>\n      <td>[-9.023244085009217, 140.89343620531116, 150.8...</td>\n    </tr>\n    <tr>\n      <th>44</th>\n      <td>44</td>\n      <td>591.247727</td>\n      <td>0</td>\n      <td>1.729309</td>\n      <td>[]</td>\n      <td>[-9.023532259989004, 140.8953114132988, 150.85...</td>\n    </tr>\n    <tr>\n      <th>45</th>\n      <td>45</td>\n      <td>591.247727</td>\n      <td>0</td>\n      <td>1.812686</td>\n      <td>[]</td>\n      <td>[-9.023712875199303, 140.89716878116317, 150.8...</td>\n    </tr>\n    <tr>\n      <th>46</th>\n      <td>46</td>\n      <td>591.252572</td>\n      <td>0</td>\n      <td>1.933760</td>\n      <td>[]</td>\n      <td>[-9.023865664724458, 140.89689349095372, 150.7...</td>\n    </tr>\n    <tr>\n      <th>47</th>\n      <td>47</td>\n      <td>591.252572</td>\n      <td>0</td>\n      <td>2.056270</td>\n      <td>[]</td>\n      <td>[-9.023963051126682, 140.8988345735588, 150.77...</td>\n    </tr>\n    <tr>\n      <th>48</th>\n      <td>48</td>\n      <td>591.252679</td>\n      <td>0</td>\n      <td>2.166871</td>\n      <td>[]</td>\n      <td>[-9.023692285606792, 140.89948674954434, 150.7...</td>\n    </tr>\n    <tr>\n      <th>49</th>\n      <td>49</td>\n      <td>591.252711</td>\n      <td>0</td>\n      <td>2.266971</td>\n      <td>[]</td>\n      <td>[-9.023643498325988, 140.89988353336167, 150.7...</td>\n    </tr>\n  </tbody>\n</table>\n</div>"
     },
     "execution_count": 20,
     "metadata": {},
     "output_type": "execute_result"
    }
   ],
   "source": [
    "training_history"
   ],
   "metadata": {
    "collapsed": false,
    "ExecuteTime": {
     "end_time": "2024-03-14T17:16:49.223623Z",
     "start_time": "2024-03-14T17:16:49.195263Z"
    }
   },
   "id": "d1ada6a23f65987c",
   "execution_count": 20
  },
  {
   "cell_type": "code",
   "outputs": [],
   "source": [],
   "metadata": {
    "collapsed": false
   },
   "id": "215937b03b2d6167"
  }
 ],
 "metadata": {
  "kernelspec": {
   "display_name": "Python 3 (ipykernel)",
   "language": "python",
   "name": "python3"
  },
  "language_info": {
   "codemirror_mode": {
    "name": "ipython",
    "version": 3
   },
   "file_extension": ".py",
   "mimetype": "text/x-python",
   "name": "python",
   "nbconvert_exporter": "python",
   "pygments_lexer": "ipython3",
   "version": "3.9.6"
  }
 },
 "nbformat": 4,
 "nbformat_minor": 5
}
