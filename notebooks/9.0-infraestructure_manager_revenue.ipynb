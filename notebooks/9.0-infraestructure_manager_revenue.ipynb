{
 "cells": [
  {
   "cell_type": "markdown",
   "source": [
    "# Infraestructure Manager revenue maximization with GSA"
   ],
   "metadata": {
    "collapsed": false
   },
   "id": "332c3166a53e9a5a"
  },
  {
   "cell_type": "markdown",
   "source": [
    "## 0. Load libraries"
   ],
   "metadata": {
    "collapsed": false
   },
   "id": "7b4fe385be61b35a"
  },
  {
   "cell_type": "code",
   "outputs": [],
   "source": [
    "%load_ext autoreload\n",
    "%autoreload 2\n",
    "\n",
    "import numpy as np\n",
    "\n",
    "from benchmarks.railway import Solution, RevenueMaximization\n",
    "from benchmarks.generator import get_schedule_request, get_revenue_behaviour\n",
    "from src.entities import GSA"
   ],
   "metadata": {
    "collapsed": false,
    "ExecuteTime": {
     "end_time": "2024-03-18T12:03:43.099316Z",
     "start_time": "2024-03-18T12:03:43.075821Z"
    }
   },
   "id": "c3cc59d5610d418",
   "execution_count": 1
  },
  {
   "cell_type": "markdown",
   "source": [
    "## 1. Generate service requests\n",
    "\n",
    "As an example, we will use the Spanish south high-speed railway corridor.\n",
    "\n"
   ],
   "metadata": {
    "collapsed": false
   },
   "id": "3541711d59d51280"
  },
  {
   "cell_type": "code",
   "outputs": [],
   "source": [
    "corridor = {\"MAD\": {\n",
    "                \"CIU\": {\n",
    "                    \"COR\": {\n",
    "                        \"SEV\": {\n",
    "                            \"CAD\": {}\n",
    "                               },\n",
    "                        \"PGE\": {\n",
    "                            \"ANT\": {\n",
    "                                \"GRA\": {},\n",
    "                                \"MAL\": {}\n",
    "                                    }\n",
    "                                }\n",
    "                            }\n",
    "                        }\n",
    "                    }\n",
    "            }"
   ],
   "metadata": {
    "collapsed": false,
    "ExecuteTime": {
     "end_time": "2024-03-18T12:33:26.428460Z",
     "start_time": "2024-03-18T12:33:26.408235Z"
    }
   },
   "id": "909d19737ed8bbd6",
   "execution_count": 47
  },
  {
   "cell_type": "code",
   "outputs": [
    {
     "data": {
      "text/plain": "({1: {'CIU': [1302, 1302],\n   'COR': [1364, 1369],\n   'PGE': [1481, 1487],\n   'ANT': [1575, 1580],\n   'GRA': [1628, 1628]},\n  2: {'MAD': [606, 606],\n   'CIU': [679, 685],\n   'COR': [797, 800],\n   'SEV': [905, 912],\n   'CAD': [995, 995]},\n  3: {'MAD': [933, 933],\n   'CIU': [1033, 1039],\n   'COR': [1091, 1098],\n   'SEV': [1136, 1140],\n   'CAD': [1170, 1170]},\n  4: {'MAD': [963, 963],\n   'CIU': [1005, 1008],\n   'COR': [1115, 1118],\n   'PGE': [1203, 1206],\n   'ANT': [1234, 1238],\n   'GRA': [1281, 1281]},\n  5: {'COR': [537, 537],\n   'PGE': [614, 620],\n   'ANT': [730, 737],\n   'MAL': [762, 762]},\n  6: {'PGE': [1284, 1284], 'ANT': [1388, 1392], 'MAL': [1490, 1490]},\n  7: {'PGE': [980, 980], 'ANT': [1015, 1021], 'GRA': [1086, 1086]},\n  8: {'MAD': [976, 976],\n   'CIU': [1045, 1051],\n   'COR': [1081, 1087],\n   'SEV': [1131, 1137],\n   'CAD': [1184, 1184]}},\n {1: {'canon': 302.5,\n   'k': 1.01,\n   'dt_max_penalty': 42.35,\n   'tt_max_penalty': 19.66},\n  2: {'canon': 302.5,\n   'k': 1.13,\n   'dt_max_penalty': 42.35,\n   'tt_max_penalty': 19.66},\n  3: {'canon': 330.0,\n   'k': 37.65,\n   'dt_max_penalty': 46.2,\n   'tt_max_penalty': 21.45},\n  4: {'canon': 445.5,\n   'k': 9.04,\n   'dt_max_penalty': 62.37,\n   'tt_max_penalty': 23.17},\n  5: {'canon': 264.0,\n   'k': 71.38,\n   'dt_max_penalty': 36.96,\n   'tt_max_penalty': 22.88},\n  6: {'canon': 222.75,\n   'k': 1.05,\n   'dt_max_penalty': 31.18,\n   'tt_max_penalty': 28.96},\n  7: {'canon': 222.75,\n   'k': 1.02,\n   'dt_max_penalty': 31.18,\n   'tt_max_penalty': 28.96},\n  8: {'canon': 330.0,\n   'k': 5.05,\n   'dt_max_penalty': 46.2,\n   'tt_max_penalty': 21.45}})"
     },
     "execution_count": 187,
     "metadata": {},
     "output_type": "execute_result"
    }
   ],
   "source": [
    "np.random.seed(seed=28)\n",
    "\n",
    "schedule = get_schedule_request(corridor, 8)\n",
    "revenue = get_revenue_behaviour(schedule)\n",
    "\n",
    "schedule, revenue"
   ],
   "metadata": {
    "collapsed": false,
    "ExecuteTime": {
     "end_time": "2024-03-18T13:22:18.507952Z",
     "start_time": "2024-03-18T13:22:18.488264Z"
    }
   },
   "id": "431870c186978069",
   "execution_count": 187
  },
  {
   "cell_type": "code",
   "outputs": [
    {
     "data": {
      "text/plain": "({1: {'MAD': [0, 0], 'BAR': [148, 152], 'FIG': [180, 180]},\n  2: {'MAD': [8, 8], 'ZAR': [28, 30], 'BAR': [165, 167], 'FIG': [210, 210]},\n  3: {'MAD': [30, 30], 'BAR': [180, 182], 'FIG': [225, 225]}},\n {1: {'canon': 222.75,\n   'k': 1.05,\n   'dt_max_penalty': 31.18,\n   'tt_max_penalty': 28.96},\n  2: {'canon': 242.0,\n   'k': 1.03,\n   'dt_max_penalty': 33.88,\n   'tt_max_penalty': 20.97},\n  3: {'canon': 198.0,\n   'k': 1.18,\n   'dt_max_penalty': 27.72,\n   'tt_max_penalty': 25.74}})"
     },
     "execution_count": 135,
     "metadata": {},
     "output_type": "execute_result"
    }
   ],
   "source": [
    "np.random.seed(seed=28)\n",
    "\n",
    "# Dummy schedule\n",
    "schedule = {1: {'MAD': [0, 0], 'BAR': [148, 152], 'FIG': [180, 180]},\n",
    "            2: {'MAD': [8, 8], 'ZAR': [28, 30], 'BAR': [165, 167], 'FIG': [210, 210]},\n",
    "            3: {'MAD': [30, 30], 'BAR': [180, 182], 'FIG': [225, 225]}}\n",
    "\n",
    "revenue = get_revenue_behaviour(schedule)\n",
    "\n",
    "schedule, revenue"
   ],
   "metadata": {
    "collapsed": false,
    "ExecuteTime": {
     "end_time": "2024-03-18T13:18:04.538941Z",
     "start_time": "2024-03-18T13:18:03.760216Z"
    }
   },
   "id": "670b23e26656589b",
   "execution_count": 135
  },
  {
   "cell_type": "code",
   "outputs": [],
   "source": [
    "sm = RevenueMaximization(schedule, revenue, safe_headway=10)"
   ],
   "metadata": {
    "collapsed": false,
    "ExecuteTime": {
     "end_time": "2024-03-18T13:22:23.247894Z",
     "start_time": "2024-03-18T13:22:23.234650Z"
    }
   },
   "id": "94f1efee22a495be",
   "execution_count": 188
  },
  {
   "cell_type": "code",
   "outputs": [],
   "source": [
    "sm.update_schedule(Solution(real=np.array([-3, 152, 8, 30, 167, 30, 182], dtype=float), discrete=np.array([])))\n",
    "sm.updated_schedule"
   ],
   "metadata": {
    "collapsed": false
   },
   "id": "42ff6f5ddd7011c1",
   "execution_count": null
  },
  {
   "cell_type": "code",
   "outputs": [],
   "source": [
    "gsa_algo = GSA(objective_function=sm.get_fitness_gsa,\n",
    "               is_feasible=sm.feasible_services_times,\n",
    "               r_dim=len(sm.boundaries.real),\n",
    "               d_dim=0,\n",
    "               boundaries=sm.boundaries)"
   ],
   "metadata": {
    "collapsed": false,
    "ExecuteTime": {
     "end_time": "2024-03-18T13:22:26.792563Z",
     "start_time": "2024-03-18T13:22:26.778430Z"
    }
   },
   "id": "bac4a98fae2b0f1a",
   "execution_count": 190
  },
  {
   "cell_type": "code",
   "outputs": [
    {
     "name": "stdout",
     "output_type": "stream",
     "text": [
      "Initial population: [<src.entities.Solution object at 0x157a06280>, <src.entities.Solution object at 0x156ff4f70>, <src.entities.Solution object at 0x2ccc76550>, <src.entities.Solution object at 0x2bdcefcd0>, <src.entities.Solution object at 0x15784d2e0>, <src.entities.Solution object at 0x15784d250>, <src.entities.Solution object at 0x15784d490>, <src.entities.Solution object at 0x15784d5b0>, <src.entities.Solution object at 0x15784d3a0>, <src.entities.Solution object at 0x1578953d0>, <src.entities.Solution object at 0x1578499d0>, <src.entities.Solution object at 0x1578499a0>, <src.entities.Solution object at 0x157849a00>, <src.entities.Solution object at 0x157849eb0>, <src.entities.Solution object at 0x157849f10>, <src.entities.Solution object at 0x157849dc0>, <src.entities.Solution object at 0x157849e50>, <src.entities.Solution object at 0x157b05f40>, <src.entities.Solution object at 0x1576aae20>, <src.entities.Solution object at 0x1576aae50>]\n",
      "GSA is optimizing  \"get_fitness_gsa\"\n",
      "['At iteration 1 the best fitness is 1307.2449652246887']\n",
      "['At iteration 2 the best fitness is 1334.168030365019']\n",
      "['At iteration 3 the best fitness is 1362.0189606092597']\n",
      "['At iteration 4 the best fitness is 1379.1541638966874']\n",
      "['At iteration 5 the best fitness is 1415.2692035565176']\n",
      "['At iteration 6 the best fitness is 1417.5872584030835']\n",
      "['At iteration 7 the best fitness is 1417.5872584030835']\n",
      "['At iteration 8 the best fitness is 1433.4074627838663']\n",
      "['At iteration 9 the best fitness is 1487.2115308429886']\n",
      "['At iteration 10 the best fitness is 1497.1073654583017']\n",
      "['At iteration 11 the best fitness is 1520.4429885242664']\n",
      "['At iteration 12 the best fitness is 1539.5871296432138']\n",
      "['At iteration 13 the best fitness is 1576.335562108313']\n",
      "['At iteration 14 the best fitness is 1618.3794340420409']\n",
      "['At iteration 15 the best fitness is 1633.102432891877']\n",
      "['At iteration 16 the best fitness is 1647.8732432011145']\n",
      "['At iteration 17 the best fitness is 1648.7197927863426']\n",
      "['At iteration 18 the best fitness is 1651.506038992507']\n",
      "['At iteration 19 the best fitness is 1651.506038992507']\n",
      "['At iteration 20 the best fitness is 1654.1955230069195']\n",
      "['At iteration 21 the best fitness is 1655.7024587510393']\n",
      "['At iteration 22 the best fitness is 1655.7024587510393']\n",
      "['At iteration 23 the best fitness is 1655.7024587510393']\n",
      "['At iteration 24 the best fitness is 1657.698364010616']\n",
      "['At iteration 25 the best fitness is 1657.9256967153242']\n",
      "['At iteration 26 the best fitness is 1661.9825015510564']\n",
      "['At iteration 27 the best fitness is 1661.9825015510564']\n",
      "['At iteration 28 the best fitness is 1661.9825015510564']\n",
      "['At iteration 29 the best fitness is 1661.9825015510564']\n",
      "['At iteration 30 the best fitness is 1662.237532427612']\n",
      "['At iteration 31 the best fitness is 1662.237532427612']\n",
      "['At iteration 32 the best fitness is 1664.203193458938']\n",
      "['At iteration 33 the best fitness is 1668.5357584470323']\n",
      "['At iteration 34 the best fitness is 1674.0511787761584']\n",
      "['At iteration 35 the best fitness is 1698.9027562306994']\n",
      "['At iteration 36 the best fitness is 1711.2147449771178']\n",
      "['At iteration 37 the best fitness is 1720.221367608298']\n",
      "['At iteration 38 the best fitness is 1724.476279500973']\n",
      "['At iteration 39 the best fitness is 1728.0876764154152']\n",
      "['At iteration 40 the best fitness is 1730.7336770560175']\n",
      "['At iteration 41 the best fitness is 1732.9524103254475']\n",
      "['At iteration 42 the best fitness is 1736.9100786538645']\n",
      "['At iteration 43 the best fitness is 1736.9100786538645']\n",
      "['At iteration 44 the best fitness is 1736.9100786538645']\n",
      "['At iteration 45 the best fitness is 1747.9381492736577']\n",
      "['At iteration 46 the best fitness is 1756.51']\n",
      "['At iteration 47 the best fitness is 1756.5100000000702']\n",
      "['At iteration 48 the best fitness is 1756.5100000000702']\n",
      "['At iteration 49 the best fitness is 1756.5100000000702']\n",
      "['At iteration 50 the best fitness is 1756.5100096258095']\n",
      "['At iteration 51 the best fitness is 1756.5100096258095']\n",
      "['At iteration 52 the best fitness is 1756.5108761944339']\n",
      "['At iteration 53 the best fitness is 1756.5439744650107']\n",
      "['At iteration 54 the best fitness is 1756.5439744650107']\n",
      "['At iteration 55 the best fitness is 1760.8132091811187']\n",
      "['At iteration 56 the best fitness is 1777.96']\n",
      "['At iteration 57 the best fitness is 1777.96']\n",
      "['At iteration 58 the best fitness is 1777.96']\n",
      "['At iteration 59 the best fitness is 1777.96']\n",
      "['At iteration 60 the best fitness is 1777.96']\n",
      "['At iteration 61 the best fitness is 1777.96']\n",
      "['At iteration 62 the best fitness is 1777.96']\n",
      "['At iteration 63 the best fitness is 1777.96']\n",
      "['At iteration 64 the best fitness is 1777.96']\n",
      "['At iteration 65 the best fitness is 1777.96']\n",
      "['At iteration 66 the best fitness is 1777.96']\n",
      "['At iteration 67 the best fitness is 1777.96']\n",
      "['At iteration 68 the best fitness is 1777.96']\n",
      "['At iteration 69 the best fitness is 1777.96']\n",
      "['At iteration 70 the best fitness is 1777.96']\n",
      "['At iteration 71 the best fitness is 1777.96']\n",
      "['At iteration 72 the best fitness is 1777.96']\n",
      "['At iteration 73 the best fitness is 1777.96']\n",
      "['At iteration 74 the best fitness is 1777.96']\n",
      "['At iteration 75 the best fitness is 1777.96']\n",
      "['At iteration 76 the best fitness is 1777.96']\n",
      "['At iteration 77 the best fitness is 1777.96']\n",
      "['At iteration 78 the best fitness is 1777.96']\n",
      "['At iteration 79 the best fitness is 1777.96']\n",
      "['At iteration 80 the best fitness is 1777.96']\n",
      "['At iteration 81 the best fitness is 1777.96']\n",
      "['At iteration 82 the best fitness is 1777.96']\n",
      "['At iteration 83 the best fitness is 1777.96']\n",
      "['At iteration 84 the best fitness is 1777.96']\n",
      "['At iteration 85 the best fitness is 1777.96']\n",
      "['At iteration 86 the best fitness is 1777.96']\n",
      "['At iteration 87 the best fitness is 1777.96']\n",
      "['At iteration 88 the best fitness is 1777.96']\n",
      "['At iteration 89 the best fitness is 1777.96']\n",
      "['At iteration 90 the best fitness is 1777.96']\n",
      "['At iteration 91 the best fitness is 1777.96']\n",
      "['At iteration 92 the best fitness is 1777.96']\n",
      "['At iteration 93 the best fitness is 1777.96']\n",
      "['At iteration 94 the best fitness is 1777.96']\n",
      "['At iteration 95 the best fitness is 1777.96']\n",
      "['At iteration 96 the best fitness is 1777.96']\n",
      "['At iteration 97 the best fitness is 1777.96']\n",
      "['At iteration 98 the best fitness is 1777.96']\n",
      "['At iteration 99 the best fitness is 1777.96']\n",
      "['At iteration 100 the best fitness is 1777.96']\n",
      "Elapsed time: 37.753957986831665\n"
     ]
    }
   ],
   "source": [
    "import cProfile as profile\n",
    "import time\n",
    "\n",
    "pr = profile.Profile()\n",
    "pr.disable()\n",
    "\n",
    "#gsa_algo.set_seed(seed=28)\n",
    "\n",
    "pop_size = 20\n",
    "\n",
    "start = time.time()\n",
    "pr.enable()\n",
    "training_history = gsa_algo.optimize(population_size=pop_size,\n",
    "                                     iters=100,\n",
    "                                     chaotic_constant=True,\n",
    "                                     repair_solution=False,\n",
    "                                     initial_population=sm.get_initial_population(pop_size))\n",
    "pr.disable()\n",
    "print(f\"Elapsed time: {time.time() - start}\")\n",
    "\n",
    "pr.dump_stats('profile.pstat')"
   ],
   "metadata": {
    "collapsed": false,
    "ExecuteTime": {
     "end_time": "2024-03-18T13:23:04.847963Z",
     "start_time": "2024-03-18T13:22:27.077064Z"
    }
   },
   "id": "827d315d63189f83",
   "execution_count": 191
  },
  {
   "cell_type": "code",
   "outputs": [
    {
     "data": {
      "text/plain": "array([ -1., 154.,   9.,  30., 167.,  30., 188.])"
     },
     "execution_count": 165,
     "metadata": {},
     "output_type": "execute_result"
    }
   ],
   "source": [
    "sm.best_solution.real"
   ],
   "metadata": {
    "collapsed": false,
    "ExecuteTime": {
     "end_time": "2024-03-18T13:19:50.587167Z",
     "start_time": "2024-03-18T13:19:50.571818Z"
    }
   },
   "id": "3525c450bbcc3a13",
   "execution_count": 165
  },
  {
   "cell_type": "code",
   "outputs": [
    {
     "data": {
      "text/plain": "{1: {'MAD': [0, 0], 'BAR': [148, 152], 'FIG': [180, 180]},\n 2: {'MAD': [8, 8], 'ZAR': [28, 30], 'BAR': [165, 167], 'FIG': [210, 210]},\n 3: {'MAD': [30, 30], 'BAR': [180, 182], 'FIG': [225, 225]}}"
     },
     "execution_count": 166,
     "metadata": {},
     "output_type": "execute_result"
    }
   ],
   "source": [
    "sm.requested_schedule"
   ],
   "metadata": {
    "collapsed": false,
    "ExecuteTime": {
     "end_time": "2024-03-18T13:19:50.896563Z",
     "start_time": "2024-03-18T13:19:50.882294Z"
    }
   },
   "id": "ee0d8222fab4bf",
   "execution_count": 166
  },
  {
   "cell_type": "code",
   "outputs": [
    {
     "data": {
      "text/plain": "{1: [148, 4, 28], 2: [20, 2, 135, 2, 43], 3: [150, 2, 43]}"
     },
     "execution_count": 167,
     "metadata": {},
     "output_type": "execute_result"
    }
   ],
   "source": [
    "sm.operational_times"
   ],
   "metadata": {
    "collapsed": false,
    "ExecuteTime": {
     "end_time": "2024-03-18T13:19:51.253785Z",
     "start_time": "2024-03-18T13:19:51.239896Z"
    }
   },
   "id": "56b8cb4c6c244593",
   "execution_count": 167
  },
  {
   "cell_type": "code",
   "outputs": [
    {
     "data": {
      "text/plain": "[[-10, 10],\n [152.0, 162],\n [-2, 18],\n [32.0, 40],\n [167.0, 177],\n [20, 40],\n [182.0, 192]]"
     },
     "execution_count": 168,
     "metadata": {},
     "output_type": "execute_result"
    }
   ],
   "source": [
    "sm.boundaries.real"
   ],
   "metadata": {
    "collapsed": false,
    "ExecuteTime": {
     "end_time": "2024-03-18T13:19:51.661827Z",
     "start_time": "2024-03-18T13:19:51.647763Z"
    }
   },
   "id": "9468bf8f954b437b",
   "execution_count": 168
  },
  {
   "cell_type": "code",
   "outputs": [
    {
     "data": {
      "text/plain": "{1: {'MAD': [2.8908167663271004e-30, 2.8908167663271004e-30],\n  'BAR': [148.0, 152.0],\n  'FIG': [180.0, 180.0]},\n 2: {'MAD': [10.0, 10.0],\n  'ZAR': [30.0, 30.0],\n  'BAR': [165.0, 167.0],\n  'FIG': [210.0, 210.0]},\n 3: {'MAD': [30.0, 30.0], 'BAR': [180.0, 186.0], 'FIG': [229.0, 229.0]}}"
     },
     "execution_count": 169,
     "metadata": {},
     "output_type": "execute_result"
    }
   ],
   "source": [
    "sm.updated_schedule"
   ],
   "metadata": {
    "collapsed": false,
    "ExecuteTime": {
     "end_time": "2024-03-18T13:19:51.962533Z",
     "start_time": "2024-03-18T13:19:51.950564Z"
    }
   },
   "id": "8cdbcb1e2748fb55",
   "execution_count": 169
  },
  {
   "cell_type": "code",
   "outputs": [
    {
     "data": {
      "text/plain": "[[0, 0, 0],\n [0, 0, 1],\n [0, 1, 0],\n [0, 1, 1],\n [1, 0, 0],\n [1, 0, 1],\n [1, 1, 0],\n [1, 1, 1]]"
     },
     "execution_count": 170,
     "metadata": {},
     "output_type": "execute_result"
    }
   ],
   "source": [
    "sm.update_feasible_schedules(sm.best_solution)\n",
    "sm.feasible_schedules"
   ],
   "metadata": {
    "collapsed": false,
    "ExecuteTime": {
     "end_time": "2024-03-18T13:19:52.289386Z",
     "start_time": "2024-03-18T13:19:52.273431Z"
    }
   },
   "id": "2938c361ebb63602",
   "execution_count": 170
  },
  {
   "cell_type": "code",
   "outputs": [
    {
     "data": {
      "text/plain": "array([ -1., 154.,   9.,  30., 167.,  30., 188.])"
     },
     "execution_count": 171,
     "metadata": {},
     "output_type": "execute_result"
    }
   ],
   "source": [
    "sm.best_solution.real"
   ],
   "metadata": {
    "collapsed": false,
    "ExecuteTime": {
     "end_time": "2024-03-18T13:19:52.667698Z",
     "start_time": "2024-03-18T13:19:52.652846Z"
    }
   },
   "id": "ad31cfe549378b9c",
   "execution_count": 171
  },
  {
   "cell_type": "code",
   "outputs": [
    {
     "data": {
      "text/plain": "[0, 152, 8, 30, 167, 30, 182]"
     },
     "execution_count": 172,
     "metadata": {},
     "output_type": "execute_result"
    }
   ],
   "source": [
    "sm.requested_times"
   ],
   "metadata": {
    "collapsed": false,
    "ExecuteTime": {
     "end_time": "2024-03-18T13:19:53.008960Z",
     "start_time": "2024-03-18T13:19:52.999026Z"
    }
   },
   "id": "a8e859545ffee961",
   "execution_count": 172
  },
  {
   "cell_type": "code",
   "outputs": [
    {
     "data": {
      "text/plain": "658.6125968465075"
     },
     "execution_count": 173,
     "metadata": {},
     "output_type": "execute_result"
    }
   ],
   "source": [
    "sm.get_revenue(Solution(real=np.array([-2, 152, 8, 30, 167, 30, 182], dtype=float), discrete=np.array([1, 1, 1])))"
   ],
   "metadata": {
    "collapsed": false,
    "ExecuteTime": {
     "end_time": "2024-03-18T13:19:53.432986Z",
     "start_time": "2024-03-18T13:19:53.422129Z"
    }
   },
   "id": "6abef9d9440fc52b",
   "execution_count": 173
  },
  {
   "cell_type": "code",
   "outputs": [
    {
     "data": {
      "text/plain": "[[0, 0, 0],\n [0, 0, 1],\n [0, 1, 0],\n [0, 1, 1],\n [1, 0, 0],\n [1, 0, 1],\n [1, 1, 0],\n [1, 1, 1]]"
     },
     "execution_count": 174,
     "metadata": {},
     "output_type": "execute_result"
    }
   ],
   "source": [
    "sm.update_feasible_schedules(Solution(real=np.array([-2, 152, 8, 30, 167, 30, 182], dtype=float), discrete=np.array([1, 1, 1])))\n",
    "sm.feasible_schedules"
   ],
   "metadata": {
    "collapsed": false,
    "ExecuteTime": {
     "end_time": "2024-03-18T13:19:53.805252Z",
     "start_time": "2024-03-18T13:19:53.794152Z"
    }
   },
   "id": "884a95714f7c3bb5",
   "execution_count": 174
  },
  {
   "cell_type": "code",
   "outputs": [
    {
     "data": {
      "text/plain": "[1, 1, 1]"
     },
     "execution_count": 175,
     "metadata": {},
     "output_type": "execute_result"
    }
   ],
   "source": [
    "sm.best_solution.discrete"
   ],
   "metadata": {
    "collapsed": false,
    "ExecuteTime": {
     "end_time": "2024-03-18T13:19:54.393684Z",
     "start_time": "2024-03-18T13:19:54.380870Z"
    }
   },
   "id": "c8c083520bd5e886",
   "execution_count": 175
  },
  {
   "cell_type": "code",
   "outputs": [
    {
     "data": {
      "text/plain": "659.7786877646716"
     },
     "execution_count": 176,
     "metadata": {},
     "output_type": "execute_result"
    }
   ],
   "source": [
    "sm.get_revenue(sm.best_solution)"
   ],
   "metadata": {
    "collapsed": false,
    "ExecuteTime": {
     "end_time": "2024-03-18T13:19:54.670631Z",
     "start_time": "2024-03-18T13:19:54.656453Z"
    }
   },
   "id": "41a492d53aee1019",
   "execution_count": 176
  },
  {
   "cell_type": "code",
   "outputs": [
    {
     "data": {
      "text/plain": "    Iteration     Fitness  Accuracy  ExecutionTime Discrete  \\\n0           0  579.758292         0       0.009603       []   \n1           1  579.758292         0       0.023734       []   \n2           2  601.141442         0       0.036537       []   \n3           3  607.485775         0       0.048435       []   \n4           4  616.399213         0       0.059571       []   \n..        ...         ...       ...            ...      ...   \n95         95  659.778688         0       0.864713       []   \n96         96  659.778688         0       0.871656       []   \n97         97  659.778688         0       0.879287       []   \n98         98  659.778688         0       0.887516       []   \n99         99  659.778688         0       0.895719       []   \n\n                                                 Real  \n0       [-5.0, 155.0, 11.0, 34.0, 170.0, 40.0, 192.0]  \n1   [10.09215970191573, 158.73556989920806, 31.756...  \n2       [-10.0, 152.0, 6.0, 39.0, 168.0, 31.0, 192.0]  \n3       [-6.0, 152.0, 10.0, 32.0, 167.0, 36.0, 187.0]  \n4      [-10.0, 152.0, 10.0, 30.0, 167.0, 33.0, 190.0]  \n..                                                ...  \n95  [-2.722047609543581, 152.75743946566348, 9.454...  \n96  [-2.722047609543581, 152.75743946566348, 9.454...  \n97  [-2.722047609543581, 152.75743946566348, 9.454...  \n98  [-2.722047609543581, 152.75743946566348, 9.454...  \n99  [-2.722047609543581, 152.75743946566348, 9.454...  \n\n[100 rows x 6 columns]",
      "text/html": "<div>\n<style scoped>\n    .dataframe tbody tr th:only-of-type {\n        vertical-align: middle;\n    }\n\n    .dataframe tbody tr th {\n        vertical-align: top;\n    }\n\n    .dataframe thead th {\n        text-align: right;\n    }\n</style>\n<table border=\"1\" class=\"dataframe\">\n  <thead>\n    <tr style=\"text-align: right;\">\n      <th></th>\n      <th>Iteration</th>\n      <th>Fitness</th>\n      <th>Accuracy</th>\n      <th>ExecutionTime</th>\n      <th>Discrete</th>\n      <th>Real</th>\n    </tr>\n  </thead>\n  <tbody>\n    <tr>\n      <th>0</th>\n      <td>0</td>\n      <td>579.758292</td>\n      <td>0</td>\n      <td>0.009603</td>\n      <td>[]</td>\n      <td>[-5.0, 155.0, 11.0, 34.0, 170.0, 40.0, 192.0]</td>\n    </tr>\n    <tr>\n      <th>1</th>\n      <td>1</td>\n      <td>579.758292</td>\n      <td>0</td>\n      <td>0.023734</td>\n      <td>[]</td>\n      <td>[10.09215970191573, 158.73556989920806, 31.756...</td>\n    </tr>\n    <tr>\n      <th>2</th>\n      <td>2</td>\n      <td>601.141442</td>\n      <td>0</td>\n      <td>0.036537</td>\n      <td>[]</td>\n      <td>[-10.0, 152.0, 6.0, 39.0, 168.0, 31.0, 192.0]</td>\n    </tr>\n    <tr>\n      <th>3</th>\n      <td>3</td>\n      <td>607.485775</td>\n      <td>0</td>\n      <td>0.048435</td>\n      <td>[]</td>\n      <td>[-6.0, 152.0, 10.0, 32.0, 167.0, 36.0, 187.0]</td>\n    </tr>\n    <tr>\n      <th>4</th>\n      <td>4</td>\n      <td>616.399213</td>\n      <td>0</td>\n      <td>0.059571</td>\n      <td>[]</td>\n      <td>[-10.0, 152.0, 10.0, 30.0, 167.0, 33.0, 190.0]</td>\n    </tr>\n    <tr>\n      <th>...</th>\n      <td>...</td>\n      <td>...</td>\n      <td>...</td>\n      <td>...</td>\n      <td>...</td>\n      <td>...</td>\n    </tr>\n    <tr>\n      <th>95</th>\n      <td>95</td>\n      <td>659.778688</td>\n      <td>0</td>\n      <td>0.864713</td>\n      <td>[]</td>\n      <td>[-2.722047609543581, 152.75743946566348, 9.454...</td>\n    </tr>\n    <tr>\n      <th>96</th>\n      <td>96</td>\n      <td>659.778688</td>\n      <td>0</td>\n      <td>0.871656</td>\n      <td>[]</td>\n      <td>[-2.722047609543581, 152.75743946566348, 9.454...</td>\n    </tr>\n    <tr>\n      <th>97</th>\n      <td>97</td>\n      <td>659.778688</td>\n      <td>0</td>\n      <td>0.879287</td>\n      <td>[]</td>\n      <td>[-2.722047609543581, 152.75743946566348, 9.454...</td>\n    </tr>\n    <tr>\n      <th>98</th>\n      <td>98</td>\n      <td>659.778688</td>\n      <td>0</td>\n      <td>0.887516</td>\n      <td>[]</td>\n      <td>[-2.722047609543581, 152.75743946566348, 9.454...</td>\n    </tr>\n    <tr>\n      <th>99</th>\n      <td>99</td>\n      <td>659.778688</td>\n      <td>0</td>\n      <td>0.895719</td>\n      <td>[]</td>\n      <td>[-2.722047609543581, 152.75743946566348, 9.454...</td>\n    </tr>\n  </tbody>\n</table>\n<p>100 rows × 6 columns</p>\n</div>"
     },
     "execution_count": 177,
     "metadata": {},
     "output_type": "execute_result"
    }
   ],
   "source": [
    "training_history"
   ],
   "metadata": {
    "collapsed": false,
    "ExecuteTime": {
     "end_time": "2024-03-18T13:19:54.897193Z",
     "start_time": "2024-03-18T13:19:54.879620Z"
    }
   },
   "id": "d467675529585a50",
   "execution_count": 177
  },
  {
   "cell_type": "code",
   "outputs": [
    {
     "data": {
      "text/plain": "<Figure size 1000x600 with 1 Axes>",
      "image/png": "[encoded data removed]"
     },
     "metadata": {},
     "output_type": "display_data"
    }
   ],
   "source": [
    "from matplotlib import pyplot as plt\n",
    "import seaborn as sns\n",
    "\n",
    "fig, ax = plt.subplots(figsize=(10, 6))\n",
    "\n",
    "ax.set_title(\"Fitness\", fontweight='bold')\n",
    "\n",
    "# ax.set_ylim(min(global_train_hist[\"Fitness\"]), max(global_train_hist[\"Fitness\"]))\n",
    "    \n",
    "sns.lineplot(ax=ax,\n",
    "             data=training_history,\n",
    "             x=\"Iteration\",\n",
    "             y=\"Fitness\",\n",
    "             legend=True)\n",
    "\n",
    "ax.grid(axis='y', color='#A9A9A9', alpha=0.3, zorder=1)\n",
    "\n",
    "ax.set_xlabel(\"Iter.\")\n",
    "ax.set_ylabel(\"Fitness\")\n",
    "\n",
    "plt.show()\n",
    "# fig.savefig(save_path, format='svg', dpi=300, bbox_inches='tight', transparent=True)"
   ],
   "metadata": {
    "collapsed": false,
    "ExecuteTime": {
     "end_time": "2024-03-18T13:23:36.078887Z",
     "start_time": "2024-03-18T13:23:35.968799Z"
    }
   },
   "id": "36aa34e314e58053",
   "execution_count": 192
  },
  {
   "cell_type": "code",
   "outputs": [
    {
     "name": "stdout",
     "output_type": "stream",
     "text": [
      "snakeviz web server started on 127.0.0.1:8080; enter Ctrl-C to exit\r\n",
      "http://127.0.0.1:8080/snakeviz/%2FUsers%2Fuclm%2FPycharmProjects%2FGSA_M%2Fnotebooks%2Fprofile.pstat\r\n",
      "^C\r\n",
      "\r\n",
      "Bye!\r\n"
     ]
    }
   ],
   "source": [
    "!snakeviz profile.pstat"
   ],
   "metadata": {
    "collapsed": false,
    "ExecuteTime": {
     "end_time": "2024-03-18T12:27:24.002640Z",
     "start_time": "2024-03-18T12:27:02.225313Z"
    }
   },
   "id": "eaf93c09b302023c",
   "execution_count": 29
  },
  {
   "cell_type": "code",
   "outputs": [
    {
     "data": {
      "text/plain": "    Iteration     Fitness  Accuracy  ExecutionTime Discrete  \\\n0           0  517.014978         0       0.003048       []   \n1           1  530.855183         0       0.085591       []   \n2           2  542.646939         0       0.165635       []   \n3           3  565.661258         0       0.218120       []   \n4           4  565.661258         0       0.242157       []   \n5           5  565.661258         0       0.312635       []   \n6           6  565.661258         0       0.359963       []   \n7           7  566.497557         0       0.363831       []   \n8           8  568.721232         0       0.367587       []   \n9           9  568.721232         0       0.370925       []   \n10         10  568.721232         0       0.373775       []   \n11         11  568.721232         0       0.377499       []   \n12         12  568.721232         0       0.407769       []   \n13         13  568.721232         0       0.431715       []   \n14         14  569.752270         0       0.434186       []   \n15         15  569.944354         0       0.444001       []   \n16         16  569.944354         0       0.457104       []   \n17         17  569.944354         0       0.461096       []   \n18         18  569.944354         0       0.467344       []   \n19         19  569.944354         0       0.522234       []   \n20         20  569.944354         0       0.541828       []   \n21         21  569.944354         0       0.547574       []   \n22         22  569.944354         0       0.596972       []   \n23         23  571.348366         0       0.624208       []   \n24         24  575.662230         0       0.631063       []   \n25         25  582.045664         0       0.674821       []   \n26         26  586.110856         0       0.713089       []   \n27         27  586.110856         0       0.814261       []   \n28         28  586.110856         0       0.940392       []   \n29         29  586.110856         0       1.047582       []   \n30         30  588.921026         0       1.123223       []   \n31         31  589.252402         0       1.197486       []   \n32         32  589.357310         0       1.267606       []   \n33         33  589.433702         0       1.339689       []   \n34         34  590.874839         0       1.379981       []   \n35         35  590.874839         0       1.413400       []   \n36         36  590.874839         0       1.439690       []   \n37         37  590.874839         0       1.514880       []   \n38         38  591.196481         0       1.610974       []   \n39         39  591.196481         0       1.614665       []   \n40         40  591.196481         0       1.616876       []   \n41         41  591.196481         0       1.619479       []   \n42         42  591.215615         0       1.621906       []   \n43         43  591.244117         0       1.666866       []   \n44         44  591.247727         0       1.729309       []   \n45         45  591.247727         0       1.812686       []   \n46         46  591.252572         0       1.933760       []   \n47         47  591.252572         0       2.056270       []   \n48         48  591.252679         0       2.166871       []   \n49         49  591.252711         0       2.266971       []   \n\n                                                 Real  \n0   [-4.98, 157.83, 161.92, 189.92, 11.98, 35.76, ...  \n1   [-2.7546657683245406, 157.40093372659027, 161....  \n2   [-1.4908902847345742, 157.03956686173672, 161....  \n3   [-0.08372446694929914, 152.02590705979338, 157...  \n4   [5.670225709399254, 148.90734406439034, 159.04...  \n5   [5.670225709399254, 148.90734406439034, 159.04...  \n6   [5.670225709399254, 148.90734406439034, 159.04...  \n7   [-9.771727430351225, 145.23158773598314, 153.9...  \n8   [-7.794995179434571, 143.10007102447446, 154.2...  \n9   [-9.92970600467806, 143.22751590497882, 153.84...  \n10  [-9.92970600467806, 143.22751590497882, 153.84...  \n11  [-9.92970600467806, 143.22751590497882, 153.84...  \n12  [-9.92970600467806, 143.22751590497882, 153.84...  \n13  [-9.92970600467806, 143.22751590497882, 153.84...  \n14  [-9.056985424365779, 140.95362962673235, 153.2...  \n15  [-8.9701371854631, 142.04060276661053, 153.246...  \n16  [-8.823913805517407, 144.13362164643843, 153.3...  \n17  [-8.823913805517407, 144.13362164643843, 153.3...  \n18  [-8.823913805517407, 144.13362164643843, 153.3...  \n19  [-8.823913805517407, 144.13362164643843, 153.3...  \n20  [-8.823913805517407, 144.13362164643843, 153.3...  \n21  [-8.823913805517407, 144.13362164643843, 153.3...  \n22  [-8.823913805517407, 144.13362164643843, 153.3...  \n23  [-8.961428255969949, 142.95682803443975, 152.3...  \n24  [-8.940034737799113, 142.32824872429532, 152.3...  \n25  [-8.88862200511195, 141.04490900976057, 151.29...  \n26  [-9.02234150839642, 140.6879390247832, 151.218...  \n27  [-9.047646797139107, 140.61082583003213, 151.1...  \n28  [-9.047646797139107, 140.61082583003213, 151.1...  \n29  [-9.047646797139107, 140.61082583003213, 151.1...  \n30  [-9.036858187160343, 140.8703424548706, 151.21...  \n31  [-9.0356342270743, 141.10833600614865, 151.216...  \n32  [-9.035182949815933, 141.15679890816432, 151.2...  \n33  [-9.034534348242634, 141.1866281325309, 151.21...  \n34  [-9.034962015512225, 141.10993610213188, 151.2...  \n35  [-9.043982957535663, 140.91242479181528, 151.2...  \n36  [-9.043982957535663, 140.91242479181528, 151.2...  \n37  [-9.043982957535663, 140.91242479181528, 151.2...  \n38  [-9.03350153904783, 141.17993160474694, 151.20...  \n39  [-9.03422400832405, 141.21076156682577, 151.20...  \n40  [-9.03422400832405, 141.21076156682577, 151.20...  \n41  [-9.03422400832405, 141.21076156682577, 151.20...  \n42  [-9.024712351042139, 140.8875136932124, 150.87...  \n43  [-9.023244085009217, 140.89343620531116, 150.8...  \n44  [-9.023532259989004, 140.8953114132988, 150.85...  \n45  [-9.023712875199303, 140.89716878116317, 150.8...  \n46  [-9.023865664724458, 140.89689349095372, 150.7...  \n47  [-9.023963051126682, 140.8988345735588, 150.77...  \n48  [-9.023692285606792, 140.89948674954434, 150.7...  \n49  [-9.023643498325988, 140.89988353336167, 150.7...  ",
      "text/html": "<div>\n<style scoped>\n    .dataframe tbody tr th:only-of-type {\n        vertical-align: middle;\n    }\n\n    .dataframe tbody tr th {\n        vertical-align: top;\n    }\n\n    .dataframe thead th {\n        text-align: right;\n    }\n</style>\n<table border=\"1\" class=\"dataframe\">\n  <thead>\n    <tr style=\"text-align: right;\">\n      <th></th>\n      <th>Iteration</th>\n      <th>Fitness</th>\n      <th>Accuracy</th>\n      <th>ExecutionTime</th>\n      <th>Discrete</th>\n      <th>Real</th>\n    </tr>\n  </thead>\n  <tbody>\n    <tr>\n      <th>0</th>\n      <td>0</td>\n      <td>517.014978</td>\n      <td>0</td>\n      <td>0.003048</td>\n      <td>[]</td>\n      <td>[-4.98, 157.83, 161.92, 189.92, 11.98, 35.76, ...</td>\n    </tr>\n    <tr>\n      <th>1</th>\n      <td>1</td>\n      <td>530.855183</td>\n      <td>0</td>\n      <td>0.085591</td>\n      <td>[]</td>\n      <td>[-2.7546657683245406, 157.40093372659027, 161....</td>\n    </tr>\n    <tr>\n      <th>2</th>\n      <td>2</td>\n      <td>542.646939</td>\n      <td>0</td>\n      <td>0.165635</td>\n      <td>[]</td>\n      <td>[-1.4908902847345742, 157.03956686173672, 161....</td>\n    </tr>\n    <tr>\n      <th>3</th>\n      <td>3</td>\n      <td>565.661258</td>\n      <td>0</td>\n      <td>0.218120</td>\n      <td>[]</td>\n      <td>[-0.08372446694929914, 152.02590705979338, 157...</td>\n    </tr>\n    <tr>\n      <th>4</th>\n      <td>4</td>\n      <td>565.661258</td>\n      <td>0</td>\n      <td>0.242157</td>\n      <td>[]</td>\n      <td>[5.670225709399254, 148.90734406439034, 159.04...</td>\n    </tr>\n    <tr>\n      <th>5</th>\n      <td>5</td>\n      <td>565.661258</td>\n      <td>0</td>\n      <td>0.312635</td>\n      <td>[]</td>\n      <td>[5.670225709399254, 148.90734406439034, 159.04...</td>\n    </tr>\n    <tr>\n      <th>6</th>\n      <td>6</td>\n      <td>565.661258</td>\n      <td>0</td>\n      <td>0.359963</td>\n      <td>[]</td>\n      <td>[5.670225709399254, 148.90734406439034, 159.04...</td>\n    </tr>\n    <tr>\n      <th>7</th>\n      <td>7</td>\n      <td>566.497557</td>\n      <td>0</td>\n      <td>0.363831</td>\n      <td>[]</td>\n      <td>[-9.771727430351225, 145.23158773598314, 153.9...</td>\n    </tr>\n    <tr>\n      <th>8</th>\n      <td>8</td>\n      <td>568.721232</td>\n      <td>0</td>\n      <td>0.367587</td>\n      <td>[]</td>\n      <td>[-7.794995179434571, 143.10007102447446, 154.2...</td>\n    </tr>\n    <tr>\n      <th>9</th>\n      <td>9</td>\n      <td>568.721232</td>\n      <td>0</td>\n      <td>0.370925</td>\n      <td>[]</td>\n      <td>[-9.92970600467806, 143.22751590497882, 153.84...</td>\n    </tr>\n    <tr>\n      <th>10</th>\n      <td>10</td>\n      <td>568.721232</td>\n      <td>0</td>\n      <td>0.373775</td>\n      <td>[]</td>\n      <td>[-9.92970600467806, 143.22751590497882, 153.84...</td>\n    </tr>\n    <tr>\n      <th>11</th>\n      <td>11</td>\n      <td>568.721232</td>\n      <td>0</td>\n      <td>0.377499</td>\n      <td>[]</td>\n      <td>[-9.92970600467806, 143.22751590497882, 153.84...</td>\n    </tr>\n    <tr>\n      <th>12</th>\n      <td>12</td>\n      <td>568.721232</td>\n      <td>0</td>\n      <td>0.407769</td>\n      <td>[]</td>\n      <td>[-9.92970600467806, 143.22751590497882, 153.84...</td>\n    </tr>\n    <tr>\n      <th>13</th>\n      <td>13</td>\n      <td>568.721232</td>\n      <td>0</td>\n      <td>0.431715</td>\n      <td>[]</td>\n      <td>[-9.92970600467806, 143.22751590497882, 153.84...</td>\n    </tr>\n    <tr>\n      <th>14</th>\n      <td>14</td>\n      <td>569.752270</td>\n      <td>0</td>\n      <td>0.434186</td>\n      <td>[]</td>\n      <td>[-9.056985424365779, 140.95362962673235, 153.2...</td>\n    </tr>\n    <tr>\n      <th>15</th>\n      <td>15</td>\n      <td>569.944354</td>\n      <td>0</td>\n      <td>0.444001</td>\n      <td>[]</td>\n      <td>[-8.9701371854631, 142.04060276661053, 153.246...</td>\n    </tr>\n    <tr>\n      <th>16</th>\n      <td>16</td>\n      <td>569.944354</td>\n      <td>0</td>\n      <td>0.457104</td>\n      <td>[]</td>\n      <td>[-8.823913805517407, 144.13362164643843, 153.3...</td>\n    </tr>\n    <tr>\n      <th>17</th>\n      <td>17</td>\n      <td>569.944354</td>\n      <td>0</td>\n      <td>0.461096</td>\n      <td>[]</td>\n      <td>[-8.823913805517407, 144.13362164643843, 153.3...</td>\n    </tr>\n    <tr>\n      <th>18</th>\n      <td>18</td>\n      <td>569.944354</td>\n      <td>0</td>\n      <td>0.467344</td>\n      <td>[]</td>\n      <td>[-8.823913805517407, 144.13362164643843, 153.3...</td>\n    </tr>\n    <tr>\n      <th>19</th>\n      <td>19</td>\n      <td>569.944354</td>\n      <td>0</td>\n      <td>0.522234</td>\n      <td>[]</td>\n      <td>[-8.823913805517407, 144.13362164643843, 153.3...</td>\n    </tr>\n    <tr>\n      <th>20</th>\n      <td>20</td>\n      <td>569.944354</td>\n      <td>0</td>\n      <td>0.541828</td>\n      <td>[]</td>\n      <td>[-8.823913805517407, 144.13362164643843, 153.3...</td>\n    </tr>\n    <tr>\n      <th>21</th>\n      <td>21</td>\n      <td>569.944354</td>\n      <td>0</td>\n      <td>0.547574</td>\n      <td>[]</td>\n      <td>[-8.823913805517407, 144.13362164643843, 153.3...</td>\n    </tr>\n    <tr>\n      <th>22</th>\n      <td>22</td>\n      <td>569.944354</td>\n      <td>0</td>\n      <td>0.596972</td>\n      <td>[]</td>\n      <td>[-8.823913805517407, 144.13362164643843, 153.3...</td>\n    </tr>\n    <tr>\n      <th>23</th>\n      <td>23</td>\n      <td>571.348366</td>\n      <td>0</td>\n      <td>0.624208</td>\n      <td>[]</td>\n      <td>[-8.961428255969949, 142.95682803443975, 152.3...</td>\n    </tr>\n    <tr>\n      <th>24</th>\n      <td>24</td>\n      <td>575.662230</td>\n      <td>0</td>\n      <td>0.631063</td>\n      <td>[]</td>\n      <td>[-8.940034737799113, 142.32824872429532, 152.3...</td>\n    </tr>\n    <tr>\n      <th>25</th>\n      <td>25</td>\n      <td>582.045664</td>\n      <td>0</td>\n      <td>0.674821</td>\n      <td>[]</td>\n      <td>[-8.88862200511195, 141.04490900976057, 151.29...</td>\n    </tr>\n    <tr>\n      <th>26</th>\n      <td>26</td>\n      <td>586.110856</td>\n      <td>0</td>\n      <td>0.713089</td>\n      <td>[]</td>\n      <td>[-9.02234150839642, 140.6879390247832, 151.218...</td>\n    </tr>\n    <tr>\n      <th>27</th>\n      <td>27</td>\n      <td>586.110856</td>\n      <td>0</td>\n      <td>0.814261</td>\n      <td>[]</td>\n      <td>[-9.047646797139107, 140.61082583003213, 151.1...</td>\n    </tr>\n    <tr>\n      <th>28</th>\n      <td>28</td>\n      <td>586.110856</td>\n      <td>0</td>\n      <td>0.940392</td>\n      <td>[]</td>\n      <td>[-9.047646797139107, 140.61082583003213, 151.1...</td>\n    </tr>\n    <tr>\n      <th>29</th>\n      <td>29</td>\n      <td>586.110856</td>\n      <td>0</td>\n      <td>1.047582</td>\n      <td>[]</td>\n      <td>[-9.047646797139107, 140.61082583003213, 151.1...</td>\n    </tr>\n    <tr>\n      <th>30</th>\n      <td>30</td>\n      <td>588.921026</td>\n      <td>0</td>\n      <td>1.123223</td>\n      <td>[]</td>\n      <td>[-9.036858187160343, 140.8703424548706, 151.21...</td>\n    </tr>\n    <tr>\n      <th>31</th>\n      <td>31</td>\n      <td>589.252402</td>\n      <td>0</td>\n      <td>1.197486</td>\n      <td>[]</td>\n      <td>[-9.0356342270743, 141.10833600614865, 151.216...</td>\n    </tr>\n    <tr>\n      <th>32</th>\n      <td>32</td>\n      <td>589.357310</td>\n      <td>0</td>\n      <td>1.267606</td>\n      <td>[]</td>\n      <td>[-9.035182949815933, 141.15679890816432, 151.2...</td>\n    </tr>\n    <tr>\n      <th>33</th>\n      <td>33</td>\n      <td>589.433702</td>\n      <td>0</td>\n      <td>1.339689</td>\n      <td>[]</td>\n      <td>[-9.034534348242634, 141.1866281325309, 151.21...</td>\n    </tr>\n    <tr>\n      <th>34</th>\n      <td>34</td>\n      <td>590.874839</td>\n      <td>0</td>\n      <td>1.379981</td>\n      <td>[]</td>\n      <td>[-9.034962015512225, 141.10993610213188, 151.2...</td>\n    </tr>\n    <tr>\n      <th>35</th>\n      <td>35</td>\n      <td>590.874839</td>\n      <td>0</td>\n      <td>1.413400</td>\n      <td>[]</td>\n      <td>[-9.043982957535663, 140.91242479181528, 151.2...</td>\n    </tr>\n    <tr>\n      <th>36</th>\n      <td>36</td>\n      <td>590.874839</td>\n      <td>0</td>\n      <td>1.439690</td>\n      <td>[]</td>\n      <td>[-9.043982957535663, 140.91242479181528, 151.2...</td>\n    </tr>\n    <tr>\n      <th>37</th>\n      <td>37</td>\n      <td>590.874839</td>\n      <td>0</td>\n      <td>1.514880</td>\n      <td>[]</td>\n      <td>[-9.043982957535663, 140.91242479181528, 151.2...</td>\n    </tr>\n    <tr>\n      <th>38</th>\n      <td>38</td>\n      <td>591.196481</td>\n      <td>0</td>\n      <td>1.610974</td>\n      <td>[]</td>\n      <td>[-9.03350153904783, 141.17993160474694, 151.20...</td>\n    </tr>\n    <tr>\n      <th>39</th>\n      <td>39</td>\n      <td>591.196481</td>\n      <td>0</td>\n      <td>1.614665</td>\n      <td>[]</td>\n      <td>[-9.03422400832405, 141.21076156682577, 151.20...</td>\n    </tr>\n    <tr>\n      <th>40</th>\n      <td>40</td>\n      <td>591.196481</td>\n      <td>0</td>\n      <td>1.616876</td>\n      <td>[]</td>\n      <td>[-9.03422400832405, 141.21076156682577, 151.20...</td>\n    </tr>\n    <tr>\n      <th>41</th>\n      <td>41</td>\n      <td>591.196481</td>\n      <td>0</td>\n      <td>1.619479</td>\n      <td>[]</td>\n      <td>[-9.03422400832405, 141.21076156682577, 151.20...</td>\n    </tr>\n    <tr>\n      <th>42</th>\n      <td>42</td>\n      <td>591.215615</td>\n      <td>0</td>\n      <td>1.621906</td>\n      <td>[]</td>\n      <td>[-9.024712351042139, 140.8875136932124, 150.87...</td>\n    </tr>\n    <tr>\n      <th>43</th>\n      <td>43</td>\n      <td>591.244117</td>\n      <td>0</td>\n      <td>1.666866</td>\n      <td>[]</td>\n      <td>[-9.023244085009217, 140.89343620531116, 150.8...</td>\n    </tr>\n    <tr>\n      <th>44</th>\n      <td>44</td>\n      <td>591.247727</td>\n      <td>0</td>\n      <td>1.729309</td>\n      <td>[]</td>\n      <td>[-9.023532259989004, 140.8953114132988, 150.85...</td>\n    </tr>\n    <tr>\n      <th>45</th>\n      <td>45</td>\n      <td>591.247727</td>\n      <td>0</td>\n      <td>1.812686</td>\n      <td>[]</td>\n      <td>[-9.023712875199303, 140.89716878116317, 150.8...</td>\n    </tr>\n    <tr>\n      <th>46</th>\n      <td>46</td>\n      <td>591.252572</td>\n      <td>0</td>\n      <td>1.933760</td>\n      <td>[]</td>\n      <td>[-9.023865664724458, 140.89689349095372, 150.7...</td>\n    </tr>\n    <tr>\n      <th>47</th>\n      <td>47</td>\n      <td>591.252572</td>\n      <td>0</td>\n      <td>2.056270</td>\n      <td>[]</td>\n      <td>[-9.023963051126682, 140.8988345735588, 150.77...</td>\n    </tr>\n    <tr>\n      <th>48</th>\n      <td>48</td>\n      <td>591.252679</td>\n      <td>0</td>\n      <td>2.166871</td>\n      <td>[]</td>\n      <td>[-9.023692285606792, 140.89948674954434, 150.7...</td>\n    </tr>\n    <tr>\n      <th>49</th>\n      <td>49</td>\n      <td>591.252711</td>\n      <td>0</td>\n      <td>2.266971</td>\n      <td>[]</td>\n      <td>[-9.023643498325988, 140.89988353336167, 150.7...</td>\n    </tr>\n  </tbody>\n</table>\n</div>"
     },
     "execution_count": 12,
     "metadata": {},
     "output_type": "execute_result"
    }
   ],
   "source": [
    "training_history"
   ],
   "metadata": {
    "collapsed": false,
    "ExecuteTime": {
     "end_time": "2024-03-14T17:16:01.004423Z",
     "start_time": "2024-03-14T17:16:00.969069Z"
    }
   },
   "id": "17434a6d21479a27",
   "execution_count": 12
  },
  {
   "cell_type": "code",
   "outputs": [
    {
     "data": {
      "text/plain": "[0, 152, 8, 30, 167, 30, 182]"
     },
     "execution_count": 122,
     "metadata": {},
     "output_type": "execute_result"
    }
   ],
   "source": [
    "sm.requested_times"
   ],
   "metadata": {
    "collapsed": false,
    "ExecuteTime": {
     "end_time": "2024-03-16T18:26:28.418519Z",
     "start_time": "2024-03-16T18:26:28.408360Z"
    }
   },
   "id": "ee3f446221d2fec1",
   "execution_count": 122
  },
  {
   "cell_type": "code",
   "outputs": [
    {
     "data": {
      "text/plain": "array([-10.00176371, 152.76521983,   8.88291058,  28.7549147 ,\n       166.34947485,  31.05510875, 187.02456135])"
     },
     "execution_count": 125,
     "metadata": {},
     "output_type": "execute_result"
    }
   ],
   "source": [
    "# Get last value in column 'Real' of training_history\n",
    "best_solution = training_history.iloc[-1]['Real']\n",
    "best_solution"
   ],
   "metadata": {
    "collapsed": false,
    "ExecuteTime": {
     "end_time": "2024-03-18T13:13:11.790022Z",
     "start_time": "2024-03-18T13:13:11.777667Z"
    }
   },
   "id": "a5366a89cc34ffdd",
   "execution_count": 125
  },
  {
   "cell_type": "code",
   "outputs": [
    {
     "data": {
      "text/plain": "[[0, 0, 0, 0, 0, 0, 0, 0, 0, 0],\n [0, 0, 0, 0, 0, 0, 0, 0, 0, 1],\n [0, 0, 0, 0, 0, 0, 0, 0, 1, 0],\n [0, 0, 0, 0, 0, 0, 0, 0, 1, 1],\n [0, 0, 0, 0, 0, 0, 0, 1, 0, 0],\n [0, 0, 0, 0, 0, 0, 0, 1, 0, 1],\n [0, 0, 0, 0, 0, 0, 0, 1, 1, 0],\n [0, 0, 0, 0, 0, 0, 0, 1, 1, 1],\n [0, 0, 0, 0, 0, 0, 1, 0, 0, 0],\n [0, 0, 0, 0, 0, 0, 1, 0, 0, 1],\n [0, 0, 0, 0, 0, 0, 1, 0, 1, 0],\n [0, 0, 0, 0, 0, 0, 1, 0, 1, 1],\n [0, 0, 0, 0, 0, 0, 1, 1, 0, 0],\n [0, 0, 0, 0, 0, 0, 1, 1, 0, 1],\n [0, 0, 0, 0, 0, 0, 1, 1, 1, 0],\n [0, 0, 0, 0, 0, 0, 1, 1, 1, 1],\n [0, 0, 0, 0, 0, 1, 0, 0, 0, 0],\n [0, 0, 0, 0, 0, 1, 0, 0, 0, 1],\n [0, 0, 0, 0, 0, 1, 0, 0, 1, 0],\n [0, 0, 0, 0, 0, 1, 0, 0, 1, 1],\n [0, 0, 0, 0, 0, 1, 0, 1, 0, 0],\n [0, 0, 0, 0, 0, 1, 0, 1, 0, 1],\n [0, 0, 0, 0, 0, 1, 0, 1, 1, 0],\n [0, 0, 0, 0, 0, 1, 0, 1, 1, 1],\n [0, 0, 0, 0, 0, 1, 1, 0, 0, 0],\n [0, 0, 0, 0, 0, 1, 1, 0, 0, 1],\n [0, 0, 0, 0, 0, 1, 1, 0, 1, 0],\n [0, 0, 0, 0, 0, 1, 1, 0, 1, 1],\n [0, 0, 0, 0, 0, 1, 1, 1, 0, 0],\n [0, 0, 0, 0, 0, 1, 1, 1, 0, 1],\n [0, 0, 0, 0, 0, 1, 1, 1, 1, 0],\n [0, 0, 0, 0, 0, 1, 1, 1, 1, 1],\n [0, 0, 0, 0, 1, 0, 0, 0, 0, 0],\n [0, 0, 0, 0, 1, 0, 0, 0, 0, 1],\n [0, 0, 0, 0, 1, 0, 0, 0, 1, 0],\n [0, 0, 0, 0, 1, 0, 0, 0, 1, 1],\n [0, 0, 0, 0, 1, 0, 0, 1, 0, 0],\n [0, 0, 0, 0, 1, 0, 0, 1, 0, 1],\n [0, 0, 0, 0, 1, 0, 0, 1, 1, 0],\n [0, 0, 0, 0, 1, 0, 0, 1, 1, 1],\n [0, 0, 0, 0, 1, 0, 1, 0, 0, 0],\n [0, 0, 0, 0, 1, 0, 1, 0, 0, 1],\n [0, 0, 0, 0, 1, 0, 1, 0, 1, 0],\n [0, 0, 0, 0, 1, 0, 1, 0, 1, 1],\n [0, 0, 0, 0, 1, 0, 1, 1, 0, 0],\n [0, 0, 0, 0, 1, 0, 1, 1, 0, 1],\n [0, 0, 0, 0, 1, 0, 1, 1, 1, 0],\n [0, 0, 0, 0, 1, 0, 1, 1, 1, 1],\n [0, 0, 0, 0, 1, 1, 0, 0, 0, 0],\n [0, 0, 0, 0, 1, 1, 0, 0, 0, 1],\n [0, 0, 0, 0, 1, 1, 0, 0, 1, 0],\n [0, 0, 0, 0, 1, 1, 0, 0, 1, 1],\n [0, 0, 0, 0, 1, 1, 0, 1, 0, 0],\n [0, 0, 0, 0, 1, 1, 0, 1, 0, 1],\n [0, 0, 0, 0, 1, 1, 0, 1, 1, 0],\n [0, 0, 0, 0, 1, 1, 0, 1, 1, 1],\n [0, 0, 0, 0, 1, 1, 1, 0, 0, 0],\n [0, 0, 0, 0, 1, 1, 1, 0, 0, 1],\n [0, 0, 0, 0, 1, 1, 1, 0, 1, 0],\n [0, 0, 0, 0, 1, 1, 1, 0, 1, 1],\n [0, 0, 0, 0, 1, 1, 1, 1, 0, 0],\n [0, 0, 0, 0, 1, 1, 1, 1, 0, 1],\n [0, 0, 0, 0, 1, 1, 1, 1, 1, 0],\n [0, 0, 0, 0, 1, 1, 1, 1, 1, 1],\n [0, 0, 0, 1, 0, 0, 0, 0, 0, 0],\n [0, 0, 0, 1, 0, 0, 0, 0, 0, 1],\n [0, 0, 0, 1, 0, 0, 0, 0, 1, 0],\n [0, 0, 0, 1, 0, 0, 0, 0, 1, 1],\n [0, 0, 0, 1, 0, 0, 1, 0, 0, 0],\n [0, 0, 0, 1, 0, 0, 1, 0, 0, 1],\n [0, 0, 0, 1, 0, 0, 1, 0, 1, 0],\n [0, 0, 0, 1, 0, 0, 1, 0, 1, 1],\n [0, 0, 0, 1, 0, 1, 0, 0, 0, 0],\n [0, 0, 0, 1, 0, 1, 0, 0, 0, 1],\n [0, 0, 0, 1, 0, 1, 0, 0, 1, 0],\n [0, 0, 0, 1, 0, 1, 0, 0, 1, 1],\n [0, 0, 0, 1, 0, 1, 1, 0, 0, 0],\n [0, 0, 0, 1, 0, 1, 1, 0, 0, 1],\n [0, 0, 0, 1, 0, 1, 1, 0, 1, 0],\n [0, 0, 0, 1, 0, 1, 1, 0, 1, 1],\n [0, 0, 0, 1, 1, 0, 0, 0, 0, 0],\n [0, 0, 0, 1, 1, 0, 0, 0, 0, 1],\n [0, 0, 0, 1, 1, 0, 0, 0, 1, 0],\n [0, 0, 0, 1, 1, 0, 0, 0, 1, 1],\n [0, 0, 0, 1, 1, 0, 1, 0, 0, 0],\n [0, 0, 0, 1, 1, 0, 1, 0, 0, 1],\n [0, 0, 0, 1, 1, 0, 1, 0, 1, 0],\n [0, 0, 0, 1, 1, 0, 1, 0, 1, 1],\n [0, 0, 0, 1, 1, 1, 0, 0, 0, 0],\n [0, 0, 0, 1, 1, 1, 0, 0, 0, 1],\n [0, 0, 0, 1, 1, 1, 0, 0, 1, 0],\n [0, 0, 0, 1, 1, 1, 0, 0, 1, 1],\n [0, 0, 0, 1, 1, 1, 1, 0, 0, 0],\n [0, 0, 0, 1, 1, 1, 1, 0, 0, 1],\n [0, 0, 0, 1, 1, 1, 1, 0, 1, 0],\n [0, 0, 0, 1, 1, 1, 1, 0, 1, 1],\n [0, 0, 1, 0, 0, 0, 0, 0, 0, 0],\n [0, 0, 1, 0, 0, 0, 0, 0, 0, 1],\n [0, 0, 1, 0, 0, 0, 0, 0, 1, 0],\n [0, 0, 1, 0, 0, 0, 0, 0, 1, 1],\n [0, 0, 1, 0, 0, 0, 1, 0, 0, 0],\n [0, 0, 1, 0, 0, 0, 1, 0, 0, 1],\n [0, 0, 1, 0, 0, 0, 1, 0, 1, 0],\n [0, 0, 1, 0, 0, 0, 1, 0, 1, 1],\n [0, 0, 1, 0, 0, 1, 0, 0, 0, 0],\n [0, 0, 1, 0, 0, 1, 0, 0, 0, 1],\n [0, 0, 1, 0, 0, 1, 0, 0, 1, 0],\n [0, 0, 1, 0, 0, 1, 0, 0, 1, 1],\n [0, 0, 1, 0, 0, 1, 1, 0, 0, 0],\n [0, 0, 1, 0, 0, 1, 1, 0, 0, 1],\n [0, 0, 1, 0, 0, 1, 1, 0, 1, 0],\n [0, 0, 1, 0, 0, 1, 1, 0, 1, 1],\n [0, 0, 1, 0, 1, 0, 0, 0, 0, 0],\n [0, 0, 1, 0, 1, 0, 0, 0, 0, 1],\n [0, 0, 1, 0, 1, 0, 0, 0, 1, 0],\n [0, 0, 1, 0, 1, 0, 0, 0, 1, 1],\n [0, 0, 1, 0, 1, 0, 1, 0, 0, 0],\n [0, 0, 1, 0, 1, 0, 1, 0, 0, 1],\n [0, 0, 1, 0, 1, 0, 1, 0, 1, 0],\n [0, 0, 1, 0, 1, 0, 1, 0, 1, 1],\n [0, 0, 1, 0, 1, 1, 0, 0, 0, 0],\n [0, 0, 1, 0, 1, 1, 0, 0, 0, 1],\n [0, 0, 1, 0, 1, 1, 0, 0, 1, 0],\n [0, 0, 1, 0, 1, 1, 0, 0, 1, 1],\n [0, 0, 1, 0, 1, 1, 1, 0, 0, 0],\n [0, 0, 1, 0, 1, 1, 1, 0, 0, 1],\n [0, 0, 1, 0, 1, 1, 1, 0, 1, 0],\n [0, 0, 1, 0, 1, 1, 1, 0, 1, 1],\n [0, 0, 1, 1, 0, 0, 0, 0, 0, 0],\n [0, 0, 1, 1, 0, 0, 0, 0, 0, 1],\n [0, 0, 1, 1, 0, 0, 0, 0, 1, 0],\n [0, 0, 1, 1, 0, 0, 0, 0, 1, 1],\n [0, 0, 1, 1, 0, 0, 1, 0, 0, 0],\n [0, 0, 1, 1, 0, 0, 1, 0, 0, 1],\n [0, 0, 1, 1, 0, 0, 1, 0, 1, 0],\n [0, 0, 1, 1, 0, 0, 1, 0, 1, 1],\n [0, 0, 1, 1, 0, 1, 0, 0, 0, 0],\n [0, 0, 1, 1, 0, 1, 0, 0, 0, 1],\n [0, 0, 1, 1, 0, 1, 0, 0, 1, 0],\n [0, 0, 1, 1, 0, 1, 0, 0, 1, 1],\n [0, 0, 1, 1, 0, 1, 1, 0, 0, 0],\n [0, 0, 1, 1, 0, 1, 1, 0, 0, 1],\n [0, 0, 1, 1, 0, 1, 1, 0, 1, 0],\n [0, 0, 1, 1, 0, 1, 1, 0, 1, 1],\n [0, 0, 1, 1, 1, 0, 0, 0, 0, 0],\n [0, 0, 1, 1, 1, 0, 0, 0, 0, 1],\n [0, 0, 1, 1, 1, 0, 0, 0, 1, 0],\n [0, 0, 1, 1, 1, 0, 0, 0, 1, 1],\n [0, 0, 1, 1, 1, 0, 1, 0, 0, 0],\n [0, 0, 1, 1, 1, 0, 1, 0, 0, 1],\n [0, 0, 1, 1, 1, 0, 1, 0, 1, 0],\n [0, 0, 1, 1, 1, 0, 1, 0, 1, 1],\n [0, 0, 1, 1, 1, 1, 0, 0, 0, 0],\n [0, 0, 1, 1, 1, 1, 0, 0, 0, 1],\n [0, 0, 1, 1, 1, 1, 0, 0, 1, 0],\n [0, 0, 1, 1, 1, 1, 0, 0, 1, 1],\n [0, 0, 1, 1, 1, 1, 1, 0, 0, 0],\n [0, 0, 1, 1, 1, 1, 1, 0, 0, 1],\n [0, 0, 1, 1, 1, 1, 1, 0, 1, 0],\n [0, 0, 1, 1, 1, 1, 1, 0, 1, 1],\n [0, 1, 0, 0, 0, 0, 0, 0, 0, 0],\n [0, 1, 0, 0, 0, 0, 0, 0, 0, 1],\n [0, 1, 0, 0, 0, 0, 0, 0, 1, 0],\n [0, 1, 0, 0, 0, 0, 0, 0, 1, 1],\n [0, 1, 0, 0, 0, 0, 0, 1, 0, 0],\n [0, 1, 0, 0, 0, 0, 0, 1, 0, 1],\n [0, 1, 0, 0, 0, 0, 0, 1, 1, 0],\n [0, 1, 0, 0, 0, 0, 0, 1, 1, 1],\n [0, 1, 0, 0, 0, 0, 1, 0, 0, 0],\n [0, 1, 0, 0, 0, 0, 1, 0, 0, 1],\n [0, 1, 0, 0, 0, 0, 1, 0, 1, 0],\n [0, 1, 0, 0, 0, 0, 1, 0, 1, 1],\n [0, 1, 0, 0, 0, 0, 1, 1, 0, 0],\n [0, 1, 0, 0, 0, 0, 1, 1, 0, 1],\n [0, 1, 0, 0, 0, 0, 1, 1, 1, 0],\n [0, 1, 0, 0, 0, 0, 1, 1, 1, 1],\n [0, 1, 0, 0, 0, 1, 0, 0, 0, 0],\n [0, 1, 0, 0, 0, 1, 0, 0, 0, 1],\n [0, 1, 0, 0, 0, 1, 0, 0, 1, 0],\n [0, 1, 0, 0, 0, 1, 0, 0, 1, 1],\n [0, 1, 0, 0, 0, 1, 0, 1, 0, 0],\n [0, 1, 0, 0, 0, 1, 0, 1, 0, 1],\n [0, 1, 0, 0, 0, 1, 0, 1, 1, 0],\n [0, 1, 0, 0, 0, 1, 0, 1, 1, 1],\n [0, 1, 0, 0, 0, 1, 1, 0, 0, 0],\n [0, 1, 0, 0, 0, 1, 1, 0, 0, 1],\n [0, 1, 0, 0, 0, 1, 1, 0, 1, 0],\n [0, 1, 0, 0, 0, 1, 1, 0, 1, 1],\n [0, 1, 0, 0, 0, 1, 1, 1, 0, 0],\n [0, 1, 0, 0, 0, 1, 1, 1, 0, 1],\n [0, 1, 0, 0, 0, 1, 1, 1, 1, 0],\n [0, 1, 0, 0, 0, 1, 1, 1, 1, 1],\n [0, 1, 0, 0, 1, 0, 0, 0, 0, 0],\n [0, 1, 0, 0, 1, 0, 0, 0, 0, 1],\n [0, 1, 0, 0, 1, 0, 0, 0, 1, 0],\n [0, 1, 0, 0, 1, 0, 0, 0, 1, 1],\n [0, 1, 0, 0, 1, 0, 0, 1, 0, 0],\n [0, 1, 0, 0, 1, 0, 0, 1, 0, 1],\n [0, 1, 0, 0, 1, 0, 0, 1, 1, 0],\n [0, 1, 0, 0, 1, 0, 0, 1, 1, 1],\n [0, 1, 0, 0, 1, 0, 1, 0, 0, 0],\n [0, 1, 0, 0, 1, 0, 1, 0, 0, 1],\n [0, 1, 0, 0, 1, 0, 1, 0, 1, 0],\n [0, 1, 0, 0, 1, 0, 1, 0, 1, 1],\n [0, 1, 0, 0, 1, 0, 1, 1, 0, 0],\n [0, 1, 0, 0, 1, 0, 1, 1, 0, 1],\n [0, 1, 0, 0, 1, 0, 1, 1, 1, 0],\n [0, 1, 0, 0, 1, 0, 1, 1, 1, 1],\n [0, 1, 0, 0, 1, 1, 0, 0, 0, 0],\n [0, 1, 0, 0, 1, 1, 0, 0, 0, 1],\n [0, 1, 0, 0, 1, 1, 0, 0, 1, 0],\n [0, 1, 0, 0, 1, 1, 0, 0, 1, 1],\n [0, 1, 0, 0, 1, 1, 0, 1, 0, 0],\n [0, 1, 0, 0, 1, 1, 0, 1, 0, 1],\n [0, 1, 0, 0, 1, 1, 0, 1, 1, 0],\n [0, 1, 0, 0, 1, 1, 0, 1, 1, 1],\n [0, 1, 0, 0, 1, 1, 1, 0, 0, 0],\n [0, 1, 0, 0, 1, 1, 1, 0, 0, 1],\n [0, 1, 0, 0, 1, 1, 1, 0, 1, 0],\n [0, 1, 0, 0, 1, 1, 1, 0, 1, 1],\n [0, 1, 0, 0, 1, 1, 1, 1, 0, 0],\n [0, 1, 0, 0, 1, 1, 1, 1, 0, 1],\n [0, 1, 0, 0, 1, 1, 1, 1, 1, 0],\n [0, 1, 0, 0, 1, 1, 1, 1, 1, 1],\n [0, 1, 0, 1, 0, 0, 0, 0, 0, 0],\n [0, 1, 0, 1, 0, 0, 0, 0, 0, 1],\n [0, 1, 0, 1, 0, 0, 0, 0, 1, 0],\n [0, 1, 0, 1, 0, 0, 0, 0, 1, 1],\n [0, 1, 0, 1, 0, 0, 1, 0, 0, 0],\n [0, 1, 0, 1, 0, 0, 1, 0, 0, 1],\n [0, 1, 0, 1, 0, 0, 1, 0, 1, 0],\n [0, 1, 0, 1, 0, 0, 1, 0, 1, 1],\n [0, 1, 0, 1, 0, 1, 0, 0, 0, 0],\n [0, 1, 0, 1, 0, 1, 0, 0, 0, 1],\n [0, 1, 0, 1, 0, 1, 0, 0, 1, 0],\n [0, 1, 0, 1, 0, 1, 0, 0, 1, 1],\n [0, 1, 0, 1, 0, 1, 1, 0, 0, 0],\n [0, 1, 0, 1, 0, 1, 1, 0, 0, 1],\n [0, 1, 0, 1, 0, 1, 1, 0, 1, 0],\n [0, 1, 0, 1, 0, 1, 1, 0, 1, 1],\n [0, 1, 0, 1, 1, 0, 0, 0, 0, 0],\n [0, 1, 0, 1, 1, 0, 0, 0, 0, 1],\n [0, 1, 0, 1, 1, 0, 0, 0, 1, 0],\n [0, 1, 0, 1, 1, 0, 0, 0, 1, 1],\n [0, 1, 0, 1, 1, 0, 1, 0, 0, 0],\n [0, 1, 0, 1, 1, 0, 1, 0, 0, 1],\n [0, 1, 0, 1, 1, 0, 1, 0, 1, 0],\n [0, 1, 0, 1, 1, 0, 1, 0, 1, 1],\n [0, 1, 0, 1, 1, 1, 0, 0, 0, 0],\n [0, 1, 0, 1, 1, 1, 0, 0, 0, 1],\n [0, 1, 0, 1, 1, 1, 0, 0, 1, 0],\n [0, 1, 0, 1, 1, 1, 0, 0, 1, 1],\n [0, 1, 0, 1, 1, 1, 1, 0, 0, 0],\n [0, 1, 0, 1, 1, 1, 1, 0, 0, 1],\n [0, 1, 0, 1, 1, 1, 1, 0, 1, 0],\n [0, 1, 0, 1, 1, 1, 1, 0, 1, 1],\n [0, 1, 1, 0, 0, 0, 0, 0, 0, 0],\n [0, 1, 1, 0, 0, 0, 0, 0, 0, 1],\n [0, 1, 1, 0, 0, 0, 0, 0, 1, 0],\n [0, 1, 1, 0, 0, 0, 0, 0, 1, 1],\n [0, 1, 1, 0, 0, 0, 1, 0, 0, 0],\n [0, 1, 1, 0, 0, 0, 1, 0, 0, 1],\n [0, 1, 1, 0, 0, 0, 1, 0, 1, 0],\n [0, 1, 1, 0, 0, 0, 1, 0, 1, 1],\n [0, 1, 1, 0, 0, 1, 0, 0, 0, 0],\n [0, 1, 1, 0, 0, 1, 0, 0, 0, 1],\n [0, 1, 1, 0, 0, 1, 0, 0, 1, 0],\n [0, 1, 1, 0, 0, 1, 0, 0, 1, 1],\n [0, 1, 1, 0, 0, 1, 1, 0, 0, 0],\n [0, 1, 1, 0, 0, 1, 1, 0, 0, 1],\n [0, 1, 1, 0, 0, 1, 1, 0, 1, 0],\n [0, 1, 1, 0, 0, 1, 1, 0, 1, 1],\n [0, 1, 1, 0, 1, 0, 0, 0, 0, 0],\n [0, 1, 1, 0, 1, 0, 0, 0, 0, 1],\n [0, 1, 1, 0, 1, 0, 0, 0, 1, 0],\n [0, 1, 1, 0, 1, 0, 0, 0, 1, 1],\n [0, 1, 1, 0, 1, 0, 1, 0, 0, 0],\n [0, 1, 1, 0, 1, 0, 1, 0, 0, 1],\n [0, 1, 1, 0, 1, 0, 1, 0, 1, 0],\n [0, 1, 1, 0, 1, 0, 1, 0, 1, 1],\n [0, 1, 1, 0, 1, 1, 0, 0, 0, 0],\n [0, 1, 1, 0, 1, 1, 0, 0, 0, 1],\n [0, 1, 1, 0, 1, 1, 0, 0, 1, 0],\n [0, 1, 1, 0, 1, 1, 0, 0, 1, 1],\n [0, 1, 1, 0, 1, 1, 1, 0, 0, 0],\n [0, 1, 1, 0, 1, 1, 1, 0, 0, 1],\n [0, 1, 1, 0, 1, 1, 1, 0, 1, 0],\n [0, 1, 1, 0, 1, 1, 1, 0, 1, 1],\n [0, 1, 1, 1, 0, 0, 0, 0, 0, 0],\n [0, 1, 1, 1, 0, 0, 0, 0, 0, 1],\n [0, 1, 1, 1, 0, 0, 0, 0, 1, 0],\n [0, 1, 1, 1, 0, 0, 0, 0, 1, 1],\n [0, 1, 1, 1, 0, 0, 1, 0, 0, 0],\n [0, 1, 1, 1, 0, 0, 1, 0, 0, 1],\n [0, 1, 1, 1, 0, 0, 1, 0, 1, 0],\n [0, 1, 1, 1, 0, 0, 1, 0, 1, 1],\n [0, 1, 1, 1, 0, 1, 0, 0, 0, 0],\n [0, 1, 1, 1, 0, 1, 0, 0, 0, 1],\n [0, 1, 1, 1, 0, 1, 0, 0, 1, 0],\n [0, 1, 1, 1, 0, 1, 0, 0, 1, 1],\n [0, 1, 1, 1, 0, 1, 1, 0, 0, 0],\n [0, 1, 1, 1, 0, 1, 1, 0, 0, 1],\n [0, 1, 1, 1, 0, 1, 1, 0, 1, 0],\n [0, 1, 1, 1, 0, 1, 1, 0, 1, 1],\n [0, 1, 1, 1, 1, 0, 0, 0, 0, 0],\n [0, 1, 1, 1, 1, 0, 0, 0, 0, 1],\n [0, 1, 1, 1, 1, 0, 0, 0, 1, 0],\n [0, 1, 1, 1, 1, 0, 0, 0, 1, 1],\n [0, 1, 1, 1, 1, 0, 1, 0, 0, 0],\n [0, 1, 1, 1, 1, 0, 1, 0, 0, 1],\n [0, 1, 1, 1, 1, 0, 1, 0, 1, 0],\n [0, 1, 1, 1, 1, 0, 1, 0, 1, 1],\n [0, 1, 1, 1, 1, 1, 0, 0, 0, 0],\n [0, 1, 1, 1, 1, 1, 0, 0, 0, 1],\n [0, 1, 1, 1, 1, 1, 0, 0, 1, 0],\n [0, 1, 1, 1, 1, 1, 0, 0, 1, 1],\n [0, 1, 1, 1, 1, 1, 1, 0, 0, 0],\n [0, 1, 1, 1, 1, 1, 1, 0, 0, 1],\n [0, 1, 1, 1, 1, 1, 1, 0, 1, 0],\n [0, 1, 1, 1, 1, 1, 1, 0, 1, 1],\n [1, 0, 0, 0, 0, 0, 0, 0, 0, 0],\n [1, 0, 0, 0, 0, 0, 0, 0, 0, 1],\n [1, 0, 0, 0, 0, 0, 0, 0, 1, 0],\n [1, 0, 0, 0, 0, 0, 0, 0, 1, 1],\n [1, 0, 0, 0, 0, 0, 0, 1, 0, 0],\n [1, 0, 0, 0, 0, 0, 0, 1, 0, 1],\n [1, 0, 0, 0, 0, 0, 0, 1, 1, 0],\n [1, 0, 0, 0, 0, 0, 0, 1, 1, 1],\n [1, 0, 0, 0, 0, 0, 1, 0, 0, 0],\n [1, 0, 0, 0, 0, 0, 1, 0, 0, 1],\n [1, 0, 0, 0, 0, 0, 1, 0, 1, 0],\n [1, 0, 0, 0, 0, 0, 1, 0, 1, 1],\n [1, 0, 0, 0, 0, 0, 1, 1, 0, 0],\n [1, 0, 0, 0, 0, 0, 1, 1, 0, 1],\n [1, 0, 0, 0, 0, 0, 1, 1, 1, 0],\n [1, 0, 0, 0, 0, 0, 1, 1, 1, 1],\n [1, 0, 0, 0, 0, 1, 0, 0, 0, 0],\n [1, 0, 0, 0, 0, 1, 0, 0, 0, 1],\n [1, 0, 0, 0, 0, 1, 0, 0, 1, 0],\n [1, 0, 0, 0, 0, 1, 0, 0, 1, 1],\n [1, 0, 0, 0, 0, 1, 0, 1, 0, 0],\n [1, 0, 0, 0, 0, 1, 0, 1, 0, 1],\n [1, 0, 0, 0, 0, 1, 0, 1, 1, 0],\n [1, 0, 0, 0, 0, 1, 0, 1, 1, 1],\n [1, 0, 0, 0, 0, 1, 1, 0, 0, 0],\n [1, 0, 0, 0, 0, 1, 1, 0, 0, 1],\n [1, 0, 0, 0, 0, 1, 1, 0, 1, 0],\n [1, 0, 0, 0, 0, 1, 1, 0, 1, 1],\n [1, 0, 0, 0, 0, 1, 1, 1, 0, 0],\n [1, 0, 0, 0, 0, 1, 1, 1, 0, 1],\n [1, 0, 0, 0, 0, 1, 1, 1, 1, 0],\n [1, 0, 0, 0, 0, 1, 1, 1, 1, 1],\n [1, 0, 0, 0, 1, 0, 0, 0, 0, 0],\n [1, 0, 0, 0, 1, 0, 0, 0, 0, 1],\n [1, 0, 0, 0, 1, 0, 0, 0, 1, 0],\n [1, 0, 0, 0, 1, 0, 0, 0, 1, 1],\n [1, 0, 0, 0, 1, 0, 0, 1, 0, 0],\n [1, 0, 0, 0, 1, 0, 0, 1, 0, 1],\n [1, 0, 0, 0, 1, 0, 0, 1, 1, 0],\n [1, 0, 0, 0, 1, 0, 0, 1, 1, 1],\n [1, 0, 0, 0, 1, 0, 1, 0, 0, 0],\n [1, 0, 0, 0, 1, 0, 1, 0, 0, 1],\n [1, 0, 0, 0, 1, 0, 1, 0, 1, 0],\n [1, 0, 0, 0, 1, 0, 1, 0, 1, 1],\n [1, 0, 0, 0, 1, 0, 1, 1, 0, 0],\n [1, 0, 0, 0, 1, 0, 1, 1, 0, 1],\n [1, 0, 0, 0, 1, 0, 1, 1, 1, 0],\n [1, 0, 0, 0, 1, 0, 1, 1, 1, 1],\n [1, 0, 0, 0, 1, 1, 0, 0, 0, 0],\n [1, 0, 0, 0, 1, 1, 0, 0, 0, 1],\n [1, 0, 0, 0, 1, 1, 0, 0, 1, 0],\n [1, 0, 0, 0, 1, 1, 0, 0, 1, 1],\n [1, 0, 0, 0, 1, 1, 0, 1, 0, 0],\n [1, 0, 0, 0, 1, 1, 0, 1, 0, 1],\n [1, 0, 0, 0, 1, 1, 0, 1, 1, 0],\n [1, 0, 0, 0, 1, 1, 0, 1, 1, 1],\n [1, 0, 0, 0, 1, 1, 1, 0, 0, 0],\n [1, 0, 0, 0, 1, 1, 1, 0, 0, 1],\n [1, 0, 0, 0, 1, 1, 1, 0, 1, 0],\n [1, 0, 0, 0, 1, 1, 1, 0, 1, 1],\n [1, 0, 0, 0, 1, 1, 1, 1, 0, 0],\n [1, 0, 0, 0, 1, 1, 1, 1, 0, 1],\n [1, 0, 0, 0, 1, 1, 1, 1, 1, 0],\n [1, 0, 0, 0, 1, 1, 1, 1, 1, 1],\n [1, 0, 0, 1, 0, 0, 0, 0, 0, 0],\n [1, 0, 0, 1, 0, 0, 0, 0, 0, 1],\n [1, 0, 0, 1, 0, 0, 0, 0, 1, 0],\n [1, 0, 0, 1, 0, 0, 0, 0, 1, 1],\n [1, 0, 0, 1, 0, 0, 1, 0, 0, 0],\n [1, 0, 0, 1, 0, 0, 1, 0, 0, 1],\n [1, 0, 0, 1, 0, 0, 1, 0, 1, 0],\n [1, 0, 0, 1, 0, 0, 1, 0, 1, 1],\n [1, 0, 0, 1, 0, 1, 0, 0, 0, 0],\n [1, 0, 0, 1, 0, 1, 0, 0, 0, 1],\n [1, 0, 0, 1, 0, 1, 0, 0, 1, 0],\n [1, 0, 0, 1, 0, 1, 0, 0, 1, 1],\n [1, 0, 0, 1, 0, 1, 1, 0, 0, 0],\n [1, 0, 0, 1, 0, 1, 1, 0, 0, 1],\n [1, 0, 0, 1, 0, 1, 1, 0, 1, 0],\n [1, 0, 0, 1, 0, 1, 1, 0, 1, 1],\n [1, 0, 0, 1, 1, 0, 0, 0, 0, 0],\n [1, 0, 0, 1, 1, 0, 0, 0, 0, 1],\n [1, 0, 0, 1, 1, 0, 0, 0, 1, 0],\n [1, 0, 0, 1, 1, 0, 0, 0, 1, 1],\n [1, 0, 0, 1, 1, 0, 1, 0, 0, 0],\n [1, 0, 0, 1, 1, 0, 1, 0, 0, 1],\n [1, 0, 0, 1, 1, 0, 1, 0, 1, 0],\n [1, 0, 0, 1, 1, 0, 1, 0, 1, 1],\n [1, 0, 0, 1, 1, 1, 0, 0, 0, 0],\n [1, 0, 0, 1, 1, 1, 0, 0, 0, 1],\n [1, 0, 0, 1, 1, 1, 0, 0, 1, 0],\n [1, 0, 0, 1, 1, 1, 0, 0, 1, 1],\n [1, 0, 0, 1, 1, 1, 1, 0, 0, 0],\n [1, 0, 0, 1, 1, 1, 1, 0, 0, 1],\n [1, 0, 0, 1, 1, 1, 1, 0, 1, 0],\n [1, 0, 0, 1, 1, 1, 1, 0, 1, 1],\n [1, 0, 1, 0, 0, 0, 0, 0, 0, 0],\n [1, 0, 1, 0, 0, 0, 0, 0, 0, 1],\n [1, 0, 1, 0, 0, 0, 0, 0, 1, 0],\n [1, 0, 1, 0, 0, 0, 0, 0, 1, 1],\n [1, 0, 1, 0, 0, 0, 1, 0, 0, 0],\n [1, 0, 1, 0, 0, 0, 1, 0, 0, 1],\n [1, 0, 1, 0, 0, 0, 1, 0, 1, 0],\n [1, 0, 1, 0, 0, 0, 1, 0, 1, 1],\n [1, 0, 1, 0, 0, 1, 0, 0, 0, 0],\n [1, 0, 1, 0, 0, 1, 0, 0, 0, 1],\n [1, 0, 1, 0, 0, 1, 0, 0, 1, 0],\n [1, 0, 1, 0, 0, 1, 0, 0, 1, 1],\n [1, 0, 1, 0, 0, 1, 1, 0, 0, 0],\n [1, 0, 1, 0, 0, 1, 1, 0, 0, 1],\n [1, 0, 1, 0, 0, 1, 1, 0, 1, 0],\n [1, 0, 1, 0, 0, 1, 1, 0, 1, 1],\n [1, 0, 1, 0, 1, 0, 0, 0, 0, 0],\n [1, 0, 1, 0, 1, 0, 0, 0, 0, 1],\n [1, 0, 1, 0, 1, 0, 0, 0, 1, 0],\n [1, 0, 1, 0, 1, 0, 0, 0, 1, 1],\n [1, 0, 1, 0, 1, 0, 1, 0, 0, 0],\n [1, 0, 1, 0, 1, 0, 1, 0, 0, 1],\n [1, 0, 1, 0, 1, 0, 1, 0, 1, 0],\n [1, 0, 1, 0, 1, 0, 1, 0, 1, 1],\n [1, 0, 1, 0, 1, 1, 0, 0, 0, 0],\n [1, 0, 1, 0, 1, 1, 0, 0, 0, 1],\n [1, 0, 1, 0, 1, 1, 0, 0, 1, 0],\n [1, 0, 1, 0, 1, 1, 0, 0, 1, 1],\n [1, 0, 1, 0, 1, 1, 1, 0, 0, 0],\n [1, 0, 1, 0, 1, 1, 1, 0, 0, 1],\n [1, 0, 1, 0, 1, 1, 1, 0, 1, 0],\n [1, 0, 1, 0, 1, 1, 1, 0, 1, 1],\n [1, 0, 1, 1, 0, 0, 0, 0, 0, 0],\n [1, 0, 1, 1, 0, 0, 0, 0, 0, 1],\n [1, 0, 1, 1, 0, 0, 0, 0, 1, 0],\n [1, 0, 1, 1, 0, 0, 0, 0, 1, 1],\n [1, 0, 1, 1, 0, 0, 1, 0, 0, 0],\n [1, 0, 1, 1, 0, 0, 1, 0, 0, 1],\n [1, 0, 1, 1, 0, 0, 1, 0, 1, 0],\n [1, 0, 1, 1, 0, 0, 1, 0, 1, 1],\n [1, 0, 1, 1, 0, 1, 0, 0, 0, 0],\n [1, 0, 1, 1, 0, 1, 0, 0, 0, 1],\n [1, 0, 1, 1, 0, 1, 0, 0, 1, 0],\n [1, 0, 1, 1, 0, 1, 0, 0, 1, 1],\n [1, 0, 1, 1, 0, 1, 1, 0, 0, 0],\n [1, 0, 1, 1, 0, 1, 1, 0, 0, 1],\n [1, 0, 1, 1, 0, 1, 1, 0, 1, 0],\n [1, 0, 1, 1, 0, 1, 1, 0, 1, 1],\n [1, 0, 1, 1, 1, 0, 0, 0, 0, 0],\n [1, 0, 1, 1, 1, 0, 0, 0, 0, 1],\n [1, 0, 1, 1, 1, 0, 0, 0, 1, 0],\n [1, 0, 1, 1, 1, 0, 0, 0, 1, 1],\n [1, 0, 1, 1, 1, 0, 1, 0, 0, 0],\n [1, 0, 1, 1, 1, 0, 1, 0, 0, 1],\n [1, 0, 1, 1, 1, 0, 1, 0, 1, 0],\n [1, 0, 1, 1, 1, 0, 1, 0, 1, 1],\n [1, 0, 1, 1, 1, 1, 0, 0, 0, 0],\n [1, 0, 1, 1, 1, 1, 0, 0, 0, 1],\n [1, 0, 1, 1, 1, 1, 0, 0, 1, 0],\n [1, 0, 1, 1, 1, 1, 0, 0, 1, 1],\n [1, 0, 1, 1, 1, 1, 1, 0, 0, 0],\n [1, 0, 1, 1, 1, 1, 1, 0, 0, 1],\n [1, 0, 1, 1, 1, 1, 1, 0, 1, 0],\n [1, 0, 1, 1, 1, 1, 1, 0, 1, 1],\n [1, 1, 0, 0, 0, 0, 0, 0, 0, 0],\n [1, 1, 0, 0, 0, 0, 0, 0, 0, 1],\n [1, 1, 0, 0, 0, 0, 0, 0, 1, 0],\n [1, 1, 0, 0, 0, 0, 0, 0, 1, 1],\n [1, 1, 0, 0, 0, 0, 0, 1, 0, 0],\n [1, 1, 0, 0, 0, 0, 0, 1, 0, 1],\n [1, 1, 0, 0, 0, 0, 0, 1, 1, 0],\n [1, 1, 0, 0, 0, 0, 0, 1, 1, 1],\n [1, 1, 0, 0, 0, 0, 1, 0, 0, 0],\n [1, 1, 0, 0, 0, 0, 1, 0, 0, 1],\n [1, 1, 0, 0, 0, 0, 1, 0, 1, 0],\n [1, 1, 0, 0, 0, 0, 1, 0, 1, 1],\n [1, 1, 0, 0, 0, 0, 1, 1, 0, 0],\n [1, 1, 0, 0, 0, 0, 1, 1, 0, 1],\n [1, 1, 0, 0, 0, 0, 1, 1, 1, 0],\n [1, 1, 0, 0, 0, 0, 1, 1, 1, 1],\n [1, 1, 0, 0, 0, 1, 0, 0, 0, 0],\n [1, 1, 0, 0, 0, 1, 0, 0, 0, 1],\n [1, 1, 0, 0, 0, 1, 0, 0, 1, 0],\n [1, 1, 0, 0, 0, 1, 0, 0, 1, 1],\n [1, 1, 0, 0, 0, 1, 0, 1, 0, 0],\n [1, 1, 0, 0, 0, 1, 0, 1, 0, 1],\n [1, 1, 0, 0, 0, 1, 0, 1, 1, 0],\n [1, 1, 0, 0, 0, 1, 0, 1, 1, 1],\n [1, 1, 0, 0, 0, 1, 1, 0, 0, 0],\n [1, 1, 0, 0, 0, 1, 1, 0, 0, 1],\n [1, 1, 0, 0, 0, 1, 1, 0, 1, 0],\n [1, 1, 0, 0, 0, 1, 1, 0, 1, 1],\n [1, 1, 0, 0, 0, 1, 1, 1, 0, 0],\n [1, 1, 0, 0, 0, 1, 1, 1, 0, 1],\n [1, 1, 0, 0, 0, 1, 1, 1, 1, 0],\n [1, 1, 0, 0, 0, 1, 1, 1, 1, 1],\n [1, 1, 0, 0, 1, 0, 0, 0, 0, 0],\n [1, 1, 0, 0, 1, 0, 0, 0, 0, 1],\n [1, 1, 0, 0, 1, 0, 0, 0, 1, 0],\n [1, 1, 0, 0, 1, 0, 0, 0, 1, 1],\n [1, 1, 0, 0, 1, 0, 0, 1, 0, 0],\n [1, 1, 0, 0, 1, 0, 0, 1, 0, 1],\n [1, 1, 0, 0, 1, 0, 0, 1, 1, 0],\n [1, 1, 0, 0, 1, 0, 0, 1, 1, 1],\n [1, 1, 0, 0, 1, 0, 1, 0, 0, 0],\n [1, 1, 0, 0, 1, 0, 1, 0, 0, 1],\n [1, 1, 0, 0, 1, 0, 1, 0, 1, 0],\n [1, 1, 0, 0, 1, 0, 1, 0, 1, 1],\n [1, 1, 0, 0, 1, 0, 1, 1, 0, 0],\n [1, 1, 0, 0, 1, 0, 1, 1, 0, 1],\n [1, 1, 0, 0, 1, 0, 1, 1, 1, 0],\n [1, 1, 0, 0, 1, 0, 1, 1, 1, 1],\n [1, 1, 0, 0, 1, 1, 0, 0, 0, 0],\n [1, 1, 0, 0, 1, 1, 0, 0, 0, 1],\n [1, 1, 0, 0, 1, 1, 0, 0, 1, 0],\n [1, 1, 0, 0, 1, 1, 0, 0, 1, 1],\n [1, 1, 0, 0, 1, 1, 0, 1, 0, 0],\n [1, 1, 0, 0, 1, 1, 0, 1, 0, 1],\n [1, 1, 0, 0, 1, 1, 0, 1, 1, 0],\n [1, 1, 0, 0, 1, 1, 0, 1, 1, 1],\n [1, 1, 0, 0, 1, 1, 1, 0, 0, 0],\n [1, 1, 0, 0, 1, 1, 1, 0, 0, 1],\n [1, 1, 0, 0, 1, 1, 1, 0, 1, 0],\n [1, 1, 0, 0, 1, 1, 1, 0, 1, 1],\n [1, 1, 0, 0, 1, 1, 1, 1, 0, 0],\n [1, 1, 0, 0, 1, 1, 1, 1, 0, 1],\n [1, 1, 0, 0, 1, 1, 1, 1, 1, 0],\n [1, 1, 0, 0, 1, 1, 1, 1, 1, 1],\n [1, 1, 0, 1, 0, 0, 0, 0, 0, 0],\n [1, 1, 0, 1, 0, 0, 0, 0, 0, 1],\n [1, 1, 0, 1, 0, 0, 0, 0, 1, 0],\n [1, 1, 0, 1, 0, 0, 0, 0, 1, 1],\n [1, 1, 0, 1, 0, 0, 1, 0, 0, 0],\n [1, 1, 0, 1, 0, 0, 1, 0, 0, 1],\n [1, 1, 0, 1, 0, 0, 1, 0, 1, 0],\n [1, 1, 0, 1, 0, 0, 1, 0, 1, 1],\n [1, 1, 0, 1, 0, 1, 0, 0, 0, 0],\n [1, 1, 0, 1, 0, 1, 0, 0, 0, 1],\n [1, 1, 0, 1, 0, 1, 0, 0, 1, 0],\n [1, 1, 0, 1, 0, 1, 0, 0, 1, 1],\n [1, 1, 0, 1, 0, 1, 1, 0, 0, 0],\n [1, 1, 0, 1, 0, 1, 1, 0, 0, 1],\n [1, 1, 0, 1, 0, 1, 1, 0, 1, 0],\n [1, 1, 0, 1, 0, 1, 1, 0, 1, 1],\n [1, 1, 0, 1, 1, 0, 0, 0, 0, 0],\n [1, 1, 0, 1, 1, 0, 0, 0, 0, 1],\n [1, 1, 0, 1, 1, 0, 0, 0, 1, 0],\n [1, 1, 0, 1, 1, 0, 0, 0, 1, 1],\n [1, 1, 0, 1, 1, 0, 1, 0, 0, 0],\n [1, 1, 0, 1, 1, 0, 1, 0, 0, 1],\n [1, 1, 0, 1, 1, 0, 1, 0, 1, 0],\n [1, 1, 0, 1, 1, 0, 1, 0, 1, 1],\n [1, 1, 0, 1, 1, 1, 0, 0, 0, 0],\n [1, 1, 0, 1, 1, 1, 0, 0, 0, 1],\n [1, 1, 0, 1, 1, 1, 0, 0, 1, 0],\n [1, 1, 0, 1, 1, 1, 0, 0, 1, 1],\n [1, 1, 0, 1, 1, 1, 1, 0, 0, 0],\n [1, 1, 0, 1, 1, 1, 1, 0, 0, 1],\n [1, 1, 0, 1, 1, 1, 1, 0, 1, 0],\n [1, 1, 0, 1, 1, 1, 1, 0, 1, 1],\n [1, 1, 1, 0, 0, 0, 0, 0, 0, 0],\n [1, 1, 1, 0, 0, 0, 0, 0, 0, 1],\n [1, 1, 1, 0, 0, 0, 0, 0, 1, 0],\n [1, 1, 1, 0, 0, 0, 0, 0, 1, 1],\n [1, 1, 1, 0, 0, 0, 1, 0, 0, 0],\n [1, 1, 1, 0, 0, 0, 1, 0, 0, 1],\n [1, 1, 1, 0, 0, 0, 1, 0, 1, 0],\n [1, 1, 1, 0, 0, 0, 1, 0, 1, 1],\n [1, 1, 1, 0, 0, 1, 0, 0, 0, 0],\n [1, 1, 1, 0, 0, 1, 0, 0, 0, 1],\n [1, 1, 1, 0, 0, 1, 0, 0, 1, 0],\n [1, 1, 1, 0, 0, 1, 0, 0, 1, 1],\n [1, 1, 1, 0, 0, 1, 1, 0, 0, 0],\n [1, 1, 1, 0, 0, 1, 1, 0, 0, 1],\n [1, 1, 1, 0, 0, 1, 1, 0, 1, 0],\n [1, 1, 1, 0, 0, 1, 1, 0, 1, 1],\n [1, 1, 1, 0, 1, 0, 0, 0, 0, 0],\n [1, 1, 1, 0, 1, 0, 0, 0, 0, 1],\n [1, 1, 1, 0, 1, 0, 0, 0, 1, 0],\n [1, 1, 1, 0, 1, 0, 0, 0, 1, 1],\n [1, 1, 1, 0, 1, 0, 1, 0, 0, 0],\n [1, 1, 1, 0, 1, 0, 1, 0, 0, 1],\n [1, 1, 1, 0, 1, 0, 1, 0, 1, 0],\n [1, 1, 1, 0, 1, 0, 1, 0, 1, 1],\n [1, 1, 1, 0, 1, 1, 0, 0, 0, 0],\n [1, 1, 1, 0, 1, 1, 0, 0, 0, 1],\n [1, 1, 1, 0, 1, 1, 0, 0, 1, 0],\n [1, 1, 1, 0, 1, 1, 0, 0, 1, 1],\n [1, 1, 1, 0, 1, 1, 1, 0, 0, 0],\n [1, 1, 1, 0, 1, 1, 1, 0, 0, 1],\n [1, 1, 1, 0, 1, 1, 1, 0, 1, 0],\n [1, 1, 1, 0, 1, 1, 1, 0, 1, 1],\n [1, 1, 1, 1, 0, 0, 0, 0, 0, 0],\n [1, 1, 1, 1, 0, 0, 0, 0, 0, 1],\n [1, 1, 1, 1, 0, 0, 0, 0, 1, 0],\n [1, 1, 1, 1, 0, 0, 0, 0, 1, 1],\n [1, 1, 1, 1, 0, 0, 1, 0, 0, 0],\n [1, 1, 1, 1, 0, 0, 1, 0, 0, 1],\n [1, 1, 1, 1, 0, 0, 1, 0, 1, 0],\n [1, 1, 1, 1, 0, 0, 1, 0, 1, 1],\n [1, 1, 1, 1, 0, 1, 0, 0, 0, 0],\n [1, 1, 1, 1, 0, 1, 0, 0, 0, 1],\n [1, 1, 1, 1, 0, 1, 0, 0, 1, 0],\n [1, 1, 1, 1, 0, 1, 0, 0, 1, 1],\n [1, 1, 1, 1, 0, 1, 1, 0, 0, 0],\n [1, 1, 1, 1, 0, 1, 1, 0, 0, 1],\n [1, 1, 1, 1, 0, 1, 1, 0, 1, 0],\n [1, 1, 1, 1, 0, 1, 1, 0, 1, 1],\n [1, 1, 1, 1, 1, 0, 0, 0, 0, 0],\n [1, 1, 1, 1, 1, 0, 0, 0, 0, 1],\n [1, 1, 1, 1, 1, 0, 0, 0, 1, 0],\n [1, 1, 1, 1, 1, 0, 0, 0, 1, 1],\n [1, 1, 1, 1, 1, 0, 1, 0, 0, 0],\n [1, 1, 1, 1, 1, 0, 1, 0, 0, 1],\n [1, 1, 1, 1, 1, 0, 1, 0, 1, 0],\n [1, 1, 1, 1, 1, 0, 1, 0, 1, 1],\n [1, 1, 1, 1, 1, 1, 0, 0, 0, 0],\n [1, 1, 1, 1, 1, 1, 0, 0, 0, 1],\n [1, 1, 1, 1, 1, 1, 0, 0, 1, 0],\n [1, 1, 1, 1, 1, 1, 0, 0, 1, 1],\n [1, 1, 1, 1, 1, 1, 1, 0, 0, 0],\n [1, 1, 1, 1, 1, 1, 1, 0, 0, 1],\n [1, 1, 1, 1, 1, 1, 1, 0, 1, 0],\n [1, 1, 1, 1, 1, 1, 1, 0, 1, 1]]"
     },
     "execution_count": 97,
     "metadata": {},
     "output_type": "execute_result"
    }
   ],
   "source": [
    "sm.update_feasible_schedules(Solution(real=np.array(best_solution, dtype=float), discrete=np.array([])))\n",
    "sm.feasible_schedules"
   ],
   "metadata": {
    "collapsed": false,
    "ExecuteTime": {
     "end_time": "2024-03-16T17:38:58.908613Z",
     "start_time": "2024-03-16T17:38:58.785046Z"
    }
   },
   "id": "92e7ba87d78a3918",
   "execution_count": 97
  },
  {
   "cell_type": "code",
   "outputs": [
    {
     "name": "stdout",
     "output_type": "stream",
     "text": [
      "[1 1 1 1 1 1 1 0 1 1]\n"
     ]
    },
    {
     "data": {
      "text/plain": "1902.5370350627811"
     },
     "execution_count": 98,
     "metadata": {},
     "output_type": "execute_result"
    }
   ],
   "source": [
    "S_i = sm.get_best_schedule(Solution(real=best_solution, discrete=np.array([])))\n",
    "print(S_i)\n",
    "\n",
    "sm.get_revenue(Solution(real=best_solution, discrete=S_i))"
   ],
   "metadata": {
    "collapsed": false,
    "ExecuteTime": {
     "end_time": "2024-03-16T17:39:16.526325Z",
     "start_time": "2024-03-16T17:39:16.404589Z"
    }
   },
   "id": "e17ef56a32b2b12b",
   "execution_count": 98
  },
  {
   "cell_type": "code",
   "outputs": [
    {
     "data": {
      "text/plain": "array([1, 1, 1])"
     },
     "execution_count": 18,
     "metadata": {},
     "output_type": "execute_result"
    }
   ],
   "source": [
    "sm.get_best_schedule(Solution(real=best_solution, discrete=np.array([])))"
   ],
   "metadata": {
    "collapsed": false,
    "ExecuteTime": {
     "end_time": "2024-03-14T17:16:43.733552Z",
     "start_time": "2024-03-14T17:16:43.723282Z"
    }
   },
   "id": "f55e854c26a1212c",
   "execution_count": 18
  },
  {
   "cell_type": "code",
   "outputs": [
    {
     "data": {
      "text/plain": "662.75"
     },
     "execution_count": 120,
     "metadata": {},
     "output_type": "execute_result"
    }
   ],
   "source": [
    "sum([revenue[service]['canon'] for service in revenue])"
   ],
   "metadata": {
    "collapsed": false,
    "ExecuteTime": {
     "end_time": "2024-03-18T13:11:08.313098Z",
     "start_time": "2024-03-18T13:11:08.301151Z"
    }
   },
   "id": "aa6f4cb80af96241",
   "execution_count": 120
  },
  {
   "cell_type": "code",
   "outputs": [
    {
     "data": {
      "text/plain": "    Iteration     Fitness  Accuracy  ExecutionTime Discrete  \\\n0           0  517.014978         0       0.003048       []   \n1           1  530.855183         0       0.085591       []   \n2           2  542.646939         0       0.165635       []   \n3           3  565.661258         0       0.218120       []   \n4           4  565.661258         0       0.242157       []   \n5           5  565.661258         0       0.312635       []   \n6           6  565.661258         0       0.359963       []   \n7           7  566.497557         0       0.363831       []   \n8           8  568.721232         0       0.367587       []   \n9           9  568.721232         0       0.370925       []   \n10         10  568.721232         0       0.373775       []   \n11         11  568.721232         0       0.377499       []   \n12         12  568.721232         0       0.407769       []   \n13         13  568.721232         0       0.431715       []   \n14         14  569.752270         0       0.434186       []   \n15         15  569.944354         0       0.444001       []   \n16         16  569.944354         0       0.457104       []   \n17         17  569.944354         0       0.461096       []   \n18         18  569.944354         0       0.467344       []   \n19         19  569.944354         0       0.522234       []   \n20         20  569.944354         0       0.541828       []   \n21         21  569.944354         0       0.547574       []   \n22         22  569.944354         0       0.596972       []   \n23         23  571.348366         0       0.624208       []   \n24         24  575.662230         0       0.631063       []   \n25         25  582.045664         0       0.674821       []   \n26         26  586.110856         0       0.713089       []   \n27         27  586.110856         0       0.814261       []   \n28         28  586.110856         0       0.940392       []   \n29         29  586.110856         0       1.047582       []   \n30         30  588.921026         0       1.123223       []   \n31         31  589.252402         0       1.197486       []   \n32         32  589.357310         0       1.267606       []   \n33         33  589.433702         0       1.339689       []   \n34         34  590.874839         0       1.379981       []   \n35         35  590.874839         0       1.413400       []   \n36         36  590.874839         0       1.439690       []   \n37         37  590.874839         0       1.514880       []   \n38         38  591.196481         0       1.610974       []   \n39         39  591.196481         0       1.614665       []   \n40         40  591.196481         0       1.616876       []   \n41         41  591.196481         0       1.619479       []   \n42         42  591.215615         0       1.621906       []   \n43         43  591.244117         0       1.666866       []   \n44         44  591.247727         0       1.729309       []   \n45         45  591.247727         0       1.812686       []   \n46         46  591.252572         0       1.933760       []   \n47         47  591.252572         0       2.056270       []   \n48         48  591.252679         0       2.166871       []   \n49         49  591.252711         0       2.266971       []   \n\n                                                 Real  \n0   [-4.98, 157.83, 161.92, 189.92, 11.98, 35.76, ...  \n1   [-2.7546657683245406, 157.40093372659027, 161....  \n2   [-1.4908902847345742, 157.03956686173672, 161....  \n3   [-0.08372446694929914, 152.02590705979338, 157...  \n4   [5.670225709399254, 148.90734406439034, 159.04...  \n5   [5.670225709399254, 148.90734406439034, 159.04...  \n6   [5.670225709399254, 148.90734406439034, 159.04...  \n7   [-9.771727430351225, 145.23158773598314, 153.9...  \n8   [-7.794995179434571, 143.10007102447446, 154.2...  \n9   [-9.92970600467806, 143.22751590497882, 153.84...  \n10  [-9.92970600467806, 143.22751590497882, 153.84...  \n11  [-9.92970600467806, 143.22751590497882, 153.84...  \n12  [-9.92970600467806, 143.22751590497882, 153.84...  \n13  [-9.92970600467806, 143.22751590497882, 153.84...  \n14  [-9.056985424365779, 140.95362962673235, 153.2...  \n15  [-8.9701371854631, 142.04060276661053, 153.246...  \n16  [-8.823913805517407, 144.13362164643843, 153.3...  \n17  [-8.823913805517407, 144.13362164643843, 153.3...  \n18  [-8.823913805517407, 144.13362164643843, 153.3...  \n19  [-8.823913805517407, 144.13362164643843, 153.3...  \n20  [-8.823913805517407, 144.13362164643843, 153.3...  \n21  [-8.823913805517407, 144.13362164643843, 153.3...  \n22  [-8.823913805517407, 144.13362164643843, 153.3...  \n23  [-8.961428255969949, 142.95682803443975, 152.3...  \n24  [-8.940034737799113, 142.32824872429532, 152.3...  \n25  [-8.88862200511195, 141.04490900976057, 151.29...  \n26  [-9.02234150839642, 140.6879390247832, 151.218...  \n27  [-9.047646797139107, 140.61082583003213, 151.1...  \n28  [-9.047646797139107, 140.61082583003213, 151.1...  \n29  [-9.047646797139107, 140.61082583003213, 151.1...  \n30  [-9.036858187160343, 140.8703424548706, 151.21...  \n31  [-9.0356342270743, 141.10833600614865, 151.216...  \n32  [-9.035182949815933, 141.15679890816432, 151.2...  \n33  [-9.034534348242634, 141.1866281325309, 151.21...  \n34  [-9.034962015512225, 141.10993610213188, 151.2...  \n35  [-9.043982957535663, 140.91242479181528, 151.2...  \n36  [-9.043982957535663, 140.91242479181528, 151.2...  \n37  [-9.043982957535663, 140.91242479181528, 151.2...  \n38  [-9.03350153904783, 141.17993160474694, 151.20...  \n39  [-9.03422400832405, 141.21076156682577, 151.20...  \n40  [-9.03422400832405, 141.21076156682577, 151.20...  \n41  [-9.03422400832405, 141.21076156682577, 151.20...  \n42  [-9.024712351042139, 140.8875136932124, 150.87...  \n43  [-9.023244085009217, 140.89343620531116, 150.8...  \n44  [-9.023532259989004, 140.8953114132988, 150.85...  \n45  [-9.023712875199303, 140.89716878116317, 150.8...  \n46  [-9.023865664724458, 140.89689349095372, 150.7...  \n47  [-9.023963051126682, 140.8988345735588, 150.77...  \n48  [-9.023692285606792, 140.89948674954434, 150.7...  \n49  [-9.023643498325988, 140.89988353336167, 150.7...  ",
      "text/html": "<div>\n<style scoped>\n    .dataframe tbody tr th:only-of-type {\n        vertical-align: middle;\n    }\n\n    .dataframe tbody tr th {\n        vertical-align: top;\n    }\n\n    .dataframe thead th {\n        text-align: right;\n    }\n</style>\n<table border=\"1\" class=\"dataframe\">\n  <thead>\n    <tr style=\"text-align: right;\">\n      <th></th>\n      <th>Iteration</th>\n      <th>Fitness</th>\n      <th>Accuracy</th>\n      <th>ExecutionTime</th>\n      <th>Discrete</th>\n      <th>Real</th>\n    </tr>\n  </thead>\n  <tbody>\n    <tr>\n      <th>0</th>\n      <td>0</td>\n      <td>517.014978</td>\n      <td>0</td>\n      <td>0.003048</td>\n      <td>[]</td>\n      <td>[-4.98, 157.83, 161.92, 189.92, 11.98, 35.76, ...</td>\n    </tr>\n    <tr>\n      <th>1</th>\n      <td>1</td>\n      <td>530.855183</td>\n      <td>0</td>\n      <td>0.085591</td>\n      <td>[]</td>\n      <td>[-2.7546657683245406, 157.40093372659027, 161....</td>\n    </tr>\n    <tr>\n      <th>2</th>\n      <td>2</td>\n      <td>542.646939</td>\n      <td>0</td>\n      <td>0.165635</td>\n      <td>[]</td>\n      <td>[-1.4908902847345742, 157.03956686173672, 161....</td>\n    </tr>\n    <tr>\n      <th>3</th>\n      <td>3</td>\n      <td>565.661258</td>\n      <td>0</td>\n      <td>0.218120</td>\n      <td>[]</td>\n      <td>[-0.08372446694929914, 152.02590705979338, 157...</td>\n    </tr>\n    <tr>\n      <th>4</th>\n      <td>4</td>\n      <td>565.661258</td>\n      <td>0</td>\n      <td>0.242157</td>\n      <td>[]</td>\n      <td>[5.670225709399254, 148.90734406439034, 159.04...</td>\n    </tr>\n    <tr>\n      <th>5</th>\n      <td>5</td>\n      <td>565.661258</td>\n      <td>0</td>\n      <td>0.312635</td>\n      <td>[]</td>\n      <td>[5.670225709399254, 148.90734406439034, 159.04...</td>\n    </tr>\n    <tr>\n      <th>6</th>\n      <td>6</td>\n      <td>565.661258</td>\n      <td>0</td>\n      <td>0.359963</td>\n      <td>[]</td>\n      <td>[5.670225709399254, 148.90734406439034, 159.04...</td>\n    </tr>\n    <tr>\n      <th>7</th>\n      <td>7</td>\n      <td>566.497557</td>\n      <td>0</td>\n      <td>0.363831</td>\n      <td>[]</td>\n      <td>[-9.771727430351225, 145.23158773598314, 153.9...</td>\n    </tr>\n    <tr>\n      <th>8</th>\n      <td>8</td>\n      <td>568.721232</td>\n      <td>0</td>\n      <td>0.367587</td>\n      <td>[]</td>\n      <td>[-7.794995179434571, 143.10007102447446, 154.2...</td>\n    </tr>\n    <tr>\n      <th>9</th>\n      <td>9</td>\n      <td>568.721232</td>\n      <td>0</td>\n      <td>0.370925</td>\n      <td>[]</td>\n      <td>[-9.92970600467806, 143.22751590497882, 153.84...</td>\n    </tr>\n    <tr>\n      <th>10</th>\n      <td>10</td>\n      <td>568.721232</td>\n      <td>0</td>\n      <td>0.373775</td>\n      <td>[]</td>\n      <td>[-9.92970600467806, 143.22751590497882, 153.84...</td>\n    </tr>\n    <tr>\n      <th>11</th>\n      <td>11</td>\n      <td>568.721232</td>\n      <td>0</td>\n      <td>0.377499</td>\n      <td>[]</td>\n      <td>[-9.92970600467806, 143.22751590497882, 153.84...</td>\n    </tr>\n    <tr>\n      <th>12</th>\n      <td>12</td>\n      <td>568.721232</td>\n      <td>0</td>\n      <td>0.407769</td>\n      <td>[]</td>\n      <td>[-9.92970600467806, 143.22751590497882, 153.84...</td>\n    </tr>\n    <tr>\n      <th>13</th>\n      <td>13</td>\n      <td>568.721232</td>\n      <td>0</td>\n      <td>0.431715</td>\n      <td>[]</td>\n      <td>[-9.92970600467806, 143.22751590497882, 153.84...</td>\n    </tr>\n    <tr>\n      <th>14</th>\n      <td>14</td>\n      <td>569.752270</td>\n      <td>0</td>\n      <td>0.434186</td>\n      <td>[]</td>\n      <td>[-9.056985424365779, 140.95362962673235, 153.2...</td>\n    </tr>\n    <tr>\n      <th>15</th>\n      <td>15</td>\n      <td>569.944354</td>\n      <td>0</td>\n      <td>0.444001</td>\n      <td>[]</td>\n      <td>[-8.9701371854631, 142.04060276661053, 153.246...</td>\n    </tr>\n    <tr>\n      <th>16</th>\n      <td>16</td>\n      <td>569.944354</td>\n      <td>0</td>\n      <td>0.457104</td>\n      <td>[]</td>\n      <td>[-8.823913805517407, 144.13362164643843, 153.3...</td>\n    </tr>\n    <tr>\n      <th>17</th>\n      <td>17</td>\n      <td>569.944354</td>\n      <td>0</td>\n      <td>0.461096</td>\n      <td>[]</td>\n      <td>[-8.823913805517407, 144.13362164643843, 153.3...</td>\n    </tr>\n    <tr>\n      <th>18</th>\n      <td>18</td>\n      <td>569.944354</td>\n      <td>0</td>\n      <td>0.467344</td>\n      <td>[]</td>\n      <td>[-8.823913805517407, 144.13362164643843, 153.3...</td>\n    </tr>\n    <tr>\n      <th>19</th>\n      <td>19</td>\n      <td>569.944354</td>\n      <td>0</td>\n      <td>0.522234</td>\n      <td>[]</td>\n      <td>[-8.823913805517407, 144.13362164643843, 153.3...</td>\n    </tr>\n    <tr>\n      <th>20</th>\n      <td>20</td>\n      <td>569.944354</td>\n      <td>0</td>\n      <td>0.541828</td>\n      <td>[]</td>\n      <td>[-8.823913805517407, 144.13362164643843, 153.3...</td>\n    </tr>\n    <tr>\n      <th>21</th>\n      <td>21</td>\n      <td>569.944354</td>\n      <td>0</td>\n      <td>0.547574</td>\n      <td>[]</td>\n      <td>[-8.823913805517407, 144.13362164643843, 153.3...</td>\n    </tr>\n    <tr>\n      <th>22</th>\n      <td>22</td>\n      <td>569.944354</td>\n      <td>0</td>\n      <td>0.596972</td>\n      <td>[]</td>\n      <td>[-8.823913805517407, 144.13362164643843, 153.3...</td>\n    </tr>\n    <tr>\n      <th>23</th>\n      <td>23</td>\n      <td>571.348366</td>\n      <td>0</td>\n      <td>0.624208</td>\n      <td>[]</td>\n      <td>[-8.961428255969949, 142.95682803443975, 152.3...</td>\n    </tr>\n    <tr>\n      <th>24</th>\n      <td>24</td>\n      <td>575.662230</td>\n      <td>0</td>\n      <td>0.631063</td>\n      <td>[]</td>\n      <td>[-8.940034737799113, 142.32824872429532, 152.3...</td>\n    </tr>\n    <tr>\n      <th>25</th>\n      <td>25</td>\n      <td>582.045664</td>\n      <td>0</td>\n      <td>0.674821</td>\n      <td>[]</td>\n      <td>[-8.88862200511195, 141.04490900976057, 151.29...</td>\n    </tr>\n    <tr>\n      <th>26</th>\n      <td>26</td>\n      <td>586.110856</td>\n      <td>0</td>\n      <td>0.713089</td>\n      <td>[]</td>\n      <td>[-9.02234150839642, 140.6879390247832, 151.218...</td>\n    </tr>\n    <tr>\n      <th>27</th>\n      <td>27</td>\n      <td>586.110856</td>\n      <td>0</td>\n      <td>0.814261</td>\n      <td>[]</td>\n      <td>[-9.047646797139107, 140.61082583003213, 151.1...</td>\n    </tr>\n    <tr>\n      <th>28</th>\n      <td>28</td>\n      <td>586.110856</td>\n      <td>0</td>\n      <td>0.940392</td>\n      <td>[]</td>\n      <td>[-9.047646797139107, 140.61082583003213, 151.1...</td>\n    </tr>\n    <tr>\n      <th>29</th>\n      <td>29</td>\n      <td>586.110856</td>\n      <td>0</td>\n      <td>1.047582</td>\n      <td>[]</td>\n      <td>[-9.047646797139107, 140.61082583003213, 151.1...</td>\n    </tr>\n    <tr>\n      <th>30</th>\n      <td>30</td>\n      <td>588.921026</td>\n      <td>0</td>\n      <td>1.123223</td>\n      <td>[]</td>\n      <td>[-9.036858187160343, 140.8703424548706, 151.21...</td>\n    </tr>\n    <tr>\n      <th>31</th>\n      <td>31</td>\n      <td>589.252402</td>\n      <td>0</td>\n      <td>1.197486</td>\n      <td>[]</td>\n      <td>[-9.0356342270743, 141.10833600614865, 151.216...</td>\n    </tr>\n    <tr>\n      <th>32</th>\n      <td>32</td>\n      <td>589.357310</td>\n      <td>0</td>\n      <td>1.267606</td>\n      <td>[]</td>\n      <td>[-9.035182949815933, 141.15679890816432, 151.2...</td>\n    </tr>\n    <tr>\n      <th>33</th>\n      <td>33</td>\n      <td>589.433702</td>\n      <td>0</td>\n      <td>1.339689</td>\n      <td>[]</td>\n      <td>[-9.034534348242634, 141.1866281325309, 151.21...</td>\n    </tr>\n    <tr>\n      <th>34</th>\n      <td>34</td>\n      <td>590.874839</td>\n      <td>0</td>\n      <td>1.379981</td>\n      <td>[]</td>\n      <td>[-9.034962015512225, 141.10993610213188, 151.2...</td>\n    </tr>\n    <tr>\n      <th>35</th>\n      <td>35</td>\n      <td>590.874839</td>\n      <td>0</td>\n      <td>1.413400</td>\n      <td>[]</td>\n      <td>[-9.043982957535663, 140.91242479181528, 151.2...</td>\n    </tr>\n    <tr>\n      <th>36</th>\n      <td>36</td>\n      <td>590.874839</td>\n      <td>0</td>\n      <td>1.439690</td>\n      <td>[]</td>\n      <td>[-9.043982957535663, 140.91242479181528, 151.2...</td>\n    </tr>\n    <tr>\n      <th>37</th>\n      <td>37</td>\n      <td>590.874839</td>\n      <td>0</td>\n      <td>1.514880</td>\n      <td>[]</td>\n      <td>[-9.043982957535663, 140.91242479181528, 151.2...</td>\n    </tr>\n    <tr>\n      <th>38</th>\n      <td>38</td>\n      <td>591.196481</td>\n      <td>0</td>\n      <td>1.610974</td>\n      <td>[]</td>\n      <td>[-9.03350153904783, 141.17993160474694, 151.20...</td>\n    </tr>\n    <tr>\n      <th>39</th>\n      <td>39</td>\n      <td>591.196481</td>\n      <td>0</td>\n      <td>1.614665</td>\n      <td>[]</td>\n      <td>[-9.03422400832405, 141.21076156682577, 151.20...</td>\n    </tr>\n    <tr>\n      <th>40</th>\n      <td>40</td>\n      <td>591.196481</td>\n      <td>0</td>\n      <td>1.616876</td>\n      <td>[]</td>\n      <td>[-9.03422400832405, 141.21076156682577, 151.20...</td>\n    </tr>\n    <tr>\n      <th>41</th>\n      <td>41</td>\n      <td>591.196481</td>\n      <td>0</td>\n      <td>1.619479</td>\n      <td>[]</td>\n      <td>[-9.03422400832405, 141.21076156682577, 151.20...</td>\n    </tr>\n    <tr>\n      <th>42</th>\n      <td>42</td>\n      <td>591.215615</td>\n      <td>0</td>\n      <td>1.621906</td>\n      <td>[]</td>\n      <td>[-9.024712351042139, 140.8875136932124, 150.87...</td>\n    </tr>\n    <tr>\n      <th>43</th>\n      <td>43</td>\n      <td>591.244117</td>\n      <td>0</td>\n      <td>1.666866</td>\n      <td>[]</td>\n      <td>[-9.023244085009217, 140.89343620531116, 150.8...</td>\n    </tr>\n    <tr>\n      <th>44</th>\n      <td>44</td>\n      <td>591.247727</td>\n      <td>0</td>\n      <td>1.729309</td>\n      <td>[]</td>\n      <td>[-9.023532259989004, 140.8953114132988, 150.85...</td>\n    </tr>\n    <tr>\n      <th>45</th>\n      <td>45</td>\n      <td>591.247727</td>\n      <td>0</td>\n      <td>1.812686</td>\n      <td>[]</td>\n      <td>[-9.023712875199303, 140.89716878116317, 150.8...</td>\n    </tr>\n    <tr>\n      <th>46</th>\n      <td>46</td>\n      <td>591.252572</td>\n      <td>0</td>\n      <td>1.933760</td>\n      <td>[]</td>\n      <td>[-9.023865664724458, 140.89689349095372, 150.7...</td>\n    </tr>\n    <tr>\n      <th>47</th>\n      <td>47</td>\n      <td>591.252572</td>\n      <td>0</td>\n      <td>2.056270</td>\n      <td>[]</td>\n      <td>[-9.023963051126682, 140.8988345735588, 150.77...</td>\n    </tr>\n    <tr>\n      <th>48</th>\n      <td>48</td>\n      <td>591.252679</td>\n      <td>0</td>\n      <td>2.166871</td>\n      <td>[]</td>\n      <td>[-9.023692285606792, 140.89948674954434, 150.7...</td>\n    </tr>\n    <tr>\n      <th>49</th>\n      <td>49</td>\n      <td>591.252711</td>\n      <td>0</td>\n      <td>2.266971</td>\n      <td>[]</td>\n      <td>[-9.023643498325988, 140.89988353336167, 150.7...</td>\n    </tr>\n  </tbody>\n</table>\n</div>"
     },
     "execution_count": 20,
     "metadata": {},
     "output_type": "execute_result"
    }
   ],
   "source": [
    "training_history"
   ],
   "metadata": {
    "collapsed": false,
    "ExecuteTime": {
     "end_time": "2024-03-14T17:16:49.223623Z",
     "start_time": "2024-03-14T17:16:49.195263Z"
    }
   },
   "id": "d1ada6a23f65987c",
   "execution_count": 20
  },
  {
   "cell_type": "code",
   "outputs": [],
   "source": [],
   "metadata": {
    "collapsed": false
   },
   "id": "215937b03b2d6167"
  }
 ],
 "metadata": {
  "kernelspec": {
   "display_name": "Python 3 (ipykernel)",
   "language": "python",
   "name": "python3"
  },
  "language_info": {
   "codemirror_mode": {
    "name": "ipython",
    "version": 3
   },
   "file_extension": ".py",
   "mimetype": "text/x-python",
   "name": "python",
   "nbconvert_exporter": "python",
   "pygments_lexer": "ipython3",
   "version": "3.9.6"
  }
 },
 "nbformat": 4,
 "nbformat_minor": 5
}
