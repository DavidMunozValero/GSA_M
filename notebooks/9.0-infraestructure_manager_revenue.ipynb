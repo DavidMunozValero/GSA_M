{
 "cells": [
  {
   "cell_type": "markdown",
   "source": [
    "# Infraestructure Manager revenue maximization with GSA"
   ],
   "metadata": {
    "collapsed": false
   },
   "id": "332c3166a53e9a5a"
  },
  {
   "cell_type": "markdown",
   "source": [
    "## 0. Load libraries"
   ],
   "metadata": {
    "collapsed": false
   },
   "id": "7b4fe385be61b35a"
  },
  {
   "cell_type": "code",
   "outputs": [],
   "source": [
    "%load_ext autoreload\n",
    "%autoreload 2\n",
    "\n",
    "import numpy as np\n",
    "\n",
    "from benchmarks.railway import Solution, RevenueMaximization\n",
    "from benchmarks.generator import get_schedule_request, get_revenue_behaviour\n",
    "from src.entities import GSA"
   ],
   "metadata": {
    "collapsed": false,
    "ExecuteTime": {
     "end_time": "2024-03-26T18:13:12.361005Z",
     "start_time": "2024-03-26T18:13:12.331117Z"
    }
   },
   "id": "c3cc59d5610d418",
   "execution_count": 1
  },
  {
   "cell_type": "markdown",
   "source": [
    "## 1. Generate service requests\n",
    "\n",
    "As an example, we will use the Spanish south high-speed railway corridor.\n",
    "\n"
   ],
   "metadata": {
    "collapsed": false
   },
   "id": "3541711d59d51280"
  },
  {
   "cell_type": "code",
   "outputs": [],
   "source": [
    "south_corridor =   {\"MAD\": {\n",
    "                        \"CIU\": {\n",
    "                            \"COR\": {\n",
    "                                \"SEV\": {\n",
    "                                    \"CAD\": {}\n",
    "                                       },\n",
    "                                \"PGE\": {\n",
    "                                    \"ANT\": {\n",
    "                                        \"GRA\": {},\n",
    "                                        \"MAL\": {}\n",
    "                                            }\n",
    "                                        }\n",
    "                                    }\n",
    "                                }\n",
    "                            }\n",
    "                        }"
   ],
   "metadata": {
    "collapsed": false,
    "ExecuteTime": {
     "end_time": "2024-03-26T18:13:13.326441Z",
     "start_time": "2024-03-26T18:13:13.312397Z"
    }
   },
   "id": "909d19737ed8bbd6",
   "execution_count": 2
  },
  {
   "cell_type": "code",
   "outputs": [
    {
     "data": {
      "text/plain": "({1: {'CIU': [1302, 1302],\n   'COR': [1364, 1369],\n   'PGE': [1481, 1487],\n   'ANT': [1575, 1580],\n   'GRA': [1628, 1628]},\n  2: {'MAD': [606, 606],\n   'CIU': [679, 685],\n   'COR': [797, 800],\n   'SEV': [905, 912],\n   'CAD': [995, 995]},\n  3: {'MAD': [933, 933],\n   'CIU': [1033, 1039],\n   'COR': [1091, 1098],\n   'SEV': [1136, 1140],\n   'CAD': [1170, 1170]},\n  4: {'MAD': [963, 963],\n   'CIU': [1005, 1008],\n   'COR': [1115, 1118],\n   'PGE': [1203, 1206],\n   'ANT': [1234, 1238],\n   'GRA': [1281, 1281]},\n  5: {'COR': [537, 537],\n   'PGE': [614, 620],\n   'ANT': [730, 737],\n   'MAL': [762, 762]},\n  6: {'PGE': [1284, 1284], 'ANT': [1388, 1392], 'MAL': [1490, 1490]},\n  7: {'PGE': [980, 980], 'ANT': [1015, 1021], 'GRA': [1086, 1086]},\n  8: {'MAD': [976, 976],\n   'CIU': [1045, 1051],\n   'COR': [1081, 1087],\n   'SEV': [1131, 1137],\n   'CAD': [1184, 1184]},\n  9: {'ANT': [476, 476], 'MAL': [548, 548]},\n  10: {'COR': [489, 489],\n   'PGE': [559, 566],\n   'ANT': [632, 635],\n   'GRA': [700, 700]},\n  11: {'PGE': [264, 264], 'ANT': [310, 312], 'GRA': [388, 388]},\n  12: {'CIU': [98, 98],\n   'COR': [212, 216],\n   'PGE': [270, 277],\n   'ANT': [381, 383],\n   'GRA': [488, 488]},\n  13: {'COR': [85, 85], 'SEV': [142, 145], 'CAD': [238, 238]},\n  14: {'MAD': [1233, 1233],\n   'CIU': [1293, 1298],\n   'COR': [1397, 1404],\n   'PGE': [1471, 1478],\n   'ANT': [1580, 1584],\n   'GRA': [1645, 1645]},\n  15: {'CIU': [1372, 1372],\n   'COR': [1403, 1405],\n   'PGE': [1437, 1443],\n   'ANT': [1505, 1510],\n   'MAL': [1605, 1605]},\n  16: {'PGE': [634, 634], 'ANT': [734, 740], 'GRA': [840, 840]},\n  17: {'SEV': [351, 351], 'CAD': [409, 409]},\n  18: {'COR': [1142, 1142], 'SEV': [1227, 1231], 'CAD': [1280, 1280]},\n  19: {'CIU': [652, 652],\n   'COR': [694, 701],\n   'SEV': [745, 751],\n   'CAD': [851, 851]},\n  20: {'CIU': [702, 702],\n   'COR': [732, 734],\n   'SEV': [767, 774],\n   'CAD': [873, 873]},\n  21: {'ANT': [333, 333], 'MAL': [392, 392]},\n  22: {'MAD': [1334, 1334],\n   'CIU': [1428, 1435],\n   'COR': [1476, 1479],\n   'SEV': [1569, 1576],\n   'CAD': [1677, 1677]},\n  23: {'ANT': [1275, 1275], 'MAL': [1330, 1330]},\n  24: {'PGE': [1381, 1381], 'ANT': [1470, 1475], 'GRA': [1548, 1548]},\n  25: {'MAD': [85, 85],\n   'CIU': [142, 145],\n   'COR': [257, 261],\n   'PGE': [346, 351],\n   'ANT': [445, 451],\n   'MAL': [523, 523]},\n  26: {'MAD': [1056, 1056],\n   'CIU': [1138, 1145],\n   'COR': [1254, 1258],\n   'SEV': [1338, 1340],\n   'CAD': [1431, 1431]},\n  27: {'ANT': [0, 0], 'GRA': [62, 62]},\n  28: {'SEV': [1370, 1370], 'CAD': [1431, 1431]},\n  29: {'PGE': [1019, 1019], 'ANT': [1097, 1099], 'MAL': [1134, 1134]},\n  30: {'SEV': [1238, 1238], 'CAD': [1284, 1284]},\n  31: {'COR': [999, 999], 'SEV': [1041, 1047], 'CAD': [1155, 1155]},\n  32: {'MAD': [1140, 1140],\n   'CIU': [1239, 1244],\n   'COR': [1356, 1359],\n   'PGE': [1414, 1418],\n   'ANT': [1470, 1474],\n   'GRA': [1501, 1501]},\n  33: {'COR': [223, 223], 'SEV': [327, 329], 'CAD': [412, 412]},\n  34: {'COR': [1364, 1364], 'SEV': [1407, 1412], 'CAD': [1488, 1488]},\n  35: {'MAD': [50, 50],\n   'CIU': [137, 143],\n   'COR': [201, 203],\n   'PGE': [320, 323],\n   'ANT': [389, 394],\n   'MAL': [494, 494]},\n  36: {'ANT': [703, 703], 'GRA': [756, 756]},\n  37: {'PGE': [844, 844], 'ANT': [946, 949], 'GRA': [998, 998]},\n  38: {'PGE': [347, 347], 'ANT': [431, 435], 'GRA': [489, 489]},\n  39: {'PGE': [39, 39], 'ANT': [134, 137], 'MAL': [247, 247]},\n  40: {'COR': [564, 564], 'SEV': [597, 599], 'CAD': [665, 665]},\n  41: {'CIU': [1193, 1193],\n   'COR': [1275, 1281],\n   'SEV': [1365, 1372],\n   'CAD': [1467, 1467]},\n  42: {'MAD': [715, 715],\n   'CIU': [811, 813],\n   'COR': [850, 856],\n   'PGE': [884, 889],\n   'ANT': [941, 946],\n   'MAL': [1027, 1027]},\n  43: {'CIU': [685, 685],\n   'COR': [800, 804],\n   'PGE': [839, 842],\n   'ANT': [880, 882],\n   'MAL': [963, 963]},\n  44: {'COR': [775, 775], 'SEV': [830, 836], 'CAD': [931, 931]},\n  45: {'ANT': [764, 764], 'MAL': [865, 865]},\n  46: {'MAD': [499, 499],\n   'CIU': [596, 602],\n   'COR': [692, 698],\n   'PGE': [723, 726],\n   'ANT': [820, 822],\n   'MAL': [882, 882]},\n  47: {'COR': [2, 2], 'PGE': [112, 119], 'ANT': [191, 195], 'GRA': [290, 290]},\n  48: {'CIU': [96, 96],\n   'COR': [146, 153],\n   'PGE': [179, 186],\n   'ANT': [291, 296],\n   'GRA': [396, 396]},\n  49: {'COR': [1033, 1033], 'SEV': [1142, 1145], 'CAD': [1181, 1181]},\n  50: {'CIU': [237, 237],\n   'COR': [303, 310],\n   'PGE': [376, 381],\n   'ANT': [440, 442],\n   'MAL': [517, 517]},\n  51: {'CIU': [1262, 1262],\n   'COR': [1355, 1359],\n   'PGE': [1473, 1478],\n   'ANT': [1591, 1596],\n   'MAL': [1658, 1658]},\n  52: {'ANT': [624, 624], 'MAL': [732, 732]},\n  53: {'PGE': [1096, 1096], 'ANT': [1145, 1152], 'MAL': [1224, 1224]},\n  54: {'PGE': [336, 336], 'ANT': [389, 391], 'GRA': [467, 467]},\n  55: {'MAD': [682, 682],\n   'CIU': [776, 781],\n   'COR': [843, 845],\n   'SEV': [956, 962],\n   'CAD': [1041, 1041]},\n  56: {'ANT': [1391, 1391], 'MAL': [1479, 1479]},\n  57: {'ANT': [1222, 1222], 'GRA': [1270, 1270]},\n  58: {'PGE': [710, 710], 'ANT': [797, 800], 'GRA': [845, 845]},\n  59: {'CIU': [395, 395],\n   'COR': [494, 499],\n   'PGE': [610, 617],\n   'ANT': [692, 696],\n   'GRA': [762, 762]},\n  60: {'MAD': [252, 252],\n   'CIU': [357, 363],\n   'COR': [474, 476],\n   'PGE': [519, 525],\n   'ANT': [564, 566],\n   'GRA': [631, 631]},\n  61: {'CIU': [609, 609],\n   'COR': [691, 695],\n   'PGE': [765, 769],\n   'ANT': [830, 835],\n   'GRA': [939, 939]},\n  62: {'COR': [546, 546],\n   'PGE': [593, 599],\n   'ANT': [646, 650],\n   'MAL': [696, 696]},\n  63: {'COR': [551, 551],\n   'PGE': [594, 596],\n   'ANT': [662, 669],\n   'MAL': [755, 755]},\n  64: {'MAD': [1032, 1032],\n   'CIU': [1151, 1154],\n   'COR': [1266, 1270],\n   'SEV': [1359, 1361],\n   'CAD': [1458, 1458]},\n  65: {'MAD': [1366, 1366],\n   'CIU': [1440, 1445],\n   'COR': [1506, 1508],\n   'PGE': [1625, 1632],\n   'ANT': [1705, 1707],\n   'MAL': [1774, 1774]},\n  66: {'MAD': [920, 920],\n   'CIU': [1033, 1035],\n   'COR': [1152, 1157],\n   'PGE': [1194, 1201],\n   'ANT': [1279, 1284],\n   'GRA': [1340, 1340]},\n  67: {'ANT': [25, 25], 'GRA': [88, 88]},\n  68: {'COR': [1306, 1306],\n   'PGE': [1400, 1407],\n   'ANT': [1494, 1501],\n   'GRA': [1534, 1534]},\n  69: {'ANT': [941, 941], 'MAL': [1038, 1038]},\n  70: {'COR': [968, 968],\n   'PGE': [1058, 1063],\n   'ANT': [1163, 1166],\n   'MAL': [1263, 1263]},\n  71: {'ANT': [616, 616], 'MAL': [670, 670]},\n  72: {'COR': [812, 812],\n   'PGE': [860, 866],\n   'ANT': [977, 981],\n   'MAL': [1044, 1044]},\n  73: {'CIU': [1133, 1133],\n   'COR': [1232, 1235],\n   'PGE': [1350, 1354],\n   'ANT': [1402, 1405],\n   'MAL': [1478, 1478]},\n  74: {'CIU': [1156, 1156],\n   'COR': [1248, 1253],\n   'PGE': [1332, 1334],\n   'ANT': [1441, 1443],\n   'MAL': [1514, 1514]},\n  75: {'COR': [682, 682], 'SEV': [724, 727], 'CAD': [776, 776]},\n  76: {'MAD': [1022, 1022],\n   'CIU': [1132, 1135],\n   'COR': [1247, 1251],\n   'PGE': [1316, 1319],\n   'ANT': [1399, 1405],\n   'MAL': [1492, 1492]},\n  77: {'CIU': [210, 210],\n   'COR': [264, 267],\n   'PGE': [294, 299],\n   'ANT': [358, 364],\n   'GRA': [402, 402]},\n  78: {'MAD': [378, 378],\n   'CIU': [476, 480],\n   'COR': [519, 525],\n   'PGE': [627, 633],\n   'ANT': [692, 694],\n   'GRA': [736, 736]},\n  79: {'PGE': [714, 714], 'ANT': [817, 823], 'MAL': [923, 923]},\n  80: {'COR': [57, 57], 'SEV': [104, 106], 'CAD': [143, 143]},\n  81: {'CIU': [1170, 1170],\n   'COR': [1280, 1286],\n   'PGE': [1356, 1361],\n   'ANT': [1386, 1390],\n   'MAL': [1462, 1462]},\n  82: {'ANT': [1220, 1220], 'MAL': [1318, 1318]},\n  83: {'ANT': [83, 83], 'GRA': [191, 191]},\n  84: {'COR': [552, 552],\n   'PGE': [651, 657],\n   'ANT': [714, 721],\n   'GRA': [789, 789]},\n  85: {'COR': [719, 719],\n   'PGE': [793, 798],\n   'ANT': [824, 828],\n   'GRA': [860, 860]},\n  86: {'PGE': [1236, 1236], 'ANT': [1354, 1360], 'MAL': [1429, 1429]},\n  87: {'SEV': [153, 153], 'CAD': [249, 249]},\n  88: {'CIU': [498, 498],\n   'COR': [544, 546],\n   'PGE': [618, 620],\n   'ANT': [652, 655],\n   'GRA': [687, 687]},\n  89: {'COR': [382, 382],\n   'PGE': [488, 493],\n   'ANT': [554, 561],\n   'MAL': [602, 602]},\n  90: {'ANT': [467, 467], 'GRA': [583, 583]},\n  91: {'COR': [608, 608],\n   'PGE': [687, 694],\n   'ANT': [782, 789],\n   'MAL': [894, 894]},\n  92: {'MAD': [652, 652],\n   'CIU': [691, 697],\n   'COR': [801, 807],\n   'PGE': [912, 919],\n   'ANT': [1015, 1021],\n   'MAL': [1053, 1053]},\n  93: {'COR': [1022, 1022],\n   'PGE': [1118, 1121],\n   'ANT': [1219, 1223],\n   'MAL': [1249, 1249]},\n  94: {'SEV': [719, 719], 'CAD': [762, 762]},\n  95: {'COR': [901, 901],\n   'PGE': [941, 945],\n   'ANT': [1029, 1034],\n   'MAL': [1078, 1078]},\n  96: {'ANT': [1125, 1125], 'GRA': [1190, 1190]},\n  97: {'MAD': [1299, 1299],\n   'CIU': [1371, 1375],\n   'COR': [1430, 1436],\n   'PGE': [1535, 1542],\n   'ANT': [1630, 1633],\n   'MAL': [1712, 1712]},\n  98: {'PGE': [1418, 1418], 'ANT': [1478, 1483], 'MAL': [1590, 1590]},\n  99: {'PGE': [401, 401], 'ANT': [470, 474], 'MAL': [536, 536]},\n  100: {'ANT': [326, 326], 'GRA': [393, 393]}},\n {1: {'canon': 302.5,\n   'k': 2.04,\n   'dt_max_penalty': 42.35,\n   'tt_max_penalty': 19.66},\n  2: {'canon': 302.5,\n   'k': 1.07,\n   'dt_max_penalty': 42.35,\n   'tt_max_penalty': 19.66},\n  3: {'canon': 302.5,\n   'k': 35.19,\n   'dt_max_penalty': 42.35,\n   'tt_max_penalty': 19.66},\n  4: {'canon': 396.0,\n   'k': 1.13,\n   'dt_max_penalty': 55.44,\n   'tt_max_penalty': 20.59},\n  5: {'canon': 264.0,\n   'k': 1.06,\n   'dt_max_penalty': 36.96,\n   'tt_max_penalty': 22.88},\n  6: {'canon': 181.5,\n   'k': 41.57,\n   'dt_max_penalty': 25.41,\n   'tt_max_penalty': 23.6},\n  7: {'canon': 198.0,\n   'k': 2.67,\n   'dt_max_penalty': 27.72,\n   'tt_max_penalty': 25.74},\n  8: {'canon': 371.25,\n   'k': 2.03,\n   'dt_max_penalty': 51.97,\n   'tt_max_penalty': 24.13},\n  9: {'canon': 132.0,\n   'k': 39.44,\n   'dt_max_penalty': 18.48,\n   'tt_max_penalty': 34.32},\n  10: {'canon': 297.0,\n   'k': 1.01,\n   'dt_max_penalty': 41.58,\n   'tt_max_penalty': 25.74},\n  11: {'canon': 181.5,\n   'k': 1.02,\n   'dt_max_penalty': 25.41,\n   'tt_max_penalty': 23.6},\n  12: {'canon': 371.25,\n   'k': 8.83,\n   'dt_max_penalty': 51.97,\n   'tt_max_penalty': 24.13},\n  13: {'canon': 181.5,\n   'k': 1.03,\n   'dt_max_penalty': 25.41,\n   'tt_max_penalty': 23.6},\n  14: {'canon': 363.0,\n   'k': 6.13,\n   'dt_max_penalty': 50.82,\n   'tt_max_penalty': 18.88},\n  15: {'canon': 330.0,\n   'k': 10.64,\n   'dt_max_penalty': 46.2,\n   'tt_max_penalty': 21.45},\n  16: {'canon': 198.0,\n   'k': 2.62,\n   'dt_max_penalty': 27.72,\n   'tt_max_penalty': 25.74},\n  17: {'canon': 132.0,\n   'k': 49.32,\n   'dt_max_penalty': 18.48,\n   'tt_max_penalty': 34.32},\n  18: {'canon': 222.75,\n   'k': 5.02,\n   'dt_max_penalty': 31.18,\n   'tt_max_penalty': 28.96},\n  19: {'canon': 297.0,\n   'k': 1.09,\n   'dt_max_penalty': 41.58,\n   'tt_max_penalty': 25.74},\n  20: {'canon': 297.0,\n   'k': 1.26,\n   'dt_max_penalty': 41.58,\n   'tt_max_penalty': 25.74},\n  21: {'canon': 132.0,\n   'k': 18.88,\n   'dt_max_penalty': 18.48,\n   'tt_max_penalty': 34.32},\n  22: {'canon': 330.0,\n   'k': 1.02,\n   'dt_max_penalty': 46.2,\n   'tt_max_penalty': 21.45},\n  23: {'canon': 132.0,\n   'k': 13.95,\n   'dt_max_penalty': 18.48,\n   'tt_max_penalty': 34.32},\n  24: {'canon': 181.5,\n   'k': 25.34,\n   'dt_max_penalty': 25.41,\n   'tt_max_penalty': 23.6},\n  25: {'canon': 396.0,\n   'k': 1.11,\n   'dt_max_penalty': 55.44,\n   'tt_max_penalty': 20.59},\n  26: {'canon': 371.25,\n   'k': 1.14,\n   'dt_max_penalty': 51.97,\n   'tt_max_penalty': 24.13},\n  27: {'canon': 148.5,\n   'k': 57.91,\n   'dt_max_penalty': 20.79,\n   'tt_max_penalty': 38.61},\n  28: {'canon': 148.5,\n   'k': 2.03,\n   'dt_max_penalty': 20.79,\n   'tt_max_penalty': 38.61},\n  29: {'canon': 181.5,\n   'k': 2.32,\n   'dt_max_penalty': 25.41,\n   'tt_max_penalty': 23.6},\n  30: {'canon': 148.5,\n   'k': 1.01,\n   'dt_max_penalty': 20.79,\n   'tt_max_penalty': 38.61},\n  31: {'canon': 222.75,\n   'k': 6.96,\n   'dt_max_penalty': 31.18,\n   'tt_max_penalty': 28.96},\n  32: {'canon': 445.5,\n   'k': 87.62,\n   'dt_max_penalty': 62.37,\n   'tt_max_penalty': 23.17},\n  33: {'canon': 181.5,\n   'k': 1.13,\n   'dt_max_penalty': 25.41,\n   'tt_max_penalty': 23.6},\n  34: {'canon': 198.0,\n   'k': 1.06,\n   'dt_max_penalty': 27.72,\n   'tt_max_penalty': 25.74},\n  35: {'canon': 363.0,\n   'k': 1.06,\n   'dt_max_penalty': 50.82,\n   'tt_max_penalty': 18.88},\n  36: {'canon': 121.0,\n   'k': 28.08,\n   'dt_max_penalty': 16.94,\n   'tt_max_penalty': 31.46},\n  37: {'canon': 222.75,\n   'k': 14.25,\n   'dt_max_penalty': 31.18,\n   'tt_max_penalty': 28.96},\n  38: {'canon': 222.75,\n   'k': 1.06,\n   'dt_max_penalty': 31.18,\n   'tt_max_penalty': 28.96},\n  39: {'canon': 198.0,\n   'k': 74.68,\n   'dt_max_penalty': 27.72,\n   'tt_max_penalty': 25.74},\n  40: {'canon': 222.75,\n   'k': 1.59,\n   'dt_max_penalty': 31.18,\n   'tt_max_penalty': 28.96},\n  41: {'canon': 297.0,\n   'k': 1.01,\n   'dt_max_penalty': 41.58,\n   'tt_max_penalty': 25.74},\n  42: {'canon': 363.0,\n   'k': 1.04,\n   'dt_max_penalty': 50.82,\n   'tt_max_penalty': 18.88},\n  43: {'canon': 330.0,\n   'k': 1.22,\n   'dt_max_penalty': 46.2,\n   'tt_max_penalty': 21.45},\n  44: {'canon': 222.75,\n   'k': 40.5,\n   'dt_max_penalty': 31.18,\n   'tt_max_penalty': 28.96},\n  45: {'canon': 121.0,\n   'k': 45.17,\n   'dt_max_penalty': 16.94,\n   'tt_max_penalty': 31.46},\n  46: {'canon': 445.5,\n   'k': 85.33,\n   'dt_max_penalty': 62.37,\n   'tt_max_penalty': 23.17},\n  47: {'canon': 297.0,\n   'k': 1.01,\n   'dt_max_penalty': 41.58,\n   'tt_max_penalty': 25.74},\n  48: {'canon': 302.5,\n   'k': 1.02,\n   'dt_max_penalty': 42.35,\n   'tt_max_penalty': 19.66},\n  49: {'canon': 181.5,\n   'k': 6.28,\n   'dt_max_penalty': 25.41,\n   'tt_max_penalty': 23.6},\n  50: {'canon': 330.0,\n   'k': 1.1,\n   'dt_max_penalty': 46.2,\n   'tt_max_penalty': 21.45},\n  51: {'canon': 302.5,\n   'k': 5.36,\n   'dt_max_penalty': 42.35,\n   'tt_max_penalty': 19.66},\n  52: {'canon': 132.0,\n   'k': 61.03,\n   'dt_max_penalty': 18.48,\n   'tt_max_penalty': 34.32},\n  53: {'canon': 222.75,\n   'k': 1.17,\n   'dt_max_penalty': 31.18,\n   'tt_max_penalty': 28.96},\n  54: {'canon': 181.5,\n   'k': 6.49,\n   'dt_max_penalty': 25.41,\n   'tt_max_penalty': 23.6},\n  55: {'canon': 330.0,\n   'k': 1.01,\n   'dt_max_penalty': 46.2,\n   'tt_max_penalty': 21.45},\n  56: {'canon': 121.0,\n   'k': 1.42,\n   'dt_max_penalty': 16.94,\n   'tt_max_penalty': 31.46},\n  57: {'canon': 121.0,\n   'k': 11.06,\n   'dt_max_penalty': 16.94,\n   'tt_max_penalty': 31.46},\n  58: {'canon': 222.75,\n   'k': 1.41,\n   'dt_max_penalty': 31.18,\n   'tt_max_penalty': 28.96},\n  59: {'canon': 302.5,\n   'k': 1.23,\n   'dt_max_penalty': 42.35,\n   'tt_max_penalty': 19.66},\n  60: {'canon': 396.0,\n   'k': 3.41,\n   'dt_max_penalty': 55.44,\n   'tt_max_penalty': 20.59},\n  61: {'canon': 330.0,\n   'k': 1.57,\n   'dt_max_penalty': 46.2,\n   'tt_max_penalty': 21.45},\n  62: {'canon': 297.0,\n   'k': 1.02,\n   'dt_max_penalty': 41.58,\n   'tt_max_penalty': 25.74},\n  63: {'canon': 297.0,\n   'k': 1.4,\n   'dt_max_penalty': 41.58,\n   'tt_max_penalty': 25.74},\n  64: {'canon': 302.5,\n   'k': 1.44,\n   'dt_max_penalty': 42.35,\n   'tt_max_penalty': 19.66},\n  65: {'canon': 445.5,\n   'k': 1.62,\n   'dt_max_penalty': 62.37,\n   'tt_max_penalty': 23.17},\n  66: {'canon': 445.5,\n   'k': 63.58,\n   'dt_max_penalty': 62.37,\n   'tt_max_penalty': 23.17},\n  67: {'canon': 148.5,\n   'k': 26.86,\n   'dt_max_penalty': 20.79,\n   'tt_max_penalty': 38.61},\n  68: {'canon': 242.0,\n   'k': 1.05,\n   'dt_max_penalty': 33.88,\n   'tt_max_penalty': 20.97},\n  69: {'canon': 132.0,\n   'k': 1.04,\n   'dt_max_penalty': 18.48,\n   'tt_max_penalty': 34.32},\n  70: {'canon': 242.0,\n   'k': 95.99,\n   'dt_max_penalty': 33.88,\n   'tt_max_penalty': 20.97},\n  71: {'canon': 121.0,\n   'k': 25.37,\n   'dt_max_penalty': 16.94,\n   'tt_max_penalty': 31.46},\n  72: {'canon': 297.0,\n   'k': 1.03,\n   'dt_max_penalty': 41.58,\n   'tt_max_penalty': 25.74},\n  73: {'canon': 302.5,\n   'k': 1.53,\n   'dt_max_penalty': 42.35,\n   'tt_max_penalty': 19.66},\n  74: {'canon': 371.25,\n   'k': 1.01,\n   'dt_max_penalty': 51.97,\n   'tt_max_penalty': 24.13},\n  75: {'canon': 198.0,\n   'k': 12.43,\n   'dt_max_penalty': 27.72,\n   'tt_max_penalty': 25.74},\n  76: {'canon': 445.5,\n   'k': 1.16,\n   'dt_max_penalty': 62.37,\n   'tt_max_penalty': 23.17},\n  77: {'canon': 330.0,\n   'k': 87.57,\n   'dt_max_penalty': 46.2,\n   'tt_max_penalty': 21.45},\n  78: {'canon': 445.5,\n   'k': 3.07,\n   'dt_max_penalty': 62.37,\n   'tt_max_penalty': 23.17},\n  79: {'canon': 222.75,\n   'k': 1.18,\n   'dt_max_penalty': 31.18,\n   'tt_max_penalty': 28.96},\n  80: {'canon': 198.0,\n   'k': 1.11,\n   'dt_max_penalty': 27.72,\n   'tt_max_penalty': 25.74},\n  81: {'canon': 302.5,\n   'k': 1.31,\n   'dt_max_penalty': 42.35,\n   'tt_max_penalty': 19.66},\n  82: {'canon': 132.0,\n   'k': 10.57,\n   'dt_max_penalty': 18.48,\n   'tt_max_penalty': 34.32},\n  83: {'canon': 132.0,\n   'k': 8.85,\n   'dt_max_penalty': 18.48,\n   'tt_max_penalty': 34.32},\n  84: {'canon': 264.0,\n   'k': 3.86,\n   'dt_max_penalty': 36.96,\n   'tt_max_penalty': 22.88},\n  85: {'canon': 264.0,\n   'k': 1.02,\n   'dt_max_penalty': 36.96,\n   'tt_max_penalty': 22.88},\n  86: {'canon': 198.0,\n   'k': 1.18,\n   'dt_max_penalty': 27.72,\n   'tt_max_penalty': 25.74},\n  87: {'canon': 148.5,\n   'k': 1.97,\n   'dt_max_penalty': 20.79,\n   'tt_max_penalty': 38.61},\n  88: {'canon': 302.5,\n   'k': 3.6,\n   'dt_max_penalty': 42.35,\n   'tt_max_penalty': 19.66},\n  89: {'canon': 264.0,\n   'k': 5.11,\n   'dt_max_penalty': 36.96,\n   'tt_max_penalty': 22.88},\n  90: {'canon': 148.5,\n   'k': 2.03,\n   'dt_max_penalty': 20.79,\n   'tt_max_penalty': 38.61},\n  91: {'canon': 242.0,\n   'k': 36.77,\n   'dt_max_penalty': 33.88,\n   'tt_max_penalty': 20.97},\n  92: {'canon': 445.5,\n   'k': 24.14,\n   'dt_max_penalty': 62.37,\n   'tt_max_penalty': 23.17},\n  93: {'canon': 264.0,\n   'k': 5.75,\n   'dt_max_penalty': 36.96,\n   'tt_max_penalty': 22.88},\n  94: {'canon': 132.0,\n   'k': 8.98,\n   'dt_max_penalty': 18.48,\n   'tt_max_penalty': 34.32},\n  95: {'canon': 264.0,\n   'k': 2.58,\n   'dt_max_penalty': 36.96,\n   'tt_max_penalty': 22.88},\n  96: {'canon': 121.0,\n   'k': 1.02,\n   'dt_max_penalty': 16.94,\n   'tt_max_penalty': 31.46},\n  97: {'canon': 363.0,\n   'k': 22.98,\n   'dt_max_penalty': 50.82,\n   'tt_max_penalty': 18.88},\n  98: {'canon': 198.0,\n   'k': 25.74,\n   'dt_max_penalty': 27.72,\n   'tt_max_penalty': 25.74},\n  99: {'canon': 181.5,\n   'k': 1.29,\n   'dt_max_penalty': 25.41,\n   'tt_max_penalty': 23.6},\n  100: {'canon': 132.0,\n   'k': 1.24,\n   'dt_max_penalty': 18.48,\n   'tt_max_penalty': 34.32}})"
     },
     "execution_count": 3,
     "metadata": {},
     "output_type": "execute_result"
    }
   ],
   "source": [
    "np.random.seed(seed=28)\n",
    "\n",
    "schedule = get_schedule_request(south_corridor, 100)\n",
    "revenue = get_revenue_behaviour(schedule)\n",
    "\n",
    "schedule, revenue"
   ],
   "metadata": {
    "collapsed": false,
    "ExecuteTime": {
     "end_time": "2024-03-26T18:13:13.724969Z",
     "start_time": "2024-03-26T18:13:13.694735Z"
    }
   },
   "id": "431870c186978069",
   "execution_count": 3
  },
  {
   "cell_type": "code",
   "outputs": [
    {
     "data": {
      "text/plain": "({1: {'MAD': array([0, 0]),\n   'BAR': array([148, 152]),\n   'FIG': array([180, 180])},\n  2: {'MAD': array([8, 8]),\n   'ZAR': array([28, 30]),\n   'BAR': array([165, 167]),\n   'FIG': array([210, 210])},\n  3: {'MAD': array([30, 30]),\n   'BAR': array([180, 182]),\n   'FIG': array([225, 225])}},\n {1: {'canon': 222.75,\n   'k': 1.05,\n   'dt_max_penalty': 31.18,\n   'tt_max_penalty': 28.96},\n  2: {'canon': 242.0,\n   'k': 1.03,\n   'dt_max_penalty': 33.88,\n   'tt_max_penalty': 20.97},\n  3: {'canon': 198.0,\n   'k': 1.18,\n   'dt_max_penalty': 27.72,\n   'tt_max_penalty': 25.74}})"
     },
     "execution_count": 4,
     "metadata": {},
     "output_type": "execute_result"
    }
   ],
   "source": [
    "np.random.seed(seed=28)\n",
    "\n",
    "# Dummy schedule\n",
    "schedule = {1: {'MAD': [0, 0], 'BAR': [148, 152], 'FIG': [180, 180]},\n",
    "            2: {'MAD': [8, 8], 'ZAR': [28, 30], 'BAR': [165, 167], 'FIG': [210, 210]},\n",
    "            3: {'MAD': [30, 30], 'BAR': [180, 182], 'FIG': [225, 225]}}\n",
    "\n",
    "for service in schedule:\n",
    "    for station in schedule[service]:\n",
    "        schedule[service][station] = np.array(schedule[service][station], dtype=int)\n",
    "        \n",
    "revenue = get_revenue_behaviour(schedule)\n",
    "\n",
    "schedule, revenue"
   ],
   "metadata": {
    "collapsed": false,
    "ExecuteTime": {
     "end_time": "2024-03-26T18:13:14.266266Z",
     "start_time": "2024-03-26T18:13:14.250820Z"
    }
   },
   "id": "670b23e26656589b",
   "execution_count": 4
  },
  {
   "cell_type": "code",
   "outputs": [],
   "source": [
    "sm = RevenueMaximization(schedule, revenue, safe_headway=10)"
   ],
   "metadata": {
    "collapsed": false,
    "ExecuteTime": {
     "end_time": "2024-03-26T18:14:55.720352Z",
     "start_time": "2024-03-26T18:14:55.652293Z"
    }
   },
   "id": "94f1efee22a495be",
   "execution_count": 12
  },
  {
   "cell_type": "code",
   "outputs": [],
   "source": [
    "gsa_algo = GSA(objective_function=sm.get_fitness_gsa,\n",
    "               is_feasible=sm.feasible_services_times,\n",
    "               custom_repair=sm.custom_repair,\n",
    "               r_dim=len(sm.boundaries.real),\n",
    "               d_dim=0,\n",
    "               boundaries=sm.boundaries)"
   ],
   "metadata": {
    "collapsed": false,
    "ExecuteTime": {
     "end_time": "2024-03-26T18:14:56.007897Z",
     "start_time": "2024-03-26T18:14:55.993604Z"
    }
   },
   "id": "bac4a98fae2b0f1a",
   "execution_count": 13
  },
  {
   "cell_type": "code",
   "outputs": [
    {
     "name": "stdout",
     "output_type": "stream",
     "text": [
      "GSA is optimizing  \"get_fitness_gsa\"\n",
      "Scheduled trains: 2\n",
      "Scheduled trains: 3\n",
      "Scheduled trains: 3\n",
      "Scheduled trains: 3\n",
      "['At iteration 1 the best fitness is 596.9063408086059']\n",
      "['At iteration 2 the best fitness is 596.9063408086059']\n",
      "Scheduled trains: 3\n",
      "['At iteration 3 the best fitness is 623.9014421829517']\n",
      "['At iteration 4 the best fitness is 623.9014421829517']\n",
      "['At iteration 5 the best fitness is 623.9014421829517']\n",
      "['At iteration 6 the best fitness is 623.9014421829517']\n",
      "['At iteration 7 the best fitness is 623.9014421829517']\n",
      "['At iteration 8 the best fitness is 623.9014421829517']\n",
      "['At iteration 9 the best fitness is 623.9014421829517']\n",
      "['At iteration 10 the best fitness is 623.9014421829517']\n",
      "['At iteration 11 the best fitness is 623.9014421829517']\n",
      "['At iteration 12 the best fitness is 623.9014421829517']\n",
      "['At iteration 13 the best fitness is 623.9014421829517']\n",
      "['At iteration 14 the best fitness is 623.9014421829517']\n",
      "['At iteration 15 the best fitness is 623.9014421829517']\n",
      "['At iteration 16 the best fitness is 623.9014421829517']\n",
      "['At iteration 17 the best fitness is 623.9014421829517']\n",
      "['At iteration 18 the best fitness is 623.9014421829517']\n",
      "Scheduled trains: 3\n",
      "Scheduled trains: 3\n",
      "['At iteration 19 the best fitness is 637.2286610739886']\n",
      "['At iteration 20 the best fitness is 637.2286610739886']\n",
      "['At iteration 21 the best fitness is 637.2286610739886']\n",
      "['At iteration 22 the best fitness is 637.2286610739886']\n",
      "['At iteration 23 the best fitness is 637.2286610739886']\n",
      "['At iteration 24 the best fitness is 637.2286610739886']\n",
      "Scheduled trains: 3\n",
      "['At iteration 25 the best fitness is 638.1176058875319']\n",
      "Scheduled trains: 3\n",
      "['At iteration 26 the best fitness is 644.5905032076657']\n",
      "['At iteration 27 the best fitness is 644.5905032076657']\n",
      "Scheduled trains: 3\n",
      "Scheduled trains: 3\n",
      "['At iteration 28 the best fitness is 646.9170602726689']\n",
      "['At iteration 29 the best fitness is 646.9170602726689']\n",
      "Scheduled trains: 3\n",
      "['At iteration 30 the best fitness is 651.0130189936785']\n",
      "Scheduled trains: 3\n",
      "Scheduled trains: 3\n",
      "['At iteration 31 the best fitness is 652.054474581501']\n",
      "Scheduled trains: 3\n",
      "['At iteration 32 the best fitness is 657.0106474821508']\n",
      "['At iteration 33 the best fitness is 657.0106474821508']\n",
      "['At iteration 34 the best fitness is 657.0106474821508']\n",
      "Scheduled trains: 3\n",
      "['At iteration 35 the best fitness is 657.1358581359839']\n",
      "['At iteration 36 the best fitness is 657.1358581359839']\n",
      "['At iteration 37 the best fitness is 657.1358581359839']\n",
      "['At iteration 38 the best fitness is 657.1358581359839']\n",
      "Scheduled trains: 3\n",
      "['At iteration 39 the best fitness is 657.6881363714222']\n",
      "['At iteration 40 the best fitness is 657.6881363714222']\n",
      "['At iteration 41 the best fitness is 657.6881363714222']\n",
      "['At iteration 42 the best fitness is 657.6881363714222']\n",
      "['At iteration 43 the best fitness is 657.6881363714222']\n",
      "['At iteration 44 the best fitness is 657.6881363714222']\n",
      "['At iteration 45 the best fitness is 657.6881363714222']\n",
      "['At iteration 46 the best fitness is 657.6881363714222']\n",
      "['At iteration 47 the best fitness is 657.6881363714222']\n",
      "['At iteration 48 the best fitness is 657.6881363714222']\n",
      "['At iteration 49 the best fitness is 657.6881363714222']\n",
      "Scheduled trains: 3\n",
      "['At iteration 50 the best fitness is 658.1314309553065']\n",
      "['At iteration 51 the best fitness is 658.1314309553065']\n",
      "['At iteration 52 the best fitness is 658.1314309553065']\n",
      "['At iteration 53 the best fitness is 658.1314309553065']\n",
      "['At iteration 54 the best fitness is 658.1314309553065']\n",
      "Scheduled trains: 3\n",
      "['At iteration 55 the best fitness is 659.0558914303919']\n",
      "['At iteration 56 the best fitness is 659.0558914303919']\n",
      "['At iteration 57 the best fitness is 659.0558914303919']\n",
      "['At iteration 58 the best fitness is 659.0558914303919']\n",
      "['At iteration 59 the best fitness is 659.0558914303919']\n",
      "['At iteration 60 the best fitness is 659.0558914303919']\n",
      "['At iteration 61 the best fitness is 659.0558914303919']\n",
      "['At iteration 62 the best fitness is 659.0558914303919']\n",
      "['At iteration 63 the best fitness is 659.0558914303919']\n",
      "['At iteration 64 the best fitness is 659.0558914303919']\n",
      "['At iteration 65 the best fitness is 659.0558914303919']\n",
      "['At iteration 66 the best fitness is 659.0558914303919']\n",
      "['At iteration 67 the best fitness is 659.0558914303919']\n",
      "['At iteration 68 the best fitness is 659.0558914303919']\n",
      "['At iteration 69 the best fitness is 659.0558914303919']\n",
      "['At iteration 70 the best fitness is 659.0558914303919']\n",
      "['At iteration 71 the best fitness is 659.0558914303919']\n",
      "['At iteration 72 the best fitness is 659.0558914303919']\n",
      "['At iteration 73 the best fitness is 659.0558914303919']\n",
      "['At iteration 74 the best fitness is 659.0558914303919']\n",
      "['At iteration 75 the best fitness is 659.0558914303919']\n",
      "['At iteration 76 the best fitness is 659.0558914303919']\n",
      "['At iteration 77 the best fitness is 659.0558914303919']\n",
      "['At iteration 78 the best fitness is 659.0558914303919']\n",
      "['At iteration 79 the best fitness is 659.0558914303919']\n",
      "['At iteration 80 the best fitness is 659.0558914303919']\n",
      "['At iteration 81 the best fitness is 659.0558914303919']\n",
      "['At iteration 82 the best fitness is 659.0558914303919']\n",
      "['At iteration 83 the best fitness is 659.0558914303919']\n",
      "['At iteration 84 the best fitness is 659.0558914303919']\n",
      "['At iteration 85 the best fitness is 659.0558914303919']\n",
      "['At iteration 86 the best fitness is 659.0558914303919']\n",
      "['At iteration 87 the best fitness is 659.0558914303919']\n",
      "['At iteration 88 the best fitness is 659.0558914303919']\n",
      "['At iteration 89 the best fitness is 659.0558914303919']\n",
      "['At iteration 90 the best fitness is 659.0558914303919']\n",
      "['At iteration 91 the best fitness is 659.0558914303919']\n",
      "['At iteration 92 the best fitness is 659.0558914303919']\n",
      "['At iteration 93 the best fitness is 659.0558914303919']\n",
      "['At iteration 94 the best fitness is 659.0558914303919']\n",
      "['At iteration 95 the best fitness is 659.0558914303919']\n",
      "['At iteration 96 the best fitness is 659.0558914303919']\n",
      "['At iteration 97 the best fitness is 659.0558914303919']\n",
      "['At iteration 98 the best fitness is 659.0558914303919']\n",
      "['At iteration 99 the best fitness is 659.0558914303919']\n",
      "['At iteration 100 the best fitness is 659.0558914303919']\n",
      "Elapsed time: 0.61 seconds\n"
     ]
    }
   ],
   "source": [
    "import cProfile as profile\n",
    "import time\n",
    "\n",
    "pr = profile.Profile()\n",
    "pr.disable()\n",
    "\n",
    "gsa_algo.set_seed(seed=22)\n",
    "\n",
    "pop_size = 20\n",
    "\n",
    "start = time.time()\n",
    "pr.enable()\n",
    "training_history = gsa_algo.optimize(population_size=pop_size,\n",
    "                                     iters=100,\n",
    "                                     chaotic_constant=True,\n",
    "                                     repair_solution=True,\n",
    "                                     initial_population=sm.get_initial_population(pop_size))\n",
    "pr.disable()\n",
    "print(f\"Elapsed time: {round(time.time() - start, 2)} seconds\")\n",
    "\n",
    "pr.dump_stats('profile.pstat')"
   ],
   "metadata": {
    "collapsed": false,
    "ExecuteTime": {
     "end_time": "2024-03-26T18:14:56.928214Z",
     "start_time": "2024-03-26T18:14:56.296099Z"
    }
   },
   "id": "827d315d63189f83",
   "execution_count": 14
  },
  {
   "cell_type": "code",
   "outputs": [
    {
     "data": {
      "text/plain": "array([ -1., 152.,   9.,  31., 168.,  29., 182.])"
     },
     "execution_count": 17,
     "metadata": {},
     "output_type": "execute_result"
    }
   ],
   "source": [
    "# Get last value in column 'Real' of training_history\n",
    "best_solution_real = training_history.iloc[-1]['Real']\n",
    "best_solution_real"
   ],
   "metadata": {
    "collapsed": false,
    "ExecuteTime": {
     "end_time": "2024-03-26T18:15:08.558458Z",
     "start_time": "2024-03-26T18:15:08.540126Z"
    }
   },
   "id": "a5366a89cc34ffdd",
   "execution_count": 17
  },
  {
   "cell_type": "code",
   "outputs": [
    {
     "data": {
      "text/plain": "array([ -1, 152,   9,  31, 168,  30, 182])"
     },
     "execution_count": 18,
     "metadata": {},
     "output_type": "execute_result"
    }
   ],
   "source": [
    "sm.best_solution.real"
   ],
   "metadata": {
    "collapsed": false,
    "ExecuteTime": {
     "end_time": "2024-03-26T18:15:09.004756Z",
     "start_time": "2024-03-26T18:15:08.994291Z"
    }
   },
   "id": "200a4582d8b840ec",
   "execution_count": 18
  },
  {
   "cell_type": "code",
   "outputs": [
    {
     "data": {
      "text/plain": "(array([ -1., 152.,   9.,  31., 168.,  29., 182.]),\n array([ True,  True,  True]))"
     },
     "execution_count": 19,
     "metadata": {},
     "output_type": "execute_result"
    }
   ],
   "source": [
    "best_solution = Solution(real=np.array(best_solution_real), discrete=sm.get_heuristic_schedule(np.array(best_solution_real)))\n",
    "\n",
    "best_solution.real, best_solution.discrete"
   ],
   "metadata": {
    "collapsed": false,
    "ExecuteTime": {
     "end_time": "2024-03-26T18:16:22.772678Z",
     "start_time": "2024-03-26T18:16:22.753906Z"
    }
   },
   "id": "a788dec12bed21d9",
   "execution_count": 19
  },
  {
   "cell_type": "code",
   "outputs": [
    {
     "data": {
      "text/plain": "True"
     },
     "execution_count": 20,
     "metadata": {},
     "output_type": "execute_result"
    }
   ],
   "source": [
    "sm.is_feasible(best_solution, best_solution.discrete)"
   ],
   "metadata": {
    "collapsed": false,
    "ExecuteTime": {
     "end_time": "2024-03-26T18:16:25.223989Z",
     "start_time": "2024-03-26T18:16:25.208359Z"
    }
   },
   "id": "b1e09764c748cff1",
   "execution_count": 20
  },
  {
   "cell_type": "code",
   "outputs": [
    {
     "data": {
      "text/plain": "(658.0603186110692, 0)"
     },
     "execution_count": 21,
     "metadata": {},
     "output_type": "execute_result"
    }
   ],
   "source": [
    "sm.get_fitness_gsa(best_solution_real)"
   ],
   "metadata": {
    "collapsed": false,
    "ExecuteTime": {
     "end_time": "2024-03-26T18:16:26.719303Z",
     "start_time": "2024-03-26T18:16:26.702827Z"
    }
   },
   "id": "1c3af67cd3626503",
   "execution_count": 21
  },
  {
   "cell_type": "code",
   "outputs": [
    {
     "data": {
      "text/plain": "658.0603186110692"
     },
     "execution_count": 22,
     "metadata": {},
     "output_type": "execute_result"
    }
   ],
   "source": [
    "sm.get_revenue(best_solution)"
   ],
   "metadata": {
    "collapsed": false,
    "ExecuteTime": {
     "end_time": "2024-03-26T18:16:32.176339Z",
     "start_time": "2024-03-26T18:16:32.160214Z"
    }
   },
   "id": "6abef9d9440fc52b",
   "execution_count": 22
  },
  {
   "cell_type": "code",
   "outputs": [
    {
     "data": {
      "text/plain": "658.6125968465075"
     },
     "execution_count": 17,
     "metadata": {},
     "output_type": "execute_result"
    }
   ],
   "source": [
    "sm.get_revenue(sm.best_solution)"
   ],
   "metadata": {
    "collapsed": false,
    "ExecuteTime": {
     "end_time": "2024-03-26T14:08:43.838131Z",
     "start_time": "2024-03-26T14:08:43.823714Z"
    }
   },
   "id": "41a492d53aee1019",
   "execution_count": 17
  },
  {
   "cell_type": "code",
   "outputs": [
    {
     "data": {
      "text/plain": "True"
     },
     "execution_count": 23,
     "metadata": {},
     "output_type": "execute_result"
    }
   ],
   "source": [
    "sm.is_feasible(sm.best_solution, sm.best_solution.discrete)"
   ],
   "metadata": {
    "collapsed": false,
    "ExecuteTime": {
     "end_time": "2024-03-26T18:16:52.668328Z",
     "start_time": "2024-03-26T18:16:52.651736Z"
    }
   },
   "id": "311c2cb5b8ebc6ae",
   "execution_count": 23
  },
  {
   "cell_type": "code",
   "outputs": [
    {
     "data": {
      "text/plain": "659.0558914303919"
     },
     "execution_count": 24,
     "metadata": {},
     "output_type": "execute_result"
    }
   ],
   "source": [
    "sm.get_revenue(sm.best_solution)"
   ],
   "metadata": {
    "collapsed": false,
    "ExecuteTime": {
     "end_time": "2024-03-26T18:17:14.965708Z",
     "start_time": "2024-03-26T18:17:14.949380Z"
    }
   },
   "id": "24da152dae0e36e9",
   "execution_count": 24
  },
  {
   "cell_type": "code",
   "outputs": [
    {
     "data": {
      "text/plain": "<Figure size 1000x600 with 1 Axes>",
      "image/png": "[encoded data removed]"
     },
     "metadata": {},
     "output_type": "display_data"
    }
   ],
   "source": [
    "from matplotlib import pyplot as plt\n",
    "import seaborn as sns\n",
    "\n",
    "fig, ax = plt.subplots(figsize=(10, 6))\n",
    "\n",
    "ax.set_title(\"Fitness\", fontweight='bold')\n",
    "\n",
    "# ax.set_ylim(min(global_train_hist[\"Fitness\"]), max(global_train_hist[\"Fitness\"]))\n",
    "    \n",
    "sns.lineplot(ax=ax,\n",
    "             data=training_history,\n",
    "             x=\"Iteration\",\n",
    "             y=\"Fitness\",\n",
    "             legend=True)\n",
    "\n",
    "ax.grid(axis='y', color='#A9A9A9', alpha=0.3, zorder=1)\n",
    "\n",
    "ax.set_xlabel(\"Iter.\")\n",
    "ax.set_ylabel(\"Fitness\")\n",
    "\n",
    "plt.show()\n",
    "# fig.savefig(save_path, format='svg', dpi=300, bbox_inches='tight', transparent=True)"
   ],
   "metadata": {
    "collapsed": false,
    "ExecuteTime": {
     "end_time": "2024-03-26T14:08:53.630314Z",
     "start_time": "2024-03-26T14:08:53.440588Z"
    }
   },
   "id": "36aa34e314e58053",
   "execution_count": 21
  },
  {
   "cell_type": "code",
   "outputs": [
    {
     "name": "stdout",
     "output_type": "stream",
     "text": [
      "snakeviz web server started on 127.0.0.1:8080; enter Ctrl-C to exit\r\n",
      "http://127.0.0.1:8080/snakeviz/%2FUsers%2Fdavid%2FPycharmProjects%2FGSA_M%2Fnotebooks%2Fprofile.pstat\r\n",
      "^C\r\n",
      "\r\n",
      "Bye!\r\n"
     ]
    }
   ],
   "source": [
    "!snakeviz profile.pstat"
   ],
   "metadata": {
    "collapsed": false,
    "ExecuteTime": {
     "end_time": "2024-03-22T16:49:17.334231Z",
     "start_time": "2024-03-22T16:47:29.891390Z"
    }
   },
   "id": "eaf93c09b302023c",
   "execution_count": 19
  },
  {
   "cell_type": "code",
   "outputs": [
    {
     "data": {
      "text/plain": "662.75"
     },
     "execution_count": 8,
     "metadata": {},
     "output_type": "execute_result"
    }
   ],
   "source": [
    "sum([revenue[service]['canon'] for service in revenue])"
   ],
   "metadata": {
    "collapsed": false,
    "ExecuteTime": {
     "end_time": "2024-03-26T14:08:17.726889Z",
     "start_time": "2024-03-26T14:08:17.710366Z"
    }
   },
   "id": "aa6f4cb80af96241",
   "execution_count": 8
  },
  {
   "cell_type": "code",
   "outputs": [],
   "source": [],
   "metadata": {
    "collapsed": false
   },
   "id": "215937b03b2d6167"
  }
 ],
 "metadata": {
  "kernelspec": {
   "display_name": "Python 3 (ipykernel)",
   "language": "python",
   "name": "python3"
  },
  "language_info": {
   "codemirror_mode": {
    "name": "ipython",
    "version": 3
   },
   "file_extension": ".py",
   "mimetype": "text/x-python",
   "name": "python",
   "nbconvert_exporter": "python",
   "pygments_lexer": "ipython3",
   "version": "3.9.6"
  }
 },
 "nbformat": 4,
 "nbformat_minor": 5
}
