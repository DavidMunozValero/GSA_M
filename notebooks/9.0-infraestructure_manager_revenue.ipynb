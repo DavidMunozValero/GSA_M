{
 "cells": [
  {
   "cell_type": "markdown",
   "source": [
    "# Infraestructure Manager revenue maximization with GSA"
   ],
   "metadata": {
    "collapsed": false
   },
   "id": "332c3166a53e9a5a"
  },
  {
   "cell_type": "markdown",
   "source": [
    "## 0. Load libraries"
   ],
   "metadata": {
    "collapsed": false
   },
   "id": "7b4fe385be61b35a"
  },
  {
   "cell_type": "code",
   "outputs": [],
   "source": [
    "%load_ext autoreload\n",
    "%autoreload 2\n",
    "\n",
    "import numpy as np\n",
    "\n",
    "from benchmarks.railway import Solution, RevenueMaximization\n",
    "from src.entities import GSA\n",
    "\n",
    "from typing import List, Mapping, Union"
   ],
   "metadata": {
    "collapsed": false,
    "ExecuteTime": {
     "end_time": "2024-03-14T17:15:43.103838Z",
     "start_time": "2024-03-14T17:15:42.722312Z"
    }
   },
   "id": "c3cc59d5610d418",
   "execution_count": 1
  },
  {
   "cell_type": "markdown",
   "source": [
    "## 1. Define corridor\n",
    "\n",
    "As an example, we will use the Spanish south high-speed railway corridor.\n",
    "\n"
   ],
   "metadata": {
    "collapsed": false
   },
   "id": "3541711d59d51280"
  },
  {
   "cell_type": "code",
   "outputs": [],
   "source": [
    "# Define corridor\n",
    "\n",
    "corridor = {\"MAD\": {\n",
    "                \"CIU\": {\n",
    "                    \"COR\": {\n",
    "                        \"SEV\": {\n",
    "                            \"CAD\": {}\n",
    "                               },\n",
    "                        \"PGE\": {\n",
    "                            \"ANT\": {\n",
    "                                \"GRA\": {},\n",
    "                                \"MAL\": {}\n",
    "                                    }\n",
    "                                }\n",
    "                            }\n",
    "                        }\n",
    "                    }\n",
    "            }"
   ],
   "metadata": {
    "collapsed": false,
    "ExecuteTime": {
     "end_time": "2024-03-14T17:15:43.641704Z",
     "start_time": "2024-03-14T17:15:43.548535Z"
    }
   },
   "id": "909d19737ed8bbd6",
   "execution_count": 2
  },
  {
   "cell_type": "markdown",
   "source": [
    "### 1.1. Get lines from corridor"
   ],
   "metadata": {
    "collapsed": false
   },
   "id": "c5e0d8bfa3ae4f68"
  },
  {
   "cell_type": "code",
   "outputs": [
    {
     "data": {
      "text/plain": "[['MAD', 'CIU', 'COR', 'SEV', 'CAD'],\n ['MAD', 'CIU', 'COR', 'PGE', 'ANT', 'GRA'],\n ['MAD', 'CIU', 'COR', 'PGE', 'ANT', 'MAL']]"
     },
     "execution_count": 3,
     "metadata": {},
     "output_type": "execute_result"
    }
   ],
   "source": [
    "# Get lines from corridor\n",
    "\n",
    "def get_lines(corridor: Mapping[str, Mapping],\n",
    "              path: Union[List, None]=None\n",
    "              ) -> List[List[str]]:\n",
    "    \"\"\"\n",
    "    Get all the lines in the corridor\n",
    "    \n",
    "    Args:\n",
    "        corridor (dict): dictionary with the corridor structure\n",
    "        path (list, optional): list of nodes\n",
    "    \n",
    "    Returns:\n",
    "        list of lines\n",
    "    \"\"\"\n",
    "    if path is None:\n",
    "        path = []\n",
    "\n",
    "    lines = []\n",
    "    for node, child in corridor.items():\n",
    "        new_path = path + [node]\n",
    "        if not child:  # If the node has no children, it is a leaf\n",
    "            lines.append(new_path)\n",
    "        else:\n",
    "            lines.extend(get_lines(child, new_path))  # If the node has children, we call the function recursively\n",
    "\n",
    "    return lines\n",
    "\n",
    "get_lines(corridor)"
   ],
   "metadata": {
    "collapsed": false,
    "ExecuteTime": {
     "end_time": "2024-03-14T17:15:44.380450Z",
     "start_time": "2024-03-14T17:15:44.369459Z"
    }
   },
   "id": "7e72fdc681077602",
   "execution_count": 3
  },
  {
   "cell_type": "markdown",
   "source": [
    "### 1.2. Sample a random line, and a random route from the line"
   ],
   "metadata": {
    "collapsed": false
   },
   "id": "65c62f2f410c3b6"
  },
  {
   "cell_type": "code",
   "outputs": [
    {
     "name": "stdout",
     "output_type": "stream",
     "text": [
      "Sampled line: ['MAD', 'CIU', 'COR', 'PGE', 'ANT', 'GRA']\n",
      "Sampled route: ['MAD', 'CIU', 'COR', 'PGE', 'ANT', 'GRA']\n"
     ]
    }
   ],
   "source": [
    "def sample_line(lines: list) -> list:\n",
    "    \"\"\"\n",
    "    Sample a random line from the list of lines\n",
    "    \n",
    "    Args:\n",
    "        lines (list): list of lines\n",
    "    \n",
    "    Returns:\n",
    "        list: random line\n",
    "    \"\"\"\n",
    "    return lines[np.random.randint(len(lines))] \n",
    "\n",
    "def sample_route(line: list) -> list:\n",
    "    \"\"\"\n",
    "    Sample a random route from line\n",
    "    \n",
    "    Args:\n",
    "        line (list): list of stations\n",
    "        \n",
    "    Returns:\n",
    "        list: random route\n",
    "    \"\"\"\n",
    "    return line[np.random.randint(0, len(line)-1):]\n",
    "\n",
    "lines = get_lines(corridor)\n",
    "\n",
    "line = sample_line(lines)\n",
    "print(f\"Sampled line: {line}\")\n",
    "\n",
    "# Sample a random route from line (at least two stations)\n",
    "route = sample_route(line)\n",
    "print(f\"Sampled route: {route}\")"
   ],
   "metadata": {
    "collapsed": false,
    "ExecuteTime": {
     "end_time": "2024-03-14T17:15:45.195758Z",
     "start_time": "2024-03-14T17:15:45.186469Z"
    }
   },
   "id": "917d36d06e6f3374",
   "execution_count": 4
  },
  {
   "cell_type": "markdown",
   "source": [
    "### 1.3 Generate random timetable for a route\n",
    "\n",
    "- Times in minutes.\n",
    "- Initial time is randomized between 0 and 24*60 (24 hours).\n",
    "- The time between stations is also randomized between 30 and 120 minutes.\n",
    "- The time to dwell at each station is randomized between 2 and 8 minutes."
   ],
   "metadata": {
    "collapsed": false
   },
   "id": "680a7bfac3b9572b"
  },
  {
   "cell_type": "code",
   "outputs": [
    {
     "data": {
      "text/plain": "{'MAD': (1174, 1174),\n 'CIU': (1259, 1263),\n 'COR': (1311, 1315),\n 'PGE': (1366, 1373),\n 'ANT': (1417, 1419),\n 'GRA': (1501, 1501)}"
     },
     "execution_count": 5,
     "metadata": {},
     "output_type": "execute_result"
    }
   ],
   "source": [
    "def get_timetable(route: list) -> dict:\n",
    "    \"\"\"\n",
    "    Generate random timetable for route r\n",
    "    \n",
    "    Args:\n",
    "        route (list): list of stations\n",
    "    \n",
    "    Returns:\n",
    "        dict: timetable\n",
    "    \"\"\"\n",
    "    timetable = {}\n",
    "    AT = np.random.randint(0, 24*60)\n",
    "    DT = AT\n",
    "    for i, sta in enumerate(route):\n",
    "        if i == 0 or i == len(route)-1:\n",
    "            timetable[sta] = (AT, AT)\n",
    "        else:\n",
    "            timetable[sta] = (AT, DT)\n",
    "            \n",
    "        AT += np.random.randint(30, 120)\n",
    "        DT = AT + np.random.randint(2, 8)\n",
    "        \n",
    "    return timetable\n",
    "\n",
    "get_timetable(route)"
   ],
   "metadata": {
    "collapsed": false,
    "ExecuteTime": {
     "end_time": "2024-03-14T17:15:45.984558Z",
     "start_time": "2024-03-14T17:15:45.974528Z"
    }
   },
   "id": "a792ce7accd0a54f",
   "execution_count": 5
  },
  {
   "cell_type": "markdown",
   "source": [
    "## 2. Generate as many requested services as needed"
   ],
   "metadata": {
    "collapsed": false
   },
   "id": "8255def01cc433f4"
  },
  {
   "cell_type": "code",
   "outputs": [
    {
     "data": {
      "text/plain": "{1: {'COR': (413, 413),\n  'PGE': (476, 478),\n  'ANT': (579, 585),\n  'MAL': (612, 612)},\n 2: {'ANT': (347, 347), 'MAL': (423, 423)},\n 3: {'MAD': (1423, 1423),\n  'CIU': (1471, 1475),\n  'COR': (1562, 1564),\n  'PGE': (1646, 1650),\n  'ANT': (1685, 1687),\n  'MAL': (1774, 1774)}}"
     },
     "execution_count": 6,
     "metadata": {},
     "output_type": "execute_result"
    }
   ],
   "source": [
    "# Generate random requested timetable in corridor for a day t\n",
    "\n",
    "def get_schedule_request(n_services: int) -> dict:\n",
    "    \"\"\"\n",
    "    Generate random timetable\n",
    "    \n",
    "    Args:\n",
    "        n_services (int): number of services\n",
    "    \n",
    "    Returns:\n",
    "        dict: timetable\n",
    "    \"\"\"\n",
    "    return {i: get_timetable(sample_route(sample_line(lines))) for i in range(1, n_services+1)}\n",
    "\n",
    "# Generate random schedule\n",
    "schedule = get_schedule_request(3)\n",
    "schedule"
   ],
   "metadata": {
    "collapsed": false,
    "ExecuteTime": {
     "end_time": "2024-03-14T17:15:47.133062Z",
     "start_time": "2024-03-14T17:15:47.122084Z"
    }
   },
   "id": "265b606822049620",
   "execution_count": 6
  },
  {
   "cell_type": "markdown",
   "source": [
    "## 3. Define feasibility function"
   ],
   "metadata": {
    "collapsed": false
   },
   "id": "2b50158409346439"
  },
  {
   "cell_type": "code",
   "outputs": [
    {
     "data": {
      "text/plain": "{1: {'COR': (966, 966), 'SEV': (1020, 1027), 'CAD': (1074, 1074)},\n 2: {'MAD': (995, 995),\n  'CIU': (1075, 1080),\n  'COR': (1120, 1123),\n  'PGE': (1201, 1207),\n  'ANT': (1252, 1254),\n  'GRA': (1318, 1318)},\n 3: {'COR': (73, 73), 'PGE': (147, 150), 'ANT': (226, 228), 'MAL': (322, 322)},\n 4: {'PGE': (1166, 1166), 'ANT': (1198, 1202), 'MAL': (1280, 1280)},\n 5: {'PGE': (1018, 1018), 'ANT': (1068, 1074), 'MAL': (1182, 1182)},\n 6: {'CIU': (1343, 1343),\n  'COR': (1442, 1447),\n  'PGE': (1485, 1492),\n  'ANT': (1578, 1582),\n  'MAL': (1697, 1697)},\n 7: {'COR': (1423, 1423),\n  'PGE': (1504, 1508),\n  'ANT': (1622, 1629),\n  'GRA': (1735, 1735)},\n 8: {'COR': (290, 290), 'SEV': (350, 355), 'CAD': (411, 411)},\n 9: {'CIU': (689, 689),\n  'COR': (788, 795),\n  'SEV': (891, 897),\n  'CAD': (979, 979)},\n 10: {'PGE': (109, 109), 'ANT': (217, 221), 'MAL': (273, 273)},\n 11: {'PGE': (988, 988), 'ANT': (1027, 1029), 'GRA': (1072, 1072)},\n 12: {'PGE': (1168, 1168), 'ANT': (1265, 1272), 'MAL': (1350, 1350)},\n 13: {'MAD': (467, 467),\n  'CIU': (556, 559),\n  'COR': (611, 616),\n  'PGE': (643, 649),\n  'ANT': (747, 749),\n  'GRA': (805, 805)},\n 14: {'CIU': (1127, 1127),\n  'COR': (1213, 1216),\n  'SEV': (1332, 1338),\n  'CAD': (1369, 1369)},\n 15: {'CIU': (1205, 1205),\n  'COR': (1283, 1290),\n  'SEV': (1341, 1346),\n  'CAD': (1459, 1459)}}"
     },
     "execution_count": 31,
     "metadata": {},
     "output_type": "execute_result"
    }
   ],
   "source": [
    "schedule = get_schedule_request(3)\n",
    "schedule"
   ],
   "metadata": {
    "collapsed": false,
    "ExecuteTime": {
     "end_time": "2024-03-14T17:11:16.634955Z",
     "start_time": "2024-03-14T17:11:16.610276Z"
    }
   },
   "id": "eb559b5e764e39e6",
   "execution_count": 31
  },
  {
   "cell_type": "code",
   "outputs": [],
   "source": [
    "# Dummy schedule\n",
    "schedule = {1: {'MAD': (0, 0), 'BAR': (148, 152), 'FIG': (180, 180)},\n",
    "            2: {'MAD': (8, 8), 'ZAR': (28, 30), 'BAR': (165, 167), 'FIG': (210, 210)},\n",
    "            3: {'MAD': (30, 30), 'BAR': (180, 182), 'FIG': (225, 225)}}"
   ],
   "metadata": {
    "collapsed": false,
    "ExecuteTime": {
     "end_time": "2024-03-14T17:15:54.629554Z",
     "start_time": "2024-03-14T17:15:54.616808Z"
    }
   },
   "id": "670b23e26656589b",
   "execution_count": 7
  },
  {
   "cell_type": "code",
   "outputs": [
    {
     "data": {
      "text/plain": "{1: {'canon': 222.75,\n  'k': 7.424686268142557,\n  'dt_max_penalty': 31.185000000000002,\n  'tt_max_penalty': 28.957500000000003},\n 2: {'canon': 264.0,\n  'k': 1.4810078247291318,\n  'dt_max_penalty': 36.96,\n  'tt_max_penalty': 22.880000000000006},\n 3: {'canon': 181.5,\n  'k': 14.186717826602765,\n  'dt_max_penalty': 25.41,\n  'tt_max_penalty': 23.595000000000006}}"
     },
     "execution_count": 8,
     "metadata": {},
     "output_type": "execute_result"
    }
   ],
   "source": [
    "from scipy.stats import loguniform\n",
    "\n",
    "np.random.seed(seed=22)\n",
    "\n",
    "def get_revenue_behaviour(schedule: dict) -> dict:\n",
    "    \"\"\"\n",
    "    Get revenue behaviour\n",
    "    \n",
    "    Args:\n",
    "        schedule (dict): schedule\n",
    "    \n",
    "    Returns:\n",
    "        dict: revenue behaviour\n",
    "    \"\"\"\n",
    "    revenue = {}\n",
    "    bias = [0.2, 0.35, 0.1]\n",
    "    for service in schedule:\n",
    "        b = np.random.choice(bias)\n",
    "        base_price = 55 * len(schedule[service])\n",
    "        canon = base_price + b * base_price\n",
    "        k = loguniform.rvs(0.01, 100, 1)\n",
    "        max_penalty = canon * 0.4\n",
    "        dt_penalty = max_penalty * 0.35\n",
    "        tt_penalty = (max_penalty - dt_penalty) / (len(schedule[service]) - 1)\n",
    "        revenue[service] = {'canon': canon, 'k': k, 'dt_max_penalty': dt_penalty, 'tt_max_penalty': tt_penalty}\n",
    "    return revenue\n",
    "\n",
    "revenue = get_revenue_behaviour(schedule)\n",
    "revenue"
   ],
   "metadata": {
    "collapsed": false,
    "ExecuteTime": {
     "end_time": "2024-03-14T17:15:55.168570Z",
     "start_time": "2024-03-14T17:15:54.976887Z"
    }
   },
   "id": "431870c186978069",
   "execution_count": 8
  },
  {
   "cell_type": "code",
   "outputs": [],
   "source": [
    "sm = RevenueMaximization(schedule, revenue, safe_headway=10)"
   ],
   "metadata": {
    "collapsed": false,
    "ExecuteTime": {
     "end_time": "2024-03-14T17:15:55.813321Z",
     "start_time": "2024-03-14T17:15:55.804141Z"
    }
   },
   "id": "94f1efee22a495be",
   "execution_count": 9
  },
  {
   "cell_type": "code",
   "outputs": [],
   "source": [
    "gsa_algo = GSA(objective_function=sm.get_fitness_gsa,\n",
    "               is_feasible=sm.feasible_services_times,\n",
    "               r_dim=len(sm.real_boundaries),\n",
    "               d_dim=0,\n",
    "               boundaries=sm.boundaries)"
   ],
   "metadata": {
    "collapsed": false,
    "ExecuteTime": {
     "end_time": "2024-03-14T17:15:56.245977Z",
     "start_time": "2024-03-14T17:15:56.234360Z"
    }
   },
   "id": "bac4a98fae2b0f1a",
   "execution_count": 10
  },
  {
   "cell_type": "code",
   "outputs": [
    {
     "name": "stdout",
     "output_type": "stream",
     "text": [
      "Initial population: [<src.entities.Solution object at 0x15fde6fa0>, <src.entities.Solution object at 0x15fddc640>, <src.entities.Solution object at 0x15fddc850>, <src.entities.Solution object at 0x106377bb0>, <src.entities.Solution object at 0x15fe0aac0>]\n",
      "GSA is optimizing  \"get_fitness_gsa\"\n",
      "Repairing solution...\n",
      "WARNING: Patience is over. Returning the closest feasible solution.\n",
      "Repairing solution...\n",
      "WARNING: Patience is over. Returning the closest feasible solution.\n",
      "Repairing solution...\n",
      "WARNING: Patience is over. Returning the closest feasible solution.\n",
      "Repairing solution...\n",
      "WARNING: Patience is over. Returning the closest feasible solution.\n",
      "['At iteration 1 the best fitness is 517.0149775314684']\n",
      "Repairing solution...\n",
      "WARNING: Patience is over. Returning the closest feasible solution.\n",
      "Repairing solution...\n",
      "WARNING: Patience is over. Returning the closest feasible solution.\n",
      "Repairing solution...\n",
      "WARNING: Patience is over. Returning the closest feasible solution.\n",
      "Repairing solution...\n",
      "WARNING: Patience is over. Returning the closest feasible solution.\n",
      "['At iteration 2 the best fitness is 530.855182872092']\n",
      "Repairing solution...\n",
      "Repairing solution...\n",
      "WARNING: Patience is over. Returning the closest feasible solution.\n",
      "Repairing solution...\n",
      "WARNING: Patience is over. Returning the closest feasible solution.\n",
      "Repairing solution...\n",
      "['At iteration 3 the best fitness is 542.6469392432284']\n",
      "Repairing solution...\n",
      "Repairing solution...\n",
      "Repairing solution...\n",
      "WARNING: Patience is over. Returning the closest feasible solution.\n",
      "Repairing solution...\n",
      "Repairing solution...\n",
      "['At iteration 4 the best fitness is 565.6612579772318']\n",
      "Repairing solution...\n",
      "Repairing solution...\n",
      "WARNING: Patience is over. Returning the closest feasible solution.\n",
      "Repairing solution...\n",
      "WARNING: Patience is over. Returning the closest feasible solution.\n",
      "Repairing solution...\n",
      "Repairing solution...\n",
      "['At iteration 5 the best fitness is 565.6612579772318']\n",
      "Repairing solution...\n",
      "Repairing solution...\n",
      "WARNING: Patience is over. Returning the closest feasible solution.\n",
      "Repairing solution...\n",
      "WARNING: Patience is over. Returning the closest feasible solution.\n",
      "Repairing solution...\n",
      "Repairing solution...\n",
      "['At iteration 6 the best fitness is 565.6612579772318']\n",
      "Repairing solution...\n",
      "Repairing solution...\n",
      "Repairing solution...\n",
      "Repairing solution...\n",
      "Repairing solution...\n",
      "['At iteration 7 the best fitness is 565.6612579772318']\n",
      "Repairing solution...\n",
      "Repairing solution...\n",
      "Repairing solution...\n",
      "Repairing solution...\n",
      "['At iteration 8 the best fitness is 566.4975572707814']\n",
      "Repairing solution...\n",
      "Repairing solution...\n",
      "Repairing solution...\n",
      "Repairing solution...\n",
      "Repairing solution...\n",
      "['At iteration 9 the best fitness is 568.7212322945131']\n",
      "Repairing solution...\n",
      "Repairing solution...\n",
      "Repairing solution...\n",
      "Repairing solution...\n",
      "['At iteration 10 the best fitness is 568.7212322945131']\n",
      "Repairing solution...\n",
      "Repairing solution...\n",
      "Repairing solution...\n",
      "Repairing solution...\n",
      "Repairing solution...\n",
      "['At iteration 11 the best fitness is 568.7212322945131']\n",
      "Repairing solution...\n",
      "WARNING: Patience is over. Returning the closest feasible solution.\n",
      "Repairing solution...\n",
      "Repairing solution...\n",
      "Repairing solution...\n",
      "Repairing solution...\n",
      "['At iteration 12 the best fitness is 568.7212322945131']\n",
      "Repairing solution...\n",
      "Repairing solution...\n",
      "Repairing solution...\n",
      "Repairing solution...\n",
      "['At iteration 13 the best fitness is 568.7212322945131']\n",
      "Repairing solution...\n",
      "Repairing solution...\n",
      "Repairing solution...\n",
      "['At iteration 14 the best fitness is 568.7212322945131']\n",
      "Repairing solution...\n",
      "Repairing solution...\n",
      "Repairing solution...\n",
      "Repairing solution...\n",
      "Repairing solution...\n",
      "['At iteration 15 the best fitness is 569.7522701817797']\n",
      "Repairing solution...\n",
      "Repairing solution...\n",
      "Repairing solution...\n",
      "Repairing solution...\n",
      "Repairing solution...\n",
      "['At iteration 16 the best fitness is 569.9443541191766']\n",
      "Repairing solution...\n",
      "Repairing solution...\n",
      "Repairing solution...\n",
      "Repairing solution...\n",
      "Repairing solution...\n",
      "['At iteration 17 the best fitness is 569.9443541191766']\n",
      "Repairing solution...\n",
      "Repairing solution...\n",
      "Repairing solution...\n",
      "Repairing solution...\n",
      "Repairing solution...\n",
      "['At iteration 18 the best fitness is 569.9443541191766']\n",
      "Repairing solution...\n",
      "Repairing solution...\n",
      "WARNING: Patience is over. Returning the closest feasible solution.\n",
      "Repairing solution...\n",
      "WARNING: Patience is over. Returning the closest feasible solution.\n",
      "Repairing solution...\n",
      "Repairing solution...\n",
      "['At iteration 19 the best fitness is 569.9443541191766']\n",
      "Repairing solution...\n",
      "Repairing solution...\n",
      "Repairing solution...\n",
      "Repairing solution...\n",
      "Repairing solution...\n",
      "['At iteration 20 the best fitness is 569.9443541191766']\n",
      "Repairing solution...\n",
      "Repairing solution...\n",
      "Repairing solution...\n",
      "Repairing solution...\n",
      "Repairing solution...\n",
      "['At iteration 21 the best fitness is 569.9443541191766']\n",
      "Repairing solution...\n",
      "Repairing solution...\n",
      "Repairing solution...\n",
      "Repairing solution...\n",
      "WARNING: Patience is over. Returning the closest feasible solution.\n",
      "['At iteration 22 the best fitness is 569.9443541191766']\n",
      "Repairing solution...\n",
      "Repairing solution...\n",
      "WARNING: Patience is over. Returning the closest feasible solution.\n",
      "Repairing solution...\n",
      "Repairing solution...\n",
      "Repairing solution...\n",
      "['At iteration 23 the best fitness is 569.9443541191766']\n",
      "Repairing solution...\n",
      "Repairing solution...\n",
      "Repairing solution...\n",
      "Repairing solution...\n",
      "['At iteration 24 the best fitness is 571.3483656679939']\n",
      "Repairing solution...\n",
      "Repairing solution...\n",
      "Repairing solution...\n",
      "Repairing solution...\n",
      "WARNING: Patience is over. Returning the closest feasible solution.\n",
      "Repairing solution...\n",
      "['At iteration 25 the best fitness is 575.6622295514525']\n",
      "Repairing solution...\n",
      "Repairing solution...\n",
      "WARNING: Patience is over. Returning the closest feasible solution.\n",
      "Repairing solution...\n",
      "Repairing solution...\n",
      "Repairing solution...\n",
      "['At iteration 26 the best fitness is 582.045663889416']\n",
      "Repairing solution...\n",
      "WARNING: Patience is over. Returning the closest feasible solution.\n",
      "Repairing solution...\n",
      "WARNING: Patience is over. Returning the closest feasible solution.\n",
      "Repairing solution...\n",
      "WARNING: Patience is over. Returning the closest feasible solution.\n",
      "Repairing solution...\n",
      "WARNING: Patience is over. Returning the closest feasible solution.\n",
      "Repairing solution...\n",
      "['At iteration 27 the best fitness is 586.1108557656559']\n",
      "Repairing solution...\n",
      "WARNING: Patience is over. Returning the closest feasible solution.\n",
      "Repairing solution...\n",
      "WARNING: Patience is over. Returning the closest feasible solution.\n",
      "Repairing solution...\n",
      "WARNING: Patience is over. Returning the closest feasible solution.\n",
      "Repairing solution...\n",
      "WARNING: Patience is over. Returning the closest feasible solution.\n",
      "Repairing solution...\n",
      "WARNING: Patience is over. Returning the closest feasible solution.\n",
      "['At iteration 28 the best fitness is 586.1108557656559']\n",
      "Repairing solution...\n",
      "WARNING: Patience is over. Returning the closest feasible solution.\n",
      "Repairing solution...\n",
      "WARNING: Patience is over. Returning the closest feasible solution.\n",
      "Repairing solution...\n",
      "WARNING: Patience is over. Returning the closest feasible solution.\n",
      "Repairing solution...\n",
      "Repairing solution...\n",
      "WARNING: Patience is over. Returning the closest feasible solution.\n",
      "['At iteration 29 the best fitness is 586.1108557656559']\n",
      "Repairing solution...\n",
      "Repairing solution...\n",
      "WARNING: Patience is over. Returning the closest feasible solution.\n",
      "Repairing solution...\n",
      "WARNING: Patience is over. Returning the closest feasible solution.\n",
      "Repairing solution...\n",
      "Repairing solution...\n",
      "WARNING: Patience is over. Returning the closest feasible solution.\n",
      "['At iteration 30 the best fitness is 586.1108557656559']\n",
      "Repairing solution...\n",
      "Repairing solution...\n",
      "WARNING: Patience is over. Returning the closest feasible solution.\n",
      "Repairing solution...\n",
      "WARNING: Patience is over. Returning the closest feasible solution.\n",
      "Repairing solution...\n",
      "Repairing solution...\n",
      "WARNING: Patience is over. Returning the closest feasible solution.\n",
      "['At iteration 31 the best fitness is 588.9210262792767']\n",
      "Repairing solution...\n",
      "Repairing solution...\n",
      "WARNING: Patience is over. Returning the closest feasible solution.\n",
      "Repairing solution...\n",
      "WARNING: Patience is over. Returning the closest feasible solution.\n",
      "Repairing solution...\n",
      "Repairing solution...\n",
      "WARNING: Patience is over. Returning the closest feasible solution.\n",
      "['At iteration 32 the best fitness is 589.2524024196255']\n",
      "Repairing solution...\n",
      "Repairing solution...\n",
      "WARNING: Patience is over. Returning the closest feasible solution.\n",
      "Repairing solution...\n",
      "WARNING: Patience is over. Returning the closest feasible solution.\n",
      "Repairing solution...\n",
      "WARNING: Patience is over. Returning the closest feasible solution.\n",
      "['At iteration 33 the best fitness is 589.3573100438402']\n",
      "Repairing solution...\n",
      "Repairing solution...\n",
      "Repairing solution...\n",
      "WARNING: Patience is over. Returning the closest feasible solution.\n",
      "Repairing solution...\n",
      "Repairing solution...\n",
      "['At iteration 34 the best fitness is 589.433702246257']\n",
      "Repairing solution...\n",
      "Repairing solution...\n",
      "Repairing solution...\n",
      "Repairing solution...\n",
      "WARNING: Patience is over. Returning the closest feasible solution.\n",
      "Repairing solution...\n",
      "['At iteration 35 the best fitness is 590.8748386397473']\n",
      "Repairing solution...\n",
      "WARNING: Patience is over. Returning the closest feasible solution.\n",
      "Repairing solution...\n",
      "Repairing solution...\n",
      "['At iteration 36 the best fitness is 590.8748386397473']\n",
      "Repairing solution...\n",
      "WARNING: Patience is over. Returning the closest feasible solution.\n",
      "Repairing solution...\n",
      "WARNING: Patience is over. Returning the closest feasible solution.\n",
      "Repairing solution...\n",
      "WARNING: Patience is over. Returning the closest feasible solution.\n",
      "Repairing solution...\n",
      "['At iteration 37 the best fitness is 590.8748386397473']\n",
      "Repairing solution...\n",
      "WARNING: Patience is over. Returning the closest feasible solution.\n",
      "Repairing solution...\n",
      "WARNING: Patience is over. Returning the closest feasible solution.\n",
      "Repairing solution...\n",
      "WARNING: Patience is over. Returning the closest feasible solution.\n",
      "Repairing solution...\n",
      "['At iteration 38 the best fitness is 590.8748386397473']\n",
      "Repairing solution...\n",
      "Repairing solution...\n",
      "Repairing solution...\n",
      "Repairing solution...\n",
      "Repairing solution...\n",
      "['At iteration 39 the best fitness is 591.196480752915']\n",
      "Repairing solution...\n",
      "Repairing solution...\n",
      "Repairing solution...\n",
      "Repairing solution...\n",
      "Repairing solution...\n",
      "['At iteration 40 the best fitness is 591.196480752915']\n",
      "Repairing solution...\n",
      "Repairing solution...\n",
      "Repairing solution...\n",
      "Repairing solution...\n",
      "['At iteration 41 the best fitness is 591.196480752915']\n",
      "Repairing solution...\n",
      "Repairing solution...\n",
      "Repairing solution...\n",
      "['At iteration 42 the best fitness is 591.196480752915']\n",
      "Repairing solution...\n",
      "Repairing solution...\n",
      "Repairing solution...\n",
      "WARNING: Patience is over. Returning the closest feasible solution.\n",
      "['At iteration 43 the best fitness is 591.2156151602072']\n",
      "Repairing solution...\n",
      "Repairing solution...\n",
      "WARNING: Patience is over. Returning the closest feasible solution.\n",
      "Repairing solution...\n",
      "Repairing solution...\n",
      "Repairing solution...\n",
      "WARNING: Patience is over. Returning the closest feasible solution.\n",
      "['At iteration 44 the best fitness is 591.2441169833498']\n",
      "Repairing solution...\n",
      "Repairing solution...\n",
      "WARNING: Patience is over. Returning the closest feasible solution.\n",
      "Repairing solution...\n",
      "WARNING: Patience is over. Returning the closest feasible solution.\n",
      "Repairing solution...\n",
      "Repairing solution...\n",
      "WARNING: Patience is over. Returning the closest feasible solution.\n",
      "['At iteration 45 the best fitness is 591.2477273780512']\n",
      "Repairing solution...\n",
      "WARNING: Patience is over. Returning the closest feasible solution.\n",
      "Repairing solution...\n",
      "Repairing solution...\n",
      "WARNING: Patience is over. Returning the closest feasible solution.\n",
      "Repairing solution...\n",
      "WARNING: Patience is over. Returning the closest feasible solution.\n",
      "Repairing solution...\n",
      "WARNING: Patience is over. Returning the closest feasible solution.\n",
      "['At iteration 46 the best fitness is 591.2477273780512']\n",
      "Repairing solution...\n",
      "WARNING: Patience is over. Returning the closest feasible solution.\n",
      "Repairing solution...\n",
      "WARNING: Patience is over. Returning the closest feasible solution.\n",
      "Repairing solution...\n",
      "Repairing solution...\n",
      "WARNING: Patience is over. Returning the closest feasible solution.\n",
      "Repairing solution...\n",
      "WARNING: Patience is over. Returning the closest feasible solution.\n",
      "['At iteration 47 the best fitness is 591.2525720995529']\n",
      "Repairing solution...\n",
      "Repairing solution...\n",
      "WARNING: Patience is over. Returning the closest feasible solution.\n",
      "Repairing solution...\n",
      "WARNING: Patience is over. Returning the closest feasible solution.\n",
      "Repairing solution...\n",
      "WARNING: Patience is over. Returning the closest feasible solution.\n",
      "Repairing solution...\n",
      "WARNING: Patience is over. Returning the closest feasible solution.\n",
      "['At iteration 48 the best fitness is 591.2525720995529']\n",
      "Repairing solution...\n",
      "Repairing solution...\n",
      "WARNING: Patience is over. Returning the closest feasible solution.\n",
      "Repairing solution...\n",
      "Repairing solution...\n",
      "WARNING: Patience is over. Returning the closest feasible solution.\n",
      "Repairing solution...\n",
      "WARNING: Patience is over. Returning the closest feasible solution.\n",
      "['At iteration 49 the best fitness is 591.2526788658583']\n",
      "Repairing solution...\n",
      "WARNING: Patience is over. Returning the closest feasible solution.\n",
      "Repairing solution...\n",
      "WARNING: Patience is over. Returning the closest feasible solution.\n",
      "Repairing solution...\n",
      "WARNING: Patience is over. Returning the closest feasible solution.\n",
      "Repairing solution...\n",
      "WARNING: Patience is over. Returning the closest feasible solution.\n",
      "Repairing solution...\n",
      "WARNING: Patience is over. Returning the closest feasible solution.\n",
      "['At iteration 50 the best fitness is 591.2527108040338']\n",
      "Elapsed time: 2.4064159393310547\n"
     ]
    }
   ],
   "source": [
    "import time\n",
    "\n",
    "gsa_algo.set_seed(seed=28)\n",
    "\n",
    "pop_size = 5\n",
    "\n",
    "start = time.time()\n",
    "training_history = gsa_algo.optimize(population_size=pop_size,\n",
    "                                     iters=50,\n",
    "                                     chaotic_constant=True,\n",
    "                                     repair_solution=True,\n",
    "                                     initial_population=sm.get_initial_population(pop_size))\n",
    "\n",
    "print(f\"Elapsed time: {time.time() - start}\")"
   ],
   "metadata": {
    "collapsed": false,
    "ExecuteTime": {
     "end_time": "2024-03-14T17:15:59.370180Z",
     "start_time": "2024-03-14T17:15:56.952158Z"
    }
   },
   "id": "827d315d63189f83",
   "execution_count": 11
  },
  {
   "cell_type": "code",
   "outputs": [
    {
     "data": {
      "text/plain": "    Iteration     Fitness  Accuracy  ExecutionTime Discrete  \\\n0           0  517.014978         0       0.003048       []   \n1           1  530.855183         0       0.085591       []   \n2           2  542.646939         0       0.165635       []   \n3           3  565.661258         0       0.218120       []   \n4           4  565.661258         0       0.242157       []   \n5           5  565.661258         0       0.312635       []   \n6           6  565.661258         0       0.359963       []   \n7           7  566.497557         0       0.363831       []   \n8           8  568.721232         0       0.367587       []   \n9           9  568.721232         0       0.370925       []   \n10         10  568.721232         0       0.373775       []   \n11         11  568.721232         0       0.377499       []   \n12         12  568.721232         0       0.407769       []   \n13         13  568.721232         0       0.431715       []   \n14         14  569.752270         0       0.434186       []   \n15         15  569.944354         0       0.444001       []   \n16         16  569.944354         0       0.457104       []   \n17         17  569.944354         0       0.461096       []   \n18         18  569.944354         0       0.467344       []   \n19         19  569.944354         0       0.522234       []   \n20         20  569.944354         0       0.541828       []   \n21         21  569.944354         0       0.547574       []   \n22         22  569.944354         0       0.596972       []   \n23         23  571.348366         0       0.624208       []   \n24         24  575.662230         0       0.631063       []   \n25         25  582.045664         0       0.674821       []   \n26         26  586.110856         0       0.713089       []   \n27         27  586.110856         0       0.814261       []   \n28         28  586.110856         0       0.940392       []   \n29         29  586.110856         0       1.047582       []   \n30         30  588.921026         0       1.123223       []   \n31         31  589.252402         0       1.197486       []   \n32         32  589.357310         0       1.267606       []   \n33         33  589.433702         0       1.339689       []   \n34         34  590.874839         0       1.379981       []   \n35         35  590.874839         0       1.413400       []   \n36         36  590.874839         0       1.439690       []   \n37         37  590.874839         0       1.514880       []   \n38         38  591.196481         0       1.610974       []   \n39         39  591.196481         0       1.614665       []   \n40         40  591.196481         0       1.616876       []   \n41         41  591.196481         0       1.619479       []   \n42         42  591.215615         0       1.621906       []   \n43         43  591.244117         0       1.666866       []   \n44         44  591.247727         0       1.729309       []   \n45         45  591.247727         0       1.812686       []   \n46         46  591.252572         0       1.933760       []   \n47         47  591.252572         0       2.056270       []   \n48         48  591.252679         0       2.166871       []   \n49         49  591.252711         0       2.266971       []   \n\n                                                 Real  \n0   [-4.98, 157.83, 161.92, 189.92, 11.98, 35.76, ...  \n1   [-2.7546657683245406, 157.40093372659027, 161....  \n2   [-1.4908902847345742, 157.03956686173672, 161....  \n3   [-0.08372446694929914, 152.02590705979338, 157...  \n4   [5.670225709399254, 148.90734406439034, 159.04...  \n5   [5.670225709399254, 148.90734406439034, 159.04...  \n6   [5.670225709399254, 148.90734406439034, 159.04...  \n7   [-9.771727430351225, 145.23158773598314, 153.9...  \n8   [-7.794995179434571, 143.10007102447446, 154.2...  \n9   [-9.92970600467806, 143.22751590497882, 153.84...  \n10  [-9.92970600467806, 143.22751590497882, 153.84...  \n11  [-9.92970600467806, 143.22751590497882, 153.84...  \n12  [-9.92970600467806, 143.22751590497882, 153.84...  \n13  [-9.92970600467806, 143.22751590497882, 153.84...  \n14  [-9.056985424365779, 140.95362962673235, 153.2...  \n15  [-8.9701371854631, 142.04060276661053, 153.246...  \n16  [-8.823913805517407, 144.13362164643843, 153.3...  \n17  [-8.823913805517407, 144.13362164643843, 153.3...  \n18  [-8.823913805517407, 144.13362164643843, 153.3...  \n19  [-8.823913805517407, 144.13362164643843, 153.3...  \n20  [-8.823913805517407, 144.13362164643843, 153.3...  \n21  [-8.823913805517407, 144.13362164643843, 153.3...  \n22  [-8.823913805517407, 144.13362164643843, 153.3...  \n23  [-8.961428255969949, 142.95682803443975, 152.3...  \n24  [-8.940034737799113, 142.32824872429532, 152.3...  \n25  [-8.88862200511195, 141.04490900976057, 151.29...  \n26  [-9.02234150839642, 140.6879390247832, 151.218...  \n27  [-9.047646797139107, 140.61082583003213, 151.1...  \n28  [-9.047646797139107, 140.61082583003213, 151.1...  \n29  [-9.047646797139107, 140.61082583003213, 151.1...  \n30  [-9.036858187160343, 140.8703424548706, 151.21...  \n31  [-9.0356342270743, 141.10833600614865, 151.216...  \n32  [-9.035182949815933, 141.15679890816432, 151.2...  \n33  [-9.034534348242634, 141.1866281325309, 151.21...  \n34  [-9.034962015512225, 141.10993610213188, 151.2...  \n35  [-9.043982957535663, 140.91242479181528, 151.2...  \n36  [-9.043982957535663, 140.91242479181528, 151.2...  \n37  [-9.043982957535663, 140.91242479181528, 151.2...  \n38  [-9.03350153904783, 141.17993160474694, 151.20...  \n39  [-9.03422400832405, 141.21076156682577, 151.20...  \n40  [-9.03422400832405, 141.21076156682577, 151.20...  \n41  [-9.03422400832405, 141.21076156682577, 151.20...  \n42  [-9.024712351042139, 140.8875136932124, 150.87...  \n43  [-9.023244085009217, 140.89343620531116, 150.8...  \n44  [-9.023532259989004, 140.8953114132988, 150.85...  \n45  [-9.023712875199303, 140.89716878116317, 150.8...  \n46  [-9.023865664724458, 140.89689349095372, 150.7...  \n47  [-9.023963051126682, 140.8988345735588, 150.77...  \n48  [-9.023692285606792, 140.89948674954434, 150.7...  \n49  [-9.023643498325988, 140.89988353336167, 150.7...  ",
      "text/html": "<div>\n<style scoped>\n    .dataframe tbody tr th:only-of-type {\n        vertical-align: middle;\n    }\n\n    .dataframe tbody tr th {\n        vertical-align: top;\n    }\n\n    .dataframe thead th {\n        text-align: right;\n    }\n</style>\n<table border=\"1\" class=\"dataframe\">\n  <thead>\n    <tr style=\"text-align: right;\">\n      <th></th>\n      <th>Iteration</th>\n      <th>Fitness</th>\n      <th>Accuracy</th>\n      <th>ExecutionTime</th>\n      <th>Discrete</th>\n      <th>Real</th>\n    </tr>\n  </thead>\n  <tbody>\n    <tr>\n      <th>0</th>\n      <td>0</td>\n      <td>517.014978</td>\n      <td>0</td>\n      <td>0.003048</td>\n      <td>[]</td>\n      <td>[-4.98, 157.83, 161.92, 189.92, 11.98, 35.76, ...</td>\n    </tr>\n    <tr>\n      <th>1</th>\n      <td>1</td>\n      <td>530.855183</td>\n      <td>0</td>\n      <td>0.085591</td>\n      <td>[]</td>\n      <td>[-2.7546657683245406, 157.40093372659027, 161....</td>\n    </tr>\n    <tr>\n      <th>2</th>\n      <td>2</td>\n      <td>542.646939</td>\n      <td>0</td>\n      <td>0.165635</td>\n      <td>[]</td>\n      <td>[-1.4908902847345742, 157.03956686173672, 161....</td>\n    </tr>\n    <tr>\n      <th>3</th>\n      <td>3</td>\n      <td>565.661258</td>\n      <td>0</td>\n      <td>0.218120</td>\n      <td>[]</td>\n      <td>[-0.08372446694929914, 152.02590705979338, 157...</td>\n    </tr>\n    <tr>\n      <th>4</th>\n      <td>4</td>\n      <td>565.661258</td>\n      <td>0</td>\n      <td>0.242157</td>\n      <td>[]</td>\n      <td>[5.670225709399254, 148.90734406439034, 159.04...</td>\n    </tr>\n    <tr>\n      <th>5</th>\n      <td>5</td>\n      <td>565.661258</td>\n      <td>0</td>\n      <td>0.312635</td>\n      <td>[]</td>\n      <td>[5.670225709399254, 148.90734406439034, 159.04...</td>\n    </tr>\n    <tr>\n      <th>6</th>\n      <td>6</td>\n      <td>565.661258</td>\n      <td>0</td>\n      <td>0.359963</td>\n      <td>[]</td>\n      <td>[5.670225709399254, 148.90734406439034, 159.04...</td>\n    </tr>\n    <tr>\n      <th>7</th>\n      <td>7</td>\n      <td>566.497557</td>\n      <td>0</td>\n      <td>0.363831</td>\n      <td>[]</td>\n      <td>[-9.771727430351225, 145.23158773598314, 153.9...</td>\n    </tr>\n    <tr>\n      <th>8</th>\n      <td>8</td>\n      <td>568.721232</td>\n      <td>0</td>\n      <td>0.367587</td>\n      <td>[]</td>\n      <td>[-7.794995179434571, 143.10007102447446, 154.2...</td>\n    </tr>\n    <tr>\n      <th>9</th>\n      <td>9</td>\n      <td>568.721232</td>\n      <td>0</td>\n      <td>0.370925</td>\n      <td>[]</td>\n      <td>[-9.92970600467806, 143.22751590497882, 153.84...</td>\n    </tr>\n    <tr>\n      <th>10</th>\n      <td>10</td>\n      <td>568.721232</td>\n      <td>0</td>\n      <td>0.373775</td>\n      <td>[]</td>\n      <td>[-9.92970600467806, 143.22751590497882, 153.84...</td>\n    </tr>\n    <tr>\n      <th>11</th>\n      <td>11</td>\n      <td>568.721232</td>\n      <td>0</td>\n      <td>0.377499</td>\n      <td>[]</td>\n      <td>[-9.92970600467806, 143.22751590497882, 153.84...</td>\n    </tr>\n    <tr>\n      <th>12</th>\n      <td>12</td>\n      <td>568.721232</td>\n      <td>0</td>\n      <td>0.407769</td>\n      <td>[]</td>\n      <td>[-9.92970600467806, 143.22751590497882, 153.84...</td>\n    </tr>\n    <tr>\n      <th>13</th>\n      <td>13</td>\n      <td>568.721232</td>\n      <td>0</td>\n      <td>0.431715</td>\n      <td>[]</td>\n      <td>[-9.92970600467806, 143.22751590497882, 153.84...</td>\n    </tr>\n    <tr>\n      <th>14</th>\n      <td>14</td>\n      <td>569.752270</td>\n      <td>0</td>\n      <td>0.434186</td>\n      <td>[]</td>\n      <td>[-9.056985424365779, 140.95362962673235, 153.2...</td>\n    </tr>\n    <tr>\n      <th>15</th>\n      <td>15</td>\n      <td>569.944354</td>\n      <td>0</td>\n      <td>0.444001</td>\n      <td>[]</td>\n      <td>[-8.9701371854631, 142.04060276661053, 153.246...</td>\n    </tr>\n    <tr>\n      <th>16</th>\n      <td>16</td>\n      <td>569.944354</td>\n      <td>0</td>\n      <td>0.457104</td>\n      <td>[]</td>\n      <td>[-8.823913805517407, 144.13362164643843, 153.3...</td>\n    </tr>\n    <tr>\n      <th>17</th>\n      <td>17</td>\n      <td>569.944354</td>\n      <td>0</td>\n      <td>0.461096</td>\n      <td>[]</td>\n      <td>[-8.823913805517407, 144.13362164643843, 153.3...</td>\n    </tr>\n    <tr>\n      <th>18</th>\n      <td>18</td>\n      <td>569.944354</td>\n      <td>0</td>\n      <td>0.467344</td>\n      <td>[]</td>\n      <td>[-8.823913805517407, 144.13362164643843, 153.3...</td>\n    </tr>\n    <tr>\n      <th>19</th>\n      <td>19</td>\n      <td>569.944354</td>\n      <td>0</td>\n      <td>0.522234</td>\n      <td>[]</td>\n      <td>[-8.823913805517407, 144.13362164643843, 153.3...</td>\n    </tr>\n    <tr>\n      <th>20</th>\n      <td>20</td>\n      <td>569.944354</td>\n      <td>0</td>\n      <td>0.541828</td>\n      <td>[]</td>\n      <td>[-8.823913805517407, 144.13362164643843, 153.3...</td>\n    </tr>\n    <tr>\n      <th>21</th>\n      <td>21</td>\n      <td>569.944354</td>\n      <td>0</td>\n      <td>0.547574</td>\n      <td>[]</td>\n      <td>[-8.823913805517407, 144.13362164643843, 153.3...</td>\n    </tr>\n    <tr>\n      <th>22</th>\n      <td>22</td>\n      <td>569.944354</td>\n      <td>0</td>\n      <td>0.596972</td>\n      <td>[]</td>\n      <td>[-8.823913805517407, 144.13362164643843, 153.3...</td>\n    </tr>\n    <tr>\n      <th>23</th>\n      <td>23</td>\n      <td>571.348366</td>\n      <td>0</td>\n      <td>0.624208</td>\n      <td>[]</td>\n      <td>[-8.961428255969949, 142.95682803443975, 152.3...</td>\n    </tr>\n    <tr>\n      <th>24</th>\n      <td>24</td>\n      <td>575.662230</td>\n      <td>0</td>\n      <td>0.631063</td>\n      <td>[]</td>\n      <td>[-8.940034737799113, 142.32824872429532, 152.3...</td>\n    </tr>\n    <tr>\n      <th>25</th>\n      <td>25</td>\n      <td>582.045664</td>\n      <td>0</td>\n      <td>0.674821</td>\n      <td>[]</td>\n      <td>[-8.88862200511195, 141.04490900976057, 151.29...</td>\n    </tr>\n    <tr>\n      <th>26</th>\n      <td>26</td>\n      <td>586.110856</td>\n      <td>0</td>\n      <td>0.713089</td>\n      <td>[]</td>\n      <td>[-9.02234150839642, 140.6879390247832, 151.218...</td>\n    </tr>\n    <tr>\n      <th>27</th>\n      <td>27</td>\n      <td>586.110856</td>\n      <td>0</td>\n      <td>0.814261</td>\n      <td>[]</td>\n      <td>[-9.047646797139107, 140.61082583003213, 151.1...</td>\n    </tr>\n    <tr>\n      <th>28</th>\n      <td>28</td>\n      <td>586.110856</td>\n      <td>0</td>\n      <td>0.940392</td>\n      <td>[]</td>\n      <td>[-9.047646797139107, 140.61082583003213, 151.1...</td>\n    </tr>\n    <tr>\n      <th>29</th>\n      <td>29</td>\n      <td>586.110856</td>\n      <td>0</td>\n      <td>1.047582</td>\n      <td>[]</td>\n      <td>[-9.047646797139107, 140.61082583003213, 151.1...</td>\n    </tr>\n    <tr>\n      <th>30</th>\n      <td>30</td>\n      <td>588.921026</td>\n      <td>0</td>\n      <td>1.123223</td>\n      <td>[]</td>\n      <td>[-9.036858187160343, 140.8703424548706, 151.21...</td>\n    </tr>\n    <tr>\n      <th>31</th>\n      <td>31</td>\n      <td>589.252402</td>\n      <td>0</td>\n      <td>1.197486</td>\n      <td>[]</td>\n      <td>[-9.0356342270743, 141.10833600614865, 151.216...</td>\n    </tr>\n    <tr>\n      <th>32</th>\n      <td>32</td>\n      <td>589.357310</td>\n      <td>0</td>\n      <td>1.267606</td>\n      <td>[]</td>\n      <td>[-9.035182949815933, 141.15679890816432, 151.2...</td>\n    </tr>\n    <tr>\n      <th>33</th>\n      <td>33</td>\n      <td>589.433702</td>\n      <td>0</td>\n      <td>1.339689</td>\n      <td>[]</td>\n      <td>[-9.034534348242634, 141.1866281325309, 151.21...</td>\n    </tr>\n    <tr>\n      <th>34</th>\n      <td>34</td>\n      <td>590.874839</td>\n      <td>0</td>\n      <td>1.379981</td>\n      <td>[]</td>\n      <td>[-9.034962015512225, 141.10993610213188, 151.2...</td>\n    </tr>\n    <tr>\n      <th>35</th>\n      <td>35</td>\n      <td>590.874839</td>\n      <td>0</td>\n      <td>1.413400</td>\n      <td>[]</td>\n      <td>[-9.043982957535663, 140.91242479181528, 151.2...</td>\n    </tr>\n    <tr>\n      <th>36</th>\n      <td>36</td>\n      <td>590.874839</td>\n      <td>0</td>\n      <td>1.439690</td>\n      <td>[]</td>\n      <td>[-9.043982957535663, 140.91242479181528, 151.2...</td>\n    </tr>\n    <tr>\n      <th>37</th>\n      <td>37</td>\n      <td>590.874839</td>\n      <td>0</td>\n      <td>1.514880</td>\n      <td>[]</td>\n      <td>[-9.043982957535663, 140.91242479181528, 151.2...</td>\n    </tr>\n    <tr>\n      <th>38</th>\n      <td>38</td>\n      <td>591.196481</td>\n      <td>0</td>\n      <td>1.610974</td>\n      <td>[]</td>\n      <td>[-9.03350153904783, 141.17993160474694, 151.20...</td>\n    </tr>\n    <tr>\n      <th>39</th>\n      <td>39</td>\n      <td>591.196481</td>\n      <td>0</td>\n      <td>1.614665</td>\n      <td>[]</td>\n      <td>[-9.03422400832405, 141.21076156682577, 151.20...</td>\n    </tr>\n    <tr>\n      <th>40</th>\n      <td>40</td>\n      <td>591.196481</td>\n      <td>0</td>\n      <td>1.616876</td>\n      <td>[]</td>\n      <td>[-9.03422400832405, 141.21076156682577, 151.20...</td>\n    </tr>\n    <tr>\n      <th>41</th>\n      <td>41</td>\n      <td>591.196481</td>\n      <td>0</td>\n      <td>1.619479</td>\n      <td>[]</td>\n      <td>[-9.03422400832405, 141.21076156682577, 151.20...</td>\n    </tr>\n    <tr>\n      <th>42</th>\n      <td>42</td>\n      <td>591.215615</td>\n      <td>0</td>\n      <td>1.621906</td>\n      <td>[]</td>\n      <td>[-9.024712351042139, 140.8875136932124, 150.87...</td>\n    </tr>\n    <tr>\n      <th>43</th>\n      <td>43</td>\n      <td>591.244117</td>\n      <td>0</td>\n      <td>1.666866</td>\n      <td>[]</td>\n      <td>[-9.023244085009217, 140.89343620531116, 150.8...</td>\n    </tr>\n    <tr>\n      <th>44</th>\n      <td>44</td>\n      <td>591.247727</td>\n      <td>0</td>\n      <td>1.729309</td>\n      <td>[]</td>\n      <td>[-9.023532259989004, 140.8953114132988, 150.85...</td>\n    </tr>\n    <tr>\n      <th>45</th>\n      <td>45</td>\n      <td>591.247727</td>\n      <td>0</td>\n      <td>1.812686</td>\n      <td>[]</td>\n      <td>[-9.023712875199303, 140.89716878116317, 150.8...</td>\n    </tr>\n    <tr>\n      <th>46</th>\n      <td>46</td>\n      <td>591.252572</td>\n      <td>0</td>\n      <td>1.933760</td>\n      <td>[]</td>\n      <td>[-9.023865664724458, 140.89689349095372, 150.7...</td>\n    </tr>\n    <tr>\n      <th>47</th>\n      <td>47</td>\n      <td>591.252572</td>\n      <td>0</td>\n      <td>2.056270</td>\n      <td>[]</td>\n      <td>[-9.023963051126682, 140.8988345735588, 150.77...</td>\n    </tr>\n    <tr>\n      <th>48</th>\n      <td>48</td>\n      <td>591.252679</td>\n      <td>0</td>\n      <td>2.166871</td>\n      <td>[]</td>\n      <td>[-9.023692285606792, 140.89948674954434, 150.7...</td>\n    </tr>\n    <tr>\n      <th>49</th>\n      <td>49</td>\n      <td>591.252711</td>\n      <td>0</td>\n      <td>2.266971</td>\n      <td>[]</td>\n      <td>[-9.023643498325988, 140.89988353336167, 150.7...</td>\n    </tr>\n  </tbody>\n</table>\n</div>"
     },
     "execution_count": 12,
     "metadata": {},
     "output_type": "execute_result"
    }
   ],
   "source": [
    "training_history"
   ],
   "metadata": {
    "collapsed": false,
    "ExecuteTime": {
     "end_time": "2024-03-14T17:16:01.004423Z",
     "start_time": "2024-03-14T17:16:00.969069Z"
    }
   },
   "id": "17434a6d21479a27",
   "execution_count": 12
  },
  {
   "cell_type": "code",
   "outputs": [],
   "source": [
    "# Get last value in column 'Real' of training_history\n",
    "best_solution = training_history.iloc[-1]['Real']"
   ],
   "metadata": {
    "collapsed": false,
    "ExecuteTime": {
     "end_time": "2024-03-14T17:16:02.233122Z",
     "start_time": "2024-03-14T17:16:02.218567Z"
    }
   },
   "id": "a5366a89cc34ffdd",
   "execution_count": 13
  },
  {
   "cell_type": "code",
   "outputs": [
    {
     "data": {
      "text/plain": "[[0, 0, 0],\n [0, 0, 1],\n [0, 1, 0],\n [0, 1, 1],\n [1, 0, 0],\n [1, 0, 1],\n [1, 1, 0],\n [1, 1, 1]]"
     },
     "execution_count": 16,
     "metadata": {},
     "output_type": "execute_result"
    }
   ],
   "source": [
    "sm.update_feasible_schedules(Solution(real=np.array(best_solution, dtype=float), discrete=np.array([])))\n",
    "sm.feasible_schedules"
   ],
   "metadata": {
    "collapsed": false,
    "ExecuteTime": {
     "end_time": "2024-03-14T17:16:41.256736Z",
     "start_time": "2024-03-14T17:16:41.246775Z"
    }
   },
   "id": "92e7ba87d78a3918",
   "execution_count": 16
  },
  {
   "cell_type": "code",
   "outputs": [
    {
     "name": "stdout",
     "output_type": "stream",
     "text": [
      "[1 1 1]\n"
     ]
    },
    {
     "data": {
      "text/plain": "591.2527108040338"
     },
     "execution_count": 17,
     "metadata": {},
     "output_type": "execute_result"
    }
   ],
   "source": [
    "S_i = sm.get_best_schedule(Solution(real=best_solution, discrete=np.array([])))\n",
    "print(S_i)\n",
    "\n",
    "sm.get_revenue(Solution(real=best_solution, discrete=S_i))"
   ],
   "metadata": {
    "collapsed": false,
    "ExecuteTime": {
     "end_time": "2024-03-14T17:16:43.513377Z",
     "start_time": "2024-03-14T17:16:43.496908Z"
    }
   },
   "id": "e17ef56a32b2b12b",
   "execution_count": 17
  },
  {
   "cell_type": "code",
   "outputs": [
    {
     "data": {
      "text/plain": "array([1, 1, 1])"
     },
     "execution_count": 18,
     "metadata": {},
     "output_type": "execute_result"
    }
   ],
   "source": [
    "sm.get_best_schedule(Solution(real=best_solution, discrete=np.array([])))"
   ],
   "metadata": {
    "collapsed": false,
    "ExecuteTime": {
     "end_time": "2024-03-14T17:16:43.733552Z",
     "start_time": "2024-03-14T17:16:43.723282Z"
    }
   },
   "id": "f55e854c26a1212c",
   "execution_count": 18
  },
  {
   "cell_type": "code",
   "outputs": [
    {
     "data": {
      "text/plain": "668.25"
     },
     "execution_count": 19,
     "metadata": {},
     "output_type": "execute_result"
    }
   ],
   "source": [
    "sum([revenue[service]['canon'] for service in revenue])"
   ],
   "metadata": {
    "collapsed": false,
    "ExecuteTime": {
     "end_time": "2024-03-14T17:16:45.459791Z",
     "start_time": "2024-03-14T17:16:45.448817Z"
    }
   },
   "id": "aa6f4cb80af96241",
   "execution_count": 19
  },
  {
   "cell_type": "code",
   "outputs": [
    {
     "data": {
      "text/plain": "    Iteration     Fitness  Accuracy  ExecutionTime Discrete  \\\n0           0  517.014978         0       0.003048       []   \n1           1  530.855183         0       0.085591       []   \n2           2  542.646939         0       0.165635       []   \n3           3  565.661258         0       0.218120       []   \n4           4  565.661258         0       0.242157       []   \n5           5  565.661258         0       0.312635       []   \n6           6  565.661258         0       0.359963       []   \n7           7  566.497557         0       0.363831       []   \n8           8  568.721232         0       0.367587       []   \n9           9  568.721232         0       0.370925       []   \n10         10  568.721232         0       0.373775       []   \n11         11  568.721232         0       0.377499       []   \n12         12  568.721232         0       0.407769       []   \n13         13  568.721232         0       0.431715       []   \n14         14  569.752270         0       0.434186       []   \n15         15  569.944354         0       0.444001       []   \n16         16  569.944354         0       0.457104       []   \n17         17  569.944354         0       0.461096       []   \n18         18  569.944354         0       0.467344       []   \n19         19  569.944354         0       0.522234       []   \n20         20  569.944354         0       0.541828       []   \n21         21  569.944354         0       0.547574       []   \n22         22  569.944354         0       0.596972       []   \n23         23  571.348366         0       0.624208       []   \n24         24  575.662230         0       0.631063       []   \n25         25  582.045664         0       0.674821       []   \n26         26  586.110856         0       0.713089       []   \n27         27  586.110856         0       0.814261       []   \n28         28  586.110856         0       0.940392       []   \n29         29  586.110856         0       1.047582       []   \n30         30  588.921026         0       1.123223       []   \n31         31  589.252402         0       1.197486       []   \n32         32  589.357310         0       1.267606       []   \n33         33  589.433702         0       1.339689       []   \n34         34  590.874839         0       1.379981       []   \n35         35  590.874839         0       1.413400       []   \n36         36  590.874839         0       1.439690       []   \n37         37  590.874839         0       1.514880       []   \n38         38  591.196481         0       1.610974       []   \n39         39  591.196481         0       1.614665       []   \n40         40  591.196481         0       1.616876       []   \n41         41  591.196481         0       1.619479       []   \n42         42  591.215615         0       1.621906       []   \n43         43  591.244117         0       1.666866       []   \n44         44  591.247727         0       1.729309       []   \n45         45  591.247727         0       1.812686       []   \n46         46  591.252572         0       1.933760       []   \n47         47  591.252572         0       2.056270       []   \n48         48  591.252679         0       2.166871       []   \n49         49  591.252711         0       2.266971       []   \n\n                                                 Real  \n0   [-4.98, 157.83, 161.92, 189.92, 11.98, 35.76, ...  \n1   [-2.7546657683245406, 157.40093372659027, 161....  \n2   [-1.4908902847345742, 157.03956686173672, 161....  \n3   [-0.08372446694929914, 152.02590705979338, 157...  \n4   [5.670225709399254, 148.90734406439034, 159.04...  \n5   [5.670225709399254, 148.90734406439034, 159.04...  \n6   [5.670225709399254, 148.90734406439034, 159.04...  \n7   [-9.771727430351225, 145.23158773598314, 153.9...  \n8   [-7.794995179434571, 143.10007102447446, 154.2...  \n9   [-9.92970600467806, 143.22751590497882, 153.84...  \n10  [-9.92970600467806, 143.22751590497882, 153.84...  \n11  [-9.92970600467806, 143.22751590497882, 153.84...  \n12  [-9.92970600467806, 143.22751590497882, 153.84...  \n13  [-9.92970600467806, 143.22751590497882, 153.84...  \n14  [-9.056985424365779, 140.95362962673235, 153.2...  \n15  [-8.9701371854631, 142.04060276661053, 153.246...  \n16  [-8.823913805517407, 144.13362164643843, 153.3...  \n17  [-8.823913805517407, 144.13362164643843, 153.3...  \n18  [-8.823913805517407, 144.13362164643843, 153.3...  \n19  [-8.823913805517407, 144.13362164643843, 153.3...  \n20  [-8.823913805517407, 144.13362164643843, 153.3...  \n21  [-8.823913805517407, 144.13362164643843, 153.3...  \n22  [-8.823913805517407, 144.13362164643843, 153.3...  \n23  [-8.961428255969949, 142.95682803443975, 152.3...  \n24  [-8.940034737799113, 142.32824872429532, 152.3...  \n25  [-8.88862200511195, 141.04490900976057, 151.29...  \n26  [-9.02234150839642, 140.6879390247832, 151.218...  \n27  [-9.047646797139107, 140.61082583003213, 151.1...  \n28  [-9.047646797139107, 140.61082583003213, 151.1...  \n29  [-9.047646797139107, 140.61082583003213, 151.1...  \n30  [-9.036858187160343, 140.8703424548706, 151.21...  \n31  [-9.0356342270743, 141.10833600614865, 151.216...  \n32  [-9.035182949815933, 141.15679890816432, 151.2...  \n33  [-9.034534348242634, 141.1866281325309, 151.21...  \n34  [-9.034962015512225, 141.10993610213188, 151.2...  \n35  [-9.043982957535663, 140.91242479181528, 151.2...  \n36  [-9.043982957535663, 140.91242479181528, 151.2...  \n37  [-9.043982957535663, 140.91242479181528, 151.2...  \n38  [-9.03350153904783, 141.17993160474694, 151.20...  \n39  [-9.03422400832405, 141.21076156682577, 151.20...  \n40  [-9.03422400832405, 141.21076156682577, 151.20...  \n41  [-9.03422400832405, 141.21076156682577, 151.20...  \n42  [-9.024712351042139, 140.8875136932124, 150.87...  \n43  [-9.023244085009217, 140.89343620531116, 150.8...  \n44  [-9.023532259989004, 140.8953114132988, 150.85...  \n45  [-9.023712875199303, 140.89716878116317, 150.8...  \n46  [-9.023865664724458, 140.89689349095372, 150.7...  \n47  [-9.023963051126682, 140.8988345735588, 150.77...  \n48  [-9.023692285606792, 140.89948674954434, 150.7...  \n49  [-9.023643498325988, 140.89988353336167, 150.7...  ",
      "text/html": "<div>\n<style scoped>\n    .dataframe tbody tr th:only-of-type {\n        vertical-align: middle;\n    }\n\n    .dataframe tbody tr th {\n        vertical-align: top;\n    }\n\n    .dataframe thead th {\n        text-align: right;\n    }\n</style>\n<table border=\"1\" class=\"dataframe\">\n  <thead>\n    <tr style=\"text-align: right;\">\n      <th></th>\n      <th>Iteration</th>\n      <th>Fitness</th>\n      <th>Accuracy</th>\n      <th>ExecutionTime</th>\n      <th>Discrete</th>\n      <th>Real</th>\n    </tr>\n  </thead>\n  <tbody>\n    <tr>\n      <th>0</th>\n      <td>0</td>\n      <td>517.014978</td>\n      <td>0</td>\n      <td>0.003048</td>\n      <td>[]</td>\n      <td>[-4.98, 157.83, 161.92, 189.92, 11.98, 35.76, ...</td>\n    </tr>\n    <tr>\n      <th>1</th>\n      <td>1</td>\n      <td>530.855183</td>\n      <td>0</td>\n      <td>0.085591</td>\n      <td>[]</td>\n      <td>[-2.7546657683245406, 157.40093372659027, 161....</td>\n    </tr>\n    <tr>\n      <th>2</th>\n      <td>2</td>\n      <td>542.646939</td>\n      <td>0</td>\n      <td>0.165635</td>\n      <td>[]</td>\n      <td>[-1.4908902847345742, 157.03956686173672, 161....</td>\n    </tr>\n    <tr>\n      <th>3</th>\n      <td>3</td>\n      <td>565.661258</td>\n      <td>0</td>\n      <td>0.218120</td>\n      <td>[]</td>\n      <td>[-0.08372446694929914, 152.02590705979338, 157...</td>\n    </tr>\n    <tr>\n      <th>4</th>\n      <td>4</td>\n      <td>565.661258</td>\n      <td>0</td>\n      <td>0.242157</td>\n      <td>[]</td>\n      <td>[5.670225709399254, 148.90734406439034, 159.04...</td>\n    </tr>\n    <tr>\n      <th>5</th>\n      <td>5</td>\n      <td>565.661258</td>\n      <td>0</td>\n      <td>0.312635</td>\n      <td>[]</td>\n      <td>[5.670225709399254, 148.90734406439034, 159.04...</td>\n    </tr>\n    <tr>\n      <th>6</th>\n      <td>6</td>\n      <td>565.661258</td>\n      <td>0</td>\n      <td>0.359963</td>\n      <td>[]</td>\n      <td>[5.670225709399254, 148.90734406439034, 159.04...</td>\n    </tr>\n    <tr>\n      <th>7</th>\n      <td>7</td>\n      <td>566.497557</td>\n      <td>0</td>\n      <td>0.363831</td>\n      <td>[]</td>\n      <td>[-9.771727430351225, 145.23158773598314, 153.9...</td>\n    </tr>\n    <tr>\n      <th>8</th>\n      <td>8</td>\n      <td>568.721232</td>\n      <td>0</td>\n      <td>0.367587</td>\n      <td>[]</td>\n      <td>[-7.794995179434571, 143.10007102447446, 154.2...</td>\n    </tr>\n    <tr>\n      <th>9</th>\n      <td>9</td>\n      <td>568.721232</td>\n      <td>0</td>\n      <td>0.370925</td>\n      <td>[]</td>\n      <td>[-9.92970600467806, 143.22751590497882, 153.84...</td>\n    </tr>\n    <tr>\n      <th>10</th>\n      <td>10</td>\n      <td>568.721232</td>\n      <td>0</td>\n      <td>0.373775</td>\n      <td>[]</td>\n      <td>[-9.92970600467806, 143.22751590497882, 153.84...</td>\n    </tr>\n    <tr>\n      <th>11</th>\n      <td>11</td>\n      <td>568.721232</td>\n      <td>0</td>\n      <td>0.377499</td>\n      <td>[]</td>\n      <td>[-9.92970600467806, 143.22751590497882, 153.84...</td>\n    </tr>\n    <tr>\n      <th>12</th>\n      <td>12</td>\n      <td>568.721232</td>\n      <td>0</td>\n      <td>0.407769</td>\n      <td>[]</td>\n      <td>[-9.92970600467806, 143.22751590497882, 153.84...</td>\n    </tr>\n    <tr>\n      <th>13</th>\n      <td>13</td>\n      <td>568.721232</td>\n      <td>0</td>\n      <td>0.431715</td>\n      <td>[]</td>\n      <td>[-9.92970600467806, 143.22751590497882, 153.84...</td>\n    </tr>\n    <tr>\n      <th>14</th>\n      <td>14</td>\n      <td>569.752270</td>\n      <td>0</td>\n      <td>0.434186</td>\n      <td>[]</td>\n      <td>[-9.056985424365779, 140.95362962673235, 153.2...</td>\n    </tr>\n    <tr>\n      <th>15</th>\n      <td>15</td>\n      <td>569.944354</td>\n      <td>0</td>\n      <td>0.444001</td>\n      <td>[]</td>\n      <td>[-8.9701371854631, 142.04060276661053, 153.246...</td>\n    </tr>\n    <tr>\n      <th>16</th>\n      <td>16</td>\n      <td>569.944354</td>\n      <td>0</td>\n      <td>0.457104</td>\n      <td>[]</td>\n      <td>[-8.823913805517407, 144.13362164643843, 153.3...</td>\n    </tr>\n    <tr>\n      <th>17</th>\n      <td>17</td>\n      <td>569.944354</td>\n      <td>0</td>\n      <td>0.461096</td>\n      <td>[]</td>\n      <td>[-8.823913805517407, 144.13362164643843, 153.3...</td>\n    </tr>\n    <tr>\n      <th>18</th>\n      <td>18</td>\n      <td>569.944354</td>\n      <td>0</td>\n      <td>0.467344</td>\n      <td>[]</td>\n      <td>[-8.823913805517407, 144.13362164643843, 153.3...</td>\n    </tr>\n    <tr>\n      <th>19</th>\n      <td>19</td>\n      <td>569.944354</td>\n      <td>0</td>\n      <td>0.522234</td>\n      <td>[]</td>\n      <td>[-8.823913805517407, 144.13362164643843, 153.3...</td>\n    </tr>\n    <tr>\n      <th>20</th>\n      <td>20</td>\n      <td>569.944354</td>\n      <td>0</td>\n      <td>0.541828</td>\n      <td>[]</td>\n      <td>[-8.823913805517407, 144.13362164643843, 153.3...</td>\n    </tr>\n    <tr>\n      <th>21</th>\n      <td>21</td>\n      <td>569.944354</td>\n      <td>0</td>\n      <td>0.547574</td>\n      <td>[]</td>\n      <td>[-8.823913805517407, 144.13362164643843, 153.3...</td>\n    </tr>\n    <tr>\n      <th>22</th>\n      <td>22</td>\n      <td>569.944354</td>\n      <td>0</td>\n      <td>0.596972</td>\n      <td>[]</td>\n      <td>[-8.823913805517407, 144.13362164643843, 153.3...</td>\n    </tr>\n    <tr>\n      <th>23</th>\n      <td>23</td>\n      <td>571.348366</td>\n      <td>0</td>\n      <td>0.624208</td>\n      <td>[]</td>\n      <td>[-8.961428255969949, 142.95682803443975, 152.3...</td>\n    </tr>\n    <tr>\n      <th>24</th>\n      <td>24</td>\n      <td>575.662230</td>\n      <td>0</td>\n      <td>0.631063</td>\n      <td>[]</td>\n      <td>[-8.940034737799113, 142.32824872429532, 152.3...</td>\n    </tr>\n    <tr>\n      <th>25</th>\n      <td>25</td>\n      <td>582.045664</td>\n      <td>0</td>\n      <td>0.674821</td>\n      <td>[]</td>\n      <td>[-8.88862200511195, 141.04490900976057, 151.29...</td>\n    </tr>\n    <tr>\n      <th>26</th>\n      <td>26</td>\n      <td>586.110856</td>\n      <td>0</td>\n      <td>0.713089</td>\n      <td>[]</td>\n      <td>[-9.02234150839642, 140.6879390247832, 151.218...</td>\n    </tr>\n    <tr>\n      <th>27</th>\n      <td>27</td>\n      <td>586.110856</td>\n      <td>0</td>\n      <td>0.814261</td>\n      <td>[]</td>\n      <td>[-9.047646797139107, 140.61082583003213, 151.1...</td>\n    </tr>\n    <tr>\n      <th>28</th>\n      <td>28</td>\n      <td>586.110856</td>\n      <td>0</td>\n      <td>0.940392</td>\n      <td>[]</td>\n      <td>[-9.047646797139107, 140.61082583003213, 151.1...</td>\n    </tr>\n    <tr>\n      <th>29</th>\n      <td>29</td>\n      <td>586.110856</td>\n      <td>0</td>\n      <td>1.047582</td>\n      <td>[]</td>\n      <td>[-9.047646797139107, 140.61082583003213, 151.1...</td>\n    </tr>\n    <tr>\n      <th>30</th>\n      <td>30</td>\n      <td>588.921026</td>\n      <td>0</td>\n      <td>1.123223</td>\n      <td>[]</td>\n      <td>[-9.036858187160343, 140.8703424548706, 151.21...</td>\n    </tr>\n    <tr>\n      <th>31</th>\n      <td>31</td>\n      <td>589.252402</td>\n      <td>0</td>\n      <td>1.197486</td>\n      <td>[]</td>\n      <td>[-9.0356342270743, 141.10833600614865, 151.216...</td>\n    </tr>\n    <tr>\n      <th>32</th>\n      <td>32</td>\n      <td>589.357310</td>\n      <td>0</td>\n      <td>1.267606</td>\n      <td>[]</td>\n      <td>[-9.035182949815933, 141.15679890816432, 151.2...</td>\n    </tr>\n    <tr>\n      <th>33</th>\n      <td>33</td>\n      <td>589.433702</td>\n      <td>0</td>\n      <td>1.339689</td>\n      <td>[]</td>\n      <td>[-9.034534348242634, 141.1866281325309, 151.21...</td>\n    </tr>\n    <tr>\n      <th>34</th>\n      <td>34</td>\n      <td>590.874839</td>\n      <td>0</td>\n      <td>1.379981</td>\n      <td>[]</td>\n      <td>[-9.034962015512225, 141.10993610213188, 151.2...</td>\n    </tr>\n    <tr>\n      <th>35</th>\n      <td>35</td>\n      <td>590.874839</td>\n      <td>0</td>\n      <td>1.413400</td>\n      <td>[]</td>\n      <td>[-9.043982957535663, 140.91242479181528, 151.2...</td>\n    </tr>\n    <tr>\n      <th>36</th>\n      <td>36</td>\n      <td>590.874839</td>\n      <td>0</td>\n      <td>1.439690</td>\n      <td>[]</td>\n      <td>[-9.043982957535663, 140.91242479181528, 151.2...</td>\n    </tr>\n    <tr>\n      <th>37</th>\n      <td>37</td>\n      <td>590.874839</td>\n      <td>0</td>\n      <td>1.514880</td>\n      <td>[]</td>\n      <td>[-9.043982957535663, 140.91242479181528, 151.2...</td>\n    </tr>\n    <tr>\n      <th>38</th>\n      <td>38</td>\n      <td>591.196481</td>\n      <td>0</td>\n      <td>1.610974</td>\n      <td>[]</td>\n      <td>[-9.03350153904783, 141.17993160474694, 151.20...</td>\n    </tr>\n    <tr>\n      <th>39</th>\n      <td>39</td>\n      <td>591.196481</td>\n      <td>0</td>\n      <td>1.614665</td>\n      <td>[]</td>\n      <td>[-9.03422400832405, 141.21076156682577, 151.20...</td>\n    </tr>\n    <tr>\n      <th>40</th>\n      <td>40</td>\n      <td>591.196481</td>\n      <td>0</td>\n      <td>1.616876</td>\n      <td>[]</td>\n      <td>[-9.03422400832405, 141.21076156682577, 151.20...</td>\n    </tr>\n    <tr>\n      <th>41</th>\n      <td>41</td>\n      <td>591.196481</td>\n      <td>0</td>\n      <td>1.619479</td>\n      <td>[]</td>\n      <td>[-9.03422400832405, 141.21076156682577, 151.20...</td>\n    </tr>\n    <tr>\n      <th>42</th>\n      <td>42</td>\n      <td>591.215615</td>\n      <td>0</td>\n      <td>1.621906</td>\n      <td>[]</td>\n      <td>[-9.024712351042139, 140.8875136932124, 150.87...</td>\n    </tr>\n    <tr>\n      <th>43</th>\n      <td>43</td>\n      <td>591.244117</td>\n      <td>0</td>\n      <td>1.666866</td>\n      <td>[]</td>\n      <td>[-9.023244085009217, 140.89343620531116, 150.8...</td>\n    </tr>\n    <tr>\n      <th>44</th>\n      <td>44</td>\n      <td>591.247727</td>\n      <td>0</td>\n      <td>1.729309</td>\n      <td>[]</td>\n      <td>[-9.023532259989004, 140.8953114132988, 150.85...</td>\n    </tr>\n    <tr>\n      <th>45</th>\n      <td>45</td>\n      <td>591.247727</td>\n      <td>0</td>\n      <td>1.812686</td>\n      <td>[]</td>\n      <td>[-9.023712875199303, 140.89716878116317, 150.8...</td>\n    </tr>\n    <tr>\n      <th>46</th>\n      <td>46</td>\n      <td>591.252572</td>\n      <td>0</td>\n      <td>1.933760</td>\n      <td>[]</td>\n      <td>[-9.023865664724458, 140.89689349095372, 150.7...</td>\n    </tr>\n    <tr>\n      <th>47</th>\n      <td>47</td>\n      <td>591.252572</td>\n      <td>0</td>\n      <td>2.056270</td>\n      <td>[]</td>\n      <td>[-9.023963051126682, 140.8988345735588, 150.77...</td>\n    </tr>\n    <tr>\n      <th>48</th>\n      <td>48</td>\n      <td>591.252679</td>\n      <td>0</td>\n      <td>2.166871</td>\n      <td>[]</td>\n      <td>[-9.023692285606792, 140.89948674954434, 150.7...</td>\n    </tr>\n    <tr>\n      <th>49</th>\n      <td>49</td>\n      <td>591.252711</td>\n      <td>0</td>\n      <td>2.266971</td>\n      <td>[]</td>\n      <td>[-9.023643498325988, 140.89988353336167, 150.7...</td>\n    </tr>\n  </tbody>\n</table>\n</div>"
     },
     "execution_count": 20,
     "metadata": {},
     "output_type": "execute_result"
    }
   ],
   "source": [
    "training_history"
   ],
   "metadata": {
    "collapsed": false,
    "ExecuteTime": {
     "end_time": "2024-03-14T17:16:49.223623Z",
     "start_time": "2024-03-14T17:16:49.195263Z"
    }
   },
   "id": "d1ada6a23f65987c",
   "execution_count": 20
  },
  {
   "cell_type": "code",
   "outputs": [],
   "source": [],
   "metadata": {
    "collapsed": false
   },
   "id": "215937b03b2d6167"
  }
 ],
 "metadata": {
  "kernelspec": {
   "display_name": "Python 3 (ipykernel)",
   "language": "python",
   "name": "python3"
  },
  "language_info": {
   "codemirror_mode": {
    "name": "ipython",
    "version": 3
   },
   "file_extension": ".py",
   "mimetype": "text/x-python",
   "name": "python",
   "nbconvert_exporter": "python",
   "pygments_lexer": "ipython3",
   "version": "3.9.6"
  }
 },
 "nbformat": 4,
 "nbformat_minor": 5
}
