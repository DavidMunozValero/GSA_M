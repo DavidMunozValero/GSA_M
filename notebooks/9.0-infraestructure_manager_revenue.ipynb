{
 "cells": [
  {
   "cell_type": "markdown",
   "source": [
    "# Infraestructure Manager revenue maximization with GSA"
   ],
   "metadata": {
    "collapsed": false
   },
   "id": "332c3166a53e9a5a"
  },
  {
   "cell_type": "markdown",
   "source": [
    "## 0. Load libraries"
   ],
   "metadata": {
    "collapsed": false
   },
   "id": "7b4fe385be61b35a"
  },
  {
   "cell_type": "code",
   "outputs": [],
   "source": [
    "%load_ext autoreload\n",
    "%autoreload 2\n",
    "\n",
    "import numpy as np\n",
    "\n",
    "from benchmarks.railway import Solution, RevenueMaximization\n",
    "from src.entities import GSA\n",
    "\n",
    "from typing import List, Mapping, Union"
   ],
   "metadata": {
    "collapsed": false,
    "ExecuteTime": {
     "end_time": "2024-03-15T09:19:38.367565Z",
     "start_time": "2024-03-15T09:19:37.263115Z"
    }
   },
   "id": "c3cc59d5610d418",
   "execution_count": 1
  },
  {
   "cell_type": "markdown",
   "source": [
    "## 1. Define corridor\n",
    "\n",
    "As an example, we will use the Spanish south high-speed railway corridor.\n",
    "\n"
   ],
   "metadata": {
    "collapsed": false
   },
   "id": "3541711d59d51280"
  },
  {
   "cell_type": "code",
   "outputs": [],
   "source": [
    "# Define corridor\n",
    "\n",
    "corridor = {\"MAD\": {\n",
    "                \"CIU\": {\n",
    "                    \"COR\": {\n",
    "                        \"SEV\": {\n",
    "                            \"CAD\": {}\n",
    "                               },\n",
    "                        \"PGE\": {\n",
    "                            \"ANT\": {\n",
    "                                \"GRA\": {},\n",
    "                                \"MAL\": {}\n",
    "                                    }\n",
    "                                }\n",
    "                            }\n",
    "                        }\n",
    "                    }\n",
    "            }"
   ],
   "metadata": {
    "collapsed": false,
    "ExecuteTime": {
     "end_time": "2024-03-15T09:19:39.816081Z",
     "start_time": "2024-03-15T09:19:39.730979Z"
    }
   },
   "id": "909d19737ed8bbd6",
   "execution_count": 2
  },
  {
   "cell_type": "markdown",
   "source": [
    "### 1.1. Get lines from corridor"
   ],
   "metadata": {
    "collapsed": false
   },
   "id": "c5e0d8bfa3ae4f68"
  },
  {
   "cell_type": "code",
   "outputs": [
    {
     "data": {
      "text/plain": "[['MAD', 'CIU', 'COR', 'SEV', 'CAD'],\n ['MAD', 'CIU', 'COR', 'PGE', 'ANT', 'GRA'],\n ['MAD', 'CIU', 'COR', 'PGE', 'ANT', 'MAL']]"
     },
     "execution_count": 3,
     "metadata": {},
     "output_type": "execute_result"
    }
   ],
   "source": [
    "# Get lines from corridor\n",
    "\n",
    "def get_lines(corridor: Mapping[str, Mapping],\n",
    "              path: Union[List, None]=None\n",
    "              ) -> List[List[str]]:\n",
    "    \"\"\"\n",
    "    Get all the lines in the corridor\n",
    "    \n",
    "    Args:\n",
    "        corridor (dict): dictionary with the corridor structure\n",
    "        path (list, optional): list of nodes\n",
    "    \n",
    "    Returns:\n",
    "        list of lines\n",
    "    \"\"\"\n",
    "    if path is None:\n",
    "        path = []\n",
    "\n",
    "    lines = []\n",
    "    for node, child in corridor.items():\n",
    "        new_path = path + [node]\n",
    "        if not child:  # If the node has no children, it is a leaf\n",
    "            lines.append(new_path)\n",
    "        else:\n",
    "            lines.extend(get_lines(child, new_path))  # If the node has children, we call the function recursively\n",
    "\n",
    "    return lines\n",
    "\n",
    "get_lines(corridor)"
   ],
   "metadata": {
    "collapsed": false,
    "ExecuteTime": {
     "end_time": "2024-03-15T09:19:40.785697Z",
     "start_time": "2024-03-15T09:19:40.775148Z"
    }
   },
   "id": "7e72fdc681077602",
   "execution_count": 3
  },
  {
   "cell_type": "markdown",
   "source": [
    "### 1.2. Sample a random line, and a random route from the line"
   ],
   "metadata": {
    "collapsed": false
   },
   "id": "65c62f2f410c3b6"
  },
  {
   "cell_type": "code",
   "outputs": [
    {
     "name": "stdout",
     "output_type": "stream",
     "text": [
      "Sampled line: ['MAD', 'CIU', 'COR', 'PGE', 'ANT', 'MAL']\n",
      "Sampled route: ['ANT', 'MAL']\n"
     ]
    }
   ],
   "source": [
    "def sample_line(lines: list) -> list:\n",
    "    \"\"\"\n",
    "    Sample a random line from the list of lines\n",
    "    \n",
    "    Args:\n",
    "        lines (list): list of lines\n",
    "    \n",
    "    Returns:\n",
    "        list: random line\n",
    "    \"\"\"\n",
    "    return lines[np.random.randint(len(lines))] \n",
    "\n",
    "def sample_route(line: list) -> list:\n",
    "    \"\"\"\n",
    "    Sample a random route from line\n",
    "    \n",
    "    Args:\n",
    "        line (list): list of stations\n",
    "        \n",
    "    Returns:\n",
    "        list: random route\n",
    "    \"\"\"\n",
    "    return line[np.random.randint(0, len(line)-1):]\n",
    "\n",
    "lines = get_lines(corridor)\n",
    "\n",
    "line = sample_line(lines)\n",
    "print(f\"Sampled line: {line}\")\n",
    "\n",
    "# Sample a random route from line (at least two stations)\n",
    "route = sample_route(line)\n",
    "print(f\"Sampled route: {route}\")"
   ],
   "metadata": {
    "collapsed": false,
    "ExecuteTime": {
     "end_time": "2024-03-15T09:19:42.349754Z",
     "start_time": "2024-03-15T09:19:42.338820Z"
    }
   },
   "id": "917d36d06e6f3374",
   "execution_count": 4
  },
  {
   "cell_type": "markdown",
   "source": [
    "### 1.3 Generate random timetable for a route\n",
    "\n",
    "- Times in minutes.\n",
    "- Initial time is randomized between 0 and 24*60 (24 hours).\n",
    "- The time between stations is also randomized between 30 and 120 minutes.\n",
    "- The time to dwell at each station is randomized between 2 and 8 minutes."
   ],
   "metadata": {
    "collapsed": false
   },
   "id": "680a7bfac3b9572b"
  },
  {
   "cell_type": "code",
   "outputs": [
    {
     "data": {
      "text/plain": "{'ANT': (330, 330), 'MAL': (400, 400)}"
     },
     "execution_count": 5,
     "metadata": {},
     "output_type": "execute_result"
    }
   ],
   "source": [
    "def get_timetable(route: list) -> dict:\n",
    "    \"\"\"\n",
    "    Generate random timetable for route r\n",
    "    \n",
    "    Args:\n",
    "        route (list): list of stations\n",
    "    \n",
    "    Returns:\n",
    "        dict: timetable\n",
    "    \"\"\"\n",
    "    timetable = {}\n",
    "    AT = np.random.randint(0, 24*60)\n",
    "    DT = AT\n",
    "    for i, sta in enumerate(route):\n",
    "        if i == 0 or i == len(route)-1:\n",
    "            timetable[sta] = (AT, AT)\n",
    "        else:\n",
    "            timetable[sta] = (AT, DT)\n",
    "            \n",
    "        AT += np.random.randint(30, 120)\n",
    "        DT = AT + np.random.randint(2, 8)\n",
    "        \n",
    "    return timetable\n",
    "\n",
    "get_timetable(route)"
   ],
   "metadata": {
    "collapsed": false,
    "ExecuteTime": {
     "end_time": "2024-03-15T09:19:43.684412Z",
     "start_time": "2024-03-15T09:19:43.674991Z"
    }
   },
   "id": "a792ce7accd0a54f",
   "execution_count": 5
  },
  {
   "cell_type": "markdown",
   "source": [
    "## 2. Generate as many requested services as needed"
   ],
   "metadata": {
    "collapsed": false
   },
   "id": "8255def01cc433f4"
  },
  {
   "cell_type": "code",
   "outputs": [
    {
     "data": {
      "text/plain": "{1: {'ANT': (221, 221), 'GRA': (286, 286)},\n 2: {'SEV': (1348, 1348), 'CAD': (1382, 1382)},\n 3: {'CIU': (1291, 1291),\n  'COR': (1374, 1379),\n  'SEV': (1448, 1453),\n  'CAD': (1542, 1542)}}"
     },
     "execution_count": 6,
     "metadata": {},
     "output_type": "execute_result"
    }
   ],
   "source": [
    "# Generate random requested timetable in corridor for a day t\n",
    "\n",
    "def get_schedule_request(n_services: int) -> dict:\n",
    "    \"\"\"\n",
    "    Generate random timetable\n",
    "    \n",
    "    Args:\n",
    "        n_services (int): number of services\n",
    "    \n",
    "    Returns:\n",
    "        dict: timetable\n",
    "    \"\"\"\n",
    "    return {i: get_timetable(sample_route(sample_line(lines))) for i in range(1, n_services+1)}\n",
    "\n",
    "# Generate random schedule\n",
    "schedule = get_schedule_request(3)\n",
    "schedule"
   ],
   "metadata": {
    "collapsed": false,
    "ExecuteTime": {
     "end_time": "2024-03-15T09:19:44.708147Z",
     "start_time": "2024-03-15T09:19:44.699010Z"
    }
   },
   "id": "265b606822049620",
   "execution_count": 6
  },
  {
   "cell_type": "markdown",
   "source": [
    "## 3. Define feasibility function"
   ],
   "metadata": {
    "collapsed": false
   },
   "id": "2b50158409346439"
  },
  {
   "cell_type": "code",
   "outputs": [
    {
     "data": {
      "text/plain": "{1: {'MAD': (1222, 1222),\n  'CIU': (1277, 1279),\n  'COR': (1352, 1354),\n  'PGE': (1456, 1463),\n  'ANT': (1528, 1535),\n  'GRA': (1570, 1570)},\n 2: {'CIU': (920, 920),\n  'COR': (1019, 1024),\n  'PGE': (1136, 1139),\n  'ANT': (1194, 1198),\n  'MAL': (1250, 1250)},\n 3: {'COR': (1056, 1056), 'SEV': (1128, 1132), 'CAD': (1198, 1198)},\n 4: {'COR': (1364, 1364), 'SEV': (1407, 1412), 'CAD': (1488, 1488)},\n 5: {'MAD': (50, 50),\n  'CIU': (137, 143),\n  'COR': (201, 203),\n  'PGE': (320, 323),\n  'ANT': (389, 394),\n  'MAL': (494, 494)},\n 6: {'ANT': (703, 703), 'GRA': (756, 756)},\n 7: {'PGE': (844, 844), 'ANT': (946, 949), 'GRA': (998, 998)},\n 8: {'PGE': (347, 347), 'ANT': (431, 435), 'GRA': (489, 489)},\n 9: {'PGE': (39, 39), 'ANT': (134, 137), 'MAL': (247, 247)},\n 10: {'COR': (564, 564), 'SEV': (597, 599), 'CAD': (665, 665)},\n 11: {'CIU': (1193, 1193),\n  'COR': (1275, 1281),\n  'SEV': (1365, 1372),\n  'CAD': (1467, 1467)},\n 12: {'MAD': (715, 715),\n  'CIU': (811, 813),\n  'COR': (850, 856),\n  'PGE': (884, 889),\n  'ANT': (941, 946),\n  'MAL': (1027, 1027)}}"
     },
     "execution_count": 336,
     "metadata": {},
     "output_type": "execute_result"
    }
   ],
   "source": [
    "schedule = get_schedule_request(12)\n",
    "schedule"
   ],
   "metadata": {
    "collapsed": false,
    "ExecuteTime": {
     "end_time": "2024-03-15T12:33:31.831478Z",
     "start_time": "2024-03-15T12:33:31.815326Z"
    }
   },
   "id": "eb559b5e764e39e6",
   "execution_count": 336
  },
  {
   "cell_type": "code",
   "outputs": [],
   "source": [
    "# Dummy schedule\n",
    "schedule = {1: {'MAD': (0, 0), 'BAR': (148, 152), 'FIG': (180, 180)},\n",
    "            2: {'MAD': (8, 8), 'ZAR': (28, 30), 'BAR': (165, 167), 'FIG': (210, 210)},\n",
    "            3: {'MAD': (30, 30), 'BAR': (180, 182), 'FIG': (225, 225)}}"
   ],
   "metadata": {
    "collapsed": false,
    "ExecuteTime": {
     "end_time": "2024-03-15T12:22:14.055252Z",
     "start_time": "2024-03-15T12:22:14.038127Z"
    }
   },
   "id": "670b23e26656589b",
   "execution_count": 277
  },
  {
   "cell_type": "code",
   "outputs": [
    {
     "data": {
      "text/plain": "{1: {'canon': 445.5,\n  'k': 7.424686268142557,\n  'dt_max_penalty': 62.370000000000005,\n  'tt_max_penalty': 23.166000000000004},\n 2: {'canon': 330.0,\n  'k': 1.4810078247291318,\n  'dt_max_penalty': 46.199999999999996,\n  'tt_max_penalty': 21.450000000000003},\n 3: {'canon': 181.5,\n  'k': 14.186717826602765,\n  'dt_max_penalty': 25.41,\n  'tt_max_penalty': 23.595000000000006},\n 4: {'canon': 198.0,\n  'k': 1.2267022562285983,\n  'dt_max_penalty': 27.72,\n  'tt_max_penalty': 25.740000000000002},\n 5: {'canon': 445.5,\n  'k': 1.0868061734082222,\n  'dt_max_penalty': 62.370000000000005,\n  'tt_max_penalty': 23.166000000000004},\n 6: {'canon': 132.0,\n  'k': 1.0761409106241633,\n  'dt_max_penalty': 18.48,\n  'tt_max_penalty': 34.32000000000001},\n 7: {'canon': 181.5,\n  'k': 17.174998340882127,\n  'dt_max_penalty': 25.41,\n  'tt_max_penalty': 23.595000000000006},\n 8: {'canon': 181.5,\n  'k': 2.7571740730038656,\n  'dt_max_penalty': 25.41,\n  'tt_max_penalty': 23.595000000000006},\n 9: {'canon': 198.0,\n  'k': 1.022692350242361,\n  'dt_max_penalty': 27.72,\n  'tt_max_penalty': 25.740000000000002},\n 10: {'canon': 198.0,\n  'k': 1.0105818954264254,\n  'dt_max_penalty': 27.72,\n  'tt_max_penalty': 25.740000000000002},\n 11: {'canon': 242.0,\n  'k': 1.2325085639465319,\n  'dt_max_penalty': 33.88,\n  'tt_max_penalty': 20.973333333333336},\n 12: {'canon': 445.5,\n  'k': 7.423201352834904,\n  'dt_max_penalty': 62.370000000000005,\n  'tt_max_penalty': 23.166000000000004}}"
     },
     "execution_count": 337,
     "metadata": {},
     "output_type": "execute_result"
    }
   ],
   "source": [
    "from scipy.stats import loguniform\n",
    "\n",
    "np.random.seed(seed=22)\n",
    "\n",
    "def get_revenue_behaviour(schedule: dict) -> dict:\n",
    "    \"\"\"\n",
    "    Get revenue behaviour\n",
    "    \n",
    "    Args:\n",
    "        schedule (dict): schedule\n",
    "    \n",
    "    Returns:\n",
    "        dict: revenue behaviour\n",
    "    \"\"\"\n",
    "    revenue = {}\n",
    "    bias = [0.2, 0.35, 0.1]\n",
    "    for service in schedule:\n",
    "        b = np.random.choice(bias)\n",
    "        base_price = 55 * len(schedule[service])\n",
    "        canon = base_price + b * base_price\n",
    "        k = loguniform.rvs(0.01, 100, 1)\n",
    "        max_penalty = canon * 0.4\n",
    "        dt_penalty = max_penalty * 0.35\n",
    "        tt_penalty = (max_penalty - dt_penalty) / (len(schedule[service]) - 1)\n",
    "        revenue[service] = {'canon': canon, 'k': k, 'dt_max_penalty': dt_penalty, 'tt_max_penalty': tt_penalty}\n",
    "    return revenue\n",
    "\n",
    "revenue = get_revenue_behaviour(schedule)\n",
    "revenue"
   ],
   "metadata": {
    "collapsed": false,
    "ExecuteTime": {
     "end_time": "2024-03-15T12:33:34.631651Z",
     "start_time": "2024-03-15T12:33:34.606801Z"
    }
   },
   "id": "431870c186978069",
   "execution_count": 337
  },
  {
   "cell_type": "code",
   "outputs": [],
   "source": [
    "sm = RevenueMaximization(schedule, revenue, safe_headway=10)"
   ],
   "metadata": {
    "collapsed": false,
    "ExecuteTime": {
     "end_time": "2024-03-15T12:33:36.411095Z",
     "start_time": "2024-03-15T12:33:36.392213Z"
    }
   },
   "id": "94f1efee22a495be",
   "execution_count": 338
  },
  {
   "cell_type": "code",
   "outputs": [],
   "source": [
    "# Dummy schedule\n",
    "schedule = {1: {'MAD': (0, 0), 'BAR': (148, 152), 'FIG': (180, 180)},\n",
    "            2: {'MAD': (8, 8), 'ZAR': (28, 30), 'BAR': (165, 167), 'FIG': (210, 210)},\n",
    "            3: {'MAD': (30, 30), 'BAR': (180, 182), 'FIG': (225, 225)}}"
   ],
   "metadata": {
    "collapsed": false,
    "ExecuteTime": {
     "end_time": "2024-03-15T12:20:31.404477Z",
     "start_time": "2024-03-15T12:20:31.386850Z"
    }
   },
   "id": "23b30676f4da8d0a",
   "execution_count": 258
  },
  {
   "cell_type": "code",
   "outputs": [],
   "source": [
    "sm.update_schedule(Solution(real=np.array([-3, 152, 8, 30, 167, 30, 182], dtype=float), discrete=np.array([])))\n",
    "sm.updated_schedule"
   ],
   "metadata": {
    "collapsed": false
   },
   "id": "42ff6f5ddd7011c1",
   "execution_count": null
  },
  {
   "cell_type": "code",
   "outputs": [
    {
     "data": {
      "text/plain": "([575,\n  890,\n  978,\n  1055,\n  1081,\n  384,\n  429,\n  1020,\n  1340,\n  1446,\n  1528,\n  1621,\n  1366,\n  1463,\n  1565,\n  1609,\n  878,\n  1029,\n  161,\n  220,\n  305,\n  374,\n  412,\n  479,\n  1260,\n  1361,\n  1413,\n  1456,\n  193,\n  291],\n [(565, 585),\n  (880, 900),\n  (240.0, 988),\n  (85.0, 1065),\n  (56.0, 1091),\n  (374, 394),\n  (75.0, 439),\n  (1010, 1030),\n  (1330, 1350),\n  (1446, 1456),\n  (1528, 1538),\n  (1621, 1631),\n  (1356, 1376),\n  (1463, 1473),\n  (1565, 1575),\n  (1609, 1619),\n  (868, 888),\n  (1019, 1039),\n  (151, 171),\n  (220, 230),\n  (295, 315),\n  (374, 384),\n  (412, 422),\n  (479, 489),\n  (1250, 1270),\n  (1361, 1371),\n  (1413, 1423),\n  (1456, 1466),\n  (183, 203),\n  (291, 301)])"
     },
     "execution_count": 268,
     "metadata": {},
     "output_type": "execute_result"
    }
   ],
   "source": [
    "sm.get_real_vars()"
   ],
   "metadata": {
    "collapsed": false,
    "ExecuteTime": {
     "end_time": "2024-03-15T12:21:14.213326Z",
     "start_time": "2024-03-15T12:21:14.197511Z"
    }
   },
   "id": "90edbb346b28e673",
   "execution_count": 268
  },
  {
   "cell_type": "code",
   "outputs": [
    {
     "data": {
      "text/plain": "[(565, 585),\n (880, 900),\n (978, 988),\n (1055, 1065),\n (1081, 1091),\n (374, 394),\n (429, 439),\n (1010, 1030),\n (1330, 1350),\n (1446, 1456),\n (1528, 1538),\n (1621, 1631),\n (1356, 1376),\n (1463, 1473),\n (1565, 1575),\n (1609, 1619),\n (868, 888),\n (1019, 1039),\n (151, 171),\n (220, 230),\n (295, 315),\n (374, 384),\n (412, 422),\n (479, 489),\n (1250, 1270),\n (1361, 1371),\n (1413, 1423),\n (1456, 1466),\n (183, 203),\n (291, 301)]"
     },
     "execution_count": 269,
     "metadata": {},
     "output_type": "execute_result"
    }
   ],
   "source": [
    "sm.real_boundaries"
   ],
   "metadata": {
    "collapsed": false,
    "ExecuteTime": {
     "end_time": "2024-03-15T12:21:15.127064Z",
     "start_time": "2024-03-15T12:21:15.113837Z"
    }
   },
   "id": "fb92fd9e0fe3df24",
   "execution_count": 269
  },
  {
   "cell_type": "code",
   "outputs": [],
   "source": [
    "gsa_algo = GSA(objective_function=sm.get_fitness_gsa,\n",
    "               is_feasible=sm.feasible_services_times,\n",
    "               r_dim=len(sm.real_boundaries),\n",
    "               d_dim=0,\n",
    "               boundaries=sm.boundaries)"
   ],
   "metadata": {
    "collapsed": false,
    "ExecuteTime": {
     "end_time": "2024-03-15T12:33:42.460662Z",
     "start_time": "2024-03-15T12:33:42.444784Z"
    }
   },
   "id": "bac4a98fae2b0f1a",
   "execution_count": 339
  },
  {
   "cell_type": "code",
   "outputs": [
    {
     "name": "stdout",
     "output_type": "stream",
     "text": [
      "Initial population: [<src.entities.Solution object at 0x15f47c100>, <src.entities.Solution object at 0x177d31e20>, <src.entities.Solution object at 0x2c1608fa0>, <src.entities.Solution object at 0x2c1608880>, <src.entities.Solution object at 0x2c1608220>]\n",
      "GSA is optimizing  \"get_fitness_gsa\"\n",
      "['At iteration 1 the best fitness is 1501.3568273666833']\n",
      "['At iteration 2 the best fitness is 1501.3568273666833']\n",
      "['At iteration 3 the best fitness is 1501.3568273666833']\n",
      "['At iteration 4 the best fitness is 1501.3568273666833']\n",
      "['At iteration 5 the best fitness is 1501.3568273666833']\n",
      "['At iteration 6 the best fitness is 1501.3568273666833']\n",
      "['At iteration 7 the best fitness is 1501.3568273666833']\n",
      "['At iteration 8 the best fitness is 1501.3568273666833']\n",
      "['At iteration 9 the best fitness is 1501.3568273666833']\n",
      "['At iteration 10 the best fitness is 1501.3568273666833']\n",
      "['At iteration 11 the best fitness is 1501.3568273666833']\n",
      "['At iteration 12 the best fitness is 1501.3568273666833']\n",
      "['At iteration 13 the best fitness is 1501.3568273666833']\n",
      "['At iteration 14 the best fitness is 1501.3568273666833']\n",
      "['At iteration 15 the best fitness is 1501.3568273666833']\n",
      "['At iteration 16 the best fitness is 1565.4217198542085']\n",
      "['At iteration 17 the best fitness is 1567.5430485550123']\n",
      "['At iteration 18 the best fitness is 1567.5430485550123']\n",
      "['At iteration 19 the best fitness is 1581.0621820791357']\n",
      "['At iteration 20 the best fitness is 1581.0621820791357']\n",
      "['At iteration 21 the best fitness is 1581.0621820791357']\n",
      "['At iteration 22 the best fitness is 1581.0621820791357']\n",
      "['At iteration 23 the best fitness is 1581.0621820791357']\n",
      "['At iteration 24 the best fitness is 1581.3907100901142']\n",
      "['At iteration 25 the best fitness is 1581.3907100901142']\n",
      "['At iteration 26 the best fitness is 1587.414626099923']\n",
      "['At iteration 27 the best fitness is 1587.414626099923']\n",
      "['At iteration 28 the best fitness is 1587.414626099923']\n",
      "['At iteration 29 the best fitness is 1587.6686296636396']\n",
      "['At iteration 30 the best fitness is 1589.9774249612437']\n",
      "['At iteration 31 the best fitness is 1590.0268861592144']\n",
      "['At iteration 32 the best fitness is 1592.4736497056585']\n",
      "['At iteration 33 the best fitness is 1592.4736497056585']\n",
      "['At iteration 34 the best fitness is 1594.4837914219115']\n",
      "['At iteration 35 the best fitness is 1595.941361612796']\n",
      "['At iteration 36 the best fitness is 1595.941361612796']\n",
      "['At iteration 37 the best fitness is 1596.4255923047835']\n",
      "['At iteration 38 the best fitness is 1596.5212300966675']\n",
      "['At iteration 39 the best fitness is 1596.630770365482']\n",
      "['At iteration 40 the best fitness is 1597.329781035083']\n",
      "['At iteration 41 the best fitness is 1598.1575674904852']\n",
      "['At iteration 42 the best fitness is 1600.0232705466635']\n",
      "['At iteration 43 the best fitness is 1603.5781795130758']\n",
      "['At iteration 44 the best fitness is 1605.3738095362744']\n",
      "['At iteration 45 the best fitness is 1606.5265308079724']\n",
      "['At iteration 46 the best fitness is 1608.8076750365367']\n",
      "['At iteration 47 the best fitness is 1610.1788087218874']\n",
      "['At iteration 48 the best fitness is 1611.793922826233']\n",
      "['At iteration 49 the best fitness is 1612.2007306830233']\n",
      "['At iteration 50 the best fitness is 1612.330264266796']\n",
      "Elapsed time: 95.11940217018127\n"
     ]
    }
   ],
   "source": [
    "import cProfile as profile\n",
    "import time\n",
    "\n",
    "pr = profile.Profile()\n",
    "pr.disable()\n",
    "\n",
    "gsa_algo.set_seed(seed=28)\n",
    "\n",
    "pop_size = 5\n",
    "\n",
    "start = time.time()\n",
    "pr.enable()\n",
    "training_history = gsa_algo.optimize(population_size=pop_size,\n",
    "                                     iters=50,\n",
    "                                     chaotic_constant=True,\n",
    "                                     repair_solution=False,\n",
    "                                     initial_population=sm.get_initial_population(pop_size))\n",
    "pr.disable()\n",
    "print(f\"Elapsed time: {time.time() - start}\")\n",
    "\n",
    "pr.dump_stats('profile.pstat')"
   ],
   "metadata": {
    "collapsed": false,
    "ExecuteTime": {
     "end_time": "2024-03-15T12:35:17.811441Z",
     "start_time": "2024-03-15T12:33:42.670689Z"
    }
   },
   "id": "827d315d63189f83",
   "execution_count": 340
  },
  {
   "cell_type": "code",
   "outputs": [
    {
     "data": {
      "text/plain": "    Iteration      Fitness  Accuracy  ExecutionTime Discrete  \\\n0           0  1501.356827         0       1.771814       []   \n1           1  1501.356827         0       3.522415       []   \n2           2  1501.356827         0       5.344829       []   \n3           3  1501.356827         0       7.241840       []   \n4           4  1501.356827         0       9.087715       []   \n5           5  1501.356827         0      10.988446       []   \n6           6  1501.356827         0      12.838945       []   \n7           7  1501.356827         0      14.693973       []   \n8           8  1501.356827         0      16.603606       []   \n9           9  1501.356827         0      18.448293       []   \n10         10  1501.356827         0      20.363029       []   \n11         11  1501.356827         0      22.221832       []   \n12         12  1501.356827         0      24.121925       []   \n13         13  1501.356827         0      25.970427       []   \n14         14  1501.356827         0      27.893374       []   \n15         15  1565.421720         0      29.760530       []   \n16         16  1567.543049         0      31.643891       []   \n17         17  1567.543049         0      33.567096       []   \n18         18  1581.062182         0      35.459772       []   \n19         19  1581.062182         0      37.412001       []   \n20         20  1581.062182         0      39.290422       []   \n21         21  1581.062182         0      41.228884       []   \n22         22  1581.062182         0      43.121226       []   \n23         23  1581.390710         0      45.026685       []   \n24         24  1581.390710         0      46.961964       []   \n25         25  1587.414626         0      48.874053       []   \n26         26  1587.414626         0      50.860518       []   \n27         27  1587.414626         0      52.743100       []   \n28         28  1587.668630         0      54.684361       []   \n29         29  1589.977425         0      56.564482       []   \n30         30  1590.026886         0      58.572407       []   \n31         31  1592.473650         0      60.483811       []   \n32         32  1592.473650         0      62.376292       []   \n33         33  1594.483791         0      64.319301       []   \n34         34  1595.941362         0      66.217325       []   \n35         35  1595.941362         0      68.157577       []   \n36         36  1596.425592         0      70.051988       []   \n37         37  1596.521230         0      72.017754       []   \n38         38  1596.630770         0      73.901365       []   \n39         39  1597.329781         0      75.800397       []   \n40         40  1598.157567         0      77.760010       []   \n41         41  1600.023271         0      79.680054       []   \n42         42  1603.578180         0      81.635565       []   \n43         43  1605.373810         0      83.539669       []   \n44         44  1606.526531         0      85.482892       []   \n45         45  1608.807675         0      87.385216       []   \n46         46  1610.178809         0      89.284385       []   \n47         47  1611.793923         0      91.257646       []   \n48         48  1612.200731         0      93.143724       []   \n49         49  1612.330264         0      95.115937       []   \n\n                                                 Real  \n0   [1219.42, 1279.05, 1357.26, 1467.65, 1541.84, ...  \n1   [1229.375036032176, 1302.9007377062167, 1372.9...  \n2   [1229.375036032176, 1302.9007377062167, 1372.9...  \n3   [1229.375036032176, 1302.9007377062167, 1372.9...  \n4   [1229.375036032176, 1302.9007377062167, 1372.9...  \n5   [1229.375036032176, 1302.9007377062167, 1372.9...  \n6   [1229.375036032176, 1302.9007377062167, 1372.9...  \n7   [1229.375036032176, 1302.9007377062167, 1372.9...  \n8   [1229.375036032176, 1302.9007377062167, 1372.9...  \n9   [1229.375036032176, 1302.9007377062167, 1372.9...  \n10  [1229.375036032176, 1302.9007377062167, 1372.9...  \n11  [1229.375036032176, 1302.9007377062167, 1372.9...  \n12  [1229.375036032176, 1302.9007377062167, 1372.9...  \n13  [1229.375036032176, 1302.9007377062167, 1372.9...  \n14  [1229.375036032176, 1302.9007377062167, 1372.9...  \n15  [1212.0386066163924, 1279.0, 1364.0, 1473.0, 1...  \n16  [1212.029230966024, 1279.0, 1364.0, 1473.0, 15...  \n17  [1212.0249054583514, 1278.9999703239234, 1364....  \n18  [1212.0395596159794, 1279.0, 1364.0, 1473.0, 1...  \n19  [1212.0302759338285, 1278.9999924796482, 1364....  \n20  [1212.0302759338285, 1278.9999924796482, 1364....  \n21  [1212.0302759338285, 1278.9999924796482, 1364....  \n22  [1212.0302759338285, 1278.9999924796482, 1364....  \n23  [1212.0515940605178, 1279.0, 1364.0, 1472.5786...  \n24  [1212.0554781125809, 1278.9999936371125, 1364....  \n25  [1212.0512158950685, 1279.0, 1364.0, 1472.7536...  \n26  [1212.0502462558811, 1278.9999999891006, 1364....  \n27  [1212.0502462558811, 1278.9999999891006, 1364....  \n28  [1212.0495900890985, 1279.0, 1364.0, 1473.0, 1...  \n29  [1212.0444238756218, 1279.0, 1364.0, 1472.1840...  \n30  [1212.0456675978728, 1279.0, 1364.0, 1472.1462...  \n31  [1212.0447294777919, 1279.0, 1364.0, 1472.3188...  \n32  [1212.0466054314966, 1278.9999999999993, 1364....  \n33  [1212.0519732752125, 1279.0, 1364.0, 1472.0689...  \n34  [1212.0554088690835, 1279.0, 1364.0, 1471.9231...  \n35  [1212.056210654925, 1279.0, 1364.0000000005934...  \n36  [1212.061856330469, 1279.0, 1364.0, 1471.83897...  \n37  [1212.062083467082, 1279.0, 1364.0, 1471.85709...  \n38  [1212.0623602935166, 1279.0, 1364.0, 1471.8363...  \n39  [1212.0624144288702, 1279.0, 1364.0, 1471.8363...  \n40  [1212.0624430356079, 1279.0, 1364.0, 1471.8363...  \n41  [1212.0575914311603, 1279.0, 1364.0, 1471.8562...  \n42  [1212.0554487357585, 1279.0, 1364.0, 1471.8555...  \n43  [1212.0552490383843, 1279.0, 1364.0, 1471.8553...  \n44  [1212.0546386485278, 1279.0, 1364.0, 1471.8568...  \n45  [1212.0527374175706, 1279.0, 1364.0, 1471.8741...  \n46  [1212.052378701672, 1279.0, 1364.0, 1471.92195...  \n47  [1212.0533117042314, 1279.0, 1364.0, 1471.9232...  \n48  [1212.0542070558242, 1279.0, 1364.0, 1471.9235...  \n49  [1212.054505952663, 1279.0, 1364.0, 1471.92372...  ",
      "text/html": "<div>\n<style scoped>\n    .dataframe tbody tr th:only-of-type {\n        vertical-align: middle;\n    }\n\n    .dataframe tbody tr th {\n        vertical-align: top;\n    }\n\n    .dataframe thead th {\n        text-align: right;\n    }\n</style>\n<table border=\"1\" class=\"dataframe\">\n  <thead>\n    <tr style=\"text-align: right;\">\n      <th></th>\n      <th>Iteration</th>\n      <th>Fitness</th>\n      <th>Accuracy</th>\n      <th>ExecutionTime</th>\n      <th>Discrete</th>\n      <th>Real</th>\n    </tr>\n  </thead>\n  <tbody>\n    <tr>\n      <th>0</th>\n      <td>0</td>\n      <td>1501.356827</td>\n      <td>0</td>\n      <td>1.771814</td>\n      <td>[]</td>\n      <td>[1219.42, 1279.05, 1357.26, 1467.65, 1541.84, ...</td>\n    </tr>\n    <tr>\n      <th>1</th>\n      <td>1</td>\n      <td>1501.356827</td>\n      <td>0</td>\n      <td>3.522415</td>\n      <td>[]</td>\n      <td>[1229.375036032176, 1302.9007377062167, 1372.9...</td>\n    </tr>\n    <tr>\n      <th>2</th>\n      <td>2</td>\n      <td>1501.356827</td>\n      <td>0</td>\n      <td>5.344829</td>\n      <td>[]</td>\n      <td>[1229.375036032176, 1302.9007377062167, 1372.9...</td>\n    </tr>\n    <tr>\n      <th>3</th>\n      <td>3</td>\n      <td>1501.356827</td>\n      <td>0</td>\n      <td>7.241840</td>\n      <td>[]</td>\n      <td>[1229.375036032176, 1302.9007377062167, 1372.9...</td>\n    </tr>\n    <tr>\n      <th>4</th>\n      <td>4</td>\n      <td>1501.356827</td>\n      <td>0</td>\n      <td>9.087715</td>\n      <td>[]</td>\n      <td>[1229.375036032176, 1302.9007377062167, 1372.9...</td>\n    </tr>\n    <tr>\n      <th>5</th>\n      <td>5</td>\n      <td>1501.356827</td>\n      <td>0</td>\n      <td>10.988446</td>\n      <td>[]</td>\n      <td>[1229.375036032176, 1302.9007377062167, 1372.9...</td>\n    </tr>\n    <tr>\n      <th>6</th>\n      <td>6</td>\n      <td>1501.356827</td>\n      <td>0</td>\n      <td>12.838945</td>\n      <td>[]</td>\n      <td>[1229.375036032176, 1302.9007377062167, 1372.9...</td>\n    </tr>\n    <tr>\n      <th>7</th>\n      <td>7</td>\n      <td>1501.356827</td>\n      <td>0</td>\n      <td>14.693973</td>\n      <td>[]</td>\n      <td>[1229.375036032176, 1302.9007377062167, 1372.9...</td>\n    </tr>\n    <tr>\n      <th>8</th>\n      <td>8</td>\n      <td>1501.356827</td>\n      <td>0</td>\n      <td>16.603606</td>\n      <td>[]</td>\n      <td>[1229.375036032176, 1302.9007377062167, 1372.9...</td>\n    </tr>\n    <tr>\n      <th>9</th>\n      <td>9</td>\n      <td>1501.356827</td>\n      <td>0</td>\n      <td>18.448293</td>\n      <td>[]</td>\n      <td>[1229.375036032176, 1302.9007377062167, 1372.9...</td>\n    </tr>\n    <tr>\n      <th>10</th>\n      <td>10</td>\n      <td>1501.356827</td>\n      <td>0</td>\n      <td>20.363029</td>\n      <td>[]</td>\n      <td>[1229.375036032176, 1302.9007377062167, 1372.9...</td>\n    </tr>\n    <tr>\n      <th>11</th>\n      <td>11</td>\n      <td>1501.356827</td>\n      <td>0</td>\n      <td>22.221832</td>\n      <td>[]</td>\n      <td>[1229.375036032176, 1302.9007377062167, 1372.9...</td>\n    </tr>\n    <tr>\n      <th>12</th>\n      <td>12</td>\n      <td>1501.356827</td>\n      <td>0</td>\n      <td>24.121925</td>\n      <td>[]</td>\n      <td>[1229.375036032176, 1302.9007377062167, 1372.9...</td>\n    </tr>\n    <tr>\n      <th>13</th>\n      <td>13</td>\n      <td>1501.356827</td>\n      <td>0</td>\n      <td>25.970427</td>\n      <td>[]</td>\n      <td>[1229.375036032176, 1302.9007377062167, 1372.9...</td>\n    </tr>\n    <tr>\n      <th>14</th>\n      <td>14</td>\n      <td>1501.356827</td>\n      <td>0</td>\n      <td>27.893374</td>\n      <td>[]</td>\n      <td>[1229.375036032176, 1302.9007377062167, 1372.9...</td>\n    </tr>\n    <tr>\n      <th>15</th>\n      <td>15</td>\n      <td>1565.421720</td>\n      <td>0</td>\n      <td>29.760530</td>\n      <td>[]</td>\n      <td>[1212.0386066163924, 1279.0, 1364.0, 1473.0, 1...</td>\n    </tr>\n    <tr>\n      <th>16</th>\n      <td>16</td>\n      <td>1567.543049</td>\n      <td>0</td>\n      <td>31.643891</td>\n      <td>[]</td>\n      <td>[1212.029230966024, 1279.0, 1364.0, 1473.0, 15...</td>\n    </tr>\n    <tr>\n      <th>17</th>\n      <td>17</td>\n      <td>1567.543049</td>\n      <td>0</td>\n      <td>33.567096</td>\n      <td>[]</td>\n      <td>[1212.0249054583514, 1278.9999703239234, 1364....</td>\n    </tr>\n    <tr>\n      <th>18</th>\n      <td>18</td>\n      <td>1581.062182</td>\n      <td>0</td>\n      <td>35.459772</td>\n      <td>[]</td>\n      <td>[1212.0395596159794, 1279.0, 1364.0, 1473.0, 1...</td>\n    </tr>\n    <tr>\n      <th>19</th>\n      <td>19</td>\n      <td>1581.062182</td>\n      <td>0</td>\n      <td>37.412001</td>\n      <td>[]</td>\n      <td>[1212.0302759338285, 1278.9999924796482, 1364....</td>\n    </tr>\n    <tr>\n      <th>20</th>\n      <td>20</td>\n      <td>1581.062182</td>\n      <td>0</td>\n      <td>39.290422</td>\n      <td>[]</td>\n      <td>[1212.0302759338285, 1278.9999924796482, 1364....</td>\n    </tr>\n    <tr>\n      <th>21</th>\n      <td>21</td>\n      <td>1581.062182</td>\n      <td>0</td>\n      <td>41.228884</td>\n      <td>[]</td>\n      <td>[1212.0302759338285, 1278.9999924796482, 1364....</td>\n    </tr>\n    <tr>\n      <th>22</th>\n      <td>22</td>\n      <td>1581.062182</td>\n      <td>0</td>\n      <td>43.121226</td>\n      <td>[]</td>\n      <td>[1212.0302759338285, 1278.9999924796482, 1364....</td>\n    </tr>\n    <tr>\n      <th>23</th>\n      <td>23</td>\n      <td>1581.390710</td>\n      <td>0</td>\n      <td>45.026685</td>\n      <td>[]</td>\n      <td>[1212.0515940605178, 1279.0, 1364.0, 1472.5786...</td>\n    </tr>\n    <tr>\n      <th>24</th>\n      <td>24</td>\n      <td>1581.390710</td>\n      <td>0</td>\n      <td>46.961964</td>\n      <td>[]</td>\n      <td>[1212.0554781125809, 1278.9999936371125, 1364....</td>\n    </tr>\n    <tr>\n      <th>25</th>\n      <td>25</td>\n      <td>1587.414626</td>\n      <td>0</td>\n      <td>48.874053</td>\n      <td>[]</td>\n      <td>[1212.0512158950685, 1279.0, 1364.0, 1472.7536...</td>\n    </tr>\n    <tr>\n      <th>26</th>\n      <td>26</td>\n      <td>1587.414626</td>\n      <td>0</td>\n      <td>50.860518</td>\n      <td>[]</td>\n      <td>[1212.0502462558811, 1278.9999999891006, 1364....</td>\n    </tr>\n    <tr>\n      <th>27</th>\n      <td>27</td>\n      <td>1587.414626</td>\n      <td>0</td>\n      <td>52.743100</td>\n      <td>[]</td>\n      <td>[1212.0502462558811, 1278.9999999891006, 1364....</td>\n    </tr>\n    <tr>\n      <th>28</th>\n      <td>28</td>\n      <td>1587.668630</td>\n      <td>0</td>\n      <td>54.684361</td>\n      <td>[]</td>\n      <td>[1212.0495900890985, 1279.0, 1364.0, 1473.0, 1...</td>\n    </tr>\n    <tr>\n      <th>29</th>\n      <td>29</td>\n      <td>1589.977425</td>\n      <td>0</td>\n      <td>56.564482</td>\n      <td>[]</td>\n      <td>[1212.0444238756218, 1279.0, 1364.0, 1472.1840...</td>\n    </tr>\n    <tr>\n      <th>30</th>\n      <td>30</td>\n      <td>1590.026886</td>\n      <td>0</td>\n      <td>58.572407</td>\n      <td>[]</td>\n      <td>[1212.0456675978728, 1279.0, 1364.0, 1472.1462...</td>\n    </tr>\n    <tr>\n      <th>31</th>\n      <td>31</td>\n      <td>1592.473650</td>\n      <td>0</td>\n      <td>60.483811</td>\n      <td>[]</td>\n      <td>[1212.0447294777919, 1279.0, 1364.0, 1472.3188...</td>\n    </tr>\n    <tr>\n      <th>32</th>\n      <td>32</td>\n      <td>1592.473650</td>\n      <td>0</td>\n      <td>62.376292</td>\n      <td>[]</td>\n      <td>[1212.0466054314966, 1278.9999999999993, 1364....</td>\n    </tr>\n    <tr>\n      <th>33</th>\n      <td>33</td>\n      <td>1594.483791</td>\n      <td>0</td>\n      <td>64.319301</td>\n      <td>[]</td>\n      <td>[1212.0519732752125, 1279.0, 1364.0, 1472.0689...</td>\n    </tr>\n    <tr>\n      <th>34</th>\n      <td>34</td>\n      <td>1595.941362</td>\n      <td>0</td>\n      <td>66.217325</td>\n      <td>[]</td>\n      <td>[1212.0554088690835, 1279.0, 1364.0, 1471.9231...</td>\n    </tr>\n    <tr>\n      <th>35</th>\n      <td>35</td>\n      <td>1595.941362</td>\n      <td>0</td>\n      <td>68.157577</td>\n      <td>[]</td>\n      <td>[1212.056210654925, 1279.0, 1364.0000000005934...</td>\n    </tr>\n    <tr>\n      <th>36</th>\n      <td>36</td>\n      <td>1596.425592</td>\n      <td>0</td>\n      <td>70.051988</td>\n      <td>[]</td>\n      <td>[1212.061856330469, 1279.0, 1364.0, 1471.83897...</td>\n    </tr>\n    <tr>\n      <th>37</th>\n      <td>37</td>\n      <td>1596.521230</td>\n      <td>0</td>\n      <td>72.017754</td>\n      <td>[]</td>\n      <td>[1212.062083467082, 1279.0, 1364.0, 1471.85709...</td>\n    </tr>\n    <tr>\n      <th>38</th>\n      <td>38</td>\n      <td>1596.630770</td>\n      <td>0</td>\n      <td>73.901365</td>\n      <td>[]</td>\n      <td>[1212.0623602935166, 1279.0, 1364.0, 1471.8363...</td>\n    </tr>\n    <tr>\n      <th>39</th>\n      <td>39</td>\n      <td>1597.329781</td>\n      <td>0</td>\n      <td>75.800397</td>\n      <td>[]</td>\n      <td>[1212.0624144288702, 1279.0, 1364.0, 1471.8363...</td>\n    </tr>\n    <tr>\n      <th>40</th>\n      <td>40</td>\n      <td>1598.157567</td>\n      <td>0</td>\n      <td>77.760010</td>\n      <td>[]</td>\n      <td>[1212.0624430356079, 1279.0, 1364.0, 1471.8363...</td>\n    </tr>\n    <tr>\n      <th>41</th>\n      <td>41</td>\n      <td>1600.023271</td>\n      <td>0</td>\n      <td>79.680054</td>\n      <td>[]</td>\n      <td>[1212.0575914311603, 1279.0, 1364.0, 1471.8562...</td>\n    </tr>\n    <tr>\n      <th>42</th>\n      <td>42</td>\n      <td>1603.578180</td>\n      <td>0</td>\n      <td>81.635565</td>\n      <td>[]</td>\n      <td>[1212.0554487357585, 1279.0, 1364.0, 1471.8555...</td>\n    </tr>\n    <tr>\n      <th>43</th>\n      <td>43</td>\n      <td>1605.373810</td>\n      <td>0</td>\n      <td>83.539669</td>\n      <td>[]</td>\n      <td>[1212.0552490383843, 1279.0, 1364.0, 1471.8553...</td>\n    </tr>\n    <tr>\n      <th>44</th>\n      <td>44</td>\n      <td>1606.526531</td>\n      <td>0</td>\n      <td>85.482892</td>\n      <td>[]</td>\n      <td>[1212.0546386485278, 1279.0, 1364.0, 1471.8568...</td>\n    </tr>\n    <tr>\n      <th>45</th>\n      <td>45</td>\n      <td>1608.807675</td>\n      <td>0</td>\n      <td>87.385216</td>\n      <td>[]</td>\n      <td>[1212.0527374175706, 1279.0, 1364.0, 1471.8741...</td>\n    </tr>\n    <tr>\n      <th>46</th>\n      <td>46</td>\n      <td>1610.178809</td>\n      <td>0</td>\n      <td>89.284385</td>\n      <td>[]</td>\n      <td>[1212.052378701672, 1279.0, 1364.0, 1471.92195...</td>\n    </tr>\n    <tr>\n      <th>47</th>\n      <td>47</td>\n      <td>1611.793923</td>\n      <td>0</td>\n      <td>91.257646</td>\n      <td>[]</td>\n      <td>[1212.0533117042314, 1279.0, 1364.0, 1471.9232...</td>\n    </tr>\n    <tr>\n      <th>48</th>\n      <td>48</td>\n      <td>1612.200731</td>\n      <td>0</td>\n      <td>93.143724</td>\n      <td>[]</td>\n      <td>[1212.0542070558242, 1279.0, 1364.0, 1471.9235...</td>\n    </tr>\n    <tr>\n      <th>49</th>\n      <td>49</td>\n      <td>1612.330264</td>\n      <td>0</td>\n      <td>95.115937</td>\n      <td>[]</td>\n      <td>[1212.054505952663, 1279.0, 1364.0, 1471.92372...</td>\n    </tr>\n  </tbody>\n</table>\n</div>"
     },
     "execution_count": 341,
     "metadata": {},
     "output_type": "execute_result"
    }
   ],
   "source": [
    "training_history"
   ],
   "metadata": {
    "collapsed": false,
    "ExecuteTime": {
     "end_time": "2024-03-15T12:35:24.659247Z",
     "start_time": "2024-03-15T12:35:24.626194Z"
    }
   },
   "id": "d467675529585a50",
   "execution_count": 341
  },
  {
   "cell_type": "code",
   "outputs": [
    {
     "data": {
      "text/plain": "<Figure size 1000x600 with 1 Axes>",
      "image/png": "[encoded data removed]"
     },
     "metadata": {},
     "output_type": "display_data"
    }
   ],
   "source": [
    "from matplotlib import pyplot as plt\n",
    "import seaborn as sns\n",
    "\n",
    "fig, ax = plt.subplots(figsize=(10, 6))\n",
    "\n",
    "ax.set_title(\"Fitness\", fontweight='bold')\n",
    "\n",
    "# ax.set_ylim(min(global_train_hist[\"Fitness\"]), max(global_train_hist[\"Fitness\"]))\n",
    "    \n",
    "sns.lineplot(ax=ax,\n",
    "             data=training_history,\n",
    "             x=\"Iteration\",\n",
    "             y=\"Fitness\",\n",
    "             legend=True)\n",
    "\n",
    "ax.grid(axis='y', color='#A9A9A9', alpha=0.3, zorder=1)\n",
    "\n",
    "ax.set_xlabel(\"Iter.\")\n",
    "ax.set_ylabel(\"Fitness\")\n",
    "\n",
    "plt.show()\n",
    "# fig.savefig(save_path, format='svg', dpi=300, bbox_inches='tight', transparent=True)"
   ],
   "metadata": {
    "collapsed": false,
    "ExecuteTime": {
     "end_time": "2024-03-15T12:35:26.445291Z",
     "start_time": "2024-03-15T12:35:26.352727Z"
    }
   },
   "id": "36aa34e314e58053",
   "execution_count": 342
  },
  {
   "cell_type": "code",
   "outputs": [
    {
     "name": "stdout",
     "output_type": "stream",
     "text": [
      "snakeviz web server started on 127.0.0.1:8080; enter Ctrl-C to exit\r\n",
      "http://127.0.0.1:8080/snakeviz/%2FUsers%2Fuclm%2FPycharmProjects%2FGSA_M%2Fnotebooks%2Fprofile.pstat\r\n"
     ]
    }
   ],
   "source": [
    "!snakeviz profile.pstat"
   ],
   "metadata": {
    "collapsed": false,
    "is_executing": true,
    "ExecuteTime": {
     "start_time": "2024-03-15T12:35:31.632418Z"
    }
   },
   "id": "eaf93c09b302023c",
   "execution_count": null
  },
  {
   "cell_type": "code",
   "outputs": [
    {
     "data": {
      "text/plain": "    Iteration     Fitness  Accuracy  ExecutionTime Discrete  \\\n0           0  517.014978         0       0.003048       []   \n1           1  530.855183         0       0.085591       []   \n2           2  542.646939         0       0.165635       []   \n3           3  565.661258         0       0.218120       []   \n4           4  565.661258         0       0.242157       []   \n5           5  565.661258         0       0.312635       []   \n6           6  565.661258         0       0.359963       []   \n7           7  566.497557         0       0.363831       []   \n8           8  568.721232         0       0.367587       []   \n9           9  568.721232         0       0.370925       []   \n10         10  568.721232         0       0.373775       []   \n11         11  568.721232         0       0.377499       []   \n12         12  568.721232         0       0.407769       []   \n13         13  568.721232         0       0.431715       []   \n14         14  569.752270         0       0.434186       []   \n15         15  569.944354         0       0.444001       []   \n16         16  569.944354         0       0.457104       []   \n17         17  569.944354         0       0.461096       []   \n18         18  569.944354         0       0.467344       []   \n19         19  569.944354         0       0.522234       []   \n20         20  569.944354         0       0.541828       []   \n21         21  569.944354         0       0.547574       []   \n22         22  569.944354         0       0.596972       []   \n23         23  571.348366         0       0.624208       []   \n24         24  575.662230         0       0.631063       []   \n25         25  582.045664         0       0.674821       []   \n26         26  586.110856         0       0.713089       []   \n27         27  586.110856         0       0.814261       []   \n28         28  586.110856         0       0.940392       []   \n29         29  586.110856         0       1.047582       []   \n30         30  588.921026         0       1.123223       []   \n31         31  589.252402         0       1.197486       []   \n32         32  589.357310         0       1.267606       []   \n33         33  589.433702         0       1.339689       []   \n34         34  590.874839         0       1.379981       []   \n35         35  590.874839         0       1.413400       []   \n36         36  590.874839         0       1.439690       []   \n37         37  590.874839         0       1.514880       []   \n38         38  591.196481         0       1.610974       []   \n39         39  591.196481         0       1.614665       []   \n40         40  591.196481         0       1.616876       []   \n41         41  591.196481         0       1.619479       []   \n42         42  591.215615         0       1.621906       []   \n43         43  591.244117         0       1.666866       []   \n44         44  591.247727         0       1.729309       []   \n45         45  591.247727         0       1.812686       []   \n46         46  591.252572         0       1.933760       []   \n47         47  591.252572         0       2.056270       []   \n48         48  591.252679         0       2.166871       []   \n49         49  591.252711         0       2.266971       []   \n\n                                                 Real  \n0   [-4.98, 157.83, 161.92, 189.92, 11.98, 35.76, ...  \n1   [-2.7546657683245406, 157.40093372659027, 161....  \n2   [-1.4908902847345742, 157.03956686173672, 161....  \n3   [-0.08372446694929914, 152.02590705979338, 157...  \n4   [5.670225709399254, 148.90734406439034, 159.04...  \n5   [5.670225709399254, 148.90734406439034, 159.04...  \n6   [5.670225709399254, 148.90734406439034, 159.04...  \n7   [-9.771727430351225, 145.23158773598314, 153.9...  \n8   [-7.794995179434571, 143.10007102447446, 154.2...  \n9   [-9.92970600467806, 143.22751590497882, 153.84...  \n10  [-9.92970600467806, 143.22751590497882, 153.84...  \n11  [-9.92970600467806, 143.22751590497882, 153.84...  \n12  [-9.92970600467806, 143.22751590497882, 153.84...  \n13  [-9.92970600467806, 143.22751590497882, 153.84...  \n14  [-9.056985424365779, 140.95362962673235, 153.2...  \n15  [-8.9701371854631, 142.04060276661053, 153.246...  \n16  [-8.823913805517407, 144.13362164643843, 153.3...  \n17  [-8.823913805517407, 144.13362164643843, 153.3...  \n18  [-8.823913805517407, 144.13362164643843, 153.3...  \n19  [-8.823913805517407, 144.13362164643843, 153.3...  \n20  [-8.823913805517407, 144.13362164643843, 153.3...  \n21  [-8.823913805517407, 144.13362164643843, 153.3...  \n22  [-8.823913805517407, 144.13362164643843, 153.3...  \n23  [-8.961428255969949, 142.95682803443975, 152.3...  \n24  [-8.940034737799113, 142.32824872429532, 152.3...  \n25  [-8.88862200511195, 141.04490900976057, 151.29...  \n26  [-9.02234150839642, 140.6879390247832, 151.218...  \n27  [-9.047646797139107, 140.61082583003213, 151.1...  \n28  [-9.047646797139107, 140.61082583003213, 151.1...  \n29  [-9.047646797139107, 140.61082583003213, 151.1...  \n30  [-9.036858187160343, 140.8703424548706, 151.21...  \n31  [-9.0356342270743, 141.10833600614865, 151.216...  \n32  [-9.035182949815933, 141.15679890816432, 151.2...  \n33  [-9.034534348242634, 141.1866281325309, 151.21...  \n34  [-9.034962015512225, 141.10993610213188, 151.2...  \n35  [-9.043982957535663, 140.91242479181528, 151.2...  \n36  [-9.043982957535663, 140.91242479181528, 151.2...  \n37  [-9.043982957535663, 140.91242479181528, 151.2...  \n38  [-9.03350153904783, 141.17993160474694, 151.20...  \n39  [-9.03422400832405, 141.21076156682577, 151.20...  \n40  [-9.03422400832405, 141.21076156682577, 151.20...  \n41  [-9.03422400832405, 141.21076156682577, 151.20...  \n42  [-9.024712351042139, 140.8875136932124, 150.87...  \n43  [-9.023244085009217, 140.89343620531116, 150.8...  \n44  [-9.023532259989004, 140.8953114132988, 150.85...  \n45  [-9.023712875199303, 140.89716878116317, 150.8...  \n46  [-9.023865664724458, 140.89689349095372, 150.7...  \n47  [-9.023963051126682, 140.8988345735588, 150.77...  \n48  [-9.023692285606792, 140.89948674954434, 150.7...  \n49  [-9.023643498325988, 140.89988353336167, 150.7...  ",
      "text/html": "<div>\n<style scoped>\n    .dataframe tbody tr th:only-of-type {\n        vertical-align: middle;\n    }\n\n    .dataframe tbody tr th {\n        vertical-align: top;\n    }\n\n    .dataframe thead th {\n        text-align: right;\n    }\n</style>\n<table border=\"1\" class=\"dataframe\">\n  <thead>\n    <tr style=\"text-align: right;\">\n      <th></th>\n      <th>Iteration</th>\n      <th>Fitness</th>\n      <th>Accuracy</th>\n      <th>ExecutionTime</th>\n      <th>Discrete</th>\n      <th>Real</th>\n    </tr>\n  </thead>\n  <tbody>\n    <tr>\n      <th>0</th>\n      <td>0</td>\n      <td>517.014978</td>\n      <td>0</td>\n      <td>0.003048</td>\n      <td>[]</td>\n      <td>[-4.98, 157.83, 161.92, 189.92, 11.98, 35.76, ...</td>\n    </tr>\n    <tr>\n      <th>1</th>\n      <td>1</td>\n      <td>530.855183</td>\n      <td>0</td>\n      <td>0.085591</td>\n      <td>[]</td>\n      <td>[-2.7546657683245406, 157.40093372659027, 161....</td>\n    </tr>\n    <tr>\n      <th>2</th>\n      <td>2</td>\n      <td>542.646939</td>\n      <td>0</td>\n      <td>0.165635</td>\n      <td>[]</td>\n      <td>[-1.4908902847345742, 157.03956686173672, 161....</td>\n    </tr>\n    <tr>\n      <th>3</th>\n      <td>3</td>\n      <td>565.661258</td>\n      <td>0</td>\n      <td>0.218120</td>\n      <td>[]</td>\n      <td>[-0.08372446694929914, 152.02590705979338, 157...</td>\n    </tr>\n    <tr>\n      <th>4</th>\n      <td>4</td>\n      <td>565.661258</td>\n      <td>0</td>\n      <td>0.242157</td>\n      <td>[]</td>\n      <td>[5.670225709399254, 148.90734406439034, 159.04...</td>\n    </tr>\n    <tr>\n      <th>5</th>\n      <td>5</td>\n      <td>565.661258</td>\n      <td>0</td>\n      <td>0.312635</td>\n      <td>[]</td>\n      <td>[5.670225709399254, 148.90734406439034, 159.04...</td>\n    </tr>\n    <tr>\n      <th>6</th>\n      <td>6</td>\n      <td>565.661258</td>\n      <td>0</td>\n      <td>0.359963</td>\n      <td>[]</td>\n      <td>[5.670225709399254, 148.90734406439034, 159.04...</td>\n    </tr>\n    <tr>\n      <th>7</th>\n      <td>7</td>\n      <td>566.497557</td>\n      <td>0</td>\n      <td>0.363831</td>\n      <td>[]</td>\n      <td>[-9.771727430351225, 145.23158773598314, 153.9...</td>\n    </tr>\n    <tr>\n      <th>8</th>\n      <td>8</td>\n      <td>568.721232</td>\n      <td>0</td>\n      <td>0.367587</td>\n      <td>[]</td>\n      <td>[-7.794995179434571, 143.10007102447446, 154.2...</td>\n    </tr>\n    <tr>\n      <th>9</th>\n      <td>9</td>\n      <td>568.721232</td>\n      <td>0</td>\n      <td>0.370925</td>\n      <td>[]</td>\n      <td>[-9.92970600467806, 143.22751590497882, 153.84...</td>\n    </tr>\n    <tr>\n      <th>10</th>\n      <td>10</td>\n      <td>568.721232</td>\n      <td>0</td>\n      <td>0.373775</td>\n      <td>[]</td>\n      <td>[-9.92970600467806, 143.22751590497882, 153.84...</td>\n    </tr>\n    <tr>\n      <th>11</th>\n      <td>11</td>\n      <td>568.721232</td>\n      <td>0</td>\n      <td>0.377499</td>\n      <td>[]</td>\n      <td>[-9.92970600467806, 143.22751590497882, 153.84...</td>\n    </tr>\n    <tr>\n      <th>12</th>\n      <td>12</td>\n      <td>568.721232</td>\n      <td>0</td>\n      <td>0.407769</td>\n      <td>[]</td>\n      <td>[-9.92970600467806, 143.22751590497882, 153.84...</td>\n    </tr>\n    <tr>\n      <th>13</th>\n      <td>13</td>\n      <td>568.721232</td>\n      <td>0</td>\n      <td>0.431715</td>\n      <td>[]</td>\n      <td>[-9.92970600467806, 143.22751590497882, 153.84...</td>\n    </tr>\n    <tr>\n      <th>14</th>\n      <td>14</td>\n      <td>569.752270</td>\n      <td>0</td>\n      <td>0.434186</td>\n      <td>[]</td>\n      <td>[-9.056985424365779, 140.95362962673235, 153.2...</td>\n    </tr>\n    <tr>\n      <th>15</th>\n      <td>15</td>\n      <td>569.944354</td>\n      <td>0</td>\n      <td>0.444001</td>\n      <td>[]</td>\n      <td>[-8.9701371854631, 142.04060276661053, 153.246...</td>\n    </tr>\n    <tr>\n      <th>16</th>\n      <td>16</td>\n      <td>569.944354</td>\n      <td>0</td>\n      <td>0.457104</td>\n      <td>[]</td>\n      <td>[-8.823913805517407, 144.13362164643843, 153.3...</td>\n    </tr>\n    <tr>\n      <th>17</th>\n      <td>17</td>\n      <td>569.944354</td>\n      <td>0</td>\n      <td>0.461096</td>\n      <td>[]</td>\n      <td>[-8.823913805517407, 144.13362164643843, 153.3...</td>\n    </tr>\n    <tr>\n      <th>18</th>\n      <td>18</td>\n      <td>569.944354</td>\n      <td>0</td>\n      <td>0.467344</td>\n      <td>[]</td>\n      <td>[-8.823913805517407, 144.13362164643843, 153.3...</td>\n    </tr>\n    <tr>\n      <th>19</th>\n      <td>19</td>\n      <td>569.944354</td>\n      <td>0</td>\n      <td>0.522234</td>\n      <td>[]</td>\n      <td>[-8.823913805517407, 144.13362164643843, 153.3...</td>\n    </tr>\n    <tr>\n      <th>20</th>\n      <td>20</td>\n      <td>569.944354</td>\n      <td>0</td>\n      <td>0.541828</td>\n      <td>[]</td>\n      <td>[-8.823913805517407, 144.13362164643843, 153.3...</td>\n    </tr>\n    <tr>\n      <th>21</th>\n      <td>21</td>\n      <td>569.944354</td>\n      <td>0</td>\n      <td>0.547574</td>\n      <td>[]</td>\n      <td>[-8.823913805517407, 144.13362164643843, 153.3...</td>\n    </tr>\n    <tr>\n      <th>22</th>\n      <td>22</td>\n      <td>569.944354</td>\n      <td>0</td>\n      <td>0.596972</td>\n      <td>[]</td>\n      <td>[-8.823913805517407, 144.13362164643843, 153.3...</td>\n    </tr>\n    <tr>\n      <th>23</th>\n      <td>23</td>\n      <td>571.348366</td>\n      <td>0</td>\n      <td>0.624208</td>\n      <td>[]</td>\n      <td>[-8.961428255969949, 142.95682803443975, 152.3...</td>\n    </tr>\n    <tr>\n      <th>24</th>\n      <td>24</td>\n      <td>575.662230</td>\n      <td>0</td>\n      <td>0.631063</td>\n      <td>[]</td>\n      <td>[-8.940034737799113, 142.32824872429532, 152.3...</td>\n    </tr>\n    <tr>\n      <th>25</th>\n      <td>25</td>\n      <td>582.045664</td>\n      <td>0</td>\n      <td>0.674821</td>\n      <td>[]</td>\n      <td>[-8.88862200511195, 141.04490900976057, 151.29...</td>\n    </tr>\n    <tr>\n      <th>26</th>\n      <td>26</td>\n      <td>586.110856</td>\n      <td>0</td>\n      <td>0.713089</td>\n      <td>[]</td>\n      <td>[-9.02234150839642, 140.6879390247832, 151.218...</td>\n    </tr>\n    <tr>\n      <th>27</th>\n      <td>27</td>\n      <td>586.110856</td>\n      <td>0</td>\n      <td>0.814261</td>\n      <td>[]</td>\n      <td>[-9.047646797139107, 140.61082583003213, 151.1...</td>\n    </tr>\n    <tr>\n      <th>28</th>\n      <td>28</td>\n      <td>586.110856</td>\n      <td>0</td>\n      <td>0.940392</td>\n      <td>[]</td>\n      <td>[-9.047646797139107, 140.61082583003213, 151.1...</td>\n    </tr>\n    <tr>\n      <th>29</th>\n      <td>29</td>\n      <td>586.110856</td>\n      <td>0</td>\n      <td>1.047582</td>\n      <td>[]</td>\n      <td>[-9.047646797139107, 140.61082583003213, 151.1...</td>\n    </tr>\n    <tr>\n      <th>30</th>\n      <td>30</td>\n      <td>588.921026</td>\n      <td>0</td>\n      <td>1.123223</td>\n      <td>[]</td>\n      <td>[-9.036858187160343, 140.8703424548706, 151.21...</td>\n    </tr>\n    <tr>\n      <th>31</th>\n      <td>31</td>\n      <td>589.252402</td>\n      <td>0</td>\n      <td>1.197486</td>\n      <td>[]</td>\n      <td>[-9.0356342270743, 141.10833600614865, 151.216...</td>\n    </tr>\n    <tr>\n      <th>32</th>\n      <td>32</td>\n      <td>589.357310</td>\n      <td>0</td>\n      <td>1.267606</td>\n      <td>[]</td>\n      <td>[-9.035182949815933, 141.15679890816432, 151.2...</td>\n    </tr>\n    <tr>\n      <th>33</th>\n      <td>33</td>\n      <td>589.433702</td>\n      <td>0</td>\n      <td>1.339689</td>\n      <td>[]</td>\n      <td>[-9.034534348242634, 141.1866281325309, 151.21...</td>\n    </tr>\n    <tr>\n      <th>34</th>\n      <td>34</td>\n      <td>590.874839</td>\n      <td>0</td>\n      <td>1.379981</td>\n      <td>[]</td>\n      <td>[-9.034962015512225, 141.10993610213188, 151.2...</td>\n    </tr>\n    <tr>\n      <th>35</th>\n      <td>35</td>\n      <td>590.874839</td>\n      <td>0</td>\n      <td>1.413400</td>\n      <td>[]</td>\n      <td>[-9.043982957535663, 140.91242479181528, 151.2...</td>\n    </tr>\n    <tr>\n      <th>36</th>\n      <td>36</td>\n      <td>590.874839</td>\n      <td>0</td>\n      <td>1.439690</td>\n      <td>[]</td>\n      <td>[-9.043982957535663, 140.91242479181528, 151.2...</td>\n    </tr>\n    <tr>\n      <th>37</th>\n      <td>37</td>\n      <td>590.874839</td>\n      <td>0</td>\n      <td>1.514880</td>\n      <td>[]</td>\n      <td>[-9.043982957535663, 140.91242479181528, 151.2...</td>\n    </tr>\n    <tr>\n      <th>38</th>\n      <td>38</td>\n      <td>591.196481</td>\n      <td>0</td>\n      <td>1.610974</td>\n      <td>[]</td>\n      <td>[-9.03350153904783, 141.17993160474694, 151.20...</td>\n    </tr>\n    <tr>\n      <th>39</th>\n      <td>39</td>\n      <td>591.196481</td>\n      <td>0</td>\n      <td>1.614665</td>\n      <td>[]</td>\n      <td>[-9.03422400832405, 141.21076156682577, 151.20...</td>\n    </tr>\n    <tr>\n      <th>40</th>\n      <td>40</td>\n      <td>591.196481</td>\n      <td>0</td>\n      <td>1.616876</td>\n      <td>[]</td>\n      <td>[-9.03422400832405, 141.21076156682577, 151.20...</td>\n    </tr>\n    <tr>\n      <th>41</th>\n      <td>41</td>\n      <td>591.196481</td>\n      <td>0</td>\n      <td>1.619479</td>\n      <td>[]</td>\n      <td>[-9.03422400832405, 141.21076156682577, 151.20...</td>\n    </tr>\n    <tr>\n      <th>42</th>\n      <td>42</td>\n      <td>591.215615</td>\n      <td>0</td>\n      <td>1.621906</td>\n      <td>[]</td>\n      <td>[-9.024712351042139, 140.8875136932124, 150.87...</td>\n    </tr>\n    <tr>\n      <th>43</th>\n      <td>43</td>\n      <td>591.244117</td>\n      <td>0</td>\n      <td>1.666866</td>\n      <td>[]</td>\n      <td>[-9.023244085009217, 140.89343620531116, 150.8...</td>\n    </tr>\n    <tr>\n      <th>44</th>\n      <td>44</td>\n      <td>591.247727</td>\n      <td>0</td>\n      <td>1.729309</td>\n      <td>[]</td>\n      <td>[-9.023532259989004, 140.8953114132988, 150.85...</td>\n    </tr>\n    <tr>\n      <th>45</th>\n      <td>45</td>\n      <td>591.247727</td>\n      <td>0</td>\n      <td>1.812686</td>\n      <td>[]</td>\n      <td>[-9.023712875199303, 140.89716878116317, 150.8...</td>\n    </tr>\n    <tr>\n      <th>46</th>\n      <td>46</td>\n      <td>591.252572</td>\n      <td>0</td>\n      <td>1.933760</td>\n      <td>[]</td>\n      <td>[-9.023865664724458, 140.89689349095372, 150.7...</td>\n    </tr>\n    <tr>\n      <th>47</th>\n      <td>47</td>\n      <td>591.252572</td>\n      <td>0</td>\n      <td>2.056270</td>\n      <td>[]</td>\n      <td>[-9.023963051126682, 140.8988345735588, 150.77...</td>\n    </tr>\n    <tr>\n      <th>48</th>\n      <td>48</td>\n      <td>591.252679</td>\n      <td>0</td>\n      <td>2.166871</td>\n      <td>[]</td>\n      <td>[-9.023692285606792, 140.89948674954434, 150.7...</td>\n    </tr>\n    <tr>\n      <th>49</th>\n      <td>49</td>\n      <td>591.252711</td>\n      <td>0</td>\n      <td>2.266971</td>\n      <td>[]</td>\n      <td>[-9.023643498325988, 140.89988353336167, 150.7...</td>\n    </tr>\n  </tbody>\n</table>\n</div>"
     },
     "execution_count": 12,
     "metadata": {},
     "output_type": "execute_result"
    }
   ],
   "source": [
    "training_history"
   ],
   "metadata": {
    "collapsed": false,
    "ExecuteTime": {
     "end_time": "2024-03-14T17:16:01.004423Z",
     "start_time": "2024-03-14T17:16:00.969069Z"
    }
   },
   "id": "17434a6d21479a27",
   "execution_count": 12
  },
  {
   "cell_type": "code",
   "outputs": [],
   "source": [
    "# Get last value in column 'Real' of training_history\n",
    "best_solution = training_history.iloc[-1]['Real']"
   ],
   "metadata": {
    "collapsed": false,
    "ExecuteTime": {
     "end_time": "2024-03-14T17:16:02.233122Z",
     "start_time": "2024-03-14T17:16:02.218567Z"
    }
   },
   "id": "a5366a89cc34ffdd",
   "execution_count": 13
  },
  {
   "cell_type": "code",
   "outputs": [
    {
     "data": {
      "text/plain": "[[0, 0, 0],\n [0, 0, 1],\n [0, 1, 0],\n [0, 1, 1],\n [1, 0, 0],\n [1, 0, 1],\n [1, 1, 0],\n [1, 1, 1]]"
     },
     "execution_count": 16,
     "metadata": {},
     "output_type": "execute_result"
    }
   ],
   "source": [
    "sm.update_feasible_schedules(Solution(real=np.array(best_solution, dtype=float), discrete=np.array([])))\n",
    "sm.feasible_schedules"
   ],
   "metadata": {
    "collapsed": false,
    "ExecuteTime": {
     "end_time": "2024-03-14T17:16:41.256736Z",
     "start_time": "2024-03-14T17:16:41.246775Z"
    }
   },
   "id": "92e7ba87d78a3918",
   "execution_count": 16
  },
  {
   "cell_type": "code",
   "outputs": [
    {
     "name": "stdout",
     "output_type": "stream",
     "text": [
      "[1 1 1]\n"
     ]
    },
    {
     "data": {
      "text/plain": "591.2527108040338"
     },
     "execution_count": 17,
     "metadata": {},
     "output_type": "execute_result"
    }
   ],
   "source": [
    "S_i = sm.get_best_schedule(Solution(real=best_solution, discrete=np.array([])))\n",
    "print(S_i)\n",
    "\n",
    "sm.get_revenue(Solution(real=best_solution, discrete=S_i))"
   ],
   "metadata": {
    "collapsed": false,
    "ExecuteTime": {
     "end_time": "2024-03-14T17:16:43.513377Z",
     "start_time": "2024-03-14T17:16:43.496908Z"
    }
   },
   "id": "e17ef56a32b2b12b",
   "execution_count": 17
  },
  {
   "cell_type": "code",
   "outputs": [
    {
     "data": {
      "text/plain": "array([1, 1, 1])"
     },
     "execution_count": 18,
     "metadata": {},
     "output_type": "execute_result"
    }
   ],
   "source": [
    "sm.get_best_schedule(Solution(real=best_solution, discrete=np.array([])))"
   ],
   "metadata": {
    "collapsed": false,
    "ExecuteTime": {
     "end_time": "2024-03-14T17:16:43.733552Z",
     "start_time": "2024-03-14T17:16:43.723282Z"
    }
   },
   "id": "f55e854c26a1212c",
   "execution_count": 18
  },
  {
   "cell_type": "code",
   "outputs": [
    {
     "data": {
      "text/plain": "668.25"
     },
     "execution_count": 19,
     "metadata": {},
     "output_type": "execute_result"
    }
   ],
   "source": [
    "sum([revenue[service]['canon'] for service in revenue])"
   ],
   "metadata": {
    "collapsed": false,
    "ExecuteTime": {
     "end_time": "2024-03-14T17:16:45.459791Z",
     "start_time": "2024-03-14T17:16:45.448817Z"
    }
   },
   "id": "aa6f4cb80af96241",
   "execution_count": 19
  },
  {
   "cell_type": "code",
   "outputs": [
    {
     "data": {
      "text/plain": "    Iteration     Fitness  Accuracy  ExecutionTime Discrete  \\\n0           0  517.014978         0       0.003048       []   \n1           1  530.855183         0       0.085591       []   \n2           2  542.646939         0       0.165635       []   \n3           3  565.661258         0       0.218120       []   \n4           4  565.661258         0       0.242157       []   \n5           5  565.661258         0       0.312635       []   \n6           6  565.661258         0       0.359963       []   \n7           7  566.497557         0       0.363831       []   \n8           8  568.721232         0       0.367587       []   \n9           9  568.721232         0       0.370925       []   \n10         10  568.721232         0       0.373775       []   \n11         11  568.721232         0       0.377499       []   \n12         12  568.721232         0       0.407769       []   \n13         13  568.721232         0       0.431715       []   \n14         14  569.752270         0       0.434186       []   \n15         15  569.944354         0       0.444001       []   \n16         16  569.944354         0       0.457104       []   \n17         17  569.944354         0       0.461096       []   \n18         18  569.944354         0       0.467344       []   \n19         19  569.944354         0       0.522234       []   \n20         20  569.944354         0       0.541828       []   \n21         21  569.944354         0       0.547574       []   \n22         22  569.944354         0       0.596972       []   \n23         23  571.348366         0       0.624208       []   \n24         24  575.662230         0       0.631063       []   \n25         25  582.045664         0       0.674821       []   \n26         26  586.110856         0       0.713089       []   \n27         27  586.110856         0       0.814261       []   \n28         28  586.110856         0       0.940392       []   \n29         29  586.110856         0       1.047582       []   \n30         30  588.921026         0       1.123223       []   \n31         31  589.252402         0       1.197486       []   \n32         32  589.357310         0       1.267606       []   \n33         33  589.433702         0       1.339689       []   \n34         34  590.874839         0       1.379981       []   \n35         35  590.874839         0       1.413400       []   \n36         36  590.874839         0       1.439690       []   \n37         37  590.874839         0       1.514880       []   \n38         38  591.196481         0       1.610974       []   \n39         39  591.196481         0       1.614665       []   \n40         40  591.196481         0       1.616876       []   \n41         41  591.196481         0       1.619479       []   \n42         42  591.215615         0       1.621906       []   \n43         43  591.244117         0       1.666866       []   \n44         44  591.247727         0       1.729309       []   \n45         45  591.247727         0       1.812686       []   \n46         46  591.252572         0       1.933760       []   \n47         47  591.252572         0       2.056270       []   \n48         48  591.252679         0       2.166871       []   \n49         49  591.252711         0       2.266971       []   \n\n                                                 Real  \n0   [-4.98, 157.83, 161.92, 189.92, 11.98, 35.76, ...  \n1   [-2.7546657683245406, 157.40093372659027, 161....  \n2   [-1.4908902847345742, 157.03956686173672, 161....  \n3   [-0.08372446694929914, 152.02590705979338, 157...  \n4   [5.670225709399254, 148.90734406439034, 159.04...  \n5   [5.670225709399254, 148.90734406439034, 159.04...  \n6   [5.670225709399254, 148.90734406439034, 159.04...  \n7   [-9.771727430351225, 145.23158773598314, 153.9...  \n8   [-7.794995179434571, 143.10007102447446, 154.2...  \n9   [-9.92970600467806, 143.22751590497882, 153.84...  \n10  [-9.92970600467806, 143.22751590497882, 153.84...  \n11  [-9.92970600467806, 143.22751590497882, 153.84...  \n12  [-9.92970600467806, 143.22751590497882, 153.84...  \n13  [-9.92970600467806, 143.22751590497882, 153.84...  \n14  [-9.056985424365779, 140.95362962673235, 153.2...  \n15  [-8.9701371854631, 142.04060276661053, 153.246...  \n16  [-8.823913805517407, 144.13362164643843, 153.3...  \n17  [-8.823913805517407, 144.13362164643843, 153.3...  \n18  [-8.823913805517407, 144.13362164643843, 153.3...  \n19  [-8.823913805517407, 144.13362164643843, 153.3...  \n20  [-8.823913805517407, 144.13362164643843, 153.3...  \n21  [-8.823913805517407, 144.13362164643843, 153.3...  \n22  [-8.823913805517407, 144.13362164643843, 153.3...  \n23  [-8.961428255969949, 142.95682803443975, 152.3...  \n24  [-8.940034737799113, 142.32824872429532, 152.3...  \n25  [-8.88862200511195, 141.04490900976057, 151.29...  \n26  [-9.02234150839642, 140.6879390247832, 151.218...  \n27  [-9.047646797139107, 140.61082583003213, 151.1...  \n28  [-9.047646797139107, 140.61082583003213, 151.1...  \n29  [-9.047646797139107, 140.61082583003213, 151.1...  \n30  [-9.036858187160343, 140.8703424548706, 151.21...  \n31  [-9.0356342270743, 141.10833600614865, 151.216...  \n32  [-9.035182949815933, 141.15679890816432, 151.2...  \n33  [-9.034534348242634, 141.1866281325309, 151.21...  \n34  [-9.034962015512225, 141.10993610213188, 151.2...  \n35  [-9.043982957535663, 140.91242479181528, 151.2...  \n36  [-9.043982957535663, 140.91242479181528, 151.2...  \n37  [-9.043982957535663, 140.91242479181528, 151.2...  \n38  [-9.03350153904783, 141.17993160474694, 151.20...  \n39  [-9.03422400832405, 141.21076156682577, 151.20...  \n40  [-9.03422400832405, 141.21076156682577, 151.20...  \n41  [-9.03422400832405, 141.21076156682577, 151.20...  \n42  [-9.024712351042139, 140.8875136932124, 150.87...  \n43  [-9.023244085009217, 140.89343620531116, 150.8...  \n44  [-9.023532259989004, 140.8953114132988, 150.85...  \n45  [-9.023712875199303, 140.89716878116317, 150.8...  \n46  [-9.023865664724458, 140.89689349095372, 150.7...  \n47  [-9.023963051126682, 140.8988345735588, 150.77...  \n48  [-9.023692285606792, 140.89948674954434, 150.7...  \n49  [-9.023643498325988, 140.89988353336167, 150.7...  ",
      "text/html": "<div>\n<style scoped>\n    .dataframe tbody tr th:only-of-type {\n        vertical-align: middle;\n    }\n\n    .dataframe tbody tr th {\n        vertical-align: top;\n    }\n\n    .dataframe thead th {\n        text-align: right;\n    }\n</style>\n<table border=\"1\" class=\"dataframe\">\n  <thead>\n    <tr style=\"text-align: right;\">\n      <th></th>\n      <th>Iteration</th>\n      <th>Fitness</th>\n      <th>Accuracy</th>\n      <th>ExecutionTime</th>\n      <th>Discrete</th>\n      <th>Real</th>\n    </tr>\n  </thead>\n  <tbody>\n    <tr>\n      <th>0</th>\n      <td>0</td>\n      <td>517.014978</td>\n      <td>0</td>\n      <td>0.003048</td>\n      <td>[]</td>\n      <td>[-4.98, 157.83, 161.92, 189.92, 11.98, 35.76, ...</td>\n    </tr>\n    <tr>\n      <th>1</th>\n      <td>1</td>\n      <td>530.855183</td>\n      <td>0</td>\n      <td>0.085591</td>\n      <td>[]</td>\n      <td>[-2.7546657683245406, 157.40093372659027, 161....</td>\n    </tr>\n    <tr>\n      <th>2</th>\n      <td>2</td>\n      <td>542.646939</td>\n      <td>0</td>\n      <td>0.165635</td>\n      <td>[]</td>\n      <td>[-1.4908902847345742, 157.03956686173672, 161....</td>\n    </tr>\n    <tr>\n      <th>3</th>\n      <td>3</td>\n      <td>565.661258</td>\n      <td>0</td>\n      <td>0.218120</td>\n      <td>[]</td>\n      <td>[-0.08372446694929914, 152.02590705979338, 157...</td>\n    </tr>\n    <tr>\n      <th>4</th>\n      <td>4</td>\n      <td>565.661258</td>\n      <td>0</td>\n      <td>0.242157</td>\n      <td>[]</td>\n      <td>[5.670225709399254, 148.90734406439034, 159.04...</td>\n    </tr>\n    <tr>\n      <th>5</th>\n      <td>5</td>\n      <td>565.661258</td>\n      <td>0</td>\n      <td>0.312635</td>\n      <td>[]</td>\n      <td>[5.670225709399254, 148.90734406439034, 159.04...</td>\n    </tr>\n    <tr>\n      <th>6</th>\n      <td>6</td>\n      <td>565.661258</td>\n      <td>0</td>\n      <td>0.359963</td>\n      <td>[]</td>\n      <td>[5.670225709399254, 148.90734406439034, 159.04...</td>\n    </tr>\n    <tr>\n      <th>7</th>\n      <td>7</td>\n      <td>566.497557</td>\n      <td>0</td>\n      <td>0.363831</td>\n      <td>[]</td>\n      <td>[-9.771727430351225, 145.23158773598314, 153.9...</td>\n    </tr>\n    <tr>\n      <th>8</th>\n      <td>8</td>\n      <td>568.721232</td>\n      <td>0</td>\n      <td>0.367587</td>\n      <td>[]</td>\n      <td>[-7.794995179434571, 143.10007102447446, 154.2...</td>\n    </tr>\n    <tr>\n      <th>9</th>\n      <td>9</td>\n      <td>568.721232</td>\n      <td>0</td>\n      <td>0.370925</td>\n      <td>[]</td>\n      <td>[-9.92970600467806, 143.22751590497882, 153.84...</td>\n    </tr>\n    <tr>\n      <th>10</th>\n      <td>10</td>\n      <td>568.721232</td>\n      <td>0</td>\n      <td>0.373775</td>\n      <td>[]</td>\n      <td>[-9.92970600467806, 143.22751590497882, 153.84...</td>\n    </tr>\n    <tr>\n      <th>11</th>\n      <td>11</td>\n      <td>568.721232</td>\n      <td>0</td>\n      <td>0.377499</td>\n      <td>[]</td>\n      <td>[-9.92970600467806, 143.22751590497882, 153.84...</td>\n    </tr>\n    <tr>\n      <th>12</th>\n      <td>12</td>\n      <td>568.721232</td>\n      <td>0</td>\n      <td>0.407769</td>\n      <td>[]</td>\n      <td>[-9.92970600467806, 143.22751590497882, 153.84...</td>\n    </tr>\n    <tr>\n      <th>13</th>\n      <td>13</td>\n      <td>568.721232</td>\n      <td>0</td>\n      <td>0.431715</td>\n      <td>[]</td>\n      <td>[-9.92970600467806, 143.22751590497882, 153.84...</td>\n    </tr>\n    <tr>\n      <th>14</th>\n      <td>14</td>\n      <td>569.752270</td>\n      <td>0</td>\n      <td>0.434186</td>\n      <td>[]</td>\n      <td>[-9.056985424365779, 140.95362962673235, 153.2...</td>\n    </tr>\n    <tr>\n      <th>15</th>\n      <td>15</td>\n      <td>569.944354</td>\n      <td>0</td>\n      <td>0.444001</td>\n      <td>[]</td>\n      <td>[-8.9701371854631, 142.04060276661053, 153.246...</td>\n    </tr>\n    <tr>\n      <th>16</th>\n      <td>16</td>\n      <td>569.944354</td>\n      <td>0</td>\n      <td>0.457104</td>\n      <td>[]</td>\n      <td>[-8.823913805517407, 144.13362164643843, 153.3...</td>\n    </tr>\n    <tr>\n      <th>17</th>\n      <td>17</td>\n      <td>569.944354</td>\n      <td>0</td>\n      <td>0.461096</td>\n      <td>[]</td>\n      <td>[-8.823913805517407, 144.13362164643843, 153.3...</td>\n    </tr>\n    <tr>\n      <th>18</th>\n      <td>18</td>\n      <td>569.944354</td>\n      <td>0</td>\n      <td>0.467344</td>\n      <td>[]</td>\n      <td>[-8.823913805517407, 144.13362164643843, 153.3...</td>\n    </tr>\n    <tr>\n      <th>19</th>\n      <td>19</td>\n      <td>569.944354</td>\n      <td>0</td>\n      <td>0.522234</td>\n      <td>[]</td>\n      <td>[-8.823913805517407, 144.13362164643843, 153.3...</td>\n    </tr>\n    <tr>\n      <th>20</th>\n      <td>20</td>\n      <td>569.944354</td>\n      <td>0</td>\n      <td>0.541828</td>\n      <td>[]</td>\n      <td>[-8.823913805517407, 144.13362164643843, 153.3...</td>\n    </tr>\n    <tr>\n      <th>21</th>\n      <td>21</td>\n      <td>569.944354</td>\n      <td>0</td>\n      <td>0.547574</td>\n      <td>[]</td>\n      <td>[-8.823913805517407, 144.13362164643843, 153.3...</td>\n    </tr>\n    <tr>\n      <th>22</th>\n      <td>22</td>\n      <td>569.944354</td>\n      <td>0</td>\n      <td>0.596972</td>\n      <td>[]</td>\n      <td>[-8.823913805517407, 144.13362164643843, 153.3...</td>\n    </tr>\n    <tr>\n      <th>23</th>\n      <td>23</td>\n      <td>571.348366</td>\n      <td>0</td>\n      <td>0.624208</td>\n      <td>[]</td>\n      <td>[-8.961428255969949, 142.95682803443975, 152.3...</td>\n    </tr>\n    <tr>\n      <th>24</th>\n      <td>24</td>\n      <td>575.662230</td>\n      <td>0</td>\n      <td>0.631063</td>\n      <td>[]</td>\n      <td>[-8.940034737799113, 142.32824872429532, 152.3...</td>\n    </tr>\n    <tr>\n      <th>25</th>\n      <td>25</td>\n      <td>582.045664</td>\n      <td>0</td>\n      <td>0.674821</td>\n      <td>[]</td>\n      <td>[-8.88862200511195, 141.04490900976057, 151.29...</td>\n    </tr>\n    <tr>\n      <th>26</th>\n      <td>26</td>\n      <td>586.110856</td>\n      <td>0</td>\n      <td>0.713089</td>\n      <td>[]</td>\n      <td>[-9.02234150839642, 140.6879390247832, 151.218...</td>\n    </tr>\n    <tr>\n      <th>27</th>\n      <td>27</td>\n      <td>586.110856</td>\n      <td>0</td>\n      <td>0.814261</td>\n      <td>[]</td>\n      <td>[-9.047646797139107, 140.61082583003213, 151.1...</td>\n    </tr>\n    <tr>\n      <th>28</th>\n      <td>28</td>\n      <td>586.110856</td>\n      <td>0</td>\n      <td>0.940392</td>\n      <td>[]</td>\n      <td>[-9.047646797139107, 140.61082583003213, 151.1...</td>\n    </tr>\n    <tr>\n      <th>29</th>\n      <td>29</td>\n      <td>586.110856</td>\n      <td>0</td>\n      <td>1.047582</td>\n      <td>[]</td>\n      <td>[-9.047646797139107, 140.61082583003213, 151.1...</td>\n    </tr>\n    <tr>\n      <th>30</th>\n      <td>30</td>\n      <td>588.921026</td>\n      <td>0</td>\n      <td>1.123223</td>\n      <td>[]</td>\n      <td>[-9.036858187160343, 140.8703424548706, 151.21...</td>\n    </tr>\n    <tr>\n      <th>31</th>\n      <td>31</td>\n      <td>589.252402</td>\n      <td>0</td>\n      <td>1.197486</td>\n      <td>[]</td>\n      <td>[-9.0356342270743, 141.10833600614865, 151.216...</td>\n    </tr>\n    <tr>\n      <th>32</th>\n      <td>32</td>\n      <td>589.357310</td>\n      <td>0</td>\n      <td>1.267606</td>\n      <td>[]</td>\n      <td>[-9.035182949815933, 141.15679890816432, 151.2...</td>\n    </tr>\n    <tr>\n      <th>33</th>\n      <td>33</td>\n      <td>589.433702</td>\n      <td>0</td>\n      <td>1.339689</td>\n      <td>[]</td>\n      <td>[-9.034534348242634, 141.1866281325309, 151.21...</td>\n    </tr>\n    <tr>\n      <th>34</th>\n      <td>34</td>\n      <td>590.874839</td>\n      <td>0</td>\n      <td>1.379981</td>\n      <td>[]</td>\n      <td>[-9.034962015512225, 141.10993610213188, 151.2...</td>\n    </tr>\n    <tr>\n      <th>35</th>\n      <td>35</td>\n      <td>590.874839</td>\n      <td>0</td>\n      <td>1.413400</td>\n      <td>[]</td>\n      <td>[-9.043982957535663, 140.91242479181528, 151.2...</td>\n    </tr>\n    <tr>\n      <th>36</th>\n      <td>36</td>\n      <td>590.874839</td>\n      <td>0</td>\n      <td>1.439690</td>\n      <td>[]</td>\n      <td>[-9.043982957535663, 140.91242479181528, 151.2...</td>\n    </tr>\n    <tr>\n      <th>37</th>\n      <td>37</td>\n      <td>590.874839</td>\n      <td>0</td>\n      <td>1.514880</td>\n      <td>[]</td>\n      <td>[-9.043982957535663, 140.91242479181528, 151.2...</td>\n    </tr>\n    <tr>\n      <th>38</th>\n      <td>38</td>\n      <td>591.196481</td>\n      <td>0</td>\n      <td>1.610974</td>\n      <td>[]</td>\n      <td>[-9.03350153904783, 141.17993160474694, 151.20...</td>\n    </tr>\n    <tr>\n      <th>39</th>\n      <td>39</td>\n      <td>591.196481</td>\n      <td>0</td>\n      <td>1.614665</td>\n      <td>[]</td>\n      <td>[-9.03422400832405, 141.21076156682577, 151.20...</td>\n    </tr>\n    <tr>\n      <th>40</th>\n      <td>40</td>\n      <td>591.196481</td>\n      <td>0</td>\n      <td>1.616876</td>\n      <td>[]</td>\n      <td>[-9.03422400832405, 141.21076156682577, 151.20...</td>\n    </tr>\n    <tr>\n      <th>41</th>\n      <td>41</td>\n      <td>591.196481</td>\n      <td>0</td>\n      <td>1.619479</td>\n      <td>[]</td>\n      <td>[-9.03422400832405, 141.21076156682577, 151.20...</td>\n    </tr>\n    <tr>\n      <th>42</th>\n      <td>42</td>\n      <td>591.215615</td>\n      <td>0</td>\n      <td>1.621906</td>\n      <td>[]</td>\n      <td>[-9.024712351042139, 140.8875136932124, 150.87...</td>\n    </tr>\n    <tr>\n      <th>43</th>\n      <td>43</td>\n      <td>591.244117</td>\n      <td>0</td>\n      <td>1.666866</td>\n      <td>[]</td>\n      <td>[-9.023244085009217, 140.89343620531116, 150.8...</td>\n    </tr>\n    <tr>\n      <th>44</th>\n      <td>44</td>\n      <td>591.247727</td>\n      <td>0</td>\n      <td>1.729309</td>\n      <td>[]</td>\n      <td>[-9.023532259989004, 140.8953114132988, 150.85...</td>\n    </tr>\n    <tr>\n      <th>45</th>\n      <td>45</td>\n      <td>591.247727</td>\n      <td>0</td>\n      <td>1.812686</td>\n      <td>[]</td>\n      <td>[-9.023712875199303, 140.89716878116317, 150.8...</td>\n    </tr>\n    <tr>\n      <th>46</th>\n      <td>46</td>\n      <td>591.252572</td>\n      <td>0</td>\n      <td>1.933760</td>\n      <td>[]</td>\n      <td>[-9.023865664724458, 140.89689349095372, 150.7...</td>\n    </tr>\n    <tr>\n      <th>47</th>\n      <td>47</td>\n      <td>591.252572</td>\n      <td>0</td>\n      <td>2.056270</td>\n      <td>[]</td>\n      <td>[-9.023963051126682, 140.8988345735588, 150.77...</td>\n    </tr>\n    <tr>\n      <th>48</th>\n      <td>48</td>\n      <td>591.252679</td>\n      <td>0</td>\n      <td>2.166871</td>\n      <td>[]</td>\n      <td>[-9.023692285606792, 140.89948674954434, 150.7...</td>\n    </tr>\n    <tr>\n      <th>49</th>\n      <td>49</td>\n      <td>591.252711</td>\n      <td>0</td>\n      <td>2.266971</td>\n      <td>[]</td>\n      <td>[-9.023643498325988, 140.89988353336167, 150.7...</td>\n    </tr>\n  </tbody>\n</table>\n</div>"
     },
     "execution_count": 20,
     "metadata": {},
     "output_type": "execute_result"
    }
   ],
   "source": [
    "training_history"
   ],
   "metadata": {
    "collapsed": false,
    "ExecuteTime": {
     "end_time": "2024-03-14T17:16:49.223623Z",
     "start_time": "2024-03-14T17:16:49.195263Z"
    }
   },
   "id": "d1ada6a23f65987c",
   "execution_count": 20
  },
  {
   "cell_type": "code",
   "outputs": [],
   "source": [],
   "metadata": {
    "collapsed": false
   },
   "id": "215937b03b2d6167"
  }
 ],
 "metadata": {
  "kernelspec": {
   "display_name": "Python 3 (ipykernel)",
   "language": "python",
   "name": "python3"
  },
  "language_info": {
   "codemirror_mode": {
    "name": "ipython",
    "version": 3
   },
   "file_extension": ".py",
   "mimetype": "text/x-python",
   "name": "python",
   "nbconvert_exporter": "python",
   "pygments_lexer": "ipython3",
   "version": "3.9.6"
  }
 },
 "nbformat": 4,
 "nbformat_minor": 5
}
