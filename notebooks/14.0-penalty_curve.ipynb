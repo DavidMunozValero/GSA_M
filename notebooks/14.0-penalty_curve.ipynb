{
 "cells": [
  {
   "metadata": {},
   "cell_type": "code",
   "outputs": [],
   "execution_count": null,
   "source": [
    "import numpy as np\n",
    "\n",
    "from math import cos, pi, e\n",
    "from matplotlib import pyplot as plt\n",
    "\n",
    "ks = [0, 2, 5, 10, 50, 100]\n",
    "\n",
    "x = np.linspace(start=-1, stop=1, num=500)\n",
    "\n",
    "def penalty_func(x, k):\n",
    "    return 1 - e ** (-k * x ** 2) * ((1 / 2) * cos(pi * x) + (1 / 2))\n",
    "\n",
    "\n",
    "fig, ax = plt.subplots(figsize=(10, 6))\n",
    "\n",
    "for k in ks:\n",
    "    y = [penalty_func(j, k) for j in x]\n",
    "    ax.plot(x, y, label=f'k={k}')\n",
    "    ax.legend()\n",
    "    ax.grid()\n",
    "\n",
    "for spn in ('top', 'right', 'bottom', 'left'):\n",
    "    ax.spines[spn].set_visible(True)\n",
    "    ax.spines[spn].set_linewidth(1.0)\n",
    "    ax.spines[spn].set_color('#A9A9A9')\n",
    "\n",
    "#ax.set_title(\"Penalty curve\", fontweight='bold', fontsize=20)\n",
    "ax.tick_params(axis='both', which='major', labelsize=18)\n",
    "ax.set_xlabel(\"x\", fontsize=22)\n",
    "ax.set_ylabel(\"Penalty\", fontsize=22)\n",
    "ax.grid(axis='y', color='#A9A9A9', alpha=0.3, zorder=1)\n",
    "ax.legend(loc='lower right', fontsize=18)\n",
    "\n",
    "fig.savefig('../figures/penalty_function.pdf', format='pdf', dpi=300, bbox_inches='tight', transparent=True)\n",
    "plt.show()"
   ],
   "id": "2bbbd8221e51b861"
  },
  {
   "metadata": {},
   "cell_type": "code",
   "outputs": [],
   "execution_count": null,
   "source": "",
   "id": "b1a0832c1a1ed3ca"
  }
 ],
 "metadata": {
  "kernelspec": {
   "display_name": "Python 3",
   "language": "python",
   "name": "python3"
  },
  "language_info": {
   "codemirror_mode": {
    "name": "ipython",
    "version": 2
   },
   "file_extension": ".py",
   "mimetype": "text/x-python",
   "name": "python",
   "nbconvert_exporter": "python",
   "pygments_lexer": "ipython2",
   "version": "2.7.6"
  }
 },
 "nbformat": 4,
 "nbformat_minor": 5
}
