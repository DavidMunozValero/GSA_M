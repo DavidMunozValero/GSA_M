{
 "cells": [
  {
   "cell_type": "markdown",
   "source": [],
   "metadata": {
    "collapsed": false
   },
   "id": "37c2ffa3421ec86b"
  },
  {
   "cell_type": "code",
   "outputs": [],
   "source": [
    "%load_ext autoreload\n",
    "%autoreload 2"
   ],
   "metadata": {
    "collapsed": false,
    "ExecuteTime": {
     "end_time": "2024-02-13T13:14:27.049394Z",
     "start_time": "2024-02-13T13:14:27.039347Z"
    }
   },
   "id": "af8f319d1e0e6966",
   "execution_count": 1
  },
  {
   "cell_type": "code",
   "execution_count": 3,
   "outputs": [
    {
     "ename": "ValueError",
     "evalue": "could not broadcast input array from shape (30,1) into shape (30,)",
     "output_type": "error",
     "traceback": [
      "\u001B[0;31m---------------------------------------------------------------------------\u001B[0m",
      "\u001B[0;31mValueError\u001B[0m                                Traceback (most recent call last)",
      "Cell \u001B[0;32mIn[3], line 64\u001B[0m\n\u001B[1;32m     58\u001B[0m function_details \u001B[38;5;241m=\u001B[39m get_function_details(j)\n\u001B[1;32m     59\u001B[0m gsa_algo \u001B[38;5;241m=\u001B[39m GSA(objective_function \u001B[38;5;241m=\u001B[39m function_details[\u001B[38;5;124m'\u001B[39m\u001B[38;5;124mfunction\u001B[39m\u001B[38;5;124m'\u001B[39m],\n\u001B[1;32m     60\u001B[0m                r_dim\u001B[38;5;241m=\u001B[39m\u001B[38;5;241m1\u001B[39m,\n\u001B[1;32m     61\u001B[0m                d_dim\u001B[38;5;241m=\u001B[39m\u001B[38;5;241m0\u001B[39m,\n\u001B[1;32m     62\u001B[0m                boundaries\u001B[38;5;241m=\u001B[39m{\u001B[38;5;124m'\u001B[39m\u001B[38;5;124mreal\u001B[39m\u001B[38;5;124m'\u001B[39m: [(function_details[\u001B[38;5;124m'\u001B[39m\u001B[38;5;124mlower_bound\u001B[39m\u001B[38;5;124m'\u001B[39m], function_details[\u001B[38;5;124m'\u001B[39m\u001B[38;5;124mupper_bound\u001B[39m\u001B[38;5;124m'\u001B[39m])], \u001B[38;5;124m'\u001B[39m\u001B[38;5;124mdiscrete\u001B[39m\u001B[38;5;124m'\u001B[39m: []})\n\u001B[0;32m---> 64\u001B[0m \u001B[43mgsa_algo\u001B[49m\u001B[38;5;241;43m.\u001B[39;49m\u001B[43moptimize\u001B[49m\u001B[43m(\u001B[49m\u001B[43mpopulation_size\u001B[49m\u001B[38;5;241;43m=\u001B[39;49m\u001B[43mpopulation_size\u001B[49m\u001B[43m,\u001B[49m\n\u001B[1;32m     65\u001B[0m \u001B[43m                  \u001B[49m\u001B[43miters\u001B[49m\u001B[38;5;241;43m=\u001B[39;49m\u001B[43miterations\u001B[49m\u001B[43m,\u001B[49m\n\u001B[1;32m     66\u001B[0m \u001B[43m                  \u001B[49m\u001B[43mchaotic_constant\u001B[49m\u001B[38;5;241;43m=\u001B[39;49m\u001B[38;5;28;43;01mTrue\u001B[39;49;00m\u001B[43m)\u001B[49m\n\u001B[1;32m     68\u001B[0m \u001B[38;5;28;01mif\u001B[39;00m export:\n\u001B[1;32m     69\u001B[0m     \u001B[38;5;28;01mwith\u001B[39;00m \u001B[38;5;28mopen\u001B[39m(ExportToFile, \u001B[38;5;124m'\u001B[39m\u001B[38;5;124ma\u001B[39m\u001B[38;5;124m'\u001B[39m) \u001B[38;5;28;01mas\u001B[39;00m out:\n",
      "File \u001B[0;32m~/PycharmProjects/GSA_M/src/entities.py:102\u001B[0m, in \u001B[0;36mGSA.optimize\u001B[0;34m(self, population_size, iters, elitist_check, r_power, chaotic_constant, w_max, w_min)\u001B[0m\n\u001B[1;32m     99\u001B[0m g_best \u001B[38;5;241m=\u001B[39m np\u001B[38;5;241m.\u001B[39mzeros(\u001B[38;5;28mself\u001B[39m\u001B[38;5;241m.\u001B[39mr_dim)\n\u001B[1;32m    100\u001B[0m g_best_score \u001B[38;5;241m=\u001B[39m \u001B[38;5;28mfloat\u001B[39m(\u001B[38;5;124m\"\u001B[39m\u001B[38;5;124minf\u001B[39m\u001B[38;5;124m\"\u001B[39m)\n\u001B[0;32m--> 102\u001B[0m pos \u001B[38;5;241m=\u001B[39m \u001B[38;5;28;43mself\u001B[39;49m\u001B[38;5;241;43m.\u001B[39;49m\u001B[43m_get_initial_positions\u001B[49m\u001B[43m(\u001B[49m\u001B[43mpopulation_size\u001B[49m\u001B[43m)\u001B[49m\n\u001B[1;32m    104\u001B[0m best_solution_history \u001B[38;5;241m=\u001B[39m []\n\u001B[1;32m    105\u001B[0m convergence_curve \u001B[38;5;241m=\u001B[39m np\u001B[38;5;241m.\u001B[39mzeros(iters)\n",
      "File \u001B[0;32m~/PycharmProjects/GSA_M/src/entities.py:64\u001B[0m, in \u001B[0;36mGSA._get_initial_positions\u001B[0;34m(self, population_size)\u001B[0m\n\u001B[1;32m     62\u001B[0m \u001B[38;5;28;01mfor\u001B[39;00m rd \u001B[38;5;129;01min\u001B[39;00m \u001B[38;5;28mrange\u001B[39m(\u001B[38;5;28mself\u001B[39m\u001B[38;5;241m.\u001B[39mr_dim):\n\u001B[1;32m     63\u001B[0m     rd_lb, rd_ub \u001B[38;5;241m=\u001B[39m \u001B[38;5;28mself\u001B[39m\u001B[38;5;241m.\u001B[39mreal_boundaries[rd]\n\u001B[0;32m---> 64\u001B[0m     \u001B[43mpos_r\u001B[49m\u001B[43m[\u001B[49m\u001B[43m:\u001B[49m\u001B[43m,\u001B[49m\u001B[43m \u001B[49m\u001B[43mrd\u001B[49m\u001B[43m]\u001B[49m \u001B[38;5;241m=\u001B[39m np\u001B[38;5;241m.\u001B[39mrandom\u001B[38;5;241m.\u001B[39muniform(low\u001B[38;5;241m=\u001B[39mrd_lb, high\u001B[38;5;241m=\u001B[39mrd_ub, size\u001B[38;5;241m=\u001B[39m(population_size, \u001B[38;5;241m1\u001B[39m))\n\u001B[1;32m     66\u001B[0m pos_d \u001B[38;5;241m=\u001B[39m np\u001B[38;5;241m.\u001B[39mzeros((population_size, \u001B[38;5;28mself\u001B[39m\u001B[38;5;241m.\u001B[39md_dim))\n\u001B[1;32m     67\u001B[0m \u001B[38;5;28;01mfor\u001B[39;00m dd \u001B[38;5;129;01min\u001B[39;00m \u001B[38;5;28mrange\u001B[39m(\u001B[38;5;28mself\u001B[39m\u001B[38;5;241m.\u001B[39md_dim):\n",
      "\u001B[0;31mValueError\u001B[0m: could not broadcast input array from shape (30,1) into shape (30,)"
     ]
    }
   ],
   "source": [
    "import csv\n",
    "import numpy as np\n",
    "import os\n",
    "import time\n",
    "\n",
    "from benchmarks import get_function_details\n",
    "from src.entities import GSA\n",
    "\n",
    "\n",
    "# Select optimizers\n",
    "gsa = True  # Code by Himanshu Mittal\n",
    "\n",
    "# Select benchmark function\n",
    "F1 = True\n",
    "\n",
    "algorithm = [gsa]\n",
    "objective_function = [F1]\n",
    "\n",
    "# Select number of repetitions for each experiment. \n",
    "# To obtain meaningful statistical results, usually 30 independent runs \n",
    "# are executed for each algorithm.\n",
    "runs = 3\n",
    "\n",
    "# Select chaotic constant\n",
    "chaotic_constant = True\n",
    "\n",
    "# Select general parameters for all optimizers (population size, number of iterations)\n",
    "population_size = 30\n",
    "iterations = 100\n",
    "\n",
    "# Export results ?\n",
    "export = True\n",
    "\n",
    "# ExportToFile=\"YourResultsAreHere.csv\"\n",
    "# Automaticly generated name by date and time\n",
    "\n",
    "save_path = \"data/output/\"\n",
    "if not os.path.exists(save_path):\n",
    "    os.makedirs(save_path)\n",
    "\n",
    "ExportToFile = save_path + \"experiment\" + time.strftime(\"%Y-%m-%d-%H-%M-%S_\") + str(chaotic_constant) + \".csv\"\n",
    "\n",
    "# Check if it works at least once\n",
    "atLeastOneIteration = False\n",
    "\n",
    "# CSV Header for the convergence\n",
    "CnvgHeader = []\n",
    "# SolHeader=[]\n",
    "\n",
    "for l in range(iterations):\n",
    "    CnvgHeader.append(\"Iter\" + str(l + 1))\n",
    "    # SolHeader.append(\"Sol_Iter\"+str(l+1))\n",
    "\n",
    "for j in range(len(objective_function)):\n",
    "    if objective_function[j]:  # start experiment if an Algorithm and an objective function is selected\n",
    "        for k in range(0, runs):\n",
    "\n",
    "            function_details = get_function_details(j)\n",
    "            gsa_algo = GSA(objective_function = function_details['function'],\n",
    "                           r_dim=1,\n",
    "                           d_dim=0,\n",
    "                           boundaries={'real': [(function_details['lower_bound'], function_details['upper_bound'])], 'discrete': []})\n",
    "            \n",
    "            gsa_algo.optimize(population_size=population_size,\n",
    "                              iters=iterations,\n",
    "                              chaotic_constant=True)\n",
    "\n",
    "            if export:\n",
    "                with open(ExportToFile, 'a') as out:\n",
    "                    writer = csv.writer(out, delimiter=',')\n",
    "                    if not atLeastOneIteration:  # just one time to write the header of the CSV file\n",
    "                        header = np.concatenate(\n",
    "                            [[\"Optimizer\", \"objfname\", \"startTime\", \"EndTime\", \"ExecutionTime\"], CnvgHeader])\n",
    "                        print(header)\n",
    "                        writer.writerow(header)\n",
    "                    a = np.concatenate(\n",
    "                        [[gsa_algo.objective_function_name,\n",
    "                          gsa_algo.start_time,\n",
    "                          gsa_algo.end_time,\n",
    "                          gsa_algo.execution_time],\n",
    "                          gsa_algo.convergence])\n",
    "                    writer.writerow(a)\n",
    "                out.close()\n",
    "            atLeastOneIteration = True  # at least one experiment\n",
    "\n",
    "if not atLeastOneIteration:  # Faild to run at least one experiment\n",
    "    print(\"No Optimizer or Cost function is selected. Check lists of available optimizers and cost functions\")"
   ],
   "metadata": {
    "collapsed": false,
    "ExecuteTime": {
     "end_time": "2024-02-13T13:15:08.525070Z",
     "start_time": "2024-02-13T13:15:08.473379Z"
    }
   },
   "id": "9ab768c390336d7e"
  },
  {
   "cell_type": "code",
   "outputs": [],
   "source": [
    "import pandas as pd"
   ],
   "metadata": {
    "collapsed": true
   },
   "id": "initial_id",
   "execution_count": null
  },
  {
   "cell_type": "code",
   "outputs": [],
   "source": [
    "output_file = \"../data/output/experiment2024-02-06-11-24-28.csv\"\n",
    "\n",
    "data = pd.read_csv(output_file)"
   ],
   "metadata": {
    "collapsed": false,
    "ExecuteTime": {
     "end_time": "2024-02-06T10:27:16.557262Z",
     "start_time": "2024-02-06T10:27:16.549735Z"
    }
   },
   "id": "f4d274d3656307ca",
   "execution_count": 3
  },
  {
   "cell_type": "code",
   "outputs": [
    {
     "data": {
      "text/plain": "  Optimizer objfname            startTime              EndTime  ExecutionTime  \\\n0       GSA       F1  2024-02-06-11-24-28  2024-02-06-11-24-29        0.54548   \n\n         Iter1         Iter2        Iter3        Iter4       Iter5  ...  \\\n0  21634.17186  13724.250576  5564.349644  1210.276746  439.623279  ...   \n\n       Iter91      Iter92      Iter93      Iter94      Iter95      Iter96  \\\n0  317.524882  317.524882  317.524882  317.524882  317.524882  317.524882   \n\n       Iter97      Iter98      Iter99     Iter100  \n0  317.524882  317.524882  317.524882  317.524882  \n\n[1 rows x 105 columns]",
      "text/html": "<div>\n<style scoped>\n    .dataframe tbody tr th:only-of-type {\n        vertical-align: middle;\n    }\n\n    .dataframe tbody tr th {\n        vertical-align: top;\n    }\n\n    .dataframe thead th {\n        text-align: right;\n    }\n</style>\n<table border=\"1\" class=\"dataframe\">\n  <thead>\n    <tr style=\"text-align: right;\">\n      <th></th>\n      <th>Optimizer</th>\n      <th>objfname</th>\n      <th>startTime</th>\n      <th>EndTime</th>\n      <th>ExecutionTime</th>\n      <th>Iter1</th>\n      <th>Iter2</th>\n      <th>Iter3</th>\n      <th>Iter4</th>\n      <th>Iter5</th>\n      <th>...</th>\n      <th>Iter91</th>\n      <th>Iter92</th>\n      <th>Iter93</th>\n      <th>Iter94</th>\n      <th>Iter95</th>\n      <th>Iter96</th>\n      <th>Iter97</th>\n      <th>Iter98</th>\n      <th>Iter99</th>\n      <th>Iter100</th>\n    </tr>\n  </thead>\n  <tbody>\n    <tr>\n      <th>0</th>\n      <td>GSA</td>\n      <td>F1</td>\n      <td>2024-02-06-11-24-28</td>\n      <td>2024-02-06-11-24-29</td>\n      <td>0.54548</td>\n      <td>21634.17186</td>\n      <td>13724.250576</td>\n      <td>5564.349644</td>\n      <td>1210.276746</td>\n      <td>439.623279</td>\n      <td>...</td>\n      <td>317.524882</td>\n      <td>317.524882</td>\n      <td>317.524882</td>\n      <td>317.524882</td>\n      <td>317.524882</td>\n      <td>317.524882</td>\n      <td>317.524882</td>\n      <td>317.524882</td>\n      <td>317.524882</td>\n      <td>317.524882</td>\n    </tr>\n  </tbody>\n</table>\n<p>1 rows × 105 columns</p>\n</div>"
     },
     "execution_count": 4,
     "metadata": {},
     "output_type": "execute_result"
    }
   ],
   "source": [
    "data"
   ],
   "metadata": {
    "collapsed": false,
    "ExecuteTime": {
     "end_time": "2024-02-06T10:27:19.018070Z",
     "start_time": "2024-02-06T10:27:18.999552Z"
    }
   },
   "id": "f6805c46eab901c4",
   "execution_count": 4
  },
  {
   "cell_type": "code",
   "outputs": [],
   "source": [],
   "metadata": {
    "collapsed": false
   },
   "id": "464ebab760e7b6ce"
  }
 ],
 "metadata": {
  "kernelspec": {
   "display_name": "Python 3",
   "language": "python",
   "name": "python3"
  },
  "language_info": {
   "codemirror_mode": {
    "name": "ipython",
    "version": 2
   },
   "file_extension": ".py",
   "mimetype": "text/x-python",
   "name": "python",
   "nbconvert_exporter": "python",
   "pygments_lexer": "ipython2",
   "version": "2.7.6"
  }
 },
 "nbformat": 4,
 "nbformat_minor": 5
}
