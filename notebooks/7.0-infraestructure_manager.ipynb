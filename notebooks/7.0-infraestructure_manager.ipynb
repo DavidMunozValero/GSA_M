{
 "cells": [
  {
   "cell_type": "markdown",
   "source": [
    "# Scheduled trains maximization with GSA"
   ],
   "metadata": {
    "collapsed": false
   },
   "id": "36c0c7277ba65211"
  },
  {
   "cell_type": "markdown",
   "source": [
    "## 0. Load libraries"
   ],
   "metadata": {
    "collapsed": false
   },
   "id": "73a83a2d7ca86b8c"
  },
  {
   "cell_type": "code",
   "outputs": [],
   "source": [
    "%load_ext autoreload\n",
    "%autoreload 2\n",
    "\n",
    "import numpy as np\n",
    "\n",
    "from src.entities import GSA\n",
    "\n",
    "from typing import Union"
   ],
   "metadata": {
    "collapsed": false,
    "ExecuteTime": {
     "end_time": "2024-03-07T18:05:24.884123Z",
     "start_time": "2024-03-07T18:05:24.867912Z"
    }
   },
   "id": "c3cc59d5610d418",
   "execution_count": 1
  },
  {
   "cell_type": "markdown",
   "source": [],
   "metadata": {
    "collapsed": false
   },
   "id": "ece5c9d541dc7178"
  },
  {
   "cell_type": "markdown",
   "source": [
    "## 1. Define corridor\n",
    "\n",
    "As an example, we will use the Spanish south high-speed railway corridor.\n",
    "\n"
   ],
   "metadata": {
    "collapsed": false
   },
   "id": "d4c480b287062f67"
  },
  {
   "cell_type": "code",
   "outputs": [],
   "source": [
    "# Define corridor\n",
    "\n",
    "corridor = {\"MAD\": {\n",
    "                \"CIU\": {\n",
    "                    \"COR\": {\n",
    "                        \"SEV\": {\n",
    "                            \"CAD\": {}\n",
    "                        },\n",
    "                        \"PGE\": {\n",
    "                            \"ANT\": {\n",
    "                                \"GRA\": {},\n",
    "                                \"MAL\": {}\n",
    "                                    }\n",
    "                                }\n",
    "                            }\n",
    "                        }\n",
    "                    }\n",
    "            }"
   ],
   "metadata": {
    "collapsed": false,
    "ExecuteTime": {
     "end_time": "2024-03-07T18:05:27.303620Z",
     "start_time": "2024-03-07T18:05:27.192132Z"
    }
   },
   "id": "909d19737ed8bbd6",
   "execution_count": 2
  },
  {
   "cell_type": "markdown",
   "source": [
    "### 1.1. Get lines from corridor"
   ],
   "metadata": {
    "collapsed": false
   },
   "id": "9e9bd0d3a359bc93"
  },
  {
   "cell_type": "code",
   "outputs": [
    {
     "data": {
      "text/plain": "[['MAD', 'CIU', 'COR', 'SEV', 'CAD'],\n ['MAD', 'CIU', 'COR', 'PGE', 'ANT', 'GRA'],\n ['MAD', 'CIU', 'COR', 'PGE', 'ANT', 'MAL']]"
     },
     "execution_count": 3,
     "metadata": {},
     "output_type": "execute_result"
    }
   ],
   "source": [
    "def get_lines(corridor: dict, path: Union[list, None]=None) -> list:\n",
    "    \"\"\"\n",
    "    Get all the lines in the corridor\n",
    "    \n",
    "    Args:\n",
    "        corridor (dict): dictionary with the corridor structure\n",
    "        path (list, optional): list of nodes\n",
    "    \n",
    "    Returns:\n",
    "        list of lines\n",
    "    \"\"\"\n",
    "    if path is None:\n",
    "        path = []\n",
    "\n",
    "    lines = []\n",
    "    for node, child in corridor.items():\n",
    "        new_path = path + [node]\n",
    "        if not child:  # If the node has no children, it is a leaf\n",
    "            lines.append(new_path)\n",
    "        else:\n",
    "            lines.extend(get_lines(child, new_path))  # If the node has children, we call the function recursively\n",
    "\n",
    "    return lines\n",
    "\n",
    "get_lines(corridor)"
   ],
   "metadata": {
    "collapsed": false,
    "ExecuteTime": {
     "end_time": "2024-03-07T18:05:37.520371Z",
     "start_time": "2024-03-07T18:05:37.496980Z"
    }
   },
   "id": "7e72fdc681077602",
   "execution_count": 3
  },
  {
   "cell_type": "markdown",
   "source": [
    "### 1.2. Sample a random line, and a random route from the line"
   ],
   "metadata": {
    "collapsed": false
   },
   "id": "faf5010b519949bc"
  },
  {
   "cell_type": "code",
   "outputs": [
    {
     "name": "stdout",
     "output_type": "stream",
     "text": [
      "Sampled line: ['MAD', 'CIU', 'COR', 'PGE', 'ANT', 'MAL']\n",
      "Sampled route: ['COR', 'PGE', 'ANT', 'MAL']\n"
     ]
    }
   ],
   "source": [
    "def sample_line(lines: list) -> list:\n",
    "    \"\"\"\n",
    "    Sample a random line from the list of lines\n",
    "    \n",
    "    Args:\n",
    "        lines (list): list of lines\n",
    "    \n",
    "    Returns:\n",
    "        list: random line\n",
    "    \"\"\"\n",
    "    return lines[np.random.randint(len(lines))] \n",
    "\n",
    "def sample_route(line: list) -> list:\n",
    "    \"\"\"\n",
    "    Sample a random route from line. At least two stations.\n",
    "    \n",
    "    Args:\n",
    "        line (list): list of stations\n",
    "        \n",
    "    Returns:\n",
    "        list: random route\n",
    "    \"\"\"\n",
    "    return line[np.random.randint(0, len(line)-1):]\n",
    "\n",
    "lines = get_lines(corridor)\n",
    "\n",
    "line = sample_line(lines)\n",
    "print(f\"Sampled line: {line}\")\n",
    "\n",
    "# Sample a random route from line (at least two stations)\n",
    "route = sample_route(line)\n",
    "print(f\"Sampled route: {route}\")"
   ],
   "metadata": {
    "collapsed": false,
    "ExecuteTime": {
     "end_time": "2024-03-07T18:05:41.758285Z",
     "start_time": "2024-03-07T18:05:41.739396Z"
    }
   },
   "id": "917d36d06e6f3374",
   "execution_count": 4
  },
  {
   "cell_type": "markdown",
   "source": [
    "### 1.3 Generate random timetable for a route\n",
    "\n",
    "- Times in minutes.\n",
    "- Initial time is randomized between 0 and 24*60 (24 hours).\n",
    "- The time between stations is also randomized between 30 and 120 minutes.\n",
    "- The time to dwell at each station is randomized between 2 and 8 minutes."
   ],
   "metadata": {
    "collapsed": false
   },
   "id": "6e390cc1da09a835"
  },
  {
   "cell_type": "code",
   "outputs": [
    {
     "data": {
      "text/plain": "{'COR': (168, 168), 'PGE': (283, 287), 'ANT': (376, 379), 'MAL': (423, 423)}"
     },
     "execution_count": 5,
     "metadata": {},
     "output_type": "execute_result"
    }
   ],
   "source": [
    "def get_timetable(route: list) -> dict:\n",
    "    \"\"\"\n",
    "    Generate random timetable for route r\n",
    "    \n",
    "    Args:\n",
    "        route (list): list of stations\n",
    "    \n",
    "    Returns:\n",
    "        dict: timetable\n",
    "    \"\"\"\n",
    "    timetable = {}\n",
    "    AT = np.random.randint(0, 24*60)\n",
    "    DT = AT\n",
    "    for i, sta in enumerate(route):\n",
    "        if i == 0 or i == len(route)-1:\n",
    "            timetable[sta] = (AT, AT)\n",
    "        else:\n",
    "            timetable[sta] = (AT, DT)\n",
    "            \n",
    "        AT += np.random.randint(30, 120)\n",
    "        DT = AT + np.random.randint(2, 8)\n",
    "        \n",
    "    return timetable\n",
    "\n",
    "get_timetable(route)"
   ],
   "metadata": {
    "collapsed": false,
    "ExecuteTime": {
     "end_time": "2024-03-07T18:05:43.679525Z",
     "start_time": "2024-03-07T18:05:43.664440Z"
    }
   },
   "id": "a792ce7accd0a54f",
   "execution_count": 5
  },
  {
   "cell_type": "markdown",
   "source": [
    "## 2. Generate as many requested services as needed"
   ],
   "metadata": {
    "collapsed": false
   },
   "id": "fd5180faca0e8a01"
  },
  {
   "cell_type": "code",
   "outputs": [
    {
     "data": {
      "text/plain": "{1: {'MAD': (1429, 1429),\n  'CIU': (1506, 1509),\n  'COR': (1622, 1624),\n  'SEV': (1674, 1676),\n  'CAD': (1709, 1709)},\n 2: {'CIU': (841, 841),\n  'COR': (903, 906),\n  'PGE': (974, 976),\n  'ANT': (1025, 1028),\n  'GRA': (1125, 1125)},\n 3: {'MAD': (220, 220),\n  'CIU': (329, 332),\n  'COR': (391, 393),\n  'PGE': (496, 501),\n  'ANT': (566, 568),\n  'MAL': (638, 638)},\n 4: {'MAD': (825, 825),\n  'CIU': (867, 870),\n  'COR': (951, 957),\n  'SEV': (1002, 1009),\n  'CAD': (1037, 1037)},\n 5: {'MAD': (1176, 1176),\n  'CIU': (1207, 1214),\n  'COR': (1301, 1308),\n  'PGE': (1407, 1410),\n  'ANT': (1468, 1473),\n  'GRA': (1576, 1576)},\n 6: {'COR': (1220, 1220),\n  'PGE': (1335, 1337),\n  'ANT': (1435, 1439),\n  'GRA': (1535, 1535)},\n 7: {'MAD': (95, 95),\n  'CIU': (170, 173),\n  'COR': (244, 250),\n  'SEV': (295, 301),\n  'CAD': (330, 330)},\n 8: {'COR': (1047, 1047), 'SEV': (1106, 1113), 'CAD': (1208, 1208)},\n 9: {'PGE': (533, 533), 'ANT': (619, 623), 'GRA': (729, 729)},\n 10: {'SEV': (1352, 1352), 'CAD': (1408, 1408)},\n 11: {'MAD': (193, 193),\n  'CIU': (290, 297),\n  'COR': (409, 413),\n  'SEV': (481, 486),\n  'CAD': (569, 569)},\n 12: {'PGE': (32, 32), 'ANT': (149, 156), 'GRA': (197, 197)},\n 13: {'COR': (1155, 1155),\n  'PGE': (1245, 1247),\n  'ANT': (1314, 1321),\n  'MAL': (1422, 1422)},\n 14: {'SEV': (524, 524), 'CAD': (572, 572)},\n 15: {'CIU': (1196, 1196),\n  'COR': (1315, 1318),\n  'PGE': (1424, 1430),\n  'ANT': (1468, 1472),\n  'GRA': (1499, 1499)},\n 16: {'COR': (783, 783), 'SEV': (838, 841), 'CAD': (919, 919)},\n 17: {'SEV': (534, 534), 'CAD': (641, 641)},\n 18: {'COR': (756, 756),\n  'PGE': (871, 873),\n  'ANT': (983, 989),\n  'MAL': (1089, 1089)},\n 19: {'PGE': (1396, 1396), 'ANT': (1465, 1472), 'GRA': (1562, 1562)},\n 20: {'COR': (193, 193),\n  'PGE': (312, 316),\n  'ANT': (367, 372),\n  'GRA': (446, 446)},\n 21: {'PGE': (1106, 1106), 'ANT': (1225, 1228), 'MAL': (1278, 1278)},\n 22: {'CIU': (1422, 1422),\n  'COR': (1533, 1539),\n  'PGE': (1633, 1637),\n  'ANT': (1738, 1740),\n  'GRA': (1786, 1786)},\n 23: {'CIU': (402, 402),\n  'COR': (503, 505),\n  'PGE': (612, 619),\n  'ANT': (662, 669),\n  'GRA': (777, 777)},\n 24: {'COR': (754, 754),\n  'PGE': (803, 805),\n  'ANT': (836, 843),\n  'GRA': (921, 921)},\n 25: {'CIU': (649, 649),\n  'COR': (739, 746),\n  'PGE': (849, 851),\n  'ANT': (920, 923),\n  'MAL': (1038, 1038)},\n 26: {'CIU': (1114, 1114),\n  'COR': (1170, 1177),\n  'SEV': (1278, 1282),\n  'CAD': (1311, 1311)},\n 27: {'CIU': (224, 224),\n  'COR': (305, 310),\n  'SEV': (358, 362),\n  'CAD': (409, 409)},\n 28: {'PGE': (596, 596), 'ANT': (705, 711), 'MAL': (771, 771)},\n 29: {'COR': (1381, 1381),\n  'PGE': (1443, 1447),\n  'ANT': (1557, 1564),\n  'GRA': (1642, 1642)},\n 30: {'ANT': (792, 792), 'MAL': (843, 843)},\n 31: {'COR': (1270, 1270),\n  'PGE': (1317, 1319),\n  'ANT': (1401, 1404),\n  'MAL': (1481, 1481)},\n 32: {'PGE': (714, 714), 'ANT': (796, 800), 'GRA': (860, 860)},\n 33: {'PGE': (450, 450), 'ANT': (525, 528), 'GRA': (629, 629)},\n 34: {'COR': (753, 753),\n  'PGE': (794, 801),\n  'ANT': (841, 845),\n  'GRA': (890, 890)},\n 35: {'SEV': (993, 993), 'CAD': (1043, 1043)},\n 36: {'CIU': (629, 629),\n  'COR': (708, 711),\n  'SEV': (783, 788),\n  'CAD': (882, 882)},\n 37: {'SEV': (807, 807), 'CAD': (900, 900)},\n 38: {'ANT': (1255, 1255), 'GRA': (1334, 1334)},\n 39: {'MAD': (218, 218),\n  'CIU': (266, 272),\n  'COR': (384, 386),\n  'SEV': (424, 430),\n  'CAD': (515, 515)},\n 40: {'ANT': (190, 190), 'MAL': (304, 304)},\n 41: {'PGE': (771, 771), 'ANT': (866, 869), 'MAL': (914, 914)},\n 42: {'COR': (868, 868), 'SEV': (904, 908), 'CAD': (1001, 1001)},\n 43: {'SEV': (142, 142), 'CAD': (223, 223)},\n 44: {'PGE': (1351, 1351), 'ANT': (1446, 1448), 'GRA': (1489, 1489)},\n 45: {'PGE': (1021, 1021), 'ANT': (1116, 1118), 'GRA': (1227, 1227)},\n 46: {'ANT': (552, 552), 'MAL': (618, 618)},\n 47: {'CIU': (470, 470),\n  'COR': (523, 527),\n  'SEV': (566, 570),\n  'CAD': (648, 648)},\n 48: {'COR': (622, 622),\n  'PGE': (724, 727),\n  'ANT': (841, 847),\n  'MAL': (872, 872)},\n 49: {'CIU': (895, 895),\n  'COR': (933, 937),\n  'PGE': (994, 999),\n  'ANT': (1030, 1036),\n  'GRA': (1117, 1117)},\n 50: {'ANT': (643, 643), 'GRA': (754, 754)},\n 51: {'COR': (1051, 1051), 'SEV': (1146, 1151), 'CAD': (1264, 1264)},\n 52: {'ANT': (810, 810), 'GRA': (860, 860)},\n 53: {'PGE': (7, 7), 'ANT': (124, 130), 'MAL': (235, 235)},\n 54: {'SEV': (1302, 1302), 'CAD': (1410, 1410)},\n 55: {'COR': (1209, 1209), 'SEV': (1281, 1286), 'CAD': (1364, 1364)},\n 56: {'MAD': (573, 573),\n  'CIU': (638, 640),\n  'COR': (674, 681),\n  'PGE': (790, 796),\n  'ANT': (877, 880),\n  'MAL': (985, 985)},\n 57: {'CIU': (1007, 1007),\n  'COR': (1110, 1112),\n  'SEV': (1144, 1149),\n  'CAD': (1205, 1205)},\n 58: {'COR': (1334, 1334),\n  'PGE': (1381, 1388),\n  'ANT': (1489, 1492),\n  'MAL': (1586, 1586)},\n 59: {'PGE': (570, 570), 'ANT': (674, 678), 'MAL': (760, 760)},\n 60: {'ANT': (686, 686), 'MAL': (757, 757)},\n 61: {'COR': (955, 955),\n  'PGE': (1035, 1037),\n  'ANT': (1136, 1141),\n  'MAL': (1198, 1198)},\n 62: {'MAD': (1225, 1225),\n  'CIU': (1276, 1282),\n  'COR': (1367, 1370),\n  'PGE': (1453, 1460),\n  'ANT': (1503, 1508),\n  'GRA': (1598, 1598)},\n 63: {'ANT': (991, 991), 'GRA': (1095, 1095)},\n 64: {'PGE': (528, 528), 'ANT': (620, 627), 'MAL': (687, 687)},\n 65: {'COR': (537, 537), 'SEV': (633, 636), 'CAD': (705, 705)},\n 66: {'ANT': (273, 273), 'GRA': (358, 358)},\n 67: {'COR': (1117, 1117), 'SEV': (1223, 1228), 'CAD': (1338, 1338)},\n 68: {'CIU': (33, 33),\n  'COR': (135, 138),\n  'SEV': (195, 199),\n  'CAD': (259, 259)},\n 69: {'ANT': (1189, 1189), 'MAL': (1256, 1256)},\n 70: {'MAD': (1019, 1019),\n  'CIU': (1063, 1066),\n  'COR': (1146, 1153),\n  'SEV': (1257, 1262),\n  'CAD': (1321, 1321)},\n 71: {'MAD': (736, 736),\n  'CIU': (819, 826),\n  'COR': (902, 909),\n  'PGE': (1018, 1022),\n  'ANT': (1095, 1101),\n  'MAL': (1164, 1164)},\n 72: {'CIU': (964, 964),\n  'COR': (1005, 1012),\n  'PGE': (1073, 1078),\n  'ANT': (1172, 1176),\n  'MAL': (1289, 1289)},\n 73: {'PGE': (536, 536), 'ANT': (611, 615), 'MAL': (719, 719)},\n 74: {'MAD': (883, 883),\n  'CIU': (969, 973),\n  'COR': (1011, 1014),\n  'SEV': (1120, 1123),\n  'CAD': (1195, 1195)},\n 75: {'PGE': (1231, 1231), 'ANT': (1332, 1339), 'MAL': (1428, 1428)},\n 76: {'MAD': (700, 700),\n  'CIU': (791, 798),\n  'COR': (831, 837),\n  'PGE': (918, 921),\n  'ANT': (963, 967),\n  'GRA': (1048, 1048)},\n 77: {'COR': (71, 71),\n  'PGE': (141, 148),\n  'ANT': (253, 260),\n  'GRA': (359, 359)},\n 78: {'CIU': (208, 208),\n  'COR': (302, 306),\n  'SEV': (357, 360),\n  'CAD': (431, 431)},\n 79: {'PGE': (748, 748), 'ANT': (782, 785), 'MAL': (845, 845)},\n 80: {'ANT': (477, 477), 'MAL': (584, 584)},\n 81: {'COR': (914, 914),\n  'PGE': (989, 994),\n  'ANT': (1025, 1028),\n  'GRA': (1125, 1125)},\n 82: {'COR': (409, 409),\n  'PGE': (478, 484),\n  'ANT': (537, 539),\n  'MAL': (651, 651)},\n 83: {'SEV': (402, 402), 'CAD': (473, 473)},\n 84: {'CIU': (528, 528),\n  'COR': (559, 565),\n  'SEV': (641, 644),\n  'CAD': (683, 683)},\n 85: {'MAD': (1080, 1080),\n  'CIU': (1162, 1168),\n  'COR': (1197, 1201),\n  'SEV': (1297, 1299),\n  'CAD': (1382, 1382)},\n 86: {'SEV': (712, 712), 'CAD': (773, 773)},\n 87: {'COR': (13, 13), 'PGE': (71, 75), 'ANT': (139, 142), 'GRA': (237, 237)},\n 88: {'CIU': (1315, 1315),\n  'COR': (1370, 1376),\n  'PGE': (1489, 1491),\n  'ANT': (1588, 1593),\n  'MAL': (1632, 1632)},\n 89: {'CIU': (506, 506),\n  'COR': (602, 606),\n  'SEV': (658, 663),\n  'CAD': (730, 730)},\n 90: {'ANT': (1086, 1086), 'MAL': (1195, 1195)},\n 91: {'MAD': (340, 340),\n  'CIU': (409, 411),\n  'COR': (443, 450),\n  'PGE': (491, 497),\n  'ANT': (548, 550),\n  'MAL': (659, 659)},\n 92: {'ANT': (1356, 1356), 'MAL': (1459, 1459)},\n 93: {'ANT': (1179, 1179), 'MAL': (1286, 1286)},\n 94: {'COR': (1136, 1136), 'SEV': (1219, 1222), 'CAD': (1319, 1319)},\n 95: {'MAD': (580, 580),\n  'CIU': (693, 699),\n  'COR': (749, 755),\n  'SEV': (838, 842),\n  'CAD': (909, 909)},\n 96: {'COR': (1035, 1035),\n  'PGE': (1118, 1122),\n  'ANT': (1220, 1223),\n  'MAL': (1319, 1319)},\n 97: {'CIU': (968, 968),\n  'COR': (1013, 1018),\n  'PGE': (1060, 1064),\n  'ANT': (1171, 1178),\n  'GRA': (1254, 1254)},\n 98: {'COR': (658, 658), 'SEV': (723, 727), 'CAD': (764, 764)},\n 99: {'COR': (957, 957),\n  'PGE': (1045, 1050),\n  'ANT': (1118, 1123),\n  'GRA': (1183, 1183)},\n 100: {'PGE': (1133, 1133), 'ANT': (1195, 1199), 'MAL': (1291, 1291)},\n 101: {'MAD': (892, 892),\n  'CIU': (990, 997),\n  'COR': (1061, 1068),\n  'PGE': (1137, 1144),\n  'ANT': (1184, 1191),\n  'MAL': (1237, 1237)},\n 102: {'MAD': (498, 498),\n  'CIU': (550, 555),\n  'COR': (639, 641),\n  'PGE': (676, 681),\n  'ANT': (761, 763),\n  'MAL': (833, 833)},\n 103: {'CIU': (281, 281),\n  'COR': (359, 365),\n  'PGE': (460, 462),\n  'ANT': (496, 502),\n  'MAL': (541, 541)},\n 104: {'CIU': (424, 424),\n  'COR': (493, 496),\n  'SEV': (559, 561),\n  'CAD': (654, 654)},\n 105: {'COR': (456, 456), 'SEV': (523, 525), 'CAD': (603, 603)},\n 106: {'COR': (1092, 1092),\n  'PGE': (1154, 1159),\n  'ANT': (1204, 1209),\n  'MAL': (1292, 1292)},\n 107: {'COR': (100, 100), 'SEV': (202, 208), 'CAD': (254, 254)},\n 108: {'SEV': (267, 267), 'CAD': (362, 362)},\n 109: {'PGE': (143, 143), 'ANT': (246, 253), 'MAL': (343, 343)},\n 110: {'COR': (26, 26),\n  'PGE': (131, 136),\n  'ANT': (218, 220),\n  'GRA': (283, 283)},\n 111: {'MAD': (1090, 1090),\n  'CIU': (1152, 1155),\n  'COR': (1233, 1235),\n  'SEV': (1335, 1342),\n  'CAD': (1376, 1376)},\n 112: {'COR': (150, 150),\n  'PGE': (216, 220),\n  'ANT': (314, 319),\n  'MAL': (349, 349)},\n 113: {'COR': (262, 262),\n  'PGE': (301, 306),\n  'ANT': (337, 342),\n  'GRA': (448, 448)},\n 114: {'CIU': (1094, 1094),\n  'COR': (1125, 1131),\n  'SEV': (1215, 1222),\n  'CAD': (1297, 1297)},\n 115: {'PGE': (348, 348), 'ANT': (378, 381), 'MAL': (465, 465)},\n 116: {'CIU': (622, 622),\n  'COR': (667, 671),\n  'SEV': (720, 726),\n  'CAD': (784, 784)},\n 117: {'COR': (1257, 1257), 'SEV': (1357, 1363), 'CAD': (1462, 1462)},\n 118: {'CIU': (339, 339),\n  'COR': (422, 425),\n  'SEV': (534, 536),\n  'CAD': (624, 624)},\n 119: {'SEV': (348, 348), 'CAD': (463, 463)},\n 120: {'COR': (1346, 1346),\n  'PGE': (1421, 1423),\n  'ANT': (1506, 1511),\n  'MAL': (1576, 1576)},\n 121: {'ANT': (67, 67), 'GRA': (157, 157)},\n 122: {'MAD': (231, 231),\n  'CIU': (291, 294),\n  'COR': (402, 404),\n  'SEV': (485, 490),\n  'CAD': (557, 557)},\n 123: {'COR': (141, 141),\n  'PGE': (246, 250),\n  'ANT': (293, 296),\n  'GRA': (375, 375)},\n 124: {'COR': (1424, 1424),\n  'PGE': (1518, 1523),\n  'ANT': (1609, 1615),\n  'GRA': (1691, 1691)},\n 125: {'SEV': (69, 69), 'CAD': (119, 119)},\n 126: {'SEV': (254, 254), 'CAD': (326, 326)},\n 127: {'CIU': (593, 593),\n  'COR': (697, 700),\n  'SEV': (816, 819),\n  'CAD': (893, 893)},\n 128: {'PGE': (1344, 1344), 'ANT': (1375, 1378), 'GRA': (1454, 1454)},\n 129: {'PGE': (302, 302), 'ANT': (401, 407), 'MAL': (445, 445)},\n 130: {'CIU': (1303, 1303),\n  'COR': (1411, 1415),\n  'PGE': (1509, 1512),\n  'ANT': (1553, 1556),\n  'MAL': (1639, 1639)},\n 131: {'CIU': (787, 787),\n  'COR': (821, 826),\n  'SEV': (896, 902),\n  'CAD': (965, 965)},\n 132: {'PGE': (1318, 1318), 'ANT': (1404, 1411), 'MAL': (1522, 1522)},\n 133: {'MAD': (980, 980),\n  'CIU': (1056, 1062),\n  'COR': (1097, 1104),\n  'SEV': (1150, 1154),\n  'CAD': (1204, 1204)},\n 134: {'ANT': (157, 157), 'GRA': (202, 202)},\n 135: {'CIU': (792, 792),\n  'COR': (869, 874),\n  'PGE': (964, 968),\n  'ANT': (1083, 1086),\n  'MAL': (1118, 1118)},\n 136: {'CIU': (1393, 1393),\n  'COR': (1466, 1470),\n  'SEV': (1525, 1529),\n  'CAD': (1595, 1595)},\n 137: {'COR': (447, 447),\n  'PGE': (550, 552),\n  'ANT': (616, 622),\n  'GRA': (729, 729)},\n 138: {'COR': (264, 264), 'SEV': (340, 346), 'CAD': (408, 408)},\n 139: {'MAD': (128, 128),\n  'CIU': (209, 214),\n  'COR': (252, 258),\n  'SEV': (318, 321),\n  'CAD': (415, 415)},\n 140: {'CIU': (683, 683),\n  'COR': (781, 788),\n  'PGE': (890, 897),\n  'ANT': (986, 992),\n  'MAL': (1020, 1020)},\n 141: {'CIU': (1318, 1318),\n  'COR': (1431, 1434),\n  'PGE': (1508, 1511),\n  'ANT': (1577, 1580),\n  'MAL': (1614, 1614)},\n 142: {'MAD': (1054, 1054),\n  'CIU': (1127, 1134),\n  'COR': (1232, 1238),\n  'SEV': (1266, 1272),\n  'CAD': (1359, 1359)},\n 143: {'PGE': (1277, 1277), 'ANT': (1377, 1382), 'GRA': (1447, 1447)},\n 144: {'PGE': (118, 118), 'ANT': (149, 156), 'GRA': (262, 262)},\n 145: {'COR': (450, 450),\n  'PGE': (526, 529),\n  'ANT': (585, 588),\n  'MAL': (642, 642)},\n 146: {'MAD': (43, 43),\n  'CIU': (148, 150),\n  'COR': (225, 227),\n  'PGE': (279, 285),\n  'ANT': (346, 349),\n  'GRA': (405, 405)},\n 147: {'ANT': (1177, 1177), 'GRA': (1207, 1207)},\n 148: {'PGE': (1041, 1041), 'ANT': (1081, 1083), 'MAL': (1154, 1154)},\n 149: {'PGE': (383, 383), 'ANT': (471, 478), 'GRA': (529, 529)},\n 150: {'PGE': (1080, 1080), 'ANT': (1133, 1139), 'MAL': (1250, 1250)},\n 151: {'COR': (967, 967),\n  'PGE': (1024, 1030),\n  'ANT': (1122, 1126),\n  'GRA': (1188, 1188)},\n 152: {'MAD': (1332, 1332),\n  'CIU': (1444, 1450),\n  'COR': (1505, 1512),\n  'PGE': (1607, 1613),\n  'ANT': (1670, 1676),\n  'GRA': (1724, 1724)},\n 153: {'PGE': (283, 283), 'ANT': (397, 404), 'MAL': (490, 490)},\n 154: {'MAD': (22, 22),\n  'CIU': (81, 83),\n  'COR': (139, 143),\n  'PGE': (236, 240),\n  'ANT': (280, 287),\n  'GRA': (335, 335)},\n 155: {'SEV': (1320, 1320), 'CAD': (1402, 1402)},\n 156: {'MAD': (96, 96),\n  'CIU': (126, 131),\n  'COR': (227, 234),\n  'PGE': (324, 327),\n  'ANT': (390, 395),\n  'GRA': (448, 448)},\n 157: {'MAD': (967, 967),\n  'CIU': (1002, 1008),\n  'COR': (1096, 1098),\n  'SEV': (1165, 1171),\n  'CAD': (1240, 1240)},\n 158: {'SEV': (497, 497), 'CAD': (546, 546)},\n 159: {'ANT': (981, 981), 'GRA': (1036, 1036)},\n 160: {'COR': (913, 913),\n  'PGE': (989, 992),\n  'ANT': (1067, 1072),\n  'MAL': (1108, 1108)},\n 161: {'MAD': (1204, 1204),\n  'CIU': (1287, 1292),\n  'COR': (1351, 1356),\n  'PGE': (1449, 1454),\n  'ANT': (1502, 1506),\n  'GRA': (1575, 1575)},\n 162: {'MAD': (395, 395),\n  'CIU': (472, 479),\n  'COR': (540, 543),\n  'PGE': (636, 638),\n  'ANT': (676, 681),\n  'MAL': (778, 778)},\n 163: {'MAD': (1122, 1122),\n  'CIU': (1184, 1186),\n  'COR': (1225, 1232),\n  'SEV': (1335, 1341),\n  'CAD': (1366, 1366)},\n 164: {'COR': (990, 990), 'SEV': (1109, 1115), 'CAD': (1228, 1228)},\n 165: {'COR': (699, 699),\n  'PGE': (808, 815),\n  'ANT': (920, 923),\n  'GRA': (1035, 1035)},\n 166: {'PGE': (367, 367), 'ANT': (432, 438), 'MAL': (467, 467)},\n 167: {'PGE': (542, 542), 'ANT': (601, 604), 'GRA': (662, 662)},\n 168: {'COR': (1159, 1159),\n  'PGE': (1249, 1252),\n  'ANT': (1336, 1341),\n  'MAL': (1367, 1367)},\n 169: {'COR': (310, 310),\n  'PGE': (385, 391),\n  'ANT': (466, 471),\n  'GRA': (551, 551)},\n 170: {'CIU': (784, 784),\n  'COR': (861, 866),\n  'PGE': (932, 935),\n  'ANT': (1013, 1015),\n  'GRA': (1051, 1051)},\n 171: {'COR': (462, 462),\n  'PGE': (554, 560),\n  'ANT': (630, 632),\n  'GRA': (746, 746)},\n 172: {'COR': (1238, 1238), 'SEV': (1275, 1277), 'CAD': (1327, 1327)},\n 173: {'MAD': (234, 234),\n  'CIU': (322, 324),\n  'COR': (411, 416),\n  'SEV': (456, 461),\n  'CAD': (516, 516)},\n 174: {'PGE': (759, 759), 'ANT': (821, 826), 'GRA': (880, 880)},\n 175: {'CIU': (31, 31),\n  'COR': (141, 147),\n  'SEV': (256, 259),\n  'CAD': (304, 304)},\n 176: {'COR': (252, 252), 'SEV': (334, 338), 'CAD': (420, 420)},\n 177: {'ANT': (1183, 1183), 'GRA': (1288, 1288)},\n 178: {'CIU': (1281, 1281),\n  'COR': (1380, 1383),\n  'SEV': (1457, 1462),\n  'CAD': (1524, 1524)},\n 179: {'COR': (246, 246),\n  'PGE': (340, 343),\n  'ANT': (386, 388),\n  'GRA': (418, 418)},\n 180: {'CIU': (975, 975),\n  'COR': (1025, 1031),\n  'PGE': (1077, 1084),\n  'ANT': (1169, 1172),\n  'GRA': (1237, 1237)},\n 181: {'SEV': (172, 172), 'CAD': (237, 237)},\n 182: {'COR': (369, 369),\n  'PGE': (441, 446),\n  'ANT': (543, 550),\n  'GRA': (595, 595)},\n 183: {'COR': (266, 266), 'SEV': (299, 306), 'CAD': (339, 339)},\n 184: {'COR': (141, 141), 'SEV': (223, 227), 'CAD': (278, 278)},\n 185: {'ANT': (840, 840), 'MAL': (910, 910)},\n 186: {'MAD': (655, 655),\n  'CIU': (739, 745),\n  'COR': (848, 853),\n  'SEV': (940, 944),\n  'CAD': (975, 975)},\n 187: {'ANT': (783, 783), 'GRA': (871, 871)},\n 188: {'ANT': (1349, 1349), 'GRA': (1421, 1421)},\n 189: {'COR': (936, 936), 'SEV': (1007, 1009), 'CAD': (1042, 1042)},\n 190: {'MAD': (1312, 1312),\n  'CIU': (1407, 1409),\n  'COR': (1449, 1455),\n  'SEV': (1540, 1544),\n  'CAD': (1591, 1591)},\n 191: {'CIU': (847, 847),\n  'COR': (943, 949),\n  'PGE': (1026, 1033),\n  'ANT': (1064, 1068),\n  'GRA': (1149, 1149)},\n 192: {'ANT': (77, 77), 'GRA': (167, 167)},\n 193: {'COR': (1273, 1273),\n  'PGE': (1374, 1376),\n  'ANT': (1466, 1473),\n  'MAL': (1553, 1553)},\n 194: {'COR': (781, 781),\n  'PGE': (851, 853),\n  'ANT': (887, 890),\n  'GRA': (943, 943)},\n 195: {'CIU': (1387, 1387),\n  'COR': (1418, 1425),\n  'PGE': (1506, 1512),\n  'ANT': (1553, 1560),\n  'MAL': (1610, 1610)},\n 196: {'CIU': (723, 723),\n  'COR': (753, 758),\n  'PGE': (787, 790),\n  'ANT': (859, 863),\n  'MAL': (968, 968)},\n 197: {'COR': (298, 298),\n  'PGE': (384, 387),\n  'ANT': (426, 429),\n  'MAL': (496, 496)},\n 198: {'PGE': (560, 560), 'ANT': (679, 684), 'MAL': (780, 780)},\n 199: {'MAD': (673, 673),\n  'CIU': (720, 723),\n  'COR': (810, 814),\n  'PGE': (892, 899),\n  'ANT': (971, 974),\n  'MAL': (1082, 1082)},\n 200: {'ANT': (514, 514), 'MAL': (606, 606)}}"
     },
     "execution_count": 7,
     "metadata": {},
     "output_type": "execute_result"
    }
   ],
   "source": [
    "# Generate random requested timetable in corridor for a day t\n",
    "\n",
    "# Number of services:\n",
    "n_services = 200\n",
    "\n",
    "# 1) Generate random timetable\n",
    "schedule = {i: get_timetable(sample_route(sample_line(lines))) for i in range(1, n_services+1)}\n",
    "schedule"
   ],
   "metadata": {
    "collapsed": false,
    "ExecuteTime": {
     "end_time": "2024-03-07T18:05:49.088140Z",
     "start_time": "2024-03-07T18:05:49.043013Z"
    }
   },
   "id": "265b606822049620",
   "execution_count": 7
  },
  {
   "cell_type": "markdown",
   "source": [
    "## 3. Define feasibility function"
   ],
   "metadata": {
    "collapsed": false
   },
   "id": "94d44fe4c948a691"
  },
  {
   "cell_type": "markdown",
   "source": [
    "A service $ i $ is feasible (can be scheduled and, therefore, $ S_i $ take the value 1) if the following condition is met:\n",
    "\n",
    "$ | DT_{ij} - DT_{kj} | \\geq security\\_gap $\n",
    "\n",
    "Where:\n",
    "- $ DT_{ij} $ is the departure time for service $ i $ from station $ j $.\n",
    "- $  DT_{kj} $ is the departure time for service $ k $ from the same station $ j $.\n",
    "\n",
    "Inequality must be met for all services ($ k \\neq j $) that also operate at station $ j $ for service $ i $ to be feasible.\n",
    "\n",
    "1) Requests from the Railway Undertakings (RUs) are considered as a set of services that can be scheduled or not. The decision variable $ S_i $ is binary and takes the value 1 if the service $ i $ is scheduled and 0 otherwise.\n",
    "\n",
    "Service ID |  RU   |          Trip          |              Requested schedule              | \n",
    ":---: |:-----:|:----------------------:|:--------------------------------------------:|\n",
    "1 | Renfe |   `[MAD, BAR, FIG]`    |      `[(0, 0), (148, 152), (180, 180)]`      |\n",
    "2 | Ouigo | `[MAD, ZAR, BAR, FIG]` | `[(8, 8), (28, 30), (165, 167), (210, 210)]` |\n",
    "3 | Iryo  |   `[MAD, BAR, FIG]`    |     `[(30, 30), (180, 182), (225, 225)]`     |\n",
    "\n",
    "\n",
    "2) Get conflict matrices for each service. A conflict matrix is a binary matrix of 0's and 1's. A 1 appears in the outputs of services (different from the one we are analyzing) that interferes with a station of the service in question.\n",
    "\n",
    "Service 1: Has an interference with the service 2 at the departure from Madrid.\n",
    "\n",
    "Service ID | MAD | BAR | FIG |\n",
    ":---: | :---: | :---: | :---: |\n",
    "1 | 0 | 0 | 0 |\n",
    "2 | 1 | 0 | 0|\n",
    "3 | 0 | 0 | 0 |\n",
    "\n",
    "In order to be feasible, the following condition must be met:\n",
    "\n",
    "$ R_{S_1} = (S_1 \\cdot 0 + S_1 \\cdot 1 + S_3 \\cdot 0) + (S_1 \\cdot 0 + S_1 \\cdot 0 + S_3 \\cdot 0) +(S_1 \\cdot 0 + S_1 \\cdot 1 + S_3 \\cdot 0) = 0 $ \\\\\n",
    "\n",
    "Service 2: Has an interference with the service 1 at the departure from Madrid.\n",
    "\n",
    "ID servicio | MAD | ZAR | BAR | FIG |\n",
    ":---: | :---: | :---: | :---: | :---: |\n",
    "1 | 0 | 0 | 0 | 0 |\n",
    "2 | 1 | 0 | 0 | 0|\n",
    "3 | 0 | 0 | 0 | 0 |\n",
    "\n",
    "In order to be feasible, the following condition must be met:\n",
    "\n",
    "$ R_{S_2} = (S_1 \\cdot 1 + S_1 \\cdot 0 + S_3 \\cdot 0) + (S_1 \\cdot 0 + S_1 \\cdot 0 + S_3 \\cdot 0) +(S_1 \\cdot 0 + S_1 \\cdot 1 + S_3 \\cdot 0) = 0 $ \\\\\n",
    "\n",
    "Service 3: Does not have any interference with the other services.\n",
    "\n",
    "ID servicio | MAD | BAR | FIG |\n",
    ":---: |:---:| :---: | :---: |\n",
    "1 |  0  | 0 | 0 |\n",
    "2 |  0  | 0 | 0|\n",
    "3 |  0  | 0 | 0 |\n",
    "\n",
    "In order to be feasible, the following condition must be met:\n",
    "\n",
    "$ R_{S_2} = (S_1 \\cdot 0 + S_1 \\cdot 0 + S_3 \\cdot 0) + (S_1 \\cdot 0 + S_1 \\cdot 0 + S_3 \\cdot 0) +(S_1 \\cdot 0 + S_1 \\cdot 1 + S_3 \\cdot 0) \\leq 0 $ \\\\\n",
    "\n",
    "We can define a general restriction to check if the timetable is feasible or not:\n",
    "\n",
    "$ S_1 \\cdot R_{S_1} + S_2 \\cdot R_{S_2} + S_2 \\cdot R_{S_2} \\leq 0$\n",
    "\n",
    "This equation can be read as follows:\n",
    "\n",
    "- If a service $ S_i $ is planned, then its restrictions $ R_{S_i} $ must be met. If the service $ S_i $ is not planned, its own interferences do not have to be taken into account.\n",
    "- For the set of schedules to be feasible, there must be no conflict between any of the planned services (all the $ S_i $ that take the value $ 1 $)"
   ],
   "metadata": {
    "collapsed": false
   },
   "id": "5bdf711b89886526"
  },
  {
   "cell_type": "code",
   "outputs": [
    {
     "data": {
      "text/plain": "'\\nschedule = {1: {\\'MAD\\': (0, 0), \\'BAR\\': (148, 152), \\'FIG\\': (180, 180)},\\n            2: {\\'MAD\\': (8, 8), \\'ZAR\\': (28, 30), \\'BAR\\': (165, 167), \\'FIG\\': (210, 210)},\\n            3: {\\'MAD\\': (30, 30), \\'BAR\\': (180, 182), \\'FIG\\': (225, 225)}}\\n\\nsolution = {\"discrete\": [1, 0, 1]}\\n\\nis_feasible(solution)\\n'"
     },
     "execution_count": 8,
     "metadata": {},
     "output_type": "execute_result"
    }
   ],
   "source": [
    "def is_feasible(solution, security_gap=10):\n",
    "    \"\"\"\n",
    "    Check if the solution is feasible\n",
    "    \n",
    "    Args:\n",
    "        solution (dict): solution\n",
    "        security_gap (int, optional): security gap\n",
    "        \n",
    "    Returns:\n",
    "        bool: True if the solution is feasible, False otherwise\n",
    "    \"\"\"\n",
    "    solution = np.array(solution[\"discrete\"])\n",
    "    security_array = []\n",
    "    \n",
    "    # Get conflicts between services\n",
    "    for service in schedule:\n",
    "        service_sec_arr = []  # Build security matrix for service (columns are stops, rows are other services)\n",
    "        for service_k in schedule:\n",
    "          service_sec_row = [] \n",
    "          for stop in schedule[service]:\n",
    "            if service_k == service or stop not in schedule[service_k]:\n",
    "              service_sec_row.append(0)\n",
    "              continue\n",
    "        \n",
    "            if abs(schedule[service][stop][1] - schedule[service_k][stop][1]) < security_gap:\n",
    "              service_sec_row.append(1)\n",
    "            else:\n",
    "              service_sec_row.append(0)\n",
    "          service_sec_arr.append(service_sec_row)\n",
    "        \n",
    "        security_array.append(np.array(service_sec_arr))\n",
    "    \n",
    "    # Get array of security conflicts. If there is a conflict, the dot product will be different from zero\n",
    "    if not solution.dot(np.array([np.sum(solution.dot(ssa)) for ssa in security_array])):\n",
    "        return True\n",
    "    return False\n",
    "\n",
    "\"\"\"\n",
    "schedule = {1: {'MAD': (0, 0), 'BAR': (148, 152), 'FIG': (180, 180)},\n",
    "            2: {'MAD': (8, 8), 'ZAR': (28, 30), 'BAR': (165, 167), 'FIG': (210, 210)},\n",
    "            3: {'MAD': (30, 30), 'BAR': (180, 182), 'FIG': (225, 225)}}\n",
    "\n",
    "solution = {\"discrete\": [1, 0, 1]}\n",
    "\n",
    "is_feasible(solution)\n",
    "\"\"\""
   ],
   "metadata": {
    "collapsed": false,
    "ExecuteTime": {
     "end_time": "2024-03-07T18:05:55.799818Z",
     "start_time": "2024-03-07T18:05:55.778543Z"
    }
   },
   "id": "4651f7e11ceff212",
   "execution_count": 8
  },
  {
   "cell_type": "markdown",
   "source": [
    "# 4. Define objective function"
   ],
   "metadata": {
    "collapsed": false
   },
   "id": "8efa66edf845bce8"
  },
  {
   "cell_type": "code",
   "outputs": [],
   "source": [
    "def get_num_trains(solution):\n",
    "    scheduled_trains = np.sum(solution[\"discrete\"])\n",
    "    print(\"Requested number of trains: \", len(solution[\"discrete\"]))\n",
    "    print(\"Scheduled trains: \", scheduled_trains)\n",
    "    return scheduled_trains, 0"
   ],
   "metadata": {
    "collapsed": false,
    "ExecuteTime": {
     "end_time": "2024-03-07T18:05:58.544980Z",
     "start_time": "2024-03-07T18:05:58.529325Z"
    }
   },
   "id": "30100fad0a1a8188",
   "execution_count": 9
  },
  {
   "cell_type": "markdown",
   "source": [
    "# 5. Optimize with GSA"
   ],
   "metadata": {
    "collapsed": false
   },
   "id": "cb8a6162ac0d3535"
  },
  {
   "cell_type": "code",
   "outputs": [],
   "source": [
    "boundaries = {'real': [], 'discrete': [(0, 1) for _ in range(len(schedule))]}\n",
    "\n",
    "gsa_algo = GSA(objective_function=get_num_trains,\n",
    "               is_feasible=is_feasible,\n",
    "               r_dim=0,\n",
    "               d_dim=len(schedule),\n",
    "               boundaries=boundaries)"
   ],
   "metadata": {
    "collapsed": false,
    "ExecuteTime": {
     "end_time": "2024-03-07T18:06:51.690108Z",
     "start_time": "2024-03-07T18:06:51.671199Z"
    }
   },
   "id": "ab689475c3f9119a",
   "execution_count": 12
  },
  {
   "cell_type": "code",
   "outputs": [
    {
     "name": "stdout",
     "output_type": "stream",
     "text": [
      "Initializing positions of the individuals in the population...\n",
      "Positions of the individuals in the population successfully initialized!!\n",
      "GSA is optimizing  \"get_num_trains\"\n",
      "Requested number of trains:  200\n",
      "Scheduled trains:  15\n",
      "Requested number of trains:  200\n",
      "Scheduled trains:  13\n",
      "Requested number of trains:  200\n",
      "Scheduled trains:  6\n",
      "Requested number of trains:  200\n",
      "Scheduled trains:  13\n",
      "Requested number of trains:  200\n",
      "Scheduled trains:  8\n",
      "['At iteration 1 the best fitness is 15']\n",
      "Requested number of trains:  200\n",
      "Scheduled trains:  23\n",
      "Requested number of trains:  200\n",
      "Scheduled trains:  18\n",
      "Requested number of trains:  200\n",
      "Scheduled trains:  34\n",
      "Requested number of trains:  200\n",
      "Scheduled trains:  20\n",
      "Requested number of trains:  200\n",
      "Scheduled trains:  33\n",
      "['At iteration 2 the best fitness is 34']\n",
      "Requested number of trains:  200\n",
      "Scheduled trains:  26\n",
      "Requested number of trains:  200\n",
      "Scheduled trains:  34\n",
      "Requested number of trains:  200\n",
      "Scheduled trains:  31\n",
      "Requested number of trains:  200\n",
      "Scheduled trains:  30\n",
      "Requested number of trains:  200\n",
      "Scheduled trains:  23\n",
      "['At iteration 3 the best fitness is 34']\n",
      "Requested number of trains:  200\n",
      "Scheduled trains:  32\n",
      "Requested number of trains:  200\n",
      "Scheduled trains:  29\n",
      "Requested number of trains:  200\n",
      "Scheduled trains:  26\n",
      "Requested number of trains:  200\n",
      "Scheduled trains:  29\n",
      "Requested number of trains:  200\n",
      "Scheduled trains:  36\n",
      "['At iteration 4 the best fitness is 36']\n",
      "Requested number of trains:  200\n",
      "Scheduled trains:  28\n",
      "Requested number of trains:  200\n",
      "Scheduled trains:  30\n",
      "Requested number of trains:  200\n",
      "Scheduled trains:  29\n",
      "Requested number of trains:  200\n",
      "Scheduled trains:  34\n",
      "Requested number of trains:  200\n",
      "Scheduled trains:  25\n",
      "['At iteration 5 the best fitness is 36']\n",
      "Requested number of trains:  200\n",
      "Scheduled trains:  28\n",
      "Requested number of trains:  200\n",
      "Scheduled trains:  33\n",
      "Requested number of trains:  200\n",
      "Scheduled trains:  29\n",
      "Requested number of trains:  200\n",
      "Scheduled trains:  28\n",
      "Requested number of trains:  200\n",
      "Scheduled trains:  28\n",
      "['At iteration 6 the best fitness is 36']\n",
      "Requested number of trains:  200\n",
      "Scheduled trains:  33\n",
      "Requested number of trains:  200\n",
      "Scheduled trains:  38\n",
      "Requested number of trains:  200\n",
      "Scheduled trains:  32\n",
      "Requested number of trains:  200\n",
      "Scheduled trains:  35\n",
      "Requested number of trains:  200\n",
      "Scheduled trains:  28\n",
      "['At iteration 7 the best fitness is 38']\n",
      "Requested number of trains:  200\n",
      "Scheduled trains:  30\n",
      "Requested number of trains:  200\n",
      "Scheduled trains:  34\n",
      "Requested number of trains:  200\n",
      "Scheduled trains:  35\n",
      "Requested number of trains:  200\n",
      "Scheduled trains:  27\n",
      "Requested number of trains:  200\n",
      "Scheduled trains:  27\n",
      "['At iteration 8 the best fitness is 38']\n",
      "Requested number of trains:  200\n",
      "Scheduled trains:  31\n",
      "Requested number of trains:  200\n",
      "Scheduled trains:  31\n",
      "Requested number of trains:  200\n",
      "Scheduled trains:  32\n",
      "Requested number of trains:  200\n",
      "Scheduled trains:  32\n",
      "Requested number of trains:  200\n",
      "Scheduled trains:  33\n",
      "['At iteration 9 the best fitness is 38']\n",
      "Requested number of trains:  200\n",
      "Scheduled trains:  32\n",
      "Requested number of trains:  200\n",
      "Scheduled trains:  34\n",
      "Requested number of trains:  200\n",
      "Scheduled trains:  30\n",
      "Requested number of trains:  200\n",
      "Scheduled trains:  27\n",
      "Requested number of trains:  200\n",
      "Scheduled trains:  31\n",
      "['At iteration 10 the best fitness is 38']\n"
     ]
    }
   ],
   "source": [
    "gsa_algo.set_seed(seed=28)\n",
    "\n",
    "training_history = gsa_algo.optimize(population_size=5,\n",
    "                                     iters=10,\n",
    "                                     chaotic_constant=False,\n",
    "                                     repair_solution=False)"
   ],
   "metadata": {
    "collapsed": false,
    "ExecuteTime": {
     "end_time": "2024-03-07T18:06:55.899739Z",
     "start_time": "2024-03-07T18:06:52.203673Z"
    }
   },
   "id": "e2891b76674f9a9a",
   "execution_count": 13
  },
  {
   "cell_type": "code",
   "outputs": [],
   "source": [],
   "metadata": {
    "collapsed": false
   },
   "id": "459842e0e024fda2"
  }
 ],
 "metadata": {
  "kernelspec": {
   "display_name": "Python 3 (ipykernel)",
   "language": "python",
   "name": "python3"
  },
  "language_info": {
   "codemirror_mode": {
    "name": "ipython",
    "version": 3
   },
   "file_extension": ".py",
   "mimetype": "text/x-python",
   "name": "python",
   "nbconvert_exporter": "python",
   "pygments_lexer": "ipython3",
   "version": "3.9.6"
  }
 },
 "nbformat": 4,
 "nbformat_minor": 5
}
