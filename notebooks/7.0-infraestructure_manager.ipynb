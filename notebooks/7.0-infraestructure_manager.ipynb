{
 "cells": [
  {
   "cell_type": "code",
   "outputs": [],
   "source": [
    "%load_ext autoreload\n",
    "%autoreload 2\n",
    "\n",
    "import numpy as np\n",
    "\n",
    "from src.entities import GSA\n",
    "\n",
    "from typing import Union"
   ],
   "metadata": {
    "collapsed": false,
    "ExecuteTime": {
     "end_time": "2024-03-07T12:58:58.633113Z",
     "start_time": "2024-03-07T12:58:58.610569Z"
    }
   },
   "id": "c3cc59d5610d418",
   "execution_count": 1
  },
  {
   "cell_type": "code",
   "outputs": [],
   "source": [
    "# Define corridor\n",
    "\n",
    "corridor = {\"MAD\": {\n",
    "                \"CIU\": {\n",
    "                    \"COR\": {\n",
    "                        \"SEV\": {\n",
    "                            \"CAD\": {}\n",
    "                        },\n",
    "                        \"PGE\": {\n",
    "                            \"ANT\": {\n",
    "                                \"GRA\": {},\n",
    "                                \"MAL\": {}\n",
    "                                    }\n",
    "                                }\n",
    "                            }\n",
    "                        }\n",
    "                    }\n",
    "            }"
   ],
   "metadata": {
    "collapsed": false,
    "ExecuteTime": {
     "end_time": "2024-03-07T12:58:59.387305Z",
     "start_time": "2024-03-07T12:58:59.304246Z"
    }
   },
   "id": "909d19737ed8bbd6",
   "execution_count": 2
  },
  {
   "cell_type": "code",
   "outputs": [
    {
     "data": {
      "text/plain": "[['MAD', 'CIU', 'COR', 'SEV', 'CAD'],\n ['MAD', 'CIU', 'COR', 'PGE', 'ANT', 'GRA'],\n ['MAD', 'CIU', 'COR', 'PGE', 'ANT', 'MAL']]"
     },
     "execution_count": 3,
     "metadata": {},
     "output_type": "execute_result"
    }
   ],
   "source": [
    "# Get lines from corridor\n",
    "\n",
    "def get_lines(corridor: dict, path: Union[list, None]=None) -> list:\n",
    "    \"\"\"\n",
    "    Get all the lines in the corridor\n",
    "    \n",
    "    Args:\n",
    "        corridor (dict): dictionary with the corridor structure\n",
    "        path (list, optional): list of nodes\n",
    "    \n",
    "    Returns:\n",
    "        list of lines\n",
    "    \"\"\"\n",
    "    if path is None:\n",
    "        path = []\n",
    "\n",
    "    lines = []\n",
    "    for node, child in corridor.items():\n",
    "        new_path = path + [node]\n",
    "        if not child:  # If the node has no children, it is a leaf\n",
    "            lines.append(new_path)\n",
    "        else:\n",
    "            lines.extend(get_lines(child, new_path))  # If the node has children, we call the function recursively\n",
    "\n",
    "    return lines\n",
    "\n",
    "get_lines(corridor)"
   ],
   "metadata": {
    "collapsed": false,
    "ExecuteTime": {
     "end_time": "2024-03-07T12:59:00.031768Z",
     "start_time": "2024-03-07T12:59:00.018340Z"
    }
   },
   "id": "7e72fdc681077602",
   "execution_count": 3
  },
  {
   "cell_type": "code",
   "outputs": [
    {
     "name": "stdout",
     "output_type": "stream",
     "text": [
      "Sampled line: ['MAD', 'CIU', 'COR', 'SEV', 'CAD']\n",
      "Sampled route: ['MAD', 'CIU', 'COR', 'SEV', 'CAD']\n"
     ]
    }
   ],
   "source": [
    "def sample_line(lines: list) -> list:\n",
    "    \"\"\"\n",
    "    Sample a random line from the list of lines\n",
    "    \n",
    "    Args:\n",
    "        lines (list): list of lines\n",
    "    \n",
    "    Returns:\n",
    "        list: random line\n",
    "    \"\"\"\n",
    "    return lines[np.random.randint(len(lines))] \n",
    "\n",
    "def sample_route(line: list) -> list:\n",
    "    \"\"\"\n",
    "    Sample a random route from line\n",
    "    \n",
    "    Args:\n",
    "        line (list): list of stations\n",
    "        \n",
    "    Returns:\n",
    "        list: random route\n",
    "    \"\"\"\n",
    "    return line[np.random.randint(0, len(line)-1):]\n",
    "\n",
    "lines = get_lines(corridor)\n",
    "\n",
    "line = sample_line(lines)\n",
    "print(f\"Sampled line: {line}\")\n",
    "\n",
    "# Sample a random route from line (at least two stations)\n",
    "route = sample_route(line)\n",
    "print(f\"Sampled route: {route}\")"
   ],
   "metadata": {
    "collapsed": false,
    "ExecuteTime": {
     "end_time": "2024-03-07T12:59:00.736380Z",
     "start_time": "2024-03-07T12:59:00.722446Z"
    }
   },
   "id": "917d36d06e6f3374",
   "execution_count": 4
  },
  {
   "cell_type": "code",
   "outputs": [
    {
     "data": {
      "text/plain": "{'MAD': (773, 773),\n 'CIU': (851, 853),\n 'COR': (925, 930),\n 'SEV': (1017, 1023),\n 'CAD': (1092, 1092)}"
     },
     "execution_count": 5,
     "metadata": {},
     "output_type": "execute_result"
    }
   ],
   "source": [
    "def get_timetable(route: list) -> dict:\n",
    "    \"\"\"\n",
    "    Generate random timetable for route r\n",
    "    \n",
    "    Args:\n",
    "        route (list): list of stations\n",
    "    \n",
    "    Returns:\n",
    "        dict: timetable\n",
    "    \"\"\"\n",
    "    timetable = {}\n",
    "    AT = np.random.randint(0, 24*60)\n",
    "    DT = AT\n",
    "    for i, sta in enumerate(route):\n",
    "        if i == 0 or i == len(route)-1:\n",
    "            timetable[sta] = (AT, AT)\n",
    "        else:\n",
    "            timetable[sta] = (AT, DT)\n",
    "            \n",
    "        AT += np.random.randint(30, 120)\n",
    "        DT = AT + np.random.randint(2, 8)\n",
    "        \n",
    "    return timetable\n",
    "\n",
    "get_timetable(route)"
   ],
   "metadata": {
    "collapsed": false,
    "ExecuteTime": {
     "end_time": "2024-03-07T12:59:01.398381Z",
     "start_time": "2024-03-07T12:59:01.382583Z"
    }
   },
   "id": "a792ce7accd0a54f",
   "execution_count": 5
  },
  {
   "cell_type": "code",
   "outputs": [
    {
     "data": {
      "text/plain": "{1: {'PGE': (265, 265), 'ANT': (300, 304), 'GRA': (411, 411)},\n 2: {'ANT': (353, 353), 'GRA': (424, 424)},\n 3: {'ANT': (73, 73), 'MAL': (163, 163)},\n 4: {'MAD': (760, 760),\n  'CIU': (814, 819),\n  'COR': (924, 928),\n  'PGE': (996, 1001),\n  'ANT': (1081, 1087),\n  'GRA': (1128, 1128)},\n 5: {'PGE': (665, 665), 'ANT': (747, 749), 'MAL': (860, 860)},\n 6: {'MAD': (44, 44),\n  'CIU': (149, 155),\n  'COR': (251, 254),\n  'SEV': (325, 332),\n  'CAD': (386, 386)},\n 7: {'COR': (740, 740),\n  'PGE': (848, 851),\n  'ANT': (942, 948),\n  'MAL': (1037, 1037)},\n 8: {'MAD': (782, 782),\n  'CIU': (862, 868),\n  'COR': (969, 975),\n  'SEV': (1064, 1071),\n  'CAD': (1101, 1101)},\n 9: {'COR': (723, 723), 'SEV': (800, 804), 'CAD': (875, 875)},\n 10: {'MAD': (264, 264),\n  'CIU': (379, 384),\n  'COR': (446, 453),\n  'PGE': (490, 497),\n  'ANT': (582, 587),\n  'GRA': (659, 659)},\n 11: {'COR': (1437, 1437),\n  'PGE': (1468, 1475),\n  'ANT': (1536, 1539),\n  'MAL': (1603, 1603)},\n 12: {'MAD': (805, 805),\n  'CIU': (917, 920),\n  'COR': (958, 964),\n  'PGE': (999, 1001),\n  'ANT': (1058, 1061),\n  'MAL': (1139, 1139)},\n 13: {'COR': (378, 378),\n  'PGE': (425, 431),\n  'ANT': (466, 470),\n  'GRA': (585, 585)},\n 14: {'PGE': (1083, 1083), 'ANT': (1144, 1148), 'MAL': (1184, 1184)},\n 15: {'PGE': (103, 103), 'ANT': (202, 204), 'MAL': (252, 252)},\n 16: {'COR': (955, 955),\n  'PGE': (1063, 1069),\n  'ANT': (1141, 1146),\n  'MAL': (1188, 1188)},\n 17: {'SEV': (939, 939), 'CAD': (1027, 1027)},\n 18: {'SEV': (1096, 1096), 'CAD': (1167, 1167)},\n 19: {'PGE': (37, 37), 'ANT': (125, 128), 'GRA': (234, 234)},\n 20: {'COR': (506, 506), 'SEV': (594, 596), 'CAD': (666, 666)},\n 21: {'CIU': (974, 974),\n  'COR': (1054, 1060),\n  'PGE': (1143, 1149),\n  'ANT': (1205, 1207),\n  'GRA': (1324, 1324)},\n 22: {'CIU': (180, 180),\n  'COR': (285, 290),\n  'SEV': (381, 384),\n  'CAD': (478, 478)},\n 23: {'MAD': (1167, 1167),\n  'CIU': (1267, 1272),\n  'COR': (1386, 1390),\n  'PGE': (1460, 1463),\n  'ANT': (1558, 1563),\n  'MAL': (1654, 1654)},\n 24: {'ANT': (514, 514), 'GRA': (632, 632)},\n 25: {'MAD': (1014, 1014),\n  'CIU': (1098, 1103),\n  'COR': (1213, 1220),\n  'PGE': (1304, 1306),\n  'ANT': (1344, 1349),\n  'MAL': (1398, 1398)},\n 26: {'SEV': (163, 163), 'CAD': (256, 256)},\n 27: {'CIU': (1194, 1194),\n  'COR': (1256, 1263),\n  'SEV': (1320, 1323),\n  'CAD': (1421, 1421)},\n 28: {'CIU': (1281, 1281),\n  'COR': (1324, 1330),\n  'SEV': (1365, 1367),\n  'CAD': (1429, 1429)},\n 29: {'MAD': (542, 542),\n  'CIU': (583, 588),\n  'COR': (648, 650),\n  'PGE': (700, 706),\n  'ANT': (810, 813),\n  'GRA': (882, 882)},\n 30: {'CIU': (207, 207),\n  'COR': (264, 268),\n  'PGE': (358, 360),\n  'ANT': (452, 457),\n  'GRA': (487, 487)},\n 31: {'SEV': (1439, 1439), 'CAD': (1537, 1537)},\n 32: {'CIU': (323, 323),\n  'COR': (441, 444),\n  'PGE': (474, 481),\n  'ANT': (543, 549),\n  'GRA': (577, 577)},\n 33: {'COR': (54, 54),\n  'PGE': (126, 133),\n  'ANT': (229, 232),\n  'GRA': (338, 338)},\n 34: {'CIU': (1277, 1277),\n  'COR': (1384, 1389),\n  'SEV': (1460, 1463),\n  'CAD': (1536, 1536)},\n 35: {'CIU': (310, 310),\n  'COR': (407, 410),\n  'PGE': (443, 449),\n  'ANT': (556, 561),\n  'GRA': (589, 589)},\n 36: {'COR': (1325, 1325),\n  'PGE': (1371, 1378),\n  'ANT': (1429, 1435),\n  'GRA': (1466, 1466)},\n 37: {'PGE': (858, 858), 'ANT': (970, 973), 'MAL': (1010, 1010)},\n 38: {'CIU': (208, 208),\n  'COR': (319, 325),\n  'SEV': (407, 412),\n  'CAD': (486, 486)},\n 39: {'CIU': (1010, 1010),\n  'COR': (1059, 1065),\n  'PGE': (1116, 1118),\n  'ANT': (1168, 1174),\n  'MAL': (1231, 1231)},\n 40: {'PGE': (168, 168), 'ANT': (246, 249), 'GRA': (280, 280)},\n 41: {'CIU': (6, 6),\n  'COR': (36, 42),\n  'PGE': (135, 137),\n  'ANT': (168, 174),\n  'MAL': (254, 254)},\n 42: {'CIU': (1228, 1228),\n  'COR': (1326, 1331),\n  'PGE': (1435, 1442),\n  'ANT': (1492, 1499),\n  'GRA': (1605, 1605)},\n 43: {'PGE': (951, 951), 'ANT': (1066, 1073), 'GRA': (1108, 1108)},\n 44: {'PGE': (1066, 1066), 'ANT': (1131, 1135), 'GRA': (1192, 1192)},\n 45: {'ANT': (1424, 1424), 'GRA': (1496, 1496)},\n 46: {'COR': (648, 648),\n  'PGE': (710, 715),\n  'ANT': (764, 770),\n  'GRA': (855, 855)},\n 47: {'ANT': (1060, 1060), 'MAL': (1136, 1136)},\n 48: {'COR': (487, 487), 'SEV': (549, 551), 'CAD': (599, 599)},\n 49: {'COR': (1382, 1382), 'SEV': (1457, 1461), 'CAD': (1534, 1534)},\n 50: {'CIU': (1013, 1013),\n  'COR': (1074, 1081),\n  'PGE': (1191, 1197),\n  'ANT': (1240, 1244),\n  'GRA': (1286, 1286)},\n 51: {'COR': (929, 929),\n  'PGE': (1030, 1037),\n  'ANT': (1068, 1070),\n  'MAL': (1163, 1163)},\n 52: {'COR': (666, 666), 'SEV': (758, 762), 'CAD': (840, 840)},\n 53: {'CIU': (948, 948),\n  'COR': (1038, 1042),\n  'PGE': (1132, 1136),\n  'ANT': (1175, 1181),\n  'MAL': (1250, 1250)},\n 54: {'MAD': (1414, 1414),\n  'CIU': (1473, 1475),\n  'COR': (1543, 1549),\n  'SEV': (1588, 1591),\n  'CAD': (1696, 1696)},\n 55: {'COR': (4, 4), 'SEV': (91, 98), 'CAD': (174, 174)},\n 56: {'MAD': (901, 901),\n  'CIU': (999, 1006),\n  'COR': (1046, 1053),\n  'PGE': (1116, 1119),\n  'ANT': (1217, 1219),\n  'GRA': (1328, 1328)},\n 57: {'PGE': (605, 605), 'ANT': (656, 661), 'MAL': (735, 735)},\n 58: {'COR': (71, 71),\n  'PGE': (146, 152),\n  'ANT': (248, 251),\n  'GRA': (289, 289)},\n 59: {'CIU': (620, 620),\n  'COR': (671, 674),\n  'PGE': (728, 733),\n  'ANT': (846, 849),\n  'MAL': (943, 943)},\n 60: {'PGE': (544, 544), 'ANT': (578, 583), 'GRA': (686, 686)},\n 61: {'CIU': (1211, 1211),\n  'COR': (1307, 1314),\n  'PGE': (1352, 1359),\n  'ANT': (1449, 1451),\n  'MAL': (1517, 1517)},\n 62: {'PGE': (370, 370), 'ANT': (472, 475), 'GRA': (532, 532)},\n 63: {'MAD': (796, 796),\n  'CIU': (867, 870),\n  'COR': (943, 945),\n  'SEV': (988, 992),\n  'CAD': (1085, 1085)},\n 64: {'CIU': (215, 215),\n  'COR': (266, 273),\n  'SEV': (301, 307),\n  'CAD': (337, 337)},\n 65: {'MAD': (614, 614),\n  'CIU': (718, 724),\n  'COR': (796, 798),\n  'PGE': (849, 856),\n  'ANT': (882, 887),\n  'MAL': (974, 974)},\n 66: {'MAD': (575, 575),\n  'CIU': (660, 667),\n  'COR': (712, 714),\n  'SEV': (777, 783),\n  'CAD': (881, 881)},\n 67: {'PGE': (352, 352), 'ANT': (436, 442), 'GRA': (472, 472)},\n 68: {'CIU': (1345, 1345),\n  'COR': (1448, 1454),\n  'SEV': (1548, 1554),\n  'CAD': (1589, 1589)},\n 69: {'MAD': (392, 392),\n  'CIU': (465, 469),\n  'COR': (582, 584),\n  'PGE': (688, 690),\n  'ANT': (777, 782),\n  'GRA': (873, 873)},\n 70: {'CIU': (961, 961),\n  'COR': (1017, 1021),\n  'SEV': (1069, 1076),\n  'CAD': (1108, 1108)},\n 71: {'ANT': (1286, 1286), 'MAL': (1346, 1346)},\n 72: {'CIU': (547, 547),\n  'COR': (614, 620),\n  'PGE': (655, 659),\n  'ANT': (711, 716),\n  'MAL': (769, 769)},\n 73: {'SEV': (964, 964), 'CAD': (1072, 1072)},\n 74: {'PGE': (1243, 1243), 'ANT': (1276, 1281), 'MAL': (1387, 1387)},\n 75: {'MAD': (1112, 1112),\n  'CIU': (1221, 1224),\n  'COR': (1274, 1277),\n  'PGE': (1311, 1318),\n  'ANT': (1406, 1411),\n  'MAL': (1468, 1468)},\n 76: {'COR': (560, 560), 'SEV': (621, 628), 'CAD': (705, 705)},\n 77: {'MAD': (969, 969),\n  'CIU': (1073, 1080),\n  'COR': (1114, 1121),\n  'SEV': (1207, 1213),\n  'CAD': (1266, 1266)},\n 78: {'MAD': (416, 416),\n  'CIU': (458, 461),\n  'COR': (537, 543),\n  'SEV': (648, 651),\n  'CAD': (706, 706)},\n 79: {'PGE': (734, 734), 'ANT': (812, 815), 'MAL': (847, 847)},\n 80: {'COR': (823, 823),\n  'PGE': (868, 870),\n  'ANT': (934, 938),\n  'GRA': (1026, 1026)},\n 81: {'MAD': (776, 776),\n  'CIU': (872, 877),\n  'COR': (928, 931),\n  'SEV': (963, 967),\n  'CAD': (1018, 1018)},\n 82: {'COR': (424, 424),\n  'PGE': (505, 509),\n  'ANT': (580, 584),\n  'MAL': (627, 627)},\n 83: {'MAD': (159, 159),\n  'CIU': (245, 248),\n  'COR': (316, 319),\n  'PGE': (434, 439),\n  'ANT': (466, 470),\n  'MAL': (558, 558)},\n 84: {'COR': (1281, 1281), 'SEV': (1374, 1376), 'CAD': (1452, 1452)},\n 85: {'CIU': (556, 556),\n  'COR': (673, 677),\n  'SEV': (748, 755),\n  'CAD': (782, 782)},\n 86: {'COR': (410, 410),\n  'PGE': (476, 482),\n  'ANT': (517, 522),\n  'GRA': (599, 599)},\n 87: {'COR': (1394, 1394), 'SEV': (1487, 1493), 'CAD': (1597, 1597)},\n 88: {'COR': (257, 257),\n  'PGE': (291, 293),\n  'ANT': (387, 390),\n  'GRA': (476, 476)},\n 89: {'SEV': (435, 435), 'CAD': (500, 500)},\n 90: {'MAD': (179, 179),\n  'CIU': (227, 231),\n  'COR': (283, 290),\n  'SEV': (313, 317),\n  'CAD': (384, 384)},\n 91: {'ANT': (120, 120), 'GRA': (185, 185)},\n 92: {'MAD': (1288, 1288),\n  'CIU': (1374, 1380),\n  'COR': (1455, 1462),\n  'SEV': (1510, 1516),\n  'CAD': (1592, 1592)},\n 93: {'COR': (1380, 1380),\n  'PGE': (1456, 1461),\n  'ANT': (1575, 1579),\n  'MAL': (1676, 1676)},\n 94: {'ANT': (7, 7), 'MAL': (105, 105)},\n 95: {'CIU': (953, 953),\n  'COR': (1059, 1064),\n  'PGE': (1131, 1138),\n  'ANT': (1190, 1193),\n  'MAL': (1287, 1287)},\n 96: {'COR': (938, 938), 'SEV': (1053, 1055), 'CAD': (1092, 1092)},\n 97: {'ANT': (664, 664), 'MAL': (729, 729)},\n 98: {'MAD': (701, 701),\n  'CIU': (766, 769),\n  'COR': (803, 807),\n  'PGE': (905, 909),\n  'ANT': (966, 970),\n  'MAL': (1071, 1071)},\n 99: {'MAD': (1203, 1203),\n  'CIU': (1276, 1280),\n  'COR': (1329, 1332),\n  'PGE': (1399, 1404),\n  'ANT': (1472, 1475),\n  'GRA': (1545, 1545)},\n 100: {'MAD': (507, 507),\n  'CIU': (577, 579),\n  'COR': (645, 652),\n  'PGE': (692, 697),\n  'ANT': (736, 741),\n  'MAL': (767, 767)}}"
     },
     "execution_count": 6,
     "metadata": {},
     "output_type": "execute_result"
    }
   ],
   "source": [
    "# Generate random requested timetable in corridor for a day t\n",
    "\n",
    "# Number of services:\n",
    "n_services = 100\n",
    "\n",
    "# 1) Generate random timetable\n",
    "schedule = {i: get_timetable(sample_route(sample_line(lines))) for i in range(1, n_services+1)}\n",
    "schedule"
   ],
   "metadata": {
    "collapsed": false,
    "ExecuteTime": {
     "end_time": "2024-03-07T12:59:02.120945Z",
     "start_time": "2024-03-07T12:59:02.094673Z"
    }
   },
   "id": "265b606822049620",
   "execution_count": 6
  },
  {
   "cell_type": "code",
   "outputs": [
    {
     "data": {
      "text/plain": "'\\nschedule = {1: {\\'MAD\\': (0, 0), \\'BAR\\': (148, 152), \\'FIG\\': (180, 180)},\\n            2: {\\'MAD\\': (8, 8), \\'ZAR\\': (28, 30), \\'BAR\\': (165, 167), \\'FIG\\': (210, 210)},\\n            3: {\\'MAD\\': (30, 30), \\'BAR\\': (180, 182), \\'FIG\\': (225, 225)}}\\n\\nsolution = {\"discrete\": [1, 0, 1]}\\n\\nis_feasible(solution)\\n'"
     },
     "execution_count": 7,
     "metadata": {},
     "output_type": "execute_result"
    }
   ],
   "source": [
    "def is_feasible(solution, security_gap=10):\n",
    "    \"\"\"\n",
    "    Check if the solution is feasible\n",
    "    \n",
    "    Args:\n",
    "        solution (dict): solution\n",
    "        security_gap (int, optional): security gap\n",
    "        \n",
    "    Returns:\n",
    "        bool: True if the solution is feasible, False otherwise\n",
    "    \"\"\"\n",
    "    solution = np.array(solution[\"discrete\"])\n",
    "    security_array = []\n",
    "    \n",
    "    # Get conflicts between services\n",
    "    for service in schedule:\n",
    "        service_sec_arr = []  # Build security matrix for service (columns are stops, rows are other services)\n",
    "        for service_k in schedule:\n",
    "          service_sec_row = [] \n",
    "          for stop in schedule[service]:\n",
    "            if service_k == service or stop not in schedule[service_k]:\n",
    "              service_sec_row.append(0)\n",
    "              continue\n",
    "        \n",
    "            if abs(schedule[service][stop][1] - schedule[service_k][stop][1]) < security_gap:\n",
    "              service_sec_row.append(1)\n",
    "            else:\n",
    "              service_sec_row.append(0)\n",
    "          service_sec_arr.append(service_sec_row)\n",
    "        \n",
    "        security_array.append(np.array(service_sec_arr))\n",
    "    \n",
    "    # Get array of security conflicts. If there is a conflict, the dot product will be different from zero\n",
    "    if not solution.dot(np.array([np.sum(solution.dot(ssa)) for ssa in security_array])):\n",
    "        return True\n",
    "    return False\n",
    "\n",
    "\"\"\"\n",
    "schedule = {1: {'MAD': (0, 0), 'BAR': (148, 152), 'FIG': (180, 180)},\n",
    "            2: {'MAD': (8, 8), 'ZAR': (28, 30), 'BAR': (165, 167), 'FIG': (210, 210)},\n",
    "            3: {'MAD': (30, 30), 'BAR': (180, 182), 'FIG': (225, 225)}}\n",
    "\n",
    "solution = {\"discrete\": [1, 0, 1]}\n",
    "\n",
    "is_feasible(solution)\n",
    "\"\"\""
   ],
   "metadata": {
    "collapsed": false,
    "ExecuteTime": {
     "end_time": "2024-03-07T12:59:02.707124Z",
     "start_time": "2024-03-07T12:59:02.693974Z"
    }
   },
   "id": "4651f7e11ceff212",
   "execution_count": 7
  },
  {
   "cell_type": "code",
   "outputs": [],
   "source": [
    "def get_num_trains(solution):\n",
    "    scheduled_trains = np.sum(solution[\"discrete\"])\n",
    "    print(\"Requested number of trains: \", len(solution[\"discrete\"]))\n",
    "    print(\"Scheduled trains: \", scheduled_trains)\n",
    "    return scheduled_trains, 0"
   ],
   "metadata": {
    "collapsed": false,
    "ExecuteTime": {
     "end_time": "2024-03-07T12:59:03.339920Z",
     "start_time": "2024-03-07T12:59:03.329747Z"
    }
   },
   "id": "30100fad0a1a8188",
   "execution_count": 8
  },
  {
   "cell_type": "code",
   "outputs": [],
   "source": [
    "boundaries = {'real': [], 'discrete': [(0, 1) for _ in range(len(schedule))]}\n",
    "\n",
    "gsa_algo = GSA(objective_function=get_num_trains,\n",
    "               is_feasible=is_feasible,\n",
    "               r_dim=0,\n",
    "               d_dim=len(schedule),\n",
    "               boundaries=boundaries)"
   ],
   "metadata": {
    "collapsed": false,
    "ExecuteTime": {
     "end_time": "2024-03-07T12:59:03.859001Z",
     "start_time": "2024-03-07T12:59:03.849283Z"
    }
   },
   "id": "ab689475c3f9119a",
   "execution_count": 9
  },
  {
   "cell_type": "code",
   "outputs": [
    {
     "name": "stdout",
     "output_type": "stream",
     "text": [
      "Initializing positions of the individuals in the population...\n",
      "Positions of the individuals in the population successfully initialized!!\n",
      "GSA is optimizing  \"get_num_trains\"\n",
      "Requested number of trains:  100\n",
      "Scheduled trains:  6\n",
      "Requested number of trains:  100\n",
      "Scheduled trains:  12\n",
      "Requested number of trains:  100\n",
      "Scheduled trains:  8\n",
      "Requested number of trains:  100\n",
      "Scheduled trains:  6\n",
      "Requested number of trains:  100\n",
      "Scheduled trains:  6\n",
      "['At iteration 1 the best fitness is 12']\n",
      "Requested number of trains:  100\n",
      "Scheduled trains:  15\n",
      "Requested number of trains:  100\n",
      "Scheduled trains:  4\n",
      "Requested number of trains:  100\n",
      "Scheduled trains:  12\n",
      "Requested number of trains:  100\n",
      "Scheduled trains:  16\n",
      "Requested number of trains:  100\n",
      "Scheduled trains:  12\n",
      "['At iteration 2 the best fitness is 16']\n",
      "Requested number of trains:  100\n",
      "Scheduled trains:  15\n",
      "Requested number of trains:  100\n",
      "Scheduled trains:  17\n",
      "Requested number of trains:  100\n",
      "Scheduled trains:  8\n",
      "Requested number of trains:  100\n",
      "Scheduled trains:  8\n",
      "Requested number of trains:  100\n",
      "Scheduled trains:  12\n",
      "['At iteration 3 the best fitness is 17']\n",
      "Requested number of trains:  100\n",
      "Scheduled trains:  12\n",
      "Requested number of trains:  100\n",
      "Scheduled trains:  11\n",
      "Requested number of trains:  100\n",
      "Scheduled trains:  15\n",
      "Requested number of trains:  100\n",
      "Scheduled trains:  19\n",
      "Requested number of trains:  100\n",
      "Scheduled trains:  15\n",
      "['At iteration 4 the best fitness is 19']\n",
      "Requested number of trains:  100\n",
      "Scheduled trains:  19\n",
      "Requested number of trains:  100\n",
      "Scheduled trains:  19\n",
      "Requested number of trains:  100\n",
      "Scheduled trains:  17\n",
      "Requested number of trains:  100\n",
      "Scheduled trains:  11\n",
      "Requested number of trains:  100\n",
      "Scheduled trains:  16\n",
      "['At iteration 5 the best fitness is 19']\n",
      "Requested number of trains:  100\n",
      "Scheduled trains:  12\n",
      "Requested number of trains:  100\n",
      "Scheduled trains:  18\n",
      "Requested number of trains:  100\n",
      "Scheduled trains:  15\n",
      "Requested number of trains:  100\n",
      "Scheduled trains:  23\n",
      "Requested number of trains:  100\n",
      "Scheduled trains:  18\n",
      "['At iteration 6 the best fitness is 23']\n",
      "Requested number of trains:  100\n",
      "Scheduled trains:  18\n",
      "Requested number of trains:  100\n",
      "Scheduled trains:  18\n",
      "Requested number of trains:  100\n",
      "Scheduled trains:  23\n",
      "Requested number of trains:  100\n",
      "Scheduled trains:  17\n",
      "Requested number of trains:  100\n",
      "Scheduled trains:  19\n",
      "['At iteration 7 the best fitness is 23']\n",
      "Requested number of trains:  100\n",
      "Scheduled trains:  19\n",
      "Requested number of trains:  100\n",
      "Scheduled trains:  23\n",
      "Requested number of trains:  100\n",
      "Scheduled trains:  18\n",
      "Requested number of trains:  100\n",
      "Scheduled trains:  20\n",
      "Requested number of trains:  100\n",
      "Scheduled trains:  17\n",
      "['At iteration 8 the best fitness is 23']\n",
      "Requested number of trains:  100\n",
      "Scheduled trains:  19\n",
      "Requested number of trains:  100\n",
      "Scheduled trains:  24\n",
      "Requested number of trains:  100\n",
      "Scheduled trains:  16\n",
      "Requested number of trains:  100\n",
      "Scheduled trains:  23\n",
      "Requested number of trains:  100\n",
      "Scheduled trains:  20\n",
      "['At iteration 9 the best fitness is 24']\n",
      "Requested number of trains:  100\n",
      "Scheduled trains:  14\n",
      "Requested number of trains:  100\n",
      "Scheduled trains:  22\n",
      "Requested number of trains:  100\n",
      "Scheduled trains:  18\n",
      "Requested number of trains:  100\n",
      "Scheduled trains:  25\n",
      "Requested number of trains:  100\n",
      "Scheduled trains:  18\n",
      "['At iteration 10 the best fitness is 25']\n"
     ]
    }
   ],
   "source": [
    "gsa_algo.set_seed(seed=28)\n",
    "\n",
    "training_history = gsa_algo.optimize(population_size=5,\n",
    "                                     iters=10,\n",
    "                                     chaotic_constant=False,\n",
    "                                     repair_solution=False)"
   ],
   "metadata": {
    "collapsed": false,
    "ExecuteTime": {
     "end_time": "2024-03-07T12:59:05.208084Z",
     "start_time": "2024-03-07T12:59:04.432056Z"
    }
   },
   "id": "e2891b76674f9a9a",
   "execution_count": 10
  },
  {
   "cell_type": "code",
   "outputs": [],
   "source": [],
   "metadata": {
    "collapsed": false
   },
   "id": "459842e0e024fda2"
  }
 ],
 "metadata": {
  "kernelspec": {
   "display_name": "Python 3 (ipykernel)",
   "language": "python",
   "name": "python3"
  },
  "language_info": {
   "codemirror_mode": {
    "name": "ipython",
    "version": 3
   },
   "file_extension": ".py",
   "mimetype": "text/x-python",
   "name": "python",
   "nbconvert_exporter": "python",
   "pygments_lexer": "ipython3",
   "version": "3.9.6"
  }
 },
 "nbformat": 4,
 "nbformat_minor": 5
}
