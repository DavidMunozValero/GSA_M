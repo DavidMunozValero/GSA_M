{
 "cells": [
  {
   "cell_type": "code",
   "outputs": [],
   "source": [
    "%load_ext autoreload\n",
    "%autoreload 2\n",
    "\n",
    "import ipywidgets as widgets\n",
    "import numpy as np\n",
    "import os\n",
    "import pandas as pd\n",
    "import seaborn as sns\n",
    "\n",
    "from benchmarks import gsa_svm_fitness\n",
    "from src.entities import GSA\n",
    "\n",
    "from IPython.display import display\n",
    "from matplotlib import pyplot as plt\n",
    "from scipy import stats as st\n",
    "from sklearn.metrics import accuracy_score, confusion_matrix\n",
    "from sklearn.model_selection import train_test_split\n",
    "from sklearn.preprocessing import LabelEncoder, StandardScaler\n",
    "from sklearn.svm import SVC\n",
    "from typing import Mapping, Tuple, Union\n",
    "from ucimlrepo import fetch_ucirepo"
   ],
   "metadata": {
    "collapsed": false,
    "ExecuteTime": {
     "end_time": "2024-03-05T15:57:12.676662Z",
     "start_time": "2024-03-05T15:57:12.528118Z"
    }
   },
   "id": "c3cc59d5610d418",
   "execution_count": 1
  },
  {
   "cell_type": "code",
   "outputs": [
    {
     "data": {
      "text/plain": "       origin destination  stops  departure  arrival  train\n0   Barcelona      Lleida      1          7       17   AVLO\n1      Madrid   Tarragona      1         23        9   AVLO\n2   Tarragona      Lleida      2         13       22    AVE\n3   Tarragona    Zaragoza      0         17        0   AVLO\n4   Tarragona      Lleida      1         20       19   AVLO\n..        ...         ...    ...        ...      ...    ...\n95   Zaragoza   Barcelona      0         19       19   AVLO\n96     Madrid      Madrid      1         22        6    AVE\n97     Lleida      Lleida      2         22        1   AVLO\n98     Lleida   Tarragona      0          7       12    AVE\n99  Tarragona   Tarragona      0          9       18  Ouigo\n\n[100 rows x 6 columns]",
      "text/html": "<div>\n<style scoped>\n    .dataframe tbody tr th:only-of-type {\n        vertical-align: middle;\n    }\n\n    .dataframe tbody tr th {\n        vertical-align: top;\n    }\n\n    .dataframe thead th {\n        text-align: right;\n    }\n</style>\n<table border=\"1\" class=\"dataframe\">\n  <thead>\n    <tr style=\"text-align: right;\">\n      <th></th>\n      <th>origin</th>\n      <th>destination</th>\n      <th>stops</th>\n      <th>departure</th>\n      <th>arrival</th>\n      <th>train</th>\n    </tr>\n  </thead>\n  <tbody>\n    <tr>\n      <th>0</th>\n      <td>Barcelona</td>\n      <td>Lleida</td>\n      <td>1</td>\n      <td>7</td>\n      <td>17</td>\n      <td>AVLO</td>\n    </tr>\n    <tr>\n      <th>1</th>\n      <td>Madrid</td>\n      <td>Tarragona</td>\n      <td>1</td>\n      <td>23</td>\n      <td>9</td>\n      <td>AVLO</td>\n    </tr>\n    <tr>\n      <th>2</th>\n      <td>Tarragona</td>\n      <td>Lleida</td>\n      <td>2</td>\n      <td>13</td>\n      <td>22</td>\n      <td>AVE</td>\n    </tr>\n    <tr>\n      <th>3</th>\n      <td>Tarragona</td>\n      <td>Zaragoza</td>\n      <td>0</td>\n      <td>17</td>\n      <td>0</td>\n      <td>AVLO</td>\n    </tr>\n    <tr>\n      <th>4</th>\n      <td>Tarragona</td>\n      <td>Lleida</td>\n      <td>1</td>\n      <td>20</td>\n      <td>19</td>\n      <td>AVLO</td>\n    </tr>\n    <tr>\n      <th>...</th>\n      <td>...</td>\n      <td>...</td>\n      <td>...</td>\n      <td>...</td>\n      <td>...</td>\n      <td>...</td>\n    </tr>\n    <tr>\n      <th>95</th>\n      <td>Zaragoza</td>\n      <td>Barcelona</td>\n      <td>0</td>\n      <td>19</td>\n      <td>19</td>\n      <td>AVLO</td>\n    </tr>\n    <tr>\n      <th>96</th>\n      <td>Madrid</td>\n      <td>Madrid</td>\n      <td>1</td>\n      <td>22</td>\n      <td>6</td>\n      <td>AVE</td>\n    </tr>\n    <tr>\n      <th>97</th>\n      <td>Lleida</td>\n      <td>Lleida</td>\n      <td>2</td>\n      <td>22</td>\n      <td>1</td>\n      <td>AVLO</td>\n    </tr>\n    <tr>\n      <th>98</th>\n      <td>Lleida</td>\n      <td>Tarragona</td>\n      <td>0</td>\n      <td>7</td>\n      <td>12</td>\n      <td>AVE</td>\n    </tr>\n    <tr>\n      <th>99</th>\n      <td>Tarragona</td>\n      <td>Tarragona</td>\n      <td>0</td>\n      <td>9</td>\n      <td>18</td>\n      <td>Ouigo</td>\n    </tr>\n  </tbody>\n</table>\n<p>100 rows × 6 columns</p>\n</div>"
     },
     "execution_count": 4,
     "metadata": {},
     "output_type": "execute_result"
    }
   ],
   "source": [
    "import numpy as np\n",
    "import pandas as pd\n",
    "\n",
    "# Generate random timetable in corridor Madrid - Barcelona\n",
    "stations = ['Madrid', 'Zaragoza', 'Lleida', 'Tarragona', 'Barcelona']\n",
    "rus = [\"AVE\", \"AVLO\", \"Ouigo\", \"Iryo\"]\n",
    "\n",
    "# Generate timetable with 100 requests of trips from Madrid to Barcelona\n",
    "np.random.seed(0)\n",
    "\n",
    "n_requests = 100\n",
    "\n",
    "# Generate requests with random origin, destination, stops, departure, arrival and train\n",
    "requests = pd.DataFrame({\n",
    "    \"origin\": np.random.choice(stations, n_requests),\n",
    "    \"destination\": np.random.choice(stations, n_requests),\n",
    "    \"stops\": np.random.randint(0, 3, n_requests),\n",
    "    \"departure\": np.random.randint(0, 24, n_requests),\n",
    "    \"arrival\": np.random.randint(0, 24, n_requests),\n",
    "    \"train\": np.random.choice(rus, n_requests)\n",
    "})\n",
    "\n",
    "requests"
   ],
   "metadata": {
    "collapsed": false,
    "ExecuteTime": {
     "end_time": "2024-03-05T16:51:16.958474Z",
     "start_time": "2024-03-05T16:51:16.946547Z"
    }
   },
   "id": "15ff8c8fa6f4e9b5",
   "execution_count": 4
  },
  {
   "cell_type": "code",
   "outputs": [],
   "source": [],
   "metadata": {
    "collapsed": false
   },
   "id": "de4701655f312e3e"
  }
 ],
 "metadata": {
  "kernelspec": {
   "display_name": "Python 3 (ipykernel)",
   "language": "python",
   "name": "python3"
  },
  "language_info": {
   "codemirror_mode": {
    "name": "ipython",
    "version": 3
   },
   "file_extension": ".py",
   "mimetype": "text/x-python",
   "name": "python",
   "nbconvert_exporter": "python",
   "pygments_lexer": "ipython3",
   "version": "3.9.6"
  }
 },
 "nbformat": 4,
 "nbformat_minor": 5
}
