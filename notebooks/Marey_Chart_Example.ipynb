{
 "cells": [
  {
   "metadata": {},
   "cell_type": "code",
   "outputs": [],
   "execution_count": null,
   "source": [
    "%load_ext autoreload\n",
    "%autoreload 2\n",
    "\n",
    "import datetime\n",
    "\n",
    "from benchmarks.generator import get_revenue_behavior_deprecated\n",
    "from benchmarks.utils import get_schedule_from_supply, infer_line_stations, get_services_by_tsp_df, plot_marey_chart\n",
    "\n",
    "from robin.supply.entities import Supply\n",
    "\n",
    "from pathlib import Path"
   ],
   "id": "816487783531411f"
  },
  {
   "metadata": {},
   "cell_type": "code",
   "outputs": [],
   "execution_count": null,
   "source": [
    "supply = Supply.from_yaml('../data/supply_mealpy.yml')\n",
    "tsp_df = get_services_by_tsp_df(supply.services)\n",
    "\n",
    "print(tsp_df)"
   ],
   "id": "6c02024d8ff371c9"
  },
  {
   "metadata": {},
   "cell_type": "code",
   "outputs": [],
   "execution_count": null,
   "source": [
    "print(\"Services: \", len(supply.services))\n",
    "requested_schedule = get_schedule_from_supply('../data/supply_mealpy.yml')\n",
    "revenue_behaviour = get_revenue_behavior_deprecated(supply)\n",
    "lines = list(supply.lines)\n",
    "line = infer_line_stations(lines)"
   ],
   "id": "6bccb6d59f9cad8e"
  },
  {
   "metadata": {},
   "cell_type": "code",
   "outputs": [],
   "execution_count": null,
   "source": [
    "date = datetime.datetime.strptime('2024-06-25', '%Y-%m-%d').date()\n",
    "plot_marey_chart(\n",
    "    supply=supply,\n",
    "    date=date,\n",
    "    safety_gap=5,\n",
    "    save_path='../figures/timetabling/'\n",
    ")"
   ],
   "id": "436984d76b82518d"
  },
  {
   "metadata": {},
   "cell_type": "code",
   "outputs": [],
   "execution_count": null,
   "source": [
    "supply_opti = Supply.from_yaml('../data/supply_mealpy_opti.yml')\n",
    "tsp_df = get_services_by_tsp_df(supply_opti.services)\n",
    "print(tsp_df)"
   ],
   "id": "1b4258718e31d69e"
  },
  {
   "metadata": {},
   "cell_type": "code",
   "outputs": [],
   "execution_count": null,
   "source": [
    "print(\"Services: \", len(supply_opti.services))\n",
    "requested_schedule_opti = get_schedule_from_supply('../data/supply_mealpy_opti.yml')\n",
    "revenue_behaviour_opti = get_revenue_behavior_deprecated(supply_opti)\n",
    "lines_opti = list(supply_opti.lines)\n",
    "line_opti = infer_line_stations(lines_opti)"
   ],
   "id": "3c42a0d3b6b620af"
  },
  {
   "metadata": {},
   "cell_type": "code",
   "outputs": [],
   "execution_count": null,
   "source": [
    "date = datetime.datetime.strptime('2024-06-25', '%Y-%m-%d').date()\n",
    "plot_marey_chart(\n",
    "    supply=supply_opti,\n",
    "    date=date,\n",
    "    safety_gap=5,\n",
    "    save_path='../figures/timetabling/'\n",
    ")"
   ],
   "id": "c2f1ebe8033ac692"
  },
  {
   "metadata": {},
   "cell_type": "code",
   "outputs": [],
   "execution_count": null,
   "source": "",
   "id": "a7b1e6258fb73742"
  }
 ],
 "metadata": {
  "kernelspec": {
   "display_name": "Python 3",
   "language": "python",
   "name": "python3"
  },
  "language_info": {
   "codemirror_mode": {
    "name": "ipython",
    "version": 2
   },
   "file_extension": ".py",
   "mimetype": "text/x-python",
   "name": "python",
   "nbconvert_exporter": "python",
   "pygments_lexer": "ipython2",
   "version": "2.7.6"
  }
 },
 "nbformat": 4,
 "nbformat_minor": 5
}
