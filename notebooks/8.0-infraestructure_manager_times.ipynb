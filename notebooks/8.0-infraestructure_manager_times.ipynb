{
 "cells": [
  {
   "cell_type": "code",
   "outputs": [],
   "source": [
    "%load_ext autoreload\n",
    "%autoreload 2\n",
    "\n",
    "import numpy as np\n",
    "\n",
    "from src.entities import GSA\n",
    "\n",
    "from typing import Union"
   ],
   "metadata": {
    "collapsed": false,
    "ExecuteTime": {
     "end_time": "2024-03-07T14:40:09.821008Z",
     "start_time": "2024-03-07T14:40:09.804798Z"
    }
   },
   "id": "c3cc59d5610d418",
   "execution_count": 1
  },
  {
   "cell_type": "code",
   "outputs": [],
   "source": [
    "# Define corridor\n",
    "\n",
    "corridor = {\"MAD\": {\n",
    "                \"CIU\": {\n",
    "                    \"COR\": {\n",
    "                        \"SEV\": {\n",
    "                            \"CAD\": {}\n",
    "                        },\n",
    "                        \"PGE\": {\n",
    "                            \"ANT\": {\n",
    "                                \"GRA\": {},\n",
    "                                \"MAL\": {}\n",
    "                                    }\n",
    "                                }\n",
    "                            }\n",
    "                        }\n",
    "                    }\n",
    "            }"
   ],
   "metadata": {
    "collapsed": false,
    "ExecuteTime": {
     "end_time": "2024-03-07T14:40:10.881772Z",
     "start_time": "2024-03-07T14:40:10.867568Z"
    }
   },
   "id": "909d19737ed8bbd6",
   "execution_count": 2
  },
  {
   "cell_type": "code",
   "outputs": [
    {
     "data": {
      "text/plain": "[['MAD', 'CIU', 'COR', 'SEV', 'CAD'],\n ['MAD', 'CIU', 'COR', 'PGE', 'ANT', 'GRA'],\n ['MAD', 'CIU', 'COR', 'PGE', 'ANT', 'MAL']]"
     },
     "execution_count": 3,
     "metadata": {},
     "output_type": "execute_result"
    }
   ],
   "source": [
    "# Get lines from corridor\n",
    "\n",
    "def get_lines(corridor: dict, path: Union[list, None]=None) -> list:\n",
    "    \"\"\"\n",
    "    Get all the lines in the corridor\n",
    "    \n",
    "    Args:\n",
    "        corridor (dict): dictionary with the corridor structure\n",
    "        path (list, optional): list of nodes\n",
    "    \n",
    "    Returns:\n",
    "        list of lines\n",
    "    \"\"\"\n",
    "    if path is None:\n",
    "        path = []\n",
    "\n",
    "    lines = []\n",
    "    for node, child in corridor.items():\n",
    "        new_path = path + [node]\n",
    "        if not child:  # If the node has no children, it is a leaf\n",
    "            lines.append(new_path)\n",
    "        else:\n",
    "            lines.extend(get_lines(child, new_path))  # If the node has children, we call the function recursively\n",
    "\n",
    "    return lines\n",
    "\n",
    "get_lines(corridor)"
   ],
   "metadata": {
    "collapsed": false,
    "ExecuteTime": {
     "end_time": "2024-03-07T14:40:11.482553Z",
     "start_time": "2024-03-07T14:40:11.469137Z"
    }
   },
   "id": "7e72fdc681077602",
   "execution_count": 3
  },
  {
   "cell_type": "code",
   "outputs": [
    {
     "name": "stdout",
     "output_type": "stream",
     "text": [
      "Sampled line: ['MAD', 'CIU', 'COR', 'SEV', 'CAD']\n",
      "Sampled route: ['CIU', 'COR', 'SEV', 'CAD']\n"
     ]
    }
   ],
   "source": [
    "def sample_line(lines: list) -> list:\n",
    "    \"\"\"\n",
    "    Sample a random line from the list of lines\n",
    "    \n",
    "    Args:\n",
    "        lines (list): list of lines\n",
    "    \n",
    "    Returns:\n",
    "        list: random line\n",
    "    \"\"\"\n",
    "    return lines[np.random.randint(len(lines))] \n",
    "\n",
    "def sample_route(line: list) -> list:\n",
    "    \"\"\"\n",
    "    Sample a random route from line\n",
    "    \n",
    "    Args:\n",
    "        line (list): list of stations\n",
    "        \n",
    "    Returns:\n",
    "        list: random route\n",
    "    \"\"\"\n",
    "    return line[np.random.randint(0, len(line)-1):]\n",
    "\n",
    "lines = get_lines(corridor)\n",
    "\n",
    "line = sample_line(lines)\n",
    "print(f\"Sampled line: {line}\")\n",
    "\n",
    "# Sample a random route from line (at least two stations)\n",
    "route = sample_route(line)\n",
    "print(f\"Sampled route: {route}\")"
   ],
   "metadata": {
    "collapsed": false,
    "ExecuteTime": {
     "end_time": "2024-03-07T14:40:11.831748Z",
     "start_time": "2024-03-07T14:40:11.819269Z"
    }
   },
   "id": "917d36d06e6f3374",
   "execution_count": 4
  },
  {
   "cell_type": "code",
   "outputs": [
    {
     "data": {
      "text/plain": "{'CIU': (737, 737), 'COR': (790, 794), 'SEV': (876, 883), 'CAD': (921, 921)}"
     },
     "execution_count": 5,
     "metadata": {},
     "output_type": "execute_result"
    }
   ],
   "source": [
    "def get_timetable(route: list) -> dict:\n",
    "    \"\"\"\n",
    "    Generate random timetable for route r\n",
    "    \n",
    "    Args:\n",
    "        route (list): list of stations\n",
    "    \n",
    "    Returns:\n",
    "        dict: timetable\n",
    "    \"\"\"\n",
    "    timetable = {}\n",
    "    AT = np.random.randint(0, 24*60)\n",
    "    DT = AT\n",
    "    for i, sta in enumerate(route):\n",
    "        if i == 0 or i == len(route)-1:\n",
    "            timetable[sta] = (AT, AT)\n",
    "        else:\n",
    "            timetable[sta] = (AT, DT)\n",
    "            \n",
    "        AT += np.random.randint(30, 120)\n",
    "        DT = AT + np.random.randint(2, 8)\n",
    "        \n",
    "    return timetable\n",
    "\n",
    "get_timetable(route)"
   ],
   "metadata": {
    "collapsed": false,
    "ExecuteTime": {
     "end_time": "2024-03-07T14:40:12.166304Z",
     "start_time": "2024-03-07T14:40:12.150077Z"
    }
   },
   "id": "a792ce7accd0a54f",
   "execution_count": 5
  },
  {
   "cell_type": "code",
   "outputs": [
    {
     "data": {
      "text/plain": "{1: {'PGE': (987, 987), 'ANT': (1067, 1071), 'MAL': (1104, 1104)},\n 2: {'MAD': (742, 742),\n  'CIU': (785, 788),\n  'COR': (871, 873),\n  'SEV': (976, 982),\n  'CAD': (1037, 1037)},\n 3: {'ANT': (208, 208), 'GRA': (241, 241)}}"
     },
     "execution_count": 26,
     "metadata": {},
     "output_type": "execute_result"
    }
   ],
   "source": [
    "# Generate random requested timetable in corridor for a day t\n",
    "\n",
    "# Number of services:\n",
    "n_services = 3\n",
    "\n",
    "# 1) Generate random timetable\n",
    "schedule = {i: get_timetable(sample_route(sample_line(lines))) for i in range(1, n_services+1)}\n",
    "schedule"
   ],
   "metadata": {
    "collapsed": false,
    "ExecuteTime": {
     "end_time": "2024-03-07T14:53:48.351431Z",
     "start_time": "2024-03-07T14:53:48.338402Z"
    }
   },
   "id": "265b606822049620",
   "execution_count": 26
  },
  {
   "cell_type": "code",
   "outputs": [],
   "source": [
    "schedule = {1: {'MAD': (0, 0), 'BAR': (148, 152), 'FIG': (180, 180)},\n",
    "            2: {'MAD': (8, 8), 'ZAR': (28, 30), 'BAR': (165, 167), 'FIG': (210, 210)},\n",
    "            3: {'MAD': (30, 30), 'BAR': (180, 182), 'FIG': (225, 225)}}"
   ],
   "metadata": {
    "collapsed": false,
    "ExecuteTime": {
     "end_time": "2024-03-07T15:01:22.915396Z",
     "start_time": "2024-03-07T15:01:22.900141Z"
    }
   },
   "id": "670b23e26656589b",
   "execution_count": 37
  },
  {
   "cell_type": "code",
   "outputs": [
    {
     "data": {
      "text/plain": "[0, 148, 152, 180, 8, 28, 30, 165, 167, 210, 30, 180, 182, 225]"
     },
     "execution_count": 38,
     "metadata": {},
     "output_type": "execute_result"
    }
   ],
   "source": [
    "def get_real_vars(schedule):\n",
    "    real_vars = []\n",
    "    for service in schedule:\n",
    "        for i, stop in enumerate(schedule[service]):\n",
    "            if i == 0 or i == len(schedule[service]) - 1:\n",
    "                real_vars.append(schedule[service][stop][0])\n",
    "            else: \n",
    "                real_vars.append(schedule[service][stop][0])\n",
    "                real_vars.append(schedule[service][stop][1])\n",
    "                \n",
    "    return real_vars\n",
    "\n",
    "real_vars = get_real_vars(schedule)\n",
    "real_vars"
   ],
   "metadata": {
    "collapsed": false,
    "ExecuteTime": {
     "end_time": "2024-03-07T15:01:23.940094Z",
     "start_time": "2024-03-07T15:01:23.925312Z"
    }
   },
   "id": "a14ca90505ceb8d0",
   "execution_count": 38
  },
  {
   "cell_type": "code",
   "outputs": [
    {
     "data": {
      "text/plain": "[(-10, 10),\n (138, 158),\n (142, 162),\n (170, 190),\n (-2, 18),\n (18, 38),\n (20, 40),\n (155, 175),\n (157, 177),\n (200, 220),\n (20, 40),\n (170, 190),\n (172, 192),\n (215, 235)]"
     },
     "execution_count": 39,
     "metadata": {},
     "output_type": "execute_result"
    }
   ],
   "source": [
    "def get_real_boundaries(real_vars):\n",
    "    real_boundaries = []\n",
    "    for rv in real_vars:\n",
    "        real_boundaries.append((rv-10, rv+10))\n",
    "    \n",
    "    return real_boundaries\n",
    "    \n",
    "real_boundaries = get_real_boundaries(real_vars)\n",
    "real_boundaries"
   ],
   "metadata": {
    "collapsed": false,
    "ExecuteTime": {
     "end_time": "2024-03-07T15:01:26.272077Z",
     "start_time": "2024-03-07T15:01:26.254961Z"
    }
   },
   "id": "c098ce9be4b44a43",
   "execution_count": 39
  },
  {
   "cell_type": "code",
   "outputs": [
    {
     "data": {
      "text/plain": "{1: {'MAD': (0, 0), 'BAR': (148, 152), 'FIG': (180, 180)},\n 2: {'MAD': (8, 8), 'ZAR': (28, 30), 'BAR': (165, 167), 'FIG': (210, 210)},\n 3: {'MAD': (30, 30), 'BAR': (180, 182), 'FIG': (225, 225)}}"
     },
     "execution_count": 40,
     "metadata": {},
     "output_type": "execute_result"
    }
   ],
   "source": [
    "def update_schedule(solution):\n",
    "    \"\"\"\n",
    "    Update schedule with the solution\n",
    "    \n",
    "    Args:\n",
    "        solution (list): solution\n",
    "    \"\"\"\n",
    "    s_idx = 0\n",
    "    for service in schedule:\n",
    "        for i, stop in enumerate(schedule[service]):\n",
    "            if i == 0 or i == len(schedule[service]) - 1:\n",
    "                schedule[service][stop] = (solution[s_idx], solution[s_idx])\n",
    "                s_idx += 1\n",
    "            else:\n",
    "                schedule[service][stop] = (solution[s_idx], solution[s_idx+1])\n",
    "                s_idx += 2\n",
    "                \n",
    "update_schedule(real_vars)\n",
    "schedule"
   ],
   "metadata": {
    "collapsed": false,
    "ExecuteTime": {
     "end_time": "2024-03-07T15:01:30.715045Z",
     "start_time": "2024-03-07T15:01:30.697905Z"
    }
   },
   "id": "a5c8817edb9a3fef",
   "execution_count": 40
  },
  {
   "cell_type": "code",
   "outputs": [
    {
     "data": {
      "text/plain": "'\\nschedule = {1: {\\'MAD\\': (0, 0), \\'BAR\\': (148, 152), \\'FIG\\': (180, 180)},\\n            2: {\\'MAD\\': (8, 8), \\'ZAR\\': (28, 30), \\'BAR\\': (165, 167), \\'FIG\\': (210, 210)},\\n            3: {\\'MAD\\': (30, 30), \\'BAR\\': (180, 182), \\'FIG\\': (225, 225)}}\\n\\nsolution = {\"real\": [0, 148, 152, 180, 8, 28, 30, 165, 167, 210, 30, 180, 182, 225], \"discrete\": [1, 1, 1]}\\n\\nis_feasible(solution)\\n'"
     },
     "execution_count": 41,
     "metadata": {},
     "output_type": "execute_result"
    }
   ],
   "source": [
    "def is_feasible(solution, security_gap=10):\n",
    "    \"\"\"\n",
    "    Check if the solution is feasible\n",
    "    \n",
    "    Args:\n",
    "        solution (dict): solution\n",
    "        security_gap (int, optional): security gap\n",
    "        \n",
    "    Returns:\n",
    "        bool: True if the solution is feasible, False otherwise\n",
    "    \"\"\"\n",
    "    S_i = np.array(solution[\"discrete\"])\n",
    "    update_schedule(solution[\"real\"])\n",
    "    security_array = []\n",
    "    \n",
    "    # Get conflicts between services\n",
    "    for service in schedule:\n",
    "        service_sec_arr = []  # Build security matrix for service (columns are stops, rows are other services)\n",
    "        for service_k in schedule:\n",
    "          service_sec_row = [] \n",
    "          for stop in schedule[service]:\n",
    "            if service_k == service or stop not in schedule[service_k]:\n",
    "              service_sec_row.append(0)\n",
    "              continue\n",
    "        \n",
    "            if abs(schedule[service][stop][1] - schedule[service_k][stop][1]) < security_gap:\n",
    "              service_sec_row.append(1)\n",
    "            else:\n",
    "              service_sec_row.append(0)\n",
    "          service_sec_arr.append(service_sec_row)\n",
    "        \n",
    "        security_array.append(np.array(service_sec_arr))\n",
    "    \n",
    "    # Get array of security conflicts. If there is a conflict, the dot product will be different from zero\n",
    "    if not S_i.dot(np.array([np.sum(S_i.dot(ssa)) for ssa in security_array])):\n",
    "        return True\n",
    "    return False\n",
    "\n",
    "\"\"\"\n",
    "schedule = {1: {'MAD': (0, 0), 'BAR': (148, 152), 'FIG': (180, 180)},\n",
    "            2: {'MAD': (8, 8), 'ZAR': (28, 30), 'BAR': (165, 167), 'FIG': (210, 210)},\n",
    "            3: {'MAD': (30, 30), 'BAR': (180, 182), 'FIG': (225, 225)}}\n",
    "\n",
    "solution = {\"real\": [0, 148, 152, 180, 8, 28, 30, 165, 167, 210, 30, 180, 182, 225], \"discrete\": [1, 1, 1]}\n",
    "\n",
    "is_feasible(solution)\n",
    "\"\"\""
   ],
   "metadata": {
    "collapsed": false,
    "ExecuteTime": {
     "end_time": "2024-03-07T15:01:37.024604Z",
     "start_time": "2024-03-07T15:01:37.005569Z"
    }
   },
   "id": "4651f7e11ceff212",
   "execution_count": 41
  },
  {
   "cell_type": "code",
   "outputs": [],
   "source": [
    "def get_num_trains(solution):\n",
    "    scheduled_trains = np.sum(solution[\"discrete\"])\n",
    "    print(\"Requested number of trains: \", len(solution[\"discrete\"]))\n",
    "    print(\"Scheduled trains: \", scheduled_trains)\n",
    "    return scheduled_trains, 0"
   ],
   "metadata": {
    "collapsed": false,
    "ExecuteTime": {
     "end_time": "2024-03-07T15:01:39.268321Z",
     "start_time": "2024-03-07T15:01:39.253315Z"
    }
   },
   "id": "30100fad0a1a8188",
   "execution_count": 42
  },
  {
   "cell_type": "code",
   "outputs": [],
   "source": [
    "boundaries = {'real': real_boundaries, 'discrete': [(0, 1) for _ in range(len(schedule))]}\n",
    "\n",
    "gsa_algo = GSA(objective_function=get_num_trains,\n",
    "               is_feasible=is_feasible,\n",
    "               r_dim=len(real_vars),\n",
    "               d_dim=len(schedule),\n",
    "               boundaries=boundaries)"
   ],
   "metadata": {
    "collapsed": false,
    "ExecuteTime": {
     "end_time": "2024-03-07T15:15:58.748439Z",
     "start_time": "2024-03-07T15:15:58.706652Z"
    }
   },
   "id": "ab689475c3f9119a",
   "execution_count": 90
  },
  {
   "cell_type": "code",
   "outputs": [
    {
     "name": "stdout",
     "output_type": "stream",
     "text": [
      "Initializing positions of the individuals in the population...\n",
      "Positions of the individuals in the population successfully initialized!!\n",
      "GSA is optimizing  \"get_num_trains\"\n",
      "Requested number of trains:  3\n",
      "Scheduled trains:  0\n",
      "Requested number of trains:  3\n",
      "Scheduled trains:  1\n",
      "Requested number of trains:  3\n",
      "Scheduled trains:  1\n",
      "Requested number of trains:  3\n",
      "Scheduled trains:  2\n",
      "Requested number of trains:  3\n",
      "Scheduled trains:  1\n",
      "####################################################################################################\n",
      "REPAIRING SOLUTION... \n",
      "####################################################################################################\n",
      "####################################################################################################\n",
      "SOLUTION SUCCESSFULLY REPAIRED!!\n",
      "####################################################################################################\n",
      "####################################################################################################\n",
      "REPAIRING SOLUTION... \n",
      "####################################################################################################\n",
      "####################################################################################################\n",
      "SOLUTION SUCCESSFULLY REPAIRED!!\n",
      "####################################################################################################\n",
      "['At iteration 1 the best fitness is 2']\n",
      "Requested number of trains:  3\n",
      "Scheduled trains:  1\n",
      "Requested number of trains:  3\n",
      "Scheduled trains:  2\n",
      "Requested number of trains:  3\n",
      "Scheduled trains:  1\n",
      "Requested number of trains:  3\n",
      "Scheduled trains:  1\n",
      "Requested number of trains:  3\n",
      "Scheduled trains:  1\n",
      "####################################################################################################\n",
      "REPAIRING SOLUTION... \n",
      "####################################################################################################\n",
      "####################################################################################################\n",
      "SOLUTION SUCCESSFULLY REPAIRED!!\n",
      "####################################################################################################\n",
      "####################################################################################################\n",
      "REPAIRING SOLUTION... \n",
      "####################################################################################################\n",
      "####################################################################################################\n",
      "SOLUTION SUCCESSFULLY REPAIRED!!\n",
      "####################################################################################################\n",
      "['At iteration 2 the best fitness is 2']\n",
      "Requested number of trains:  3\n",
      "Scheduled trains:  2\n",
      "Requested number of trains:  3\n",
      "Scheduled trains:  2\n",
      "Requested number of trains:  3\n",
      "Scheduled trains:  2\n",
      "Requested number of trains:  3\n",
      "Scheduled trains:  1\n",
      "Requested number of trains:  3\n",
      "Scheduled trains:  2\n",
      "####################################################################################################\n",
      "REPAIRING SOLUTION... \n",
      "####################################################################################################\n",
      "####################################################################################################\n",
      "SOLUTION SUCCESSFULLY REPAIRED!!\n",
      "####################################################################################################\n",
      "['At iteration 3 the best fitness is 2']\n",
      "Requested number of trains:  3\n",
      "Scheduled trains:  1\n",
      "Requested number of trains:  3\n",
      "Scheduled trains:  2\n",
      "Requested number of trains:  3\n",
      "Scheduled trains:  1\n",
      "Requested number of trains:  3\n",
      "Scheduled trains:  2\n",
      "Requested number of trains:  3\n",
      "Scheduled trains:  2\n",
      "####################################################################################################\n",
      "REPAIRING SOLUTION... \n",
      "####################################################################################################\n",
      "####################################################################################################\n",
      "SOLUTION SUCCESSFULLY REPAIRED!!\n",
      "####################################################################################################\n",
      "['At iteration 4 the best fitness is 2']\n",
      "Requested number of trains:  3\n",
      "Scheduled trains:  1\n",
      "Requested number of trains:  3\n",
      "Scheduled trains:  3\n",
      "Requested number of trains:  3\n",
      "Scheduled trains:  1\n",
      "Requested number of trains:  3\n",
      "Scheduled trains:  1\n",
      "Requested number of trains:  3\n",
      "Scheduled trains:  2\n",
      "####################################################################################################\n",
      "REPAIRING SOLUTION... \n",
      "####################################################################################################\n",
      "####################################################################################################\n",
      "SOLUTION SUCCESSFULLY REPAIRED!!\n",
      "####################################################################################################\n",
      "['At iteration 5 the best fitness is 3']\n",
      "Requested number of trains:  3\n",
      "Scheduled trains:  1\n",
      "Requested number of trains:  3\n",
      "Scheduled trains:  3\n",
      "Requested number of trains:  3\n",
      "Scheduled trains:  2\n",
      "Requested number of trains:  3\n",
      "Scheduled trains:  1\n",
      "Requested number of trains:  3\n",
      "Scheduled trains:  1\n",
      "####################################################################################################\n",
      "REPAIRING SOLUTION... \n",
      "####################################################################################################\n",
      "Patience is over. Returning the closest feasible solution.\n",
      "['At iteration 6 the best fitness is 3']\n",
      "Requested number of trains:  3\n",
      "Scheduled trains:  2\n",
      "Requested number of trains:  3\n",
      "Scheduled trains:  3\n",
      "Requested number of trains:  3\n",
      "Scheduled trains:  2\n",
      "Requested number of trains:  3\n",
      "Scheduled trains:  1\n",
      "Requested number of trains:  3\n",
      "Scheduled trains:  3\n",
      "####################################################################################################\n",
      "REPAIRING SOLUTION... \n",
      "####################################################################################################\n",
      "####################################################################################################\n",
      "SOLUTION SUCCESSFULLY REPAIRED!!\n",
      "####################################################################################################\n",
      "####################################################################################################\n",
      "REPAIRING SOLUTION... \n",
      "####################################################################################################\n",
      "####################################################################################################\n",
      "SOLUTION SUCCESSFULLY REPAIRED!!\n",
      "####################################################################################################\n",
      "####################################################################################################\n",
      "REPAIRING SOLUTION... \n",
      "####################################################################################################\n",
      "####################################################################################################\n",
      "SOLUTION SUCCESSFULLY REPAIRED!!\n",
      "####################################################################################################\n",
      "['At iteration 7 the best fitness is 3']\n",
      "Requested number of trains:  3\n",
      "Scheduled trains:  3\n",
      "Requested number of trains:  3\n",
      "Scheduled trains:  3\n",
      "Requested number of trains:  3\n",
      "Scheduled trains:  3\n",
      "Requested number of trains:  3\n",
      "Scheduled trains:  1\n",
      "Requested number of trains:  3\n",
      "Scheduled trains:  3\n",
      "['At iteration 8 the best fitness is 3']\n",
      "Requested number of trains:  3\n",
      "Scheduled trains:  3\n",
      "Requested number of trains:  3\n",
      "Scheduled trains:  3\n",
      "Requested number of trains:  3\n",
      "Scheduled trains:  2\n",
      "Requested number of trains:  3\n",
      "Scheduled trains:  2\n",
      "Requested number of trains:  3\n",
      "Scheduled trains:  3\n",
      "['At iteration 9 the best fitness is 3']\n",
      "Requested number of trains:  3\n",
      "Scheduled trains:  3\n",
      "Requested number of trains:  3\n",
      "Scheduled trains:  3\n",
      "Requested number of trains:  3\n",
      "Scheduled trains:  2\n",
      "Requested number of trains:  3\n",
      "Scheduled trains:  3\n",
      "Requested number of trains:  3\n",
      "Scheduled trains:  3\n",
      "['At iteration 10 the best fitness is 3']\n"
     ]
    }
   ],
   "source": [
    "gsa_algo.set_seed(seed=28)\n",
    "\n",
    "training_history = gsa_algo.optimize(population_size=5,\n",
    "                                     iters=10,\n",
    "                                     chaotic_constant=False,\n",
    "                                     repair_solution=True)"
   ],
   "metadata": {
    "collapsed": false,
    "ExecuteTime": {
     "end_time": "2024-03-07T15:15:59.298366Z",
     "start_time": "2024-03-07T15:15:59.223702Z"
    }
   },
   "id": "e2891b76674f9a9a",
   "execution_count": 91
  },
  {
   "cell_type": "code",
   "outputs": [
    {
     "data": {
      "text/plain": "   Iteration  Fitness  Accuracy  ExecutionTime   Discrete  \\\n0          0        2         0       0.000606  [1, 1, 1]   \n1          1        2         0       0.002348  [1, 1, 1]   \n2          2        2         0       0.004394  [1, 1, 1]   \n3          3        2         0       0.005943  [1, 1, 1]   \n4          4        3         0       0.007604  [1, 1, 1]   \n5          5        3         0       0.009200  [1, 1, 1]   \n6          6        3         0       0.055025  [1, 1, 1]   \n7          7        3         0       0.056787  [1, 1, 1]   \n8          8        3         0       0.057594  [1, 1, 1]   \n9          9        3         0       0.058297  [1, 1, 1]   \n\n                                                Real  \n0  [3.7708545175161983, 144.4673422532487, 131.92...  \n1  [3.7708545175161983, 144.4673422532487, 131.92...  \n2  [3.7708545175161983, 144.4673422532487, 131.92...  \n3  [3.7708545175161983, 144.4673422532487, 131.92...  \n4  [1.650570971808942, 157.8023504800983, 131.786...  \n5  [1.650570971808942, 157.8023504800983, 131.786...  \n6  [1.650570971808942, 157.8023504800983, 131.786...  \n7  [1.650570971808942, 157.8023504800983, 131.786...  \n8  [1.650570971808942, 157.8023504800983, 131.786...  \n9  [1.650570971808942, 157.8023504800983, 131.786...  ",
      "text/html": "<div>\n<style scoped>\n    .dataframe tbody tr th:only-of-type {\n        vertical-align: middle;\n    }\n\n    .dataframe tbody tr th {\n        vertical-align: top;\n    }\n\n    .dataframe thead th {\n        text-align: right;\n    }\n</style>\n<table border=\"1\" class=\"dataframe\">\n  <thead>\n    <tr style=\"text-align: right;\">\n      <th></th>\n      <th>Iteration</th>\n      <th>Fitness</th>\n      <th>Accuracy</th>\n      <th>ExecutionTime</th>\n      <th>Discrete</th>\n      <th>Real</th>\n    </tr>\n  </thead>\n  <tbody>\n    <tr>\n      <th>0</th>\n      <td>0</td>\n      <td>2</td>\n      <td>0</td>\n      <td>0.000606</td>\n      <td>[1, 1, 1]</td>\n      <td>[3.7708545175161983, 144.4673422532487, 131.92...</td>\n    </tr>\n    <tr>\n      <th>1</th>\n      <td>1</td>\n      <td>2</td>\n      <td>0</td>\n      <td>0.002348</td>\n      <td>[1, 1, 1]</td>\n      <td>[3.7708545175161983, 144.4673422532487, 131.92...</td>\n    </tr>\n    <tr>\n      <th>2</th>\n      <td>2</td>\n      <td>2</td>\n      <td>0</td>\n      <td>0.004394</td>\n      <td>[1, 1, 1]</td>\n      <td>[3.7708545175161983, 144.4673422532487, 131.92...</td>\n    </tr>\n    <tr>\n      <th>3</th>\n      <td>3</td>\n      <td>2</td>\n      <td>0</td>\n      <td>0.005943</td>\n      <td>[1, 1, 1]</td>\n      <td>[3.7708545175161983, 144.4673422532487, 131.92...</td>\n    </tr>\n    <tr>\n      <th>4</th>\n      <td>4</td>\n      <td>3</td>\n      <td>0</td>\n      <td>0.007604</td>\n      <td>[1, 1, 1]</td>\n      <td>[1.650570971808942, 157.8023504800983, 131.786...</td>\n    </tr>\n    <tr>\n      <th>5</th>\n      <td>5</td>\n      <td>3</td>\n      <td>0</td>\n      <td>0.009200</td>\n      <td>[1, 1, 1]</td>\n      <td>[1.650570971808942, 157.8023504800983, 131.786...</td>\n    </tr>\n    <tr>\n      <th>6</th>\n      <td>6</td>\n      <td>3</td>\n      <td>0</td>\n      <td>0.055025</td>\n      <td>[1, 1, 1]</td>\n      <td>[1.650570971808942, 157.8023504800983, 131.786...</td>\n    </tr>\n    <tr>\n      <th>7</th>\n      <td>7</td>\n      <td>3</td>\n      <td>0</td>\n      <td>0.056787</td>\n      <td>[1, 1, 1]</td>\n      <td>[1.650570971808942, 157.8023504800983, 131.786...</td>\n    </tr>\n    <tr>\n      <th>8</th>\n      <td>8</td>\n      <td>3</td>\n      <td>0</td>\n      <td>0.057594</td>\n      <td>[1, 1, 1]</td>\n      <td>[1.650570971808942, 157.8023504800983, 131.786...</td>\n    </tr>\n    <tr>\n      <th>9</th>\n      <td>9</td>\n      <td>3</td>\n      <td>0</td>\n      <td>0.058297</td>\n      <td>[1, 1, 1]</td>\n      <td>[1.650570971808942, 157.8023504800983, 131.786...</td>\n    </tr>\n  </tbody>\n</table>\n</div>"
     },
     "execution_count": 92,
     "metadata": {},
     "output_type": "execute_result"
    }
   ],
   "source": [
    "training_history"
   ],
   "metadata": {
    "collapsed": false,
    "ExecuteTime": {
     "end_time": "2024-03-07T15:16:33.945607Z",
     "start_time": "2024-03-07T15:16:33.924581Z"
    }
   },
   "id": "459842e0e024fda2",
   "execution_count": 92
  },
  {
   "cell_type": "code",
   "outputs": [
    {
     "data": {
      "text/plain": "[1, 1, 1]"
     },
     "execution_count": 93,
     "metadata": {},
     "output_type": "execute_result"
    }
   ],
   "source": [
    "discrete_solution = list(training_history[\"Discrete\"].iloc[-1])\n",
    "discrete_solution"
   ],
   "metadata": {
    "collapsed": false,
    "ExecuteTime": {
     "end_time": "2024-03-07T15:16:37.469013Z",
     "start_time": "2024-03-07T15:16:37.451626Z"
    }
   },
   "id": "f2a2ce0ada6a9c5f",
   "execution_count": 93
  },
  {
   "cell_type": "code",
   "outputs": [
    {
     "data": {
      "text/plain": "[1.650570971808942,\n 157.8023504800983,\n 131.78634090757532,\n 177.33626125416401,\n 31.049785357994253,\n 49.34081116524011,\n 24.485325277924076,\n 186.4733349428041,\n 173.51058574419844,\n 216.4480526170515,\n 82.06955790841465,\n 157.49024871021487,\n 204.71696584284655,\n 229.47864438131282]"
     },
     "execution_count": 94,
     "metadata": {},
     "output_type": "execute_result"
    }
   ],
   "source": [
    "schedule_solution = list(training_history[\"Real\"].iloc[-1])\n",
    "schedule_solution"
   ],
   "metadata": {
    "collapsed": false,
    "ExecuteTime": {
     "end_time": "2024-03-07T15:16:38.371552Z",
     "start_time": "2024-03-07T15:16:38.356381Z"
    }
   },
   "id": "1b0d4d08ae7520fa",
   "execution_count": 94
  },
  {
   "cell_type": "code",
   "outputs": [
    {
     "data": {
      "text/plain": "{1: {'MAD': (1.650570971808942, 1.650570971808942),\n  'BAR': (157.8023504800983, 131.78634090757532),\n  'FIG': (177.33626125416401, 177.33626125416401)},\n 2: {'MAD': (31.049785357994253, 31.049785357994253),\n  'ZAR': (49.34081116524011, 24.485325277924076),\n  'BAR': (186.4733349428041, 173.51058574419844),\n  'FIG': (216.4480526170515, 216.4480526170515)},\n 3: {'MAD': (82.06955790841465, 82.06955790841465),\n  'BAR': (157.49024871021487, 204.71696584284655),\n  'FIG': (229.47864438131282, 229.47864438131282)}}"
     },
     "execution_count": 95,
     "metadata": {},
     "output_type": "execute_result"
    }
   ],
   "source": [
    "update_schedule(schedule_solution)\n",
    "schedule"
   ],
   "metadata": {
    "collapsed": false,
    "ExecuteTime": {
     "end_time": "2024-03-07T15:16:39.267900Z",
     "start_time": "2024-03-07T15:16:39.252434Z"
    }
   },
   "id": "cdd1e922ace242ff",
   "execution_count": 95
  },
  {
   "cell_type": "code",
   "outputs": [
    {
     "data": {
      "text/plain": "True"
     },
     "execution_count": 96,
     "metadata": {},
     "output_type": "execute_result"
    }
   ],
   "source": [
    "is_feasible({\"real\": schedule_solution, \"discrete\": discrete_solution})"
   ],
   "metadata": {
    "collapsed": false,
    "ExecuteTime": {
     "end_time": "2024-03-07T15:16:39.874250Z",
     "start_time": "2024-03-07T15:16:39.863820Z"
    }
   },
   "id": "bbd7a9f00cf0ae77",
   "execution_count": 96
  },
  {
   "cell_type": "code",
   "outputs": [],
   "source": [],
   "metadata": {
    "collapsed": false
   },
   "id": "c39c6b44c372f86e"
  }
 ],
 "metadata": {
  "kernelspec": {
   "display_name": "Python 3 (ipykernel)",
   "language": "python",
   "name": "python3"
  },
  "language_info": {
   "codemirror_mode": {
    "name": "ipython",
    "version": 3
   },
   "file_extension": ".py",
   "mimetype": "text/x-python",
   "name": "python",
   "nbconvert_exporter": "python",
   "pygments_lexer": "ipython3",
   "version": "3.9.6"
  }
 },
 "nbformat": 4,
 "nbformat_minor": 5
}
