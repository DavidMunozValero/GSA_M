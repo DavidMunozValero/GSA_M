{
 "cells": [
  {
   "cell_type": "markdown",
   "source": [
    "# Infraestructure Manager revenue maximization with GSA"
   ],
   "metadata": {
    "collapsed": false
   },
   "id": "332c3166a53e9a5a"
  },
  {
   "cell_type": "markdown",
   "source": [
    "## 0. Load libraries"
   ],
   "metadata": {
    "collapsed": false
   },
   "id": "7b4fe385be61b35a"
  },
  {
   "cell_type": "code",
   "outputs": [],
   "source": [
    "%load_ext autoreload\n",
    "%autoreload 2\n",
    "\n",
    "import numpy as np\n",
    "\n",
    "from benchmarks.robin_railway import Solution, RevenueMaximization\n",
    "from benchmarks.generator import get_revenue_behaviour\n",
    "from src.entities import GSA"
   ],
   "metadata": {
    "collapsed": false,
    "ExecuteTime": {
     "end_time": "2024-04-01T22:02:41.649282Z",
     "start_time": "2024-04-01T22:02:41.621391Z"
    }
   },
   "id": "c3cc59d5610d418",
   "execution_count": 1
  },
  {
   "cell_type": "markdown",
   "source": [
    "## WARNING!\n",
    "\n",
    "Install local robin module: `python3 -m pip install -e /Users/david/PycharmProjects/robin`"
   ],
   "metadata": {
    "collapsed": false
   },
   "id": "92c9549f60c1311d"
  },
  {
   "cell_type": "code",
   "outputs": [],
   "source": [
    "from pathlib import Path\n",
    "\n",
    "supply_path = Path('/Users/david/PycharmProjects/robin/configs/ewgt23/supply_data.yml')"
   ],
   "metadata": {
    "collapsed": false,
    "ExecuteTime": {
     "end_time": "2024-04-01T22:02:41.660377Z",
     "start_time": "2024-04-01T22:02:41.650542Z"
    }
   },
   "id": "a6598376180713a6",
   "execution_count": 2
  },
  {
   "cell_type": "code",
   "outputs": [],
   "source": [
    "from robin.supply.entities import Supply\n",
    "\n",
    "supply_data = Supply.from_yaml(path=supply_path)"
   ],
   "metadata": {
    "collapsed": false,
    "ExecuteTime": {
     "end_time": "2024-04-01T22:02:43.006125Z",
     "start_time": "2024-04-01T22:02:42.976880Z"
    }
   },
   "id": "6bc0423c9d54cc75",
   "execution_count": 3
  },
  {
   "cell_type": "code",
   "outputs": [
    {
     "name": "stdout",
     "output_type": "stream",
     "text": [
      "Service id: 06301_06-09-2023-06.15 \n",
      "\tDate of service: 2023-09-06 \n",
      "\tStops: ['60000', '71801'] \n",
      "\tLine times (relative): [(0.0, 0.0), (150.0, 150.0)] \n",
      "\tLine times (absolute): [('06:15', '06:15'), ('08:45', '08:45')] \n",
      "\tTrain Service Provider: [1, Renfe, ['1']] \n",
      "\tTime Slot: [37510, 6:15:00, 6:25:00, 6:20:00, 0:10:00] \n",
      "\tRolling Stock: [1, S-114, {1: 250, 2: 50}] \n",
      "\tPrices: \n",
      "\t\t('60000', '71801'): {Básico: 15.0} \n",
      "\tTickets sold (seats): {Básico: 0} \n",
      "\tTickets sold (hard type): {1: 0, 2: 0} \n",
      "\tTickets sold per each pair (seats): {('60000', '71801'): {Básico: 0}} \n",
      "\tTickets sold per each pair (hard type): {('60000', '71801'): {1: 0}} \n",
      "\tCapacity constraints: None \n"
     ]
    }
   ],
   "source": [
    "print(supply_data.services[0])"
   ],
   "metadata": {
    "collapsed": false,
    "ExecuteTime": {
     "end_time": "2024-04-01T22:02:43.617544Z",
     "start_time": "2024-04-01T22:02:43.606360Z"
    }
   },
   "id": "3e7c08c17ae13d9a",
   "execution_count": 4
  },
  {
   "cell_type": "code",
   "outputs": [],
   "source": [
    "service = supply_data.services[0]"
   ],
   "metadata": {
    "collapsed": false,
    "ExecuteTime": {
     "end_time": "2024-04-01T22:04:20.204708Z",
     "start_time": "2024-04-01T22:04:20.178869Z"
    }
   },
   "id": "ffbc5f9c957dd5f7",
   "execution_count": 6
  },
  {
   "cell_type": "code",
   "outputs": [
    {
     "data": {
      "text/plain": "'06301_06-09-2023-06.15'"
     },
     "execution_count": 16,
     "metadata": {},
     "output_type": "execute_result"
    }
   ],
   "source": [
    "service.id"
   ],
   "metadata": {
    "collapsed": false,
    "ExecuteTime": {
     "end_time": "2024-04-01T22:07:43.805041Z",
     "start_time": "2024-04-01T22:07:43.794710Z"
    }
   },
   "id": "77b87c235452d7",
   "execution_count": 16
  },
  {
   "cell_type": "code",
   "outputs": [
    {
     "data": {
      "text/plain": "375"
     },
     "execution_count": 17,
     "metadata": {},
     "output_type": "execute_result"
    }
   ],
   "source": [
    "time = service.id.split(\"-\")[-1]\n",
    "hour, minute = time.split(\".\")\n",
    "delta = int(hour) * 60 + int(minute)\n",
    "\n",
    "delta"
   ],
   "metadata": {
    "collapsed": false,
    "ExecuteTime": {
     "end_time": "2024-04-01T22:07:53.181878Z",
     "start_time": "2024-04-01T22:07:53.167577Z"
    }
   },
   "id": "9462c0eacb21d07a",
   "execution_count": 17
  },
  {
   "cell_type": "code",
   "outputs": [
    {
     "data": {
      "text/plain": "[(datetime.timedelta(seconds=22500), datetime.timedelta(seconds=22500)),\n (datetime.timedelta(seconds=31500), datetime.timedelta(seconds=31500))]"
     },
     "execution_count": 12,
     "metadata": {},
     "output_type": "execute_result"
    }
   ],
   "source": [
    "service.schedule"
   ],
   "metadata": {
    "collapsed": false,
    "ExecuteTime": {
     "end_time": "2024-04-01T22:05:45.401433Z",
     "start_time": "2024-04-01T22:05:45.390924Z"
    }
   },
   "id": "8b4d6f9c768254e4",
   "execution_count": 12
  },
  {
   "cell_type": "code",
   "outputs": [],
   "source": [
    "sm = RevenueMaximization(supply_path, safe_headway=10)"
   ],
   "metadata": {
    "collapsed": false,
    "ExecuteTime": {
     "end_time": "2024-04-01T22:08:58.518693Z",
     "start_time": "2024-04-01T22:08:58.481925Z"
    }
   },
   "id": "94f1efee22a495be",
   "execution_count": 21
  },
  {
   "cell_type": "code",
   "outputs": [
    {
     "data": {
      "text/plain": "{'06301_06-09-2023-06.15': {'60000': [375, 375], '71801': [525, 525]},\n '03063_06-09-2023-06.30': {'60000': [390, 390],\n  '70600': [445, 446],\n  '04040': [471, 472],\n  '71801': [560, 560]},\n '03071_06-09-2023-07.00': {'60000': [420, 420], '71801': [570, 570]},\n '03073_06-09-2023-07.30': {'60000': [450, 450],\n  '70200': [473, 474],\n  '04040': [531, 532],\n  '78400': [575, 577],\n  '71500': [604, 606],\n  '71801': [642, 642]},\n '03081_06-09-2023-08.00': {'60000': [480, 480], '71801': [630, 630]},\n '03083_06-09-2023-08.30': {'60000': [510, 510],\n  '04040': [585, 586],\n  '71801': [675, 675]},\n '03091_06-09-2023-09.00': {'60000': [540, 540], '71801': [690, 690]},\n '03093_06-09-2023-09.30': {'60000': [570, 570],\n  '04040': [645, 646],\n  '78400': [689, 691],\n  '71500': [718, 720],\n  '71801': [757, 765],\n  '79300': [803, 805],\n  '04307': [820, 820]},\n '06303_06-09-2023-10.30': {'60000': [630, 630],\n  '04040': [704, 705],\n  '71801': [795, 795]},\n '03113_06-09-2023-11.30': {'60000': [690, 690],\n  '70600': [745, 746],\n  '04040': [771, 772],\n  '78400': [815, 817],\n  '71500': [844, 846],\n  '71801': [882, 882]},\n '03123_06-09-2023-12.30': {'60000': [750, 750],\n  '04040': [825, 826],\n  '78400': [869, 871],\n  '71801': [940, 950],\n  '79300': [988, 990],\n  '04307': [1005, 1005]},\n '03131_06-09-2023-13.00': {'60000': [780, 780], '71801': [930, 930]},\n '03143_06-09-2023-14.30': {'60000': [870, 870],\n  '70600': [925, 926],\n  '04040': [951, 952],\n  '71801': [1040, 1050],\n  '79300': [1088, 1090],\n  '04307': [1105, 1105]},\n '03151_06-09-2023-15.00': {'60000': [900, 900], '71801': [1049, 1049]},\n '03153_06-09-2023-15.30': {'60000': [930, 930],\n  '70600': [985, 986],\n  '04040': [1011, 1012],\n  '78400': [1055, 1057],\n  '71500': [1084, 1086],\n  '71801': [1122, 1122]},\n '03161_06-09-2023-16.00': {'60000': [960, 960], '71801': [1110, 1110]},\n '03163_06-09-2023-16.30': {'60000': [990, 990],\n  '04040': [1065, 1066],\n  '71801': [1155, 1165],\n  '79300': [1211, 1213],\n  '04307': [1228, 1228]},\n '03171_06-09-2023-17.00': {'60000': [1020, 1020], '71801': [1170, 1170]},\n '03173_06-09-2023-17.30': {'60000': [1050, 1050],\n  '70200': [1073, 1074],\n  '04040': [1131, 1132],\n  '78400': [1175, 1177],\n  '71500': [1204, 1206],\n  '71801': [1242, 1242]},\n '06307_06-09-2023-18.00': {'60000': [1080, 1080], '71801': [1230, 1230]},\n '03183_06-09-2023-18.30': {'60000': [1110, 1110],\n  '04040': [1185, 1186],\n  '71500': [1244, 1246],\n  '71801': [1280, 1280]},\n '03191_06-09-2023-19.00': {'60000': [1140, 1140],\n  '71801': [1290, 1300],\n  '79300': [1338, 1340],\n  '04307': [1355, 1355]},\n '06309_06-09-2023-19.30': {'60000': [1170, 1170],\n  '70200': [1193, 1194],\n  '70600': [1229, 1230],\n  '04040': [1255, 1256],\n  '78400': [1299, 1301],\n  '71500': [1328, 1330],\n  '71801': [1366, 1376],\n  '79300': [1414, 1416],\n  '04307': [1431, 1431]},\n '03203_06-09-2023-20.40': {'60000': [1240, 1240],\n  '70200': [1263, 1264],\n  '70600': [1300, 1301],\n  '04040': [1325, 1326],\n  '78400': [1369, 1371],\n  '71500': [1398, 1400],\n  '71801': [1435, 1435]},\n '03211_06-09-2023-21.10': {'60000': [1270, 1270], '71801': [1420, 1420]}}"
     },
     "execution_count": 22,
     "metadata": {},
     "output_type": "execute_result"
    }
   ],
   "source": [
    "sm.requested_schedule"
   ],
   "metadata": {
    "collapsed": false,
    "ExecuteTime": {
     "end_time": "2024-04-01T22:08:58.905299Z",
     "start_time": "2024-04-01T22:08:58.892309Z"
    }
   },
   "id": "dd0f976d2c4d7872",
   "execution_count": 22
  },
  {
   "cell_type": "code",
   "outputs": [],
   "source": [
    "gsa_algo = GSA(objective_function=sm.get_fitness_gsa,\n",
    "               is_feasible=sm.feasible_services_times,\n",
    "               custom_repair=sm.custom_repair,\n",
    "               r_dim=len(sm.boundaries.real),\n",
    "               d_dim=0,\n",
    "               boundaries=sm.boundaries)"
   ],
   "metadata": {
    "collapsed": false,
    "ExecuteTime": {
     "end_time": "2024-04-01T22:09:04.463730Z",
     "start_time": "2024-04-01T22:09:04.449964Z"
    }
   },
   "id": "bac4a98fae2b0f1a",
   "execution_count": 23
  },
  {
   "cell_type": "code",
   "outputs": [
    {
     "name": "stdout",
     "output_type": "stream",
     "text": [
      "GSA is optimizing  \"get_fitness_gsa\"\n",
      "Scheduled trains: 20\n",
      "Scheduled trains: 20\n",
      "Scheduled trains: 22\n",
      "Scheduled trains: 23\n",
      "Scheduled trains: 24\n",
      "['At iteration 1 the best fitness is 5347.400090323931']\n",
      "Scheduled trains: 22\n",
      "Scheduled trains: 23\n",
      "Scheduled trains: 24\n",
      "['At iteration 2 the best fitness is 5790.639445496287']\n",
      "['At iteration 3 the best fitness is 5790.639445496287']\n",
      "['At iteration 4 the best fitness is 5790.639445496287']\n",
      "['At iteration 5 the best fitness is 5790.639445496287']\n",
      "['At iteration 6 the best fitness is 5790.639445496287']\n",
      "['At iteration 7 the best fitness is 5790.639445496287']\n",
      "['At iteration 8 the best fitness is 5790.639445496287']\n",
      "Scheduled trains: 25\n",
      "['At iteration 9 the best fitness is 5888.85053147975']\n",
      "['At iteration 10 the best fitness is 5888.85053147975']\n",
      "['At iteration 11 the best fitness is 5888.85053147975']\n",
      "['At iteration 12 the best fitness is 5888.85053147975']\n",
      "['At iteration 13 the best fitness is 5888.85053147975']\n",
      "Scheduled trains: 25\n",
      "['At iteration 14 the best fitness is 5892.450659036078']\n",
      "Scheduled trains: 25\n",
      "['At iteration 15 the best fitness is 5898.001863256458']\n",
      "Scheduled trains: 25\n",
      "['At iteration 16 the best fitness is 5898.74376371863']\n",
      "Scheduled trains: 25\n",
      "['At iteration 17 the best fitness is 5905.51732218363']\n",
      "['At iteration 18 the best fitness is 5905.51732218363']\n",
      "['At iteration 19 the best fitness is 5905.51732218363']\n",
      "['At iteration 20 the best fitness is 5905.51732218363']\n",
      "['At iteration 21 the best fitness is 5905.51732218363']\n",
      "['At iteration 22 the best fitness is 5905.51732218363']\n",
      "['At iteration 23 the best fitness is 5905.51732218363']\n",
      "['At iteration 24 the best fitness is 5905.51732218363']\n",
      "['At iteration 25 the best fitness is 5905.51732218363']\n",
      "['At iteration 26 the best fitness is 5905.51732218363']\n",
      "['At iteration 27 the best fitness is 5905.51732218363']\n",
      "['At iteration 28 the best fitness is 5905.51732218363']\n",
      "['At iteration 29 the best fitness is 5905.51732218363']\n",
      "['At iteration 30 the best fitness is 5905.51732218363']\n",
      "['At iteration 31 the best fitness is 5905.51732218363']\n",
      "['At iteration 32 the best fitness is 5905.51732218363']\n",
      "['At iteration 33 the best fitness is 5905.51732218363']\n",
      "['At iteration 34 the best fitness is 5905.51732218363']\n",
      "['At iteration 35 the best fitness is 5905.51732218363']\n",
      "['At iteration 36 the best fitness is 5905.51732218363']\n",
      "['At iteration 37 the best fitness is 5905.51732218363']\n",
      "['At iteration 38 the best fitness is 5905.51732218363']\n",
      "['At iteration 39 the best fitness is 5905.51732218363']\n",
      "['At iteration 40 the best fitness is 5905.51732218363']\n",
      "['At iteration 41 the best fitness is 5905.51732218363']\n",
      "['At iteration 42 the best fitness is 5905.51732218363']\n",
      "['At iteration 43 the best fitness is 5905.51732218363']\n",
      "['At iteration 44 the best fitness is 5905.51732218363']\n",
      "['At iteration 45 the best fitness is 5905.51732218363']\n",
      "['At iteration 46 the best fitness is 5905.51732218363']\n",
      "['At iteration 47 the best fitness is 5905.51732218363']\n",
      "['At iteration 48 the best fitness is 5905.51732218363']\n",
      "['At iteration 49 the best fitness is 5905.51732218363']\n",
      "['At iteration 50 the best fitness is 5905.51732218363']\n",
      "['At iteration 51 the best fitness is 5905.51732218363']\n",
      "['At iteration 52 the best fitness is 5905.51732218363']\n",
      "['At iteration 53 the best fitness is 5905.51732218363']\n",
      "['At iteration 54 the best fitness is 5905.51732218363']\n",
      "['At iteration 55 the best fitness is 5905.51732218363']\n",
      "['At iteration 56 the best fitness is 5905.51732218363']\n",
      "['At iteration 57 the best fitness is 5905.51732218363']\n",
      "['At iteration 58 the best fitness is 5905.51732218363']\n",
      "['At iteration 59 the best fitness is 5905.51732218363']\n",
      "['At iteration 60 the best fitness is 5905.51732218363']\n",
      "['At iteration 61 the best fitness is 5905.51732218363']\n",
      "['At iteration 62 the best fitness is 5905.51732218363']\n",
      "['At iteration 63 the best fitness is 5905.51732218363']\n",
      "['At iteration 64 the best fitness is 5905.51732218363']\n",
      "['At iteration 65 the best fitness is 5905.51732218363']\n",
      "['At iteration 66 the best fitness is 5905.51732218363']\n",
      "['At iteration 67 the best fitness is 5905.51732218363']\n",
      "['At iteration 68 the best fitness is 5905.51732218363']\n",
      "['At iteration 69 the best fitness is 5905.51732218363']\n",
      "['At iteration 70 the best fitness is 5905.51732218363']\n",
      "['At iteration 71 the best fitness is 5905.51732218363']\n",
      "['At iteration 72 the best fitness is 5905.51732218363']\n",
      "['At iteration 73 the best fitness is 5905.51732218363']\n",
      "['At iteration 74 the best fitness is 5905.51732218363']\n",
      "['At iteration 75 the best fitness is 5905.51732218363']\n",
      "['At iteration 76 the best fitness is 5905.51732218363']\n",
      "['At iteration 77 the best fitness is 5905.51732218363']\n",
      "['At iteration 78 the best fitness is 5905.51732218363']\n",
      "['At iteration 79 the best fitness is 5905.51732218363']\n",
      "['At iteration 80 the best fitness is 5905.51732218363']\n",
      "['At iteration 81 the best fitness is 5905.51732218363']\n",
      "['At iteration 82 the best fitness is 5905.51732218363']\n",
      "['At iteration 83 the best fitness is 5905.51732218363']\n",
      "['At iteration 84 the best fitness is 5905.51732218363']\n",
      "['At iteration 85 the best fitness is 5905.51732218363']\n",
      "['At iteration 86 the best fitness is 5905.51732218363']\n",
      "['At iteration 87 the best fitness is 5905.51732218363']\n",
      "['At iteration 88 the best fitness is 5905.51732218363']\n",
      "['At iteration 89 the best fitness is 5905.51732218363']\n",
      "['At iteration 90 the best fitness is 5905.51732218363']\n",
      "['At iteration 91 the best fitness is 5905.51732218363']\n",
      "['At iteration 92 the best fitness is 5905.51732218363']\n",
      "['At iteration 93 the best fitness is 5905.51732218363']\n",
      "['At iteration 94 the best fitness is 5905.51732218363']\n",
      "['At iteration 95 the best fitness is 5905.51732218363']\n",
      "['At iteration 96 the best fitness is 5905.51732218363']\n",
      "['At iteration 97 the best fitness is 5905.51732218363']\n",
      "['At iteration 98 the best fitness is 5905.51732218363']\n",
      "['At iteration 99 the best fitness is 5905.51732218363']\n",
      "['At iteration 100 the best fitness is 5905.51732218363']\n",
      "<src.entities.Solution object at 0x177f703d0>\n",
      "Elapsed time: 7.77 seconds\n"
     ]
    }
   ],
   "source": [
    "import cProfile as profile\n",
    "import time\n",
    "\n",
    "pr = profile.Profile()\n",
    "pr.disable()\n",
    "\n",
    "gsa_algo.set_seed(seed=15)\n",
    "\n",
    "pop_size = 20\n",
    "\n",
    "start = time.time()\n",
    "pr.enable()\n",
    "training_history = gsa_algo.optimize(population_size=pop_size,\n",
    "                                     iters=100,\n",
    "                                     chaotic_constant=False,\n",
    "                                     repair_solution=True,\n",
    "                                     initial_population=sm.get_initial_population(pop_size))\n",
    "pr.disable()\n",
    "print(f\"Elapsed time: {round(time.time() - start, 2)} seconds\")\n",
    "\n",
    "pr.dump_stats('profile.pstat')"
   ],
   "metadata": {
    "collapsed": false,
    "ExecuteTime": {
     "end_time": "2024-04-01T22:09:12.468485Z",
     "start_time": "2024-04-01T22:09:04.682298Z"
    }
   },
   "id": "827d315d63189f83",
   "execution_count": 24
  },
  {
   "cell_type": "code",
   "outputs": [],
   "source": [
    "import pandas as pd\n",
    "\n",
    "from random import randint, seed \n",
    "from typing import Tuple\n",
    "\n",
    "def run_gsa(chaotic_constant: bool=False,\n",
    "            repair_solution: bool=True,\n",
    "            runs: int=10,\n",
    "            population_size: int=20,\n",
    "            iterations: int=30\n",
    "            ) -> Tuple[pd.DataFrame, pd.DataFrame]:\n",
    "    \n",
    "    global_train_hist = pd.DataFrame()\n",
    "    global_test_hist = pd.DataFrame(columns=[\"run\", \"fitness\"])\n",
    "    \n",
    "    for k in range(runs):\n",
    "        gsa_seed = randint(0, 1000)\n",
    "        sm = RevenueMaximization(schedule, revenue, safe_headway=10)\n",
    "        \n",
    "        gsa_algo = GSA(objective_function=sm.get_fitness_gsa,\n",
    "                       is_feasible=sm.feasible_services_times,\n",
    "                       custom_repair=sm.custom_repair,\n",
    "                       r_dim=len(sm.boundaries.real),\n",
    "                       d_dim=0,\n",
    "                       boundaries=sm.boundaries)\n",
    "        \n",
    "        gsa_algo.set_seed(seed=gsa_seed)\n",
    "        training_history = gsa_algo.optimize(population_size=population_size,\n",
    "                                     iters=iterations,\n",
    "                                     chaotic_constant=chaotic_constant,\n",
    "                                     repair_solution=repair_solution,\n",
    "                                     initial_population=sm.get_initial_population(pop_size))\n",
    "        \n",
    "        training_history.insert(0, \"run\", k)\n",
    "        global_train_hist = pd.concat([global_train_hist, training_history], axis=0)\n",
    "        \n",
    "        print(gsa_algo.solution_history[-1])\n",
    "        fitness = training_history.iloc[-1]['Fitness']\n",
    "        \n",
    "        global_test_hist.loc[len(global_test_hist)] = [k, fitness]\n",
    "        \n",
    "        print(\"Fitness: \", fitness)\n",
    "    \n",
    "    return global_train_hist, global_test_hist"
   ],
   "metadata": {
    "collapsed": false,
    "ExecuteTime": {
     "end_time": "2024-04-01T22:08:46.790568Z",
     "start_time": "2024-04-01T22:08:46.773566Z"
    }
   },
   "id": "fdd28d3159cd0a59",
   "execution_count": 20
  },
  {
   "cell_type": "code",
   "outputs": [
    {
     "name": "stdout",
     "output_type": "stream",
     "text": [
      "Running GSA with chaotic constant:  True\n",
      "GSA is optimizing  \"get_fitness_gsa\"\n",
      "Scheduled trains: 31\n",
      "Scheduled trains: 32\n",
      "['At iteration 1 the best fitness is 6464.608284130071']\n",
      "Scheduled trains: 30\n",
      "Scheduled trains: 30\n",
      "['At iteration 2 the best fitness is 6691.319327285762']\n",
      "['At iteration 3 the best fitness is 6691.319327285762']\n",
      "['At iteration 4 the best fitness is 6691.319327285762']\n",
      "['At iteration 5 the best fitness is 6691.319327285762']\n",
      "Scheduled trains: 31\n",
      "['At iteration 6 the best fitness is 6737.671597509689']\n",
      "Scheduled trains: 31\n",
      "['At iteration 7 the best fitness is 6750.951575369593']\n",
      "Scheduled trains: 31\n",
      "['At iteration 8 the best fitness is 6873.412039575753']\n",
      "['At iteration 9 the best fitness is 6873.412039575753']\n",
      "['At iteration 10 the best fitness is 6873.412039575753']\n",
      "['At iteration 11 the best fitness is 6873.412039575753']\n",
      "['At iteration 12 the best fitness is 6873.412039575753']\n",
      "['At iteration 13 the best fitness is 6873.412039575753']\n",
      "['At iteration 14 the best fitness is 6873.412039575753']\n",
      "['At iteration 15 the best fitness is 6873.412039575753']\n",
      "['At iteration 16 the best fitness is 6873.412039575753']\n",
      "['At iteration 17 the best fitness is 6873.412039575753']\n",
      "['At iteration 18 the best fitness is 6873.412039575753']\n",
      "['At iteration 19 the best fitness is 6873.412039575753']\n",
      "['At iteration 20 the best fitness is 6873.412039575753']\n",
      "['At iteration 21 the best fitness is 6873.412039575753']\n",
      "['At iteration 22 the best fitness is 6873.412039575753']\n",
      "['At iteration 23 the best fitness is 6873.412039575753']\n",
      "['At iteration 24 the best fitness is 6873.412039575753']\n",
      "['At iteration 25 the best fitness is 6873.412039575753']\n",
      "['At iteration 26 the best fitness is 6873.412039575753']\n",
      "['At iteration 27 the best fitness is 6873.412039575753']\n",
      "['At iteration 28 the best fitness is 6873.412039575753']\n",
      "['At iteration 29 the best fitness is 6873.412039575753']\n",
      "['At iteration 30 the best fitness is 6873.412039575753']\n",
      "<src.entities.Solution object at 0x286f2bf70>\n",
      "<src.entities.Solution object at 0x286f2bf70>\n",
      "Fitness:  6873.412039575753\n",
      "GSA is optimizing  \"get_fitness_gsa\"\n",
      "Scheduled trains: 32\n",
      "Scheduled trains: 30\n",
      "['At iteration 1 the best fitness is 6237.665002052503']\n",
      "Scheduled trains: 30\n",
      "['At iteration 2 the best fitness is 6648.88701321808']\n",
      "Scheduled trains: 31\n",
      "['At iteration 3 the best fitness is 6720.700821430138']\n",
      "['At iteration 4 the best fitness is 6720.700821430138']\n",
      "['At iteration 5 the best fitness is 6720.700821430138']\n",
      "['At iteration 6 the best fitness is 6720.700821430138']\n",
      "Scheduled trains: 32\n",
      "['At iteration 7 the best fitness is 6806.497827681531']\n",
      "['At iteration 8 the best fitness is 6806.497827681531']\n",
      "['At iteration 9 the best fitness is 6806.497827681531']\n",
      "['At iteration 10 the best fitness is 6806.497827681531']\n",
      "['At iteration 11 the best fitness is 6806.497827681531']\n",
      "['At iteration 12 the best fitness is 6806.497827681531']\n",
      "['At iteration 13 the best fitness is 6806.497827681531']\n",
      "['At iteration 14 the best fitness is 6806.497827681531']\n",
      "['At iteration 15 the best fitness is 6806.497827681531']\n",
      "['At iteration 16 the best fitness is 6806.497827681531']\n",
      "['At iteration 17 the best fitness is 6806.497827681531']\n",
      "['At iteration 18 the best fitness is 6806.497827681531']\n",
      "['At iteration 19 the best fitness is 6806.497827681531']\n",
      "['At iteration 20 the best fitness is 6806.497827681531']\n",
      "['At iteration 21 the best fitness is 6806.497827681531']\n",
      "['At iteration 22 the best fitness is 6806.497827681531']\n",
      "['At iteration 23 the best fitness is 6806.497827681531']\n",
      "['At iteration 24 the best fitness is 6806.497827681531']\n",
      "['At iteration 25 the best fitness is 6806.497827681531']\n",
      "['At iteration 26 the best fitness is 6806.497827681531']\n",
      "['At iteration 27 the best fitness is 6806.497827681531']\n",
      "['At iteration 28 the best fitness is 6806.497827681531']\n",
      "['At iteration 29 the best fitness is 6806.497827681531']\n",
      "['At iteration 30 the best fitness is 6806.497827681531']\n",
      "<src.entities.Solution object at 0x286ccde20>\n",
      "<src.entities.Solution object at 0x286ccde20>\n",
      "Fitness:  6806.497827681531\n",
      "GSA is optimizing  \"get_fitness_gsa\"\n",
      "Scheduled trains: 30\n",
      "Scheduled trains: 30\n",
      "Scheduled trains: 33\n",
      "['At iteration 1 the best fitness is 6677.442942266173']\n",
      "['At iteration 2 the best fitness is 6677.442942266173']\n",
      "['At iteration 3 the best fitness is 6677.442942266173']\n",
      "['At iteration 4 the best fitness is 6677.442942266173']\n",
      "['At iteration 5 the best fitness is 6677.442942266173']\n",
      "['At iteration 6 the best fitness is 6677.442942266173']\n",
      "['At iteration 7 the best fitness is 6677.442942266173']\n",
      "['At iteration 8 the best fitness is 6677.442942266173']\n",
      "['At iteration 9 the best fitness is 6677.442942266173']\n",
      "['At iteration 10 the best fitness is 6677.442942266173']\n",
      "['At iteration 11 the best fitness is 6677.442942266173']\n",
      "['At iteration 12 the best fitness is 6677.442942266173']\n",
      "['At iteration 13 the best fitness is 6677.442942266173']\n",
      "['At iteration 14 the best fitness is 6677.442942266173']\n",
      "['At iteration 15 the best fitness is 6677.442942266173']\n",
      "['At iteration 16 the best fitness is 6677.442942266173']\n",
      "['At iteration 17 the best fitness is 6677.442942266173']\n",
      "['At iteration 18 the best fitness is 6677.442942266173']\n",
      "['At iteration 19 the best fitness is 6677.442942266173']\n",
      "['At iteration 20 the best fitness is 6677.442942266173']\n",
      "['At iteration 21 the best fitness is 6677.442942266173']\n",
      "['At iteration 22 the best fitness is 6677.442942266173']\n",
      "['At iteration 23 the best fitness is 6677.442942266173']\n",
      "['At iteration 24 the best fitness is 6677.442942266173']\n",
      "['At iteration 25 the best fitness is 6677.442942266173']\n",
      "['At iteration 26 the best fitness is 6677.442942266173']\n",
      "['At iteration 27 the best fitness is 6677.442942266173']\n",
      "['At iteration 28 the best fitness is 6677.442942266173']\n",
      "['At iteration 29 the best fitness is 6677.442942266173']\n",
      "['At iteration 30 the best fitness is 6677.442942266173']\n",
      "<src.entities.Solution object at 0x286f5c6d0>\n",
      "<src.entities.Solution object at 0x286f5c6d0>\n",
      "Fitness:  6677.442942266173\n",
      "GSA is optimizing  \"get_fitness_gsa\"\n",
      "Scheduled trains: 28\n",
      "Scheduled trains: 29\n",
      "Scheduled trains: 31\n",
      "Scheduled trains: 31\n",
      "Scheduled trains: 31\n",
      "Scheduled trains: 33\n",
      "['At iteration 1 the best fitness is 6600.425949203925']\n",
      "['At iteration 2 the best fitness is 6600.425949203925']\n",
      "Scheduled trains: 31\n",
      "['At iteration 3 the best fitness is 6608.019654219316']\n",
      "['At iteration 4 the best fitness is 6608.019654219316']\n",
      "['At iteration 5 the best fitness is 6608.019654219316']\n",
      "Scheduled trains: 32\n",
      "['At iteration 6 the best fitness is 6645.43187679812']\n",
      "['At iteration 7 the best fitness is 6645.43187679812']\n",
      "['At iteration 8 the best fitness is 6645.43187679812']\n",
      "['At iteration 9 the best fitness is 6645.43187679812']\n",
      "['At iteration 10 the best fitness is 6645.43187679812']\n",
      "['At iteration 11 the best fitness is 6645.43187679812']\n",
      "['At iteration 12 the best fitness is 6645.43187679812']\n",
      "['At iteration 13 the best fitness is 6645.43187679812']\n",
      "['At iteration 14 the best fitness is 6645.43187679812']\n",
      "['At iteration 15 the best fitness is 6645.43187679812']\n",
      "['At iteration 16 the best fitness is 6645.43187679812']\n",
      "['At iteration 17 the best fitness is 6645.43187679812']\n",
      "['At iteration 18 the best fitness is 6645.43187679812']\n",
      "['At iteration 19 the best fitness is 6645.43187679812']\n",
      "['At iteration 20 the best fitness is 6645.43187679812']\n",
      "['At iteration 21 the best fitness is 6645.43187679812']\n",
      "['At iteration 22 the best fitness is 6645.43187679812']\n",
      "['At iteration 23 the best fitness is 6645.43187679812']\n",
      "['At iteration 24 the best fitness is 6645.43187679812']\n",
      "['At iteration 25 the best fitness is 6645.43187679812']\n",
      "['At iteration 26 the best fitness is 6645.43187679812']\n",
      "['At iteration 27 the best fitness is 6645.43187679812']\n",
      "['At iteration 28 the best fitness is 6645.43187679812']\n",
      "['At iteration 29 the best fitness is 6645.43187679812']\n",
      "['At iteration 30 the best fitness is 6645.43187679812']\n",
      "<src.entities.Solution object at 0x287559130>\n",
      "<src.entities.Solution object at 0x287559130>\n",
      "Fitness:  6645.43187679812\n",
      "GSA is optimizing  \"get_fitness_gsa\"\n",
      "Scheduled trains: 29\n",
      "Scheduled trains: 30\n",
      "Scheduled trains: 31\n",
      "Scheduled trains: 31\n",
      "Scheduled trains: 33\n",
      "['At iteration 1 the best fitness is 6369.1954355891385']\n",
      "['At iteration 2 the best fitness is 6369.1954355891385']\n",
      "Scheduled trains: 30\n",
      "Scheduled trains: 30\n",
      "Scheduled trains: 30\n",
      "['At iteration 3 the best fitness is 6435.141838605171']\n",
      "['At iteration 4 the best fitness is 6435.141838605171']\n",
      "Scheduled trains: 31\n",
      "Scheduled trains: 30\n",
      "['At iteration 5 the best fitness is 6518.118048208116']\n",
      "['At iteration 6 the best fitness is 6518.118048208116']\n",
      "['At iteration 7 the best fitness is 6518.118048208116']\n",
      "['At iteration 8 the best fitness is 6518.118048208116']\n",
      "['At iteration 9 the best fitness is 6518.118048208116']\n",
      "['At iteration 10 the best fitness is 6518.118048208116']\n",
      "['At iteration 11 the best fitness is 6518.118048208116']\n",
      "['At iteration 12 the best fitness is 6518.118048208116']\n",
      "['At iteration 13 the best fitness is 6518.118048208116']\n",
      "['At iteration 14 the best fitness is 6518.118048208116']\n",
      "['At iteration 15 the best fitness is 6518.118048208116']\n",
      "['At iteration 16 the best fitness is 6518.118048208116']\n",
      "['At iteration 17 the best fitness is 6518.118048208116']\n",
      "['At iteration 18 the best fitness is 6518.118048208116']\n",
      "['At iteration 19 the best fitness is 6518.118048208116']\n",
      "['At iteration 20 the best fitness is 6518.118048208116']\n",
      "['At iteration 21 the best fitness is 6518.118048208116']\n",
      "['At iteration 22 the best fitness is 6518.118048208116']\n",
      "['At iteration 23 the best fitness is 6518.118048208116']\n",
      "['At iteration 24 the best fitness is 6518.118048208116']\n",
      "['At iteration 25 the best fitness is 6518.118048208116']\n",
      "['At iteration 26 the best fitness is 6518.118048208116']\n",
      "['At iteration 27 the best fitness is 6518.118048208116']\n",
      "['At iteration 28 the best fitness is 6518.118048208116']\n",
      "['At iteration 29 the best fitness is 6518.118048208116']\n",
      "['At iteration 30 the best fitness is 6518.118048208116']\n",
      "<src.entities.Solution object at 0x286f5cd90>\n",
      "<src.entities.Solution object at 0x286f5cd90>\n",
      "Fitness:  6518.118048208116\n",
      "GSA is optimizing  \"get_fitness_gsa\"\n",
      "Scheduled trains: 29\n",
      "Scheduled trains: 31\n",
      "Scheduled trains: 32\n",
      "Scheduled trains: 34\n",
      "['At iteration 1 the best fitness is 6472.580758626855']\n",
      "Scheduled trains: 31\n",
      "Scheduled trains: 31\n",
      "Scheduled trains: 31\n",
      "['At iteration 2 the best fitness is 6716.914051853244']\n",
      "Scheduled trains: 32\n",
      "['At iteration 3 the best fitness is 6739.654077198139']\n",
      "['At iteration 4 the best fitness is 6739.654077198139']\n",
      "['At iteration 5 the best fitness is 6739.654077198139']\n",
      "Scheduled trains: 32\n",
      "['At iteration 6 the best fitness is 6808.41633788995']\n",
      "['At iteration 7 the best fitness is 6808.41633788995']\n",
      "['At iteration 8 the best fitness is 6808.41633788995']\n",
      "['At iteration 9 the best fitness is 6808.41633788995']\n",
      "['At iteration 10 the best fitness is 6808.41633788995']\n",
      "['At iteration 11 the best fitness is 6808.41633788995']\n",
      "['At iteration 12 the best fitness is 6808.41633788995']\n",
      "['At iteration 13 the best fitness is 6808.41633788995']\n",
      "['At iteration 14 the best fitness is 6808.41633788995']\n",
      "['At iteration 15 the best fitness is 6808.41633788995']\n",
      "['At iteration 16 the best fitness is 6808.41633788995']\n",
      "['At iteration 17 the best fitness is 6808.41633788995']\n",
      "['At iteration 18 the best fitness is 6808.41633788995']\n",
      "['At iteration 19 the best fitness is 6808.41633788995']\n",
      "['At iteration 20 the best fitness is 6808.41633788995']\n",
      "['At iteration 21 the best fitness is 6808.41633788995']\n",
      "['At iteration 22 the best fitness is 6808.41633788995']\n",
      "['At iteration 23 the best fitness is 6808.41633788995']\n",
      "['At iteration 24 the best fitness is 6808.41633788995']\n",
      "['At iteration 25 the best fitness is 6808.41633788995']\n",
      "['At iteration 26 the best fitness is 6808.41633788995']\n",
      "['At iteration 27 the best fitness is 6808.41633788995']\n",
      "['At iteration 28 the best fitness is 6808.41633788995']\n",
      "['At iteration 29 the best fitness is 6808.41633788995']\n",
      "['At iteration 30 the best fitness is 6808.41633788995']\n",
      "<src.entities.Solution object at 0x286b22c40>\n",
      "<src.entities.Solution object at 0x286b22c40>\n",
      "Fitness:  6808.41633788995\n",
      "GSA is optimizing  \"get_fitness_gsa\"\n",
      "Scheduled trains: 30\n",
      "Scheduled trains: 31\n",
      "Scheduled trains: 33\n",
      "Scheduled trains: 34\n",
      "['At iteration 1 the best fitness is 6476.77509165542']\n",
      "Scheduled trains: 30\n",
      "['At iteration 2 the best fitness is 6484.586228441074']\n",
      "Scheduled trains: 30\n",
      "Scheduled trains: 31\n",
      "Scheduled trains: 33\n",
      "['At iteration 3 the best fitness is 7019.267201847429']\n",
      "['At iteration 4 the best fitness is 7019.267201847429']\n",
      "['At iteration 5 the best fitness is 7019.267201847429']\n",
      "['At iteration 6 the best fitness is 7019.267201847429']\n",
      "['At iteration 7 the best fitness is 7019.267201847429']\n",
      "['At iteration 8 the best fitness is 7019.267201847429']\n",
      "['At iteration 9 the best fitness is 7019.267201847429']\n",
      "['At iteration 10 the best fitness is 7019.267201847429']\n",
      "Scheduled trains: 32\n",
      "['At iteration 11 the best fitness is 7030.593191549252']\n",
      "['At iteration 12 the best fitness is 7030.593191549252']\n",
      "Scheduled trains: 32\n",
      "['At iteration 13 the best fitness is 7034.046989972875']\n",
      "['At iteration 14 the best fitness is 7034.046989972875']\n",
      "['At iteration 15 the best fitness is 7034.046989972875']\n",
      "['At iteration 16 the best fitness is 7034.046989972875']\n",
      "['At iteration 17 the best fitness is 7034.046989972875']\n",
      "['At iteration 18 the best fitness is 7034.046989972875']\n",
      "['At iteration 19 the best fitness is 7034.046989972875']\n",
      "['At iteration 20 the best fitness is 7034.046989972875']\n",
      "['At iteration 21 the best fitness is 7034.046989972875']\n",
      "['At iteration 22 the best fitness is 7034.046989972875']\n",
      "['At iteration 23 the best fitness is 7034.046989972875']\n",
      "['At iteration 24 the best fitness is 7034.046989972875']\n",
      "['At iteration 25 the best fitness is 7034.046989972875']\n",
      "['At iteration 26 the best fitness is 7034.046989972875']\n",
      "['At iteration 27 the best fitness is 7034.046989972875']\n",
      "['At iteration 28 the best fitness is 7034.046989972875']\n",
      "['At iteration 29 the best fitness is 7034.046989972875']\n",
      "['At iteration 30 the best fitness is 7034.046989972875']\n",
      "<src.entities.Solution object at 0x286f5c040>\n",
      "<src.entities.Solution object at 0x286f5c040>\n",
      "Fitness:  7034.046989972875\n",
      "GSA is optimizing  \"get_fitness_gsa\"\n",
      "Scheduled trains: 29\n",
      "Scheduled trains: 31\n",
      "Scheduled trains: 33\n",
      "Scheduled trains: 34\n",
      "['At iteration 1 the best fitness is 6412.60531912394']\n",
      "['At iteration 2 the best fitness is 6412.60531912394']\n",
      "Scheduled trains: 31\n",
      "['At iteration 3 the best fitness is 6484.965937242104']\n",
      "['At iteration 4 the best fitness is 6484.965937242104']\n",
      "['At iteration 5 the best fitness is 6484.965937242104']\n",
      "['At iteration 6 the best fitness is 6484.965937242104']\n",
      "['At iteration 7 the best fitness is 6484.965937242104']\n",
      "['At iteration 8 the best fitness is 6484.965937242104']\n",
      "['At iteration 9 the best fitness is 6484.965937242104']\n",
      "['At iteration 10 the best fitness is 6484.965937242104']\n",
      "['At iteration 11 the best fitness is 6484.965937242104']\n",
      "['At iteration 12 the best fitness is 6484.965937242104']\n",
      "['At iteration 13 the best fitness is 6484.965937242104']\n",
      "['At iteration 14 the best fitness is 6484.965937242104']\n",
      "['At iteration 15 the best fitness is 6484.965937242104']\n",
      "['At iteration 16 the best fitness is 6484.965937242104']\n",
      "['At iteration 17 the best fitness is 6484.965937242104']\n",
      "Scheduled trains: 29\n",
      "['At iteration 18 the best fitness is 6492.391689530669']\n",
      "['At iteration 19 the best fitness is 6492.391689530669']\n",
      "['At iteration 20 the best fitness is 6492.391689530669']\n",
      "Scheduled trains: 29\n",
      "['At iteration 21 the best fitness is 6496.308531009718']\n",
      "['At iteration 22 the best fitness is 6496.308531009718']\n",
      "['At iteration 23 the best fitness is 6496.308531009718']\n",
      "['At iteration 24 the best fitness is 6496.308531009718']\n",
      "['At iteration 25 the best fitness is 6496.308531009718']\n",
      "['At iteration 26 the best fitness is 6496.308531009718']\n",
      "['At iteration 27 the best fitness is 6496.308531009718']\n",
      "['At iteration 28 the best fitness is 6496.308531009718']\n",
      "['At iteration 29 the best fitness is 6496.308531009718']\n",
      "['At iteration 30 the best fitness is 6496.308531009718']\n",
      "<src.entities.Solution object at 0x286f5f7c0>\n",
      "<src.entities.Solution object at 0x286f5f7c0>\n",
      "Fitness:  6496.308531009718\n",
      "GSA is optimizing  \"get_fitness_gsa\"\n",
      "Scheduled trains: 30\n",
      "Scheduled trains: 32\n",
      "['At iteration 1 the best fitness is 6420.648128442398']\n",
      "Scheduled trains: 29\n",
      "['At iteration 2 the best fitness is 6471.507851592129']\n",
      "Scheduled trains: 32\n",
      "Scheduled trains: 31\n",
      "['At iteration 3 the best fitness is 6735.791218953891']\n",
      "Scheduled trains: 32\n",
      "['At iteration 4 the best fitness is 6741.3476103484545']\n",
      "Scheduled trains: 33\n",
      "['At iteration 5 the best fitness is 7020.668533293255']\n",
      "['At iteration 6 the best fitness is 7020.668533293255']\n",
      "['At iteration 7 the best fitness is 7020.668533293255']\n",
      "['At iteration 8 the best fitness is 7020.668533293255']\n",
      "['At iteration 9 the best fitness is 7020.668533293255']\n",
      "['At iteration 10 the best fitness is 7020.668533293255']\n",
      "['At iteration 11 the best fitness is 7020.668533293255']\n",
      "['At iteration 12 the best fitness is 7020.668533293255']\n",
      "['At iteration 13 the best fitness is 7020.668533293255']\n",
      "['At iteration 14 the best fitness is 7020.668533293255']\n",
      "['At iteration 15 the best fitness is 7020.668533293255']\n",
      "['At iteration 16 the best fitness is 7020.668533293255']\n",
      "['At iteration 17 the best fitness is 7020.668533293255']\n",
      "['At iteration 18 the best fitness is 7020.668533293255']\n",
      "['At iteration 19 the best fitness is 7020.668533293255']\n",
      "['At iteration 20 the best fitness is 7020.668533293255']\n",
      "['At iteration 21 the best fitness is 7020.668533293255']\n",
      "['At iteration 22 the best fitness is 7020.668533293255']\n",
      "['At iteration 23 the best fitness is 7020.668533293255']\n",
      "['At iteration 24 the best fitness is 7020.668533293255']\n",
      "['At iteration 25 the best fitness is 7020.668533293255']\n",
      "['At iteration 26 the best fitness is 7020.668533293255']\n",
      "['At iteration 27 the best fitness is 7020.668533293255']\n",
      "['At iteration 28 the best fitness is 7020.668533293255']\n",
      "['At iteration 29 the best fitness is 7020.668533293255']\n",
      "['At iteration 30 the best fitness is 7020.668533293255']\n",
      "<src.entities.Solution object at 0x177065850>\n",
      "<src.entities.Solution object at 0x177065850>\n",
      "Fitness:  7020.668533293255\n",
      "GSA is optimizing  \"get_fitness_gsa\"\n",
      "Scheduled trains: 28\n",
      "Scheduled trains: 30\n",
      "Scheduled trains: 31\n",
      "Scheduled trains: 32\n",
      "['At iteration 1 the best fitness is 6219.333008910471']\n",
      "Scheduled trains: 29\n",
      "Scheduled trains: 31\n",
      "Scheduled trains: 30\n",
      "['At iteration 2 the best fitness is 6584.664359662984']\n",
      "Scheduled trains: 32\n",
      "['At iteration 3 the best fitness is 6679.351004509842']\n",
      "Scheduled trains: 31\n",
      "['At iteration 4 the best fitness is 6738.50355613171']\n",
      "['At iteration 5 the best fitness is 6738.50355613171']\n",
      "Scheduled trains: 31\n",
      "['At iteration 6 the best fitness is 6761.427986147162']\n",
      "['At iteration 7 the best fitness is 6761.427986147162']\n",
      "['At iteration 8 the best fitness is 6761.427986147162']\n",
      "['At iteration 9 the best fitness is 6761.427986147162']\n",
      "['At iteration 10 the best fitness is 6761.427986147162']\n",
      "['At iteration 11 the best fitness is 6761.427986147162']\n",
      "['At iteration 12 the best fitness is 6761.427986147162']\n",
      "['At iteration 13 the best fitness is 6761.427986147162']\n",
      "['At iteration 14 the best fitness is 6761.427986147162']\n",
      "['At iteration 15 the best fitness is 6761.427986147162']\n",
      "['At iteration 16 the best fitness is 6761.427986147162']\n",
      "['At iteration 17 the best fitness is 6761.427986147162']\n",
      "['At iteration 18 the best fitness is 6761.427986147162']\n",
      "['At iteration 19 the best fitness is 6761.427986147162']\n",
      "['At iteration 20 the best fitness is 6761.427986147162']\n",
      "['At iteration 21 the best fitness is 6761.427986147162']\n",
      "['At iteration 22 the best fitness is 6761.427986147162']\n",
      "['At iteration 23 the best fitness is 6761.427986147162']\n",
      "['At iteration 24 the best fitness is 6761.427986147162']\n",
      "['At iteration 25 the best fitness is 6761.427986147162']\n",
      "['At iteration 26 the best fitness is 6761.427986147162']\n",
      "['At iteration 27 the best fitness is 6761.427986147162']\n",
      "['At iteration 28 the best fitness is 6761.427986147162']\n",
      "['At iteration 29 the best fitness is 6761.427986147162']\n",
      "['At iteration 30 the best fitness is 6761.427986147162']\n",
      "<src.entities.Solution object at 0x286aea760>\n",
      "<src.entities.Solution object at 0x286aea760>\n",
      "Fitness:  6761.427986147162\n",
      "Running GSA with chaotic constant:  False\n",
      "GSA is optimizing  \"get_fitness_gsa\"\n",
      "Scheduled trains: 29\n",
      "Scheduled trains: 30\n",
      "Scheduled trains: 31\n",
      "Scheduled trains: 31\n",
      "['At iteration 1 the best fitness is 6362.597724056341']\n",
      "['At iteration 2 the best fitness is 6362.597724056341']\n",
      "Scheduled trains: 29\n",
      "Scheduled trains: 30\n",
      "['At iteration 3 the best fitness is 6529.805215489116']\n",
      "Scheduled trains: 31\n",
      "['At iteration 4 the best fitness is 6564.131447089045']\n",
      "['At iteration 5 the best fitness is 6564.131447089045']\n",
      "['At iteration 6 the best fitness is 6564.131447089045']\n",
      "['At iteration 7 the best fitness is 6564.131447089045']\n",
      "Scheduled trains: 31\n",
      "['At iteration 8 the best fitness is 6564.9279916982705']\n",
      "['At iteration 9 the best fitness is 6564.9279916982705']\n",
      "['At iteration 10 the best fitness is 6564.9279916982705']\n",
      "['At iteration 11 the best fitness is 6564.9279916982705']\n",
      "['At iteration 12 the best fitness is 6564.9279916982705']\n",
      "['At iteration 13 the best fitness is 6564.9279916982705']\n",
      "['At iteration 14 the best fitness is 6564.9279916982705']\n",
      "['At iteration 15 the best fitness is 6564.9279916982705']\n",
      "['At iteration 16 the best fitness is 6564.9279916982705']\n",
      "['At iteration 17 the best fitness is 6564.9279916982705']\n",
      "['At iteration 18 the best fitness is 6564.9279916982705']\n",
      "['At iteration 19 the best fitness is 6564.9279916982705']\n",
      "['At iteration 20 the best fitness is 6564.9279916982705']\n",
      "['At iteration 21 the best fitness is 6564.9279916982705']\n",
      "['At iteration 22 the best fitness is 6564.9279916982705']\n",
      "['At iteration 23 the best fitness is 6564.9279916982705']\n",
      "['At iteration 24 the best fitness is 6564.9279916982705']\n",
      "['At iteration 25 the best fitness is 6564.9279916982705']\n",
      "['At iteration 26 the best fitness is 6564.9279916982705']\n",
      "['At iteration 27 the best fitness is 6564.9279916982705']\n",
      "['At iteration 28 the best fitness is 6564.9279916982705']\n",
      "['At iteration 29 the best fitness is 6564.9279916982705']\n",
      "['At iteration 30 the best fitness is 6564.9279916982705']\n",
      "<src.entities.Solution object at 0x286f2bc40>\n",
      "<src.entities.Solution object at 0x286f2bc40>\n",
      "Fitness:  6564.9279916982705\n",
      "GSA is optimizing  \"get_fitness_gsa\"\n",
      "Scheduled trains: 31\n",
      "Scheduled trains: 32\n",
      "Scheduled trains: 32\n",
      "Scheduled trains: 32\n",
      "['At iteration 1 the best fitness is 6580.550340582734']\n",
      "Scheduled trains: 31\n",
      "['At iteration 2 the best fitness is 6635.635482834009']\n",
      "['At iteration 3 the best fitness is 6635.635482834009']\n",
      "Scheduled trains: 31\n",
      "Scheduled trains: 31\n",
      "['At iteration 4 the best fitness is 6695.869690854516']\n",
      "Scheduled trains: 31\n",
      "['At iteration 5 the best fitness is 6707.5275695748505']\n",
      "Scheduled trains: 31\n",
      "['At iteration 6 the best fitness is 6725.300510854334']\n",
      "Scheduled trains: 31\n",
      "['At iteration 7 the best fitness is 6736.479815878162']\n",
      "['At iteration 8 the best fitness is 6736.479815878162']\n",
      "['At iteration 9 the best fitness is 6736.479815878162']\n",
      "['At iteration 10 the best fitness is 6736.479815878162']\n",
      "['At iteration 11 the best fitness is 6736.479815878162']\n",
      "['At iteration 12 the best fitness is 6736.479815878162']\n",
      "['At iteration 13 the best fitness is 6736.479815878162']\n",
      "['At iteration 14 the best fitness is 6736.479815878162']\n",
      "['At iteration 15 the best fitness is 6736.479815878162']\n",
      "['At iteration 16 the best fitness is 6736.479815878162']\n",
      "['At iteration 17 the best fitness is 6736.479815878162']\n",
      "['At iteration 18 the best fitness is 6736.479815878162']\n",
      "['At iteration 19 the best fitness is 6736.479815878162']\n",
      "['At iteration 20 the best fitness is 6736.479815878162']\n",
      "['At iteration 21 the best fitness is 6736.479815878162']\n",
      "['At iteration 22 the best fitness is 6736.479815878162']\n",
      "['At iteration 23 the best fitness is 6736.479815878162']\n",
      "['At iteration 24 the best fitness is 6736.479815878162']\n",
      "['At iteration 25 the best fitness is 6736.479815878162']\n",
      "['At iteration 26 the best fitness is 6736.479815878162']\n",
      "['At iteration 27 the best fitness is 6736.479815878162']\n",
      "['At iteration 28 the best fitness is 6736.479815878162']\n",
      "['At iteration 29 the best fitness is 6736.479815878162']\n",
      "['At iteration 30 the best fitness is 6736.479815878162']\n",
      "<src.entities.Solution object at 0x286afba00>\n",
      "<src.entities.Solution object at 0x286afba00>\n",
      "Fitness:  6736.479815878162\n",
      "GSA is optimizing  \"get_fitness_gsa\"\n",
      "Scheduled trains: 30\n",
      "Scheduled trains: 31\n",
      "Scheduled trains: 32\n",
      "Scheduled trains: 32\n",
      "['At iteration 1 the best fitness is 6333.5678759235125']\n",
      "['At iteration 2 the best fitness is 6333.5678759235125']\n",
      "Scheduled trains: 29\n",
      "Scheduled trains: 29\n",
      "['At iteration 3 the best fitness is 6521.7253895568665']\n",
      "Scheduled trains: 30\n",
      "Scheduled trains: 30\n",
      "['At iteration 4 the best fitness is 6747.589635134489']\n",
      "Scheduled trains: 31\n",
      "['At iteration 5 the best fitness is 6794.245103050842']\n",
      "['At iteration 6 the best fitness is 6794.245103050842']\n",
      "['At iteration 7 the best fitness is 6794.245103050842']\n",
      "['At iteration 8 the best fitness is 6794.245103050842']\n",
      "['At iteration 9 the best fitness is 6794.245103050842']\n",
      "['At iteration 10 the best fitness is 6794.245103050842']\n",
      "['At iteration 11 the best fitness is 6794.245103050842']\n",
      "['At iteration 12 the best fitness is 6794.245103050842']\n",
      "['At iteration 13 the best fitness is 6794.245103050842']\n",
      "['At iteration 14 the best fitness is 6794.245103050842']\n",
      "['At iteration 15 the best fitness is 6794.245103050842']\n",
      "['At iteration 16 the best fitness is 6794.245103050842']\n",
      "['At iteration 17 the best fitness is 6794.245103050842']\n",
      "['At iteration 18 the best fitness is 6794.245103050842']\n",
      "['At iteration 19 the best fitness is 6794.245103050842']\n",
      "['At iteration 20 the best fitness is 6794.245103050842']\n",
      "['At iteration 21 the best fitness is 6794.245103050842']\n",
      "['At iteration 22 the best fitness is 6794.245103050842']\n",
      "['At iteration 23 the best fitness is 6794.245103050842']\n",
      "['At iteration 24 the best fitness is 6794.245103050842']\n",
      "['At iteration 25 the best fitness is 6794.245103050842']\n",
      "['At iteration 26 the best fitness is 6794.245103050842']\n",
      "['At iteration 27 the best fitness is 6794.245103050842']\n",
      "['At iteration 28 the best fitness is 6794.245103050842']\n",
      "['At iteration 29 the best fitness is 6794.245103050842']\n",
      "['At iteration 30 the best fitness is 6794.245103050842']\n",
      "<src.entities.Solution object at 0x286f5f8e0>\n",
      "<src.entities.Solution object at 0x286f5f8e0>\n",
      "Fitness:  6794.245103050842\n",
      "GSA is optimizing  \"get_fitness_gsa\"\n",
      "Scheduled trains: 31\n",
      "Scheduled trains: 32\n",
      "Scheduled trains: 34\n",
      "['At iteration 1 the best fitness is 6514.106093047287']\n",
      "['At iteration 2 the best fitness is 6514.106093047287']\n",
      "Scheduled trains: 30\n",
      "['At iteration 3 the best fitness is 6522.768906666692']\n",
      "Scheduled trains: 32\n",
      "Scheduled trains: 31\n",
      "['At iteration 4 the best fitness is 6643.178038230102']\n",
      "['At iteration 5 the best fitness is 6643.178038230102']\n",
      "['At iteration 6 the best fitness is 6643.178038230102']\n",
      "['At iteration 7 the best fitness is 6643.178038230102']\n",
      "['At iteration 8 the best fitness is 6643.178038230102']\n",
      "Scheduled trains: 31\n",
      "['At iteration 9 the best fitness is 6644.810477760846']\n",
      "['At iteration 10 the best fitness is 6644.810477760846']\n",
      "['At iteration 11 the best fitness is 6644.810477760846']\n",
      "['At iteration 12 the best fitness is 6644.810477760846']\n",
      "['At iteration 13 the best fitness is 6644.810477760846']\n",
      "['At iteration 14 the best fitness is 6644.810477760846']\n",
      "['At iteration 15 the best fitness is 6644.810477760846']\n",
      "['At iteration 16 the best fitness is 6644.810477760846']\n",
      "['At iteration 17 the best fitness is 6644.810477760846']\n",
      "['At iteration 18 the best fitness is 6644.810477760846']\n",
      "['At iteration 19 the best fitness is 6644.810477760846']\n",
      "['At iteration 20 the best fitness is 6644.810477760846']\n",
      "['At iteration 21 the best fitness is 6644.810477760846']\n",
      "['At iteration 22 the best fitness is 6644.810477760846']\n",
      "['At iteration 23 the best fitness is 6644.810477760846']\n",
      "['At iteration 24 the best fitness is 6644.810477760846']\n",
      "['At iteration 25 the best fitness is 6644.810477760846']\n",
      "['At iteration 26 the best fitness is 6644.810477760846']\n",
      "['At iteration 27 the best fitness is 6644.810477760846']\n",
      "['At iteration 28 the best fitness is 6644.810477760846']\n",
      "['At iteration 29 the best fitness is 6644.810477760846']\n",
      "['At iteration 30 the best fitness is 6644.810477760846']\n",
      "<src.entities.Solution object at 0x286f5e6a0>\n",
      "<src.entities.Solution object at 0x286f5e6a0>\n",
      "Fitness:  6644.810477760846\n",
      "GSA is optimizing  \"get_fitness_gsa\"\n",
      "Scheduled trains: 32\n",
      "Scheduled trains: 32\n",
      "Scheduled trains: 32\n",
      "Scheduled trains: 33\n",
      "['At iteration 1 the best fitness is 6470.030899124197']\n",
      "Scheduled trains: 31\n",
      "['At iteration 2 the best fitness is 6730.746344793141']\n",
      "Scheduled trains: 31\n",
      "['At iteration 3 the best fitness is 6773.346064560549']\n",
      "Scheduled trains: 33\n",
      "['At iteration 4 the best fitness is 6947.732561009459']\n",
      "['At iteration 5 the best fitness is 6947.732561009459']\n",
      "Scheduled trains: 33\n",
      "['At iteration 6 the best fitness is 6961.402329509489']\n",
      "Scheduled trains: 33\n",
      "['At iteration 7 the best fitness is 6973.10739681395']\n",
      "['At iteration 8 the best fitness is 6973.10739681395']\n",
      "['At iteration 9 the best fitness is 6973.10739681395']\n",
      "['At iteration 10 the best fitness is 6973.10739681395']\n",
      "['At iteration 11 the best fitness is 6973.10739681395']\n",
      "['At iteration 12 the best fitness is 6973.10739681395']\n",
      "['At iteration 13 the best fitness is 6973.10739681395']\n",
      "['At iteration 14 the best fitness is 6973.10739681395']\n",
      "['At iteration 15 the best fitness is 6973.10739681395']\n",
      "['At iteration 16 the best fitness is 6973.10739681395']\n",
      "['At iteration 17 the best fitness is 6973.10739681395']\n",
      "['At iteration 18 the best fitness is 6973.10739681395']\n",
      "['At iteration 19 the best fitness is 6973.10739681395']\n",
      "['At iteration 20 the best fitness is 6973.10739681395']\n",
      "['At iteration 21 the best fitness is 6973.10739681395']\n",
      "['At iteration 22 the best fitness is 6973.10739681395']\n",
      "['At iteration 23 the best fitness is 6973.10739681395']\n",
      "['At iteration 24 the best fitness is 6973.10739681395']\n",
      "['At iteration 25 the best fitness is 6973.10739681395']\n",
      "['At iteration 26 the best fitness is 6973.10739681395']\n",
      "['At iteration 27 the best fitness is 6973.10739681395']\n",
      "['At iteration 28 the best fitness is 6973.10739681395']\n",
      "['At iteration 29 the best fitness is 6973.10739681395']\n",
      "['At iteration 30 the best fitness is 6973.10739681395']\n",
      "<src.entities.Solution object at 0x1770e3cd0>\n",
      "<src.entities.Solution object at 0x1770e3cd0>\n",
      "Fitness:  6973.10739681395\n",
      "GSA is optimizing  \"get_fitness_gsa\"\n",
      "Scheduled trains: 29\n",
      "Scheduled trains: 31\n",
      "Scheduled trains: 31\n",
      "Scheduled trains: 30\n",
      "Scheduled trains: 32\n",
      "Scheduled trains: 33\n",
      "['At iteration 1 the best fitness is 6269.374824331443']\n",
      "Scheduled trains: 30\n",
      "Scheduled trains: 30\n",
      "Scheduled trains: 30\n",
      "['At iteration 2 the best fitness is 6429.114304113853']\n",
      "Scheduled trains: 30\n",
      "Scheduled trains: 30\n",
      "['At iteration 3 the best fitness is 6578.908436073698']\n",
      "Scheduled trains: 32\n",
      "['At iteration 4 the best fitness is 6708.200536622202']\n",
      "['At iteration 5 the best fitness is 6708.200536622202']\n",
      "['At iteration 6 the best fitness is 6708.200536622202']\n",
      "['At iteration 7 the best fitness is 6708.200536622202']\n",
      "['At iteration 8 the best fitness is 6708.200536622202']\n",
      "['At iteration 9 the best fitness is 6708.200536622202']\n",
      "['At iteration 10 the best fitness is 6708.200536622202']\n",
      "['At iteration 11 the best fitness is 6708.200536622202']\n",
      "['At iteration 12 the best fitness is 6708.200536622202']\n",
      "['At iteration 13 the best fitness is 6708.200536622202']\n",
      "['At iteration 14 the best fitness is 6708.200536622202']\n",
      "['At iteration 15 the best fitness is 6708.200536622202']\n",
      "['At iteration 16 the best fitness is 6708.200536622202']\n",
      "['At iteration 17 the best fitness is 6708.200536622202']\n",
      "['At iteration 18 the best fitness is 6708.200536622202']\n",
      "['At iteration 19 the best fitness is 6708.200536622202']\n",
      "['At iteration 20 the best fitness is 6708.200536622202']\n",
      "['At iteration 21 the best fitness is 6708.200536622202']\n",
      "['At iteration 22 the best fitness is 6708.200536622202']\n",
      "['At iteration 23 the best fitness is 6708.200536622202']\n",
      "['At iteration 24 the best fitness is 6708.200536622202']\n",
      "['At iteration 25 the best fitness is 6708.200536622202']\n",
      "['At iteration 26 the best fitness is 6708.200536622202']\n",
      "['At iteration 27 the best fitness is 6708.200536622202']\n",
      "['At iteration 28 the best fitness is 6708.200536622202']\n",
      "['At iteration 29 the best fitness is 6708.200536622202']\n",
      "['At iteration 30 the best fitness is 6708.200536622202']\n",
      "<src.entities.Solution object at 0x286f2b5e0>\n",
      "<src.entities.Solution object at 0x286f2b5e0>\n",
      "Fitness:  6708.200536622202\n",
      "GSA is optimizing  \"get_fitness_gsa\"\n",
      "Scheduled trains: 28\n",
      "Scheduled trains: 29\n",
      "Scheduled trains: 29\n",
      "Scheduled trains: 31\n",
      "Scheduled trains: 32\n",
      "Scheduled trains: 33\n",
      "['At iteration 1 the best fitness is 6537.023850263116']\n",
      "Scheduled trains: 30\n",
      "Scheduled trains: 30\n",
      "['At iteration 2 the best fitness is 6550.74529794212']\n",
      "Scheduled trains: 30\n",
      "Scheduled trains: 30\n",
      "Scheduled trains: 30\n",
      "['At iteration 3 the best fitness is 6732.1333320620715']\n",
      "Scheduled trains: 31\n",
      "['At iteration 4 the best fitness is 6771.690166386492']\n",
      "['At iteration 5 the best fitness is 6771.690166386492']\n",
      "Scheduled trains: 32\n",
      "['At iteration 6 the best fitness is 6807.152764321709']\n",
      "['At iteration 7 the best fitness is 6807.152764321709']\n",
      "['At iteration 8 the best fitness is 6807.152764321709']\n",
      "['At iteration 9 the best fitness is 6807.152764321709']\n",
      "['At iteration 10 the best fitness is 6807.152764321709']\n",
      "['At iteration 11 the best fitness is 6807.152764321709']\n",
      "['At iteration 12 the best fitness is 6807.152764321709']\n",
      "['At iteration 13 the best fitness is 6807.152764321709']\n",
      "['At iteration 14 the best fitness is 6807.152764321709']\n",
      "['At iteration 15 the best fitness is 6807.152764321709']\n",
      "['At iteration 16 the best fitness is 6807.152764321709']\n",
      "['At iteration 17 the best fitness is 6807.152764321709']\n",
      "['At iteration 18 the best fitness is 6807.152764321709']\n",
      "['At iteration 19 the best fitness is 6807.152764321709']\n",
      "['At iteration 20 the best fitness is 6807.152764321709']\n",
      "['At iteration 21 the best fitness is 6807.152764321709']\n",
      "['At iteration 22 the best fitness is 6807.152764321709']\n",
      "['At iteration 23 the best fitness is 6807.152764321709']\n",
      "['At iteration 24 the best fitness is 6807.152764321709']\n",
      "['At iteration 25 the best fitness is 6807.152764321709']\n",
      "['At iteration 26 the best fitness is 6807.152764321709']\n",
      "['At iteration 27 the best fitness is 6807.152764321709']\n",
      "['At iteration 28 the best fitness is 6807.152764321709']\n",
      "['At iteration 29 the best fitness is 6807.152764321709']\n",
      "['At iteration 30 the best fitness is 6807.152764321709']\n",
      "<src.entities.Solution object at 0x286f5fa90>\n",
      "<src.entities.Solution object at 0x286f5fa90>\n",
      "Fitness:  6807.152764321709\n",
      "GSA is optimizing  \"get_fitness_gsa\"\n",
      "Scheduled trains: 30\n",
      "Scheduled trains: 30\n",
      "Scheduled trains: 31\n",
      "['At iteration 1 the best fitness is 6259.806338844038']\n",
      "Scheduled trains: 30\n",
      "Scheduled trains: 31\n",
      "Scheduled trains: 31\n",
      "['At iteration 2 the best fitness is 6665.077947393613']\n",
      "Scheduled trains: 31\n",
      "['At iteration 3 the best fitness is 6814.254046829892']\n",
      "['At iteration 4 the best fitness is 6814.254046829892']\n",
      "['At iteration 5 the best fitness is 6814.254046829892']\n",
      "['At iteration 6 the best fitness is 6814.254046829892']\n",
      "['At iteration 7 the best fitness is 6814.254046829892']\n",
      "['At iteration 8 the best fitness is 6814.254046829892']\n",
      "['At iteration 9 the best fitness is 6814.254046829892']\n",
      "['At iteration 10 the best fitness is 6814.254046829892']\n",
      "['At iteration 11 the best fitness is 6814.254046829892']\n",
      "['At iteration 12 the best fitness is 6814.254046829892']\n",
      "['At iteration 13 the best fitness is 6814.254046829892']\n",
      "['At iteration 14 the best fitness is 6814.254046829892']\n",
      "['At iteration 15 the best fitness is 6814.254046829892']\n",
      "['At iteration 16 the best fitness is 6814.254046829892']\n",
      "['At iteration 17 the best fitness is 6814.254046829892']\n",
      "['At iteration 18 the best fitness is 6814.254046829892']\n",
      "['At iteration 19 the best fitness is 6814.254046829892']\n",
      "['At iteration 20 the best fitness is 6814.254046829892']\n",
      "['At iteration 21 the best fitness is 6814.254046829892']\n",
      "['At iteration 22 the best fitness is 6814.254046829892']\n",
      "['At iteration 23 the best fitness is 6814.254046829892']\n",
      "['At iteration 24 the best fitness is 6814.254046829892']\n",
      "['At iteration 25 the best fitness is 6814.254046829892']\n",
      "['At iteration 26 the best fitness is 6814.254046829892']\n",
      "['At iteration 27 the best fitness is 6814.254046829892']\n",
      "['At iteration 28 the best fitness is 6814.254046829892']\n",
      "['At iteration 29 the best fitness is 6814.254046829892']\n",
      "['At iteration 30 the best fitness is 6814.254046829892']\n",
      "<src.entities.Solution object at 0x286f5ceb0>\n",
      "<src.entities.Solution object at 0x286f5ceb0>\n",
      "Fitness:  6814.254046829892\n",
      "GSA is optimizing  \"get_fitness_gsa\"\n",
      "Scheduled trains: 30\n",
      "Scheduled trains: 32\n",
      "Scheduled trains: 32\n",
      "Scheduled trains: 31\n",
      "Scheduled trains: 33\n",
      "['At iteration 1 the best fitness is 6457.383368891786']\n",
      "Scheduled trains: 30\n",
      "Scheduled trains: 32\n",
      "['At iteration 2 the best fitness is 6920.656690548226']\n",
      "['At iteration 3 the best fitness is 6920.656690548226']\n",
      "['At iteration 4 the best fitness is 6920.656690548226']\n",
      "['At iteration 5 the best fitness is 6920.656690548226']\n",
      "['At iteration 6 the best fitness is 6920.656690548226']\n",
      "['At iteration 7 the best fitness is 6920.656690548226']\n",
      "['At iteration 8 the best fitness is 6920.656690548226']\n",
      "['At iteration 9 the best fitness is 6920.656690548226']\n",
      "['At iteration 10 the best fitness is 6920.656690548226']\n",
      "['At iteration 11 the best fitness is 6920.656690548226']\n",
      "['At iteration 12 the best fitness is 6920.656690548226']\n",
      "['At iteration 13 the best fitness is 6920.656690548226']\n",
      "['At iteration 14 the best fitness is 6920.656690548226']\n",
      "['At iteration 15 the best fitness is 6920.656690548226']\n",
      "['At iteration 16 the best fitness is 6920.656690548226']\n",
      "['At iteration 17 the best fitness is 6920.656690548226']\n",
      "['At iteration 18 the best fitness is 6920.656690548226']\n",
      "['At iteration 19 the best fitness is 6920.656690548226']\n",
      "['At iteration 20 the best fitness is 6920.656690548226']\n",
      "['At iteration 21 the best fitness is 6920.656690548226']\n",
      "['At iteration 22 the best fitness is 6920.656690548226']\n",
      "['At iteration 23 the best fitness is 6920.656690548226']\n",
      "['At iteration 24 the best fitness is 6920.656690548226']\n",
      "['At iteration 25 the best fitness is 6920.656690548226']\n",
      "['At iteration 26 the best fitness is 6920.656690548226']\n",
      "['At iteration 27 the best fitness is 6920.656690548226']\n",
      "['At iteration 28 the best fitness is 6920.656690548226']\n",
      "['At iteration 29 the best fitness is 6920.656690548226']\n",
      "['At iteration 30 the best fitness is 6920.656690548226']\n",
      "<src.entities.Solution object at 0x286f5e370>\n",
      "<src.entities.Solution object at 0x286f5e370>\n",
      "Fitness:  6920.656690548226\n",
      "GSA is optimizing  \"get_fitness_gsa\"\n",
      "Scheduled trains: 30\n",
      "Scheduled trains: 31\n",
      "Scheduled trains: 32\n",
      "['At iteration 1 the best fitness is 6340.415600018747']\n",
      "Scheduled trains: 31\n",
      "Scheduled trains: 30\n",
      "['At iteration 2 the best fitness is 6619.3369615636175']\n",
      "Scheduled trains: 31\n",
      "['At iteration 3 the best fitness is 6884.370222080542']\n",
      "Scheduled trains: 32\n",
      "['At iteration 4 the best fitness is 6950.490049055785']\n",
      "['At iteration 5 the best fitness is 6950.490049055785']\n",
      "['At iteration 6 the best fitness is 6950.490049055785']\n",
      "['At iteration 7 the best fitness is 6950.490049055785']\n",
      "['At iteration 8 the best fitness is 6950.490049055785']\n",
      "['At iteration 9 the best fitness is 6950.490049055785']\n",
      "['At iteration 10 the best fitness is 6950.490049055785']\n",
      "['At iteration 11 the best fitness is 6950.490049055785']\n",
      "['At iteration 12 the best fitness is 6950.490049055785']\n",
      "['At iteration 13 the best fitness is 6950.490049055785']\n",
      "['At iteration 14 the best fitness is 6950.490049055785']\n",
      "['At iteration 15 the best fitness is 6950.490049055785']\n",
      "['At iteration 16 the best fitness is 6950.490049055785']\n",
      "['At iteration 17 the best fitness is 6950.490049055785']\n",
      "['At iteration 18 the best fitness is 6950.490049055785']\n",
      "['At iteration 19 the best fitness is 6950.490049055785']\n",
      "['At iteration 20 the best fitness is 6950.490049055785']\n",
      "['At iteration 21 the best fitness is 6950.490049055785']\n",
      "['At iteration 22 the best fitness is 6950.490049055785']\n",
      "['At iteration 23 the best fitness is 6950.490049055785']\n",
      "['At iteration 24 the best fitness is 6950.490049055785']\n",
      "['At iteration 25 the best fitness is 6950.490049055785']\n",
      "['At iteration 26 the best fitness is 6950.490049055785']\n",
      "['At iteration 27 the best fitness is 6950.490049055785']\n",
      "['At iteration 28 the best fitness is 6950.490049055785']\n",
      "['At iteration 29 the best fitness is 6950.490049055785']\n",
      "['At iteration 30 the best fitness is 6950.490049055785']\n",
      "<src.entities.Solution object at 0x1770dc400>\n",
      "<src.entities.Solution object at 0x1770dc400>\n",
      "Fitness:  6950.490049055785\n"
     ]
    }
   ],
   "source": [
    "seed(28)\n",
    "\n",
    "wa = 0.8\n",
    "wf = 0.2\n",
    "train_df = pd.DataFrame()\n",
    "test_df = pd.DataFrame()\n",
    "for chaotic_constant in [True, False]:\n",
    "    print(f\"Running GSA with chaotic constant: \", chaotic_constant)\n",
    "    tr_df, tt_df = run_gsa(chaotic_constant=chaotic_constant,\n",
    "                           runs=10)\n",
    "    \n",
    "    tr_df[\"chaotic_constant\"] = chaotic_constant\n",
    "    tt_df[\"chaotic_constant\"] = chaotic_constant\n",
    "    train_df = pd.concat([train_df, tr_df], axis=0)\n",
    "    test_df = pd.concat([test_df, tt_df], axis=0)"
   ],
   "metadata": {
    "collapsed": false,
    "ExecuteTime": {
     "end_time": "2024-03-27T16:59:21.085862Z",
     "start_time": "2024-03-27T16:58:11.294789Z"
    }
   },
   "id": "4a8a44d413fe1f75",
   "execution_count": 111
  },
  {
   "cell_type": "code",
   "outputs": [
    {
     "data": {
      "text/plain": "<Figure size 1000x600 with 1 Axes>",
      "image/png": "[encoded data removed]"
     },
     "metadata": {},
     "output_type": "display_data"
    }
   ],
   "source": [
    "import seaborn as sns\n",
    "\n",
    "from matplotlib import pyplot as plt\n",
    "\n",
    "fig, ax = plt.subplots(figsize=(10, 6))\n",
    "\n",
    "ax.set_title(\"Fitness\", fontweight='bold')\n",
    "\n",
    "# ax.set_ylim(min(global_train_hist[\"Fitness\"]), max(global_train_hist[\"Fitness\"]))\n",
    "    \n",
    "sns.lineplot(ax=ax,\n",
    "             data=train_df,\n",
    "             x=\"Iteration\",\n",
    "             y=\"Fitness\",\n",
    "             hue=\"chaotic_constant\",\n",
    "             legend=True)\n",
    "\n",
    "ax.grid(axis='y', color='#A9A9A9', alpha=0.3, zorder=1)\n",
    "\n",
    "ax.set_xlabel(\"Iter.\")\n",
    "ax.set_ylabel(\"Fitness\")\n",
    "\n",
    "plt.show()\n",
    "# fig.savefig(save_path, format='svg', dpi=300, bbox_inches='tight', transparent=True)"
   ],
   "metadata": {
    "collapsed": false,
    "ExecuteTime": {
     "end_time": "2024-03-27T16:59:21.531005Z",
     "start_time": "2024-03-27T16:59:21.086780Z"
    }
   },
   "id": "64384e1ee187a468",
   "execution_count": 112
  },
  {
   "cell_type": "code",
   "outputs": [
    {
     "data": {
      "text/plain": "array([ 371.,  389.,  447.,  474.,  425.,  449.,  476.,  541.,  586.,\n        615.,  487.,  508.,  586.,  542.,  568.,  648.,  693.,  726.,\n        771.,  813.,  626.,  704.,  690.,  750.,  779.,  825.,  855.,\n        747.,  827.,  875.,  954.,  996.,  783.,  870.,  931.,  959.,\n       1057., 1098.,  897.,  930.,  989., 1017., 1064., 1093.,  955.,\n        987., 1065., 1164., 1215., 1024., 1049., 1077., 1136., 1184.,\n       1214., 1076., 1109., 1185., 1247., 1139., 1299., 1341., 1170.,\n       1194., 1235., 1261., 1309., 1338., 1384., 1424., 1241., 1266.,\n       1307., 1333., 1379., 1409., 1268.])"
     },
     "execution_count": 25,
     "metadata": {},
     "output_type": "execute_result"
    }
   ],
   "source": [
    "# Get last value in column 'Real' of training_history\n",
    "best_solution_real = training_history.iloc[-1]['Real']\n",
    "best_solution_real"
   ],
   "metadata": {
    "collapsed": false,
    "ExecuteTime": {
     "end_time": "2024-04-01T22:09:21.619794Z",
     "start_time": "2024-04-01T22:09:21.604649Z"
    }
   },
   "id": "a5366a89cc34ffdd",
   "execution_count": 25
  },
  {
   "cell_type": "code",
   "outputs": [
    {
     "data": {
      "text/plain": "array([ 371.,  389.,  447.,  474.,  425.,  449.,  476.,  541.,  586.,\n        615.,  487.,  508.,  586.,  542.,  568.,  648.,  693.,  726.,\n        771.,  813.,  626.,  704.,  690.,  750.,  779.,  825.,  855.,\n        747.,  827.,  875.,  954.,  996.,  783.,  870.,  931.,  959.,\n       1057., 1098.,  897.,  930.,  989., 1017., 1064., 1093.,  955.,\n        987., 1065., 1164., 1215., 1024., 1049., 1077., 1136., 1184.,\n       1214., 1076., 1109., 1185., 1247., 1139., 1299., 1341., 1170.,\n       1194., 1235., 1261., 1309., 1338., 1384., 1424., 1241., 1266.,\n       1307., 1333., 1379., 1409., 1268.])"
     },
     "execution_count": 26,
     "metadata": {},
     "output_type": "execute_result"
    }
   ],
   "source": [
    "sm.best_solution.real"
   ],
   "metadata": {
    "collapsed": false,
    "ExecuteTime": {
     "end_time": "2024-04-01T22:09:23.321381Z",
     "start_time": "2024-04-01T22:09:23.305311Z"
    }
   },
   "id": "200a4582d8b840ec",
   "execution_count": 26
  },
  {
   "cell_type": "code",
   "outputs": [
    {
     "data": {
      "text/plain": "(array([ 371.,  389.,  447.,  474.,  425.,  449.,  476.,  541.,  586.,\n         615.,  487.,  508.,  586.,  542.,  568.,  648.,  693.,  726.,\n         771.,  813.,  626.,  704.,  690.,  750.,  779.,  825.,  855.,\n         747.,  827.,  875.,  954.,  996.,  783.,  870.,  931.,  959.,\n        1057., 1098.,  897.,  930.,  989., 1017., 1064., 1093.,  955.,\n         987., 1065., 1164., 1215., 1024., 1049., 1077., 1136., 1184.,\n        1214., 1076., 1109., 1185., 1247., 1139., 1299., 1341., 1170.,\n        1194., 1235., 1261., 1309., 1338., 1384., 1424., 1241., 1266.,\n        1307., 1333., 1379., 1409., 1268.]),\n array([ True,  True,  True,  True,  True,  True,  True,  True,  True,\n         True,  True,  True,  True,  True,  True,  True,  True,  True,\n         True,  True,  True,  True,  True,  True,  True]))"
     },
     "execution_count": 36,
     "metadata": {},
     "output_type": "execute_result"
    }
   ],
   "source": [
    "best_solution = Solution(real=np.array(best_solution_real), discrete=sm.get_heuristic_schedule(np.array(best_solution_real)))\n",
    "\n",
    "best_solution.real, best_solution.discrete"
   ],
   "metadata": {
    "collapsed": false,
    "ExecuteTime": {
     "end_time": "2024-04-01T22:11:12.169162Z",
     "start_time": "2024-04-01T22:11:12.152682Z"
    }
   },
   "id": "a788dec12bed21d9",
   "execution_count": 36
  },
  {
   "cell_type": "code",
   "outputs": [
    {
     "data": {
      "text/plain": "True"
     },
     "execution_count": 28,
     "metadata": {},
     "output_type": "execute_result"
    }
   ],
   "source": [
    "sm.is_feasible(best_solution, best_solution.discrete)"
   ],
   "metadata": {
    "collapsed": false,
    "ExecuteTime": {
     "end_time": "2024-04-01T22:09:34.525062Z",
     "start_time": "2024-04-01T22:09:34.508949Z"
    }
   },
   "id": "b1e09764c748cff1",
   "execution_count": 28
  },
  {
   "cell_type": "code",
   "outputs": [
    {
     "data": {
      "text/plain": "(5905.51732218363, 0)"
     },
     "execution_count": 29,
     "metadata": {},
     "output_type": "execute_result"
    }
   ],
   "source": [
    "sm.get_fitness_gsa(best_solution_real)"
   ],
   "metadata": {
    "collapsed": false,
    "ExecuteTime": {
     "end_time": "2024-04-01T22:09:35.208307Z",
     "start_time": "2024-04-01T22:09:35.195491Z"
    }
   },
   "id": "1c3af67cd3626503",
   "execution_count": 29
  },
  {
   "cell_type": "code",
   "outputs": [
    {
     "data": {
      "text/plain": "5905.51732218363"
     },
     "execution_count": 30,
     "metadata": {},
     "output_type": "execute_result"
    }
   ],
   "source": [
    "sm.get_revenue(best_solution)"
   ],
   "metadata": {
    "collapsed": false,
    "ExecuteTime": {
     "end_time": "2024-04-01T22:09:35.766794Z",
     "start_time": "2024-04-01T22:09:35.754263Z"
    }
   },
   "id": "6abef9d9440fc52b",
   "execution_count": 30
  },
  {
   "cell_type": "code",
   "outputs": [
    {
     "data": {
      "text/plain": "5905.51732218363"
     },
     "execution_count": 31,
     "metadata": {},
     "output_type": "execute_result"
    }
   ],
   "source": [
    "sm.get_revenue(sm.best_solution)"
   ],
   "metadata": {
    "collapsed": false,
    "ExecuteTime": {
     "end_time": "2024-04-01T22:09:36.309671Z",
     "start_time": "2024-04-01T22:09:36.297764Z"
    }
   },
   "id": "41a492d53aee1019",
   "execution_count": 31
  },
  {
   "cell_type": "code",
   "outputs": [
    {
     "data": {
      "text/plain": "True"
     },
     "execution_count": 32,
     "metadata": {},
     "output_type": "execute_result"
    }
   ],
   "source": [
    "sm.is_feasible(sm.best_solution, sm.best_solution.discrete)"
   ],
   "metadata": {
    "collapsed": false,
    "ExecuteTime": {
     "end_time": "2024-04-01T22:09:37.134915Z",
     "start_time": "2024-04-01T22:09:37.119930Z"
    }
   },
   "id": "311c2cb5b8ebc6ae",
   "execution_count": 32
  },
  {
   "cell_type": "code",
   "outputs": [
    {
     "data": {
      "text/plain": "5905.51732218363"
     },
     "execution_count": 33,
     "metadata": {},
     "output_type": "execute_result"
    }
   ],
   "source": [
    "sm.get_revenue(sm.best_solution)"
   ],
   "metadata": {
    "collapsed": false,
    "ExecuteTime": {
     "end_time": "2024-04-01T22:09:37.980747Z",
     "start_time": "2024-04-01T22:09:37.966624Z"
    }
   },
   "id": "24da152dae0e36e9",
   "execution_count": 33
  },
  {
   "cell_type": "code",
   "outputs": [
    {
     "data": {
      "text/plain": "<Figure size 1000x600 with 1 Axes>",
      "image/png": "[encoded data removed]"
     },
     "metadata": {},
     "output_type": "display_data"
    }
   ],
   "source": [
    "from matplotlib import pyplot as plt\n",
    "import seaborn as sns\n",
    "\n",
    "fig, ax = plt.subplots(figsize=(10, 6))\n",
    "\n",
    "ax.set_title(\"Fitness\", fontweight='bold')\n",
    "\n",
    "# ax.set_ylim(min(global_train_hist[\"Fitness\"]), max(global_train_hist[\"Fitness\"]))\n",
    "    \n",
    "sns.lineplot(ax=ax,\n",
    "             data=training_history,\n",
    "             x=\"Iteration\",\n",
    "             y=\"Fitness\",\n",
    "             legend=True)\n",
    "\n",
    "ax.grid(axis='y', color='#A9A9A9', alpha=0.3, zorder=1)\n",
    "\n",
    "ax.set_xlabel(\"Iter.\")\n",
    "ax.set_ylabel(\"Fitness\")\n",
    "\n",
    "plt.show()\n",
    "# fig.savefig(save_path, format='svg', dpi=300, bbox_inches='tight', transparent=True)"
   ],
   "metadata": {
    "collapsed": false,
    "ExecuteTime": {
     "end_time": "2024-04-01T22:09:42.401595Z",
     "start_time": "2024-04-01T22:09:42.201955Z"
    }
   },
   "id": "36aa34e314e58053",
   "execution_count": 34
  },
  {
   "cell_type": "code",
   "outputs": [
    {
     "name": "stdout",
     "output_type": "stream",
     "text": [
      "snakeviz web server started on 127.0.0.1:8080; enter Ctrl-C to exit\r\n",
      "http://127.0.0.1:8080/snakeviz/%2FUsers%2Fdavid%2FPycharmProjects%2FGSA_M%2Fnotebooks%2Fprofile.pstat\r\n",
      "^C\r\n",
      "\r\n",
      "Bye!\r\n"
     ]
    }
   ],
   "source": [
    "!snakeviz profile.pstat"
   ],
   "metadata": {
    "collapsed": false,
    "ExecuteTime": {
     "end_time": "2024-03-27T16:29:00.013415Z",
     "start_time": "2024-03-27T16:27:43.695145Z"
    }
   },
   "id": "eaf93c09b302023c",
   "execution_count": 56
  },
  {
   "cell_type": "code",
   "outputs": [
    {
     "data": {
      "text/plain": "6836.5"
     },
     "execution_count": 35,
     "metadata": {},
     "output_type": "execute_result"
    }
   ],
   "source": [
    "sum([sm.revenue[service]['canon'] for service in sm.revenue])"
   ],
   "metadata": {
    "collapsed": false,
    "ExecuteTime": {
     "end_time": "2024-04-01T22:10:09.125587Z",
     "start_time": "2024-04-01T22:10:09.112869Z"
    }
   },
   "id": "aa6f4cb80af96241",
   "execution_count": 35
  },
  {
   "cell_type": "code",
   "outputs": [
    {
     "data": {
      "text/plain": "    Iteration      Fitness  Accuracy  ExecutionTime Discrete  \\\n0           0  7863.690882         0       0.077843       []   \n1           1  8200.045549         0       0.334432       []   \n2           2  8428.372385         0       0.594928       []   \n3           3  8428.372385         0       0.861753       []   \n4           4  8447.990732         0       1.110731       []   \n..        ...          ...       ...            ...      ...   \n95         95  8550.495681         0      21.481643       []   \n96         96  8550.495681         0      21.679128       []   \n97         97  8550.495681         0      21.877871       []   \n98         98  8550.495681         0      22.077040       []   \n99         99  8550.495681         0      22.273930       []   \n\n                                                 Real  \n0   [1308, 1378, 1496, 1589, 609, 690, 807, 921, 9...  \n1   [1302, 1371, 1491, 1586, 606, 687, 803, 916, 9...  \n2   [1301, 1370, 1489, 1584, 603, 684, 801, 914, 9...  \n3   [1301, 1370, 1489, 1584, 603, 684, 801, 914, 9...  \n4   [1303, 1374, 1492, 1585, 604, 684, 803, 915, 9...  \n..                                                ...  \n95  [1304, 1372, 1491, 1586, 602, 684, 802, 915, 9...  \n96  [1304, 1372, 1491, 1586, 602, 684, 802, 915, 9...  \n97  [1304, 1372, 1491, 1586, 602, 684, 802, 915, 9...  \n98  [1304, 1372, 1491, 1586, 602, 684, 802, 915, 9...  \n99  [1304, 1372, 1491, 1586, 602, 684, 802, 915, 9...  \n\n[100 rows x 6 columns]",
      "text/html": "<div>\n<style scoped>\n    .dataframe tbody tr th:only-of-type {\n        vertical-align: middle;\n    }\n\n    .dataframe tbody tr th {\n        vertical-align: top;\n    }\n\n    .dataframe thead th {\n        text-align: right;\n    }\n</style>\n<table border=\"1\" class=\"dataframe\">\n  <thead>\n    <tr style=\"text-align: right;\">\n      <th></th>\n      <th>Iteration</th>\n      <th>Fitness</th>\n      <th>Accuracy</th>\n      <th>ExecutionTime</th>\n      <th>Discrete</th>\n      <th>Real</th>\n    </tr>\n  </thead>\n  <tbody>\n    <tr>\n      <th>0</th>\n      <td>0</td>\n      <td>7863.690882</td>\n      <td>0</td>\n      <td>0.077843</td>\n      <td>[]</td>\n      <td>[1308, 1378, 1496, 1589, 609, 690, 807, 921, 9...</td>\n    </tr>\n    <tr>\n      <th>1</th>\n      <td>1</td>\n      <td>8200.045549</td>\n      <td>0</td>\n      <td>0.334432</td>\n      <td>[]</td>\n      <td>[1302, 1371, 1491, 1586, 606, 687, 803, 916, 9...</td>\n    </tr>\n    <tr>\n      <th>2</th>\n      <td>2</td>\n      <td>8428.372385</td>\n      <td>0</td>\n      <td>0.594928</td>\n      <td>[]</td>\n      <td>[1301, 1370, 1489, 1584, 603, 684, 801, 914, 9...</td>\n    </tr>\n    <tr>\n      <th>3</th>\n      <td>3</td>\n      <td>8428.372385</td>\n      <td>0</td>\n      <td>0.861753</td>\n      <td>[]</td>\n      <td>[1301, 1370, 1489, 1584, 603, 684, 801, 914, 9...</td>\n    </tr>\n    <tr>\n      <th>4</th>\n      <td>4</td>\n      <td>8447.990732</td>\n      <td>0</td>\n      <td>1.110731</td>\n      <td>[]</td>\n      <td>[1303, 1374, 1492, 1585, 604, 684, 803, 915, 9...</td>\n    </tr>\n    <tr>\n      <th>...</th>\n      <td>...</td>\n      <td>...</td>\n      <td>...</td>\n      <td>...</td>\n      <td>...</td>\n      <td>...</td>\n    </tr>\n    <tr>\n      <th>95</th>\n      <td>95</td>\n      <td>8550.495681</td>\n      <td>0</td>\n      <td>21.481643</td>\n      <td>[]</td>\n      <td>[1304, 1372, 1491, 1586, 602, 684, 802, 915, 9...</td>\n    </tr>\n    <tr>\n      <th>96</th>\n      <td>96</td>\n      <td>8550.495681</td>\n      <td>0</td>\n      <td>21.679128</td>\n      <td>[]</td>\n      <td>[1304, 1372, 1491, 1586, 602, 684, 802, 915, 9...</td>\n    </tr>\n    <tr>\n      <th>97</th>\n      <td>97</td>\n      <td>8550.495681</td>\n      <td>0</td>\n      <td>21.877871</td>\n      <td>[]</td>\n      <td>[1304, 1372, 1491, 1586, 602, 684, 802, 915, 9...</td>\n    </tr>\n    <tr>\n      <th>98</th>\n      <td>98</td>\n      <td>8550.495681</td>\n      <td>0</td>\n      <td>22.077040</td>\n      <td>[]</td>\n      <td>[1304, 1372, 1491, 1586, 602, 684, 802, 915, 9...</td>\n    </tr>\n    <tr>\n      <th>99</th>\n      <td>99</td>\n      <td>8550.495681</td>\n      <td>0</td>\n      <td>22.273930</td>\n      <td>[]</td>\n      <td>[1304, 1372, 1491, 1586, 602, 684, 802, 915, 9...</td>\n    </tr>\n  </tbody>\n</table>\n<p>100 rows × 6 columns</p>\n</div>"
     },
     "execution_count": 104,
     "metadata": {},
     "output_type": "execute_result"
    }
   ],
   "source": [
    "training_history"
   ],
   "metadata": {
    "collapsed": false,
    "ExecuteTime": {
     "end_time": "2024-03-27T16:52:44.624013Z",
     "start_time": "2024-03-27T16:52:44.579535Z"
    }
   },
   "id": "215937b03b2d6167",
   "execution_count": 104
  },
  {
   "cell_type": "code",
   "outputs": [],
   "source": [],
   "metadata": {
    "collapsed": false
   },
   "id": "902a7573768eb603"
  }
 ],
 "metadata": {
  "kernelspec": {
   "display_name": "Python 3 (ipykernel)",
   "language": "python",
   "name": "python3"
  },
  "language_info": {
   "codemirror_mode": {
    "name": "ipython",
    "version": 3
   },
   "file_extension": ".py",
   "mimetype": "text/x-python",
   "name": "python",
   "nbconvert_exporter": "python",
   "pygments_lexer": "ipython3",
   "version": "3.9.6"
  }
 },
 "nbformat": 4,
 "nbformat_minor": 5
}
