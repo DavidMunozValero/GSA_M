{
 "cells": [
  {
   "cell_type": "markdown",
   "source": [
    "# Scheduled trains maximization with GSA"
   ],
   "metadata": {
    "collapsed": false
   },
   "id": "36c0c7277ba65211"
  },
  {
   "cell_type": "markdown",
   "source": [
    "## 0. Load libraries"
   ],
   "metadata": {
    "collapsed": false
   },
   "id": "73a83a2d7ca86b8c"
  },
  {
   "cell_type": "code",
   "outputs": [
    {
     "name": "stdout",
     "output_type": "stream",
     "text": [
      "The autoreload extension is already loaded. To reload it, use:\n",
      "  %reload_ext autoreload\n"
     ]
    }
   ],
   "source": [
    "%load_ext autoreload\n",
    "%autoreload 2\n",
    "\n",
    "import numpy as np\n",
    "\n",
    "from benchmarks.railway import Solution, RevenueMaximization\n",
    "from benchmarks.generator import get_schedule_request, get_revenue_behaviour\n",
    "from src.entities import GSA, Boundaries"
   ],
   "metadata": {
    "collapsed": false,
    "ExecuteTime": {
     "end_time": "2024-03-20T12:14:17.014420Z",
     "start_time": "2024-03-20T12:14:17.002099Z"
    }
   },
   "id": "c3cc59d5610d418",
   "execution_count": 11
  },
  {
   "cell_type": "code",
   "outputs": [],
   "source": [
    "# Define corridor\n",
    "\n",
    "corridor = {\"MAD\": {\n",
    "                \"CIU\": {\n",
    "                    \"COR\": {\n",
    "                        \"SEV\": {\n",
    "                            \"CAD\": {}\n",
    "                        },\n",
    "                        \"PGE\": {\n",
    "                            \"ANT\": {\n",
    "                                \"GRA\": {},\n",
    "                                \"MAL\": {}\n",
    "                                    }\n",
    "                                }\n",
    "                            }\n",
    "                        }\n",
    "                    }\n",
    "            }"
   ],
   "metadata": {
    "collapsed": false,
    "ExecuteTime": {
     "end_time": "2024-03-20T12:11:11.191996Z",
     "start_time": "2024-03-20T12:11:11.175629Z"
    }
   },
   "id": "909d19737ed8bbd6",
   "execution_count": 2
  },
  {
   "cell_type": "code",
   "outputs": [
    {
     "data": {
      "text/plain": "({1: {'MAD': array([0., 0.]),\n   'BAR': array([148., 152.]),\n   'FIG': array([180., 180.])},\n  2: {'MAD': array([8., 8.]),\n   'ZAR': array([28., 30.]),\n   'BAR': array([165., 167.]),\n   'FIG': array([210., 210.])},\n  3: {'MAD': array([30., 30.]),\n   'BAR': array([180., 182.]),\n   'FIG': array([225., 225.])}},\n {1: {'canon': 222.75,\n   'k': 1.05,\n   'dt_max_penalty': 31.18,\n   'tt_max_penalty': 28.96},\n  2: {'canon': 242.0,\n   'k': 1.03,\n   'dt_max_penalty': 33.88,\n   'tt_max_penalty': 20.97},\n  3: {'canon': 198.0,\n   'k': 1.18,\n   'dt_max_penalty': 27.72,\n   'tt_max_penalty': 25.74}})"
     },
     "execution_count": 3,
     "metadata": {},
     "output_type": "execute_result"
    }
   ],
   "source": [
    "np.random.seed(seed=28)\n",
    "\n",
    "# Dummy schedule\n",
    "schedule = {1: {'MAD': [0, 0], 'BAR': [148, 152], 'FIG': [180, 180]},\n",
    "            2: {'MAD': [8, 8], 'ZAR': [28, 30], 'BAR': [165, 167], 'FIG': [210, 210]},\n",
    "            3: {'MAD': [30, 30], 'BAR': [180, 182], 'FIG': [225, 225]}}\n",
    "\n",
    "for service in schedule:\n",
    "    for station in schedule[service]:\n",
    "        schedule[service][station] = np.array(schedule[service][station], dtype=np.float64)\n",
    "        \n",
    "revenue = get_revenue_behaviour(schedule)\n",
    "\n",
    "schedule, revenue"
   ],
   "metadata": {
    "collapsed": false,
    "ExecuteTime": {
     "end_time": "2024-03-20T12:11:11.522370Z",
     "start_time": "2024-03-20T12:11:11.503601Z"
    }
   },
   "id": "d3dc020b3f4491d5",
   "execution_count": 3
  },
  {
   "cell_type": "code",
   "outputs": [],
   "source": [
    "def get_num_trains(solution):\n",
    "    scheduled_trains = np.sum(solution.dicrete)\n",
    "    print(\"Requested number of trains: \", len(solution.discrete))\n",
    "    print(\"Scheduled trains: \", scheduled_trains)\n",
    "    return scheduled_trains, 0"
   ],
   "metadata": {
    "collapsed": false,
    "ExecuteTime": {
     "end_time": "2024-03-20T12:12:04.080514Z",
     "start_time": "2024-03-20T12:12:04.062982Z"
    }
   },
   "id": "30100fad0a1a8188",
   "execution_count": 5
  },
  {
   "cell_type": "markdown",
   "source": [
    "# 5. Optimize with GSA"
   ],
   "metadata": {
    "collapsed": false
   },
   "id": "cb8a6162ac0d3535"
  },
  {
   "cell_type": "code",
   "outputs": [],
   "source": [
    "sm = RevenueMaximization(schedule, revenue, safe_headway=np.float64(10.0))"
   ],
   "metadata": {
    "collapsed": false,
    "ExecuteTime": {
     "end_time": "2024-03-20T12:13:23.396729Z",
     "start_time": "2024-03-20T12:13:23.379796Z"
    }
   },
   "id": "c9c9f76579379798",
   "execution_count": 7
  },
  {
   "cell_type": "code",
   "outputs": [],
   "source": [
    "def gsa_feasibility(solution):\n",
    "    S_i = solution.discrete\n",
    "    print(\"Test: \", S_i)\n",
    "    return sm._departure_time_feasibility(S_i)"
   ],
   "metadata": {
    "collapsed": false,
    "ExecuteTime": {
     "end_time": "2024-03-20T12:14:22.996608Z",
     "start_time": "2024-03-20T12:14:22.980604Z"
    }
   },
   "id": "3d8001195f60d517",
   "execution_count": 12
  },
  {
   "cell_type": "code",
   "outputs": [],
   "source": [
    "boundaries = Boundaries(real=[], discrete=[(0, 1) for _ in range(len(schedule))])\n",
    "\n",
    "gsa_algo = GSA(objective_function=get_num_trains,\n",
    "               is_feasible=gsa_feasibility,\n",
    "               r_dim=0,\n",
    "               d_dim=len(schedule),\n",
    "               boundaries=boundaries)"
   ],
   "metadata": {
    "collapsed": false,
    "ExecuteTime": {
     "end_time": "2024-03-20T12:14:23.211346Z",
     "start_time": "2024-03-20T12:14:23.195922Z"
    }
   },
   "id": "ab689475c3f9119a",
   "execution_count": 13
  },
  {
   "cell_type": "code",
   "outputs": [
    {
     "name": "stdout",
     "output_type": "stream",
     "text": [
      "Initializing positions of the individuals in the population...\n",
      "Test:  [1 0 1]\n",
      "Test:  [1 1 1]\n",
      "Test:  0\n"
     ]
    },
    {
     "ename": "ValueError",
     "evalue": "The truth value of an array with more than one element is ambiguous. Use a.any() or a.all()",
     "output_type": "error",
     "traceback": [
      "\u001B[0;31m---------------------------------------------------------------------------\u001B[0m",
      "\u001B[0;31mValueError\u001B[0m                                Traceback (most recent call last)",
      "Cell \u001B[0;32mIn[14], line 3\u001B[0m\n\u001B[1;32m      1\u001B[0m gsa_algo\u001B[38;5;241m.\u001B[39mset_seed(seed\u001B[38;5;241m=\u001B[39m\u001B[38;5;241m28\u001B[39m)\n\u001B[0;32m----> 3\u001B[0m training_history \u001B[38;5;241m=\u001B[39m \u001B[43mgsa_algo\u001B[49m\u001B[38;5;241;43m.\u001B[39;49m\u001B[43moptimize\u001B[49m\u001B[43m(\u001B[49m\u001B[43mpopulation_size\u001B[49m\u001B[38;5;241;43m=\u001B[39;49m\u001B[38;5;241;43m5\u001B[39;49m\u001B[43m,\u001B[49m\n\u001B[1;32m      4\u001B[0m \u001B[43m                                     \u001B[49m\u001B[43miters\u001B[49m\u001B[38;5;241;43m=\u001B[39;49m\u001B[38;5;241;43m10\u001B[39;49m\u001B[43m,\u001B[49m\n\u001B[1;32m      5\u001B[0m \u001B[43m                                     \u001B[49m\u001B[43mchaotic_constant\u001B[49m\u001B[38;5;241;43m=\u001B[39;49m\u001B[38;5;28;43;01mFalse\u001B[39;49;00m\u001B[43m,\u001B[49m\n\u001B[1;32m      6\u001B[0m \u001B[43m                                     \u001B[49m\u001B[43mrepair_solution\u001B[49m\u001B[38;5;241;43m=\u001B[39;49m\u001B[38;5;28;43;01mFalse\u001B[39;49;00m\u001B[43m)\u001B[49m\n",
      "File \u001B[0;32m~/PycharmProjects/GSA_M/src/entities.py:231\u001B[0m, in \u001B[0;36mGSA.optimize\u001B[0;34m(self, population_size, iters, r_power, elitist_check, chaotic_constant, repair_solution, initial_population, w_max, w_min)\u001B[0m\n\u001B[1;32m    228\u001B[0m best_acc \u001B[38;5;241m=\u001B[39m \u001B[38;5;241m0.0\u001B[39m\n\u001B[1;32m    230\u001B[0m \u001B[38;5;28;01mif\u001B[39;00m initial_population \u001B[38;5;129;01mis\u001B[39;00m \u001B[38;5;28;01mNone\u001B[39;00m:\n\u001B[0;32m--> 231\u001B[0m     pos \u001B[38;5;241m=\u001B[39m \u001B[38;5;28;43mself\u001B[39;49m\u001B[38;5;241;43m.\u001B[39;49m\u001B[43m_get_initial_positions\u001B[49m\u001B[43m(\u001B[49m\u001B[43mpopulation_size\u001B[49m\u001B[43m)\u001B[49m\n\u001B[1;32m    232\u001B[0m \u001B[38;5;28;01melse\u001B[39;00m:\n\u001B[1;32m    233\u001B[0m     pos \u001B[38;5;241m=\u001B[39m initial_population\n",
      "File \u001B[0;32m~/PycharmProjects/GSA_M/src/entities.py:178\u001B[0m, in \u001B[0;36mGSA._get_initial_positions\u001B[0;34m(self, population_size)\u001B[0m\n\u001B[1;32m    176\u001B[0m solution \u001B[38;5;241m=\u001B[39m Solution(real\u001B[38;5;241m=\u001B[39mreal_part, discrete\u001B[38;5;241m=\u001B[39mdiscrete_part)\n\u001B[1;32m    177\u001B[0m iters \u001B[38;5;241m=\u001B[39m \u001B[38;5;241m0\u001B[39m\n\u001B[0;32m--> 178\u001B[0m \u001B[38;5;28;01mwhile\u001B[39;00m \u001B[38;5;129;01mnot\u001B[39;00m \u001B[38;5;28;43mself\u001B[39;49m\u001B[38;5;241;43m.\u001B[39;49m\u001B[43mis_feasible\u001B[49m\u001B[43m(\u001B[49m\n\u001B[1;32m    179\u001B[0m \u001B[43m        \u001B[49m\u001B[43msolution\u001B[49m\u001B[43m)\u001B[49m \u001B[38;5;129;01mand\u001B[39;00m iters \u001B[38;5;241m<\u001B[39m \u001B[38;5;241m100\u001B[39m:  \u001B[38;5;66;03m# Adding a max iteration count to prevent infinite loops\u001B[39;00m\n\u001B[1;32m    180\u001B[0m     \u001B[38;5;28;01mif\u001B[39;00m \u001B[38;5;28mself\u001B[39m\u001B[38;5;241m.\u001B[39mr_dim \u001B[38;5;241m>\u001B[39m \u001B[38;5;241m0\u001B[39m:\n\u001B[1;32m    181\u001B[0m         \u001B[38;5;28;01mfor\u001B[39;00m col_index, (rd_lb, rd_ub) \u001B[38;5;129;01min\u001B[39;00m \u001B[38;5;28menumerate\u001B[39m(\u001B[38;5;28mself\u001B[39m\u001B[38;5;241m.\u001B[39mboundaries\u001B[38;5;241m.\u001B[39mreal):\n",
      "Cell \u001B[0;32mIn[12], line 4\u001B[0m, in \u001B[0;36mgsa_feasibility\u001B[0;34m(solution)\u001B[0m\n\u001B[1;32m      2\u001B[0m S_i \u001B[38;5;241m=\u001B[39m solution\u001B[38;5;241m.\u001B[39mdiscrete\n\u001B[1;32m      3\u001B[0m \u001B[38;5;28mprint\u001B[39m(\u001B[38;5;124m\"\u001B[39m\u001B[38;5;124mTest: \u001B[39m\u001B[38;5;124m\"\u001B[39m, S_i)\n\u001B[0;32m----> 4\u001B[0m \u001B[38;5;28;01mreturn\u001B[39;00m \u001B[43msm\u001B[49m\u001B[38;5;241;43m.\u001B[39;49m\u001B[43m_departure_time_feasibility\u001B[49m\u001B[43m(\u001B[49m\u001B[43mS_i\u001B[49m\u001B[43m)\u001B[49m\n",
      "File \u001B[0;32m~/PycharmProjects/GSA_M/benchmarks/railway.py:117\u001B[0m, in \u001B[0;36mRevenueMaximization._departure_time_feasibility\u001B[0;34m(self, S_i)\u001B[0m\n\u001B[1;32m    107\u001B[0m \u001B[38;5;250m\u001B[39m\u001B[38;5;124;03m\"\"\"\u001B[39;00m\n\u001B[1;32m    108\u001B[0m \u001B[38;5;124;03mCheck if there are any conflicts with the departure times.\u001B[39;00m\n\u001B[1;32m    109\u001B[0m \n\u001B[0;32m   (...)\u001B[0m\n\u001B[1;32m    114\u001B[0m \u001B[38;5;124;03m    bool: True if the departure time is feasible, False otherwise\u001B[39;00m\n\u001B[1;32m    115\u001B[0m \u001B[38;5;124;03m\"\"\"\u001B[39;00m\n\u001B[1;32m    116\u001B[0m S_i \u001B[38;5;241m=\u001B[39m np\u001B[38;5;241m.\u001B[39marray(S_i, dtype\u001B[38;5;241m=\u001B[39mnp\u001B[38;5;241m.\u001B[39mbool_)\n\u001B[0;32m--> 117\u001B[0m \u001B[38;5;28;01mif\u001B[39;00m \u001B[38;5;129;01mnot\u001B[39;00m S_i\u001B[38;5;241m.\u001B[39mdot(np\u001B[38;5;241m.\u001B[39marray([np\u001B[38;5;241m.\u001B[39msum(S_i\u001B[38;5;241m.\u001B[39mdot(service_sec_arr)) \u001B[38;5;28;01mfor\u001B[39;00m service_sec_arr \u001B[38;5;129;01min\u001B[39;00m \u001B[38;5;28mself\u001B[39m\u001B[38;5;241m.\u001B[39mconflict_matrices])):\n\u001B[1;32m    118\u001B[0m     \u001B[38;5;28;01mreturn\u001B[39;00m \u001B[38;5;28;01mTrue\u001B[39;00m\n\u001B[1;32m    119\u001B[0m \u001B[38;5;28;01mreturn\u001B[39;00m \u001B[38;5;28;01mFalse\u001B[39;00m\n",
      "\u001B[0;31mValueError\u001B[0m: The truth value of an array with more than one element is ambiguous. Use a.any() or a.all()"
     ]
    }
   ],
   "source": [
    "gsa_algo.set_seed(seed=28)\n",
    "\n",
    "training_history = gsa_algo.optimize(population_size=5,\n",
    "                                     iters=10,\n",
    "                                     chaotic_constant=False,\n",
    "                                     repair_solution=False)"
   ],
   "metadata": {
    "collapsed": false,
    "ExecuteTime": {
     "end_time": "2024-03-20T12:14:24.044633Z",
     "start_time": "2024-03-20T12:14:23.977689Z"
    }
   },
   "id": "e2891b76674f9a9a",
   "execution_count": 14
  },
  {
   "cell_type": "code",
   "outputs": [],
   "source": [],
   "metadata": {
    "collapsed": false
   },
   "id": "459842e0e024fda2"
  }
 ],
 "metadata": {
  "kernelspec": {
   "display_name": "Python 3 (ipykernel)",
   "language": "python",
   "name": "python3"
  },
  "language_info": {
   "codemirror_mode": {
    "name": "ipython",
    "version": 3
   },
   "file_extension": ".py",
   "mimetype": "text/x-python",
   "name": "python",
   "nbconvert_exporter": "python",
   "pygments_lexer": "ipython3",
   "version": "3.9.6"
  }
 },
 "nbformat": 4,
 "nbformat_minor": 5
}
