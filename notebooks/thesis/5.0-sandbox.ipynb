{
 "cells": [
  {
   "cell_type": "code",
   "execution_count": 1,
   "id": "initial_id",
   "metadata": {
    "collapsed": true,
    "ExecuteTime": {
     "end_time": "2024-02-26T10:58:38.447653Z",
     "start_time": "2024-02-26T10:58:38.263052Z"
    }
   },
   "outputs": [
    {
     "data": {
      "text/plain": "{'real': array([[0.58657645, 0.19183721],\n        [0.38990822, 0.31051767],\n        [0.74924944, 0.59178003],\n        [0.80897232, 0.81907551],\n        [0.94828819, 0.37309496]]),\n 'discrete': array([[0, 1, 1, 0, 1, 0, 0, 0, 0, 0],\n        [0, 0, 1, 0, 0, 0, 1, 0, 0, 1],\n        [1, 0, 0, 0, 1, 1, 1, 1, 0, 0],\n        [0, 0, 1, 0, 1, 0, 1, 0, 1, 0],\n        [1, 1, 0, 1, 1, 0, 1, 0, 0, 0]])}"
     },
     "execution_count": 1,
     "metadata": {},
     "output_type": "execute_result"
    }
   ],
   "source": [
    "import numpy as np\n",
    "\n",
    "n_pop = 5\n",
    "\n",
    "position = {\n",
    "    'real': np.random.random((n_pop, 2)),\n",
    "    'discrete': np.random.randint(0, 2, (n_pop, 10))\n",
    "}\n",
    "\n",
    "position"
   ]
  },
  {
   "cell_type": "code",
   "outputs": [
    {
     "data": {
      "text/plain": "{'real': array([[0.98844486, 0.39232636],\n        [0.26656151, 0.57455161],\n        [0.69500247, 0.76297366],\n        [0.16088297, 0.37913549],\n        [0.57552528, 0.99774091]]),\n 'discrete': array([[0.15403379, 0.24748811, 0.01773673, 0.9494927 , 0.42437591,\n         0.45570015, 0.76465994, 0.19502959, 0.31600281, 0.17906149],\n        [0.09755225, 0.27373064, 0.53463245, 0.11526385, 0.27239737,\n         0.30736422, 0.51978465, 0.18511744, 0.29880745, 0.33171166],\n        [0.40417462, 0.07803681, 0.60655926, 0.52514471, 0.99280085,\n         0.32848265, 0.54961915, 0.39466754, 0.17785164, 0.31059087],\n        [0.55200909, 0.79818002, 0.05847979, 0.31191806, 0.66937857,\n         0.52357925, 0.41307365, 0.8253632 , 0.49379769, 0.63255324],\n        [0.93248964, 0.49577767, 0.3223081 , 0.55944899, 0.67203703,\n         0.39330308, 0.30878598, 0.60516134, 0.92439801, 0.84525431]])}"
     },
     "execution_count": 2,
     "metadata": {},
     "output_type": "execute_result"
    }
   ],
   "source": [
    "velocity = {\n",
    "    'real': np.random.random((n_pop, 2)),\n",
    "    'discrete': np.random.random((n_pop, 10))\n",
    "}\n",
    "\n",
    "velocity"
   ],
   "metadata": {
    "collapsed": false,
    "ExecuteTime": {
     "end_time": "2024-02-26T10:58:40.539732Z",
     "start_time": "2024-02-26T10:58:40.536087Z"
    }
   },
   "id": "4632196dcc9625e1",
   "execution_count": 2
  },
  {
   "cell_type": "code",
   "outputs": [
    {
     "data": {
      "text/plain": "{'real': array([[0.22453266, 0.44259666],\n        [0.22701877, 0.25677486],\n        [0.4423764 , 0.45488377],\n        [0.17051438, 0.92361987],\n        [0.25043677, 0.87350803]]),\n 'discrete': array([[0.61896493, 0.51136834, 0.88375171, 0.82985317, 0.90592091,\n         0.70491296, 0.54364242, 0.32319462, 0.92268755, 0.57453223],\n        [0.69414703, 0.18595728, 0.814885  , 0.71240087, 0.8389372 ,\n         0.43994844, 0.66905499, 0.83545977, 0.10291845, 0.8300029 ],\n        [0.3501557 , 0.32722135, 0.36348981, 0.97923182, 0.92725744,\n         0.9407676 , 0.76145758, 0.39947502, 0.61550259, 0.40928108],\n        [0.66887293, 0.89291805, 0.84432934, 0.21136349, 0.38124838,\n         0.7922268 , 0.73630974, 0.73656823, 0.36369528, 0.21307272],\n        [0.35729748, 0.81598855, 0.51640338, 0.66176204, 0.0824641 ,\n         0.02974922, 0.92647437, 0.22798626, 0.49096219, 0.8223205 ]])}"
     },
     "execution_count": 3,
     "metadata": {},
     "output_type": "execute_result"
    }
   ],
   "source": [
    "acceleration = {\n",
    "    'real': np.random.random((n_pop, 2)),\n",
    "    'discrete': np.random.random((n_pop, 10))\n",
    "}\n",
    "\n",
    "acceleration"
   ],
   "metadata": {
    "collapsed": false,
    "ExecuteTime": {
     "end_time": "2024-02-26T10:58:41.901528Z",
     "start_time": "2024-02-26T10:58:41.897079Z"
    }
   },
   "id": "537ceb423d444a20",
   "execution_count": 3
  },
  {
   "cell_type": "code",
   "outputs": [
    {
     "data": {
      "text/plain": "({'real': array([[1.37664634, 0.79363993],\n         [0.86513715, 1.00288503],\n         [1.40410968, 1.31386467],\n         [1.02793369, 2.01695682],\n         [1.75350679, 1.25572419]]),\n  'discrete': array([[0, 0, 0, 1, 1, 1, 1, 0, 1, 0],\n         [1, 0, 0, 1, 1, 1, 1, 1, 0, 1],\n         [0, 0, 0, 0, 0, 0, 0, 0, 0, 1],\n         [1, 1, 0, 0, 0, 1, 0, 1, 0, 1],\n         [1, 0, 1, 0, 1, 1, 0, 1, 1, 1]])},\n {'real': array([[0.7900699 , 0.60180271],\n         [0.47522893, 0.69236736],\n         [0.65486024, 0.72208464],\n         [0.21896137, 1.1978813 ],\n         [0.8052186 , 0.88262923]]),\n  'discrete': array([[0.6685511 , 0.56575706, 0.89159917, 1.5590482 , 1.11989494,\n          0.91942347, 1.28712379, 0.3850551 , 1.20301273, 0.65001442],\n         [0.70187025, 0.20499322, 1.20474926, 0.75748223, 0.91223777,\n          0.69177904, 0.70723756, 0.99999243, 0.29793636, 0.92605003],\n         [0.49490765, 0.33399037, 0.7203351 , 1.13879888, 1.78326324,\n          1.13463504, 0.96896611, 0.6508732 , 0.72288496, 0.51971361],\n         [0.81805039, 1.51898787, 0.88314773, 0.46420546, 0.63089443,\n          1.10382601, 0.88681097, 0.95439065, 0.69727736, 0.76189183],\n         [0.74450474, 1.19594715, 0.74669732, 0.86943205, 0.37398714,\n          0.4065352 , 0.99116345, 0.57237721, 1.05112968, 1.09079808]])})"
     },
     "execution_count": 4,
     "metadata": {},
     "output_type": "execute_result"
    }
   ],
   "source": [
    "v_max = 6\n",
    "\n",
    "for i in range(n_pop):\n",
    "    # Update real vars\n",
    "    r1 = np.random.random(position['real'][i].shape)  # Generate random coefficients for velocity update\n",
    "    velocity['real'][i] = velocity['real'][i] * r1 + acceleration['real'][i]\n",
    "    position['real'][i] = position['real'][i] + velocity['real'][i]  # Update position\n",
    "    \n",
    "    # Update discrete vars\n",
    "    r2 = np.random.random(position['discrete'][i].shape)  # Generate random coefficients for velocity update\n",
    "    velocity['discrete'][i] = velocity['discrete'][i] * r2 + acceleration['discrete'][i]\n",
    "    velocity['discrete'][i] = np.clip(velocity['discrete'][i], a_min=None, a_max=v_max)  # Clip velocity to the maximum value\n",
    "\n",
    "    discrete_move_probs = np.abs(np.tanh(velocity['discrete'][i]))  # Apply tanh activation function\n",
    "    rand = np.random.rand(*discrete_move_probs.shape)\n",
    "\n",
    "    position['discrete'][i][rand < discrete_move_probs] = 1 - position['discrete'][i][rand < discrete_move_probs]\n",
    "    position['discrete'][i] = position['discrete'][i].astype(int)\n",
    "\n",
    "    if not np.any(position['discrete'][i]):\n",
    "        max_index = np.argmax(position['discrete'][i])\n",
    "        position['discrete'][i, max_index] = 1\n",
    "        \n",
    "    \n",
    "\n",
    "position, velocity"
   ],
   "metadata": {
    "collapsed": false,
    "ExecuteTime": {
     "end_time": "2024-02-26T10:58:47.208908Z",
     "start_time": "2024-02-26T10:58:47.205473Z"
    }
   },
   "id": "534d2cd48adbac1b",
   "execution_count": 4
  },
  {
   "cell_type": "code",
   "outputs": [
    {
     "data": {
      "text/plain": "({'real': array([[1.37664634, 0.79363993],\n         [0.86513715, 1.00288503],\n         [1.40410968, 1.31386467],\n         [1.02793369, 2.01695682],\n         [1.75350679, 1.25572419]]),\n  'discrete': array([[1, 1, 1, 0, 0, 0, 0, 1, 0, 1],\n         [1, 0, 1, 0, 0, 0, 0, 0, 1, 0],\n         [1, 0, 0, 1, 1, 0, 1, 1, 1, 0],\n         [1, 1, 1, 1, 1, 0, 1, 0, 1, 1],\n         [0, 1, 0, 0, 1, 1, 0, 0, 0, 1]])},\n {'real': array([[0.7900699 , 0.60180271],\n         [0.47522893, 0.69236736],\n         [0.65486024, 0.72208464],\n         [0.21896137, 1.1978813 ],\n         [0.8052186 , 0.88262923]]),\n  'discrete': array([[1.28225428, 0.74872445, 1.63811109, 1.93855806, 1.28027344,\n          1.32402261, 1.6751601 , 0.53733069, 1.83852779, 0.96126479],\n         [0.9320684 , 0.20632158, 1.7182355 , 1.20624424, 1.4181856 ,\n          0.72729194, 1.23155778, 1.44190211, 0.22514129, 1.38502332],\n         [0.72548405, 0.45114923, 1.01774646, 1.99037884, 1.51261193,\n          1.39787585, 1.53224212, 0.53871743, 1.14478939, 0.79734054],\n         [1.19726071, 1.17156605, 1.45611424, 0.37875562, 0.69027326,\n          0.8242988 , 0.79824758, 1.07244976, 0.78620081, 0.38594765],\n         [0.92869703, 0.9200361 , 0.85370129, 0.98965161, 0.37244249,\n          0.12784417, 1.3064823 , 0.50204328, 1.35486896, 0.8278312 ]])})"
     },
     "execution_count": 5,
     "metadata": {},
     "output_type": "execute_result"
    }
   ],
   "source": [
    "# Discrete space\n",
    "r2 = np.random.random(position['discrete'].shape)  # Generate random coefficients for velocity update\n",
    "\n",
    "velocity['discrete'] = velocity['discrete'] * r2 + acceleration['discrete']\n",
    "\n",
    "velocity['discrete'] = np.clip(velocity['discrete'], a_min=None, a_max=v_max)  # Clip velocity to the maximum value\n",
    "\n",
    "discrete_move_probs = np.abs(np.tanh(velocity['discrete']))  # Apply tanh activation function\n",
    "rand = np.random.rand(*discrete_move_probs.shape)\n",
    "\n",
    "position['discrete'][rand < discrete_move_probs] = 1 - position['discrete'][rand < discrete_move_probs]\n",
    "position['discrete'] = position['discrete'].astype(int)\n",
    "\n",
    "for i in range(position['discrete'].shape[0]):\n",
    "    if not np.any(position['discrete'][i]):\n",
    "        max_index = np.argmax(position['discrete'][i])\n",
    "        position['discrete'][i, max_index] = 1\n",
    "        \n",
    "position, velocity"
   ],
   "metadata": {
    "collapsed": false,
    "ExecuteTime": {
     "end_time": "2024-02-26T10:58:50.721858Z",
     "start_time": "2024-02-26T10:58:50.718705Z"
    }
   },
   "id": "d6a3b610e16696b3",
   "execution_count": 5
  },
  {
   "cell_type": "code",
   "outputs": [
    {
     "data": {
      "text/plain": "{'real': array([1.37664634, 0.79363993]),\n 'discrete': array([1, 1, 1, 0, 0, 0, 0, 1, 0, 1])}"
     },
     "execution_count": 7,
     "metadata": {},
     "output_type": "execute_result"
    }
   ],
   "source": [
    "individual = 0\n",
    "population = position\n",
    "solution = {'real': position['real'][individual], 'discrete': position['discrete'][individual]}\n",
    "\n",
    "solution"
   ],
   "metadata": {
    "collapsed": false,
    "ExecuteTime": {
     "end_time": "2024-02-26T11:00:35.354524Z",
     "start_time": "2024-02-26T11:00:35.348875Z"
    }
   },
   "id": "38e5824e8877ada",
   "execution_count": 7
  },
  {
   "cell_type": "code",
   "outputs": [
    {
     "data": {
      "text/plain": "({1: 0.5526528442556149,\n  2: 0.52094914466563,\n  3: 1.272047451440534,\n  4: 0.5962765007337583},\n {1: 4, 2: 7, 3: 5, 4: 5})"
     },
     "execution_count": 20,
     "metadata": {},
     "output_type": "execute_result"
    }
   ],
   "source": [
    "# Calculate distance from individual to the other individuals (Euclidean distance for real variables)\n",
    "# and Hamming distance for discrete variables, excluding the individual itself\n",
    "real_distances = {}\n",
    "discrete_distances = {}\n",
    "for i in range(n_pop):\n",
    "    if i != individual:\n",
    "        # Calculate distance\n",
    "        real_distances[i] = np.linalg.norm(solution['real'] - population['real'][i])\n",
    "        # Hamming distance for discrete variables\n",
    "        discrete_distances[i] = np.sum(solution['discrete'] != population['discrete'][i])\n",
    "\n",
    "# Sort distances\n",
    "sorted_real_distances = sorted(real_distances.items(), key=lambda x: x[1])\n",
    "sorted_discrete_distances = sorted(discrete_distances.items(), key=lambda x: x[1])\n",
    "\n",
    "real_distances, discrete_distances"
   ],
   "metadata": {
    "collapsed": false,
    "ExecuteTime": {
     "end_time": "2024-02-26T11:08:16.478556Z",
     "start_time": "2024-02-26T11:08:16.475878Z"
    }
   },
   "id": "7bf14631889991bb",
   "execution_count": 20
  },
  {
   "cell_type": "code",
   "outputs": [
    {
     "data": {
      "text/plain": "([(2, 0.52094914466563),\n  (1, 0.5526528442556149),\n  (4, 0.5962765007337583),\n  (3, 1.272047451440534)],\n [(1, 4), (3, 5), (4, 5), (2, 7)])"
     },
     "execution_count": 21,
     "metadata": {},
     "output_type": "execute_result"
    }
   ],
   "source": [
    "sorted_real_distances, sorted_discrete_distances"
   ],
   "metadata": {
    "collapsed": false,
    "ExecuteTime": {
     "end_time": "2024-02-26T11:08:16.990729Z",
     "start_time": "2024-02-26T11:08:16.987599Z"
    }
   },
   "id": "d3ca4b6c7b68c88b",
   "execution_count": 21
  },
  {
   "cell_type": "code",
   "outputs": [
    {
     "name": "stdout",
     "output_type": "stream",
     "text": [
      "[1.37664634 0.79363993] [1 1 1 0 0 0 0 1 0 1]\n",
      "[1.40410968 1.31386467] [1 1 1 1 1 0 1 0 1 1]\n"
     ]
    }
   ],
   "source": [
    "# Unfeasible individual\n",
    "S_real = solution['real']\n",
    "S_discrete = solution['discrete']\n",
    "\n",
    "# Closest feasible individual\n",
    "R_real = population['real'][sorted_real_distances[0][0]]\n",
    "R_discrete = population['discrete'][sorted_discrete_distances[1][0]]\n",
    "\n",
    "print(S_real, S_discrete)\n",
    "print(R_real, R_discrete)"
   ],
   "metadata": {
    "collapsed": false,
    "ExecuteTime": {
     "end_time": "2024-02-26T11:08:41.842916Z",
     "start_time": "2024-02-26T11:08:41.838402Z"
    }
   },
   "id": "21268b558365ded0",
   "execution_count": 23
  },
  {
   "cell_type": "code",
   "outputs": [
    {
     "data": {
      "text/plain": "{'real': array([[1.37664634, 0.79363993],\n        [0.86513715, 1.00288503],\n        [1.40410968, 1.31386467],\n        [1.02793369, 2.01695682],\n        [1.75350679, 1.25572419]]),\n 'discrete': array([[1, 1, 1, 0, 0, 0, 0, 1, 0, 1],\n        [1, 0, 1, 0, 0, 0, 0, 0, 1, 0],\n        [1, 0, 0, 1, 1, 0, 1, 1, 1, 0],\n        [1, 1, 1, 1, 1, 0, 1, 0, 1, 1],\n        [0, 1, 0, 0, 1, 1, 0, 0, 0, 1]])}"
     },
     "execution_count": 24,
     "metadata": {},
     "output_type": "execute_result"
    }
   ],
   "source": [
    "population"
   ],
   "metadata": {
    "collapsed": false,
    "ExecuteTime": {
     "end_time": "2024-02-26T11:08:48.914068Z",
     "start_time": "2024-02-26T11:08:48.910858Z"
    }
   },
   "id": "cae713f6f75e8191",
   "execution_count": 24
  },
  {
   "cell_type": "code",
   "outputs": [
    {
     "data": {
      "text/plain": "{'real': [1.3831348838292448, 1.1933569246414921],\n 'discrete': [1, 1, 1, 1, 1, 0, 0, 1, 0, 1]}"
     },
     "execution_count": 25,
     "metadata": {},
     "output_type": "execute_result"
    }
   ],
   "source": [
    "while True:\n",
    "    X_real = []\n",
    "    for i in range(len(S_real)):\n",
    "        a = np.random.uniform(0, 1)\n",
    "        X_real.append(a * R_real[i] + (1 - a) * S_real[i])\n",
    "\n",
    "    X_discrete = []\n",
    "    for i in range(len(S_discrete)):\n",
    "        a = np.random.uniform(0, 1)\n",
    "        X_discrete.append(round(a * R_discrete[i] + (1 - a) * S_discrete[i]))\n",
    "\n",
    "    X = {'real': X_real, 'discrete': X_discrete}\n",
    "    break\n",
    "    \n",
    "X"
   ],
   "metadata": {
    "collapsed": false,
    "ExecuteTime": {
     "end_time": "2024-02-26T11:11:19.045031Z",
     "start_time": "2024-02-26T11:11:19.042733Z"
    }
   },
   "id": "8e4e5db44c8693a1",
   "execution_count": 25
  },
  {
   "cell_type": "code",
   "outputs": [],
   "source": [],
   "metadata": {
    "collapsed": false
   },
   "id": "c3b65dd368f93d3"
  }
 ],
 "metadata": {
  "kernelspec": {
   "display_name": "Python 3",
   "language": "python",
   "name": "python3"
  },
  "language_info": {
   "codemirror_mode": {
    "name": "ipython",
    "version": 2
   },
   "file_extension": ".py",
   "mimetype": "text/x-python",
   "name": "python",
   "nbconvert_exporter": "python",
   "pygments_lexer": "ipython2",
   "version": "2.7.6"
  }
 },
 "nbformat": 4,
 "nbformat_minor": 5
}
