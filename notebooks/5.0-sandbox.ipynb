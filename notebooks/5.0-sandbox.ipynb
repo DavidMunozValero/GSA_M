{
 "cells": [
  {
   "cell_type": "code",
   "execution_count": 24,
   "id": "initial_id",
   "metadata": {
    "collapsed": true,
    "ExecuteTime": {
     "end_time": "2024-02-24T14:49:56.379088Z",
     "start_time": "2024-02-24T14:49:56.376103Z"
    }
   },
   "outputs": [
    {
     "data": {
      "text/plain": "{'real': array([[0.80389676, 0.96901504],\n        [0.95022036, 0.95745933],\n        [0.60730915, 0.40841014],\n        [0.22208193, 0.85388181],\n        [0.04503244, 0.38320461]]),\n 'discrete': array([[1, 1, 1, 0, 1, 0, 0, 0, 1, 0],\n        [0, 1, 0, 0, 1, 1, 1, 1, 0, 0],\n        [1, 1, 0, 0, 0, 0, 0, 1, 1, 1],\n        [0, 0, 1, 0, 0, 0, 0, 1, 0, 0],\n        [0, 0, 0, 1, 0, 0, 1, 0, 0, 0]])}"
     },
     "execution_count": 24,
     "metadata": {},
     "output_type": "execute_result"
    }
   ],
   "source": [
    "import numpy as np\n",
    "\n",
    "n_pop = 5\n",
    "\n",
    "position = {\n",
    "    'real': np.random.random((n_pop, 2)),\n",
    "    'discrete': np.random.randint(0, 2, (n_pop, 10))\n",
    "}\n",
    "\n",
    "position"
   ]
  },
  {
   "cell_type": "code",
   "outputs": [
    {
     "data": {
      "text/plain": "{'real': array([[0.42118377, 0.31430248],\n        [0.9949226 , 0.34405285],\n        [0.28562985, 0.63693059],\n        [0.24125397, 0.6548394 ],\n        [0.94549682, 0.04441346]]),\n 'discrete': array([[0.50886033, 0.87257586, 0.00813413, 0.41862849, 0.64521178,\n         0.93631501, 0.47332873, 0.51659685, 0.72786412, 0.76794143],\n        [0.14780322, 0.4896269 , 0.28562236, 0.30352188, 0.85556248,\n         0.90931237, 0.07650191, 0.43191973, 0.2230937 , 0.05963002],\n        [0.33191079, 0.7626405 , 0.17509984, 0.9979051 , 0.55813086,\n         0.82288542, 0.4125818 , 0.83448365, 0.50706406, 0.98444392],\n        [0.00687358, 0.40094657, 0.04674475, 0.73897253, 0.86328881,\n         0.85244732, 0.79147597, 0.45567207, 0.26504509, 0.12503725],\n        [0.02279558, 0.27274987, 0.07806538, 0.24701914, 0.79450579,\n         0.12405033, 0.63493933, 0.34262695, 0.29732305, 0.37417977]])}"
     },
     "execution_count": 25,
     "metadata": {},
     "output_type": "execute_result"
    }
   ],
   "source": [
    "velocity = {\n",
    "    'real': np.random.random((n_pop, 2)),\n",
    "    'discrete': np.random.random((n_pop, 10))\n",
    "}\n",
    "\n",
    "velocity"
   ],
   "metadata": {
    "collapsed": false,
    "ExecuteTime": {
     "end_time": "2024-02-24T14:49:56.914171Z",
     "start_time": "2024-02-24T14:49:56.910200Z"
    }
   },
   "id": "4632196dcc9625e1",
   "execution_count": 25
  },
  {
   "cell_type": "code",
   "outputs": [
    {
     "data": {
      "text/plain": "{'real': array([[0.09442398, 0.36847105],\n        [0.52622235, 0.48744349],\n        [0.11167097, 0.44449076],\n        [0.88688058, 0.66617232],\n        [0.76093107, 0.18612448]]),\n 'discrete': array([[0.57387655, 0.11323885, 0.61588986, 0.15108681, 0.3784298 ,\n         0.5836094 , 0.77564968, 0.67085604, 0.34749666, 0.61338434],\n        [0.01309033, 0.62304118, 0.2229468 , 0.95377617, 0.93525135,\n         0.54913393, 0.54268843, 0.86953908, 0.27344981, 0.26529757],\n        [0.36470284, 0.18147649, 0.86177889, 0.21683837, 0.38170973,\n         0.13022276, 0.60896112, 0.70589159, 0.91627017, 0.88577495],\n        [0.21649992, 0.68115215, 0.19957821, 0.01588619, 0.34997716,\n         0.98157435, 0.20684896, 0.2960843 , 0.0574077 , 0.65933892],\n        [0.65316578, 0.781385  , 0.31760369, 0.6037686 , 0.52172086,\n         0.01454614, 0.9534864 , 0.1073126 , 0.56786949, 0.15859159]])}"
     },
     "execution_count": 26,
     "metadata": {},
     "output_type": "execute_result"
    }
   ],
   "source": [
    "acceleration = {\n",
    "    'real': np.random.random((n_pop, 2)),\n",
    "    'discrete': np.random.random((n_pop, 10))\n",
    "}\n",
    "\n",
    "acceleration"
   ],
   "metadata": {
    "collapsed": false,
    "ExecuteTime": {
     "end_time": "2024-02-24T14:49:57.463242Z",
     "start_time": "2024-02-24T14:49:57.461345Z"
    }
   },
   "id": "537ceb423d444a20",
   "execution_count": 26
  },
  {
   "cell_type": "code",
   "outputs": [
    {
     "data": {
      "text/plain": "({'real': array([[1.78526045, 3.47398353],\n         [5.05426952, 3.83011411],\n         [1.04264573, 3.91329369],\n         [4.17578747, 4.38712627],\n         [4.3262547 , 1.25293559]]),\n  'discrete': array([[0, 0, 1, 0, 0, 1, 1, 1, 1, 1],\n         [0, 0, 0, 1, 0, 0, 0, 0, 0, 0],\n         [1, 1, 0, 1, 1, 0, 1, 0, 0, 0],\n         [1, 1, 1, 0, 1, 1, 1, 1, 0, 1],\n         [0, 0, 1, 1, 1, 0, 0, 0, 0, 1]])},\n {'real': array([[0.21747046, 0.77860202],\n         [1.021918  , 0.960798  ],\n         [0.20297025, 1.36190702],\n         [1.6198341 , 1.20350255],\n         [1.50606889, 0.42315291]]),\n  'discrete': array([[0.80780507, 0.55899867, 0.62321016, 0.53726519, 0.52980547,\n          1.08458316, 1.10412687, 1.08508207, 0.43912239, 0.86900608],\n         [0.03785902, 0.73717322, 0.24950889, 1.20420059, 1.06713868,\n          0.95527223, 0.59312186, 1.1122137 , 0.29132266, 0.28216905],\n         [0.49467453, 0.40745042, 0.98060002, 1.11575685, 0.53191426,\n          0.48433099, 0.89565419, 1.11093606, 1.37011015, 1.78944666],\n         [0.22031657, 0.94648944, 0.24510606, 0.39135298, 0.71986334,\n          1.55658141, 0.82611195, 0.65124572, 0.21467254, 0.75672939],\n         [0.67538673, 0.78873834, 0.38092577, 0.63853477, 0.81491371,\n          0.11722133, 1.08435518, 0.18538148, 0.73892638, 0.45735026]])})"
     },
     "execution_count": 30,
     "metadata": {},
     "output_type": "execute_result"
    }
   ],
   "source": [
    "v_max = 6\n",
    "\n",
    "for i in range(n_pop):\n",
    "    # Update real vars\n",
    "    r1 = np.random.random(position['real'][i].shape)  # Generate random coefficients for velocity update\n",
    "    velocity['real'][i] = velocity['real'][i] * r1 + acceleration['real'][i]\n",
    "    position['real'][i] = position['real'][i] + velocity['real'][i]  # Update position\n",
    "    \n",
    "    # Update discrete vars\n",
    "    r2 = np.random.random(position['discrete'][i].shape)  # Generate random coefficients for velocity update\n",
    "    velocity['discrete'][i] = velocity['discrete'][i] * r2 + acceleration['discrete'][i]\n",
    "    velocity['discrete'][i] = np.clip(velocity['discrete'][i], a_min=None, a_max=v_max)  # Clip velocity to the maximum value\n",
    "\n",
    "    discrete_move_probs = np.abs(np.tanh(velocity['discrete'][i]))  # Apply tanh activation function\n",
    "    rand = np.random.rand(*discrete_move_probs.shape)\n",
    "\n",
    "    position['discrete'][i][rand < discrete_move_probs] = 1 - position['discrete'][i][rand < discrete_move_probs]\n",
    "    position['discrete'][i] = position['discrete'][i].astype(int)\n",
    "\n",
    "    if not np.any(position['discrete'][i]):\n",
    "        max_index = np.argmax(position['discrete'][i])\n",
    "        position['discrete'][i, max_index] = 1\n",
    "        \n",
    "    \n",
    "\n",
    "position, velocity"
   ],
   "metadata": {
    "collapsed": false,
    "ExecuteTime": {
     "end_time": "2024-02-24T14:50:49.474858Z",
     "start_time": "2024-02-24T14:50:49.469066Z"
    }
   },
   "id": "534d2cd48adbac1b",
   "execution_count": 30
  },
  {
   "cell_type": "code",
   "outputs": [],
   "source": [
    "# Discrete space\n",
    "r2 = np.random.random(position['discrete'].shape)  # Generate random coefficients for velocity update\n",
    "\n",
    "velocity['discrete'] = velocity['discrete'] * r2 + acceleration['discrete']\n",
    "\n",
    "velocity['discrete'] = np.clip(velocity['discrete'], a_min=None, a_max=v_max)  # Clip velocity to the maximum value\n",
    "\n",
    "discrete_move_probs = np.abs(np.tanh(velocity['discrete']))  # Apply tanh activation function\n",
    "rand = np.random.rand(*discrete_move_probs.shape)\n",
    "\n",
    "position['discrete'][rand < discrete_move_probs] = 1 - position['discrete'][rand < discrete_move_probs]\n",
    "position['discrete'] = position['discrete'].astype(int)\n",
    "\n",
    "for i in range(position['discrete'].shape[0]):\n",
    "    if not np.any(position['discrete'][i]):\n",
    "        max_index = np.argmax(position['discrete'][i])\n",
    "        position['discrete'][i, max_index] = 1\n",
    "        \n",
    "position, velocity"
   ],
   "metadata": {
    "collapsed": false
   },
   "id": "d6a3b610e16696b3"
  }
 ],
 "metadata": {
  "kernelspec": {
   "display_name": "Python 3",
   "language": "python",
   "name": "python3"
  },
  "language_info": {
   "codemirror_mode": {
    "name": "ipython",
    "version": 2
   },
   "file_extension": ".py",
   "mimetype": "text/x-python",
   "name": "python",
   "nbconvert_exporter": "python",
   "pygments_lexer": "ipython2",
   "version": "2.7.6"
  }
 },
 "nbformat": 4,
 "nbformat_minor": 5
}
